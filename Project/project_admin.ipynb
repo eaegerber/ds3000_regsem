{
 "cells": [
  {
   "cell_type": "markdown",
   "id": "6d1f1af1",
   "metadata": {},
   "source": [
    "# Project Admin File\n",
    "\n",
    "## Motivation\n",
    "\n",
    "Data Science is implicitly interdisciplinary.  Your role, as a technical expert, is often to load and analyze some dataset to report back to a larger team on some question of interest. This team, including you, will collectively make some decisions by fusing your presentation with their understanding of a problem. To effectively share what the data does (and does not) say about a question you will need the ability to influence two groups of people:\n",
    "\n",
    "* **Application Experts**: The people who know the problem best.  They often do not understand all the technical nuances of the analyses you have done and you must bring them to a sufficient understanding of what your analysis has (and has not) done.  To influence this group, make sure to:\n",
    "    - Explicitly and succinctly describe the conclusions of your analysis in layman’s terms\n",
    "    - Provide beautiful graphs which are easily understood\n",
    "    - Avoid even the appearance of an error (application experts rarely distinguish between a critical analysis error or a superficial mistake)\n",
    "* **Technical Experts**: People who understand the analysis techniques though may not understand the application itself.  They are prone to making assumptions that are not application-appropriate and are often poor judges of which questions are most worthwhile to answer.  To influence this group, make sure to:\n",
    "    - Explicitly and precisely document how your analysis technique prepares inputs and interprets outputs.  (They already know the technique, but its validity depends on these details)\n",
    "    -  Explicitly and succinctly state all assumptions required for the analysis to be valid\n",
    "    - Be more critical of your work than others are (and transparent with your concerns)"
   ]
  },
  {
   "cell_type": "markdown",
   "id": "b29cc653",
   "metadata": {},
   "source": [
    "## New Skills\n",
    "\n",
    "You will likely need to learn a few skills outside the curriculum. Unlike classwork where problems are constructed to reinforce a fixed set of skills, data science in practice follows a question of interest.  Success with a “real” problem will likely require that you learn a few skills or analysis techniques outside the scope of our curriculum.  The course staff will be happy to support your team on the adventure during office hours.  Please reach out early to make sure you’ve got the support you need."
   ]
  },
  {
   "cell_type": "markdown",
   "id": "06db6ed1",
   "metadata": {},
   "source": [
    "## Effective Teamwork\n",
    "\n",
    "Working effectively in a team is a skill.  To ensure your group is running efficiently, ensure that you’re communicating expectations of work to be done early and often.  Consider having different group members run down unique tasks and report back to the larger group.\n",
    "\n",
    "Example individual tasks might include:\n",
    "\n",
    "- Look into data validity of a particular issue in our dataset, what can we do about it?\n",
    "- See what other analysis techniques are available which do the same thing, is this the best one?\n",
    "- Read through our Jupyter notebook with your best “non-technical” hat on, does an application expert understand everything they’ll need to?\n",
    "\n",
    "Other tasks lend themselves to groups:\n",
    "\n",
    "- program in pairs on zoom.  In addition to being fun, having to talk out loud tends to make people more critical/insightful in their approach\n",
    "- practice presentations\n",
    "- talk out technical assumptions and discuss how to share problem points in the final report/presentation\n",
    "\n",
    "**note**: If you are concerned that the workload isn’t being shared equally, please contact your TA or professor as soon as possible.\n",
    "\n",
    "Our options for helping out are more limited as the semester goes on.  (Contacting the instructor need not be a dramatic occurrence, we’d love to meet with the whole team and do a quick “teamwork tune-up” if need be to keep things running smoothly.)"
   ]
  },
  {
   "cell_type": "markdown",
   "id": "3b0b6a63",
   "metadata": {},
   "source": [
    "## Supports\n",
    "\n",
    "Working on such an open-ended project can be challenging.  A quick check-in with the course staff might be just the thing to navigate the speed bumps and roadblocks that are sure to arise.\n",
    "\n",
    "Each group will be assigned a TA to serve as a guiding hand throughout the project. Having someone data science wisdom on call from somebody who has been following your group's project can be a big help.  Don't be shy about reaching out for a quick 20-minute meeting or sharing a roadblock your team is running into. You may also always reach out to schedule a meeting with Professor Gerber, or request he attend a meeting between your group and your TA.\n",
    "\n",
    "Some questions you will very likely have:\n",
    "\n",
    "- Will this particular approach work to make progress on this problem?\n",
    "- What can we do to make a more compelling project?  Our dataset and analysis seem too straightforward.\n",
    "- We’re stumped as to whether we violate this assumption required to use this machine learning method, can we talk this out?\n",
    "- Is there another algorithm that also does this (or another python library)?\n"
   ]
  },
  {
   "cell_type": "code",
   "execution_count": null,
   "id": "7f2fa8f6",
   "metadata": {},
   "outputs": [],
   "source": []
  }
 ],
 "metadata": {
  "kernelspec": {
   "display_name": "Python 3 (ipykernel)",
   "language": "python",
   "name": "python3"
  },
  "language_info": {
   "codemirror_mode": {
    "name": "ipython",
    "version": 3
   },
   "file_extension": ".py",
   "mimetype": "text/x-python",
   "name": "python",
   "nbconvert_exporter": "python",
   "pygments_lexer": "ipython3",
   "version": "3.11.5"
  }
 },
 "nbformat": 4,
 "nbformat_minor": 5
}
