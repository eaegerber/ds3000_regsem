{
 "cells": [
  {
   "cell_type": "markdown",
   "id": "fb0e44bd",
   "metadata": {},
   "source": [
    "# Car PCA"
   ]
  },
  {
   "cell_type": "code",
   "execution_count": null,
   "id": "da7c2711",
   "metadata": {},
   "outputs": [],
   "source": [
    "x_feat_list = ['mpg', 'cylinders', 'displacement', 'horsepower', 'weight', 'acceleration']\n",
    "df_car_x = df_car.loc[:,x_feat_list]"
   ]
  },
  {
   "cell_type": "code",
   "execution_count": null,
   "id": "1cbbeb08",
   "metadata": {},
   "outputs": [],
   "source": [
    "pca = PCA(whiten = True)\n",
    "y = pca.fit_transform(df_car_x.values)\n",
    "\n",
    "df_car['pca0'] = y[:, 0]\n",
    "df_car['pca1'] = y[:, 1]\n",
    "\n",
    "fig = px.scatter(df_car, x='pca0', y='pca1', hover_data=['origin', 'name'], color = 'model_year')\n",
    "fig.show()"
   ]
  },
  {
   "cell_type": "code",
   "execution_count": null,
   "id": "f5811bd0",
   "metadata": {},
   "outputs": [],
   "source": [
    "fig = px.scatter(df_car, x='pca0', y='pca1', hover_data=['model_year', 'name'], color = 'origin')\n",
    "fig.show()"
   ]
  },
  {
   "cell_type": "code",
   "execution_count": null,
   "id": "eaa21b93",
   "metadata": {},
   "outputs": [],
   "source": [
    "features = range(pca.n_components_)\n",
    "plt.bar(features, pca.explained_variance_ratio_, color='black')\n",
    "plt.xlabel('PCA features')\n",
    "plt.ylabel('variance %')\n",
    "plt.title('% Variance explained by PCA Features')\n",
    "plt.xticks(features);"
   ]
  },
  {
   "cell_type": "code",
   "execution_count": null,
   "id": "e3e6e3f6",
   "metadata": {},
   "outputs": [],
   "source": [
    "pca.explained_variance_ratio_.cumsum()"
   ]
  }
 ],
 "metadata": {
  "kernelspec": {
   "display_name": "Python 3 (ipykernel)",
   "language": "python",
   "name": "python3"
  },
  "language_info": {
   "codemirror_mode": {
    "name": "ipython",
    "version": 3
   },
   "file_extension": ".py",
   "mimetype": "text/x-python",
   "name": "python",
   "nbconvert_exporter": "python",
   "pygments_lexer": "ipython3",
   "version": "3.8.10"
  }
 },
 "nbformat": 4,
 "nbformat_minor": 5
}
