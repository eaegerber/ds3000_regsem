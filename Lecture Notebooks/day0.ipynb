{
 "cells": [
  {
   "cell_type": "markdown",
   "id": "306a9546",
   "metadata": {
    "slideshow": {
     "slide_type": "slide"
    }
   },
   "source": [
    "# DS 3000\n",
    "Day 0\n",
    "\n",
    "- motivating clear communication in DS\n",
    "- admin/syllabus\n",
    "- data collection/get to know you\n",
    "- jupyter\n",
    "    - markdown\n",
    "    - gotchas (when in doubt: restart & run all)\n",
    "    \n",
    "    \n",
    "- python lightening review (brush up on our skills & pick up a few new tricks)\n",
    "    - types (tuple, lists, dict, floats & ints, string)\n",
    "        - tuple unpacking\n",
    "        - list indexing\n",
    "        - string formatting & operations\n",
    "    - if statement & comparison operators\n",
    "    - iteration (for a while loops)\n",
    "        - iterating through dict\n",
    "    - functions\n",
    "        - default arguments\n",
    "        - multiple return values (or is it?) ... tuple unpacking"
   ]
  },
  {
   "cell_type": "markdown",
   "id": "a9719af0",
   "metadata": {
    "slideshow": {
     "slide_type": "slide"
    }
   },
   "source": [
    "# Motivating Clear Communication in DS\n",
    "\n",
    "Let's do a little preliminary data collection with a point."
   ]
  },
  {
   "cell_type": "markdown",
   "id": "de40d44c",
   "metadata": {
    "slideshow": {
     "slide_type": "slide"
    }
   },
   "source": [
    "# Admin/Syllabus\n",
    "\n",
    "Take a look at the course Canvas page ([1:35 pm class](https://northeastern.instructure.com/courses/119304)) ([3:25 pm class](https://northeastern.instructure.com/courses/119299)) together.\n",
    "\n",
    "Be sure to mention:\n",
    "- Labs are graded on completion/effort not correctness and are due @ the end of each class we have them\n",
    "    * You'll do a very quick Lab 1 **Today!**\n",
    "- First homework will be assigned by the start of next class\n",
    "- Sometime in the next two weeks, be sure to stop by office hours\n",
    "- Our first visitor is scheduled for Sep. 23, a Senior Research Data Scientist at Meta\n",
    "    "
   ]
  },
  {
   "cell_type": "markdown",
   "id": "07643c1e",
   "metadata": {
    "slideshow": {
     "slide_type": "slide"
    }
   },
   "source": [
    "# An Example of Data Collection/Getting to Know You\n",
    "\n",
    "Please fill out this [Google Form](https://forms.gle/wCJDVij1u1kxmjVr9) (the link is also on Canvas) as a way of providing me some information about yourself (and to provide us with a data set we can use for some examples going forward!). We'll have another instance later in the class where you can share something about yourself with your classmates.\n",
    "\n",
    "**Notes** \n",
    "\n",
    "- when we use the data set later, all names/identifiers will be removed, but if you are uncomfortable providing any of the information, you may leave your response blank.\n",
    "- this will count as your attendance point for today (we will use Qwickly for the first time next week)\n"
   ]
  },
  {
   "cell_type": "markdown",
   "id": "bb2d5535",
   "metadata": {
    "slideshow": {
     "slide_type": "slide"
    }
   },
   "source": [
    "# Jupyter Notebooks\n",
    "\n",
    "Jupyter contains two cell (in these blue / green rectangles) types:\n",
    "- markdown\n",
    "    - markdown is a simple text/document formatting language\n",
    "- python cells\n",
    "    - a python interpreter is running in the background with all python variables / functions etc\n",
    "    \n",
    "By merging both, Jupyter provides a 'living' document which includes:\n",
    "- results of analysis\n",
    "- method of how analysis was done (the code)\n",
    "- the ability to easily modify a few things and poke around or modify an analysis\n"
   ]
  },
  {
   "cell_type": "markdown",
   "id": "de2e7347",
   "metadata": {},
   "source": [
    "    \n",
    "# Installing Jupyter Notebook  \n",
    "  \n",
    "In the terminal type:\n",
    "\n",
    "`pip install notebook`\n",
    "\n",
    "Then to run Jupyter Notebook in the browser, type in the terminal:\n",
    "\n",
    "`jupyter notebook`\n",
    "\n",
    "**Note**: make sure the notebook file `.ipynb` is in the appropriate folder."
   ]
  },
  {
   "cell_type": "markdown",
   "id": "c2f17ab9",
   "metadata": {
    "slideshow": {
     "slide_type": "slide"
    }
   },
   "source": [
    "# Navigating Jupyter\n",
    "\n",
    "- selecting a cell\n",
    "- changing cell type\n",
    "- running a cell\n",
    "    - for markdown cell: renders text\n",
    "    - for python cell: runs the code\n",
    "- add a cell\n",
    "- remove a cell\n"
   ]
  },
  {
   "cell_type": "markdown",
   "id": "48139665",
   "metadata": {
    "slideshow": {
     "slide_type": "slide"
    }
   },
   "source": [
    "# The Jupyter-Python Gotcha\n",
    "\n",
    "The state of variables and functions may depend on previous cells which have been modified or deleted:"
   ]
  },
  {
   "cell_type": "code",
   "execution_count": 1,
   "id": "5fe04ef1",
   "metadata": {},
   "outputs": [],
   "source": [
    "def scale_it(x):\n",
    "    return 4 * x"
   ]
  },
  {
   "cell_type": "markdown",
   "id": "92d59c5d",
   "metadata": {},
   "source": [
    "# note"
   ]
  },
  {
   "cell_type": "code",
   "execution_count": 2,
   "id": "fced9d58",
   "metadata": {},
   "outputs": [
    {
     "data": {
      "text/plain": [
       "20"
      ]
     },
     "execution_count": 2,
     "metadata": {},
     "output_type": "execute_result"
    }
   ],
   "source": [
    "scale_it(5)"
   ]
  },
  {
   "cell_type": "markdown",
   "id": "bed953f7",
   "metadata": {
    "slideshow": {
     "slide_type": "-"
    }
   },
   "source": [
    "This can be problematic as `.ipynb` are saved with the outputs of each cell!\n",
    "\n",
    "Mitigate the issue by:\n",
    "- observing the index (idx) in `In [idx]` and `Out [idx]`\n",
    "\n",
    "Best practice:\n",
    "\n",
    "- Give a fresh `Kernel>Restart & Run All`\n",
    "    - before sharing\n",
    "    - when debugging\n",
    "\n",
    "**Note**: this is required of all your submissions for this class\n"
   ]
  },
  {
   "cell_type": "markdown",
   "id": "823ce296",
   "metadata": {
    "slideshow": {
     "slide_type": "slide"
    }
   },
   "source": [
    "# Jupyter Output"
   ]
  },
  {
   "cell_type": "code",
   "execution_count": 3,
   "id": "4e31e791",
   "metadata": {},
   "outputs": [],
   "source": [
    "# by default jupyter echos the result of the final line's evaluation\n",
    "x = 3\n",
    "y = x + 5"
   ]
  },
  {
   "cell_type": "code",
   "execution_count": 4,
   "id": "6602d094",
   "metadata": {},
   "outputs": [],
   "source": [
    "# you can suppress it with ;\n",
    "x+ 10;"
   ]
  },
  {
   "cell_type": "code",
   "execution_count": 5,
   "id": "c5f450b7",
   "metadata": {},
   "outputs": [
    {
     "name": "stdout",
     "output_type": "stream",
     "text": [
      "hey, does this work?\n",
      "how about this?\n"
     ]
    }
   ],
   "source": [
    "# jupyter reproduces anything printed to the command line\n",
    "print('hey, does this work?')\n",
    "print('how about this?');"
   ]
  },
  {
   "cell_type": "markdown",
   "id": "063b0236",
   "metadata": {
    "slideshow": {
     "slide_type": "slide"
    }
   },
   "source": [
    "# Markdown Rundown\n",
    "\n",
    "Outside of class, spend 5-10 minutes with [this markdown guide](https://www.markdownguide.org/basic-syntax/)"
   ]
  },
  {
   "cell_type": "markdown",
   "id": "ae973308",
   "metadata": {
    "slideshow": {
     "slide_type": "-"
    }
   },
   "source": [
    "# Headings\n",
    "\n",
    "more #'s yields smaller headings\n",
    "\n",
    "# one #\n",
    "## two #\n",
    "### three #"
   ]
  },
  {
   "cell_type": "markdown",
   "id": "7f48a820",
   "metadata": {
    "slideshow": {
     "slide_type": "-"
    }
   },
   "source": [
    "## Lists\n",
    "\n",
    "here is a list of things I love:\n",
    "- baseball\n",
    "- python\n",
    "- open source software"
   ]
  },
  {
   "cell_type": "markdown",
   "id": "4d3e3655",
   "metadata": {
    "slideshow": {
     "slide_type": "-"
    }
   },
   "source": [
    "## Links\n",
    "you can link to website, like [this one](https://github.com/adam-p/markdown-here/wiki/Markdown-Cheatsheet) which contains a more complete markdown reference (and was used to generate this quick markdown guide, many examples taken from them)"
   ]
  },
  {
   "cell_type": "markdown",
   "id": "533543b6",
   "metadata": {},
   "source": [
    "## Images\n",
    "\n",
    "![alt text](http://dangerouslyirrelevant.org/wp-content/uploads/2016/03/2015-Gallup-Student-Poll-1-3.jpg \"Logo Title Text 1\")"
   ]
  },
  {
   "cell_type": "markdown",
   "id": "4c7e4dce",
   "metadata": {},
   "source": [
    "## Tables\n",
    "\n",
    "| Car Repair                         | Cost ($) | Prob | Salted Roads? |\n",
    "|------------------------------------|----------|------|---------------|\n",
    "| None                               | 0        | .9   | No            |\n",
    "| Oxygen sensor replacement          | 250      | .01  | No                    |\n",
    "| Under car rust repair              | 1000     | .02  | Yes           |\n",
    "| Timing Belt Replacement            | 750      | .03  | No            |\n",
    "| Fuel cap replacement or tightening | 25       | .03  | No            |\n",
    "| rusted muffler repair              | 250      | .01  | Yes           |\n",
    "\n",
    "Tables can be tough to generate by hand, go ahead and use a [table generator](https://www.tablesgenerator.com/markdown_tables) online to save yourself some time."
   ]
  },
  {
   "cell_type": "markdown",
   "id": "157835b1",
   "metadata": {},
   "source": [
    "## Block quote\n",
    "    \n",
    "    This is a blockquote\n",
    "    \n",
    "## Python code for display (not for running)  \n",
    "  \n",
    "\n",
    "```python\n",
    "import numpy as np\n",
    "rng = np.random.default_rng(seed=0)\n",
    "```"
   ]
  },
  {
   "cell_type": "markdown",
   "id": "2c684776",
   "metadata": {},
   "source": [
    "## Latex Math\n",
    "\n",
    "$$ \\sum_{i=0}^n a_i = \\frac{a_0 + a_n}{2} (n + 1) $$"
   ]
  },
  {
   "cell_type": "markdown",
   "id": "62fac588",
   "metadata": {
    "slideshow": {
     "slide_type": "slide"
    }
   },
   "source": [
    "# Lab 1 (Due @ the end of class via Canvas)\n",
    "\n",
    "Introduce yourself to your neighbors by writing a quick markdown biography of yourself in a Jupyter notebook.  Be sure to use:\n",
    "- 2 different heading levels\n",
    "- a list\n",
    "- a link to some website\n",
    "- an image\n",
    "    - avoid pictures of yourself please\n",
    "    - link to something available online, see example above\n",
    "\n",
    "You're welcome to be funny, this is really an excuse to get warmed up with jupyter and markdown and meet each other.  \n",
    "\n",
    "When you're done, swap laptops with a classmate who will add their own silly positive review, praising and encouraging whatever you've shared.\n",
    "\n",
    "Please be mindful:\n",
    "- everything you share should make all classmates feel safe and welcome\n",
    "- your response should be positive, take the moment to make somebody else smile and feel good :)"
   ]
  },
  {
   "cell_type": "markdown",
   "id": "f56cda82",
   "metadata": {
    "slideshow": {
     "slide_type": "slide"
    }
   },
   "source": [
    "# Python lightening review\n",
    "\n",
    "- brush up our skills \n",
    "- pick up a few new tricks\n",
    "\n",
    "This is not intended to be an introduction to these topics, but a quick refresher.  If you want a more complete set of DS3000 relevant review topics, see `py_review.ipynb` on the course Canvas site.\n",
    "\n",
    "Also note:\n",
    "- this review will be quicker paced than we go over new material\n",
    "- please interrupt me (raise your hand or just speak up!), questionsmake class much more fun and tailored to your needs"
   ]
  },
  {
   "cell_type": "markdown",
   "id": "93cd45bf",
   "metadata": {
    "slideshow": {
     "slide_type": "slide"
    }
   },
   "source": [
    "# Types\n",
    "- ints / floats\n",
    "- tuple\n",
    "    - an immutable sequence of objects\n",
    "- list\n",
    "    - a mutable sequence of objects\n",
    "    - sorting\n",
    "- dict\n",
    "    - a mutable mapping between objects\n",
    "- strings\n",
    "    - python has a great library of methods for strings"
   ]
  },
  {
   "cell_type": "markdown",
   "id": "dd2384e8",
   "metadata": {
    "slideshow": {
     "slide_type": "slide"
    }
   },
   "source": [
    "## Tuples"
   ]
  },
  {
   "cell_type": "code",
   "execution_count": 6,
   "id": "261336d9",
   "metadata": {},
   "outputs": [
    {
     "data": {
      "text/plain": [
       "1"
      ]
     },
     "execution_count": 6,
     "metadata": {},
     "output_type": "execute_result"
    }
   ],
   "source": [
    "# objects needn't be the same type\n",
    "my_tuple = 1, 2, 3, 'six'\n",
    "\n",
    "# you can use parenthases if you want\n",
    "my_tuple = (1, 2, 3, 'six')\n",
    "\n",
    "my_tuple[0]"
   ]
  },
  {
   "cell_type": "code",
   "execution_count": 7,
   "id": "3b8448e7",
   "metadata": {
    "scrolled": true
   },
   "outputs": [
    {
     "ename": "TypeError",
     "evalue": "'tuple' object does not support item assignment",
     "output_type": "error",
     "traceback": [
      "\u001b[0;31m---------------------------------------------------------------------------\u001b[0m",
      "\u001b[0;31mTypeError\u001b[0m                                 Traceback (most recent call last)",
      "Input \u001b[0;32mIn [7]\u001b[0m, in \u001b[0;36m<cell line: 2>\u001b[0;34m()\u001b[0m\n\u001b[1;32m      1\u001b[0m \u001b[38;5;66;03m# tuple's are immutable, we can't change the items inside them\u001b[39;00m\n\u001b[0;32m----> 2\u001b[0m \u001b[43mmy_tuple\u001b[49m\u001b[43m[\u001b[49m\u001b[38;5;241;43m0\u001b[39;49m\u001b[43m]\u001b[49m \u001b[38;5;241m=\u001b[39m \u001b[38;5;124m'\u001b[39m\u001b[38;5;124msome new object\u001b[39m\u001b[38;5;124m'\u001b[39m\n",
      "\u001b[0;31mTypeError\u001b[0m: 'tuple' object does not support item assignment"
     ]
    }
   ],
   "source": [
    "# tuple's are immutable, we can't change the items inside them\n",
    "my_tuple[0] = 'some new object'"
   ]
  },
  {
   "cell_type": "markdown",
   "id": "7bf7b4b2",
   "metadata": {
    "slideshow": {
     "slide_type": "slide"
    }
   },
   "source": [
    "## Lists"
   ]
  },
  {
   "cell_type": "code",
   "execution_count": null,
   "id": "a05e0d38",
   "metadata": {},
   "outputs": [],
   "source": [
    "# cast my_tuple into a new list object\n",
    "my_list = list(my_tuple)\n",
    "\n",
    "# lists are mutable (may be changed)\n",
    "my_list = [3, 1, 4, 1, 5, 9]\n",
    "\n",
    "# index of first two items\n",
    "my_list[-2:]"
   ]
  },
  {
   "cell_type": "code",
   "execution_count": null,
   "id": "82e5d27b",
   "metadata": {},
   "outputs": [],
   "source": [
    "# you can use negative indexing to count backwards from end\n",
    "my_list[-1] = 'a'\n",
    "my_list"
   ]
  },
  {
   "cell_type": "code",
   "execution_count": null,
   "id": "54c6d164",
   "metadata": {},
   "outputs": [],
   "source": [
    "# you can sort a list\n",
    "my_list = [3, 1, 4, 1, 5, 9]\n",
    "sorted(my_list)"
   ]
  },
  {
   "cell_type": "code",
   "execution_count": null,
   "id": "28dfd59d",
   "metadata": {},
   "outputs": [],
   "source": [
    "# you can sort a list (backwards)\n",
    "sorted(my_list, reverse=True)"
   ]
  },
  {
   "cell_type": "code",
   "execution_count": null,
   "id": "adad7c6d",
   "metadata": {},
   "outputs": [],
   "source": [
    "# add an item\n",
    "my_list.append('dont forget me')\n",
    "my_list"
   ]
  },
  {
   "cell_type": "markdown",
   "id": "8fbdb907",
   "metadata": {
    "slideshow": {
     "slide_type": "slide"
    }
   },
   "source": [
    "## Dictionaries\n",
    "\n",
    "A real life dictionary assigns a definition (value) to every word (key).\n",
    "\n",
    "Python dictionaries assign a (not necessarily unique) value to every key.  \n",
    "(and they're not sorted like real dictionaries!)"
   ]
  },
  {
   "cell_type": "code",
   "execution_count": null,
   "id": "f777d638",
   "metadata": {},
   "outputs": [],
   "source": [
    "# stores favorite numbers of some people\n",
    "# keys are 'eric', 'qi', ...\n",
    "# values are 17, 7, 3, 1\n",
    "favorite_number_dict = {'eric':  17, 'qi': 7, 'lynne': 3, 'tamrat': 1}\n",
    "favorite_number_dict"
   ]
  },
  {
   "cell_type": "code",
   "execution_count": null,
   "id": "2187c1c5",
   "metadata": {},
   "outputs": [],
   "source": [
    "# what's tamrat's favorite number?\n",
    "favorite_number_dict['tamrat']"
   ]
  },
  {
   "cell_type": "code",
   "execution_count": null,
   "id": "c6de9988",
   "metadata": {},
   "outputs": [],
   "source": [
    "# keys\n",
    "'a' == ('a', 'b', 'c')"
   ]
  },
  {
   "cell_type": "code",
   "execution_count": null,
   "id": "6ee194da",
   "metadata": {},
   "outputs": [],
   "source": [
    "# keys must be immutable\n",
    "some_dict_wont_work = {('a', 'b', 'c'): 123}"
   ]
  },
  {
   "cell_type": "code",
   "execution_count": null,
   "id": "ff05c9d9",
   "metadata": {},
   "outputs": [],
   "source": [
    "some_dict_wont_work[('a', 'b', 'c')]"
   ]
  },
  {
   "cell_type": "code",
   "execution_count": null,
   "id": "18298d37",
   "metadata": {},
   "outputs": [],
   "source": [
    "# notice that each key has a unique value.  \n",
    "# some values may be repeated among keys.  \n",
    "\n",
    "# we shouldn't store the numbers as keys and values as names\n",
    "#(remember the surjective-injective requires w/ inverse existence from CS1800?)\n",
    "problematic_fav_number_dict = {17: 'eric', 7: 'qi', 3: 'lynne', 1 :'tamrat'}\n",
    "problematic_fav_number_dict"
   ]
  },
  {
   "cell_type": "markdown",
   "id": "91f436e3",
   "metadata": {
    "slideshow": {
     "slide_type": "slide"
    }
   },
   "source": [
    "# Strings\n",
    "\n",
    "Python has awesome [string manipulation methods](https://docs.python.org/3/library/stdtypes.html#string-methods), we'll highlight a few useful ones here.  Worth a few minutes to famliarize yourself with the link.\n",
    "\n",
    "(tip: handling file paths?  use [pathlib](https://docs.python.org/3/library/pathlib.html) instead of treating them as strings)"
   ]
  },
  {
   "cell_type": "code",
   "execution_count": null,
   "id": "c5d3502a",
   "metadata": {},
   "outputs": [],
   "source": [
    "# string formatting (putting data into a string)\n",
    "# see https://docs.python.org/3/library/string.html#formatspec for other ways to format besides .2f below\n",
    "name = 'eric'\n",
    "fav_num = 17\n",
    "greeting_str = f'hi {name}, I heard your favorite number is about {fav_num:.1f}'\n",
    "\n",
    "print(greeting_str)"
   ]
  },
  {
   "cell_type": "code",
   "execution_count": null,
   "id": "c0df247d",
   "metadata": {},
   "outputs": [],
   "source": [
    "some_string = 'hello python world!'"
   ]
  },
  {
   "cell_type": "code",
   "execution_count": null,
   "id": "7b9632ea",
   "metadata": {},
   "outputs": [],
   "source": [
    "# replaces all occurances of one string with another\n",
    "some_string.replace('python', 'ds3000')"
   ]
  },
  {
   "cell_type": "code",
   "execution_count": null,
   "id": "e6ff35b3",
   "metadata": {},
   "outputs": [],
   "source": [
    "# splits a string on all occurances of 'o'\n",
    "some_string.split('o')"
   ]
  },
  {
   "cell_type": "code",
   "execution_count": null,
   "id": "229d9945",
   "metadata": {},
   "outputs": [],
   "source": [
    "# joins a list of strings together with \n",
    "url = 'https://www.some-website.com/this-section/this-subsection/file_<useful-thing>_gibberish-here-too.html'\n",
    "url.split('/')"
   ]
  },
  {
   "cell_type": "code",
   "execution_count": null,
   "id": "fb3e1e4e",
   "metadata": {},
   "outputs": [],
   "source": [
    "url.split('/')[5]"
   ]
  },
  {
   "cell_type": "code",
   "execution_count": null,
   "id": "a31e16d8",
   "metadata": {},
   "outputs": [],
   "source": [
    "# pull out the \"useful thing\" from the url\n",
    "# assumes \n",
    "# 1st '_' is to immediate left \"useful thing\" \n",
    "# 2nd '_' is to immediate right of \"useful thing\"\n",
    "s_useful_thing = url.split('/')[5].split('_')[1]\n",
    "s_useful_thing"
   ]
  },
  {
   "cell_type": "markdown",
   "id": "4aaadf35",
   "metadata": {
    "slideshow": {
     "slide_type": "slide"
    }
   },
   "source": [
    "# Control Flow (If statements)"
   ]
  },
  {
   "cell_type": "code",
   "execution_count": null,
   "id": "25673f31",
   "metadata": {},
   "outputs": [],
   "source": [
    "x = 3\n",
    "if x > 10:\n",
    "    print('x is smaller than 10')\n",
    "else:\n",
    "    print('x is not smaller than 10')"
   ]
  },
  {
   "cell_type": "markdown",
   "id": "0931647c",
   "metadata": {
    "slideshow": {
     "slide_type": "slide"
    }
   },
   "source": [
    "# Iteration (loops)"
   ]
  },
  {
   "cell_type": "code",
   "execution_count": null,
   "id": "be2876a3",
   "metadata": {},
   "outputs": [],
   "source": [
    "# looping by index\n",
    "for idx in range(5):\n",
    "    print(idx)"
   ]
  },
  {
   "cell_type": "code",
   "execution_count": null,
   "id": "1d29c834",
   "metadata": {},
   "outputs": [],
   "source": [
    "# break: you can stop a loop early if you want\n",
    "for idx in range(5):\n",
    "    print(idx)\n",
    "    if idx > 2:\n",
    "        # break immediately stops this iteration and\n",
    "        # leaves the loop\n",
    "        break"
   ]
  },
  {
   "cell_type": "code",
   "execution_count": null,
   "id": "86320ede",
   "metadata": {},
   "outputs": [],
   "source": [
    "# continue: skip a particular iteration\n",
    "for idx in range(5):\n",
    "    if idx == 2:\n",
    "        # continue statement ends this iteration of loop\n",
    "        # unlike break, it continues to loop (3, 4 printed below too!)\n",
    "        continue\n",
    "    print(idx)"
   ]
  },
  {
   "cell_type": "code",
   "execution_count": null,
   "id": "deb1e466",
   "metadata": {},
   "outputs": [],
   "source": [
    "# looping over lists\n",
    "month_list = ['jan', 'feb', 'mar', 'apr', 'may']\n",
    "for month in month_list:\n",
    "    print(month)"
   ]
  },
  {
   "cell_type": "code",
   "execution_count": null,
   "id": "ae4a72a9",
   "metadata": {},
   "outputs": [],
   "source": [
    "# looping over tuples\n",
    "month_tuple = 'jan', 'feb', 'mar', 'apr', 'may'\n",
    "for month in month_tuple:\n",
    "    print(month)"
   ]
  },
  {
   "cell_type": "code",
   "execution_count": null,
   "id": "9d74eeda",
   "metadata": {},
   "outputs": [],
   "source": [
    "# looping over (key, value) pairs of dictionary\n",
    "fav_num_dict = {'eric': 17, 'qi': 7, 'tamrat': 1, 'lynne': 3}\n",
    "for name, fav_num in fav_num_dict.items():\n",
    "    print(f\"{name}'s favorite number is {fav_num}\")"
   ]
  },
  {
   "cell_type": "code",
   "execution_count": null,
   "id": "424567be",
   "metadata": {},
   "outputs": [],
   "source": [
    "# looping over just the keys\n",
    "fav_num_dict = {'eric': 17, 'qi': 7, 'tamrat': 1, 'lynn': 3}\n",
    "for name in fav_num_dict.keys():\n",
    "    print(name)"
   ]
  },
  {
   "cell_type": "code",
   "execution_count": null,
   "id": "60f8c342",
   "metadata": {},
   "outputs": [],
   "source": [
    "# looping over just the values\n",
    "fav_num_dict = {'eric': 17, 'qi': 7, 'tamrat': 1, 'lynne': 3}\n",
    "for fav_num in fav_num_dict.values():\n",
    "    print(fav_num)"
   ]
  },
  {
   "cell_type": "markdown",
   "id": "8e75c94b",
   "metadata": {
    "slideshow": {
     "slide_type": "slide"
    }
   },
   "source": [
    "# Functions"
   ]
  },
  {
   "cell_type": "code",
   "execution_count": null,
   "id": "78b6aa02",
   "metadata": {},
   "outputs": [],
   "source": [
    "def double_it(x):\n",
    "    \"\"\" double the value of x \n",
    "    \n",
    "    Args:\n",
    "        x (float): some input\n",
    "        \n",
    "    Returns:\n",
    "        out (float): twice the output\n",
    "    \"\"\"\n",
    "    return x * 2"
   ]
  },
  {
   "cell_type": "code",
   "execution_count": null,
   "id": "10f882cd",
   "metadata": {},
   "outputs": [],
   "source": [
    "double_it(2)"
   ]
  },
  {
   "cell_type": "code",
   "execution_count": null,
   "id": "7e60c63a",
   "metadata": {
    "slideshow": {
     "slide_type": "slide"
    }
   },
   "outputs": [],
   "source": [
    "def apply_exponent(x, exp=3):\n",
    "    \"\"\" double the value of x \n",
    "    \n",
    "    Args:\n",
    "        x (float): some input\n",
    "        exp (float): exponent (default=3)\n",
    "        \n",
    "    Returns:\n",
    "        out (float): x to the power exp\n",
    "    \"\"\"\n",
    "    return x ** exp"
   ]
  },
  {
   "cell_type": "code",
   "execution_count": null,
   "id": "ffd9a731",
   "metadata": {},
   "outputs": [],
   "source": [
    "# rely on default exp=3\n",
    "apply_exponent(2)"
   ]
  },
  {
   "cell_type": "code",
   "execution_count": null,
   "id": "eb7b0c0f",
   "metadata": {},
   "outputs": [],
   "source": [
    "# explicitly pass another exponent\n",
    "# input arguments (2, 10) are assigned to variables (x, exp)\n",
    "# by position\n",
    "apply_exponent(2, 10)"
   ]
  },
  {
   "cell_type": "code",
   "execution_count": null,
   "id": "84473898",
   "metadata": {},
   "outputs": [],
   "source": [
    "# We can pass by name too\n",
    "apply_exponent(x=2, exp=5)"
   ]
  },
  {
   "cell_type": "code",
   "execution_count": null,
   "id": "8d9df1cc",
   "metadata": {},
   "outputs": [],
   "source": [
    "# this is helpful since we needn't worry about the order or args in the fxn definition\n",
    "# (super helpful with many function inputs, can be confusing to remember order of 5+ items!)\n",
    "apply_exponent(exp=5, x=2)"
   ]
  },
  {
   "cell_type": "code",
   "execution_count": null,
   "id": "1c245a66",
   "metadata": {
    "slideshow": {
     "slide_type": "slide"
    }
   },
   "outputs": [],
   "source": [
    "# functions can return multiple values\n",
    "def nonsense_fxn(some_list, some_int, some_float):\n",
    "    \"\"\" a nonsense function\n",
    "    \n",
    "    Args:\n",
    "        some_list (list): a list\n",
    "        some_int (int): integer\n",
    "        some_float (float): float\n",
    "        \n",
    "    Returns:\n",
    "        list_truncate (list): some_list, truncated to first some_int\n",
    "            items\n",
    "        float_scaled (float): some_float, multiplied by some_int\n",
    "    \"\"\"\n",
    "    # truncate list\n",
    "    list_truncate = some_list[:some_int]\n",
    "    \n",
    "    # scale float\n",
    "    float_scaled = some_float * some_int\n",
    "    \n",
    "    return list_truncate, float_scaled"
   ]
  },
  {
   "cell_type": "code",
   "execution_count": null,
   "id": "27583771",
   "metadata": {},
   "outputs": [],
   "source": [
    "some_list = ['a', 'b', 'c', 'd', 'e']\n",
    "some_int = 3\n",
    "some_float = 3.14159\n",
    "\n",
    "lt_output, fs_output = nonsense_fxn(some_list, some_int, some_float)\n",
    "\n",
    "lt_output"
   ]
  },
  {
   "cell_type": "code",
   "execution_count": null,
   "id": "27a48e8b",
   "metadata": {},
   "outputs": [],
   "source": [
    "fs_output"
   ]
  },
  {
   "cell_type": "code",
   "execution_count": null,
   "id": "ecb42ba6",
   "metadata": {},
   "outputs": [],
   "source": [
    "# whats going on under the hood:\n",
    "# function returns a tuple\n",
    "tuple_out = nonsense_fxn(some_list, some_int, some_float)\n",
    "\n",
    "# tuple is being unpacked into its elements\n",
    "lt_output, fs_output = tuple_out\n",
    "\n",
    "tuple_out"
   ]
  }
 ],
 "metadata": {
  "celltoolbar": "Slideshow",
  "kernelspec": {
   "display_name": "Python 3 (ipykernel)",
   "language": "python",
   "name": "python3"
  },
  "language_info": {
   "codemirror_mode": {
    "name": "ipython",
    "version": 3
   },
   "file_extension": ".py",
   "mimetype": "text/x-python",
   "name": "python",
   "nbconvert_exporter": "python",
   "pygments_lexer": "ipython3",
   "version": "3.8.10"
  }
 },
 "nbformat": 4,
 "nbformat_minor": 5
}
