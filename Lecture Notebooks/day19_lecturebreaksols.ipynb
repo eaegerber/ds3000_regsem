{
 "cells": [
  {
   "cell_type": "markdown",
   "id": "863ca993",
   "metadata": {},
   "source": [
    "# Hank Aaron Polynomial Regression"
   ]
  },
  {
   "cell_type": "code",
   "execution_count": null,
   "id": "651e774c",
   "metadata": {},
   "outputs": [],
   "source": [
    "x = df_aaron['age'].values.reshape((-1,1))\n",
    "y = df_aaron['HRR']\n",
    "\n",
    "# estimate cv r2 per degree of polynomial\n",
    "r2_per_degree = list()\n",
    "for degree in range(11):\n",
    "    r2 = cross_val_r2(x, y, degree, n_splits = 23)\n",
    "    r2_per_degree.append(r2)\n",
    "    \n",
    "r2_per_degree = np.maximum(np.array(r2_per_degree), 0)\n",
    "\n",
    "plt.plot(r2_per_degree)\n",
    "plt.xlabel('degree')\n",
    "plt.ylabel(f'$R^2$')\n",
    "\n",
    "plt.figure()\n",
    "degree_best = np.argmax(r2_per_degree)\n",
    "fit_plot_poly(x, y, degree_best)"
   ]
  },
  {
   "cell_type": "code",
   "execution_count": null,
   "id": "ae376316",
   "metadata": {},
   "outputs": [],
   "source": [
    "# project x to polynomial (degree 4 seems best from above)\n",
    "poly_project = PolynomialFeatures(degree=4)\n",
    "x_poly = poly_project.fit_transform(x)\n",
    "    \n",
    "# fit via linear regression\n",
    "reg = LinearRegression(fit_intercept=False)\n",
    "reg.fit(x_poly, y)\n",
    "\n",
    "y_pred = reg.predict(x_poly)\n",
    "\n",
    "errors = y - y_pred\n",
    "\n",
    "#independence\n",
    "plt.scatter(x = range(len(y)), y = errors)\n",
    "plt.xlabel('index')\n",
    "plt.ylabel('errors');"
   ]
  },
  {
   "cell_type": "code",
   "execution_count": null,
   "id": "5ae8f20a",
   "metadata": {},
   "outputs": [],
   "source": [
    "#constant variance\n",
    "plt.scatter(x = x, y = errors)\n",
    "plt.xlabel('age')\n",
    "plt.ylabel('errors');"
   ]
  },
  {
   "cell_type": "code",
   "execution_count": null,
   "id": "5b5609f7",
   "metadata": {},
   "outputs": [],
   "source": [
    "#normality\n",
    "stats.probplot(errors, dist=\"norm\", plot=py)\n",
    "py.show()"
   ]
  },
  {
   "cell_type": "markdown",
   "id": "8971703a",
   "metadata": {},
   "source": [
    "# Get to Know You K-Means"
   ]
  },
  {
   "cell_type": "code",
   "execution_count": null,
   "id": "438af26f",
   "metadata": {},
   "outputs": [],
   "source": [
    "from copy import copy\n",
    "\n",
    "x_feat_list0 = ['prog_exp', 'age', 'start_sal']\n",
    "df_gtky_scaled = copy(df_gtky)\n",
    "\n",
    "# scale normalization of numeric variables\n",
    "for feat in x_feat_list0:\n",
    "    df_gtky_scaled[feat] = df_gtky_scaled[feat] / df_gtky_scaled[feat].std()\n",
    "\n",
    "x_feat_list1 = ['co-op', 'prog_exp', 'age', 'start_sal', 'python', 'java', 'r', 'c/c++', 'other(s)']\n",
    "x = df_gtky_scaled.loc[:, x_feat_list1].values\n",
    "\n",
    "mean_d_dict = dict()\n",
    "for n_clusters in range(2, 16):\n",
    "    # fit kmeans\n",
    "    kmeans = KMeans(n_clusters=n_clusters)\n",
    "    kmeans.fit(x)\n",
    "    y = kmeans.predict(x)    \n",
    "        \n",
    "    # compute & store mean distance\n",
    "    mean_d = -kmeans.score(x)\n",
    "    mean_d_dict[n_clusters] = mean_d"
   ]
  },
  {
   "cell_type": "code",
   "execution_count": null,
   "id": "696d8497",
   "metadata": {},
   "outputs": [],
   "source": [
    "plt.plot(mean_d_dict.keys(), mean_d_dict.values())\n",
    "plt.xlabel('number of clusters')\n",
    "plt.ylabel('mean dist^2 to centroid')"
   ]
  },
  {
   "cell_type": "code",
   "execution_count": null,
   "id": "35b4cb57",
   "metadata": {},
   "outputs": [],
   "source": [
    "kmeans = KMeans(n_clusters=6)\n",
    "kmeans.fit(x)\n",
    "y = kmeans.predict(x)\n",
    "df_gtky['cluster'] = y\n",
    "df_gtky.head()"
   ]
  },
  {
   "cell_type": "code",
   "execution_count": null,
   "id": "7c3c4081",
   "metadata": {},
   "outputs": [],
   "source": [
    "cluster_bool = df_gtky['cluster'] == 0\n",
    "df_gtky.loc[cluster_bool,:]"
   ]
  },
  {
   "cell_type": "code",
   "execution_count": null,
   "id": "2babf9a6",
   "metadata": {},
   "outputs": [],
   "source": [
    "cluster_bool = df_gtky['cluster'] == 1\n",
    "df_gtky.loc[cluster_bool,:]"
   ]
  },
  {
   "cell_type": "code",
   "execution_count": null,
   "id": "a63879ae",
   "metadata": {},
   "outputs": [],
   "source": [
    "cluster_bool = df_gtky['cluster'] == 2\n",
    "df_gtky.loc[cluster_bool,:]"
   ]
  },
  {
   "cell_type": "code",
   "execution_count": null,
   "id": "42047292",
   "metadata": {},
   "outputs": [],
   "source": [
    "cluster_bool = df_gtky['cluster'] == 3\n",
    "df_gtky.loc[cluster_bool,:]"
   ]
  },
  {
   "cell_type": "code",
   "execution_count": null,
   "id": "a66fa086",
   "metadata": {},
   "outputs": [],
   "source": [
    "cluster_bool = df_gtky['cluster'] == 4\n",
    "df_gtky.loc[cluster_bool,:]"
   ]
  },
  {
   "cell_type": "code",
   "execution_count": null,
   "id": "d42b140b",
   "metadata": {},
   "outputs": [],
   "source": [
    "cluster_bool = df_gtky['cluster'] == 5\n",
    "df_gtky.loc[cluster_bool,:]"
   ]
  }
 ],
 "metadata": {
  "kernelspec": {
   "display_name": "Python 3 (ipykernel)",
   "language": "python",
   "name": "python3"
  },
  "language_info": {
   "codemirror_mode": {
    "name": "ipython",
    "version": 3
   },
   "file_extension": ".py",
   "mimetype": "text/x-python",
   "name": "python",
   "nbconvert_exporter": "python",
   "pygments_lexer": "ipython3",
   "version": "3.8.10"
  }
 },
 "nbformat": 4,
 "nbformat_minor": 5
}
