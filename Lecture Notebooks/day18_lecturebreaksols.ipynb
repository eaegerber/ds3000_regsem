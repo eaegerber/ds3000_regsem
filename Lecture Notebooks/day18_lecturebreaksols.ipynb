{
 "cells": [
  {
   "cell_type": "markdown",
   "id": "5c286d63",
   "metadata": {},
   "source": [
    "# Covid Exponential Regression"
   ]
  },
  {
   "cell_type": "code",
   "execution_count": null,
   "id": "d4758319",
   "metadata": {},
   "outputs": [],
   "source": [
    "x = df_covid['day'].values.reshape((-1,1))\n",
    "y = df_covid['total_cases']\n",
    "\n",
    "# scatter\n",
    "plt.scatter(x, y, label='samples');"
   ]
  },
  {
   "cell_type": "code",
   "execution_count": null,
   "id": "e07bd9b5",
   "metadata": {},
   "outputs": [],
   "source": [
    "# build / fit linear model\n",
    "reg = LinearRegression()\n",
    "\n",
    "# plot exp model\n",
    "reg.fit(x, np.log(y))            # NOTE: np.log applied (see previous approach slide)\n",
    "y_hat = np.exp(reg.predict(x))   # NOTE: np.exp applied (see previous approach slide)\n",
    "r2_exp = r2_score(y_true=y, y_pred=y_hat)\n",
    "plt.scatter(x, y, label='samples')\n",
    "plt.plot(x, y_hat, linewidth=3, color='g', label=f'exponential (r2 = {r2_exp: .2f})')\n",
    "\n",
    "# extract coefficients and print meaning\n",
    "b_0_pred = reg.intercept_\n",
    "b_1_pred = reg.coef_[0]\n",
    "betahat0_pred = np.exp(b_0_pred)\n",
    "\n",
    "title = f'model: y_hat = {betahat0_pred:.3f} e^({b_1_pred:.3f} x)'\n",
    "        \n",
    "plt.legend()\n",
    "plt.suptitle(title)\n",
    "plt.gcf().set_size_inches(7, 5)"
   ]
  },
  {
   "cell_type": "markdown",
   "id": "d0ce2091",
   "metadata": {},
   "source": [
    "# Hank Aaron Polynomial Regression"
   ]
  },
  {
   "cell_type": "code",
   "execution_count": null,
   "id": "0b873474",
   "metadata": {},
   "outputs": [],
   "source": [
    "x = df_aaron['age'].values.reshape((-1,1))\n",
    "y = df_aaron['HRR']\n",
    "\n",
    "# estimate cv r2 per degree of polynomial\n",
    "r2_per_degree = list()\n",
    "for degree in range(11):\n",
    "    r2 = cross_val_r2(x, y, degree, n_splits = 23)\n",
    "    r2_per_degree.append(r2)\n",
    "    \n",
    "r2_per_degree = np.maximum(np.array(r2_per_degree), 0)\n",
    "\n",
    "plt.plot(r2_per_degree)\n",
    "plt.xlabel('degree')\n",
    "plt.ylabel(f'$R^2$')\n",
    "\n",
    "plt.figure()\n",
    "degree_best = np.argmax(r2_per_degree)\n",
    "fit_plot_poly(x, y, degree_best)"
   ]
  },
  {
   "cell_type": "code",
   "execution_count": null,
   "id": "caeae67d",
   "metadata": {},
   "outputs": [],
   "source": [
    "# project x to polynomial (degree 4 seems best from above)\n",
    "poly_project = PolynomialFeatures(degree=4)\n",
    "x_poly = poly_project.fit_transform(x)\n",
    "    \n",
    "# fit via linear regression\n",
    "reg = LinearRegression(fit_intercept=False)\n",
    "reg.fit(x_poly, y)\n",
    "\n",
    "y_pred = reg.predict(x_poly)\n",
    "\n",
    "errors = y - y_pred\n",
    "\n",
    "#independence\n",
    "plt.scatter(x = range(len(y)), y = errors)\n",
    "plt.xlabel('index')\n",
    "plt.ylabel('errors');"
   ]
  },
  {
   "cell_type": "code",
   "execution_count": null,
   "id": "cfa34aa9",
   "metadata": {},
   "outputs": [],
   "source": [
    "#constant variance\n",
    "plt.scatter(x = x, y = errors)\n",
    "plt.xlabel('age')\n",
    "plt.ylabel('errors');"
   ]
  },
  {
   "cell_type": "code",
   "execution_count": null,
   "id": "6d2c0a33",
   "metadata": {},
   "outputs": [],
   "source": [
    "#normality\n",
    "stats.probplot(errors, dist=\"norm\", plot=py)\n",
    "py.show()"
   ]
  }
 ],
 "metadata": {
  "kernelspec": {
   "display_name": "Python 3 (ipykernel)",
   "language": "python",
   "name": "python3"
  },
  "language_info": {
   "codemirror_mode": {
    "name": "ipython",
    "version": 3
   },
   "file_extension": ".py",
   "mimetype": "text/x-python",
   "name": "python",
   "nbconvert_exporter": "python",
   "pygments_lexer": "ipython3",
   "version": "3.8.10"
  }
 },
 "nbformat": 4,
 "nbformat_minor": 5
}
