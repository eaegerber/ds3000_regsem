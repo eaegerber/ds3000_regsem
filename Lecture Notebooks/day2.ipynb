{
 "cells": [
  {
   "cell_type": "markdown",
   "id": "39e41d4a",
   "metadata": {
    "slideshow": {
     "slide_type": "slide"
    }
   },
   "source": [
    "# DS3000 Lesson 2\n",
    "September 16, 2022\n",
    "\n",
    "Admin:\n",
    "- Qwickly Attendance (Forgot to do this on Tuesday so everyone got attendance point)\n",
    "\n",
    "Content:\n",
    "- Iteration\n",
    "- Function\n",
    "- Assert\n",
    "- Import\n",
    "- Counting with dictionaries\n",
    "    - Should be able to completely do HW 1 after this lesson"
   ]
  },
  {
   "cell_type": "markdown",
   "id": "474af87c",
   "metadata": {
    "slideshow": {
     "slide_type": "slide"
    }
   },
   "source": [
    "# `+= 1`"
   ]
  },
  {
   "cell_type": "code",
   "execution_count": 1,
   "id": "9daf9083",
   "metadata": {},
   "outputs": [
    {
     "data": {
      "text/plain": [
       "11"
      ]
     },
     "execution_count": 1,
     "metadata": {},
     "output_type": "execute_result"
    }
   ],
   "source": [
    "# this code:\n",
    "y = 10\n",
    "y = y + 1\n",
    "y"
   ]
  },
  {
   "cell_type": "code",
   "execution_count": 2,
   "id": "21fd3b90",
   "metadata": {},
   "outputs": [
    {
     "data": {
      "text/plain": [
       "11"
      ]
     },
     "execution_count": 2,
     "metadata": {},
     "output_type": "execute_result"
    }
   ],
   "source": [
    "# is the same as this code:\n",
    "y = 10\n",
    "y += 1\n",
    "y"
   ]
  },
  {
   "cell_type": "markdown",
   "id": "c0904aa6",
   "metadata": {
    "slideshow": {
     "slide_type": "slide"
    }
   },
   "source": [
    "## Range"
   ]
  },
  {
   "cell_type": "code",
   "execution_count": 3,
   "id": "4d7e495e",
   "metadata": {},
   "outputs": [
    {
     "data": {
      "text/plain": [
       "range(0, 10)"
      ]
     },
     "execution_count": 3,
     "metadata": {},
     "output_type": "execute_result"
    }
   ],
   "source": [
    "# range counts sequential values (0, 1, 2, 3, ...)\n",
    "# notice: calling range() provides us a range object\n",
    "range(10)"
   ]
  },
  {
   "cell_type": "code",
   "execution_count": 4,
   "id": "a5cfb63b",
   "metadata": {},
   "outputs": [
    {
     "data": {
      "text/plain": [
       "[0, 1, 2, 3, 4, 5, 6, 7, 8, 9]"
      ]
     },
     "execution_count": 4,
     "metadata": {},
     "output_type": "execute_result"
    }
   ],
   "source": [
    "# to see whats inside that range, we may type-cast to a list:\n",
    "list(range(10))"
   ]
  },
  {
   "cell_type": "code",
   "execution_count": 5,
   "id": "f27ac2ef",
   "metadata": {},
   "outputs": [
    {
     "data": {
      "text/plain": [
       "[1, 3, 5, 7, 9]"
      ]
     },
     "execution_count": 5,
     "metadata": {},
     "output_type": "execute_result"
    }
   ],
   "source": [
    "# range(start_idx, stop_idx, step_size)\n",
    "# notice: just like indexing/slicing shown previously we include start_idx but not stop_idx\n",
    "list(range(1, 11, 2))"
   ]
  },
  {
   "cell_type": "code",
   "execution_count": 6,
   "id": "eaf96f03",
   "metadata": {},
   "outputs": [
    {
     "data": {
      "text/plain": [
       "[1, 3, 5, 7, 9]"
      ]
     },
     "execution_count": 6,
     "metadata": {},
     "output_type": "execute_result"
    }
   ],
   "source": [
    "#indexing to get the same thing works a bit differently\n",
    "list(range(1,11))[0:11:2]"
   ]
  },
  {
   "cell_type": "markdown",
   "id": "0b17a24f",
   "metadata": {
    "slideshow": {
     "slide_type": "slide"
    }
   },
   "source": [
    "## Iteration: For Loops\n",
    "For loops run the same block of code multiple times, allowing us to avoid copy-pasting code.\n"
   ]
  },
  {
   "cell_type": "code",
   "execution_count": 7,
   "id": "9f408f12",
   "metadata": {},
   "outputs": [
    {
     "name": "stdout",
     "output_type": "stream",
     "text": [
      "0\n",
      "1\n",
      "4\n",
      "9\n",
      "16\n"
     ]
    }
   ],
   "source": [
    "# verbose code which prints square of first n integers\n",
    "print(0**2)\n",
    "print(1**2)\n",
    "print(2**2)\n",
    "print(3**2)\n",
    "print(4**2)"
   ]
  },
  {
   "cell_type": "code",
   "execution_count": 8,
   "id": "1911df3a",
   "metadata": {},
   "outputs": [
    {
     "name": "stdout",
     "output_type": "stream",
     "text": [
      "start of loop body where idx= 0\n",
      "0\n",
      "start of loop body where idx= 1\n",
      "1\n",
      "start of loop body where idx= 2\n",
      "4\n",
      "start of loop body where idx= 3\n",
      "9\n",
      "start of loop body where idx= 4\n",
      "16\n",
      "start of loop body where idx= 5\n",
      "25\n",
      "start of loop body where idx= 6\n",
      "36\n",
      "start of loop body where idx= 7\n",
      "49\n",
      "start of loop body where idx= 8\n",
      "64\n",
      "start of loop body where idx= 9\n",
      "81\n",
      "end of loop\n"
     ]
    }
   ],
   "source": [
    "# using a for loop\n",
    "for idx in range(10):\n",
    "    # this whole loop body\n",
    "    print('start of loop body where idx= ' + str(idx))\n",
    "    print(idx ** 2)\n",
    "    \n",
    "print('end of loop')\n",
    "    "
   ]
  },
  {
   "cell_type": "code",
   "execution_count": 9,
   "id": "e5b9cb32",
   "metadata": {},
   "outputs": [
    {
     "name": "stdout",
     "output_type": "stream",
     "text": [
      "BEGIN OUTER LOOP BODY: the quick brown fox jumps over the lazy dog\n",
      "BEGIN INNER LOOP BODY: a\n",
      "the quick brown fox jumps over the l!zy dog\n",
      "\n",
      "BEGIN INNER LOOP BODY: e\n",
      "th! quick brown fox jumps ov!r th! lazy dog\n",
      "\n",
      "BEGIN INNER LOOP BODY: i\n",
      "the qu!ck brown fox jumps over the lazy dog\n",
      "\n",
      "BEGIN INNER LOOP BODY: o\n",
      "the quick br!wn f!x jumps !ver the lazy d!g\n",
      "\n",
      "BEGIN INNER LOOP BODY: u\n",
      "the q!ick brown fox j!mps over the lazy dog\n",
      "\n",
      "BEGIN OUTER LOOP BODY: sixty zippers were quickly picked from the woven jute bag\n",
      "BEGIN INNER LOOP BODY: a\n",
      "sixty zippers were quickly picked from the woven jute b!g\n",
      "\n",
      "BEGIN INNER LOOP BODY: e\n",
      "sixty zipp!rs w!r! quickly pick!d from th! wov!n jut! bag\n",
      "\n",
      "BEGIN INNER LOOP BODY: i\n",
      "s!xty z!ppers were qu!ckly p!cked from the woven jute bag\n",
      "\n",
      "BEGIN INNER LOOP BODY: o\n",
      "sixty zippers were quickly picked fr!m the w!ven jute bag\n",
      "\n",
      "BEGIN INNER LOOP BODY: u\n",
      "sixty zippers were q!ickly picked from the woven j!te bag\n",
      "\n"
     ]
    }
   ],
   "source": [
    "# nested loop\n",
    "for str_words in ['the quick brown fox jumps over the lazy dog', \n",
    "                  'sixty zippers were quickly picked from the woven jute bag']:\n",
    "    print('BEGIN OUTER LOOP BODY: ' + str_words)\n",
    "    \n",
    "    for vowel in 'aeiou':\n",
    "        print('BEGIN INNER LOOP BODY: ' + vowel)\n",
    "        \n",
    "        # replace all occurances of vowel with '!'\n",
    "        print(str_words.replace(vowel, '!'))\n",
    "        \n",
    "        # prints a blank line between each run\n",
    "        print('')\n",
    "        \n",
    "        "
   ]
  },
  {
   "cell_type": "markdown",
   "id": "3f68a934",
   "metadata": {
    "slideshow": {
     "slide_type": "slide"
    }
   },
   "source": [
    "### iterating through a list (or a tuple):\n",
    "We often want to operate on all the items in some collection of items (list, tuple, strings):"
   ]
  },
  {
   "cell_type": "code",
   "execution_count": 10,
   "id": "91ac9847",
   "metadata": {},
   "outputs": [
    {
     "data": {
      "text/plain": [
       "[16, 64, 4, 36]"
      ]
     },
     "execution_count": 10,
     "metadata": {},
     "output_type": "execute_result"
    }
   ],
   "source": [
    "# iterate through the list and square everything, saving to a new list\n",
    "# the numbers we want to square\n",
    "some_list = [4,8,-2,6]\n",
    "# an empty list to put the squared values in\n",
    "another_list = list()\n",
    "\n",
    "#the for loop that does it\n",
    "for item in some_list:\n",
    "    another_list.append(item ** 2)\n",
    "    \n",
    "another_list"
   ]
  },
  {
   "cell_type": "code",
   "execution_count": 11,
   "id": "4761ce74",
   "metadata": {},
   "outputs": [
    {
     "name": "stdout",
     "output_type": "stream",
     "text": [
      "the letter a is a vowel.\n",
      "the letter e is a vowel.\n",
      "the letter i is a vowel.\n",
      "the letter o is a vowel.\n",
      "the letter u is a vowel.\n"
     ]
    }
   ],
   "source": [
    "# you can iterate on strings too\n",
    "for vowel in 'aeiou':\n",
    "    print('the letter ' + vowel + ' is a vowel.')"
   ]
  },
  {
   "cell_type": "markdown",
   "id": "0b0c3e37",
   "metadata": {},
   "source": [
    "(++) need both the index and item?  Try [enumerate](https://docs.python.org/3.8/library/functions.html#enumerate)"
   ]
  },
  {
   "cell_type": "code",
   "execution_count": 12,
   "id": "f5128439",
   "metadata": {},
   "outputs": [
    {
     "name": "stdout",
     "output_type": "stream",
     "text": [
      "0 4\n",
      "1 8\n",
      "2 -2\n",
      "3 6\n"
     ]
    }
   ],
   "source": [
    "# if you need an index too, use enumerate\n",
    "for idx, item in enumerate(some_list):\n",
    "    print(idx, item)"
   ]
  },
  {
   "cell_type": "code",
   "execution_count": 13,
   "id": "5c822422",
   "metadata": {},
   "outputs": [
    {
     "data": {
      "text/plain": [
       "[(0, 4), (1, 8), (2, -2), (3, 6)]"
      ]
     },
     "execution_count": 13,
     "metadata": {},
     "output_type": "execute_result"
    }
   ],
   "source": [
    "list(enumerate(some_list))"
   ]
  },
  {
   "cell_type": "markdown",
   "id": "c76cc69c",
   "metadata": {
    "slideshow": {
     "slide_type": "slide"
    }
   },
   "source": [
    "## iterating through a dict\n",
    "- keys\n",
    "- values\n",
    "- items (and tuple unpacking)"
   ]
  },
  {
   "cell_type": "code",
   "execution_count": 14,
   "id": "e012c106",
   "metadata": {},
   "outputs": [
    {
     "name": "stdout",
     "output_type": "stream",
     "text": [
      "eric\n",
      "qi\n",
      "lynne\n"
     ]
    }
   ],
   "source": [
    "some_dict = {'eric': 17, 'qi': 7, 'lynne':1}\n",
    "for key in some_dict.keys():\n",
    "    print(key)"
   ]
  },
  {
   "cell_type": "code",
   "execution_count": 15,
   "id": "dc7768a4",
   "metadata": {},
   "outputs": [
    {
     "name": "stdout",
     "output_type": "stream",
     "text": [
      "17\n",
      "7\n",
      "1\n"
     ]
    }
   ],
   "source": [
    "for val in some_dict.values():\n",
    "    print(val)"
   ]
  },
  {
   "cell_type": "code",
   "execution_count": 16,
   "id": "6be153dc",
   "metadata": {},
   "outputs": [
    {
     "name": "stdout",
     "output_type": "stream",
     "text": [
      "eric 17\n",
      "qi 7\n",
      "lynne 1\n"
     ]
    }
   ],
   "source": [
    "for key, val in some_dict.items():\n",
    "    print(key, val)"
   ]
  },
  {
   "cell_type": "markdown",
   "id": "db2fc422",
   "metadata": {
    "slideshow": {
     "slide_type": "slide"
    }
   },
   "source": [
    "## Functions in a bit more detail + practice time\n",
    "\n",
    "* defining and calling functions\n",
    "* functions with multiple inputs\n",
    "* functions with multiple outputs (tuple unpacking to the rescue!)\n",
    "* assertion"
   ]
  },
  {
   "cell_type": "code",
   "execution_count": 17,
   "id": "afe8ee45",
   "metadata": {},
   "outputs": [
    {
     "data": {
      "text/plain": [
       "9"
      ]
     },
     "execution_count": 17,
     "metadata": {},
     "output_type": "execute_result"
    }
   ],
   "source": [
    "def square(number):\n",
    "    \"\"\" squares a number\n",
    "    \n",
    "    Args:\n",
    "        number (float): input number\n",
    "        \n",
    "    Returns:\n",
    "        sq (float): square of input\n",
    "    \"\"\"\n",
    "    sq = number ** 2\n",
    "    return sq\n",
    "\n",
    "square(3)"
   ]
  },
  {
   "cell_type": "markdown",
   "id": "355bf36b",
   "metadata": {},
   "source": [
    "* Definition begins with the (**`def` keyword**, followed by the function name, a set of parentheses and a colon (`:`). \n",
    ">```python\n",
    "def square(number):\n",
    "```\n",
    "* By convention function names should begin with a lowercase letter and in multiword names underscores should separate each word. \n",
    "* Required parentheses contain the function’s **parameter list**, if any.\n",
    "* The indented lines after the colon (`:`) are the function’s **block**\n",
    "    * Consists of a docstring followed by the statements that perform the function’s task.\n",
    "> ```python\n",
    "> \"\"\" squares a number\n",
    "> \n",
    "> Args:\n",
    ">     number (float): input number\n",
    "> \n",
    "> Returns:\n",
    ">     sq (float): square of input\n",
    "> \"\"\"\n",
    "> ```"
   ]
  },
  {
   "cell_type": "markdown",
   "id": "d4acc42b",
   "metadata": {},
   "source": [
    "### Multiple Inputs to Fnc\n",
    "- passing by order\n",
    "- passing by keyword\n",
    "- default inputs\n",
    "- passing by order & keyword"
   ]
  },
  {
   "cell_type": "code",
   "execution_count": 18,
   "id": "b9af7635",
   "metadata": {},
   "outputs": [],
   "source": [
    "def raise_to_power(a, b=2):\n",
    "    \"\"\" compute a to the b power\n",
    "    \n",
    "    Args:\n",
    "        a (float): base\n",
    "        b (float): exponent\n",
    "        \n",
    "    Returns:\n",
    "        out (float): a to the b-th power\n",
    "    \"\"\"\n",
    "    return a ** b"
   ]
  },
  {
   "cell_type": "code",
   "execution_count": 19,
   "id": "4abe9fed",
   "metadata": {},
   "outputs": [
    {
     "data": {
      "text/plain": [
       "64"
      ]
     },
     "execution_count": 19,
     "metadata": {},
     "output_type": "execute_result"
    }
   ],
   "source": [
    "# notice: the arguments (inputs) are distinguished by the order they're passed in\n",
    "raise_to_power(4, 3)"
   ]
  },
  {
   "cell_type": "code",
   "execution_count": 20,
   "id": "a0a1445c",
   "metadata": {},
   "outputs": [
    {
     "data": {
      "text/plain": [
       "64"
      ]
     },
     "execution_count": 20,
     "metadata": {},
     "output_type": "execute_result"
    }
   ],
   "source": [
    "# passing arguments by keyword\n",
    "raise_to_power(a=4, b=3)"
   ]
  },
  {
   "cell_type": "code",
   "execution_count": 21,
   "id": "b42663f4",
   "metadata": {},
   "outputs": [
    {
     "data": {
      "text/plain": [
       "64"
      ]
     },
     "execution_count": 21,
     "metadata": {},
     "output_type": "execute_result"
    }
   ],
   "source": [
    "raise_to_power(b=3, a=4)"
   ]
  },
  {
   "cell_type": "code",
   "execution_count": 23,
   "id": "4c394c42",
   "metadata": {},
   "outputs": [
    {
     "data": {
      "text/plain": [
       "4"
      ]
     },
     "execution_count": 23,
     "metadata": {},
     "output_type": "execute_result"
    }
   ],
   "source": [
    "# using default param\n",
    "raise_to_power(a=2)"
   ]
  },
  {
   "cell_type": "markdown",
   "id": "24c0a3d6",
   "metadata": {
    "slideshow": {
     "slide_type": "slide"
    }
   },
   "source": [
    "### Multiple Outputs From Fnc\n",
    "- tuple unpacking allows for multiple outputs"
   ]
  },
  {
   "cell_type": "code",
   "execution_count": 24,
   "id": "869ae559",
   "metadata": {},
   "outputs": [
    {
     "data": {
      "text/plain": [
       "3.141592653589793"
      ]
     },
     "execution_count": 24,
     "metadata": {},
     "output_type": "execute_result"
    }
   ],
   "source": [
    "# load the math module so that we can use pi\n",
    "import math\n",
    "pi = math.pi\n",
    "pi"
   ]
  },
  {
   "cell_type": "code",
   "execution_count": 25,
   "id": "0dba82a8",
   "metadata": {},
   "outputs": [
    {
     "data": {
      "text/plain": [
       "3.141592653589793"
      ]
     },
     "execution_count": 25,
     "metadata": {},
     "output_type": "execute_result"
    }
   ],
   "source": [
    "# tuple unpacking: break a tuple into its component variables\n",
    "some_tuple = ('a', 1, pi)\n",
    "item0, item1, item2 = some_tuple\n",
    "item2"
   ]
  },
  {
   "cell_type": "code",
   "execution_count": 26,
   "id": "cd3f9fe5",
   "metadata": {},
   "outputs": [],
   "source": [
    "def get_multiple(x):\n",
    "    \"\"\" computes first few multiples of x\n",
    "    \n",
    "    Args:\n",
    "        x (float): input number\n",
    "        \n",
    "    Returns:\n",
    "        mult1 (float): x\n",
    "        mult2 (float): 2x\n",
    "        mult3 (float): 3x\n",
    "    \"\"\"\n",
    "    mult1 = x\n",
    "    mult2 = x * 2\n",
    "    mult3 = x * 3\n",
    "    \n",
    "    return mult1, mult2, mult3"
   ]
  },
  {
   "cell_type": "code",
   "execution_count": 27,
   "id": "14cffe9d",
   "metadata": {},
   "outputs": [],
   "source": [
    "# supports returning multiple values\n",
    "mult1, mult2, mult3 = get_multiple(3)"
   ]
  },
  {
   "cell_type": "code",
   "execution_count": 28,
   "id": "64b20af6",
   "metadata": {},
   "outputs": [
    {
     "data": {
      "text/plain": [
       "(3, 6, 9)"
      ]
     },
     "execution_count": 28,
     "metadata": {},
     "output_type": "execute_result"
    }
   ],
   "source": [
    "# the output of the function is a tuple\n",
    "tuple_out = get_multiple(3)\n",
    "tuple_out"
   ]
  },
  {
   "cell_type": "code",
   "execution_count": 29,
   "id": "e3048423",
   "metadata": {},
   "outputs": [
    {
     "data": {
      "text/plain": [
       "9"
      ]
     },
     "execution_count": 29,
     "metadata": {},
     "output_type": "execute_result"
    }
   ],
   "source": [
    "# unpack tuple into component variables\n",
    "mult1, mult2, mult3 = tuple_out\n",
    "mult3"
   ]
  },
  {
   "cell_type": "markdown",
   "id": "c28873cf",
   "metadata": {
    "slideshow": {
     "slide_type": "slide"
    }
   },
   "source": [
    "## Assert (function behavior)\n",
    "\n",
    "We may want to check that the inputs to a function are appropriate."
   ]
  },
  {
   "cell_type": "code",
   "execution_count": 30,
   "id": "ee7f564c",
   "metadata": {},
   "outputs": [],
   "source": [
    "def alpha_sort_list(list_in):\n",
    "    \"\"\" sorts a list, alphabetically (regardless of case)\n",
    "    \n",
    "    Args:\n",
    "        list_in (list): list of strings\n",
    "        \n",
    "    Return:\n",
    "        list_out (list): list of strings, alpha sorted\n",
    "    \"\"\"\n",
    "    \n",
    "    return sorted(list_in)"
   ]
  },
  {
   "cell_type": "markdown",
   "id": "6e4f98d1",
   "metadata": {},
   "source": [
    "Does the function above work?  Seems to work on first glance ... to be sure lets build a little set of test cases and ensure it works as expected.\n",
    "\n",
    "A test case is a set of inputs and outputs to a function with our intended behavior."
   ]
  },
  {
   "cell_type": "code",
   "execution_count": 31,
   "id": "22320c19",
   "metadata": {},
   "outputs": [],
   "source": [
    "# assert alpha_sort_list(['Eliana', 'Callum', 'Bruno']) == ['Bruno', 'Callum', 'Eliana']\n",
    "# assert alpha_sort_list(['Eliana', 'callum', 'Bruno']) == ['Bruno', 'callum', 'eliana']"
   ]
  },
  {
   "cell_type": "code",
   "execution_count": 32,
   "id": "63897cab",
   "metadata": {},
   "outputs": [],
   "source": [
    "def MYfunction(someINput, AnotherInput):\n",
    "    # someINPUT is the user's name\n",
    "    # ANotherINput is their preferred greeting\n",
    "    # function should say `GREETING NAME!` unless the \n",
    "    # greeting is a high five, and then it says:\n",
    "    # I'm sorry NAME, I'm only a computer I can't high 5\n",
    "    # function has no return values, it just prints\n",
    "    \n",
    "    if AnotherInput == 'high five':\n",
    "        print(f'I am sorry {someINput}, I am only a computer I cant high five')\n",
    "    else:\n",
    "        print(f'{AnotherInput} {someINput}!')"
   ]
  },
  {
   "cell_type": "code",
   "execution_count": 33,
   "id": "819b1264",
   "metadata": {},
   "outputs": [
    {
     "name": "stdout",
     "output_type": "stream",
     "text": [
      "Wassup Eric!\n",
      "I am sorry Qi, I am only a computer I cant high five\n"
     ]
    }
   ],
   "source": [
    "MYfunction('Eric', 'Wassup')\n",
    "MYfunction('Qi', 'high five')\n",
    "\n",
    "# Can use input to let someone else do it!\n",
    "# name = input()\n",
    "# greeting = input()\n",
    "\n",
    "# MYfunction(name, greeting)"
   ]
  },
  {
   "cell_type": "markdown",
   "id": "fae596e7",
   "metadata": {},
   "source": [
    "# LECTURE BREAK/PRACTICE\n",
    "\n",
    "The Standard Creepiness Rule states that you shouldn't date anyone younger than $\\frac{Your Age}{2} + 7$:\n",
    "\n",
    "![dating](https://imgs.xkcd.com/comics/dating_pools.png)\n",
    "\n",
    "Spend 5-10 minutes writing a function that takes as input a person's age, and outputs the sentence: `\"You can date people at least {result} years old.\"` Where `{result}` is the result of calculating the lower bound of the SRC.\n",
    "\n",
    "Then, define a variable `neighbor_age = int(input())` and pass it to your function after your neighbor enters their age.\n",
    "\n",
    "**note**: we are using `int(input())` because by default `input()` takes only strings and we are going to be passing our function an integer."
   ]
  },
  {
   "cell_type": "markdown",
   "id": "709080d9",
   "metadata": {
    "slideshow": {
     "slide_type": "slide"
    }
   },
   "source": [
    "## `import`-ing \n",
    "\n",
    "We can use software from [Python's standard library](https://docs.python.org/3/library/index.html) or anything on [pypi](https://pypi.org/) (e.g. pandas, numpy, scipy, matplotlib ....this is where folks share their python software) by `import`-ing it into our code. We already imported the math module earlier to be able to use $\\pi$.\n",
    "\n",
    "(If its on pypi you must install it via pip before use, everything in the standard library comes with Python itself).\n",
    "\n",
    "Lets build a random number generator:"
   ]
  },
  {
   "cell_type": "code",
   "execution_count": 35,
   "id": "d7e1ba8d",
   "metadata": {},
   "outputs": [
    {
     "data": {
      "text/plain": [
       "['pick me']"
      ]
     },
     "execution_count": 35,
     "metadata": {},
     "output_type": "execute_result"
    }
   ],
   "source": [
    "# imports the whole library\n",
    "import random\n",
    "\n",
    "# you can access these functions as attributes of 'random'\n",
    "random.choices(['pick me', 'or me', 'maybe me?'])"
   ]
  },
  {
   "cell_type": "code",
   "execution_count": 36,
   "id": "b61f679f",
   "metadata": {},
   "outputs": [
    {
     "data": {
      "text/plain": [
       "['pick me']"
      ]
     },
     "execution_count": 36,
     "metadata": {},
     "output_type": "execute_result"
    }
   ],
   "source": [
    "# import just the function you'd like from the library\n",
    "from random import choices\n",
    "\n",
    "# importing as immediately above, you may only use the functions you've explicitly imported\n",
    "choices(['pick me', 'or me', 'maybe me?'])"
   ]
  },
  {
   "cell_type": "markdown",
   "id": "ffbb051f",
   "metadata": {},
   "source": [
    "Veteran programming instinct: wondering (and checking) \"Does this function also do this other behavior?\"\n",
    "\n",
    "Go to the [official documentation](https://docs.python.org/3/library/random.html) and skim it to see what else you can do with a function."
   ]
  },
  {
   "cell_type": "code",
   "execution_count": 37,
   "id": "f950afd8",
   "metadata": {},
   "outputs": [
    {
     "data": {
      "text/plain": [
       "['or me']"
      ]
     },
     "execution_count": 37,
     "metadata": {},
     "output_type": "execute_result"
    }
   ],
   "source": [
    "# we can add a weight parameter which changes how often one item is selected vs another\n",
    "# if weight of one item is twice the other, it will be picked twice as often\n",
    "choices(['pick me', 'or me', 'maybe me?'], weights=[1, 2, 3])"
   ]
  },
  {
   "cell_type": "code",
   "execution_count": 38,
   "id": "e058b43f",
   "metadata": {},
   "outputs": [
    {
     "data": {
      "text/plain": [
       "['maybe me?',\n",
       " 'or me',\n",
       " 'maybe me?',\n",
       " 'maybe me?',\n",
       " 'or me',\n",
       " 'or me',\n",
       " 'maybe me?',\n",
       " 'pick me',\n",
       " 'or me',\n",
       " 'maybe me?']"
      ]
     },
     "execution_count": 38,
     "metadata": {},
     "output_type": "execute_result"
    }
   ],
   "source": [
    "# or select multiple items by passing k argument\n",
    "choices(['pick me', 'or me', 'maybe me?'], k=10, weights=[1, 2, 3])"
   ]
  },
  {
   "cell_type": "code",
   "execution_count": 39,
   "id": "e39d81ed",
   "metadata": {},
   "outputs": [
    {
     "data": {
      "text/plain": [
       "['1_clubs']"
      ]
     },
     "execution_count": 39,
     "metadata": {},
     "output_type": "execute_result"
    }
   ],
   "source": [
    "# build card list\n",
    "card_list = list()\n",
    "for suit in ['spades', 'hearts', 'clubs', 'diamonds']:\n",
    "    for card in ['A', 1, 2, 3, 4, 5, 6, 7, 8, 9, 10, 'J', 'Q', 'K']:\n",
    "        card_list.append(str(card) + '_' + suit)\n",
    "        \n",
    "# card_list\n",
    "choices(card_list)"
   ]
  },
  {
   "cell_type": "markdown",
   "id": "b420dd36",
   "metadata": {
    "slideshow": {
     "slide_type": "slide"
    }
   },
   "source": [
    "## Dictionaries as counters\n",
    "\n",
    "How many times does every character appear in the text:\n",
    "\n",
    "    It is a period of civil wars in the galaxy. A brave alliance of underground freedom fighters has challenged the tyranny and oppression of the awesome GALACTIC EMPIRE.\n",
    "\n",
    "    Striking from a fortress hidden among the billion stars of the galaxy, rebel spaceships have won their first victory in a battle with the powerful Imperial Starfleet. The EMPIRE fears that another defeat could bring a thousand more solar systems into the rebellion, and Imperial control over the galaxy would be lost forever.\n",
    "\n",
    "    To crush the rebellion once and for all, the EMPIRE is constructing a sinister new battle station. Powerful enough to destroy an entire planet, its completion spells certain doom for the champions of freedom."
   ]
  },
  {
   "cell_type": "code",
   "execution_count": 40,
   "id": "9b65ce59",
   "metadata": {},
   "outputs": [],
   "source": [
    "# credit Star Wars (115 words)\n",
    "opening_crawl = \"It is a period of civil wars in the galaxy. A brave alliance of underground freedom fighters has challenged the tyranny and oppression of the awesome GALACTIC EMPIRE. Striking from a fortress hidden among the billion stars of the galaxy, rebel spaceships have won their first victory in a battle with the powerful Imperial Starfleet. The EMPIRE fears that another defeat could bring a thousand more solar systems into the rebellion, and Imperial control over the galaxy would be lost forever. To crush the rebellion once and for all, the EMPIRE is constructing a sinister new battle station. Powerful enough to destroy an entire planet, its completion spells certain doom for the champions of freedom.\""
   ]
  },
  {
   "cell_type": "code",
   "execution_count": 41,
   "id": "a7c409a8",
   "metadata": {},
   "outputs": [],
   "source": [
    "# Why won't the below work?\n",
    "\n",
    "# # char_count: keys are characters, values are how many times it appears\n",
    "# char_count = dict()\n",
    "\n",
    "# for letter in opening_crawl:\n",
    "#    char_count[letter] = char_count[letter] + 1"
   ]
  },
  {
   "cell_type": "code",
   "execution_count": 42,
   "id": "9d03a44e",
   "metadata": {},
   "outputs": [
    {
     "data": {
      "text/plain": [
       "{'I': 7,\n",
       " 't': 48,\n",
       " ' ': 114,\n",
       " 'i': 35,\n",
       " 's': 33,\n",
       " 'a': 43,\n",
       " 'p': 12,\n",
       " 'e': 66,\n",
       " 'r': 43,\n",
       " 'o': 48,\n",
       " 'd': 17,\n",
       " 'f': 19,\n",
       " 'c': 14,\n",
       " 'v': 6,\n",
       " 'l': 33,\n",
       " 'w': 8,\n",
       " 'n': 37,\n",
       " 'h': 26,\n",
       " 'g': 11,\n",
       " 'x': 3,\n",
       " 'y': 8,\n",
       " '.': 6,\n",
       " 'A': 3,\n",
       " 'b': 9,\n",
       " 'u': 10,\n",
       " 'm': 12,\n",
       " 'G': 1,\n",
       " 'L': 1,\n",
       " 'C': 2,\n",
       " 'T': 3,\n",
       " 'E': 6,\n",
       " 'M': 3,\n",
       " 'P': 4,\n",
       " 'R': 3,\n",
       " 'S': 2,\n",
       " 'k': 1,\n",
       " ',': 4}"
      ]
     },
     "execution_count": 42,
     "metadata": {},
     "output_type": "execute_result"
    }
   ],
   "source": [
    "char_count = dict()\n",
    "\n",
    "# solution 1: initialize all characters to zero\n",
    "for letter in opening_crawl:\n",
    "    char_count[letter] = 0\n",
    "\n",
    "# count\n",
    "for letter in opening_crawl:\n",
    "    char_count[letter] = char_count[letter] + 1\n",
    "    \n",
    "char_count"
   ]
  },
  {
   "cell_type": "markdown",
   "id": "472e9822",
   "metadata": {
    "slideshow": {
     "slide_type": "slide"
    }
   },
   "source": [
    "### defaultdict"
   ]
  },
  {
   "cell_type": "code",
   "execution_count": 43,
   "id": "32d8fe8d",
   "metadata": {},
   "outputs": [
    {
     "data": {
      "text/plain": [
       "'default!'"
      ]
     },
     "execution_count": 43,
     "metadata": {},
     "output_type": "execute_result"
    }
   ],
   "source": [
    "from collections import defaultdict\n",
    "\n",
    "def_dict_ex = defaultdict(lambda: 'default!')\n",
    "\n",
    "def_dict_ex[0]"
   ]
  },
  {
   "cell_type": "code",
   "execution_count": 44,
   "id": "39e21c04",
   "metadata": {},
   "outputs": [],
   "source": [
    "def_dict_ex[1] = 'some other value'"
   ]
  },
  {
   "cell_type": "code",
   "execution_count": 45,
   "id": "37c9dc00",
   "metadata": {},
   "outputs": [
    {
     "data": {
      "text/plain": [
       "defaultdict(<function __main__.<lambda>()>,\n",
       "            {0: 'default!', 1: 'some other value'})"
      ]
     },
     "execution_count": 45,
     "metadata": {},
     "output_type": "execute_result"
    }
   ],
   "source": [
    "def_dict_ex"
   ]
  },
  {
   "cell_type": "code",
   "execution_count": 46,
   "id": "c93610b2",
   "metadata": {},
   "outputs": [
    {
     "data": {
      "text/plain": [
       "defaultdict(<function __main__.<lambda>()>,\n",
       "            {'I': 7,\n",
       "             't': 48,\n",
       "             ' ': 114,\n",
       "             'i': 35,\n",
       "             's': 33,\n",
       "             'a': 43,\n",
       "             'p': 12,\n",
       "             'e': 66,\n",
       "             'r': 43,\n",
       "             'o': 48,\n",
       "             'd': 17,\n",
       "             'f': 19,\n",
       "             'c': 14,\n",
       "             'v': 6,\n",
       "             'l': 33,\n",
       "             'w': 8,\n",
       "             'n': 37,\n",
       "             'h': 26,\n",
       "             'g': 11,\n",
       "             'x': 3,\n",
       "             'y': 8,\n",
       "             '.': 6,\n",
       "             'A': 3,\n",
       "             'b': 9,\n",
       "             'u': 10,\n",
       "             'm': 12,\n",
       "             'G': 1,\n",
       "             'L': 1,\n",
       "             'C': 2,\n",
       "             'T': 3,\n",
       "             'E': 6,\n",
       "             'M': 3,\n",
       "             'P': 4,\n",
       "             'R': 3,\n",
       "             'S': 2,\n",
       "             'k': 1,\n",
       "             ',': 4})"
      ]
     },
     "execution_count": 46,
     "metadata": {},
     "output_type": "execute_result"
    }
   ],
   "source": [
    "# solution 2: defaultdict\n",
    "# in the event a key hasn't been seen, it is initialized by some function\n",
    "from collections import defaultdict\n",
    "\n",
    "# initialize char_count as defaultdict, new values are set to 0\n",
    "\n",
    "char_count = defaultdict(lambda: 0)\n",
    "# char_count = dict()\n",
    "\n",
    "for letter in opening_crawl:\n",
    "    char_count[letter] = char_count[letter] + 1\n",
    "    \n",
    "char_count"
   ]
  },
  {
   "cell_type": "code",
   "execution_count": 47,
   "id": "b14198b4",
   "metadata": {},
   "outputs": [
    {
     "data": {
      "text/plain": [
       "Counter({'I': 7,\n",
       "         't': 48,\n",
       "         ' ': 114,\n",
       "         'i': 35,\n",
       "         's': 33,\n",
       "         'a': 43,\n",
       "         'p': 12,\n",
       "         'e': 66,\n",
       "         'r': 43,\n",
       "         'o': 48,\n",
       "         'd': 17,\n",
       "         'f': 19,\n",
       "         'c': 14,\n",
       "         'v': 6,\n",
       "         'l': 33,\n",
       "         'w': 8,\n",
       "         'n': 37,\n",
       "         'h': 26,\n",
       "         'g': 11,\n",
       "         'x': 3,\n",
       "         'y': 8,\n",
       "         '.': 6,\n",
       "         'A': 3,\n",
       "         'b': 9,\n",
       "         'u': 10,\n",
       "         'm': 12,\n",
       "         'G': 1,\n",
       "         'L': 1,\n",
       "         'C': 2,\n",
       "         'T': 3,\n",
       "         'E': 6,\n",
       "         'M': 3,\n",
       "         'P': 4,\n",
       "         'R': 3,\n",
       "         'S': 2,\n",
       "         'k': 1,\n",
       "         ',': 4})"
      ]
     },
     "execution_count": 47,
     "metadata": {},
     "output_type": "execute_result"
    }
   ],
   "source": [
    "# solution 3: use a Counter\n",
    "# counter counts the number of times items appear in a list\n",
    "# (... or string or tuple or ... anything you can loop over really)\n",
    "from collections import Counter\n",
    "\n",
    "Counter(opening_crawl)"
   ]
  },
  {
   "cell_type": "code",
   "execution_count": 48,
   "id": "567c6712",
   "metadata": {},
   "outputs": [],
   "source": [
    "python_poem = \"\"\"The Zen of Python, by Tim Peters\n",
    "\n",
    "Beautiful is better than ugly.\n",
    "Explicit is better than implicit.\n",
    "Simple is better than complex.\n",
    "Complex is better than complicated.\n",
    "Flat is better than nested.\n",
    "Sparse is better than dense.\n",
    "Readability counts.\n",
    "Special cases aren't special enough to break the rules.\n",
    "Although practicality beats purity.\n",
    "Errors should never pass silently.\n",
    "Unless explicitly silenced.\n",
    "In the face of ambiguity, refuse the temptation to guess.\n",
    "There should be one-- and preferably only one --obvious way to do it.\n",
    "Although that way may not be obvious at first unless you're Dutch.\n",
    "Now is better than never.\n",
    "Although never is often better than *right* now.\n",
    "If the implementation is hard to explain, it's a bad idea.\n",
    "If the implementation is easy to explain, it may be a good idea.\n",
    "Namespaces are one honking great idea -- let's do more of those!\"\"\""
   ]
  },
  {
   "cell_type": "code",
   "execution_count": 49,
   "id": "ba1e3786",
   "metadata": {},
   "outputs": [
    {
     "data": {
      "text/plain": [
       "Counter({'T': 3,\n",
       "         'h': 31,\n",
       "         'e': 90,\n",
       "         ' ': 124,\n",
       "         'Z': 1,\n",
       "         'n': 40,\n",
       "         'o': 43,\n",
       "         'f': 11,\n",
       "         'P': 2,\n",
       "         'y': 17,\n",
       "         't': 76,\n",
       "         ',': 4,\n",
       "         'b': 20,\n",
       "         'i': 50,\n",
       "         'm': 16,\n",
       "         'r': 32,\n",
       "         's': 43,\n",
       "         '\\n': 20,\n",
       "         'B': 1,\n",
       "         'a': 50,\n",
       "         'u': 20,\n",
       "         'l': 33,\n",
       "         'g': 11,\n",
       "         '.': 18,\n",
       "         'E': 2,\n",
       "         'x': 6,\n",
       "         'p': 20,\n",
       "         'c': 16,\n",
       "         'S': 3,\n",
       "         'C': 1,\n",
       "         'd': 16,\n",
       "         'F': 1,\n",
       "         'R': 1,\n",
       "         \"'\": 4,\n",
       "         'k': 2,\n",
       "         'A': 3,\n",
       "         'v': 5,\n",
       "         'U': 1,\n",
       "         'I': 3,\n",
       "         '-': 6,\n",
       "         'w': 4,\n",
       "         'D': 1,\n",
       "         'N': 2,\n",
       "         '*': 2,\n",
       "         '!': 1})"
      ]
     },
     "execution_count": 49,
     "metadata": {},
     "output_type": "execute_result"
    }
   ],
   "source": [
    "Counter(python_poem)"
   ]
  }
 ],
 "metadata": {
  "celltoolbar": "Edit Metadata",
  "kernelspec": {
   "display_name": "Python 3 (ipykernel)",
   "language": "python",
   "name": "python3"
  },
  "language_info": {
   "codemirror_mode": {
    "name": "ipython",
    "version": 3
   },
   "file_extension": ".py",
   "mimetype": "text/x-python",
   "name": "python",
   "nbconvert_exporter": "python",
   "pygments_lexer": "ipython3",
   "version": "3.10.2"
  }
 },
 "nbformat": 4,
 "nbformat_minor": 5
}
