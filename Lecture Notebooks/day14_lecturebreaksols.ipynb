{
 "cells": [
  {
   "cell_type": "markdown",
   "id": "90a9096c",
   "metadata": {},
   "source": [
    "## Lecture Breaks (Pokemon k-NN)"
   ]
  },
  {
   "cell_type": "code",
   "execution_count": 1,
   "id": "831d2a9c",
   "metadata": {},
   "outputs": [
    {
     "data": {
      "text/html": [
       "<div>\n",
       "<style scoped>\n",
       "    .dataframe tbody tr th:only-of-type {\n",
       "        vertical-align: middle;\n",
       "    }\n",
       "\n",
       "    .dataframe tbody tr th {\n",
       "        vertical-align: top;\n",
       "    }\n",
       "\n",
       "    .dataframe thead th {\n",
       "        text-align: right;\n",
       "    }\n",
       "</style>\n",
       "<table border=\"1\" class=\"dataframe\">\n",
       "  <thead>\n",
       "    <tr style=\"text-align: right;\">\n",
       "      <th></th>\n",
       "      <th>pokemon</th>\n",
       "      <th>maintype</th>\n",
       "      <th>secondarytype</th>\n",
       "      <th>height</th>\n",
       "      <th>weight</th>\n",
       "      <th>damage</th>\n",
       "      <th>basespeed</th>\n",
       "      <th>attack</th>\n",
       "      <th>defense</th>\n",
       "    </tr>\n",
       "    <tr>\n",
       "      <th>pokedex</th>\n",
       "      <th></th>\n",
       "      <th></th>\n",
       "      <th></th>\n",
       "      <th></th>\n",
       "      <th></th>\n",
       "      <th></th>\n",
       "      <th></th>\n",
       "      <th></th>\n",
       "      <th></th>\n",
       "    </tr>\n",
       "  </thead>\n",
       "  <tbody>\n",
       "    <tr>\n",
       "      <th>1</th>\n",
       "      <td>Bulbasaur</td>\n",
       "      <td>Grass</td>\n",
       "      <td>Poison</td>\n",
       "      <td>24</td>\n",
       "      <td>25.2</td>\n",
       "      <td>45</td>\n",
       "      <td>45</td>\n",
       "      <td>49</td>\n",
       "      <td>49</td>\n",
       "    </tr>\n",
       "    <tr>\n",
       "      <th>2</th>\n",
       "      <td>Ivysaur</td>\n",
       "      <td>Grass</td>\n",
       "      <td>Poison</td>\n",
       "      <td>39</td>\n",
       "      <td>28.7</td>\n",
       "      <td>60</td>\n",
       "      <td>60</td>\n",
       "      <td>62</td>\n",
       "      <td>63</td>\n",
       "    </tr>\n",
       "    <tr>\n",
       "      <th>3</th>\n",
       "      <td>Venusaur</td>\n",
       "      <td>Grass</td>\n",
       "      <td>Poison</td>\n",
       "      <td>79</td>\n",
       "      <td>220.5</td>\n",
       "      <td>80</td>\n",
       "      <td>80</td>\n",
       "      <td>82</td>\n",
       "      <td>83</td>\n",
       "    </tr>\n",
       "    <tr>\n",
       "      <th>4</th>\n",
       "      <td>Charmander</td>\n",
       "      <td>Fire</td>\n",
       "      <td>NaN</td>\n",
       "      <td>24</td>\n",
       "      <td>18.7</td>\n",
       "      <td>39</td>\n",
       "      <td>65</td>\n",
       "      <td>52</td>\n",
       "      <td>43</td>\n",
       "    </tr>\n",
       "    <tr>\n",
       "      <th>5</th>\n",
       "      <td>Charmeleon</td>\n",
       "      <td>Fire</td>\n",
       "      <td>NaN</td>\n",
       "      <td>43</td>\n",
       "      <td>41.9</td>\n",
       "      <td>58</td>\n",
       "      <td>80</td>\n",
       "      <td>64</td>\n",
       "      <td>58</td>\n",
       "    </tr>\n",
       "  </tbody>\n",
       "</table>\n",
       "</div>"
      ],
      "text/plain": [
       "            pokemon maintype secondarytype  height  weight  damage  basespeed  \\\n",
       "pokedex                                                                         \n",
       "1         Bulbasaur    Grass        Poison      24    25.2      45         45   \n",
       "2           Ivysaur    Grass        Poison      39    28.7      60         60   \n",
       "3          Venusaur    Grass        Poison      79   220.5      80         80   \n",
       "4        Charmander     Fire           NaN      24    18.7      39         65   \n",
       "5        Charmeleon     Fire           NaN      43    41.9      58         80   \n",
       "\n",
       "         attack  defense  \n",
       "pokedex                   \n",
       "1            49       49  \n",
       "2            62       63  \n",
       "3            82       83  \n",
       "4            52       43  \n",
       "5            64       58  "
      ]
     },
     "execution_count": 1,
     "metadata": {},
     "output_type": "execute_result"
    }
   ],
   "source": [
    "# read in Pokemon data again\n",
    "import warnings\n",
    "warnings.simplefilter(action='ignore', category=FutureWarning)\n",
    "import pandas as pd\n",
    "import seaborn as sns\n",
    "import matplotlib.pyplot as plt\n",
    "import numpy as np\n",
    "\n",
    "sns.set(font_scale=1.2)\n",
    "\n",
    "def make_lower(x):\n",
    "    return str(x).lower()\n",
    "\n",
    "df_poke = pd.read_csv('pokedata.csv')\n",
    "df_poke = df_poke.rename(make_lower, axis = 1)\n",
    "df_poke = df_poke.set_index('pokedex')\n",
    "df_poke.head()"
   ]
  },
  {
   "cell_type": "code",
   "execution_count": 2,
   "id": "ad656286",
   "metadata": {},
   "outputs": [],
   "source": [
    "bool_3types = (df_poke['maintype'] == 'Grass') | (df_poke['maintype'] ==  'Fire') | (df_poke['maintype'] ==  'Water')"
   ]
  },
  {
   "cell_type": "code",
   "execution_count": 3,
   "id": "63a1f7a2",
   "metadata": {},
   "outputs": [],
   "source": [
    "df_3types = df_poke.loc[bool_3types,:]\n",
    "# df_3types"
   ]
  },
  {
   "cell_type": "code",
   "execution_count": 4,
   "id": "2a26bc44",
   "metadata": {},
   "outputs": [
    {
     "name": "stderr",
     "output_type": "stream",
     "text": [
      "C:\\Users\\eager\\AppData\\Local\\Temp\\ipykernel_17244\\3275975928.py:10: SettingWithCopyWarning: \n",
      "A value is trying to be set on a copy of a slice from a DataFrame.\n",
      "Try using .loc[row_indexer,col_indexer] = value instead\n",
      "\n",
      "See the caveats in the documentation: https://pandas.pydata.org/pandas-docs/stable/user_guide/indexing.html#returning-a-view-versus-a-copy\n",
      "  df_3types[feat] = df_3types[feat] / df_3types[feat].std()\n"
     ]
    }
   ],
   "source": [
    "from sklearn.neighbors import KNeighborsClassifier\n",
    "import pandas as pd\n",
    "\n",
    "k = 3\n",
    "x_feat_list = ['height', 'weight', 'damage']\n",
    "y_feat = 'maintype'\n",
    "\n",
    "# scale normalization (overwrites old data)\n",
    "for feat in x_feat_list:\n",
    "    df_3types[feat] = df_3types[feat] / df_3types[feat].std()\n",
    "\n",
    "# extract data into numpy format (for sklearn)\n",
    "x = df_3types.loc[:, x_feat_list].values\n",
    "y_true = df_3types.loc[:, y_feat].values\n",
    "\n",
    "# initialize a knn_classifier\n",
    "knn_classifier = KNeighborsClassifier(n_neighbors=k)\n",
    "\n",
    "# fit happens \"inplace\", we modify the internal state of knn_classifier to remember all the training samples\n",
    "knn_classifier.fit(x, y_true)\n",
    "\n",
    "# estimate each penguin's species\n",
    "y_pred = knn_classifier.predict(x)"
   ]
  },
  {
   "cell_type": "code",
   "execution_count": 5,
   "id": "c300ab9e",
   "metadata": {
    "scrolled": true
   },
   "outputs": [
    {
     "data": {
      "image/png": "[encoded data removed]",
      "text/plain": [
       "<Figure size 1000x1000 with 2 Axes>"
      ]
     },
     "metadata": {},
     "output_type": "display_data"
    }
   ],
   "source": [
    "from sklearn.metrics import confusion_matrix, ConfusionMatrixDisplay\n",
    "\n",
    "conf_mat = confusion_matrix(y_true=y_true, y_pred=y_pred)\n",
    "\n",
    "conf_mat_disp = ConfusionMatrixDisplay(conf_mat, display_labels=np.unique(y_true))\n",
    "conf_mat_disp.plot()\n",
    "\n",
    "plt.gcf().set_size_inches(10, 10)\n",
    "\n",
    "# seaborn turns on grid by default ... looks best without it\n",
    "plt.grid(False)"
   ]
  },
  {
   "cell_type": "code",
   "execution_count": 6,
   "id": "3e054077",
   "metadata": {},
   "outputs": [
    {
     "name": "stdout",
     "output_type": "stream",
     "text": [
      "Fire maintype accuracy: 0.750\n",
      "\tMaintype most commonly mistaken for: Water\n",
      "\n",
      "Grass maintype accuracy: 0.667\n",
      "\tMaintype most commonly mistaken for: Fire\n",
      "\n",
      "Water maintype accuracy: 0.722\n",
      "\tMaintype most commonly mistaken for: Fire\n",
      "\n"
     ]
    }
   ],
   "source": [
    "# Initiate position of correct prediction (goes diagonal down the rows)\n",
    "correct_pred_pos = 0\n",
    "\n",
    "# Identify pokemon type\n",
    "type_names = np.unique(y_true)\n",
    "\n",
    "for row in conf_mat:\n",
    "    # Sum total number of maintype\n",
    "    total_pokemon = sum(row)\n",
    "    \n",
    "    # Extract correct predictions\n",
    "    correct_pred = row[correct_pred_pos]\n",
    "    \n",
    "    # Compute accuracy\n",
    "    accuracy = correct_pred / total_pokemon\n",
    "    \n",
    "    # Find the other maintype it is most commonly mistaken for\n",
    "    secondmax_pred = sorted(row)[-2]\n",
    "    secondmax_pos = np.where(row == secondmax_pred)\n",
    "    \n",
    "    print(f'{type_names[correct_pred_pos]} maintype accuracy: {accuracy:.3f}')\n",
    "    print(f'\\tMaintype most commonly mistaken for: {type_names[secondmax_pos][0]}\\n')\n",
    "    \n",
    "    \n",
    "    correct_pred_pos += 1"
   ]
  },
  {
   "cell_type": "markdown",
   "id": "b656d3b7",
   "metadata": {},
   "source": [
    "## Then with cross validation"
   ]
  },
  {
   "cell_type": "code",
   "execution_count": 7,
   "id": "95111177",
   "metadata": {},
   "outputs": [
    {
     "name": "stderr",
     "output_type": "stream",
     "text": [
      "C:\\Users\\eager\\AppData\\Local\\Temp\\ipykernel_17244\\3007623061.py:10: SettingWithCopyWarning: \n",
      "A value is trying to be set on a copy of a slice from a DataFrame.\n",
      "Try using .loc[row_indexer,col_indexer] = value instead\n",
      "\n",
      "See the caveats in the documentation: https://pandas.pydata.org/pandas-docs/stable/user_guide/indexing.html#returning-a-view-versus-a-copy\n",
      "  df_3types[feat] = df_3types[feat] / df_3types[feat].std()\n"
     ]
    },
    {
     "ename": "NameError",
     "evalue": "name 'StratifiedKFold' is not defined",
     "output_type": "error",
     "traceback": [
      "\u001b[1;31m---------------------------------------------------------------------------\u001b[0m",
      "\u001b[1;31mNameError\u001b[0m                                 Traceback (most recent call last)",
      "Cell \u001b[1;32mIn [7], line 20\u001b[0m\n\u001b[0;32m     17\u001b[0m knn_classifier \u001b[38;5;241m=\u001b[39m KNeighborsClassifier(n_neighbors\u001b[38;5;241m=\u001b[39mk)\n\u001b[0;32m     19\u001b[0m \u001b[38;5;66;03m# construction of kfold object\u001b[39;00m\n\u001b[1;32m---> 20\u001b[0m kfold \u001b[38;5;241m=\u001b[39m StratifiedKFold(n_splits\u001b[38;5;241m=\u001b[39m\u001b[38;5;241m4\u001b[39m)\n\u001b[0;32m     22\u001b[0m \u001b[38;5;66;03m# allocate an empty array to store predictions in\u001b[39;00m\n\u001b[0;32m     23\u001b[0m y_pred2 \u001b[38;5;241m=\u001b[39m copy(y_true2)\n",
      "\u001b[1;31mNameError\u001b[0m: name 'StratifiedKFold' is not defined"
     ]
    }
   ],
   "source": [
    "from sklearn.neighbors import KNeighborsClassifier\n",
    "import pandas as pd\n",
    "\n",
    "k = 3\n",
    "x_feat_list = ['height', 'weight', 'damage']\n",
    "y_feat = 'maintype'\n",
    "\n",
    "# scale normalization (overwrites old data)\n",
    "for feat in x_feat_list:\n",
    "    df_3types[feat] = df_3types[feat] / df_3types[feat].std()\n",
    "\n",
    "# extract data into numpy format (for sklearn)\n",
    "x2 = df_3types.loc[:, x_feat_list].values\n",
    "y_true2 = df_3types.loc[:, y_feat].values\n",
    "\n",
    "# initialize a knn_classifier\n",
    "knn_classifier = KNeighborsClassifier(n_neighbors=k)\n",
    "\n",
    "# construction of kfold object\n",
    "kfold = StratifiedKFold(n_splits=4)\n",
    "\n",
    "# allocate an empty array to store predictions in\n",
    "y_pred2 = copy(y_true2)\n",
    "\n",
    "for train_idx, test_idx in kfold.split(x2, y_true2):\n",
    "    # build arrays which correspond to x, y train /test\n",
    "    x_test2 = x2[test_idx, :]\n",
    "    x_train2 = x2[train_idx, :]\n",
    "    y_true_train2 = y_true2[train_idx]\n",
    "    \n",
    "    print(Counter(y_true_train2))\n",
    "    \n",
    "    # fit happens \"inplace\", we modify the internal state of knn_classifier to remember all the training samples\n",
    "    knn_classifier.fit(x_train2, y_true_train2)\n",
    "\n",
    "    # estimate each pokemon's maintype\n",
    "    y_pred2[test_idx] = knn_classifier.predict(x_test2)"
   ]
  },
  {
   "cell_type": "code",
   "execution_count": null,
   "id": "2b07cff2",
   "metadata": {},
   "outputs": [],
   "source": [
    "from sklearn.metrics import confusion_matrix, ConfusionMatrixDisplay\n",
    "\n",
    "conf_mat2 = confusion_matrix(y_true=y_true2, y_pred=y_pred2)\n",
    "\n",
    "conf_mat_disp2 = ConfusionMatrixDisplay(conf_mat2, display_labels=np.unique(y_true2))\n",
    "conf_mat_disp2.plot()\n",
    "\n",
    "plt.gcf().set_size_inches(10, 10)\n",
    "\n",
    "# seaborn turns on grid by default ... looks best without it\n",
    "plt.grid(False)"
   ]
  }
 ],
 "metadata": {
  "kernelspec": {
   "display_name": "Python 3 (ipykernel)",
   "language": "python",
   "name": "python3"
  },
  "language_info": {
   "codemirror_mode": {
    "name": "ipython",
    "version": 3
   },
   "file_extension": ".py",
   "mimetype": "text/x-python",
   "name": "python",
   "nbconvert_exporter": "python",
   "pygments_lexer": "ipython3",
   "version": "3.8.10"
  }
 },
 "nbformat": 4,
 "nbformat_minor": 5
}
