{
 "cells": [
  {
   "cell_type": "markdown",
   "id": "d20199a7-15c4-43c7-a93a-588e8adfd152",
   "metadata": {},
   "source": [
    "# DS3000 Day 2\n",
    "\n",
    "Sep 14/15, 2023\n",
    "\n",
    "Admin\n",
    "- Qwickly Attendance (PIN on board)\n",
    "- New modules for today and next week:\n",
    "    - `pip install requests plotly matplotlib`\n",
    "- Homework 1 due next Tues, Sep 19 by midnight\n",
    "\n",
    "Push-Up Tracker\n",
    "- Section 04: 0\n",
    "- Section 05: 2\n",
    "- Section 06: 0\n",
    "\n",
    "Content\n",
    "- introduce APIs"
   ]
  },
  {
   "cell_type": "markdown",
   "id": "10e5a8e3-a6d0-4766-8efa-8174ae1ff3b3",
   "metadata": {},
   "source": [
    "# Basic tools in preparation for APIs\n",
    "\n",
    "The `requests` module comes into play soon. While you may have installed it in the terminal earlier, it is actually a [magic](https://ipython.readthedocs.io/en/stable/interactive/magics.html#magic-pip) command, which means it can be installed directly from jupyter (should you ever need to install it again, or if you had difficulty installing it earlier)."
   ]
  },
  {
   "cell_type": "code",
   "execution_count": 1,
   "id": "8d7f5a55-8542-427b-8624-73c7e29ee552",
   "metadata": {},
   "outputs": [
    {
     "name": "stdout",
     "output_type": "stream",
     "text": [
      "Requirement already satisfied: requests in c:\\users\\eager\\appdata\\local\\packages\\pythonsoftwarefoundation.python.3.11_qbz5n2kfra8p0\\localcache\\local-packages\\python311\\site-packages (2.31.0)\n",
      "Requirement already satisfied: charset-normalizer<4,>=2 in c:\\users\\eager\\appdata\\local\\packages\\pythonsoftwarefoundation.python.3.11_qbz5n2kfra8p0\\localcache\\local-packages\\python311\\site-packages (from requests) (3.2.0)\n",
      "Requirement already satisfied: idna<4,>=2.5 in c:\\users\\eager\\appdata\\local\\packages\\pythonsoftwarefoundation.python.3.11_qbz5n2kfra8p0\\localcache\\local-packages\\python311\\site-packages (from requests) (3.4)\n",
      "Requirement already satisfied: urllib3<3,>=1.21.1 in c:\\users\\eager\\appdata\\local\\packages\\pythonsoftwarefoundation.python.3.11_qbz5n2kfra8p0\\localcache\\local-packages\\python311\\site-packages (from requests) (2.0.4)\n",
      "Requirement already satisfied: certifi>=2017.4.17 in c:\\users\\eager\\appdata\\local\\packages\\pythonsoftwarefoundation.python.3.11_qbz5n2kfra8p0\\localcache\\local-packages\\python311\\site-packages (from requests) (2023.7.22)\n",
      "Note: you may need to restart the kernel to use updated packages.\n"
     ]
    }
   ],
   "source": [
    "pip install requests"
   ]
  },
  {
   "cell_type": "markdown",
   "id": "45722843-745f-4b23-909a-79b005269c05",
   "metadata": {},
   "source": [
    "## Building a DataFrame row by row\n",
    "\n",
    "We often get data in chunks (web scraping / API calls).  We'll need to store our data incrementally:"
   ]
  },
  {
   "cell_type": "code",
   "execution_count": 2,
   "id": "b041319e-116c-42fa-9c88-f1d6681a608d",
   "metadata": {},
   "outputs": [
    {
     "data": {
      "text/html": [
       "<div>\n",
       "<style scoped>\n",
       "    .dataframe tbody tr th:only-of-type {\n",
       "        vertical-align: middle;\n",
       "    }\n",
       "\n",
       "    .dataframe tbody tr th {\n",
       "        vertical-align: top;\n",
       "    }\n",
       "\n",
       "    .dataframe thead th {\n",
       "        text-align: right;\n",
       "    }\n",
       "</style>\n",
       "<table border=\"1\" class=\"dataframe\">\n",
       "  <thead>\n",
       "    <tr style=\"text-align: right;\">\n",
       "      <th></th>\n",
       "      <th>a</th>\n",
       "      <th>b</th>\n",
       "      <th>c</th>\n",
       "    </tr>\n",
       "  </thead>\n",
       "  <tbody>\n",
       "    <tr>\n",
       "      <th>0</th>\n",
       "      <td>1</td>\n",
       "      <td>2</td>\n",
       "      <td>3</td>\n",
       "    </tr>\n",
       "    <tr>\n",
       "      <th>0</th>\n",
       "      <td>4</td>\n",
       "      <td>3874</td>\n",
       "      <td>398</td>\n",
       "    </tr>\n",
       "  </tbody>\n",
       "</table>\n",
       "</div>"
      ],
      "text/plain": [
       "   a     b    c\n",
       "0  1     2    3\n",
       "0  4  3874  398"
      ]
     },
     "execution_count": 2,
     "metadata": {},
     "output_type": "execute_result"
    }
   ],
   "source": [
    "import pandas as pd\n",
    "\n",
    "dict_list = [{'a': 1, 'b': 2, 'c': 3},\n",
    "             {'a': 4, 'b': 3874, 'c': 398}]\n",
    "\n",
    "df = pd.DataFrame()\n",
    "\n",
    "for d in dict_list:\n",
    "    df = pd.concat([df, pd.Series(d).to_frame().T])\n",
    "    \n",
    "df"
   ]
  },
  {
   "cell_type": "code",
   "execution_count": 3,
   "id": "087aee01-9f30-421a-87f1-54e12b8dbd02",
   "metadata": {},
   "outputs": [
    {
     "data": {
      "text/html": [
       "<div>\n",
       "<style scoped>\n",
       "    .dataframe tbody tr th:only-of-type {\n",
       "        vertical-align: middle;\n",
       "    }\n",
       "\n",
       "    .dataframe tbody tr th {\n",
       "        vertical-align: top;\n",
       "    }\n",
       "\n",
       "    .dataframe thead th {\n",
       "        text-align: right;\n",
       "    }\n",
       "</style>\n",
       "<table border=\"1\" class=\"dataframe\">\n",
       "  <thead>\n",
       "    <tr style=\"text-align: right;\">\n",
       "      <th></th>\n",
       "      <th>a</th>\n",
       "      <th>b</th>\n",
       "      <th>c</th>\n",
       "    </tr>\n",
       "  </thead>\n",
       "  <tbody>\n",
       "    <tr>\n",
       "      <th>first</th>\n",
       "      <td>1</td>\n",
       "      <td>2</td>\n",
       "      <td>3</td>\n",
       "    </tr>\n",
       "    <tr>\n",
       "      <th>second</th>\n",
       "      <td>4</td>\n",
       "      <td>3874</td>\n",
       "      <td>398</td>\n",
       "    </tr>\n",
       "  </tbody>\n",
       "</table>\n",
       "</div>"
      ],
      "text/plain": [
       "        a     b    c\n",
       "first   1     2    3\n",
       "second  4  3874  398"
      ]
     },
     "execution_count": 3,
     "metadata": {},
     "output_type": "execute_result"
    }
   ],
   "source": [
    "# to include index names\n",
    "list_dict = [{'a': 1, 'b': 2, 'c': 3},\n",
    "            {'a': 4, 'b': 3874, 'c': 398}]\n",
    "\n",
    "name_list = ['first', 'second']\n",
    "\n",
    "df = pd.DataFrame()\n",
    "for idx in range(2):\n",
    "    # extract dictionary & name\n",
    "    d = list_dict[idx]\n",
    "    name = name_list[idx]\n",
    "    \n",
    "    # build series and name it\n",
    "    series = pd.Series(d, name=name)\n",
    "    \n",
    "    df = pd.concat([df, series.to_frame().T])\n",
    "    \n",
    "df"
   ]
  },
  {
   "cell_type": "markdown",
   "id": "f397a3ee-34c8-4a78-93c6-397c1b335ddd",
   "metadata": {},
   "source": [
    "# Timestamps\n",
    "\n",
    "Many datasets include a timestamp, or include a date/time as a feature in the dataset. Understanding how to deal with these is important! We actually already used pandas `.to_datetime()` function with the Korean Demographics data to cast strings to `datetime` objects. \n",
    "\n",
    "## Unix Time\n",
    "\n",
    "- [UTC](https://en.wikipedia.org/wiki/Coordinated_Universal_Time) Coordinated Universal Time\n",
    "    - time zone at 0 deg longitude\n",
    "        - how is 0 deg longitude defined?  \n",
    "            - A succesfully warring empire (United Kingdom) chose it \n",
    "                - (It would be convenient if a metric system loving empire had been more successful at war ...)\n",
    "- [Unix Time](https://en.wikipedia.org/wiki/Unix_time) is The number of seconds which have passed since 00:00:00 UTC on 1 Jan 1970 (ignoring leap seconds)\n",
    "- UTC is time zone agnostic \n",
    "    - (more on this next lesson...)\n",
    "\n",
    "## Python's `datetime` & `timedelta`\n",
    "- helpful for all those pesky unit conversions"
   ]
  },
  {
   "cell_type": "code",
   "execution_count": 4,
   "id": "942f67d2-2f9d-4691-8fad-83f8a2862979",
   "metadata": {},
   "outputs": [
    {
     "data": {
      "text/plain": [
       "datetime.datetime(2021, 2, 14, 2, 0)"
      ]
     },
     "execution_count": 4,
     "metadata": {},
     "output_type": "execute_result"
    }
   ],
   "source": [
    "from datetime import datetime, timedelta\n",
    "\n",
    "# would you believe that the below is exactly 2 am on Valentine's Day 2021?\n",
    "utc_example = 1613286000\n",
    "\n",
    "# assumes the time zone of the machine its running on!\n",
    "dt0 = datetime.fromtimestamp(utc_example)\n",
    "dt0"
   ]
  },
  {
   "cell_type": "code",
   "execution_count": 44,
   "id": "3930cc0b-86ed-444b-ae3e-5a388c821077",
   "metadata": {},
   "outputs": [],
   "source": [
    "from datetime import datetime, timedelta"
   ]
  },
  {
   "cell_type": "code",
   "execution_count": 53,
   "id": "b4f34bc6-5e56-4709-b674-2d039f4c9c18",
   "metadata": {},
   "outputs": [],
   "source": [
    "date1 = datetime.strptime('Today is the 25th', 'Today is the %dth')"
   ]
  },
  {
   "cell_type": "code",
   "execution_count": 57,
   "id": "e0e4d27e-8a72-48a9-b8bf-78ebb4b31415",
   "metadata": {},
   "outputs": [
    {
     "data": {
      "text/plain": [
       "datetime.datetime(1900, 4, 25, 0, 0)"
      ]
     },
     "execution_count": 57,
     "metadata": {},
     "output_type": "execute_result"
    }
   ],
   "source": [
    "date1 + timedelta(days = 90)"
   ]
  },
  {
   "cell_type": "code",
   "execution_count": 58,
   "id": "9cea1c39-022d-4d64-b8be-cee6f371b56e",
   "metadata": {},
   "outputs": [],
   "source": [
    "str1 = \"September 25\"\n",
    "str2 = \"10 am\""
   ]
  },
  {
   "cell_type": "code",
   "execution_count": 61,
   "id": "79fac308-e542-478d-ade1-8e184fbef2ef",
   "metadata": {},
   "outputs": [
    {
     "data": {
      "text/plain": [
       "datetime.datetime(1900, 9, 25, 10, 0)"
      ]
     },
     "execution_count": 61,
     "metadata": {},
     "output_type": "execute_result"
    }
   ],
   "source": [
    "newdate = datetime.strptime(str1 + ' ' + str2, '%B %d %H %p')\n",
    "newdate"
   ]
  },
  {
   "cell_type": "code",
   "execution_count": 65,
   "id": "479bf102-02cd-4f32-ad99-4241502309b1",
   "metadata": {},
   "outputs": [
    {
     "data": {
      "text/plain": [
       "datetime.datetime(2023, 9, 25, 10, 0)"
      ]
     },
     "execution_count": 65,
     "metadata": {},
     "output_type": "execute_result"
    }
   ],
   "source": [
    "newnewdate = datetime(year = 2023, month = newdate.month, day = newdate.day, hour = newdate.hour)\n",
    "newnewdate"
   ]
  },
  {
   "cell_type": "code",
   "execution_count": 69,
   "id": "a89d59b7-8a0d-49d2-89a3-8ad40048f671",
   "metadata": {},
   "outputs": [],
   "source": [
    "import pytz\n",
    "tz_mali = pytz.timezone(\"Africa/Timbuktu\")\n",
    "inmali = tz_mali.localize(newnewdate)"
   ]
  },
  {
   "cell_type": "code",
   "execution_count": 70,
   "id": "cd2652ce-6850-445f-a26a-907e06393b29",
   "metadata": {},
   "outputs": [
    {
     "data": {
      "text/plain": [
       "datetime.datetime(2023, 9, 25, 5, 0, tzinfo=<StaticTzInfo 'EST'>)"
      ]
     },
     "execution_count": 70,
     "metadata": {},
     "output_type": "execute_result"
    }
   ],
   "source": [
    "tz_est = pytz.timezone(\"EST\")\n",
    "inmali.astimezone(tz_est)"
   ]
  },
  {
   "cell_type": "code",
   "execution_count": null,
   "id": "d8e31377-39b9-4e53-bda4-630bc0d5f92c",
   "metadata": {},
   "outputs": [],
   "source": []
  },
  {
   "cell_type": "code",
   "execution_count": null,
   "id": "db0a2eb4-6880-4648-a90b-a1279f8a2b9b",
   "metadata": {},
   "outputs": [],
   "source": []
  },
  {
   "cell_type": "code",
   "execution_count": 5,
   "id": "1e729ddd-54af-474b-926d-42212357becb",
   "metadata": {},
   "outputs": [
    {
     "data": {
      "text/plain": [
       "datetime.datetime(2023, 9, 13, 11, 21, 37, 127749)"
      ]
     },
     "execution_count": 5,
     "metadata": {},
     "output_type": "execute_result"
    }
   ],
   "source": [
    "# what about right.... now?\n",
    "dt1 = datetime.now()\n",
    "dt1"
   ]
  },
  {
   "cell_type": "code",
   "execution_count": 6,
   "id": "533371e7-abc1-4249-9041-556b99b6d55a",
   "metadata": {},
   "outputs": [
    {
     "data": {
      "text/plain": [
       "datetime.datetime(2031, 4, 15, 9, 26, 53)"
      ]
     },
     "execution_count": 6,
     "metadata": {},
     "output_type": "execute_result"
    }
   ],
   "source": [
    "# we can set future dates as well\n",
    "dt2 = datetime(year=2031, month=4, day=15, hour=9, minute=26, second=53)\n",
    "dt2"
   ]
  },
  {
   "cell_type": "code",
   "execution_count": 7,
   "id": "ee47bc49-2c9e-4adc-adbb-c83d7b369426",
   "metadata": {},
   "outputs": [
    {
     "data": {
      "text/plain": [
       "(4, 15)"
      ]
     },
     "execution_count": 7,
     "metadata": {},
     "output_type": "execute_result"
    }
   ],
   "source": [
    "# we can access meaningful date attributes of a datetime object\n",
    "# year, month, day, hour, minute, second\n",
    "dt2.month, dt2.day"
   ]
  },
  {
   "cell_type": "code",
   "execution_count": 8,
   "id": "844fca98-f9d6-4281-87df-1094c763c1f3",
   "metadata": {},
   "outputs": [
    {
     "name": "stdout",
     "output_type": "stream",
     "text": [
      "2031-04-15 09:26:53\n",
      "2031-04-20 11:56:32\n"
     ]
    }
   ],
   "source": [
    "# we can add / subtract timedelta objects\n",
    "offset = timedelta(days=5, seconds=8979)\n",
    "\n",
    "print(dt2)\n",
    "print(dt2 + offset)"
   ]
  },
  {
   "cell_type": "code",
   "execution_count": 9,
   "id": "bac7fb4b-fdc5-43d8-b907-0f866cd69a5f",
   "metadata": {},
   "outputs": [
    {
     "data": {
      "text/plain": [
       "datetime.datetime(2022, 9, 30, 3, 20)"
      ]
     },
     "execution_count": 9,
     "metadata": {},
     "output_type": "execute_result"
    }
   ],
   "source": [
    "# use strptime to take the time from strings contain other words\n",
    "datetime.strptime('the time is now: September-30-2022 3:20 PM', 'the time is now: %B-%d-%Y %H:%M %p')"
   ]
  },
  {
   "cell_type": "code",
   "execution_count": 10,
   "id": "98d7035b-6bf0-462f-b3f0-5aac70a458b8",
   "metadata": {},
   "outputs": [
    {
     "data": {
      "text/plain": [
       "'the time is now: September-13-2023 11:21 AM'"
      ]
     },
     "execution_count": 10,
     "metadata": {},
     "output_type": "execute_result"
    }
   ],
   "source": [
    "# use strftime to cast a time to a string that contains other words\n",
    "# https://docs.python.org/3/library/datetime.html#strftime-and-strptime-format-codes\n",
    "s = datetime.now().strftime('the time is now: %B-%d-%Y %H:%M %p')\n",
    "s"
   ]
  },
  {
   "cell_type": "code",
   "execution_count": 11,
   "id": "c5420f80-3d5e-4974-ab58-15d777a199b5",
   "metadata": {},
   "outputs": [
    {
     "data": {
      "text/plain": [
       "{'hour': 11, 'minute': 21}"
      ]
     },
     "execution_count": 11,
     "metadata": {},
     "output_type": "execute_result"
    }
   ],
   "source": [
    "# you can save useful time info in a dictionary (which could then become a series -> data frame)\n",
    "dt = datetime.now()\n",
    "{'hour': dt.hour,\n",
    "'minute': dt.minute}"
   ]
  },
  {
   "cell_type": "code",
   "execution_count": 12,
   "id": "0dc570b9-0d22-4e95-8541-746162499f3b",
   "metadata": {},
   "outputs": [
    {
     "name": "stdout",
     "output_type": "stream",
     "text": [
      "1032871177.204488\n"
     ]
    },
    {
     "data": {
      "text/plain": [
       "1.032871177204488"
      ]
     },
     "execution_count": 12,
     "metadata": {},
     "output_type": "execute_result"
    }
   ],
   "source": [
    "# you can figure out how old you are in seconds\n",
    "eric_age = (datetime.now() - datetime(year=1990, month=12, day=20, hour=22, minute=42)).total_seconds()\n",
    "print(eric_age)\n",
    "# put it in billions (it wasn't long ago that I turned 1 billion!)\n",
    "eric_age/ 1e09"
   ]
  },
  {
   "cell_type": "markdown",
   "id": "41a3d3ab-8f2b-4825-b185-4aeb04c48909",
   "metadata": {},
   "source": [
    "# Lecture Break/Practice 1\n",
    "\n",
    "A logarithmic birthday party is the moment you are some integer power of 10 seconds old (1 second old, 10 seconds old, 100 seconds old, ...)\n",
    "\n",
    "Compute your first 10 logarithmic birthday parties, store them in a dataframe as shown below.  (You're welcome to use a fake birthday if you'd like)\n",
    "\n",
    "|  log_bday |   year |  month |  day |   hour | minute|sec |\n",
    "|----------:|-------:|-------:|-----:|-------:|------:|---:|\n",
    "|  10^0 sec | 1990   |  12    |  20  |   10   |   42  |  1 |\n",
    "|  10^1 sec | 1990   |  12    |  20  |   10   |   42  | 10 |\n",
    "|  10^2 sec | 1990   |  12    |  20  |   10   |   43  | 40 |\n",
    "|  10^3 sec | 1990   |  12    |  20  |   10   |   58  | 40 |\n",
    "|  10^4 sec | 1990   |  12    |  20  |   13   |   28  | 40 |\n",
    "|  10^5 sec | 1990   |  12    |  21  |   14   |   28  | 40 |\n",
    "|  10^6 sec | 1991   |   1    |   1  |    0   |   28  | 40 |\n",
    "|  10^7 sec | 1991   |   4    |  15  |    4   |   28  | 40 |\n",
    "|  10^8 sec | 1994   |   2    |  19  |   20   |   28  | 40 |\n",
    "|  10^9 sec | 2022   |   8    |  28  |   12   |   28  | 40 |\n",
    "| 10^10 sec | 2307   |  11    |  10  |    4   |   28  | 40 |\n",
    "\n",
    "(++) add a column with a more easily readable time (e.g. `September-14-2023 3:11 PM`)"
   ]
  },
  {
   "cell_type": "code",
   "execution_count": 13,
   "id": "d6430ee4-3998-4359-8339-235393b2190b",
   "metadata": {},
   "outputs": [
    {
     "data": {
      "text/plain": [
       "'10^0sec'"
      ]
     },
     "execution_count": 13,
     "metadata": {},
     "output_type": "execute_result"
    }
   ],
   "source": [
    "exp=0\n",
    "f'10^{exp}sec'"
   ]
  },
  {
   "cell_type": "markdown",
   "id": "e859bde4-99a3-4d97-a5a1-cd7b6f673f3a",
   "metadata": {},
   "source": [
    "## Representing Trees as Lists & Dictionaries\n",
    "- useful for representing a tree of data\n",
    "- (our API calls will return nested dictionaries)\n",
    "\n",
    "<img src=\"https://i.ibb.co/Pmxqpb3/tree-ex.png\" alt=\"Drawing\" style=\"width: 400px;\"/>"
   ]
  },
  {
   "cell_type": "code",
   "execution_count": 14,
   "id": "beafeb73-0a8e-4f53-b8e5-46735b3e4db0",
   "metadata": {},
   "outputs": [
    {
     "data": {
      "text/plain": [
       "{'f': {'a': 0, 'b': 1, 'c': 2}, 'g': {'x': 24, 'y': 25, 'z': 26}}"
      ]
     },
     "execution_count": 14,
     "metadata": {},
     "output_type": "execute_result"
    }
   ],
   "source": [
    "red_branch_dict = {'a': 0, 'b': 1, 'c': 2}\n",
    "blu_branch_dict = {'x': 24, 'y': 25, 'z': 26}\n",
    "tree_dict = {'f': red_branch_dict,\n",
    "             'g': blu_branch_dict}\n",
    "tree_dict"
   ]
  },
  {
   "cell_type": "code",
   "execution_count": 15,
   "id": "a07b5bcf-8699-4e57-ada3-3bac226dd781",
   "metadata": {},
   "outputs": [
    {
     "data": {
      "text/plain": [
       "1"
      ]
     },
     "execution_count": 15,
     "metadata": {},
     "output_type": "execute_result"
    }
   ],
   "source": [
    "tree_dict['f']['b']"
   ]
  },
  {
   "cell_type": "markdown",
   "id": "ba84464b-daf9-458c-88b1-6eccb1a8c7f5",
   "metadata": {},
   "source": [
    "<img src=\"https://i.ibb.co/4SSH4mm/tree-ex2.png\" alt=\"Drawing\" style=\"width: 600px;\"/>"
   ]
  },
  {
   "cell_type": "code",
   "execution_count": 16,
   "id": "fc0c6f4b-1495-419f-a2e0-98187cf73dc6",
   "metadata": {},
   "outputs": [],
   "source": [
    "dict0 = {'num': 14,\n",
    "        'letter': 'C'}\n",
    "dict1 = {'num': 17,\n",
    "        'letter': 'R'}\n",
    "dict2 = {'num': 21,\n",
    "        'letter': 'S'}\n",
    "\n",
    "list_of_dict = [dict0, dict1, dict2]"
   ]
  },
  {
   "cell_type": "code",
   "execution_count": 17,
   "id": "3917e8e8-93a0-46bb-9fd6-18fad6c14fbf",
   "metadata": {},
   "outputs": [
    {
     "data": {
      "text/plain": [
       "14"
      ]
     },
     "execution_count": 17,
     "metadata": {},
     "output_type": "execute_result"
    }
   ],
   "source": [
    "list_of_dict[0]['num']"
   ]
  },
  {
   "cell_type": "markdown",
   "id": "eadbc79a-41f5-4ceb-a03b-ccbd0bc52ddd",
   "metadata": {},
   "source": [
    "## Lecture Break/Practice 2\n",
    "1. Express all of the following penguin group's height and weight as a list of dictionaries:\n",
    "<img src=\"https://i.ibb.co/XXzX4Wk/penguin-tree.png\" alt=\"Drawing\" style=\"width: 700px;\"/>"
   ]
  },
  {
   "cell_type": "markdown",
   "id": "e722b8f5-c7d9-4511-be38-14d7adca6a83",
   "metadata": {},
   "source": [
    "# API\n",
    "###  Definitions\n",
    "**API** Application Program Interface\n",
    " - a server which gives out data (often over the internet)\n",
    " - note: 'API', in general, refers to the barrier between two pieces of software:\n",
    "     - in this case, the server which hosts data & our own software which requests it\n",
    " \n",
    " \n",
    " **JSON** JavaScript Object Notation\n",
    "  - a method of storing objects as text\n",
    "  - much like the nested dictionaries ... JSON and similar formats are often trees\n",
    "\n",
    "## OpenWeather API\n",
    "What information does this offer?\n",
    "\n",
    "[https://openweathermap.org/api](https://openweathermap.org/api)\n",
    "\n",
    "How do I get ready to use it?\n",
    "- sign up for an account\n",
    "    - [https://home.openweathermap.org/users/sign_up](https://home.openweathermap.org/users/sign_up)\n",
    "- get an api key (my key was emailed to me with my confirmation of account)\n",
    "    - [https://home.openweathermap.org/api_keys](https://home.openweathermap.org/api_keys)\n",
    "        \n",
    "Think of APIs as a hybrid of a website and a function.  Its a website where your query is stored in the address:\n",
    "    \n",
    "    https://api.openweathermap.org/data/2.5/onecall?lat=42.3601&lon=-71.0589&appid=YOUR-API-KEY-HERE-THIS-WONT-WORK&units=imperial\n",
    "    \n",
    "The result is a JSON object, which we can quickly convert to our dictionary of dictionary tree format."
   ]
  },
  {
   "cell_type": "code",
   "execution_count": 18,
   "id": "e16881ff-8d07-4ec4-99d7-eacec94851c9",
   "metadata": {},
   "outputs": [
    {
     "name": "stdout",
     "output_type": "stream",
     "text": [
      "https://api.openweathermap.org/data/3.0/onecall?lat=42.3601&lon=-71.0589&appid=d36fa352ac73226b30772f64675f41bb&units=imperial\n"
     ]
    }
   ],
   "source": [
    "# todo: swap this out\n",
    "api_key = 'd36fa352ac73226b30772f64675f41bb'\n",
    "\n",
    "# north = positive, south = negative\n",
    "lat = 42.3601\n",
    "# west = positive, east = negative\n",
    "lon = -71.0589\n",
    "\n",
    "units = 'imperial'\n",
    "url = f'https://api.openweathermap.org/data/3.0/onecall?lat={lat}&lon={lon}&appid={api_key}&units={units}'\n",
    "print(url)"
   ]
  },
  {
   "cell_type": "code",
   "execution_count": 19,
   "id": "9369d035-0c42-4262-8052-2a4ffba91899",
   "metadata": {},
   "outputs": [
    {
     "data": {
      "text/plain": [
       "'{\"lat\":42.3601,\"lon\":-71.0589,\"timezone\":\"America/New_York\",\"timezone_offset\":-14400,\"current\":{\"dt\":1694618502,\"sunrise\":1694600511,\"sunset\":1694645937,\"temp\":76.05,\"feels_like\":77.02,\"pressure\":1015,\"humidity\":78,\"dew_point\":68.68,\"uvi\":3.88,\"clouds\":75,\"visibility\":10000,\"wind_speed\":6.91,\"wind_deg\":120,\"weather\":[{\"id\":803,\"main\":\"Clouds\",\"description\":\"broken clouds\",\"icon\":\"04d\"}]},\"minutely\":[{\"dt\":1694618520,\"precipitation\":0},{\"dt\":1694618580,\"precipitation\":0},{\"dt\":1694618640,\"precipitation\":0},{\"dt\":1694618700,\"precipitation\":0},{\"dt\":1694618760,\"precipitation\":0},{\"dt\":1694618820,\"precipitation\":0},{\"dt\":1694618880,\"precipitation\":0},{\"dt\":1694618940,\"precipitation\":0},{\"dt\":1694619000,\"precipitation\":0},{\"dt\":1694619060,\"precipitation\":0},{\"dt\":1694619120,\"precipitation\":0},{\"dt\":1694619180,\"precipitation\":0},{\"dt\":1694619240,\"precipitation\":0},{\"dt\":1694619300,\"precipitation\":0},{\"dt\":1694619360,\"precipitation\":0},{\"dt\":1694619420,\"precipitation\":0},{\"dt\":1694619480,\"precipitation\":0},{\"dt\":1694619540,\"precipitation\":0},{\"dt\":1694619600,\"precipitation\":0},{\"dt\":1694619660,\"precipitation\":0},{\"dt\":1694619720,\"precipitation\":0},{\"dt\":1694619780,\"precipitation\":0},{\"dt\":1694619840,\"precipitation\":0},{\"dt\":1694619900,\"precipitation\":0},{\"dt\":1694619960,\"precipitation\":0},{\"dt\":1694620020,\"precipitation\":0},{\"dt\":1694620080,\"precipitation\":0},{\"dt\":1694620140,\"precipitation\":0},{\"dt\":1694620200,\"precipitation\":0},{\"dt\":1694620260,\"precipitation\":0},{\"dt\":1694620320,\"precipitation\":0},{\"dt\":1694620380,\"precipitation\":0},{\"dt\":1694620440,\"precipitation\":0},{\"dt\":1694620500,\"precipitation\":0},{\"dt\":1694620560,\"precipitation\":0},{\"dt\":1694620620,\"precipitation\":0},{\"dt\":1694620680,\"precipitation\":0},{\"dt\":1694620740,\"precipitation\":0},{\"dt\":1694620800,\"precipitation\":0},{\"dt\":1694620860,\"precipitation\":0},{\"dt\":1694620920,\"precipitation\":0},{\"dt\":1694620980,\"precipitation\":0},{\"dt\":1694621040,\"precipitation\":0},{\"dt\":1694621100,\"precipitation\":0},{\"dt\":1694621160,\"precipitation\":0},{\"dt\":1694621220,\"precipitation\":0},{\"dt\":1694621280,\"precipitation\":0},{\"dt\":1694621340,\"precipitation\":0},{\"dt\":1694621400,\"precipitation\":0},{\"dt\":1694621460,\"precipitation\":0},{\"dt\":1694621520,\"precipitation\":0},{\"dt\":1694621580,\"precipitation\":0},{\"dt\":1694621640,\"precipitation\":0},{\"dt\":1694621700,\"precipitation\":0},{\"dt\":1694621760,\"precipitation\":0},{\"dt\":1694621820,\"precipitation\":0},{\"dt\":1694621880,\"precipitation\":0},{\"dt\":1694621940,\"precipitation\":0},{\"dt\":1694622000,\"precipitation\":0},{\"dt\":1694622060,\"precipitation\":0},{\"dt\":1694622120,\"precipitation\":0}],\"hourly\":[{\"dt\":1694617200,\"temp\":76.05,\"feels_like\":77.02,\"pressure\":1015,\"humidity\":78,\"dew_point\":68.68,\"uvi\":3.88,\"clouds\":75,\"visibility\":10000,\"wind_speed\":4.03,\"wind_deg\":205,\"wind_gust\":7.54,\"weather\":[{\"id\":500,\"main\":\"Rain\",\"description\":\"light rain\",\"icon\":\"10d\"}],\"pop\":0.51,\"rain\":{\"1h\":0.51}},{\"dt\":1694620800,\"temp\":75.54,\"feels_like\":76.55,\"pressure\":1015,\"humidity\":80,\"dew_point\":68.94,\"uvi\":2.37,\"clouds\":80,\"visibility\":10000,\"wind_speed\":5.7,\"wind_deg\":229,\"wind_gust\":11.12,\"weather\":[{\"id\":803,\"main\":\"Clouds\",\"description\":\"broken clouds\",\"icon\":\"04d\"}],\"pop\":0.77},{\"dt\":1694624400,\"temp\":73.9,\"feels_like\":74.95,\"pressure\":1015,\"humidity\":84,\"dew_point\":68.76,\"uvi\":2.48,\"clouds\":85,\"visibility\":10000,\"wind_speed\":4.09,\"wind_deg\":248,\"wind_gust\":9.24,\"weather\":[{\"id\":804,\"main\":\"Clouds\",\"description\":\"overcast clouds\",\"icon\":\"04d\"}],\"pop\":0.74},{\"dt\":1694628000,\"temp\":71.33,\"feels_like\":72.34,\"pressure\":1014,\"humidity\":89,\"dew_point\":67.93,\"uvi\":2.19,\"clouds\":90,\"visibility\":6493,\"wind_speed\":4.38,\"wind_deg\":250,\"wind_gust\":8.9,\"weather\":[{\"id\":501,\"main\":\"Rain\",\"description\":\"moderate rain\",\"icon\":\"10d\"}],\"pop\":0.94,\"rain\":{\"1h\":1.68}},{\"dt\":1694631600,\"temp\":69.22,\"feels_like\":70.27,\"pressure\":1014,\"humidity\":94,\"dew_point\":67.42,\"uvi\":2.05,\"clouds\":95,\"visibility\":7020,\"wind_speed\":2.15,\"wind_deg\":195,\"wind_gust\":6.8,\"weather\":[{\"id\":501,\"main\":\"Rain\",\"description\":\"moderate rain\",\"icon\":\"10d\"}],\"pop\":1,\"rain\":{\"1h\":3.58}},{\"dt\":1694635200,\"temp\":67.44,\"feels_like\":68.49,\"pressure\":1013,\"humidity\":98,\"dew_point\":66.63,\"uvi\":1.21,\"clouds\":100,\"visibility\":10000,\"wind_speed\":2.01,\"wind_deg\":157,\"wind_gust\":4.59,\"weather\":[{\"id\":500,\"main\":\"Rain\",\"description\":\"light rain\",\"icon\":\"10d\"}],\"pop\":1,\"rain\":{\"1h\":0.78}},{\"dt\":1694638800,\"temp\":67.73,\"feels_like\":68.81,\"pressure\":1013,\"humidity\":98,\"dew_point\":66.78,\"uvi\":0.52,\"clouds\":100,\"visibility\":10000,\"wind_speed\":3.24,\"wind_deg\":137,\"wind_gust\":7.36,\"weather\":[{\"id\":500,\"main\":\"Rain\",\"description\":\"light rain\",\"icon\":\"10d\"}],\"pop\":1,\"rain\":{\"1h\":0.57}},{\"dt\":1694642400,\"temp\":67.95,\"feels_like\":69.04,\"pressure\":1013,\"humidity\":98,\"dew_point\":66.9,\"uvi\":0.21,\"clouds\":100,\"visibility\":10000,\"wind_speed\":4.25,\"wind_deg\":137,\"wind_gust\":13.73,\"weather\":[{\"id\":500,\"main\":\"Rain\",\"description\":\"light rain\",\"icon\":\"10d\"}],\"pop\":1,\"rain\":{\"1h\":0.76}},{\"dt\":1694646000,\"temp\":67.59,\"feels_like\":68.61,\"pressure\":1013,\"humidity\":97,\"dew_point\":66.58,\"uvi\":0,\"clouds\":100,\"visibility\":10000,\"wind_speed\":4.68,\"wind_deg\":139,\"wind_gust\":13.76,\"weather\":[{\"id\":500,\"main\":\"Rain\",\"description\":\"light rain\",\"icon\":\"10n\"}],\"pop\":1,\"rain\":{\"1h\":0.72}},{\"dt\":1694649600,\"temp\":67.08,\"feels_like\":68.09,\"pressure\":1013,\"humidity\":98,\"dew_point\":66.24,\"uvi\":0,\"clouds\":100,\"visibility\":10000,\"wind_speed\":5.12,\"wind_deg\":143,\"wind_gust\":15.5,\"weather\":[{\"id\":500,\"main\":\"Rain\",\"description\":\"light rain\",\"icon\":\"10n\"}],\"pop\":1,\"rain\":{\"1h\":0.54}},{\"dt\":1694653200,\"temp\":66.81,\"feels_like\":67.8,\"pressure\":1013,\"humidity\":98,\"dew_point\":65.98,\"uvi\":0,\"clouds\":100,\"visibility\":10000,\"wind_speed\":5.73,\"wind_deg\":154,\"wind_gust\":16.49,\"weather\":[{\"id\":500,\"main\":\"Rain\",\"description\":\"light rain\",\"icon\":\"10n\"}],\"pop\":0.85,\"rain\":{\"1h\":0.7}},{\"dt\":1694656800,\"temp\":66.33,\"feels_like\":67.32,\"pressure\":1013,\"humidity\":99,\"dew_point\":65.61,\"uvi\":0,\"clouds\":100,\"visibility\":4842,\"wind_speed\":5.06,\"wind_deg\":180,\"wind_gust\":16.67,\"weather\":[{\"id\":501,\"main\":\"Rain\",\"description\":\"moderate rain\",\"icon\":\"10n\"}],\"pop\":0.92,\"rain\":{\"1h\":2.25}},{\"dt\":1694660400,\"temp\":65.95,\"feels_like\":66.9,\"pressure\":1013,\"humidity\":99,\"dew_point\":65.37,\"uvi\":0,\"clouds\":100,\"visibility\":9116,\"wind_speed\":3.22,\"wind_deg\":182,\"wind_gust\":9.37,\"weather\":[{\"id\":501,\"main\":\"Rain\",\"description\":\"moderate rain\",\"icon\":\"10n\"}],\"pop\":1,\"rain\":{\"1h\":1.8}},{\"dt\":1694664000,\"temp\":65.5,\"feels_like\":66.4,\"pressure\":1013,\"humidity\":99,\"dew_point\":64.83,\"uvi\":0,\"clouds\":100,\"visibility\":10000,\"wind_speed\":3.24,\"wind_deg\":210,\"wind_gust\":4.27,\"weather\":[{\"id\":501,\"main\":\"Rain\",\"description\":\"moderate rain\",\"icon\":\"10n\"}],\"pop\":1,\"rain\":{\"1h\":1.04}},{\"dt\":1694667600,\"temp\":65.28,\"feels_like\":66.16,\"pressure\":1013,\"humidity\":99,\"dew_point\":64.67,\"uvi\":0,\"clouds\":100,\"visibility\":10000,\"wind_speed\":3.78,\"wind_deg\":237,\"wind_gust\":6.4,\"weather\":[{\"id\":500,\"main\":\"Rain\",\"description\":\"light rain\",\"icon\":\"10n\"}],\"pop\":1,\"rain\":{\"1h\":0.98}},{\"dt\":1694671200,\"temp\":65.53,\"feels_like\":66.43,\"pressure\":1013,\"humidity\":99,\"dew_point\":64.92,\"uvi\":0,\"clouds\":94,\"visibility\":10000,\"wind_speed\":3.62,\"wind_deg\":267,\"wind_gust\":8.97,\"weather\":[{\"id\":500,\"main\":\"Rain\",\"description\":\"light rain\",\"icon\":\"10n\"}],\"pop\":1,\"rain\":{\"1h\":0.44}},{\"dt\":1694674800,\"temp\":65.93,\"feels_like\":66.83,\"pressure\":1012,\"humidity\":98,\"dew_point\":65.05,\"uvi\":0,\"clouds\":84,\"visibility\":10000,\"wind_speed\":4.59,\"wind_deg\":289,\"wind_gust\":12.17,\"weather\":[{\"id\":500,\"main\":\"Rain\",\"description\":\"light rain\",\"icon\":\"10n\"}],\"pop\":0.37,\"rain\":{\"1h\":0.11}},{\"dt\":1694678400,\"temp\":65.64,\"feels_like\":66.47,\"pressure\":1013,\"humidity\":97,\"dew_point\":64.4,\"uvi\":0,\"clouds\":85,\"visibility\":10000,\"wind_speed\":5.19,\"wind_deg\":296,\"wind_gust\":12.68,\"weather\":[{\"id\":804,\"main\":\"Clouds\",\"description\":\"overcast clouds\",\"icon\":\"04n\"}],\"pop\":0.37},{\"dt\":1694682000,\"temp\":64.13,\"feels_like\":64.85,\"pressure\":1013,\"humidity\":98,\"dew_point\":63.16,\"uvi\":0,\"clouds\":75,\"visibility\":10000,\"wind_speed\":4.92,\"wind_deg\":285,\"wind_gust\":12.62,\"weather\":[{\"id\":803,\"main\":\"Clouds\",\"description\":\"broken clouds\",\"icon\":\"04n\"}],\"pop\":0.27},{\"dt\":1694685600,\"temp\":62.6,\"feels_like\":63.16,\"pressure\":1013,\"humidity\":98,\"dew_point\":61.7,\"uvi\":0,\"clouds\":69,\"visibility\":10000,\"wind_speed\":5.23,\"wind_deg\":276,\"wind_gust\":14.16,\"weather\":[{\"id\":803,\"main\":\"Clouds\",\"description\":\"broken clouds\",\"icon\":\"04n\"}],\"pop\":0.27},{\"dt\":1694689200,\"temp\":61.61,\"feels_like\":62.02,\"pressure\":1014,\"humidity\":97,\"dew_point\":60.44,\"uvi\":0,\"clouds\":64,\"visibility\":10000,\"wind_speed\":5.21,\"wind_deg\":268,\"wind_gust\":13.85,\"weather\":[{\"id\":803,\"main\":\"Clouds\",\"description\":\"broken clouds\",\"icon\":\"04d\"}],\"pop\":0.27},{\"dt\":1694692800,\"temp\":62.11,\"feels_like\":62.4,\"pressure\":1014,\"humidity\":93,\"dew_point\":59.86,\"uvi\":0.49,\"clouds\":61,\"visibility\":10000,\"wind_speed\":7.81,\"wind_deg\":280,\"wind_gust\":18.88,\"weather\":[{\"id\":803,\"main\":\"Clouds\",\"description\":\"broken clouds\",\"icon\":\"04d\"}],\"pop\":0.27},{\"dt\":1694696400,\"temp\":63.93,\"feels_like\":64.02,\"pressure\":1015,\"humidity\":85,\"dew_point\":59.09,\"uvi\":1.49,\"clouds\":2,\"visibility\":10000,\"wind_speed\":9.08,\"wind_deg\":287,\"wind_gust\":18.95,\"weather\":[{\"id\":800,\"main\":\"Clear\",\"description\":\"clear sky\",\"icon\":\"01d\"}],\"pop\":0},{\"dt\":1694700000,\"temp\":67.53,\"feels_like\":67.05,\"pressure\":1015,\"humidity\":65,\"dew_point\":55.2,\"uvi\":2.94,\"clouds\":1,\"visibility\":10000,\"wind_speed\":9.8,\"wind_deg\":294,\"wind_gust\":15.75,\"weather\":[{\"id\":800,\"main\":\"Clear\",\"description\":\"clear sky\",\"icon\":\"01d\"}],\"pop\":0},{\"dt\":1694703600,\"temp\":70.14,\"feels_like\":69.53,\"pressure\":1015,\"humidity\":57,\"dew_point\":53.82,\"uvi\":4.49,\"clouds\":1,\"visibility\":10000,\"wind_speed\":9.93,\"wind_deg\":298,\"wind_gust\":14.79,\"weather\":[{\"id\":800,\"main\":\"Clear\",\"description\":\"clear sky\",\"icon\":\"01d\"}],\"pop\":0},{\"dt\":1694707200,\"temp\":72.36,\"feels_like\":71.6,\"pressure\":1015,\"humidity\":49,\"dew_point\":51.84,\"uvi\":5.63,\"clouds\":1,\"visibility\":10000,\"wind_speed\":10.27,\"wind_deg\":296,\"wind_gust\":15.3,\"weather\":[{\"id\":800,\"main\":\"Clear\",\"description\":\"clear sky\",\"icon\":\"01d\"}],\"pop\":0},{\"dt\":1694710800,\"temp\":73.99,\"feels_like\":73.11,\"pressure\":1015,\"humidity\":43,\"dew_point\":50.07,\"uvi\":5.88,\"clouds\":1,\"visibility\":10000,\"wind_speed\":9.51,\"wind_deg\":297,\"wind_gust\":14.34,\"weather\":[{\"id\":800,\"main\":\"Clear\",\"description\":\"clear sky\",\"icon\":\"01d\"}],\"pop\":0},{\"dt\":1694714400,\"temp\":74.8,\"feels_like\":73.87,\"pressure\":1015,\"humidity\":40,\"dew_point\":48.99,\"uvi\":5.2,\"clouds\":13,\"visibility\":10000,\"wind_speed\":9.13,\"wind_deg\":299,\"wind_gust\":13.33,\"weather\":[{\"id\":801,\"main\":\"Clouds\",\"description\":\"few clouds\",\"icon\":\"02d\"}],\"pop\":0},{\"dt\":1694718000,\"temp\":75.25,\"feels_like\":74.32,\"pressure\":1014,\"humidity\":39,\"dew_point\":48.43,\"uvi\":3.79,\"clouds\":16,\"visibility\":10000,\"wind_speed\":9.33,\"wind_deg\":300,\"wind_gust\":13.24,\"weather\":[{\"id\":801,\"main\":\"Clouds\",\"description\":\"few clouds\",\"icon\":\"02d\"}],\"pop\":0},{\"dt\":1694721600,\"temp\":74.55,\"feels_like\":73.69,\"pressure\":1014,\"humidity\":42,\"dew_point\":50.11,\"uvi\":2.23,\"clouds\":52,\"visibility\":10000,\"wind_speed\":7.83,\"wind_deg\":303,\"wind_gust\":12.26,\"weather\":[{\"id\":803,\"main\":\"Clouds\",\"description\":\"broken clouds\",\"icon\":\"04d\"}],\"pop\":0},{\"dt\":1694725200,\"temp\":73.04,\"feels_like\":72.25,\"pressure\":1014,\"humidity\":47,\"dew_point\":51.76,\"uvi\":0.96,\"clouds\":56,\"visibility\":10000,\"wind_speed\":6.44,\"wind_deg\":309,\"wind_gust\":12.37,\"weather\":[{\"id\":803,\"main\":\"Clouds\",\"description\":\"broken clouds\",\"icon\":\"04d\"}],\"pop\":0},{\"dt\":1694728800,\"temp\":69.4,\"feels_like\":68.77,\"pressure\":1015,\"humidity\":58,\"dew_point\":53.87,\"uvi\":0.25,\"clouds\":62,\"visibility\":10000,\"wind_speed\":4.63,\"wind_deg\":317,\"wind_gust\":10.87,\"weather\":[{\"id\":803,\"main\":\"Clouds\",\"description\":\"broken clouds\",\"icon\":\"04d\"}],\"pop\":0},{\"dt\":1694732400,\"temp\":65.86,\"feels_like\":64.96,\"pressure\":1016,\"humidity\":60,\"dew_point\":51.58,\"uvi\":0,\"clouds\":70,\"visibility\":10000,\"wind_speed\":5.64,\"wind_deg\":315,\"wind_gust\":14.72,\"weather\":[{\"id\":803,\"main\":\"Clouds\",\"description\":\"broken clouds\",\"icon\":\"04n\"}],\"pop\":0},{\"dt\":1694736000,\"temp\":64.31,\"feels_like\":63.3,\"pressure\":1017,\"humidity\":61,\"dew_point\":50.4,\"uvi\":0,\"clouds\":74,\"visibility\":10000,\"wind_speed\":5.86,\"wind_deg\":317,\"wind_gust\":17.07,\"weather\":[{\"id\":803,\"main\":\"Clouds\",\"description\":\"broken clouds\",\"icon\":\"04n\"}],\"pop\":0},{\"dt\":1694739600,\"temp\":63.3,\"feels_like\":62.15,\"pressure\":1017,\"humidity\":60,\"dew_point\":49.01,\"uvi\":0,\"clouds\":100,\"visibility\":10000,\"wind_speed\":5.97,\"wind_deg\":314,\"wind_gust\":16.08,\"weather\":[{\"id\":804,\"main\":\"Clouds\",\"description\":\"overcast clouds\",\"icon\":\"04n\"}],\"pop\":0},{\"dt\":1694743200,\"temp\":62.37,\"feels_like\":61.21,\"pressure\":1017,\"humidity\":62,\"dew_point\":49.17,\"uvi\":0,\"clouds\":100,\"visibility\":10000,\"wind_speed\":8.19,\"wind_deg\":318,\"wind_gust\":21.63,\"weather\":[{\"id\":804,\"main\":\"Clouds\",\"description\":\"overcast clouds\",\"icon\":\"04n\"}],\"pop\":0},{\"dt\":1694746800,\"temp\":61.5,\"feels_like\":60.31,\"pressure\":1018,\"humidity\":63,\"dew_point\":48.6,\"uvi\":0,\"clouds\":100,\"visibility\":10000,\"wind_speed\":10.36,\"wind_deg\":335,\"wind_gust\":25.17,\"weather\":[{\"id\":804,\"main\":\"Clouds\",\"description\":\"overcast clouds\",\"icon\":\"04n\"}],\"pop\":0},{\"dt\":1694750400,\"temp\":60.35,\"feels_like\":59,\"pressure\":1018,\"humidity\":62,\"dew_point\":47.28,\"uvi\":0,\"clouds\":100,\"visibility\":10000,\"wind_speed\":11.25,\"wind_deg\":342,\"wind_gust\":25.68,\"weather\":[{\"id\":804,\"main\":\"Clouds\",\"description\":\"overcast clouds\",\"icon\":\"04n\"}],\"pop\":0},{\"dt\":1694754000,\"temp\":59,\"feels_like\":57.65,\"pressure\":1018,\"humidity\":65,\"dew_point\":46.92,\"uvi\":0,\"clouds\":100,\"visibility\":10000,\"wind_speed\":10.22,\"wind_deg\":348,\"wind_gust\":23.73,\"weather\":[{\"id\":804,\"main\":\"Clouds\",\"description\":\"overcast clouds\",\"icon\":\"04n\"}],\"pop\":0},{\"dt\":1694757600,\"temp\":57.94,\"feels_like\":56.59,\"pressure\":1018,\"humidity\":67,\"dew_point\":47.05,\"uvi\":0,\"clouds\":100,\"visibility\":10000,\"wind_speed\":9.62,\"wind_deg\":353,\"wind_gust\":21.43,\"weather\":[{\"id\":804,\"main\":\"Clouds\",\"description\":\"overcast clouds\",\"icon\":\"04n\"}],\"pop\":0},{\"dt\":1694761200,\"temp\":57.45,\"feels_like\":56.19,\"pressure\":1018,\"humidity\":70,\"dew_point\":47.73,\"uvi\":0,\"clouds\":100,\"visibility\":10000,\"wind_speed\":8.05,\"wind_deg\":1,\"wind_gust\":18.14,\"weather\":[{\"id\":804,\"main\":\"Clouds\",\"description\":\"overcast clouds\",\"icon\":\"04n\"}],\"pop\":0},{\"dt\":1694764800,\"temp\":56.98,\"feels_like\":55.81,\"pressure\":1018,\"humidity\":73,\"dew_point\":48.09,\"uvi\":0,\"clouds\":100,\"visibility\":10000,\"wind_speed\":7.47,\"wind_deg\":4,\"wind_gust\":15.59,\"weather\":[{\"id\":804,\"main\":\"Clouds\",\"description\":\"overcast clouds\",\"icon\":\"04n\"}],\"pop\":0},{\"dt\":1694768400,\"temp\":57.13,\"feels_like\":55.98,\"pressure\":1018,\"humidity\":73,\"dew_point\":48.36,\"uvi\":0,\"clouds\":100,\"visibility\":10000,\"wind_speed\":8.01,\"wind_deg\":5,\"wind_gust\":16.15,\"weather\":[{\"id\":804,\"main\":\"Clouds\",\"description\":\"overcast clouds\",\"icon\":\"04n\"}],\"pop\":0},{\"dt\":1694772000,\"temp\":56.88,\"feels_like\":55.74,\"pressure\":1018,\"humidity\":74,\"dew_point\":48.49,\"uvi\":0,\"clouds\":100,\"visibility\":10000,\"wind_speed\":8.28,\"wind_deg\":6,\"wind_gust\":15.99,\"weather\":[{\"id\":804,\"main\":\"Clouds\",\"description\":\"overcast clouds\",\"icon\":\"04n\"}],\"pop\":0},{\"dt\":1694775600,\"temp\":56.46,\"feels_like\":55.33,\"pressure\":1018,\"humidity\":75,\"dew_point\":48.49,\"uvi\":0,\"clouds\":100,\"visibility\":10000,\"wind_speed\":9.31,\"wind_deg\":7,\"wind_gust\":18.63,\"weather\":[{\"id\":804,\"main\":\"Clouds\",\"description\":\"overcast clouds\",\"icon\":\"04d\"}],\"pop\":0},{\"dt\":1694779200,\"temp\":57.43,\"feels_like\":56.35,\"pressure\":1018,\"humidity\":74,\"dew_point\":48.87,\"uvi\":0.36,\"clouds\":100,\"visibility\":10000,\"wind_speed\":10.33,\"wind_deg\":11,\"wind_gust\":20.8,\"weather\":[{\"id\":804,\"main\":\"Clouds\",\"description\":\"overcast clouds\",\"icon\":\"04d\"}],\"pop\":0},{\"dt\":1694782800,\"temp\":59.59,\"feels_like\":58.5,\"pressure\":1017,\"humidity\":69,\"dew_point\":49.19,\"uvi\":1.03,\"clouds\":100,\"visibility\":10000,\"wind_speed\":11.23,\"wind_deg\":19,\"wind_gust\":21.45,\"weather\":[{\"id\":804,\"main\":\"Clouds\",\"description\":\"overcast clouds\",\"icon\":\"04d\"}],\"pop\":0},{\"dt\":1694786400,\"temp\":61.11,\"feels_like\":59.97,\"pressure\":1018,\"humidity\":65,\"dew_point\":49.24,\"uvi\":2.05,\"clouds\":100,\"visibility\":10000,\"wind_speed\":10.94,\"wind_deg\":31,\"wind_gust\":19.01,\"weather\":[{\"id\":804,\"main\":\"Clouds\",\"description\":\"overcast clouds\",\"icon\":\"04d\"}],\"pop\":0}],\"daily\":[{\"dt\":1694620800,\"sunrise\":1694600511,\"sunset\":1694645937,\"moonrise\":1694594520,\"moonset\":1694644980,\"moon_phase\":0.96,\"summary\":\"Expect a day of partly cloudy with rain\",\"temp\":{\"day\":75.54,\"min\":64.74,\"max\":76.05,\"night\":65.95,\"eve\":67.95,\"morn\":64.74},\"feels_like\":{\"day\":76.55,\"night\":66.9,\"eve\":69.04,\"morn\":65.43},\"pressure\":1015,\"humidity\":80,\"dew_point\":68.94,\"wind_speed\":5.73,\"wind_deg\":154,\"wind_gust\":16.67,\"weather\":[{\"id\":501,\"main\":\"Rain\",\"description\":\"moderate rain\",\"icon\":\"10d\"}],\"clouds\":80,\"pop\":1,\"rain\":14.1,\"uvi\":3.88},{\"dt\":1694707200,\"sunrise\":1694686973,\"sunset\":1694732230,\"moonrise\":1694684700,\"moonset\":1694732580,\"moon_phase\":0,\"summary\":\"Expect a day of partly cloudy with rain\",\"temp\":{\"day\":72.36,\"min\":61.5,\"max\":75.25,\"night\":61.5,\"eve\":69.4,\"morn\":62.6},\"feels_like\":{\"day\":71.6,\"night\":60.31,\"eve\":68.77,\"morn\":63.16},\"pressure\":1015,\"humidity\":49,\"dew_point\":51.84,\"wind_speed\":10.36,\"wind_deg\":335,\"wind_gust\":25.17,\"weather\":[{\"id\":501,\"main\":\"Rain\",\"description\":\"moderate rain\",\"icon\":\"10d\"}],\"clouds\":1,\"pop\":1,\"rain\":2.57,\"uvi\":5.88},{\"dt\":1694793600,\"sunrise\":1694773436,\"sunset\":1694818523,\"moonrise\":1694774760,\"moonset\":1694820060,\"moon_phase\":0.02,\"summary\":\"There will be partly cloudy today\",\"temp\":{\"day\":65.07,\"min\":56.46,\"max\":65.5,\"night\":62.78,\"eve\":64.13,\"morn\":56.88},\"feels_like\":{\"day\":64,\"night\":61.63,\"eve\":63.21,\"morn\":55.74},\"pressure\":1017,\"humidity\":58,\"dew_point\":49.55,\"wind_speed\":17.69,\"wind_deg\":4,\"wind_gust\":36.06,\"weather\":[{\"id\":804,\"main\":\"Clouds\",\"description\":\"overcast clouds\",\"icon\":\"04d\"}],\"clouds\":100,\"pop\":0.3,\"uvi\":4.35},{\"dt\":1694880000,\"sunrise\":1694859899,\"sunset\":1694904817,\"moonrise\":1694864880,\"moonset\":1694907540,\"moon_phase\":0.05,\"summary\":\"You can expect rain in the morning, with partly cloudy in the afternoon\",\"temp\":{\"day\":56.97,\"min\":55.11,\"max\":65.62,\"night\":63.66,\"eve\":65.62,\"morn\":55.36},\"feels_like\":{\"day\":56.21,\"night\":62.17,\"eve\":64.62,\"morn\":54.79},\"pressure\":1000,\"humidity\":82,\"dew_point\":51.22,\"wind_speed\":21.97,\"wind_deg\":339,\"wind_gust\":50.35,\"weather\":[{\"id\":501,\"main\":\"Rain\",\"description\":\"moderate rain\",\"icon\":\"10d\"}],\"clouds\":100,\"pop\":1,\"rain\":11.77,\"uvi\":2.83},{\"dt\":1694966400,\"sunrise\":1694946361,\"sunset\":1694991109,\"moonrise\":1694955060,\"moonset\":1694995080,\"moon_phase\":0.08,\"summary\":\"Expect a day of partly cloudy with clear spells\",\"temp\":{\"day\":70.81,\"min\":57.09,\"max\":76.82,\"night\":61.88,\"eve\":75.15,\"morn\":57.09},\"feels_like\":{\"day\":69.48,\"night\":60.93,\"eve\":74.52,\"morn\":55.36},\"pressure\":1010,\"humidity\":40,\"dew_point\":45.34,\"wind_speed\":10.63,\"wind_deg\":278,\"wind_gust\":29.93,\"weather\":[{\"id\":800,\"main\":\"Clear\",\"description\":\"clear sky\",\"icon\":\"01d\"}],\"clouds\":0,\"pop\":0,\"uvi\":0.48},{\"dt\":1695052800,\"sunrise\":1695032824,\"sunset\":1695077402,\"moonrise\":1695045360,\"moonset\":1695082800,\"moon_phase\":0.11,\"summary\":\"Expect a day of partly cloudy with rain\",\"temp\":{\"day\":73.71,\"min\":58.98,\"max\":79.74,\"night\":61.02,\"eve\":72.45,\"morn\":58.98},\"feels_like\":{\"day\":73.27,\"night\":61.32,\"eve\":72.59,\"morn\":57.69},\"pressure\":1012,\"humidity\":53,\"dew_point\":55.15,\"wind_speed\":6.11,\"wind_deg\":224,\"wind_gust\":14.45,\"weather\":[{\"id\":500,\"main\":\"Rain\",\"description\":\"light rain\",\"icon\":\"10d\"}],\"clouds\":26,\"pop\":0.88,\"rain\":3.28,\"uvi\":1},{\"dt\":1695139200,\"sunrise\":1695119287,\"sunset\":1695163695,\"moonrise\":1695135840,\"moonset\":1695170820,\"moon_phase\":0.14,\"summary\":\"Expect a day of partly cloudy with rain\",\"temp\":{\"day\":69.69,\"min\":56.89,\"max\":72.84,\"night\":62.38,\"eve\":68.32,\"morn\":56.89},\"feels_like\":{\"day\":69.19,\"night\":62.37,\"eve\":68,\"morn\":56.7},\"pressure\":1016,\"humidity\":60,\"dew_point\":55.02,\"wind_speed\":7.49,\"wind_deg\":82,\"wind_gust\":16.84,\"weather\":[{\"id\":500,\"main\":\"Rain\",\"description\":\"light rain\",\"icon\":\"10d\"}],\"clouds\":0,\"pop\":0.86,\"rain\":0.52,\"uvi\":1},{\"dt\":1695225600,\"sunrise\":1695205750,\"sunset\":1695249988,\"moonrise\":1695226440,\"moonset\":1695259200,\"moon_phase\":0.18,\"summary\":\"There will be rain until morning, then partly cloudy\",\"temp\":{\"day\":61.52,\"min\":59.43,\"max\":63.14,\"night\":59.99,\"eve\":63.14,\"morn\":60.17},\"feels_like\":{\"day\":60.8,\"night\":59.16,\"eve\":62.26,\"morn\":59.88},\"pressure\":1025,\"humidity\":73,\"dew_point\":52.65,\"wind_speed\":8.97,\"wind_deg\":29,\"wind_gust\":14.9,\"weather\":[{\"id\":500,\"main\":\"Rain\",\"description\":\"light rain\",\"icon\":\"10d\"}],\"clouds\":99,\"pop\":0.21,\"rain\":0.13,\"uvi\":1}]}'"
      ]
     },
     "execution_count": 19,
     "metadata": {},
     "output_type": "execute_result"
    }
   ],
   "source": [
    "import requests\n",
    "\n",
    "# get url as a string\n",
    "url_text = requests.get(url).text    \n",
    "url_text"
   ]
  },
  {
   "cell_type": "code",
   "execution_count": 20,
   "id": "536dc771-a89f-4464-a811-bcb79c063967",
   "metadata": {},
   "outputs": [
    {
     "data": {
      "text/plain": [
       "dict_keys(['lat', 'lon', 'timezone', 'timezone_offset', 'current', 'minutely', 'hourly', 'daily'])"
      ]
     },
     "execution_count": 20,
     "metadata": {},
     "output_type": "execute_result"
    }
   ],
   "source": [
    "# should not have to install the below\n",
    "import json\n",
    "\n",
    "# convert json to a nested dict\n",
    "weather_dict = json.loads(url_text)\n",
    "\n",
    "weather_dict.keys()"
   ]
  },
  {
   "cell_type": "code",
   "execution_count": 21,
   "id": "75f5862b-0caf-4dc4-8735-cc25142e0ae5",
   "metadata": {},
   "outputs": [
    {
     "data": {
      "text/plain": [
       "{'dt': 1694624400,\n",
       " 'temp': 73.9,\n",
       " 'feels_like': 74.95,\n",
       " 'pressure': 1015,\n",
       " 'humidity': 84,\n",
       " 'dew_point': 68.76,\n",
       " 'uvi': 2.48,\n",
       " 'clouds': 85,\n",
       " 'visibility': 10000,\n",
       " 'wind_speed': 4.09,\n",
       " 'wind_deg': 248,\n",
       " 'wind_gust': 9.24,\n",
       " 'weather': [{'id': 804,\n",
       "   'main': 'Clouds',\n",
       "   'description': 'overcast clouds',\n",
       "   'icon': '04d'}],\n",
       " 'pop': 0.74}"
      ]
     },
     "execution_count": 21,
     "metadata": {},
     "output_type": "execute_result"
    }
   ],
   "source": [
    "weather_dict['hourly'][2]"
   ]
  },
  {
   "cell_type": "markdown",
   "id": "4c8b7049-f308-40b7-9010-160480f4a3f0",
   "metadata": {},
   "source": [
    "## Cleaning up data from one hour"
   ]
  },
  {
   "cell_type": "code",
   "execution_count": 22,
   "id": "9c789c9c-bf6a-4a94-88ec-d6faa613150b",
   "metadata": {},
   "outputs": [
    {
     "data": {
      "text/plain": [
       "dt                                                   1694617200\n",
       "temp                                                      76.05\n",
       "feels_like                                                77.02\n",
       "pressure                                                   1015\n",
       "humidity                                                     78\n",
       "dew_point                                                 68.68\n",
       "uvi                                                        3.88\n",
       "clouds                                                       75\n",
       "visibility                                                10000\n",
       "wind_speed                                                 4.03\n",
       "wind_deg                                                    205\n",
       "wind_gust                                                  7.54\n",
       "weather       [{'id': 500, 'main': 'Rain', 'description': 'l...\n",
       "pop                                                        0.51\n",
       "rain                                               {'1h': 0.51}\n",
       "datetime                                    2023-09-13 11:00:00\n",
       "dtype: object"
      ]
     },
     "execution_count": 22,
     "metadata": {},
     "output_type": "execute_result"
    }
   ],
   "source": [
    "from datetime import datetime\n",
    "import pandas as pd\n",
    "\n",
    "hour_dict = weather_dict['hourly'][0]\n",
    "hour_dict\n",
    "\n",
    "# lets convert from unix time to a datetime (easier to use)\n",
    "hour_dict['datetime'] = datetime.fromtimestamp(hour_dict['dt'])\n",
    "\n",
    "pd.Series(hour_dict)"
   ]
  },
  {
   "cell_type": "code",
   "execution_count": 23,
   "id": "1bb6d160-7ada-467d-b27f-b6482db0728c",
   "metadata": {},
   "outputs": [
    {
     "data": {
      "text/html": [
       "<div>\n",
       "<style scoped>\n",
       "    .dataframe tbody tr th:only-of-type {\n",
       "        vertical-align: middle;\n",
       "    }\n",
       "\n",
       "    .dataframe tbody tr th {\n",
       "        vertical-align: top;\n",
       "    }\n",
       "\n",
       "    .dataframe thead th {\n",
       "        text-align: right;\n",
       "    }\n",
       "</style>\n",
       "<table border=\"1\" class=\"dataframe\">\n",
       "  <thead>\n",
       "    <tr style=\"text-align: right;\">\n",
       "      <th></th>\n",
       "      <th>dt</th>\n",
       "      <th>temp</th>\n",
       "      <th>feels_like</th>\n",
       "      <th>pressure</th>\n",
       "      <th>humidity</th>\n",
       "      <th>dew_point</th>\n",
       "      <th>uvi</th>\n",
       "      <th>clouds</th>\n",
       "      <th>visibility</th>\n",
       "      <th>wind_speed</th>\n",
       "      <th>wind_deg</th>\n",
       "      <th>wind_gust</th>\n",
       "      <th>weather</th>\n",
       "      <th>pop</th>\n",
       "      <th>rain</th>\n",
       "      <th>datetime</th>\n",
       "    </tr>\n",
       "  </thead>\n",
       "  <tbody>\n",
       "    <tr>\n",
       "      <th>0</th>\n",
       "      <td>1694617200</td>\n",
       "      <td>76.05</td>\n",
       "      <td>77.02</td>\n",
       "      <td>1015</td>\n",
       "      <td>78</td>\n",
       "      <td>68.68</td>\n",
       "      <td>3.88</td>\n",
       "      <td>75</td>\n",
       "      <td>10000</td>\n",
       "      <td>4.03</td>\n",
       "      <td>205</td>\n",
       "      <td>7.54</td>\n",
       "      <td>[{'id': 500, 'main': 'Rain', 'description': 'l...</td>\n",
       "      <td>0.51</td>\n",
       "      <td>{'1h': 0.51}</td>\n",
       "      <td>2023-09-13 11:00:00</td>\n",
       "    </tr>\n",
       "    <tr>\n",
       "      <th>1</th>\n",
       "      <td>1694620800</td>\n",
       "      <td>75.54</td>\n",
       "      <td>76.55</td>\n",
       "      <td>1015</td>\n",
       "      <td>80</td>\n",
       "      <td>68.94</td>\n",
       "      <td>2.37</td>\n",
       "      <td>80</td>\n",
       "      <td>10000</td>\n",
       "      <td>5.7</td>\n",
       "      <td>229</td>\n",
       "      <td>11.12</td>\n",
       "      <td>[{'id': 803, 'main': 'Clouds', 'description': ...</td>\n",
       "      <td>0.77</td>\n",
       "      <td>NaN</td>\n",
       "      <td>2023-09-13 12:00:00</td>\n",
       "    </tr>\n",
       "    <tr>\n",
       "      <th>2</th>\n",
       "      <td>1694624400</td>\n",
       "      <td>73.9</td>\n",
       "      <td>74.95</td>\n",
       "      <td>1015</td>\n",
       "      <td>84</td>\n",
       "      <td>68.76</td>\n",
       "      <td>2.48</td>\n",
       "      <td>85</td>\n",
       "      <td>10000</td>\n",
       "      <td>4.09</td>\n",
       "      <td>248</td>\n",
       "      <td>9.24</td>\n",
       "      <td>[{'id': 804, 'main': 'Clouds', 'description': ...</td>\n",
       "      <td>0.74</td>\n",
       "      <td>NaN</td>\n",
       "      <td>2023-09-13 13:00:00</td>\n",
       "    </tr>\n",
       "    <tr>\n",
       "      <th>3</th>\n",
       "      <td>1694628000</td>\n",
       "      <td>71.33</td>\n",
       "      <td>72.34</td>\n",
       "      <td>1014</td>\n",
       "      <td>89</td>\n",
       "      <td>67.93</td>\n",
       "      <td>2.19</td>\n",
       "      <td>90</td>\n",
       "      <td>6493</td>\n",
       "      <td>4.38</td>\n",
       "      <td>250</td>\n",
       "      <td>8.9</td>\n",
       "      <td>[{'id': 501, 'main': 'Rain', 'description': 'm...</td>\n",
       "      <td>0.94</td>\n",
       "      <td>{'1h': 1.68}</td>\n",
       "      <td>2023-09-13 14:00:00</td>\n",
       "    </tr>\n",
       "    <tr>\n",
       "      <th>4</th>\n",
       "      <td>1694631600</td>\n",
       "      <td>69.22</td>\n",
       "      <td>70.27</td>\n",
       "      <td>1014</td>\n",
       "      <td>94</td>\n",
       "      <td>67.42</td>\n",
       "      <td>2.05</td>\n",
       "      <td>95</td>\n",
       "      <td>7020</td>\n",
       "      <td>2.15</td>\n",
       "      <td>195</td>\n",
       "      <td>6.8</td>\n",
       "      <td>[{'id': 501, 'main': 'Rain', 'description': 'm...</td>\n",
       "      <td>1</td>\n",
       "      <td>{'1h': 3.58}</td>\n",
       "      <td>2023-09-13 15:00:00</td>\n",
       "    </tr>\n",
       "  </tbody>\n",
       "</table>\n",
       "</div>"
      ],
      "text/plain": [
       "           dt   temp feels_like pressure humidity dew_point   uvi clouds  \\\n",
       "0  1694617200  76.05      77.02     1015       78     68.68  3.88     75   \n",
       "1  1694620800  75.54      76.55     1015       80     68.94  2.37     80   \n",
       "2  1694624400   73.9      74.95     1015       84     68.76  2.48     85   \n",
       "3  1694628000  71.33      72.34     1014       89     67.93  2.19     90   \n",
       "4  1694631600  69.22      70.27     1014       94     67.42  2.05     95   \n",
       "\n",
       "  visibility wind_speed wind_deg wind_gust  \\\n",
       "0      10000       4.03      205      7.54   \n",
       "1      10000        5.7      229     11.12   \n",
       "2      10000       4.09      248      9.24   \n",
       "3       6493       4.38      250       8.9   \n",
       "4       7020       2.15      195       6.8   \n",
       "\n",
       "                                             weather   pop          rain  \\\n",
       "0  [{'id': 500, 'main': 'Rain', 'description': 'l...  0.51  {'1h': 0.51}   \n",
       "1  [{'id': 803, 'main': 'Clouds', 'description': ...  0.77           NaN   \n",
       "2  [{'id': 804, 'main': 'Clouds', 'description': ...  0.74           NaN   \n",
       "3  [{'id': 501, 'main': 'Rain', 'description': 'm...  0.94  {'1h': 1.68}   \n",
       "4  [{'id': 501, 'main': 'Rain', 'description': 'm...     1  {'1h': 3.58}   \n",
       "\n",
       "              datetime  \n",
       "0  2023-09-13 11:00:00  \n",
       "1  2023-09-13 12:00:00  \n",
       "2  2023-09-13 13:00:00  \n",
       "3  2023-09-13 14:00:00  \n",
       "4  2023-09-13 15:00:00  "
      ]
     },
     "execution_count": 23,
     "metadata": {},
     "output_type": "execute_result"
    }
   ],
   "source": [
    "df_hourly = pd.DataFrame()\n",
    "for hour_dict in weather_dict['hourly']:\n",
    "\n",
    "    # lets convert from unix time to a datetime (easier to use)\n",
    "    hour_dict['datetime'] = datetime.fromtimestamp(hour_dict['dt'])\n",
    "\n",
    "    s_hour = pd.Series(hour_dict)\n",
    "    \n",
    "    df_hourly = pd.concat([df_hourly, s_hour.to_frame().T], ignore_index=True)\n",
    "    \n",
    "df_hourly.head()"
   ]
  },
  {
   "cell_type": "markdown",
   "id": "81ff616e-0c70-4a6e-a47a-b148ebb89d21",
   "metadata": {},
   "source": [
    "## Lecture Break/Practice 3\n",
    "\n",
    "La Chaux-de-Fonds, Switzerland is located at:\n",
    "\n",
    "    47.101333° N, 6.825° E\n",
    "    \n",
    "1. Create a dataframe of the next 48 hours of their weather as was done above\n",
    "2. (++) Make a function `get_forecast` which accepts:\n",
    "    - `lat`\n",
    "    - `lon`\n",
    "    - `api_key`\n",
    "    - `units` (default = 'imperial')\n",
    "    \n",
    "    and returns a dataframe of the next 48 hours of the location's weather."
   ]
  },
  {
   "cell_type": "code",
   "execution_count": null,
   "id": "e964a6ad-3d45-4610-8b7c-009c5bd025c3",
   "metadata": {},
   "outputs": [],
   "source": []
  },
  {
   "cell_type": "code",
   "execution_count": 24,
   "id": "e79de2a4-73c7-4861-9294-102582e214a7",
   "metadata": {},
   "outputs": [],
   "source": [
    "# get_forecast(47.101333, 6.825)"
   ]
  },
  {
   "cell_type": "markdown",
   "id": "4fbd6853-77e6-4348-a3e5-063acb4514bc",
   "metadata": {},
   "source": [
    "# Storing your API key in a local file\n",
    "\n",
    "There exists a file `open_weather_access.py` in same directory as this jupyter notebook which contains:\n",
    "    \n",
    "    my_api_key = 'hello!'"
   ]
  },
  {
   "cell_type": "code",
   "execution_count": 25,
   "id": "9392e4d9-b6a4-44ca-bce8-6ead885d84f7",
   "metadata": {},
   "outputs": [
    {
     "name": "stdout",
     "output_type": "stream",
     "text": [
      "hello!\n"
     ]
    }
   ],
   "source": [
    "from open_weather_access import my_api_key\n",
    "\n",
    "print(my_api_key)\n",
    "\n",
    "# from open_weather_access import my_real_api_key\n",
    "# print(my_real_api_key)"
   ]
  },
  {
   "cell_type": "markdown",
   "id": "680a431e-9124-4b3c-929a-95a7eb208cc0",
   "metadata": {},
   "source": [
    "# `datetime`, `date`, `time` and UTC refresher\n",
    "## Unix Time (UTC)\n",
    "- [UTC](https://en.wikipedia.org/wiki/Coordinated_Universal_Time) Coordinated Universal Time\n",
    "    - time zone at 0 deg longitude\n",
    "- [Unix Time](https://en.wikipedia.org/wiki/Unix_time) is the number of seconds which have passed since 00:00:00 UTC on 1 Jan 1970 (ignoring leap seconds)"
   ]
  },
  {
   "cell_type": "code",
   "execution_count": 26,
   "id": "699bd35b-7b36-4674-9e8f-0bffffeac43f",
   "metadata": {},
   "outputs": [
    {
     "data": {
      "text/plain": [
       "datetime.date(2022, 11, 11)"
      ]
     },
     "execution_count": 26,
     "metadata": {},
     "output_type": "execute_result"
    }
   ],
   "source": [
    "from datetime import date, time, datetime\n",
    "\n",
    "# building just a date (no time)\n",
    "date(year=2022, month=11, day=11)"
   ]
  },
  {
   "cell_type": "code",
   "execution_count": 27,
   "id": "4cd379f8-f692-48da-b31d-31db7272e95d",
   "metadata": {},
   "outputs": [
    {
     "data": {
      "text/plain": [
       "datetime.time(15, 23)"
      ]
     },
     "execution_count": 27,
     "metadata": {},
     "output_type": "execute_result"
    }
   ],
   "source": [
    "# building just a time (no date)\n",
    "time(hour=15, minute=23)"
   ]
  },
  {
   "cell_type": "code",
   "execution_count": 28,
   "id": "785a5d55-9fa9-4999-9bba-5e6d47ff39cd",
   "metadata": {},
   "outputs": [
    {
     "data": {
      "text/plain": [
       "datetime.date(2023, 9, 13)"
      ]
     },
     "execution_count": 28,
     "metadata": {},
     "output_type": "execute_result"
    }
   ],
   "source": [
    "# getting just a date from a datetime\n",
    "datetime.now().date()"
   ]
  },
  {
   "cell_type": "code",
   "execution_count": 29,
   "id": "618395a1-d54f-4e43-80c5-8dfe02b5ccf4",
   "metadata": {},
   "outputs": [
    {
     "data": {
      "text/plain": [
       "datetime.time(11, 21, 42, 171846)"
      ]
     },
     "execution_count": 29,
     "metadata": {},
     "output_type": "execute_result"
    }
   ],
   "source": [
    "# getting just a time from a datetime\n",
    "datetime.now().time()"
   ]
  },
  {
   "cell_type": "markdown",
   "id": "d749bf97-1bcd-42c1-aaff-c5719b28df68",
   "metadata": {},
   "source": [
    "## datetimes to and from strings\n",
    "Using [the strptime/strftime code](https://docs.python.org/3/library/datetime.html#strftime-strptime-behavior), we can convert between string and `datetime` representations:\n",
    "- building datetimes with tzinfo explicitly passed\n",
    "- strptime (from str to `datetime`)\n",
    "- strftime (from `datetime` to str)\n",
    "- use a date when swapping timezones switch (add space)"
   ]
  },
  {
   "cell_type": "code",
   "execution_count": 30,
   "id": "7f6b1a72-0f82-4f38-838e-396d0888bb93",
   "metadata": {},
   "outputs": [
    {
     "data": {
      "text/plain": [
       "'its now Wednesday September 13 at 11:21 AM, is that not great!'"
      ]
     },
     "execution_count": 30,
     "metadata": {},
     "output_type": "execute_result"
    }
   ],
   "source": [
    "# get current time (as datetime)\n",
    "now_datetime = datetime.now()\n",
    "\n",
    "# convert datetime to str\n",
    "format_str = 'its now %A %B %d at %I:%M %p, is that not great!'\n",
    "now_str = now_datetime.strftime(format_str)\n",
    "now_str"
   ]
  },
  {
   "cell_type": "code",
   "execution_count": 31,
   "id": "6bd955ac-29f4-4b14-ad69-090d09405584",
   "metadata": {},
   "outputs": [
    {
     "data": {
      "text/plain": [
       "datetime.datetime(1900, 9, 13, 11, 21)"
      ]
     },
     "execution_count": 31,
     "metadata": {},
     "output_type": "execute_result"
    }
   ],
   "source": [
    "# convert str to datetime\n",
    "# notice anything **strange**?\n",
    "then_datetime = datetime.strptime(now_str, format_str)\n",
    "then_datetime"
   ]
  },
  {
   "cell_type": "markdown",
   "id": "92ee2795-78fb-46ab-b23c-5545e7d1e8ac",
   "metadata": {},
   "source": [
    "# Timezones\n",
    "\n",
    "[pytz](http://pytz.sourceforge.net/) will do all the heavy lifting for managing timezones for us"
   ]
  },
  {
   "cell_type": "code",
   "execution_count": 32,
   "id": "3ea4a8f4-46e8-4400-807f-319b66cbdb8e",
   "metadata": {},
   "outputs": [
    {
     "data": {
      "text/plain": [
       "['Africa/Abidjan', 'Africa/Accra', 'Africa/Addis_Ababa', 'Africa/Algiers', 'Africa/Asmara', 'Africa/Asmera', 'Africa/Bamako', 'Africa/Bangui', 'Africa/Banjul', 'Africa/Bissau', 'Africa/Blantyre', 'Africa/Brazzaville', 'Africa/Bujumbura', 'Africa/Cairo', 'Africa/Casablanca', 'Africa/Ceuta', 'Africa/Conakry', 'Africa/Dakar', 'Africa/Dar_es_Salaam', 'Africa/Djibouti', 'Africa/Douala', 'Africa/El_Aaiun', 'Africa/Freetown', 'Africa/Gaborone', 'Africa/Harare', 'Africa/Johannesburg', 'Africa/Juba', 'Africa/Kampala', 'Africa/Khartoum', 'Africa/Kigali', 'Africa/Kinshasa', 'Africa/Lagos', 'Africa/Libreville', 'Africa/Lome', 'Africa/Luanda', 'Africa/Lubumbashi', 'Africa/Lusaka', 'Africa/Malabo', 'Africa/Maputo', 'Africa/Maseru', 'Africa/Mbabane', 'Africa/Mogadishu', 'Africa/Monrovia', 'Africa/Nairobi', 'Africa/Ndjamena', 'Africa/Niamey', 'Africa/Nouakchott', 'Africa/Ouagadougou', 'Africa/Porto-Novo', 'Africa/Sao_Tome', 'Africa/Timbuktu', 'Africa/Tripoli', 'Africa/Tunis', 'Africa/Windhoek', 'America/Adak', 'America/Anchorage', 'America/Anguilla', 'America/Antigua', 'America/Araguaina', 'America/Argentina/Buenos_Aires', 'America/Argentina/Catamarca', 'America/Argentina/ComodRivadavia', 'America/Argentina/Cordoba', 'America/Argentina/Jujuy', 'America/Argentina/La_Rioja', 'America/Argentina/Mendoza', 'America/Argentina/Rio_Gallegos', 'America/Argentina/Salta', 'America/Argentina/San_Juan', 'America/Argentina/San_Luis', 'America/Argentina/Tucuman', 'America/Argentina/Ushuaia', 'America/Aruba', 'America/Asuncion', 'America/Atikokan', 'America/Atka', 'America/Bahia', 'America/Bahia_Banderas', 'America/Barbados', 'America/Belem', 'America/Belize', 'America/Blanc-Sablon', 'America/Boa_Vista', 'America/Bogota', 'America/Boise', 'America/Buenos_Aires', 'America/Cambridge_Bay', 'America/Campo_Grande', 'America/Cancun', 'America/Caracas', 'America/Catamarca', 'America/Cayenne', 'America/Cayman', 'America/Chicago', 'America/Chihuahua', 'America/Ciudad_Juarez', 'America/Coral_Harbour', 'America/Cordoba', 'America/Costa_Rica', 'America/Creston', 'America/Cuiaba', 'America/Curacao', 'America/Danmarkshavn', 'America/Dawson', 'America/Dawson_Creek', 'America/Denver', 'America/Detroit', 'America/Dominica', 'America/Edmonton', 'America/Eirunepe', 'America/El_Salvador', 'America/Ensenada', 'America/Fort_Nelson', 'America/Fort_Wayne', 'America/Fortaleza', 'America/Glace_Bay', 'America/Godthab', 'America/Goose_Bay', 'America/Grand_Turk', 'America/Grenada', 'America/Guadeloupe', 'America/Guatemala', 'America/Guayaquil', 'America/Guyana', 'America/Halifax', 'America/Havana', 'America/Hermosillo', 'America/Indiana/Indianapolis', 'America/Indiana/Knox', 'America/Indiana/Marengo', 'America/Indiana/Petersburg', 'America/Indiana/Tell_City', 'America/Indiana/Vevay', 'America/Indiana/Vincennes', 'America/Indiana/Winamac', 'America/Indianapolis', 'America/Inuvik', 'America/Iqaluit', 'America/Jamaica', 'America/Jujuy', 'America/Juneau', 'America/Kentucky/Louisville', 'America/Kentucky/Monticello', 'America/Knox_IN', 'America/Kralendijk', 'America/La_Paz', 'America/Lima', 'America/Los_Angeles', 'America/Louisville', 'America/Lower_Princes', 'America/Maceio', 'America/Managua', 'America/Manaus', 'America/Marigot', 'America/Martinique', 'America/Matamoros', 'America/Mazatlan', 'America/Mendoza', 'America/Menominee', 'America/Merida', 'America/Metlakatla', 'America/Mexico_City', 'America/Miquelon', 'America/Moncton', 'America/Monterrey', 'America/Montevideo', 'America/Montreal', 'America/Montserrat', 'America/Nassau', 'America/New_York', 'America/Nipigon', 'America/Nome', 'America/Noronha', 'America/North_Dakota/Beulah', 'America/North_Dakota/Center', 'America/North_Dakota/New_Salem', 'America/Nuuk', 'America/Ojinaga', 'America/Panama', 'America/Pangnirtung', 'America/Paramaribo', 'America/Phoenix', 'America/Port-au-Prince', 'America/Port_of_Spain', 'America/Porto_Acre', 'America/Porto_Velho', 'America/Puerto_Rico', 'America/Punta_Arenas', 'America/Rainy_River', 'America/Rankin_Inlet', 'America/Recife', 'America/Regina', 'America/Resolute', 'America/Rio_Branco', 'America/Rosario', 'America/Santa_Isabel', 'America/Santarem', 'America/Santiago', 'America/Santo_Domingo', 'America/Sao_Paulo', 'America/Scoresbysund', 'America/Shiprock', 'America/Sitka', 'America/St_Barthelemy', 'America/St_Johns', 'America/St_Kitts', 'America/St_Lucia', 'America/St_Thomas', 'America/St_Vincent', 'America/Swift_Current', 'America/Tegucigalpa', 'America/Thule', 'America/Thunder_Bay', 'America/Tijuana', 'America/Toronto', 'America/Tortola', 'America/Vancouver', 'America/Virgin', 'America/Whitehorse', 'America/Winnipeg', 'America/Yakutat', 'America/Yellowknife', 'Antarctica/Casey', 'Antarctica/Davis', 'Antarctica/DumontDUrville', 'Antarctica/Macquarie', 'Antarctica/Mawson', 'Antarctica/McMurdo', 'Antarctica/Palmer', 'Antarctica/Rothera', 'Antarctica/South_Pole', 'Antarctica/Syowa', 'Antarctica/Troll', 'Antarctica/Vostok', 'Arctic/Longyearbyen', 'Asia/Aden', 'Asia/Almaty', 'Asia/Amman', 'Asia/Anadyr', 'Asia/Aqtau', 'Asia/Aqtobe', 'Asia/Ashgabat', 'Asia/Ashkhabad', 'Asia/Atyrau', 'Asia/Baghdad', 'Asia/Bahrain', 'Asia/Baku', 'Asia/Bangkok', 'Asia/Barnaul', 'Asia/Beirut', 'Asia/Bishkek', 'Asia/Brunei', 'Asia/Calcutta', 'Asia/Chita', 'Asia/Choibalsan', 'Asia/Chongqing', 'Asia/Chungking', 'Asia/Colombo', 'Asia/Dacca', 'Asia/Damascus', 'Asia/Dhaka', 'Asia/Dili', 'Asia/Dubai', 'Asia/Dushanbe', 'Asia/Famagusta', 'Asia/Gaza', 'Asia/Harbin', 'Asia/Hebron', 'Asia/Ho_Chi_Minh', 'Asia/Hong_Kong', 'Asia/Hovd', 'Asia/Irkutsk', 'Asia/Istanbul', 'Asia/Jakarta', 'Asia/Jayapura', 'Asia/Jerusalem', 'Asia/Kabul', 'Asia/Kamchatka', 'Asia/Karachi', 'Asia/Kashgar', 'Asia/Kathmandu', 'Asia/Katmandu', 'Asia/Khandyga', 'Asia/Kolkata', 'Asia/Krasnoyarsk', 'Asia/Kuala_Lumpur', 'Asia/Kuching', 'Asia/Kuwait', 'Asia/Macao', 'Asia/Macau', 'Asia/Magadan', 'Asia/Makassar', 'Asia/Manila', 'Asia/Muscat', 'Asia/Nicosia', 'Asia/Novokuznetsk', 'Asia/Novosibirsk', 'Asia/Omsk', 'Asia/Oral', 'Asia/Phnom_Penh', 'Asia/Pontianak', 'Asia/Pyongyang', 'Asia/Qatar', 'Asia/Qostanay', 'Asia/Qyzylorda', 'Asia/Rangoon', 'Asia/Riyadh', 'Asia/Saigon', 'Asia/Sakhalin', 'Asia/Samarkand', 'Asia/Seoul', 'Asia/Shanghai', 'Asia/Singapore', 'Asia/Srednekolymsk', 'Asia/Taipei', 'Asia/Tashkent', 'Asia/Tbilisi', 'Asia/Tehran', 'Asia/Tel_Aviv', 'Asia/Thimbu', 'Asia/Thimphu', 'Asia/Tokyo', 'Asia/Tomsk', 'Asia/Ujung_Pandang', 'Asia/Ulaanbaatar', 'Asia/Ulan_Bator', 'Asia/Urumqi', 'Asia/Ust-Nera', 'Asia/Vientiane', 'Asia/Vladivostok', 'Asia/Yakutsk', 'Asia/Yangon', 'Asia/Yekaterinburg', 'Asia/Yerevan', 'Atlantic/Azores', 'Atlantic/Bermuda', 'Atlantic/Canary', 'Atlantic/Cape_Verde', 'Atlantic/Faeroe', 'Atlantic/Faroe', 'Atlantic/Jan_Mayen', 'Atlantic/Madeira', 'Atlantic/Reykjavik', 'Atlantic/South_Georgia', 'Atlantic/St_Helena', 'Atlantic/Stanley', 'Australia/ACT', 'Australia/Adelaide', 'Australia/Brisbane', 'Australia/Broken_Hill', 'Australia/Canberra', 'Australia/Currie', 'Australia/Darwin', 'Australia/Eucla', 'Australia/Hobart', 'Australia/LHI', 'Australia/Lindeman', 'Australia/Lord_Howe', 'Australia/Melbourne', 'Australia/NSW', 'Australia/North', 'Australia/Perth', 'Australia/Queensland', 'Australia/South', 'Australia/Sydney', 'Australia/Tasmania', 'Australia/Victoria', 'Australia/West', 'Australia/Yancowinna', 'Brazil/Acre', 'Brazil/DeNoronha', 'Brazil/East', 'Brazil/West', 'CET', 'CST6CDT', 'Canada/Atlantic', 'Canada/Central', 'Canada/Eastern', 'Canada/Mountain', 'Canada/Newfoundland', 'Canada/Pacific', 'Canada/Saskatchewan', 'Canada/Yukon', 'Chile/Continental', 'Chile/EasterIsland', 'Cuba', 'EET', 'EST', 'EST5EDT', 'Egypt', 'Eire', 'Etc/GMT', 'Etc/GMT+0', 'Etc/GMT+1', 'Etc/GMT+10', 'Etc/GMT+11', 'Etc/GMT+12', 'Etc/GMT+2', 'Etc/GMT+3', 'Etc/GMT+4', 'Etc/GMT+5', 'Etc/GMT+6', 'Etc/GMT+7', 'Etc/GMT+8', 'Etc/GMT+9', 'Etc/GMT-0', 'Etc/GMT-1', 'Etc/GMT-10', 'Etc/GMT-11', 'Etc/GMT-12', 'Etc/GMT-13', 'Etc/GMT-14', 'Etc/GMT-2', 'Etc/GMT-3', 'Etc/GMT-4', 'Etc/GMT-5', 'Etc/GMT-6', 'Etc/GMT-7', 'Etc/GMT-8', 'Etc/GMT-9', 'Etc/GMT0', 'Etc/Greenwich', 'Etc/UCT', 'Etc/UTC', 'Etc/Universal', 'Etc/Zulu', 'Europe/Amsterdam', 'Europe/Andorra', 'Europe/Astrakhan', 'Europe/Athens', 'Europe/Belfast', 'Europe/Belgrade', 'Europe/Berlin', 'Europe/Bratislava', 'Europe/Brussels', 'Europe/Bucharest', 'Europe/Budapest', 'Europe/Busingen', 'Europe/Chisinau', 'Europe/Copenhagen', 'Europe/Dublin', 'Europe/Gibraltar', 'Europe/Guernsey', 'Europe/Helsinki', 'Europe/Isle_of_Man', 'Europe/Istanbul', 'Europe/Jersey', 'Europe/Kaliningrad', 'Europe/Kiev', 'Europe/Kirov', 'Europe/Kyiv', 'Europe/Lisbon', 'Europe/Ljubljana', 'Europe/London', 'Europe/Luxembourg', 'Europe/Madrid', 'Europe/Malta', 'Europe/Mariehamn', 'Europe/Minsk', 'Europe/Monaco', 'Europe/Moscow', 'Europe/Nicosia', 'Europe/Oslo', 'Europe/Paris', 'Europe/Podgorica', 'Europe/Prague', 'Europe/Riga', 'Europe/Rome', 'Europe/Samara', 'Europe/San_Marino', 'Europe/Sarajevo', 'Europe/Saratov', 'Europe/Simferopol', 'Europe/Skopje', 'Europe/Sofia', 'Europe/Stockholm', 'Europe/Tallinn', 'Europe/Tirane', 'Europe/Tiraspol', 'Europe/Ulyanovsk', 'Europe/Uzhgorod', 'Europe/Vaduz', 'Europe/Vatican', 'Europe/Vienna', 'Europe/Vilnius', 'Europe/Volgograd', 'Europe/Warsaw', 'Europe/Zagreb', 'Europe/Zaporozhye', 'Europe/Zurich', 'GB', 'GB-Eire', 'GMT', 'GMT+0', 'GMT-0', 'GMT0', 'Greenwich', 'HST', 'Hongkong', 'Iceland', 'Indian/Antananarivo', 'Indian/Chagos', 'Indian/Christmas', 'Indian/Cocos', 'Indian/Comoro', 'Indian/Kerguelen', 'Indian/Mahe', 'Indian/Maldives', 'Indian/Mauritius', 'Indian/Mayotte', 'Indian/Reunion', 'Iran', 'Israel', 'Jamaica', 'Japan', 'Kwajalein', 'Libya', 'MET', 'MST', 'MST7MDT', 'Mexico/BajaNorte', 'Mexico/BajaSur', 'Mexico/General', 'NZ', 'NZ-CHAT', 'Navajo', 'PRC', 'PST8PDT', 'Pacific/Apia', 'Pacific/Auckland', 'Pacific/Bougainville', 'Pacific/Chatham', 'Pacific/Chuuk', 'Pacific/Easter', 'Pacific/Efate', 'Pacific/Enderbury', 'Pacific/Fakaofo', 'Pacific/Fiji', 'Pacific/Funafuti', 'Pacific/Galapagos', 'Pacific/Gambier', 'Pacific/Guadalcanal', 'Pacific/Guam', 'Pacific/Honolulu', 'Pacific/Johnston', 'Pacific/Kanton', 'Pacific/Kiritimati', 'Pacific/Kosrae', 'Pacific/Kwajalein', 'Pacific/Majuro', 'Pacific/Marquesas', 'Pacific/Midway', 'Pacific/Nauru', 'Pacific/Niue', 'Pacific/Norfolk', 'Pacific/Noumea', 'Pacific/Pago_Pago', 'Pacific/Palau', 'Pacific/Pitcairn', 'Pacific/Pohnpei', 'Pacific/Ponape', 'Pacific/Port_Moresby', 'Pacific/Rarotonga', 'Pacific/Saipan', 'Pacific/Samoa', 'Pacific/Tahiti', 'Pacific/Tarawa', 'Pacific/Tongatapu', 'Pacific/Truk', 'Pacific/Wake', 'Pacific/Wallis', 'Pacific/Yap', 'Poland', 'Portugal', 'ROC', 'ROK', 'Singapore', 'Turkey', 'UCT', 'US/Alaska', 'US/Aleutian', 'US/Arizona', 'US/Central', 'US/East-Indiana', 'US/Eastern', 'US/Hawaii', 'US/Indiana-Starke', 'US/Michigan', 'US/Mountain', 'US/Pacific', 'US/Samoa', 'UTC', 'Universal', 'W-SU', 'WET', 'Zulu']"
      ]
     },
     "execution_count": 32,
     "metadata": {},
     "output_type": "execute_result"
    }
   ],
   "source": [
    "import pytz\n",
    "\n",
    "# this is a lot of standards whose quirks are handled by pytz ...\n",
    "pytz.all_timezones"
   ]
  },
  {
   "cell_type": "markdown",
   "id": "b10dba23-01c5-424a-acc8-0cfd9982bf35",
   "metadata": {},
   "source": [
    "## Specifying a timezone info with datetime\n",
    "- use `.localize()` method of a pytz timezone object\n",
    "    - takes a `datetime` without any current timezone as input\n",
    "- don't pass the pytz timezone object to the `tzinfo` keyword of `datetime` objects ... \n",
    "    - errors with daylight's savings time\n",
    "    - these are \"silent\" errors, the code will work but things will be off by some amount of time"
   ]
  },
  {
   "cell_type": "code",
   "execution_count": 33,
   "id": "e9943843-a40d-465b-b88e-8856c459c119",
   "metadata": {},
   "outputs": [
    {
     "data": {
      "text/plain": [
       "datetime.datetime(2024, 1, 1, 0, 0, tzinfo=<StaticTzInfo 'GMT'>)"
      ]
     },
     "execution_count": 33,
     "metadata": {},
     "output_type": "execute_result"
    }
   ],
   "source": [
    "# build a datetime\n",
    "ball_drop2024 = datetime(year=2024, month=1, day=1)\n",
    "\n",
    "# load the timezone\n",
    "time_zone_gmt = pytz.timezone('GMT')\n",
    "\n",
    "# add the timezone to the datetime\n",
    "ball_drop2024_gmt = time_zone_gmt.localize(ball_drop2024)\n",
    "ball_drop2024_gmt"
   ]
  },
  {
   "cell_type": "code",
   "execution_count": 34,
   "id": "7f08a550-7dcb-4312-b3e4-b6250f50f9b2",
   "metadata": {},
   "outputs": [
    {
     "data": {
      "text/plain": [
       "datetime.datetime(2024, 1, 1, 0, 0, tzinfo=<DstTzInfo 'US/Eastern' EST-1 day, 19:00:00 STD>)"
      ]
     },
     "execution_count": 34,
     "metadata": {},
     "output_type": "execute_result"
    }
   ],
   "source": [
    "# load the timezone\n",
    "time_zone_est = pytz.timezone('US/Eastern')\n",
    "\n",
    "# add the timezone to the datetime\n",
    "ball_drop2024_est = time_zone_est.localize(ball_drop2024)\n",
    "ball_drop2024_est"
   ]
  },
  {
   "cell_type": "code",
   "execution_count": 35,
   "id": "a779423d-91bf-472c-80fc-e5e4901e8f63",
   "metadata": {},
   "outputs": [
    {
     "data": {
      "text/plain": [
       "datetime.timedelta(seconds=18000)"
      ]
     },
     "execution_count": 35,
     "metadata": {},
     "output_type": "execute_result"
    }
   ],
   "source": [
    "# EST is living in the past ...\n",
    "ball_drop2024_est - ball_drop2024_gmt"
   ]
  },
  {
   "cell_type": "code",
   "execution_count": 36,
   "id": "db0e1041-9432-4009-aef1-5d3cbe1b7d3e",
   "metadata": {},
   "outputs": [
    {
     "data": {
      "text/plain": [
       "datetime.timedelta(seconds=17760)"
      ]
     },
     "execution_count": 36,
     "metadata": {},
     "output_type": "execute_result"
    }
   ],
   "source": [
    "# WARNING: don't specify a timezone at the construction of a datetime\n",
    "time_zone_est = pytz.timezone('US/Eastern')\n",
    "ball_drop2024_est_bug = datetime(year=2024, month=1, day=1, tzinfo=time_zone_est)\n",
    "\n",
    "# not quite right ...\n",
    "ball_drop2024_est_bug - ball_drop2024_gmt"
   ]
  },
  {
   "cell_type": "code",
   "execution_count": 37,
   "id": "9d2a05e3-fb45-4a96-a39c-b938b4219295",
   "metadata": {},
   "outputs": [
    {
     "ename": "ValueError",
     "evalue": "Not naive datetime (tzinfo is already set)",
     "output_type": "error",
     "traceback": [
      "\u001b[1;31m---------------------------------------------------------------------------\u001b[0m",
      "\u001b[1;31mValueError\u001b[0m                                Traceback (most recent call last)",
      "Cell \u001b[1;32mIn[37], line 2\u001b[0m\n\u001b[0;32m      1\u001b[0m \u001b[38;5;66;03m# notice, once a datetime has a timezone, you can no longer `.localize()` it\u001b[39;00m\n\u001b[1;32m----> 2\u001b[0m \u001b[43mtime_zone_gmt\u001b[49m\u001b[38;5;241;43m.\u001b[39;49m\u001b[43mlocalize\u001b[49m\u001b[43m(\u001b[49m\u001b[43mball_drop2024_est\u001b[49m\u001b[43m)\u001b[49m\n",
      "File \u001b[1;32m~\\AppData\\Local\\Packages\\PythonSoftwareFoundation.Python.3.11_qbz5n2kfra8p0\\LocalCache\\local-packages\\Python311\\site-packages\\pytz\\tzinfo.py:115\u001b[0m, in \u001b[0;36mStaticTzInfo.localize\u001b[1;34m(self, dt, is_dst)\u001b[0m\n\u001b[0;32m    113\u001b[0m \u001b[38;5;250m\u001b[39m\u001b[38;5;124;03m'''Convert naive time to local time'''\u001b[39;00m\n\u001b[0;32m    114\u001b[0m \u001b[38;5;28;01mif\u001b[39;00m dt\u001b[38;5;241m.\u001b[39mtzinfo \u001b[38;5;129;01mis\u001b[39;00m \u001b[38;5;129;01mnot\u001b[39;00m \u001b[38;5;28;01mNone\u001b[39;00m:\n\u001b[1;32m--> 115\u001b[0m     \u001b[38;5;28;01mraise\u001b[39;00m \u001b[38;5;167;01mValueError\u001b[39;00m(\u001b[38;5;124m'\u001b[39m\u001b[38;5;124mNot naive datetime (tzinfo is already set)\u001b[39m\u001b[38;5;124m'\u001b[39m)\n\u001b[0;32m    116\u001b[0m \u001b[38;5;28;01mreturn\u001b[39;00m dt\u001b[38;5;241m.\u001b[39mreplace(tzinfo\u001b[38;5;241m=\u001b[39m\u001b[38;5;28mself\u001b[39m)\n",
      "\u001b[1;31mValueError\u001b[0m: Not naive datetime (tzinfo is already set)"
     ]
    }
   ],
   "source": [
    "# notice, once a datetime has a timezone, you can no longer `.localize()` it\n",
    "time_zone_gmt.localize(ball_drop2024_est)"
   ]
  },
  {
   "cell_type": "markdown",
   "id": "b8bf7b19-816d-468a-afa5-35c573fcc0d8",
   "metadata": {},
   "source": [
    "## Looking Ahead; Spotipy (for use on Homework 2)\n",
    "\n",
    "The Spotify API is quite powerful and gives us access to any song/artist in its libraries, plus even more information that you might not have thought of. There is also a module that has been created to access the API within python. Open up a terminal (or do it in jupyter notebook; this is a magic module) and run:\n",
    "\n",
    "`pip install spotipy`"
   ]
  },
  {
   "cell_type": "code",
   "execution_count": null,
   "id": "7d13b085-37b1-4fe2-88e0-219fb83a41cc",
   "metadata": {},
   "outputs": [],
   "source": [
    "pip install spotipy"
   ]
  },
  {
   "cell_type": "code",
   "execution_count": null,
   "id": "ebb74367-0071-4a95-8e0d-00da6d8f7728",
   "metadata": {},
   "outputs": [],
   "source": [
    "import spotipy\n",
    "from spotipy.oauth2 import SpotifyClientCredentials"
   ]
  },
  {
   "cell_type": "markdown",
   "id": "87823947-2413-4f0a-9c09-ea046e61e700",
   "metadata": {},
   "source": [
    "Just like with OpenWeather, we need to make an account [here](https://developer.spotify.com/) (this is essentially the same as making a regular Spotify account) and then get an API key (Spotify requires two things, actually, a Client ID and a secret key). At the above website, go to:\n",
    "\n",
    "- Dashboard\n",
    "- Log into your Spotify account (make one if you don't have one)\n",
    "- Accept the terms of using the API\n",
    "- Create an app (you can call it anything, I called mine `DS3000_Spotify`)\n",
    "- Get a client ID (mine is `592acf2d2dc84d94bbc652f2f1d72375`, though it is usually good practice to **not** share this) and a client secret (**never share this with anyone**: save it in a separate file like we did with our OpenWeather API key earlier)"
   ]
  },
  {
   "cell_type": "markdown",
   "id": "981250db-a7f5-4b8f-a842-2e04a185553d",
   "metadata": {},
   "source": [
    "There exists a file `spotify_secret.py` in same directory as this jupyter notebook which contains:\n",
    "    \n",
    "    secret = 'professorgerberssecretspotify'"
   ]
  },
  {
   "cell_type": "code",
   "execution_count": null,
   "id": "dc27e3cb-42a9-4fc5-9279-66675b26fdfd",
   "metadata": {},
   "outputs": [],
   "source": [
    "from spotify_secret import secret"
   ]
  },
  {
   "cell_type": "code",
   "execution_count": null,
   "id": "52cdd9f4-43de-41c5-b9f4-78f1f759b3f4",
   "metadata": {},
   "outputs": [],
   "source": [
    "# Authentication\n",
    "cid = '592acf2d2dc84d94bbc652f2f1d72375'\n",
    "\n",
    "client_credentials_manager = SpotifyClientCredentials(client_id=cid, client_secret=secret)\n",
    "sp = spotipy.Spotify(client_credentials_manager = client_credentials_manager)"
   ]
  },
  {
   "cell_type": "markdown",
   "id": "60090cbc-256c-4e3f-8536-96175ce8ee97",
   "metadata": {},
   "source": [
    "You will learn more about how to use Spotipy, including the tricky bits that are unique to its usage, on Homework 2."
   ]
  },
  {
   "cell_type": "code",
   "execution_count": null,
   "id": "c6486a89-de7b-4fca-b914-c64cd7fa7598",
   "metadata": {},
   "outputs": [],
   "source": []
  }
 ],
 "metadata": {
  "kernelspec": {
   "display_name": "Python 3 (ipykernel)",
   "language": "python",
   "name": "python3"
  },
  "language_info": {
   "codemirror_mode": {
    "name": "ipython",
    "version": 3
   },
   "file_extension": ".py",
   "mimetype": "text/x-python",
   "name": "python",
   "nbconvert_exporter": "python",
   "pygments_lexer": "ipython3",
   "version": "3.11.5"
  }
 },
 "nbformat": 4,
 "nbformat_minor": 5
}
