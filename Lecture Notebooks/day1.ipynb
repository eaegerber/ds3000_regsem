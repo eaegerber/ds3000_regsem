{
 "cells": [
  {
   "cell_type": "markdown",
   "id": "a19e7d26",
   "metadata": {
    "slideshow": {
     "slide_type": "slide"
    }
   },
   "source": [
    "# DS3000 Lesson 1*\n",
    "\n",
    "We will dive more in-depth with some of the topics from the lightning review, plus talk about a few new things. When we are going through a topic we've already introduced, I may skip a slide here and there and leave it as practice for you out of class time, but we can always review a slide as needed. This lesson continues with: \n",
    "\n",
    "- Operators (Arithmetic & Logical)\n",
    "- Python types (list, tuple, string, dictionary)\n",
    "- Flow Control (If-statments)\n",
    "\n",
    "\n",
    "*(last lesson was Lesson 0 ... python indexes starting at 0)\n",
    "\n",
    "++ denotes a nuance not necessary for DS3000, but helpful to point out as we (re)welcome everyone to python!"
   ]
  },
  {
   "cell_type": "markdown",
   "id": "efeafb73",
   "metadata": {
    "slideshow": {
     "slide_type": "slide"
    }
   },
   "source": [
    "# Python variable names\n",
    "\n",
    "- can have letters, digits and underscores but may not begin with a digit\n",
    "- python is case sensitive (though, by convention, variables are all lower case.  use underscores to seperate words)\n"
   ]
  },
  {
   "cell_type": "code",
   "execution_count": 1,
   "id": "37cf3918",
   "metadata": {},
   "outputs": [],
   "source": [
    "# string (you can use single or double quotes). \n",
    "some_string = 'a'\n",
    "some_other_string = \"a\"\n",
    "\n",
    "# integer\n",
    "some_int = 3\n",
    "\n",
    "# float\n",
    "some_float = 1.2345\n",
    "\n",
    "# bool\n",
    "sunny_day = True"
   ]
  },
  {
   "cell_type": "markdown",
   "id": "c1773ad6",
   "metadata": {
    "slideshow": {
     "slide_type": "slide"
    }
   },
   "source": [
    "## Arithmetic Operators\n",
    "| Python operation | Arithmetic operator | Python expression\n",
    "| :-------- | :-------- | :-------- \n",
    "| Addition | `+`  | `f + 7` \n",
    "| Subtraction | `–` | `p - c` \n",
    "| Multiplication | `*` | `b * m` \n",
    "| Exponentiation | `**` |  `x ** y` \n",
    "| True division | `/` | `x / y` \n",
    "| Floor division | `//` | `x // y` \n",
    "| Remainder (modulo) | `%` | `r % s` \n",
    "\n",
    "* [All operators and their precedence](https://docs.python.org/3/reference/expressions.html#operator-precedence)"
   ]
  },
  {
   "cell_type": "code",
   "execution_count": 2,
   "id": "c85464fd",
   "metadata": {},
   "outputs": [
    {
     "data": {
      "text/plain": [
       "5.5"
      ]
     },
     "execution_count": 2,
     "metadata": {},
     "output_type": "execute_result"
    }
   ],
   "source": [
    "11 / 2"
   ]
  },
  {
   "cell_type": "code",
   "execution_count": 3,
   "id": "40707826",
   "metadata": {},
   "outputs": [
    {
     "data": {
      "text/plain": [
       "5"
      ]
     },
     "execution_count": 3,
     "metadata": {},
     "output_type": "execute_result"
    }
   ],
   "source": [
    "# integer division (floor division discards any remainder)\n",
    "11 // 2"
   ]
  },
  {
   "cell_type": "code",
   "execution_count": 4,
   "id": "3ef0b7e6",
   "metadata": {},
   "outputs": [
    {
     "data": {
      "text/plain": [
       "1"
      ]
     },
     "execution_count": 4,
     "metadata": {},
     "output_type": "execute_result"
    }
   ],
   "source": [
    "# get remainder after integer division\n",
    "11 % 2"
   ]
  },
  {
   "cell_type": "code",
   "execution_count": 5,
   "id": "3d0cabac",
   "metadata": {},
   "outputs": [
    {
     "data": {
      "text/plain": [
       "'ab'"
      ]
     },
     "execution_count": 5,
     "metadata": {},
     "output_type": "execute_result"
    }
   ],
   "source": [
    "# arithmetic operators are defined for non-numbers too!\n",
    "# like strings\n",
    "'a' + 'b'"
   ]
  },
  {
   "cell_type": "markdown",
   "id": "e371e80c",
   "metadata": {
    "slideshow": {
     "slide_type": "slide"
    }
   },
   "source": [
    "## Logical Operators\n",
    "\n",
    "Algebraic operator | Python operator | Sample condition | Meaning \n",
    ":---- | :---- | :---- | :----\n",
    "&gt;  | `>` | `x > y` | `x` is greater than `y`\n",
    "&lt;  | `<` | `x < y` | `x` is less than `y`\n",
    "&ge; | `>=` | `x >= y` | `x` is greater than or equal to `y`\n",
    "&le; | `<=` | `x <= y` | `x` is less than or equal to `y`\n",
    "= | `==` | `x == y` | `x` is equal to `y`\n",
    "&ne; | `!=` | `x != y` | `x` is not equal to `y`"
   ]
  },
  {
   "cell_type": "code",
   "execution_count": 6,
   "id": "f073a57b",
   "metadata": {},
   "outputs": [
    {
     "data": {
      "text/plain": [
       "True"
      ]
     },
     "execution_count": 6,
     "metadata": {},
     "output_type": "execute_result"
    }
   ],
   "source": [
    "a = 3\n",
    "b = 10\n",
    "\n",
    "a != b"
   ]
  },
  {
   "cell_type": "code",
   "execution_count": 7,
   "id": "9a69f1de",
   "metadata": {},
   "outputs": [
    {
     "data": {
      "text/plain": [
       "False"
      ]
     },
     "execution_count": 7,
     "metadata": {},
     "output_type": "execute_result"
    }
   ],
   "source": [
    "# python \"syntactic sugar\": evaluating if a number is in a range\n",
    "x = 10\n",
    "\n",
    "100 <= x < 200        "
   ]
  },
  {
   "cell_type": "code",
   "execution_count": 8,
   "id": "0fc5af70",
   "metadata": {},
   "outputs": [],
   "source": [
    "# produces TypeError: objects must be compare-able\n",
    "# 10 < 'a'"
   ]
  },
  {
   "cell_type": "code",
   "execution_count": 9,
   "id": "8bb5e804",
   "metadata": {},
   "outputs": [
    {
     "data": {
      "text/plain": [
       "True"
      ]
     },
     "execution_count": 9,
     "metadata": {},
     "output_type": "execute_result"
    }
   ],
   "source": [
    "# python bad habit, don't use \"is\" to compare objects \n",
    "# (it sometimes works, which makes it a subtle error to catch)\n",
    "\n",
    "# works for strings\n",
    "x = 'a'\n",
    "y = 'a'\n",
    "x is y"
   ]
  },
  {
   "cell_type": "code",
   "execution_count": 10,
   "id": "3a259edb",
   "metadata": {},
   "outputs": [
    {
     "data": {
      "text/plain": [
       "False"
      ]
     },
     "execution_count": 10,
     "metadata": {},
     "output_type": "execute_result"
    }
   ],
   "source": [
    "# doesn't work for floats\n",
    "x = 1.23\n",
    "y = 1.23\n",
    "x is y"
   ]
  },
  {
   "cell_type": "markdown",
   "id": "9ef6f303",
   "metadata": {},
   "source": [
    "`is` tests if the variables point to the same object ... ++[Strings](https://en.wikipedia.org/wiki/String_literal) behave a bit differently."
   ]
  },
  {
   "cell_type": "markdown",
   "id": "db6c8a88",
   "metadata": {
    "slideshow": {
     "slide_type": "slide"
    }
   },
   "source": [
    "## Type Casting (converting between variable types)"
   ]
  },
  {
   "cell_type": "code",
   "execution_count": 11,
   "id": "11e76fa9",
   "metadata": {},
   "outputs": [
    {
     "data": {
      "text/plain": [
       "int"
      ]
     },
     "execution_count": 11,
     "metadata": {},
     "output_type": "execute_result"
    }
   ],
   "source": [
    "# `type()` returns the object type\n",
    "a = 1\n",
    "type(a)"
   ]
  },
  {
   "cell_type": "code",
   "execution_count": 12,
   "id": "aa774428",
   "metadata": {},
   "outputs": [
    {
     "data": {
      "text/plain": [
       "float"
      ]
     },
     "execution_count": 12,
     "metadata": {},
     "output_type": "execute_result"
    }
   ],
   "source": [
    "a = float(1)\n",
    "type(a)"
   ]
  },
  {
   "cell_type": "code",
   "execution_count": 13,
   "id": "49453022",
   "metadata": {},
   "outputs": [
    {
     "data": {
      "text/plain": [
       "float"
      ]
     },
     "execution_count": 13,
     "metadata": {},
     "output_type": "execute_result"
    }
   ],
   "source": [
    "a = float('3')\n",
    "type(a)"
   ]
  },
  {
   "cell_type": "markdown",
   "id": "f536f16d",
   "metadata": {
    "slideshow": {
     "slide_type": "slide"
    }
   },
   "source": [
    "## Control Flow w/ Logical Operators (if blocks)"
   ]
  },
  {
   "cell_type": "code",
   "execution_count": 14,
   "id": "89305a20",
   "metadata": {},
   "outputs": [
    {
     "name": "stdout",
     "output_type": "stream",
     "text": [
      "youve earned an a-\n"
     ]
    }
   ],
   "source": [
    "grade = 91\n",
    "if grade >= 93:\n",
    "    print('youve earned an a')\n",
    "elif grade >= 90:\n",
    "    print('youve earned an a-')\n",
    "else:\n",
    "    print('some other grade')"
   ]
  },
  {
   "cell_type": "markdown",
   "id": "1cc0dba2",
   "metadata": {
    "slideshow": {
     "slide_type": "slide"
    }
   },
   "source": [
    "## Boolean operators (and, or, not)"
   ]
  },
  {
   "cell_type": "code",
   "execution_count": 15,
   "id": "c97512b7",
   "metadata": {},
   "outputs": [
    {
     "name": "stdout",
     "output_type": "stream",
     "text": [
      "you would think the instructor could get an a in their own class ...\n"
     ]
    }
   ],
   "source": [
    "grade = 91\n",
    "name = 'eric'\n",
    "if grade < 93 and name == 'eric':\n",
    "    print('you would think the instructor could get an a in their own class ...')"
   ]
  },
  {
   "cell_type": "markdown",
   "id": "1e53d90d",
   "metadata": {
    "slideshow": {
     "slide_type": "slide"
    }
   },
   "source": [
    "# `input()`"
   ]
  },
  {
   "cell_type": "code",
   "execution_count": 16,
   "id": "84e2efa6",
   "metadata": {},
   "outputs": [],
   "source": [
    "# ## Getting input from user\n",
    "# print('hi, whats your name?')\n",
    "# name = input()\n",
    "# type(name)"
   ]
  },
  {
   "cell_type": "markdown",
   "id": "7cfff974",
   "metadata": {
    "slideshow": {
     "slide_type": "slide"
    }
   },
   "source": [
    "## Lists\n",
    "A python **list** is:\n",
    "- an ordered sequence of objects\n",
    "- **mutable** (mutable objects can be modified, immutable objects (like tuples) may not)\n",
    "- implemented as a [dynamic array](https://en.wikipedia.org/wiki/Linked_list#Linked_lists_vs._dynamic_arrays)\n",
    "\n",
    "see [python doc](https://docs.python.org/3/tutorial/datastructures.html) for more detail\n",
    "\n",
    "### Initializing a list, adding, inserting and appending elements"
   ]
  },
  {
   "cell_type": "code",
   "execution_count": 17,
   "id": "122aef9b",
   "metadata": {},
   "outputs": [],
   "source": [
    "# how to make a list\n",
    "some_list = [1, 2, 'hello', 'hello']"
   ]
  },
  {
   "cell_type": "code",
   "execution_count": 18,
   "id": "671a4000",
   "metadata": {},
   "outputs": [
    {
     "data": {
      "text/plain": [
       "1"
      ]
     },
     "execution_count": 18,
     "metadata": {},
     "output_type": "execute_result"
    }
   ],
   "source": [
    "# addressing an element (note: we start indexing at 0)\n",
    "some_list[0]"
   ]
  },
  {
   "cell_type": "code",
   "execution_count": 19,
   "id": "b03a3e07",
   "metadata": {},
   "outputs": [
    {
     "data": {
      "text/plain": [
       "0"
      ]
     },
     "execution_count": 19,
     "metadata": {},
     "output_type": "execute_result"
    }
   ],
   "source": [
    "# finding index of items equal to 1\n",
    "some_list.index(1)"
   ]
  },
  {
   "cell_type": "code",
   "execution_count": 20,
   "id": "cc89d63b",
   "metadata": {},
   "outputs": [
    {
     "data": {
      "text/plain": [
       "2"
      ]
     },
     "execution_count": 20,
     "metadata": {},
     "output_type": "execute_result"
    }
   ],
   "source": [
    "# note that we find index of the first occurance\n",
    "# (there are two `hello` entries, but we only get index of first one)\n",
    "some_list.index('hello')"
   ]
  },
  {
   "cell_type": "code",
   "execution_count": 21,
   "id": "29f5837d",
   "metadata": {},
   "outputs": [],
   "source": [
    "# what happens if the item isn't in the list?\n",
    "# some_list.index('are you in there?')"
   ]
  },
  {
   "cell_type": "code",
   "execution_count": 22,
   "id": "f0b699fa",
   "metadata": {},
   "outputs": [
    {
     "data": {
      "text/plain": [
       "False"
      ]
     },
     "execution_count": 22,
     "metadata": {},
     "output_type": "execute_result"
    }
   ],
   "source": [
    "# how should we check if an item is in a list?\n",
    "'are you in there?' in some_list"
   ]
  },
  {
   "cell_type": "code",
   "execution_count": 23,
   "id": "bfa079d6",
   "metadata": {},
   "outputs": [
    {
     "data": {
      "text/plain": [
       "[1, 2, 'hello', 'hello', 'asdf']"
      ]
     },
     "execution_count": 23,
     "metadata": {},
     "output_type": "execute_result"
    }
   ],
   "source": [
    "# append a single item to the end of a list\n",
    "some_list.append('asdf')\n",
    "some_list"
   ]
  },
  {
   "cell_type": "code",
   "execution_count": 24,
   "id": "a1f81e58",
   "metadata": {},
   "outputs": [
    {
     "data": {
      "text/plain": [
       "['a new beginning', 1, 2, 'hello', 'hello', 'asdf']"
      ]
     },
     "execution_count": 24,
     "metadata": {},
     "output_type": "execute_result"
    }
   ],
   "source": [
    "# insert a single item to an arbitrary location of a list\n",
    "# note: we push list at, and including index, to the right to make room\n",
    "some_list.insert(0, 'a new beginning')\n",
    "some_list"
   ]
  },
  {
   "cell_type": "code",
   "execution_count": 25,
   "id": "9b6c022a",
   "metadata": {},
   "outputs": [
    {
     "data": {
      "text/plain": [
       "['a new beginning', 1, 2, 'a middle child', 'hello', 'hello', 'asdf']"
      ]
     },
     "execution_count": 25,
     "metadata": {},
     "output_type": "execute_result"
    }
   ],
   "source": [
    "# insert a single item to an arbitrary location of a list\n",
    "some_list.insert(3, 'a middle child')\n",
    "some_list"
   ]
  },
  {
   "cell_type": "code",
   "execution_count": 26,
   "id": "bc591d3e",
   "metadata": {},
   "outputs": [
    {
     "data": {
      "text/plain": [
       "'a middle child'"
      ]
     },
     "execution_count": 26,
     "metadata": {},
     "output_type": "execute_result"
    }
   ],
   "source": [
    "# popping a single item out of the list\n",
    "third_item = some_list.pop(3)\n",
    "third_item"
   ]
  },
  {
   "cell_type": "code",
   "execution_count": 27,
   "id": "c2af8806",
   "metadata": {},
   "outputs": [
    {
     "data": {
      "text/plain": [
       "['a new beginning', 1, 2, 'hello', 'hello', 'asdf']"
      ]
     },
     "execution_count": 27,
     "metadata": {},
     "output_type": "execute_result"
    }
   ],
   "source": [
    "# notice that after popping removes the item from the list\n",
    "some_list"
   ]
  },
  {
   "cell_type": "markdown",
   "id": "6171b09f",
   "metadata": {
    "slideshow": {
     "slide_type": "slide"
    }
   },
   "source": [
    "## Slicing a list (part 1)\n",
    "A slice refers to a \"contiguous\" run of items in a list.  Slicing returns these elements from the list.\n",
    "\n",
    "![](https://i.ibb.co/JK1VHpy/list1.png)"
   ]
  },
  {
   "cell_type": "code",
   "execution_count": 28,
   "id": "3a84f6f4",
   "metadata": {},
   "outputs": [
    {
     "data": {
      "text/plain": [
       "[-45, 6, 0, 72, 1543]"
      ]
     },
     "execution_count": 28,
     "metadata": {},
     "output_type": "execute_result"
    }
   ],
   "source": [
    "# lets build the example above\n",
    "c = [-45, 6, 0, 72, 1543]\n",
    "c"
   ]
  },
  {
   "cell_type": "code",
   "execution_count": 29,
   "id": "5f446ff2",
   "metadata": {},
   "outputs": [
    {
     "data": {
      "text/plain": [
       "[0, 72, 1543]"
      ]
     },
     "execution_count": 29,
     "metadata": {},
     "output_type": "execute_result"
    }
   ],
   "source": [
    "# the first index is the starting index (included in slice)\n",
    "# the second index is the ending index (not included in slice)\n",
    "c[2:5]"
   ]
  },
  {
   "cell_type": "code",
   "execution_count": 30,
   "id": "5e047171",
   "metadata": {},
   "outputs": [
    {
     "data": {
      "text/plain": [
       "[-45, 6]"
      ]
     },
     "execution_count": 30,
     "metadata": {},
     "output_type": "execute_result"
    }
   ],
   "source": [
    "# by default, if we exclude the starting index it is assumed to be 0\n",
    "c[:2]"
   ]
  },
  {
   "cell_type": "code",
   "execution_count": 31,
   "id": "06dee335",
   "metadata": {},
   "outputs": [
    {
     "data": {
      "text/plain": [
       "[0, 72, 1543]"
      ]
     },
     "execution_count": 31,
     "metadata": {},
     "output_type": "execute_result"
    }
   ],
   "source": [
    "# by default, if we exclude the ending index it is assumed the length of the list\n",
    "c[2:]"
   ]
  },
  {
   "cell_type": "markdown",
   "id": "55c8f566",
   "metadata": {
    "slideshow": {
     "slide_type": "slide"
    }
   },
   "source": [
    "## Slicing a list (part 2)"
   ]
  },
  {
   "cell_type": "markdown",
   "id": "b1189659",
   "metadata": {
    "slideshow": {
     "slide_type": "-"
    }
   },
   "source": [
    "Negative indices are helpful if we want to start counting from the \"end\" of a list:\n",
    "\n",
    "![](https://i.ibb.co/RGF8sPW/list2.png)"
   ]
  },
  {
   "cell_type": "code",
   "execution_count": 32,
   "id": "79962040",
   "metadata": {},
   "outputs": [],
   "source": [
    "c = [-45, 6, 0, 72, 1543]"
   ]
  },
  {
   "cell_type": "code",
   "execution_count": 33,
   "id": "126d4a9b",
   "metadata": {},
   "outputs": [
    {
     "data": {
      "text/plain": [
       "[72, 1543]"
      ]
     },
     "execution_count": 33,
     "metadata": {},
     "output_type": "execute_result"
    }
   ],
   "source": [
    "# just the same as c[3:5]\n",
    "c[-2:5]"
   ]
  },
  {
   "cell_type": "code",
   "execution_count": 34,
   "id": "0582602d",
   "metadata": {},
   "outputs": [
    {
     "data": {
      "text/plain": [
       "[0, 72, 1543]"
      ]
     },
     "execution_count": 34,
     "metadata": {},
     "output_type": "execute_result"
    }
   ],
   "source": [
    "# this backwards counting & default ending index make for an elegant way to get the last n elements of a list\n",
    "c[-3:]"
   ]
  },
  {
   "cell_type": "markdown",
   "id": "8274c8ff",
   "metadata": {},
   "source": [
    "We might be interested in skipping through the list by some constant index (skipping by 2 gets every other index, for example)"
   ]
  },
  {
   "cell_type": "code",
   "execution_count": 35,
   "id": "154f0f04",
   "metadata": {},
   "outputs": [],
   "source": [
    "c = [-45, 6, 0, 72, 1543]"
   ]
  },
  {
   "cell_type": "code",
   "execution_count": 36,
   "id": "b2fb0b3c",
   "metadata": {},
   "outputs": [
    {
     "data": {
      "text/plain": [
       "[-45, 0, 1543]"
      ]
     },
     "execution_count": 36,
     "metadata": {},
     "output_type": "execute_result"
    }
   ],
   "source": [
    "# starting idx: 0, ending idx: 5, step size: 2\n",
    "c[0:5:2]"
   ]
  },
  {
   "cell_type": "code",
   "execution_count": 37,
   "id": "74a8ddf6",
   "metadata": {},
   "outputs": [
    {
     "data": {
      "text/plain": [
       "[-45, 0, 1543]"
      ]
     },
     "execution_count": 37,
     "metadata": {},
     "output_type": "execute_result"
    }
   ],
   "source": [
    "# same as above but now we use defaults\n",
    "c[::2]"
   ]
  },
  {
   "cell_type": "code",
   "execution_count": 38,
   "id": "d02f91de",
   "metadata": {},
   "outputs": [
    {
     "data": {
      "text/plain": [
       "[6, 72]"
      ]
     },
     "execution_count": 38,
     "metadata": {},
     "output_type": "execute_result"
    }
   ],
   "source": [
    "# grab all the odd indexed elements\n",
    "c[1::2]"
   ]
  },
  {
   "cell_type": "code",
   "execution_count": 39,
   "id": "bdeeb9a5",
   "metadata": {},
   "outputs": [
    {
     "data": {
      "text/plain": [
       "[1543, 72, 0, 6]"
      ]
     },
     "execution_count": 39,
     "metadata": {},
     "output_type": "execute_result"
    }
   ],
   "source": [
    "# we can even take negative steps if we want to\n",
    "c[5:0:-1]"
   ]
  },
  {
   "cell_type": "code",
   "execution_count": 40,
   "id": "bd0912ff",
   "metadata": {},
   "outputs": [
    {
     "data": {
      "text/plain": [
       "[1543, 72, 0, 6, -45]"
      ]
     },
     "execution_count": 40,
     "metadata": {},
     "output_type": "execute_result"
    }
   ],
   "source": [
    "# reverses list order\n",
    "c[::-1]"
   ]
  },
  {
   "cell_type": "markdown",
   "id": "9114c9c9",
   "metadata": {
    "slideshow": {
     "slide_type": "slide"
    }
   },
   "source": [
    "### \"Arithmetic\" on lists:\n",
    "- \"multiplication\" by int: repeat list some number of times\n",
    "- \"addition\" with another list: join two lists together"
   ]
  },
  {
   "cell_type": "code",
   "execution_count": 41,
   "id": "812b08ce",
   "metadata": {},
   "outputs": [],
   "source": [
    "# cast a string to a list\n",
    "my_list = list('echo ')"
   ]
  },
  {
   "cell_type": "code",
   "execution_count": 42,
   "id": "341cb0a5",
   "metadata": {},
   "outputs": [
    {
     "data": {
      "text/plain": [
       "['e', 'c', 'h', 'o', ' ', 'e', 'c', 'h', 'o', ' ', 'e', 'c', 'h', 'o', ' ']"
      ]
     },
     "execution_count": 42,
     "metadata": {},
     "output_type": "execute_result"
    }
   ],
   "source": [
    "# multiplying a list by an integer\n",
    "my_list * 3"
   ]
  },
  {
   "cell_type": "code",
   "execution_count": 43,
   "id": "aff1911e",
   "metadata": {},
   "outputs": [
    {
     "data": {
      "text/plain": [
       "['e', 'c', 'h', 'o', ' ', 'a', 'b', 'c']"
      ]
     },
     "execution_count": 43,
     "metadata": {},
     "output_type": "execute_result"
    }
   ],
   "source": [
    "# adding two lists together (unlike typical addition, order matters!)\n",
    "another_list = list('abc')\n",
    "my_list + another_list"
   ]
  },
  {
   "cell_type": "markdown",
   "id": "3b8bb228",
   "metadata": {},
   "source": [
    "Generally, python often defines the behavior of operators on objects without the typical numerical meaning."
   ]
  },
  {
   "cell_type": "markdown",
   "id": "b58c76d7",
   "metadata": {},
   "source": [
    "(++) When building your own object, you may overload arithmetic, logical and comparison operations so that it has an intuitive meaning in your application.\n",
    "\n",
    "For example, consider an object which contains statistics on a brain region:\n",
    "\n",
    "``` python\n",
    "brain_region0 + brain_region1\n",
    "```\n",
    "may return a region whose volume is the union of both region, and contains statistics derived from its constituent regions."
   ]
  },
  {
   "cell_type": "markdown",
   "id": "a0799afa",
   "metadata": {
    "slideshow": {
     "slide_type": "slide"
    }
   },
   "source": [
    "### Helpful list functions (min, max, len, sorted)"
   ]
  },
  {
   "cell_type": "code",
   "execution_count": 44,
   "id": "d5a104fb",
   "metadata": {},
   "outputs": [],
   "source": [
    "list_of_ints = [2, 11, -10, 4, -100]"
   ]
  },
  {
   "cell_type": "code",
   "execution_count": 45,
   "id": "5074c094",
   "metadata": {},
   "outputs": [
    {
     "data": {
      "text/plain": [
       "-100"
      ]
     },
     "execution_count": 45,
     "metadata": {},
     "output_type": "execute_result"
    }
   ],
   "source": [
    "min(list_of_ints)"
   ]
  },
  {
   "cell_type": "code",
   "execution_count": 46,
   "id": "c3329947",
   "metadata": {},
   "outputs": [
    {
     "data": {
      "text/plain": [
       "11"
      ]
     },
     "execution_count": 46,
     "metadata": {},
     "output_type": "execute_result"
    }
   ],
   "source": [
    "max(list_of_ints)"
   ]
  },
  {
   "cell_type": "code",
   "execution_count": 47,
   "id": "a13d4529",
   "metadata": {},
   "outputs": [
    {
     "data": {
      "text/plain": [
       "5"
      ]
     },
     "execution_count": 47,
     "metadata": {},
     "output_type": "execute_result"
    }
   ],
   "source": [
    "# number of elements in the list\n",
    "len(list_of_ints)"
   ]
  },
  {
   "cell_type": "code",
   "execution_count": 48,
   "id": "3961b517",
   "metadata": {},
   "outputs": [
    {
     "data": {
      "text/plain": [
       "[-100, -10, 2, 4, 11]"
      ]
     },
     "execution_count": 48,
     "metadata": {},
     "output_type": "execute_result"
    }
   ],
   "source": [
    "# return a sorted copy of the list (increasing order)\n",
    "sorted_list_of_ints = sorted(list_of_ints)\n",
    "sorted_list_of_ints"
   ]
  },
  {
   "cell_type": "markdown",
   "id": "7f7ec8ff",
   "metadata": {},
   "source": [
    "You can also sort in [reverse](https://docs.python.org/3/library/functions.html#sorted) (decreasing order) by using the `reverse` parameter"
   ]
  },
  {
   "cell_type": "code",
   "execution_count": 49,
   "id": "bfba9bee",
   "metadata": {},
   "outputs": [
    {
     "data": {
      "text/plain": [
       "[11, 4, 2, -10, -100]"
      ]
     },
     "execution_count": 49,
     "metadata": {},
     "output_type": "execute_result"
    }
   ],
   "source": [
    "sorted_list_of_ints = sorted(list_of_ints, reverse=True)\n",
    "sorted_list_of_ints"
   ]
  },
  {
   "cell_type": "markdown",
   "id": "28c448e7",
   "metadata": {
    "slideshow": {
     "slide_type": "slide"
    }
   },
   "source": [
    "## Tuples\n",
    "A tuple is\n",
    "- an ordered, immutable list of objects"
   ]
  },
  {
   "cell_type": "code",
   "execution_count": 50,
   "id": "ec6c9642",
   "metadata": {},
   "outputs": [
    {
     "data": {
      "text/plain": [
       "('a', 1, 'asdf')"
      ]
     },
     "execution_count": 50,
     "metadata": {},
     "output_type": "execute_result"
    }
   ],
   "source": [
    "a_tuple = ('a', 1, 'asdf')\n",
    "a_tuple"
   ]
  },
  {
   "cell_type": "code",
   "execution_count": 51,
   "id": "72e748e9",
   "metadata": {},
   "outputs": [
    {
     "data": {
      "text/plain": [
       "('a', 1, 'asdf')"
      ]
     },
     "execution_count": 51,
     "metadata": {},
     "output_type": "execute_result"
    }
   ],
   "source": [
    "# careful with the tuple constructor (it takes a single input which is a tuple)\n",
    "a_tuple = tuple(('a', 1, 'asdf'))\n",
    "a_tuple"
   ]
  },
  {
   "cell_type": "code",
   "execution_count": 52,
   "id": "f2d2d826",
   "metadata": {},
   "outputs": [
    {
     "data": {
      "text/plain": [
       "('a', 1, 'asdf')"
      ]
     },
     "execution_count": 52,
     "metadata": {},
     "output_type": "execute_result"
    }
   ],
   "source": [
    "# you can make a tuple without including the parenthases (this is most common in the code I've seen)\n",
    "a_tuple = 'a', 1, 'asdf'\n",
    "a_tuple"
   ]
  },
  {
   "cell_type": "code",
   "execution_count": 53,
   "id": "d055929c",
   "metadata": {},
   "outputs": [],
   "source": [
    "beatles_tuple = 'john', 'ringo', 'paul', 'george'"
   ]
  },
  {
   "cell_type": "code",
   "execution_count": 54,
   "id": "af538268",
   "metadata": {
    "scrolled": true
   },
   "outputs": [
    {
     "data": {
      "text/plain": [
       "'george'"
      ]
     },
     "execution_count": 54,
     "metadata": {},
     "output_type": "execute_result"
    }
   ],
   "source": [
    "# you can slice a tuple just like a list:\n",
    "beatles_tuple[-1]"
   ]
  },
  {
   "cell_type": "code",
   "execution_count": 55,
   "id": "643d2f18",
   "metadata": {
    "scrolled": true
   },
   "outputs": [
    {
     "data": {
      "text/plain": [
       "('john', 'ringo')"
      ]
     },
     "execution_count": 55,
     "metadata": {},
     "output_type": "execute_result"
    }
   ],
   "source": [
    "beatles_tuple[:2]"
   ]
  },
  {
   "cell_type": "code",
   "execution_count": 56,
   "id": "0a0506dd",
   "metadata": {},
   "outputs": [],
   "source": [
    "# tuples are immutable, you can't change which items are inside them \n",
    "# beatles_tuple[0] = 'yoko ono'"
   ]
  },
  {
   "cell_type": "markdown",
   "id": "01ebaf62",
   "metadata": {
    "slideshow": {
     "slide_type": "slide"
    }
   },
   "source": [
    "### Tuple unpacking"
   ]
  },
  {
   "cell_type": "code",
   "execution_count": 57,
   "id": "457e5f65",
   "metadata": {},
   "outputs": [
    {
     "data": {
      "text/plain": [
       "'john'"
      ]
     },
     "execution_count": 57,
     "metadata": {},
     "output_type": "execute_result"
    }
   ],
   "source": [
    "# build tuple of all beatles\n",
    "beatles_tuple = 'paul', 'ringo', 'john', 'george'\n",
    "\n",
    "# tuple unpacking into individual variables\n",
    "member0, member1, member2, member3 = beatles_tuple\n",
    "member2"
   ]
  },
  {
   "cell_type": "markdown",
   "id": "127271cd",
   "metadata": {
    "slideshow": {
     "slide_type": "slide"
    }
   },
   "source": [
    "## Dictionary\n",
    "python dictionary\n",
    "- unordered collection which stores key-value pairs \n",
    "- mutable\n",
    "\n",
    "a real-life dictionary matches words to definitions, the words are keys and the definitions are values.  Note that a real-life dictionary is sorted for our convenience, python dictionaries are not!"
   ]
  },
  {
   "cell_type": "code",
   "execution_count": 58,
   "id": "8cc965c6",
   "metadata": {},
   "outputs": [
    {
     "data": {
      "text/plain": [
       "{'eric': 17, 'qi': 7, 'lynne': 3, 'tamrat': 1}"
      ]
     },
     "execution_count": 58,
     "metadata": {},
     "output_type": "execute_result"
    }
   ],
   "source": [
    "# stores favorite numbers of some people\n",
    "# keys are 'eric', 'qi', ...\n",
    "# values are 17, 7, 3, 1\n",
    "favorite_number_dict = {'eric':  17, 'qi': 7, 'lynne': 3, 'tamrat': 1}\n",
    "favorite_number_dict"
   ]
  },
  {
   "cell_type": "code",
   "execution_count": 59,
   "id": "448996a8",
   "metadata": {},
   "outputs": [
    {
     "data": {
      "text/plain": [
       "1"
      ]
     },
     "execution_count": 59,
     "metadata": {},
     "output_type": "execute_result"
    }
   ],
   "source": [
    "# use square brackets to \"lookup\" (below we get the value associated with key 'tamrat')\n",
    "favorite_number_dict['tamrat']"
   ]
  },
  {
   "cell_type": "code",
   "execution_count": 60,
   "id": "676e3fba",
   "metadata": {},
   "outputs": [
    {
     "data": {
      "text/plain": [
       "{'eric': 17, 'qi': 7, 'lynne': 3, 'tamrat': 1, 'zeke': 9999}"
      ]
     },
     "execution_count": 60,
     "metadata": {},
     "output_type": "execute_result"
    }
   ],
   "source": [
    "# dictionaries are mutable, we can add key value pairs\n",
    "favorite_number_dict['zeke'] = 9999\n",
    "favorite_number_dict"
   ]
  },
  {
   "cell_type": "code",
   "execution_count": 61,
   "id": "89957c29",
   "metadata": {},
   "outputs": [
    {
     "data": {
      "text/plain": [
       "dict_keys(['eric', 'qi', 'lynne', 'tamrat', 'zeke'])"
      ]
     },
     "execution_count": 61,
     "metadata": {},
     "output_type": "execute_result"
    }
   ],
   "source": [
    "# keys() returns all the keys of the dict\n",
    "favorite_number_dict.keys()"
   ]
  },
  {
   "cell_type": "code",
   "execution_count": 62,
   "id": "dd1659c5",
   "metadata": {},
   "outputs": [
    {
     "data": {
      "text/plain": [
       "dict_values([17, 7, 3, 1, 9999])"
      ]
     },
     "execution_count": 62,
     "metadata": {},
     "output_type": "execute_result"
    }
   ],
   "source": [
    "# values() returns all the values of the dict\n",
    "favorite_number_dict.values()"
   ]
  },
  {
   "cell_type": "code",
   "execution_count": 63,
   "id": "b3137823",
   "metadata": {},
   "outputs": [
    {
     "data": {
      "text/plain": [
       "dict_items([('eric', 17), ('qi', 7), ('lynne', 3), ('tamrat', 1), ('zeke', 9999)])"
      ]
     },
     "execution_count": 63,
     "metadata": {},
     "output_type": "execute_result"
    }
   ],
   "source": [
    "# items() returns (key, value) tuples of all the pairs in the dict\n",
    "favorite_number_dict.items()"
   ]
  },
  {
   "cell_type": "code",
   "execution_count": 64,
   "id": "59fc1093",
   "metadata": {},
   "outputs": [
    {
     "data": {
      "text/plain": [
       "{'eric': 42, 'qi': 7, 'lynne': 3, 'tamrat': 1, 'zeke': 9999, 'arthur': 3.14159}"
      ]
     },
     "execution_count": 64,
     "metadata": {},
     "output_type": "execute_result"
    }
   ],
   "source": [
    "# you can update one dict into another\n",
    "favorite_number_dict2 = {'eric': 42, 'arthur': 3.14159}\n",
    "\n",
    "# add (overwrite if need be) key, value pairs from favorite_number_dict2 to favorite_number_dict\n",
    "favorite_number_dict.update(favorite_number_dict2)\n",
    "\n",
    "# notice that value associated with key 'eric' was overwritten\n",
    "favorite_number_dict"
   ]
  },
  {
   "cell_type": "code",
   "execution_count": 65,
   "id": "1bdd4bb8",
   "metadata": {},
   "outputs": [
    {
     "data": {
      "text/plain": [
       "{'qi': 7, 'lynne': 3, 'tamrat': 1, 'zeke': 9999, 'arthur': 3.14159}"
      ]
     },
     "execution_count": 65,
     "metadata": {},
     "output_type": "execute_result"
    }
   ],
   "source": [
    "# removing a key, value from a dictionary (by key)\n",
    "del favorite_number_dict['eric']\n",
    "favorite_number_dict"
   ]
  }
 ],
 "metadata": {
  "celltoolbar": "Slideshow",
  "kernelspec": {
   "display_name": "Python 3 (ipykernel)",
   "language": "python",
   "name": "python3"
  },
  "language_info": {
   "codemirror_mode": {
    "name": "ipython",
    "version": 3
   },
   "file_extension": ".py",
   "mimetype": "text/x-python",
   "name": "python",
   "nbconvert_exporter": "python",
   "pygments_lexer": "ipython3",
   "version": "3.10.2"
  }
 },
 "nbformat": 4,
 "nbformat_minor": 5
}
