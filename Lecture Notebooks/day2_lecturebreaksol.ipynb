{
 "cells": [
  {
   "cell_type": "markdown",
   "id": "a76d5da6",
   "metadata": {},
   "source": [
    "# LECTURE BREAK/PRACTICE SOLUTION"
   ]
  },
  {
   "cell_type": "code",
   "execution_count": 6,
   "id": "e2986ea2",
   "metadata": {},
   "outputs": [
    {
     "name": "stdout",
     "output_type": "stream",
     "text": [
      "31\n"
     ]
    },
    {
     "data": {
      "text/plain": [
       "'You can date people at least 22.5 years old.'"
      ]
     },
     "execution_count": 6,
     "metadata": {},
     "output_type": "execute_result"
    }
   ],
   "source": [
    "def src_func(age):\n",
    "    '''a function that determines the lower bound of the age in your dating pool\n",
    "    \n",
    "    Args:\n",
    "        age (int): age in years\n",
    "        \n",
    "    Returns:\n",
    "        info (string): sentence that reports the result (float): half your age plus seven\n",
    "    '''\n",
    "    \n",
    "    result = (age / 2) + 7\n",
    "    info = f'You can date people at least {result} years old.'\n",
    "    \n",
    "    return info\n",
    "\n",
    "\n",
    "neighbor_age = int(input())\n",
    "src_func(neighbor_age)"
   ]
  },
  {
   "cell_type": "code",
   "execution_count": null,
   "id": "b69ae407",
   "metadata": {},
   "outputs": [],
   "source": []
  }
 ],
 "metadata": {
  "kernelspec": {
   "display_name": "Python 3 (ipykernel)",
   "language": "python",
   "name": "python3"
  },
  "language_info": {
   "codemirror_mode": {
    "name": "ipython",
    "version": 3
   },
   "file_extension": ".py",
   "mimetype": "text/x-python",
   "name": "python",
   "nbconvert_exporter": "python",
   "pygments_lexer": "ipython3",
   "version": "3.10.2"
  }
 },
 "nbformat": 4,
 "nbformat_minor": 5
}
