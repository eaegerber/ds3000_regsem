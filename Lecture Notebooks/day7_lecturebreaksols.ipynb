{
 "cells": [
  {
   "cell_type": "markdown",
   "id": "a5922c2f",
   "metadata": {},
   "source": [
    "# Day 7 Lecture Break/Practice Solutions"
   ]
  },
  {
   "cell_type": "markdown",
   "id": "76c3b9fa",
   "metadata": {},
   "source": [
    "### Getting Forecast from OpenWeather\n"
   ]
  },
  {
   "cell_type": "code",
   "execution_count": null,
   "id": "61cfcfd3",
   "metadata": {},
   "outputs": [],
   "source": [
    "import requests\n",
    "import json\n",
    "import pandas as pd\n",
    "from datetime import datetime\n",
    "\n",
    "\n",
    "def get_forecast(lat, lon, units='imperial', api_key='d36fa352ac73226b30772f64675f41bb'):\n",
    "    \"\"\" creates a function that gets the hourly forecast (for the next two days) for a given lat and lon\n",
    "    \n",
    "    Args:\n",
    "        lat (float): latitude\n",
    "        lon (float): longitude\n",
    "        units (str): units\n",
    "        api_key (str): key for accessing API\n",
    "        \n",
    "    Returns:\n",
    "        df_hourly (data frame): data frame with rows corresponding to hours and columns various features\n",
    "    \n",
    "    \"\"\"\n",
    "    # build url\n",
    "    url = f'https://api.openweathermap.org/data/3.0/onecall?lat={lat}&lon={lon}&appid={api_key}&units={units}'\n",
    "\n",
    "    # get url response as a string\n",
    "    url_text = requests.get(url).text\n",
    "\n",
    "    # convert from json to a nested dict\n",
    "    weather_dict = json.loads(url_text)\n",
    "\n",
    "    # build dataframe from nested dict\n",
    "    df_hourly = pd.DataFrame()\n",
    "    for hour_dict in weather_dict['hourly']:\n",
    "        # we add a 'datetime' feature from the unix time (easier to use)\n",
    "        hour_dict['datetime'] = datetime.fromtimestamp(hour_dict['dt'])\n",
    "\n",
    "        # build a single row of dataframe (weather prediction for some hour)\n",
    "        s_hour = pd.Series(hour_dict)\n",
    "\n",
    "        # collect forecasts in a dataframe\n",
    "        df_hourly = df_hourly.append(s_hour, ignore_index=True)\n",
    "\n",
    "    return df_hourly"
   ]
  },
  {
   "cell_type": "markdown",
   "id": "e5b97c48",
   "metadata": {},
   "source": [
    "### Converting Unix to Some Timezone"
   ]
  },
  {
   "cell_type": "code",
   "execution_count": null,
   "id": "f2b17338",
   "metadata": {},
   "outputs": [],
   "source": [
    "def from_unix_to_datetime(unix_time, timezone_to='US/Eastern'):\n",
    "    \"\"\" converts unix time to a datetime object\n",
    "    \n",
    "    Args:\n",
    "        unix_time (float): unix time (sec since jan 1 1970 UTC)\n",
    "        timezone_to (str): timezone of output datetime\n",
    "        \n",
    "    Returns:\n",
    "        datetime_tz (datetime): datetime object corresponding to \n",
    "            unix_time\n",
    "    \"\"\"\n",
    "\n",
    "    # build datetime (by default, has no timezone)\n",
    "    datetime_from = datetime.utcfromtimestamp(unix_time)\n",
    "\n",
    "    # add timezone to datetime\n",
    "    tz_from = pytz.timezone('UTC')\n",
    "    datetime_from = tz_from.localize(datetime_from)\n",
    "\n",
    "    # Convert time zone\n",
    "    tz_to = pytz.timezone(timezone_to)\n",
    "    datetime_tz = datetime_from.astimezone(tz_to)\n",
    "\n",
    "    return datetime_tz"
   ]
  }
 ],
 "metadata": {
  "kernelspec": {
   "display_name": "Python 3 (ipykernel)",
   "language": "python",
   "name": "python3"
  },
  "language_info": {
   "codemirror_mode": {
    "name": "ipython",
    "version": 3
   },
   "file_extension": ".py",
   "mimetype": "text/x-python",
   "name": "python",
   "nbconvert_exporter": "python",
   "pygments_lexer": "ipython3",
   "version": "3.10.2"
  }
 },
 "nbformat": 4,
 "nbformat_minor": 5
}
