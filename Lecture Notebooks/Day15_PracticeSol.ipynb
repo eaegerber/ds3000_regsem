{
 "cells": [
  {
   "cell_type": "markdown",
   "id": "d0ce2091",
   "metadata": {},
   "source": [
    "# Hank Aaron Polynomial Regression"
   ]
  },
  {
   "cell_type": "code",
   "execution_count": null,
   "id": "0b873474",
   "metadata": {},
   "outputs": [],
   "source": [
    "x = df_aaron['age'].values.reshape((-1,1))\n",
    "y = df_aaron['HRR']\n",
    "\n",
    "# estimate cv r2 per degree of polynomial\n",
    "r2_per_degree = list()\n",
    "for degree in range(11):\n",
    "    r2 = cross_val_r2(x, y, degree, n_splits = 23)\n",
    "    r2_per_degree.append(r2)\n",
    "    \n",
    "r2_per_degree = np.maximum(np.array(r2_per_degree), 0)\n",
    "\n",
    "plt.plot(r2_per_degree)\n",
    "plt.xlabel('degree')\n",
    "plt.ylabel(f'$R^2$')\n",
    "\n",
    "plt.figure()\n",
    "degree_best = np.argmax(r2_per_degree)\n",
    "fit_plot_poly(x, y, degree_best)"
   ]
  },
  {
   "cell_type": "code",
   "execution_count": null,
   "id": "caeae67d",
   "metadata": {},
   "outputs": [],
   "source": [
    "# project x to polynomial (degree 4 seems best from above)\n",
    "poly_project = PolynomialFeatures(degree=4)\n",
    "x_poly = poly_project.fit_transform(x)\n",
    "    \n",
    "# fit via linear regression\n",
    "reg = LinearRegression(fit_intercept=False)\n",
    "reg.fit(x_poly, y)\n",
    "\n",
    "y_pred = reg.predict(x_poly)\n",
    "\n",
    "errors = y - y_pred\n",
    "\n",
    "#independence\n",
    "plt.scatter(x = range(len(y)), y = errors)\n",
    "plt.xlabel('index')\n",
    "plt.ylabel('errors');"
   ]
  },
  {
   "cell_type": "code",
   "execution_count": null,
   "id": "cfa34aa9",
   "metadata": {},
   "outputs": [],
   "source": [
    "#constant variance\n",
    "plt.scatter(x = x, y = errors)\n",
    "plt.xlabel('age')\n",
    "plt.ylabel('errors');"
   ]
  },
  {
   "cell_type": "code",
   "execution_count": null,
   "id": "6d2c0a33",
   "metadata": {},
   "outputs": [],
   "source": [
    "#normality\n",
    "stats.probplot(errors, dist=\"norm\", plot=py)\n",
    "py.show()"
   ]
  }
 ],
 "metadata": {
  "kernelspec": {
   "display_name": "Python 3 (ipykernel)",
   "language": "python",
   "name": "python3"
  },
  "language_info": {
   "codemirror_mode": {
    "name": "ipython",
    "version": 3
   },
   "file_extension": ".py",
   "mimetype": "text/x-python",
   "name": "python",
   "nbconvert_exporter": "python",
   "pygments_lexer": "ipython3",
   "version": "3.11.6"
  }
 },
 "nbformat": 4,
 "nbformat_minor": 5
}
