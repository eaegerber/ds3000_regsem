{
 "cells": [
  {
   "cell_type": "markdown",
   "id": "2742929d",
   "metadata": {},
   "source": [
    "# DS 3000 HW 6 $\\color{red}{\\text{SOLUTIONS}}$\n",
    "\n",
    "Due: Friday Nov 4 @ 11:59 PM EST\n",
    "\n",
    "### Submission Instructions\n",
    "Submit this `ipynb` file to Gradescope ([1:35 Section](https://www.gradescope.com/courses/431947) [3:25 Section](https://www.gradescope.com/courses/431864)) (this can also be done via the assignment on Canvas).  To ensure that your submitted `ipynb` file represents your latest code, make sure to give a fresh `Kernel > Restart & Run All` just before uploading the `ipynb` file to gradescope.\n",
    "\n",
    "### Tips for success\n",
    "- Start early\n",
    "- Make use of Piazza ([1:35 Section](https://piazza.com/class/l7dkfe3cgz21ul) [3:25 Section](https://piazza.com/class/l7dkey4g6m71e5)) (also accessable through Canvas)\n",
    "- Make use of [Office Hours](https://docs.google.com/spreadsheets/d/1SMacPh9lhRvjHI1VCJfBbNGSga3RTYKzSsfRWEWqWQI/edit?usp=sharing)\n",
    "- Remember to use cells and headings to make the notebook easy to read (if a grader cannot find the answer to a problem, you will receive no points for it)\n",
    "    - Remember that documentation/style is important (See the Style Guide on Canvas!)\n",
    "- Under no circumstances may one student view or share their ungraded homework or quiz with another student [(see also)](http://www.northeastern.edu/osccr/academic-integrity), though you are welcome to **talk about** (not show each other) the problems."
   ]
  },
  {
   "cell_type": "code",
   "execution_count": 1,
   "id": "4dcc3716",
   "metadata": {},
   "outputs": [],
   "source": [
    "import warnings\n",
    "warnings.simplefilter(action='ignore', category=FutureWarning)"
   ]
  },
  {
   "cell_type": "markdown",
   "id": "9dcb7402",
   "metadata": {},
   "source": [
    "## Part 1 (18 points)\n",
    "\n",
    "Match each of the covariance matrices to a single plot.  Note that all scatterplots below have equal scales in the x and y axes (moving an inch to the right increases x as much as moving an inch up increases y).  \n",
    "\n",
    "Please express your response as list **in a markdown cell**, ordered alphabetically by dataset.  For example, you might respond with:\n",
    "\n",
    "- Data Set A = $\\Sigma_0$\n",
    "- Data Set B = $\\Sigma_1$\n",
    "- Data Set C = $\\Sigma_2$\n",
    "- Data Set D = ...\n",
    "\n",
    "(If you'r eunsure how to format a \"Sigma\" in Latex, double click this markdown cell and examine the source which generated the list above)\n",
    "\n",
    "<img src=\"https://i.ibb.co/K7DY3mx/cov3by3.png\" alt=\"Drawing\" style=\"width: 600px;\"/>\n",
    "\n",
    "\n",
    "$$\\Sigma_0 =\\begin{bmatrix} \n",
    "5 & 1\\\\ \n",
    "1 & 2\n",
    "\\end{bmatrix}, \n",
    "\\Sigma_1 =\\begin{bmatrix} \n",
    "4 & 0\\\\ \n",
    "0 & 0\n",
    "\\end{bmatrix}, \n",
    "\\Sigma_2 =\\begin{bmatrix} \n",
    "1 & -1\\\\ \n",
    "-1 & 7\n",
    "\\end{bmatrix}, \n",
    "\\Sigma_3 =\\begin{bmatrix} \n",
    "7 & 4\\\\ \n",
    "4 & 5\n",
    "\\end{bmatrix}, \n",
    "\\Sigma_4 =\\begin{bmatrix} \n",
    "5 & 3\\\\ \n",
    "3 & 2\n",
    "\\end{bmatrix}$$\n",
    "\n",
    "$$\\Sigma_5 =\\begin{bmatrix} \n",
    "6 & 2\\\\ \n",
    "2 & 6\n",
    "\\end{bmatrix}, \n",
    "\\Sigma_6 =\\begin{bmatrix} \n",
    "4 & -2\\\\ \n",
    "-2 & 5\n",
    "\\end{bmatrix}, \n",
    "\\Sigma_7 =\\begin{bmatrix} \n",
    "1 & -2\\\\ \n",
    "-2 & 5\n",
    "\\end{bmatrix}, \n",
    "\\Sigma_8 =\\begin{bmatrix} \n",
    "2 & 0\\\\ \n",
    "0 & 2\n",
    "\\end{bmatrix}$$"
   ]
  },
  {
   "cell_type": "markdown",
   "id": "7f2ab588",
   "metadata": {},
   "source": [
    "$\\color{red}{\\text{Solution:}}$"
   ]
  },
  {
   "cell_type": "markdown",
   "id": "01becdab",
   "metadata": {},
   "source": [
    "- Data Set A = $\\Sigma_4$\n",
    "- Data Set B = $\\Sigma_7$\n",
    "- Data Set C = $\\Sigma_5$\n",
    "- Data Set D = $\\Sigma_8$\n",
    "- Data Set E = $\\Sigma_3$\n",
    "- Data Set F = $\\Sigma_6$\n",
    "- Data Set G = $\\Sigma_1$\n",
    "- Data Set H = $\\Sigma_0$\n",
    "- Data Set I = $\\Sigma_2$"
   ]
  },
  {
   "cell_type": "markdown",
   "id": "235e49a4",
   "metadata": {},
   "source": [
    "## Part 2: Electric Vehicles, Scale in Covariance Matrices (12 points)\n",
    "\n",
    "This problem uses `evdataset.csv`, available in the Homework Module on Canvas, which was taken and adapted from [Kaggle](https://www.kaggle.com/datasets/mohamedalishiha/electric-vehicles) and contains a sample of 194 electric vehicles on the market until 2022. The full dataset includes basic technical specifications, battery capacity and range in various weather and road conditions. The adapted data set has fewer columns (see below)."
   ]
  },
  {
   "cell_type": "code",
   "execution_count": 2,
   "id": "f73cea9c",
   "metadata": {},
   "outputs": [
    {
     "data": {
      "text/plain": [
       "['Acceleration',\n",
       " 'Top Speed',\n",
       " 'Electric Range',\n",
       " 'Total Power',\n",
       " 'Total Torque',\n",
       " 'Battery Capacity',\n",
       " 'Charge Speed',\n",
       " 'Length',\n",
       " 'Width',\n",
       " 'Height',\n",
       " 'Wheelbase',\n",
       " 'Gross Weight']"
      ]
     },
     "execution_count": 2,
     "metadata": {},
     "output_type": "execute_result"
    }
   ],
   "source": [
    "import pandas as pd\n",
    "\n",
    "df_ev = pd.read_csv('evdataset.csv', index_col='id')"
   ]
  },
  {
   "cell_type": "code",
   "execution_count": 3,
   "id": "c7ee1a17",
   "metadata": {},
   "outputs": [
    {
     "data": {
      "text/html": [
       "<div>\n",
       "<style scoped>\n",
       "    .dataframe tbody tr th:only-of-type {\n",
       "        vertical-align: middle;\n",
       "    }\n",
       "\n",
       "    .dataframe tbody tr th {\n",
       "        vertical-align: top;\n",
       "    }\n",
       "\n",
       "    .dataframe thead th {\n",
       "        text-align: right;\n",
       "    }\n",
       "</style>\n",
       "<table border=\"1\" class=\"dataframe\">\n",
       "  <thead>\n",
       "    <tr style=\"text-align: right;\">\n",
       "      <th></th>\n",
       "      <th>Acceleration</th>\n",
       "      <th>Top Speed</th>\n",
       "      <th>Electric Range</th>\n",
       "      <th>Total Power</th>\n",
       "      <th>Total Torque</th>\n",
       "      <th>Battery Capacity</th>\n",
       "      <th>Charge Speed</th>\n",
       "      <th>Length</th>\n",
       "      <th>Width</th>\n",
       "      <th>Height</th>\n",
       "      <th>Wheelbase</th>\n",
       "      <th>Gross Weight</th>\n",
       "    </tr>\n",
       "  </thead>\n",
       "  <tbody>\n",
       "    <tr>\n",
       "      <th>Acceleration</th>\n",
       "      <td>10.038666</td>\n",
       "      <td>-105.351875</td>\n",
       "      <td>-227.482493</td>\n",
       "      <td>-325.912451</td>\n",
       "      <td>-552.506025</td>\n",
       "      <td>-36.213742</td>\n",
       "      <td>-20.048900</td>\n",
       "      <td>11.399997</td>\n",
       "      <td>-48.069676</td>\n",
       "      <td>356.311012</td>\n",
       "      <td>180.853007</td>\n",
       "      <td>-71.458066</td>\n",
       "    </tr>\n",
       "    <tr>\n",
       "      <th>Top Speed</th>\n",
       "      <td>-105.351875</td>\n",
       "      <td>1452.388361</td>\n",
       "      <td>2730.560734</td>\n",
       "      <td>4320.033278</td>\n",
       "      <td>7024.237968</td>\n",
       "      <td>509.695970</td>\n",
       "      <td>169.335799</td>\n",
       "      <td>3525.397602</td>\n",
       "      <td>1153.962769</td>\n",
       "      <td>-3922.751910</td>\n",
       "      <td>-58.100983</td>\n",
       "      <td>3976.754313</td>\n",
       "    </tr>\n",
       "    <tr>\n",
       "      <th>Electric Range</th>\n",
       "      <td>-227.482493</td>\n",
       "      <td>2730.560734</td>\n",
       "      <td>10278.791865</td>\n",
       "      <td>7944.660809</td>\n",
       "      <td>13834.925218</td>\n",
       "      <td>1760.754834</td>\n",
       "      <td>657.146921</td>\n",
       "      <td>8429.326024</td>\n",
       "      <td>1936.672988</td>\n",
       "      <td>-8336.923375</td>\n",
       "      <td>1480.904466</td>\n",
       "      <td>11345.072512</td>\n",
       "    </tr>\n",
       "    <tr>\n",
       "      <th>Total Power</th>\n",
       "      <td>-325.912451</td>\n",
       "      <td>4320.033278</td>\n",
       "      <td>7944.660809</td>\n",
       "      <td>15114.115913</td>\n",
       "      <td>24749.795577</td>\n",
       "      <td>1728.165045</td>\n",
       "      <td>355.204743</td>\n",
       "      <td>16114.824155</td>\n",
       "      <td>4449.791144</td>\n",
       "      <td>-9979.290316</td>\n",
       "      <td>3358.385236</td>\n",
       "      <td>20151.268415</td>\n",
       "    </tr>\n",
       "    <tr>\n",
       "      <th>Total Torque</th>\n",
       "      <td>-552.506025</td>\n",
       "      <td>7024.237968</td>\n",
       "      <td>13834.925218</td>\n",
       "      <td>24749.795577</td>\n",
       "      <td>49382.359810</td>\n",
       "      <td>3191.410138</td>\n",
       "      <td>459.734790</td>\n",
       "      <td>29169.851076</td>\n",
       "      <td>7577.200577</td>\n",
       "      <td>-14288.262326</td>\n",
       "      <td>8990.485978</td>\n",
       "      <td>40044.338604</td>\n",
       "    </tr>\n",
       "    <tr>\n",
       "      <th>Battery Capacity</th>\n",
       "      <td>-36.213742</td>\n",
       "      <td>509.695970</td>\n",
       "      <td>1760.754834</td>\n",
       "      <td>1728.165045</td>\n",
       "      <td>3191.410138</td>\n",
       "      <td>404.922219</td>\n",
       "      <td>31.628682</td>\n",
       "      <td>4294.410323</td>\n",
       "      <td>844.176625</td>\n",
       "      <td>-661.694928</td>\n",
       "      <td>2026.470757</td>\n",
       "      <td>5491.262173</td>\n",
       "    </tr>\n",
       "    <tr>\n",
       "      <th>Charge Speed</th>\n",
       "      <td>-20.048900</td>\n",
       "      <td>169.335799</td>\n",
       "      <td>657.146921</td>\n",
       "      <td>355.204743</td>\n",
       "      <td>459.734790</td>\n",
       "      <td>31.628682</td>\n",
       "      <td>243.919369</td>\n",
       "      <td>-2417.164494</td>\n",
       "      <td>-350.993590</td>\n",
       "      <td>-1347.022675</td>\n",
       "      <td>-1677.429544</td>\n",
       "      <td>-2293.604749</td>\n",
       "    </tr>\n",
       "    <tr>\n",
       "      <th>Length</th>\n",
       "      <td>11.399997</td>\n",
       "      <td>3525.397602</td>\n",
       "      <td>8429.326024</td>\n",
       "      <td>16114.824155</td>\n",
       "      <td>29169.851076</td>\n",
       "      <td>4294.410323</td>\n",
       "      <td>-2417.164494</td>\n",
       "      <td>143049.769483</td>\n",
       "      <td>22326.725122</td>\n",
       "      <td>21157.559559</td>\n",
       "      <td>81208.268869</td>\n",
       "      <td>142659.081005</td>\n",
       "    </tr>\n",
       "    <tr>\n",
       "      <th>Width</th>\n",
       "      <td>-48.069676</td>\n",
       "      <td>1153.962769</td>\n",
       "      <td>1936.672988</td>\n",
       "      <td>4449.791144</td>\n",
       "      <td>7577.200577</td>\n",
       "      <td>844.176625</td>\n",
       "      <td>-350.993590</td>\n",
       "      <td>22326.725122</td>\n",
       "      <td>4722.348486</td>\n",
       "      <td>2220.111533</td>\n",
       "      <td>12041.720421</td>\n",
       "      <td>24388.416217</td>\n",
       "    </tr>\n",
       "    <tr>\n",
       "      <th>Height</th>\n",
       "      <td>356.311012</td>\n",
       "      <td>-3922.751910</td>\n",
       "      <td>-8336.923375</td>\n",
       "      <td>-9979.290316</td>\n",
       "      <td>-14288.262326</td>\n",
       "      <td>-661.694928</td>\n",
       "      <td>-1347.022675</td>\n",
       "      <td>21157.559559</td>\n",
       "      <td>2220.111533</td>\n",
       "      <td>23179.887319</td>\n",
       "      <td>20925.074115</td>\n",
       "      <td>24765.621414</td>\n",
       "    </tr>\n",
       "    <tr>\n",
       "      <th>Wheelbase</th>\n",
       "      <td>180.853007</td>\n",
       "      <td>-58.100983</td>\n",
       "      <td>1480.904466</td>\n",
       "      <td>3358.385236</td>\n",
       "      <td>8990.485978</td>\n",
       "      <td>2026.470757</td>\n",
       "      <td>-1677.429544</td>\n",
       "      <td>81208.268869</td>\n",
       "      <td>12041.720421</td>\n",
       "      <td>20925.074115</td>\n",
       "      <td>56914.286977</td>\n",
       "      <td>85091.754367</td>\n",
       "    </tr>\n",
       "    <tr>\n",
       "      <th>Gross Weight</th>\n",
       "      <td>-71.458066</td>\n",
       "      <td>3976.754313</td>\n",
       "      <td>11345.072512</td>\n",
       "      <td>20151.268415</td>\n",
       "      <td>40044.338604</td>\n",
       "      <td>5491.262173</td>\n",
       "      <td>-2293.604749</td>\n",
       "      <td>142659.081005</td>\n",
       "      <td>24388.416217</td>\n",
       "      <td>24765.621414</td>\n",
       "      <td>85091.754367</td>\n",
       "      <td>172716.918354</td>\n",
       "    </tr>\n",
       "  </tbody>\n",
       "</table>\n",
       "</div>"
      ],
      "text/plain": [
       "                  Acceleration    Top Speed  Electric Range   Total Power  \\\n",
       "Acceleration         10.038666  -105.351875     -227.482493   -325.912451   \n",
       "Top Speed          -105.351875  1452.388361     2730.560734   4320.033278   \n",
       "Electric Range     -227.482493  2730.560734    10278.791865   7944.660809   \n",
       "Total Power        -325.912451  4320.033278     7944.660809  15114.115913   \n",
       "Total Torque       -552.506025  7024.237968    13834.925218  24749.795577   \n",
       "Battery Capacity    -36.213742   509.695970     1760.754834   1728.165045   \n",
       "Charge Speed        -20.048900   169.335799      657.146921    355.204743   \n",
       "Length               11.399997  3525.397602     8429.326024  16114.824155   \n",
       "Width               -48.069676  1153.962769     1936.672988   4449.791144   \n",
       "Height              356.311012 -3922.751910    -8336.923375  -9979.290316   \n",
       "Wheelbase           180.853007   -58.100983     1480.904466   3358.385236   \n",
       "Gross Weight        -71.458066  3976.754313    11345.072512  20151.268415   \n",
       "\n",
       "                  Total Torque  Battery Capacity  Charge Speed         Length  \\\n",
       "Acceleration       -552.506025        -36.213742    -20.048900      11.399997   \n",
       "Top Speed          7024.237968        509.695970    169.335799    3525.397602   \n",
       "Electric Range    13834.925218       1760.754834    657.146921    8429.326024   \n",
       "Total Power       24749.795577       1728.165045    355.204743   16114.824155   \n",
       "Total Torque      49382.359810       3191.410138    459.734790   29169.851076   \n",
       "Battery Capacity   3191.410138        404.922219     31.628682    4294.410323   \n",
       "Charge Speed        459.734790         31.628682    243.919369   -2417.164494   \n",
       "Length            29169.851076       4294.410323  -2417.164494  143049.769483   \n",
       "Width              7577.200577        844.176625   -350.993590   22326.725122   \n",
       "Height           -14288.262326       -661.694928  -1347.022675   21157.559559   \n",
       "Wheelbase          8990.485978       2026.470757  -1677.429544   81208.268869   \n",
       "Gross Weight      40044.338604       5491.262173  -2293.604749  142659.081005   \n",
       "\n",
       "                         Width        Height     Wheelbase   Gross Weight  \n",
       "Acceleration        -48.069676    356.311012    180.853007     -71.458066  \n",
       "Top Speed          1153.962769  -3922.751910    -58.100983    3976.754313  \n",
       "Electric Range     1936.672988  -8336.923375   1480.904466   11345.072512  \n",
       "Total Power        4449.791144  -9979.290316   3358.385236   20151.268415  \n",
       "Total Torque       7577.200577 -14288.262326   8990.485978   40044.338604  \n",
       "Battery Capacity    844.176625   -661.694928   2026.470757    5491.262173  \n",
       "Charge Speed       -350.993590  -1347.022675  -1677.429544   -2293.604749  \n",
       "Length            22326.725122  21157.559559  81208.268869  142659.081005  \n",
       "Width              4722.348486   2220.111533  12041.720421   24388.416217  \n",
       "Height             2220.111533  23179.887319  20925.074115   24765.621414  \n",
       "Wheelbase         12041.720421  20925.074115  56914.286977   85091.754367  \n",
       "Gross Weight      24388.416217  24765.621414  85091.754367  172716.918354  "
      ]
     },
     "execution_count": 3,
     "metadata": {},
     "output_type": "execute_result"
    }
   ],
   "source": [
    "df_ev.cov()"
   ]
  },
  {
   "cell_type": "markdown",
   "id": "f4545662",
   "metadata": {},
   "source": [
    "A younger version of yourself, before having mastered Correlation and Covariance as you now have, may have had the following reasoning:\n",
    "\n",
    "    \"The covariance between Acceleration and Top Speed is -105.35, which is much closer to 0 than the covariance between Acceleration and Total Torque (-552.5).  Therefore, I conclude that Acceleration and Total Torque must change more consistently together than Acceleration and Top Speed.\"\n",
    "\n",
    "Identify and correct your past self's interpretation mistake by offering a more principled analysis (**in a markdown cell**) of what relationships do and don't exist in the data.\n",
    "\n",
    "To receive full credit on this question, be sure to:\n",
    "- correctly identify the thinking error:\n",
    "    - why is |cov(Acceleration, Total Torque)| > |cov(Acceleration, Top Speed)|? \n",
    "        - (use might use your `.head()` to do some thinking!)\n",
    "        - also, notice that we are talking about *negative* covariance, so the absolute value (distance from zero) is what we are currently using to assess strength of relationship\n",
    "    - what should we use to measure the consistency with which values change?\n",
    "- clearly explain / teach the difference so that a non-technical audience may understand\n",
    "- utilize whatever features of the python libraries we've studied you see fit to explain yourself\n",
    "\n",
    "Be clear.  Be brief."
   ]
  },
  {
   "cell_type": "markdown",
   "id": "d7fb3c92",
   "metadata": {},
   "source": [
    "$\\color{red}{\\text{Solution:}}$"
   ]
  },
  {
   "cell_type": "markdown",
   "id": "3757244a",
   "metadata": {},
   "source": [
    "My past self's interpretation is one to be wary of because the scales of the features are different different. Because of the different scales, no valid conclusion can be made about how these features change together based solely on covariance. If we examine the formula for sample covariance:\n",
    "\n",
    "$$ \\texttt{cov}(x, y) = \\frac{1}{N-1} \\sum_i (x_i - \\bar{x})(y_i - \\bar{y})$$\n",
    "\n",
    "it becomes clear that |cov(Acceleration, Top Speed)| is likely smaller than |cov(Acceleration, Total Torque)| because the units for Total Torque are much larger than the units for Top Speed, which therefore makes the absolute value of the covariance between Acceleration and Total Torque greater. This is because with greater values, the difference between a given value and its mean is likely larger, which therefore makes the covariance larger."
   ]
  },
  {
   "cell_type": "markdown",
   "id": "dae1a47f",
   "metadata": {},
   "source": [
    "In order to equalize the scales, we must divide the covariance by the strongest possible relationship between the two variables, which would be the product of the standard deviation of both variables.\n",
    "\n",
    "$$corr(x,y) = \\frac{\\texttt{cov}(x, y)}{\\sigma_x \\sigma_y} $$\n",
    "\n",
    "In other words, we would measure and compare the correlation of each pair of variables."
   ]
  },
  {
   "cell_type": "code",
   "execution_count": 4,
   "id": "a522cfc0",
   "metadata": {},
   "outputs": [
    {
     "data": {
      "text/html": [
       "<div>\n",
       "<style scoped>\n",
       "    .dataframe tbody tr th:only-of-type {\n",
       "        vertical-align: middle;\n",
       "    }\n",
       "\n",
       "    .dataframe tbody tr th {\n",
       "        vertical-align: top;\n",
       "    }\n",
       "\n",
       "    .dataframe thead th {\n",
       "        text-align: right;\n",
       "    }\n",
       "</style>\n",
       "<table border=\"1\" class=\"dataframe\">\n",
       "  <thead>\n",
       "    <tr style=\"text-align: right;\">\n",
       "      <th></th>\n",
       "      <th>Acceleration</th>\n",
       "      <th>Top Speed</th>\n",
       "      <th>Electric Range</th>\n",
       "      <th>Total Power</th>\n",
       "      <th>Total Torque</th>\n",
       "      <th>Battery Capacity</th>\n",
       "      <th>Charge Speed</th>\n",
       "      <th>Length</th>\n",
       "      <th>Width</th>\n",
       "      <th>Height</th>\n",
       "      <th>Wheelbase</th>\n",
       "      <th>Gross Weight</th>\n",
       "    </tr>\n",
       "  </thead>\n",
       "  <tbody>\n",
       "    <tr>\n",
       "      <th>Acceleration</th>\n",
       "      <td>1.000000</td>\n",
       "      <td>-0.872495</td>\n",
       "      <td>-0.708172</td>\n",
       "      <td>-0.836703</td>\n",
       "      <td>-0.784717</td>\n",
       "      <td>-0.568002</td>\n",
       "      <td>-0.405163</td>\n",
       "      <td>0.009513</td>\n",
       "      <td>-0.220777</td>\n",
       "      <td>0.738645</td>\n",
       "      <td>0.239264</td>\n",
       "      <td>-0.054268</td>\n",
       "    </tr>\n",
       "    <tr>\n",
       "      <th>Top Speed</th>\n",
       "      <td>-0.872495</td>\n",
       "      <td>1.000000</td>\n",
       "      <td>0.706707</td>\n",
       "      <td>0.922050</td>\n",
       "      <td>0.829415</td>\n",
       "      <td>0.664636</td>\n",
       "      <td>0.284501</td>\n",
       "      <td>0.244581</td>\n",
       "      <td>0.440627</td>\n",
       "      <td>-0.676073</td>\n",
       "      <td>-0.006390</td>\n",
       "      <td>0.251085</td>\n",
       "    </tr>\n",
       "    <tr>\n",
       "      <th>Electric Range</th>\n",
       "      <td>-0.708172</td>\n",
       "      <td>0.706707</td>\n",
       "      <td>1.000000</td>\n",
       "      <td>0.637401</td>\n",
       "      <td>0.614073</td>\n",
       "      <td>0.863062</td>\n",
       "      <td>0.415019</td>\n",
       "      <td>0.219826</td>\n",
       "      <td>0.277975</td>\n",
       "      <td>-0.540106</td>\n",
       "      <td>0.061227</td>\n",
       "      <td>0.269258</td>\n",
       "    </tr>\n",
       "    <tr>\n",
       "      <th>Total Power</th>\n",
       "      <td>-0.836703</td>\n",
       "      <td>0.922050</td>\n",
       "      <td>0.637401</td>\n",
       "      <td>1.000000</td>\n",
       "      <td>0.905929</td>\n",
       "      <td>0.698567</td>\n",
       "      <td>0.184997</td>\n",
       "      <td>0.346570</td>\n",
       "      <td>0.526707</td>\n",
       "      <td>-0.533154</td>\n",
       "      <td>0.114506</td>\n",
       "      <td>0.394406</td>\n",
       "    </tr>\n",
       "    <tr>\n",
       "      <th>Total Torque</th>\n",
       "      <td>-0.784717</td>\n",
       "      <td>0.829415</td>\n",
       "      <td>0.614073</td>\n",
       "      <td>0.905929</td>\n",
       "      <td>1.000000</td>\n",
       "      <td>0.713692</td>\n",
       "      <td>0.132464</td>\n",
       "      <td>0.347060</td>\n",
       "      <td>0.496185</td>\n",
       "      <td>-0.422316</td>\n",
       "      <td>0.169585</td>\n",
       "      <td>0.433598</td>\n",
       "    </tr>\n",
       "    <tr>\n",
       "      <th>Battery Capacity</th>\n",
       "      <td>-0.568002</td>\n",
       "      <td>0.664636</td>\n",
       "      <td>0.863062</td>\n",
       "      <td>0.698567</td>\n",
       "      <td>0.713692</td>\n",
       "      <td>1.000000</td>\n",
       "      <td>0.100640</td>\n",
       "      <td>0.564253</td>\n",
       "      <td>0.610476</td>\n",
       "      <td>-0.215981</td>\n",
       "      <td>0.422128</td>\n",
       "      <td>0.656627</td>\n",
       "    </tr>\n",
       "    <tr>\n",
       "      <th>Charge Speed</th>\n",
       "      <td>-0.405163</td>\n",
       "      <td>0.284501</td>\n",
       "      <td>0.415019</td>\n",
       "      <td>0.184997</td>\n",
       "      <td>0.132464</td>\n",
       "      <td>0.100640</td>\n",
       "      <td>1.000000</td>\n",
       "      <td>-0.409204</td>\n",
       "      <td>-0.327037</td>\n",
       "      <td>-0.566495</td>\n",
       "      <td>-0.450205</td>\n",
       "      <td>-0.353369</td>\n",
       "    </tr>\n",
       "    <tr>\n",
       "      <th>Length</th>\n",
       "      <td>0.009513</td>\n",
       "      <td>0.244581</td>\n",
       "      <td>0.219826</td>\n",
       "      <td>0.346570</td>\n",
       "      <td>0.347060</td>\n",
       "      <td>0.564253</td>\n",
       "      <td>-0.409204</td>\n",
       "      <td>1.000000</td>\n",
       "      <td>0.859018</td>\n",
       "      <td>0.367423</td>\n",
       "      <td>0.900007</td>\n",
       "      <td>0.907587</td>\n",
       "    </tr>\n",
       "    <tr>\n",
       "      <th>Width</th>\n",
       "      <td>-0.220777</td>\n",
       "      <td>0.440627</td>\n",
       "      <td>0.277975</td>\n",
       "      <td>0.526707</td>\n",
       "      <td>0.496185</td>\n",
       "      <td>0.610476</td>\n",
       "      <td>-0.327037</td>\n",
       "      <td>0.859018</td>\n",
       "      <td>1.000000</td>\n",
       "      <td>0.212197</td>\n",
       "      <td>0.734512</td>\n",
       "      <td>0.853959</td>\n",
       "    </tr>\n",
       "    <tr>\n",
       "      <th>Height</th>\n",
       "      <td>0.738645</td>\n",
       "      <td>-0.676073</td>\n",
       "      <td>-0.540106</td>\n",
       "      <td>-0.533154</td>\n",
       "      <td>-0.422316</td>\n",
       "      <td>-0.215981</td>\n",
       "      <td>-0.566495</td>\n",
       "      <td>0.367423</td>\n",
       "      <td>0.212197</td>\n",
       "      <td>1.000000</td>\n",
       "      <td>0.576104</td>\n",
       "      <td>0.391405</td>\n",
       "    </tr>\n",
       "    <tr>\n",
       "      <th>Wheelbase</th>\n",
       "      <td>0.239264</td>\n",
       "      <td>-0.006390</td>\n",
       "      <td>0.061227</td>\n",
       "      <td>0.114506</td>\n",
       "      <td>0.169585</td>\n",
       "      <td>0.422128</td>\n",
       "      <td>-0.450205</td>\n",
       "      <td>0.900007</td>\n",
       "      <td>0.734512</td>\n",
       "      <td>0.576104</td>\n",
       "      <td>1.000000</td>\n",
       "      <td>0.858241</td>\n",
       "    </tr>\n",
       "    <tr>\n",
       "      <th>Gross Weight</th>\n",
       "      <td>-0.054268</td>\n",
       "      <td>0.251085</td>\n",
       "      <td>0.269258</td>\n",
       "      <td>0.394406</td>\n",
       "      <td>0.433598</td>\n",
       "      <td>0.656627</td>\n",
       "      <td>-0.353369</td>\n",
       "      <td>0.907587</td>\n",
       "      <td>0.853959</td>\n",
       "      <td>0.391405</td>\n",
       "      <td>0.858241</td>\n",
       "      <td>1.000000</td>\n",
       "    </tr>\n",
       "  </tbody>\n",
       "</table>\n",
       "</div>"
      ],
      "text/plain": [
       "                  Acceleration  Top Speed  Electric Range  Total Power  \\\n",
       "Acceleration          1.000000  -0.872495       -0.708172    -0.836703   \n",
       "Top Speed            -0.872495   1.000000        0.706707     0.922050   \n",
       "Electric Range       -0.708172   0.706707        1.000000     0.637401   \n",
       "Total Power          -0.836703   0.922050        0.637401     1.000000   \n",
       "Total Torque         -0.784717   0.829415        0.614073     0.905929   \n",
       "Battery Capacity     -0.568002   0.664636        0.863062     0.698567   \n",
       "Charge Speed         -0.405163   0.284501        0.415019     0.184997   \n",
       "Length                0.009513   0.244581        0.219826     0.346570   \n",
       "Width                -0.220777   0.440627        0.277975     0.526707   \n",
       "Height                0.738645  -0.676073       -0.540106    -0.533154   \n",
       "Wheelbase             0.239264  -0.006390        0.061227     0.114506   \n",
       "Gross Weight         -0.054268   0.251085        0.269258     0.394406   \n",
       "\n",
       "                  Total Torque  Battery Capacity  Charge Speed    Length  \\\n",
       "Acceleration         -0.784717         -0.568002     -0.405163  0.009513   \n",
       "Top Speed             0.829415          0.664636      0.284501  0.244581   \n",
       "Electric Range        0.614073          0.863062      0.415019  0.219826   \n",
       "Total Power           0.905929          0.698567      0.184997  0.346570   \n",
       "Total Torque          1.000000          0.713692      0.132464  0.347060   \n",
       "Battery Capacity      0.713692          1.000000      0.100640  0.564253   \n",
       "Charge Speed          0.132464          0.100640      1.000000 -0.409204   \n",
       "Length                0.347060          0.564253     -0.409204  1.000000   \n",
       "Width                 0.496185          0.610476     -0.327037  0.859018   \n",
       "Height               -0.422316         -0.215981     -0.566495  0.367423   \n",
       "Wheelbase             0.169585          0.422128     -0.450205  0.900007   \n",
       "Gross Weight          0.433598          0.656627     -0.353369  0.907587   \n",
       "\n",
       "                     Width    Height  Wheelbase  Gross Weight  \n",
       "Acceleration     -0.220777  0.738645   0.239264     -0.054268  \n",
       "Top Speed         0.440627 -0.676073  -0.006390      0.251085  \n",
       "Electric Range    0.277975 -0.540106   0.061227      0.269258  \n",
       "Total Power       0.526707 -0.533154   0.114506      0.394406  \n",
       "Total Torque      0.496185 -0.422316   0.169585      0.433598  \n",
       "Battery Capacity  0.610476 -0.215981   0.422128      0.656627  \n",
       "Charge Speed     -0.327037 -0.566495  -0.450205     -0.353369  \n",
       "Length            0.859018  0.367423   0.900007      0.907587  \n",
       "Width             1.000000  0.212197   0.734512      0.853959  \n",
       "Height            0.212197  1.000000   0.576104      0.391405  \n",
       "Wheelbase         0.734512  0.576104   1.000000      0.858241  \n",
       "Gross Weight      0.853959  0.391405   0.858241      1.000000  "
      ]
     },
     "execution_count": 4,
     "metadata": {},
     "output_type": "execute_result"
    }
   ],
   "source": [
    "df_ev.corr()"
   ]
  },
  {
   "cell_type": "markdown",
   "id": "45fc223e",
   "metadata": {},
   "source": [
    "Based on the correlation matrix, we can see that in fact there is a stronger (negative) correlation between Acceleration and Top Speed than between Acceleration and Total Torque; the opposite of our younger self's conclusion."
   ]
  },
  {
   "cell_type": "markdown",
   "id": "cf2d38c3",
   "metadata": {},
   "source": [
    "## Part 3: Electric Vehicles, k-NN Classifier\n",
    "\n",
    "In this problem we'll use the k-Nearest Neighbor classifier to classify the type of drive an electric vehicle has (Rear, Front, or All-Wheel Drive (AWD)).\n",
    "\n",
    "Note:\n",
    "- each subpart requires the completion of all previous sub-parts\n",
    "- the earlier subparts make scale normalization / cross validation errors on purpose\n",
    "    - these will be addressed in later parts\n",
    "- you may find it helpful to load a fresh copy of `df_ev` in parts 3.1, 3.3 and 3.4"
   ]
  },
  {
   "cell_type": "markdown",
   "id": "11eb54a8",
   "metadata": {},
   "source": [
    "## Part 3.1 (10 points)\n",
    "Build a 20-Nearest Neighbor classifier which is `fit` and then `predict` on the whole dataset."
   ]
  },
  {
   "cell_type": "markdown",
   "id": "e1d2d4eb",
   "metadata": {},
   "source": [
    "$\\color{red}{\\text{Solution:}}$"
   ]
  },
  {
   "cell_type": "code",
   "execution_count": 5,
   "id": "4a433cb2",
   "metadata": {},
   "outputs": [],
   "source": [
    "import seaborn as sns\n",
    "import matplotlib.pyplot as plt\n",
    "import matplotlib\n",
    "import numpy as np\n",
    "\n",
    "from sklearn.neighbors import KNeighborsClassifier\n",
    "\n",
    "from sklearn.metrics import confusion_matrix\n",
    "from sklearn.metrics import ConfusionMatrixDisplay"
   ]
  },
  {
   "cell_type": "code",
   "execution_count": 6,
   "id": "62434772",
   "metadata": {},
   "outputs": [],
   "source": [
    "df_ev = pd.read_csv('evdataset.csv', index_col='id')"
   ]
  },
  {
   "cell_type": "code",
   "execution_count": 7,
   "id": "037acc40",
   "metadata": {},
   "outputs": [],
   "source": [
    "# Initialize variables to feed into classifier\n",
    "k = 20\n",
    "\n",
    "x_feat_list = list(df_ev.columns[1:])\n",
    "y_feat = 'Drive'\n",
    "\n",
    "# From df, extract values to feed into classifier, and correct predictions\n",
    "x = df_ev.loc[:, x_feat_list].values\n",
    "y_true = df_ev.loc[:, y_feat].values\n",
    "\n",
    "# Initialize a KNN classifier\n",
    "knn_classifier = KNeighborsClassifier(n_neighbors=k)\n",
    "\n",
    "# Remember training samples\n",
    "knn_classifier.fit(x, y_true)\n",
    "\n",
    "# Estimate each drive type\n",
    "y_pred = knn_classifier.predict(x)"
   ]
  },
  {
   "cell_type": "markdown",
   "id": "69081afc",
   "metadata": {},
   "source": [
    "## Part 3.2 (10 points)\n",
    "Plot the confusion matrix which results from this dataset.  \n",
    "\n",
    "Using the confusion matrix, identify the drive mostly commonly misclassified by\n",
    "- explicitly computing its accuracy\n",
    "- telling which other drive it is most commonly mistaken for\n",
    "\n",
    "Your response should be one or two sentences."
   ]
  },
  {
   "cell_type": "markdown",
   "id": "96927399",
   "metadata": {},
   "source": [
    "$\\color{red}{\\text{Solution:}}$"
   ]
  },
  {
   "cell_type": "code",
   "execution_count": 8,
   "id": "7ecb7b82",
   "metadata": {},
   "outputs": [
    {
     "data": {
      "image/png": "[encoded data removed]",
      "text/plain": [
       "<Figure size 1000x1000 with 2 Axes>"
      ]
     },
     "metadata": {},
     "output_type": "display_data"
    }
   ],
   "source": [
    "# Create and plot confusion matrix\n",
    "conf_mat = confusion_matrix(y_true=y_true, y_pred=y_pred)\n",
    "\n",
    "conf_mat_disp = ConfusionMatrixDisplay(conf_mat, display_labels=np.unique(y_true))\n",
    "conf_mat_disp.plot()\n",
    "\n",
    "# Clean plot\n",
    "plt.gcf().set_size_inches(10, 10)\n",
    "plt.grid(False)"
   ]
  },
  {
   "cell_type": "code",
   "execution_count": 9,
   "id": "9f9c8898",
   "metadata": {},
   "outputs": [
    {
     "name": "stdout",
     "output_type": "stream",
     "text": [
      "AWD drive accuracy: 0.920\n",
      "\tDrive most commonly mistaken for: Rear\n",
      "\n",
      "Front drive accuracy: 0.877\n",
      "\tDrive most commonly mistaken for: Rear\n",
      "\n",
      "Rear drive accuracy: 0.478\n",
      "\tDrive most commonly mistaken for: AWD\n",
      "\n"
     ]
    }
   ],
   "source": [
    "# Initiate position of correct prediction (goes diagonal down the rows)\n",
    "correct_pred_pos = 0\n",
    "\n",
    "# Identify drive names\n",
    "drive_names = np.unique(y_true)\n",
    "\n",
    "for row in conf_mat:\n",
    "    # Sum total number of drive type\n",
    "    total_cars = sum(row)\n",
    "    \n",
    "    # Extract correct predictions\n",
    "    correct_pred = row[correct_pred_pos]\n",
    "    \n",
    "    # Compute accuracy\n",
    "    accuracy = correct_pred / total_cars\n",
    "    \n",
    "    # Find the other drive it is most commonly mistaken for\n",
    "    secondmax_pred = sorted(row)[-2]\n",
    "    secondmax_pos = np.where(row == secondmax_pred)\n",
    "    \n",
    "    print(f'{drive_names[correct_pred_pos]} drive accuracy: {accuracy:.3f}')\n",
    "    print(f'\\tDrive most commonly mistaken for: {drive_names[secondmax_pos][0]}\\n')\n",
    "    \n",
    "    \n",
    "    correct_pred_pos += 1"
   ]
  },
  {
   "cell_type": "markdown",
   "id": "edf8798c",
   "metadata": {},
   "source": [
    "The Rear drive is the most misclassified drive, with an accuracy rate of 47.8%. It is most commonly mistaken for AWD."
   ]
  },
  {
   "cell_type": "markdown",
   "id": "b5c186fc",
   "metadata": {},
   "source": [
    "## Part 3.3 (15 points)\n",
    "In a few sentences (**in a markdown cell**), describe how the scale of the data may be causing issues in the classifier's performance.  (Hint: see class notes on scale normalization).  Explicitly compute the variance of the raw `df_ev` dataset and refer to it in your explanation.\n",
    "\n",
    "**THEN:** Repeat (i.e. copy/paste) parts 3.1 and 3.2, but **add in a fix** for this scaling problem."
   ]
  },
  {
   "cell_type": "markdown",
   "id": "66b6745f",
   "metadata": {},
   "source": [
    "$\\color{red}{\\text{Solution:}}$"
   ]
  },
  {
   "cell_type": "code",
   "execution_count": 10,
   "id": "07c5be81",
   "metadata": {},
   "outputs": [
    {
     "data": {
      "text/plain": [
       "Acceleration            10.038666\n",
       "Top Speed             1452.388361\n",
       "Electric Range       10278.791865\n",
       "Total Power          15114.115913\n",
       "Total Torque         49382.359810\n",
       "Battery Capacity       404.922219\n",
       "Charge Speed           243.919369\n",
       "Length              143049.769483\n",
       "Width                 4722.348486\n",
       "Height               23179.887319\n",
       "Wheelbase            56914.286977\n",
       "Gross Weight        172716.918354\n",
       "dtype: float64"
      ]
     },
     "execution_count": 10,
     "metadata": {},
     "output_type": "execute_result"
    }
   ],
   "source": [
    "df_ev = pd.read_csv('evdataset.csv', index_col='id')\n",
    "df_ev.var()"
   ]
  },
  {
   "cell_type": "markdown",
   "id": "442485bf",
   "metadata": {},
   "source": [
    "Not all of the features of an electric vehicle are measured in the same units - for example, acceleration uses different units from length, and top speed uses different units from wheelbase. Because the units are different, the scales of each value is different; and, considering the distance formula between two vectors in a KNN classifier:\n",
    "\n",
    "$$||x - x'||_2 = \\sqrt{\\sum_i (x_i - x_i')^2}$$\n",
    "\n",
    "the features with the largest variance will hold a greater weight in measuring distance. For example, an electric vehicle's gross weight is on a greater scale than other features, so it will hold the greatest weight in measuring distance. To ensure that each feature has an equal weight in measuring distance between vectors, they must be scaled appropriately."
   ]
  },
  {
   "cell_type": "code",
   "execution_count": 11,
   "id": "389c52ab",
   "metadata": {},
   "outputs": [
    {
     "data": {
      "text/plain": [
       "Acceleration        1.0\n",
       "Top Speed           1.0\n",
       "Electric Range      1.0\n",
       "Total Power         1.0\n",
       "Total Torque        1.0\n",
       "Battery Capacity    1.0\n",
       "Charge Speed        1.0\n",
       "Length              1.0\n",
       "Width               1.0\n",
       "Height              1.0\n",
       "Wheelbase           1.0\n",
       "Gross Weight        1.0\n",
       "dtype: float64"
      ]
     },
     "execution_count": 11,
     "metadata": {},
     "output_type": "execute_result"
    }
   ],
   "source": [
    "# Scale normalization\n",
    "df_ev_scaled = pd.DataFrame()\n",
    "\n",
    "# Divide each numerical feature by the standard deviation:\n",
    "for feat in df_ev.columns[1:]:\n",
    "    df_ev_scaled[feat] = df_ev[feat] / df_ev[feat].std()\n",
    "    \n",
    "df_ev_scaled.var()"
   ]
  },
  {
   "cell_type": "markdown",
   "id": "8a5c7ac4",
   "metadata": {},
   "source": [
    "Now, the features are on an equal scale and have equal weight in measuring distance."
   ]
  },
  {
   "cell_type": "code",
   "execution_count": 12,
   "id": "8fd9ece7",
   "metadata": {},
   "outputs": [],
   "source": [
    "# 3.1 redo\n",
    "# Initialize variables to feed into classifier\n",
    "k = 20\n",
    "\n",
    "x_feat_list = list(df_ev_scaled.columns)\n",
    "y_feat = 'Drive'\n",
    "\n",
    "# From df, extract values to feed into classifier, and correct predictions\n",
    "x = df_ev_scaled.loc[:, x_feat_list].values\n",
    "y_true = df_ev.loc[:, y_feat].values\n",
    "\n",
    "# Initialize a KNN classifier\n",
    "knn_classifier = KNeighborsClassifier(n_neighbors=k)\n",
    "\n",
    "# Remember training samples\n",
    "knn_classifier.fit(x, y_true)\n",
    "\n",
    "# Estimate each drive type\n",
    "y_pred = knn_classifier.predict(x)"
   ]
  },
  {
   "cell_type": "code",
   "execution_count": 13,
   "id": "36ee4bba",
   "metadata": {},
   "outputs": [
    {
     "data": {
      "image/png": "[encoded data removed]",
      "text/plain": [
       "<Figure size 1000x1000 with 2 Axes>"
      ]
     },
     "metadata": {},
     "output_type": "display_data"
    }
   ],
   "source": [
    "# 3.2 redo\n",
    "# Create and plot confusion matrix\n",
    "conf_mat = confusion_matrix(y_true=y_true, y_pred=y_pred)\n",
    "\n",
    "conf_mat_disp = ConfusionMatrixDisplay(conf_mat, display_labels=np.unique(y_true))\n",
    "conf_mat_disp.plot()\n",
    "\n",
    "# Clean plot\n",
    "plt.gcf().set_size_inches(10, 10)"
   ]
  },
  {
   "cell_type": "code",
   "execution_count": 14,
   "id": "ea65a77f",
   "metadata": {},
   "outputs": [
    {
     "name": "stdout",
     "output_type": "stream",
     "text": [
      "AWD drive accuracy: 0.987\n",
      "\tDrive most commonly mistaken for: Rear\n",
      "\n",
      "Front drive accuracy: 0.904\n",
      "\tDrive most commonly mistaken for: Rear\n",
      "\n",
      "Rear drive accuracy: 0.522\n",
      "\tDrive most commonly mistaken for: AWD\n",
      "\n"
     ]
    }
   ],
   "source": [
    "# Initiate position of correct prediction (goes diagonal down the rows)\n",
    "correct_pred_pos = 0\n",
    "\n",
    "# Identify drive names\n",
    "drive_names = np.unique(y_true)\n",
    "\n",
    "for row in conf_mat:\n",
    "    # Sum total number of drive type\n",
    "    total_cars = sum(row)\n",
    "    \n",
    "    # Extract correct predictions\n",
    "    correct_pred = row[correct_pred_pos]\n",
    "    \n",
    "    # Compute accuracy\n",
    "    accuracy = correct_pred / total_cars\n",
    "    \n",
    "    # Find the other drive it is most commonly mistaken for\n",
    "    secondmax_pred = sorted(row)[-2]\n",
    "    secondmax_pos = np.where(row == secondmax_pred)\n",
    "    \n",
    "    print(f'{drive_names[correct_pred_pos]} drive accuracy: {accuracy:.3f}')\n",
    "    print(f'\\tDrive most commonly mistaken for: {drive_names[secondmax_pos][0]}\\n')\n",
    "    \n",
    "    \n",
    "    correct_pred_pos += 1"
   ]
  },
  {
   "cell_type": "markdown",
   "id": "e342d1ac",
   "metadata": {},
   "source": [
    "## Part 3.4 (15 points)\n",
    "In a few sentences, describe how the confusion matrix shown in part 3.3 may overstate how accurate the classifier would be in predicting the drive type of some new electric vehicle.  (Hint: see class notes on cross validation).  Update the code of part 3.3 to resolve this issue."
   ]
  },
  {
   "cell_type": "markdown",
   "id": "9a136f32",
   "metadata": {},
   "source": [
    "$\\color{red}{\\text{Solution:}}$"
   ]
  },
  {
   "cell_type": "code",
   "execution_count": 15,
   "id": "8d9f444f",
   "metadata": {},
   "outputs": [],
   "source": [
    "df_ev = pd.read_csv('evdataset.csv', index_col='id')"
   ]
  },
  {
   "cell_type": "markdown",
   "id": "5b4f980c",
   "metadata": {},
   "source": [
    "The confusion matrix in part 3.3 may overstate the accuracy of the classifier in predicting the drive type of some new electric vehicle. This is because the classifier is trained on all the data before then classifying the same data; so, each electric vehicle is its own neighbor, which greatly improves the performance of the classifier. To better approximate the classifier performance on new samples, we must train the classifier on data apart from the data being fed into the classifier."
   ]
  },
  {
   "cell_type": "code",
   "execution_count": 16,
   "id": "c03c192d",
   "metadata": {},
   "outputs": [],
   "source": [
    "from sklearn.model_selection import StratifiedKFold\n",
    "\n",
    "n_splits = 10\n",
    "\n",
    "# Initiate k-fold cross-validation\n",
    "kfold = StratifiedKFold(n_splits=n_splits)"
   ]
  },
  {
   "cell_type": "code",
   "execution_count": 17,
   "id": "2329f731",
   "metadata": {},
   "outputs": [],
   "source": [
    "# 3.1 redo\n",
    "# Initialize variables to feed into classifier\n",
    "k = 20\n",
    "\n",
    "x_feat_list = list(df_ev_scaled.columns[:-1])\n",
    "y_feat = 'Drive'\n",
    "\n",
    "# From df, extract values to feed into classifier, and correct predictions\n",
    "x = df_ev_scaled.loc[:, x_feat_list].values\n",
    "y_true = df_ev.loc[:, y_feat].values\n",
    "\n",
    "# Initialize a KNN classifier\n",
    "knn_classifier = KNeighborsClassifier(n_neighbors=k)"
   ]
  },
  {
   "cell_type": "code",
   "execution_count": 18,
   "id": "ae87bfad",
   "metadata": {},
   "outputs": [],
   "source": [
    "# 3.3\n",
    "# Initiate array to hold predicted values\n",
    "y_pred = np.empty_like(y_true)\n",
    "\n",
    "for train_idx, test_idx in kfold.split(x, y_true):\n",
    "    # Index to split training / test data\n",
    "    x_train = x[train_idx, :]\n",
    "    x_test = x[test_idx, :]\n",
    "    y_true_train = y_true[train_idx]\n",
    "\n",
    "    # Remember training samples\n",
    "    knn_classifier.fit(x_train, y_true_train)\n",
    "\n",
    "    # Estimate each bean type\n",
    "    y_pred[test_idx] = knn_classifier.predict(x_test)"
   ]
  },
  {
   "cell_type": "code",
   "execution_count": 19,
   "id": "847aef47",
   "metadata": {},
   "outputs": [
    {
     "data": {
      "image/png": "[encoded data removed]",
      "text/plain": [
       "<Figure size 1000x1000 with 2 Axes>"
      ]
     },
     "metadata": {},
     "output_type": "display_data"
    }
   ],
   "source": [
    "# 3.2 redo\n",
    "# Create and plot confusion matrix\n",
    "conf_mat = confusion_matrix(y_true=y_true, y_pred=y_pred)\n",
    "\n",
    "conf_mat_disp = ConfusionMatrixDisplay(conf_mat, display_labels=np.unique(y_true))\n",
    "conf_mat_disp.plot()\n",
    "\n",
    "# Clean plot\n",
    "plt.gcf().set_size_inches(10, 10)"
   ]
  },
  {
   "cell_type": "code",
   "execution_count": 20,
   "id": "ef27ac5f",
   "metadata": {},
   "outputs": [
    {
     "name": "stdout",
     "output_type": "stream",
     "text": [
      "AWD drive accuracy: 0.947\n",
      "\tDrive most commonly mistaken for: Rear\n",
      "\n",
      "Front drive accuracy: 0.849\n",
      "\tDrive most commonly mistaken for: Rear\n",
      "\n",
      "Rear drive accuracy: 0.457\n",
      "\tDrive most commonly mistaken for: AWD\n",
      "\n"
     ]
    }
   ],
   "source": [
    "# Initiate position of correct prediction (goes diagonal down the rows)\n",
    "correct_pred_pos = 0\n",
    "\n",
    "# Identify drive names\n",
    "drive_names = np.unique(y_true)\n",
    "\n",
    "for row in conf_mat:\n",
    "    # Sum total number of drive type\n",
    "    total_cars = sum(row)\n",
    "    \n",
    "    # Extract correct predictions\n",
    "    correct_pred = row[correct_pred_pos]\n",
    "    \n",
    "    # Compute accuracy\n",
    "    accuracy = correct_pred / total_cars\n",
    "    \n",
    "    # Find the other drive it is most commonly mistaken for\n",
    "    secondmax_pred = sorted(row)[-2]\n",
    "    secondmax_pos = np.where(row == secondmax_pred)\n",
    "    \n",
    "    print(f'{drive_names[correct_pred_pos]} drive accuracy: {accuracy:.3f}')\n",
    "    print(f'\\tDrive most commonly mistaken for: {drive_names[secondmax_pos][0]}\\n')\n",
    "    \n",
    "    \n",
    "    correct_pred_pos += 1"
   ]
  },
  {
   "cell_type": "markdown",
   "id": "8bf35a32",
   "metadata": {},
   "source": [
    "## Part 3.5 (20 points)\n",
    "\n",
    "We will construct a graph that will help you choose the optimal $k$ based on the `accuracy_score` of the k-NN algorithm as applied to the electric vehicles data set. In this part, make this plot of the **cross validated** accuracy of the k-NN classifier for k = 1 to 50. **When you are done:** attach the graph as `best_k_ev.png` file with your Gradescope submission.\n",
    "\n",
    "- in your cross validation, use `n_splits=10` folds of data\n",
    "- write a function `get_cv_acc_knn()` which:\n",
    "    - accepts:\n",
    "        - `x`, `y_true`, `k` (of k-NN)\n",
    "        - `n_splits=10` (defaults)\n",
    "    - returns \n",
    "        - the cross validated accuracy of k-NN on the dataset\n",
    "        \n",
    "To accomplish this task, you will need the following two tools:"
   ]
  },
  {
   "cell_type": "markdown",
   "id": "10dfc8a2",
   "metadata": {},
   "source": [
    "### Computing the `accuracy_score`\n",
    "\n",
    "This is a single measure the tells you how well the classifier performed. Below is a small example where there are three groups (0, 1, 2):"
   ]
  },
  {
   "cell_type": "code",
   "execution_count": 21,
   "id": "d9efb809",
   "metadata": {},
   "outputs": [
    {
     "data": {
      "text/plain": [
       "0.3"
      ]
     },
     "execution_count": 21,
     "metadata": {},
     "output_type": "execute_result"
    }
   ],
   "source": [
    "from sklearn.metrics import accuracy_score\n",
    "\n",
    "y_true_ex = [0, 0, 0, 0, 1, 2, 1, 0, 2, 0]\n",
    "y_pred_ex = [1, 1, 1, 2, 1, 2, 0, 1, 2, 1]\n",
    "\n",
    "accuracy_score(y_true_ex, y_pred_ex)"
   ]
  },
  {
   "cell_type": "markdown",
   "id": "2096636e",
   "metadata": {},
   "source": [
    "### Initializing empty arrays of specific size/type\n",
    "\n",
    "In order to fill in your `y_pred` within the function, you will want to initialize an empty array of the same size and datatype as `y_true`, then loop through the `kfold.split(x, y_true)` to fill it in. Below is a small example:"
   ]
  },
  {
   "cell_type": "code",
   "execution_count": 22,
   "id": "d35cc31e",
   "metadata": {},
   "outputs": [
    {
     "data": {
      "text/plain": [
       "array(['', '', '', ''], dtype='<U1')"
      ]
     },
     "execution_count": 22,
     "metadata": {},
     "output_type": "execute_result"
    }
   ],
   "source": [
    "import numpy as np\n",
    "y_true_ex = np.array(['a', 'b', 'c', 'd'])\n",
    "y_pred_ex = np.empty_like(y_true_ex)\n",
    "y_pred_ex"
   ]
  },
  {
   "cell_type": "markdown",
   "id": "85b4e4cc",
   "metadata": {},
   "source": [
    "$\\color{red}{\\text{Solution:}}$"
   ]
  },
  {
   "cell_type": "code",
   "execution_count": 23,
   "id": "cf66aeb0",
   "metadata": {},
   "outputs": [],
   "source": [
    "from sklearn.model_selection import StratifiedKFold\n",
    "from sklearn.neighbors import KNeighborsClassifier\n",
    "\n",
    "from sklearn.metrics import confusion_matrix\n",
    "from sklearn.metrics import ConfusionMatrixDisplay\n",
    "import numpy as np\n",
    "\n",
    "def get_cv_acc_knn(x, y_true, k, n_splits=10):\n",
    "    \"\"\" computes cross validated accuracy of a KNN classifier\n",
    "    \n",
    "    Args:\n",
    "        x (np.array): (n_sample, n_feat) features\n",
    "        y (np.array): (n_sample) target variable\n",
    "        k (int): number of nearest neighbors in k-NN classifier\n",
    "        \n",
    "    Returns:\n",
    "        acc (float): cross validated accuracy\n",
    "    \"\"\"\n",
    "    # initialize a knn_classifier\n",
    "    knn_classifier = KNeighborsClassifier(n_neighbors=k)\n",
    "\n",
    "    # \"Stratified\" ensures (roughly) same number of drive types across folds\n",
    "    # otherwise we could get funny results with all `Rear` drives in one fold...\n",
    "    kfold = StratifiedKFold(n_splits=n_splits)\n",
    "\n",
    "    # initialize an empty array same size & datatype as y_true\n",
    "    y_pred = np.empty_like(y_true)\n",
    "    for train_idx, test_idx in kfold.split(x, y_true):\n",
    "        # split test / training data\n",
    "        x_train = x[train_idx, :]  \n",
    "        x_test = x[test_idx, :]\n",
    "        y_true_train = y_true[train_idx]\n",
    "\n",
    "        # train on training data\n",
    "        knn_classifier.fit(x_train, y_true_train)\n",
    "\n",
    "        # predict on the testing data\n",
    "        y_pred[test_idx] = knn_classifier.predict(x_test)\n",
    "        \n",
    "    return accuracy_score(y_true, y_pred)"
   ]
  },
  {
   "cell_type": "code",
   "execution_count": 24,
   "id": "1cb9635d",
   "metadata": {},
   "outputs": [],
   "source": [
    "import matplotlib.pyplot as plt\n",
    "import seaborn as sns\n",
    "\n",
    "n_splits = 10\n",
    "\n",
    "x_feat_list = list(df_ev_scaled.columns[:-1])\n",
    "y_feat = 'Drive'\n",
    "\n",
    "# From df, extract values to feed into classifier, and correct predictions\n",
    "x = df_ev_scaled.loc[:, x_feat_list].values\n",
    "y_true = df_ev.loc[:, y_feat].values\n",
    "\n",
    "# compute cross validated accuracy of each k\n",
    "k_all = np.array(range(1, 51))\n",
    "acc = np.empty(k_all.shape, dtype=float)\n",
    "for idx, k in enumerate(k_all):\n",
    "    acc[idx] = get_cv_acc_knn(x, y_true, k)\n",
    "    \n",
    "    "
   ]
  },
  {
   "cell_type": "code",
   "execution_count": 25,
   "id": "a29ffd96",
   "metadata": {},
   "outputs": [
    {
     "data": {
      "image/png": "[encoded data removed]",
      "text/plain": [
       "<Figure size 1000x500 with 1 Axes>"
      ]
     },
     "metadata": {},
     "output_type": "display_data"
    }
   ],
   "source": [
    "plt.plot(k_all, acc)\n",
    "plt.xlabel('k in k-NN')\n",
    "plt.ylabel('cross validated accuracy')\n",
    "plt.title('EV classification optimization')\n",
    "plt.gcf().set_size_inches(10, 5)\n",
    "plt.savefig('best_k_ev.png')"
   ]
  },
  {
   "cell_type": "code",
   "execution_count": null,
   "id": "6b4ef437",
   "metadata": {},
   "outputs": [],
   "source": []
  }
 ],
 "metadata": {
  "kernelspec": {
   "display_name": "Python 3 (ipykernel)",
   "language": "python",
   "name": "python3"
  },
  "language_info": {
   "codemirror_mode": {
    "name": "ipython",
    "version": 3
   },
   "file_extension": ".py",
   "mimetype": "text/x-python",
   "name": "python",
   "nbconvert_exporter": "python",
   "pygments_lexer": "ipython3",
   "version": "3.8.10"
  }
 },
 "nbformat": 4,
 "nbformat_minor": 5
}
