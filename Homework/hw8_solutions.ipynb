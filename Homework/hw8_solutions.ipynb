{
 "cells": [
  {
   "cell_type": "markdown",
   "id": "2742929d",
   "metadata": {},
   "source": [
    "# DS 3000 HW 7\n",
    "\n",
    "Due: Friday Nov 18 @ 11:59 PM EST\n",
    "\n",
    "### Submission Instructions\n",
    "Submit this `ipynb` file to Gradescope ([1:35 Section](https://www.gradescope.com/courses/431947) [3:25 Section](https://www.gradescope.com/courses/431864)) (this can also be done via the assignment on Canvas).  To ensure that your submitted `ipynb` file represents your latest code, make sure to give a fresh `Kernel > Restart & Run All` just before uploading the `ipynb` file to gradescope.\n",
    "\n",
    "### Tips for success\n",
    "- Start early\n",
    "- Make use of Piazza ([1:35 Section](https://piazza.com/class/l7dkfe3cgz21ul) [3:25 Section](https://piazza.com/class/l7dkey4g6m71e5)) (also accessable through Canvas)\n",
    "- Make use of [Office Hours](https://docs.google.com/spreadsheets/d/1SMacPh9lhRvjHI1VCJfBbNGSga3RTYKzSsfRWEWqWQI/edit?usp=sharing)\n",
    "- Remember to use cells and headings to make the notebook easy to read (if a grader cannot find the answer to a problem, you will receive no points for it)\n",
    "    - Remember that documentation/style is important (See the Style Guide on Canvas!)\n",
    "- Under no circumstances may one student view or share their ungraded homework or quiz with another student [(see also)](http://www.northeastern.edu/osccr/academic-integrity), though you are welcome to **talk about** (not show each other) the problems."
   ]
  },
  {
   "cell_type": "code",
   "execution_count": 1,
   "id": "4dcc3716",
   "metadata": {},
   "outputs": [],
   "source": [
    "# below are all the modules you will need on this homework\n",
    "import warnings\n",
    "warnings.simplefilter(action='ignore', category=FutureWarning)\n",
    "\n",
    "import pandas as pd\n",
    "import seaborn as sns\n",
    "import matplotlib.pyplot as plt\n",
    "import numpy as np\n",
    "import pylab as py\n",
    "import scipy.stats as stats\n",
    "\n",
    "from sklearn import tree\n",
    "from sklearn.model_selection import StratifiedKFold, KFold\n",
    "from sklearn.metrics import confusion_matrix, ConfusionMatrixDisplay, accuracy_score, r2_score\n",
    "from sklearn.ensemble import RandomForestClassifier\n",
    "from sklearn.linear_model import LinearRegression"
   ]
  },
  {
   "cell_type": "markdown",
   "id": "9dcb7402",
   "metadata": {},
   "source": [
    "## Part 1: Decision Tree (20 total points)\n",
    "\n",
    "For this problem you will use the `df_owl_2018.csv` file in your Homework Module on Canvas. This data set contains statistics from the 2018 Overwatch League (cleaned from [this website](https://overwatchleague.com/en-us/statslab?statslab=heroes)). Overwatch is a video game where two teams of 6 players compete against each other. On each team, a player may assume one of three roles:\n",
    "- Damage: whose job is to attack the other team\n",
    "- Support: whose job is to heal their own team\n",
    "- Tank: whose job is to absorb the damage of the other team\n",
    "\n",
    "However, while those are the general jobs of each role, occasionally a player in one role behaves more like another. In this part, we will see if the numeric statistics from a game of Overwatch can be used to accurately predict the role of a player using a Decision Tree."
   ]
  },
  {
   "cell_type": "code",
   "execution_count": 2,
   "id": "b54c5311",
   "metadata": {},
   "outputs": [
    {
     "data": {
      "text/html": [
       "<div>\n",
       "<style scoped>\n",
       "    .dataframe tbody tr th:only-of-type {\n",
       "        vertical-align: middle;\n",
       "    }\n",
       "\n",
       "    .dataframe tbody tr th {\n",
       "        vertical-align: top;\n",
       "    }\n",
       "\n",
       "    .dataframe thead th {\n",
       "        text-align: right;\n",
       "    }\n",
       "</style>\n",
       "<table border=\"1\" class=\"dataframe\">\n",
       "  <thead>\n",
       "    <tr style=\"text-align: right;\">\n",
       "      <th></th>\n",
       "      <th>start_time</th>\n",
       "      <th>match_id</th>\n",
       "      <th>stage</th>\n",
       "      <th>map_type</th>\n",
       "      <th>map_name</th>\n",
       "      <th>player</th>\n",
       "      <th>team</th>\n",
       "      <th>hero</th>\n",
       "      <th>role</th>\n",
       "      <th>Ability Damage Done</th>\n",
       "      <th>...</th>\n",
       "      <th>Ultimates Used</th>\n",
       "      <th>Unscoped Accuracy</th>\n",
       "      <th>Unscoped Hits</th>\n",
       "      <th>Unscoped Shots</th>\n",
       "      <th>Venom Mine Kills</th>\n",
       "      <th>Weapon Accuracy</th>\n",
       "      <th>Weapon Kills</th>\n",
       "      <th>Whole Hog Efficiency</th>\n",
       "      <th>Whole Hog Kills</th>\n",
       "      <th>of Rockets Fired</th>\n",
       "    </tr>\n",
       "  </thead>\n",
       "  <tbody>\n",
       "    <tr>\n",
       "      <th>0</th>\n",
       "      <td>2018-01-11 00:12:00</td>\n",
       "      <td>10223</td>\n",
       "      <td>Overwatch League - Stage 1</td>\n",
       "      <td>PAYLOAD</td>\n",
       "      <td>Dorado</td>\n",
       "      <td>Agilities</td>\n",
       "      <td>Los Angeles Valiant</td>\n",
       "      <td>Genji</td>\n",
       "      <td>Damage</td>\n",
       "      <td>0.0</td>\n",
       "      <td>...</td>\n",
       "      <td>8</td>\n",
       "      <td>0.0</td>\n",
       "      <td>0</td>\n",
       "      <td>0</td>\n",
       "      <td>0</td>\n",
       "      <td>0.273585</td>\n",
       "      <td>0</td>\n",
       "      <td>0.0</td>\n",
       "      <td>0</td>\n",
       "      <td>0.0</td>\n",
       "    </tr>\n",
       "    <tr>\n",
       "      <th>1</th>\n",
       "      <td>2018-01-11 00:12:00</td>\n",
       "      <td>10223</td>\n",
       "      <td>Overwatch League - Stage 1</td>\n",
       "      <td>PAYLOAD</td>\n",
       "      <td>Dorado</td>\n",
       "      <td>Danteh</td>\n",
       "      <td>San Francisco Shock</td>\n",
       "      <td>Genji</td>\n",
       "      <td>Damage</td>\n",
       "      <td>0.0</td>\n",
       "      <td>...</td>\n",
       "      <td>1</td>\n",
       "      <td>0.0</td>\n",
       "      <td>0</td>\n",
       "      <td>0</td>\n",
       "      <td>0</td>\n",
       "      <td>0.166667</td>\n",
       "      <td>0</td>\n",
       "      <td>0.0</td>\n",
       "      <td>0</td>\n",
       "      <td>0.0</td>\n",
       "    </tr>\n",
       "    <tr>\n",
       "      <th>2</th>\n",
       "      <td>2018-01-11 00:12:00</td>\n",
       "      <td>10223</td>\n",
       "      <td>Overwatch League - Stage 1</td>\n",
       "      <td>PAYLOAD</td>\n",
       "      <td>Dorado</td>\n",
       "      <td>Danteh</td>\n",
       "      <td>San Francisco Shock</td>\n",
       "      <td>Junkrat</td>\n",
       "      <td>Damage</td>\n",
       "      <td>0.0</td>\n",
       "      <td>...</td>\n",
       "      <td>3</td>\n",
       "      <td>0.0</td>\n",
       "      <td>0</td>\n",
       "      <td>0</td>\n",
       "      <td>0</td>\n",
       "      <td>0.137500</td>\n",
       "      <td>0</td>\n",
       "      <td>0.0</td>\n",
       "      <td>0</td>\n",
       "      <td>0.0</td>\n",
       "    </tr>\n",
       "    <tr>\n",
       "      <th>3</th>\n",
       "      <td>2018-01-11 00:12:00</td>\n",
       "      <td>10223</td>\n",
       "      <td>Overwatch League - Stage 1</td>\n",
       "      <td>PAYLOAD</td>\n",
       "      <td>Dorado</td>\n",
       "      <td>Danteh</td>\n",
       "      <td>San Francisco Shock</td>\n",
       "      <td>Tracer</td>\n",
       "      <td>Damage</td>\n",
       "      <td>0.0</td>\n",
       "      <td>...</td>\n",
       "      <td>3</td>\n",
       "      <td>0.0</td>\n",
       "      <td>0</td>\n",
       "      <td>0</td>\n",
       "      <td>0</td>\n",
       "      <td>0.327001</td>\n",
       "      <td>0</td>\n",
       "      <td>0.0</td>\n",
       "      <td>0</td>\n",
       "      <td>0.0</td>\n",
       "    </tr>\n",
       "    <tr>\n",
       "      <th>4</th>\n",
       "      <td>2018-01-11 00:12:00</td>\n",
       "      <td>10223</td>\n",
       "      <td>Overwatch League - Stage 1</td>\n",
       "      <td>PAYLOAD</td>\n",
       "      <td>Dorado</td>\n",
       "      <td>Envy</td>\n",
       "      <td>Los Angeles Valiant</td>\n",
       "      <td>D.Va</td>\n",
       "      <td>Tank</td>\n",
       "      <td>0.0</td>\n",
       "      <td>...</td>\n",
       "      <td>23</td>\n",
       "      <td>0.0</td>\n",
       "      <td>0</td>\n",
       "      <td>0</td>\n",
       "      <td>0</td>\n",
       "      <td>0.314785</td>\n",
       "      <td>0</td>\n",
       "      <td>0.0</td>\n",
       "      <td>0</td>\n",
       "      <td>0.0</td>\n",
       "    </tr>\n",
       "  </tbody>\n",
       "</table>\n",
       "<p>5 rows × 261 columns</p>\n",
       "</div>"
      ],
      "text/plain": [
       "            start_time  match_id                       stage map_type  \\\n",
       "0  2018-01-11 00:12:00     10223  Overwatch League - Stage 1  PAYLOAD   \n",
       "1  2018-01-11 00:12:00     10223  Overwatch League - Stage 1  PAYLOAD   \n",
       "2  2018-01-11 00:12:00     10223  Overwatch League - Stage 1  PAYLOAD   \n",
       "3  2018-01-11 00:12:00     10223  Overwatch League - Stage 1  PAYLOAD   \n",
       "4  2018-01-11 00:12:00     10223  Overwatch League - Stage 1  PAYLOAD   \n",
       "\n",
       "  map_name     player                 team     hero    role  \\\n",
       "0   Dorado  Agilities  Los Angeles Valiant    Genji  Damage   \n",
       "1   Dorado     Danteh  San Francisco Shock    Genji  Damage   \n",
       "2   Dorado     Danteh  San Francisco Shock  Junkrat  Damage   \n",
       "3   Dorado     Danteh  San Francisco Shock   Tracer  Damage   \n",
       "4   Dorado       Envy  Los Angeles Valiant     D.Va    Tank   \n",
       "\n",
       "   Ability Damage Done  ...  Ultimates Used  Unscoped Accuracy  Unscoped Hits  \\\n",
       "0                  0.0  ...               8                0.0              0   \n",
       "1                  0.0  ...               1                0.0              0   \n",
       "2                  0.0  ...               3                0.0              0   \n",
       "3                  0.0  ...               3                0.0              0   \n",
       "4                  0.0  ...              23                0.0              0   \n",
       "\n",
       "   Unscoped Shots  Venom Mine Kills  Weapon Accuracy  Weapon Kills  \\\n",
       "0               0                 0         0.273585             0   \n",
       "1               0                 0         0.166667             0   \n",
       "2               0                 0         0.137500             0   \n",
       "3               0                 0         0.327001             0   \n",
       "4               0                 0         0.314785             0   \n",
       "\n",
       "   Whole Hog Efficiency  Whole Hog Kills  of Rockets Fired  \n",
       "0                   0.0                0               0.0  \n",
       "1                   0.0                0               0.0  \n",
       "2                   0.0                0               0.0  \n",
       "3                   0.0                0               0.0  \n",
       "4                   0.0                0               0.0  \n",
       "\n",
       "[5 rows x 261 columns]"
      ]
     },
     "execution_count": 2,
     "metadata": {},
     "output_type": "execute_result"
    }
   ],
   "source": [
    "df_owl = pd.read_csv('df_owl_2018.csv')\n",
    "df_owl.head()"
   ]
  },
  {
   "cell_type": "markdown",
   "id": "b3e46c8c",
   "metadata": {},
   "source": [
    "### Part 1.1: Build a Decision Tree (8 points)\n",
    "\n",
    "Create a Decision Tree to predict the `role` of an Overwatch player using all the numeric statistics as x features:\n",
    "- Use `max_depth = 3`\n",
    "- The code for creating the `x_feat_list` is:\n",
    "\n",
    "```python\n",
    "x_feat_list = list(df_owl.loc[:,'Ability Damage Done':'of Rockets Fired'].columns)\n",
    "```\n",
    "- Plot the tree and make sure you can easily read the nodes of the resulting Decision Tree (you will want to use `plt.gcf().set_size_inches()`)\n"
   ]
  },
  {
   "cell_type": "markdown",
   "id": "7f2ab588",
   "metadata": {},
   "source": [
    "$\\color{red}{\\text{Your solution below:}}$"
   ]
  },
  {
   "cell_type": "code",
   "execution_count": null,
   "id": "add3b0a3",
   "metadata": {},
   "outputs": [],
   "source": []
  },
  {
   "cell_type": "markdown",
   "id": "aee3a0e6",
   "metadata": {},
   "source": [
    "### Part 1.2: Predict Prof. Gerber's Role (4 points)\n",
    "\n",
    "Professor Gerber used to play a lot of Overwatch, and he would usually play only one role. Download the `df_prof_gerber_ow.csv` file, which contains the average performance of Prof. Gerber when he played his favorite character in the game$^*$.\n",
    "- Convert it to an array using `np.array`\n",
    "- Predict the role Prof. Gerber most often played with the `dec_tree_clf.predict` function\n",
    "\n",
    "$^*$ since Prof. Gerber only had access to some of the statistics, he made guesses for some of the values, but it should be a pretty good estimation."
   ]
  },
  {
   "cell_type": "markdown",
   "id": "f5e5a888",
   "metadata": {},
   "source": [
    "$\\color{red}{\\text{Your solution below:}}$"
   ]
  },
  {
   "cell_type": "code",
   "execution_count": null,
   "id": "0837f037",
   "metadata": {},
   "outputs": [],
   "source": []
  },
  {
   "cell_type": "markdown",
   "id": "5ed2a3e0",
   "metadata": {},
   "source": [
    "### Part 1.3: Cross Validate and Compute Accuracy (8 points)\n",
    "\n",
    "Can we trust this prediction? Peform a 10-fold cross validation Decision Tree with `max_depth = 3`, using a `StratifiedKFold`, and then create a confusion matrix of the resulting predictions vs. the true roles. Calculate the overall accuracy and discuss **in a markdown cell** with 2-3 sentences what you can say about how the decision tree is performing."
   ]
  },
  {
   "cell_type": "markdown",
   "id": "2dfa8e36",
   "metadata": {},
   "source": [
    "$\\color{red}{\\text{Your solution below:}}$"
   ]
  },
  {
   "cell_type": "code",
   "execution_count": null,
   "id": "e8050164",
   "metadata": {},
   "outputs": [],
   "source": []
  },
  {
   "cell_type": "code",
   "execution_count": null,
   "id": "024cde36",
   "metadata": {},
   "outputs": [],
   "source": []
  },
  {
   "cell_type": "code",
   "execution_count": null,
   "id": "cf9b4e9e",
   "metadata": {},
   "outputs": [],
   "source": []
  },
  {
   "cell_type": "markdown",
   "id": "2074e316",
   "metadata": {},
   "source": []
  },
  {
   "cell_type": "markdown",
   "id": "235e49a4",
   "metadata": {},
   "source": [
    "## Part 2: Random Forest (30 total points)\n",
    "\n",
    "We would like to classify the importance of each x-feature in predicting the role of an Overwatch player, as well as avoid complaints that our single decision tree may be overfitting. To accomplish these two tasks, we will build a Random Forest using the same data as from Part 1."
   ]
  },
  {
   "cell_type": "markdown",
   "id": "3b0821c1",
   "metadata": {},
   "source": [
    "### Part 2.1: Build the Random Forest (10 points)\n",
    "\n",
    "Build a Random Forest Classifier which classifies the `role` of an Overwatch player using all of the numerical statistics from the data. Use `max_depth = 3` and 10-fold cross validation.\n",
    "\n",
    "**Note:** do *not* specify `n_estimators` more than 1000. 1000 will take a little while to run (and may be worth it), but you may also just use the default of `n_estimators = 100` if you wish (though expect worse results)."
   ]
  },
  {
   "cell_type": "markdown",
   "id": "462fe4d3",
   "metadata": {},
   "source": [
    "$\\color{red}{\\text{Your solution below:}}$"
   ]
  },
  {
   "cell_type": "code",
   "execution_count": null,
   "id": "f73cea9c",
   "metadata": {},
   "outputs": [],
   "source": []
  },
  {
   "cell_type": "markdown",
   "id": "25ce47ed",
   "metadata": {},
   "source": [
    "### Part 2.2: Get the Confusion Matrix and Accuracy (10 points)\n",
    "\n",
    "Create a confusion matrix of the resulting predictions vs. the true roles. Calculate the overall accuracy and discuss **in a markdown cell** with 1-2 sentences what you can say about how the random forest performs compared with the single decision tree. You *should* see at least a slight decrease in performance; why does that make sense? Is it a good/bad thing?\n",
    "\n",
    "To get the labels for the roles, you'll want to define:\n",
    "\n",
    "```python\n",
    "y_feat_list = np.array(['Damage', 'Support', 'Tank'])\n",
    "```"
   ]
  },
  {
   "cell_type": "markdown",
   "id": "ab218dc4",
   "metadata": {},
   "source": [
    "$\\color{red}{\\text{Your solution below:}}$"
   ]
  },
  {
   "cell_type": "code",
   "execution_count": null,
   "id": "8a546434",
   "metadata": {
    "scrolled": true
   },
   "outputs": [],
   "source": []
  },
  {
   "cell_type": "code",
   "execution_count": null,
   "id": "5872fd67",
   "metadata": {},
   "outputs": [],
   "source": []
  },
  {
   "cell_type": "markdown",
   "id": "76f0e0c0",
   "metadata": {},
   "source": []
  },
  {
   "cell_type": "markdown",
   "id": "62855f1d",
   "metadata": {},
   "source": [
    "### Part 2.3: Feature Importance (10 points)\n",
    "\n",
    "Print a bar plot (`plot_feat_import()` is provided for you) to describe the top 10 features which are most useful for classification.  Qualitatively describe if these most important features are meaningful. In other words:\n",
    "- If the classifier performs well, we care about which features helped it work\n",
    "- If the classifier doesn't perform well, we don't care which features helped it \"work\""
   ]
  },
  {
   "cell_type": "code",
   "execution_count": 3,
   "id": "a7bf08fc",
   "metadata": {},
   "outputs": [],
   "source": [
    "def plot_feat_import(feat_list, feat_import, sort=True, limit=None):\n",
    "    \"\"\" plots feature importances in a horizontal bar chart\n",
    "    \n",
    "    Args:\n",
    "        feat_list (list): str names of features\n",
    "        feat_import (np.array): feature importances (mean gini reduce)\n",
    "        sort (bool): if True, sorts features in decreasing importance\n",
    "            from top to bottom of plot\n",
    "        limit (int): if passed, limits the number of features shown\n",
    "            to this value    \n",
    "    \"\"\"\n",
    "    \n",
    "    if sort:\n",
    "        # sort features in decreasing importance\n",
    "        ## not sure why, but .argsort had been doing decreasing by default, but this is now increasing\n",
    "        ## This will now only work if you set the limit, since I flip it around in the next if block\n",
    "        idx = np.argsort(feat_import).astype(int)\n",
    "        feat_list = [feat_list[_idx] for _idx in idx]\n",
    "        feat_import = feat_import[idx] \n",
    "        \n",
    "    if limit is not None:\n",
    "        # limit to the first limit feature\n",
    "        feat_list = feat_list[-limit:]\n",
    "        feat_import = feat_import[-limit:]\n",
    "    \n",
    "    # plot and label feature importance\n",
    "    plt.barh(feat_list, feat_import)\n",
    "    plt.gcf().set_size_inches(5, len(feat_list) / 2)\n",
    "    plt.xlabel('Feature importance\\n(Mean decrease in Gini across all Decision Trees)')"
   ]
  },
  {
   "cell_type": "markdown",
   "id": "c63f6955",
   "metadata": {},
   "source": [
    "$\\color{red}{\\text{Your solution below:}}$"
   ]
  },
  {
   "cell_type": "code",
   "execution_count": null,
   "id": "f02ab7cc",
   "metadata": {},
   "outputs": [],
   "source": []
  },
  {
   "cell_type": "markdown",
   "id": "dc4a0030",
   "metadata": {},
   "source": []
  },
  {
   "cell_type": "markdown",
   "id": "cf2d38c3",
   "metadata": {},
   "source": [
    "## Part 3: Simple Linear Regression (50 points)\n",
    "\n",
    "One of the characters you can play in Overwatch, Mercy, is a support character. Mercy's primary purpose is to heal others. Sometimes when she is healing another character, that character manages to defeat an opponent. This counts as a `Defensive Assists` statistic. In this part, we will see if we can predict how many `Defensive Assists` a player achieves as Mercy given the amount of `Healing Done`, in thousands."
   ]
  },
  {
   "cell_type": "markdown",
   "id": "42b52367",
   "metadata": {},
   "source": [
    "### Part 3.1: Data Manipulation (10 points)\n",
    "\n",
    "Before starting, we need to do two things:\n",
    "1. subset the data set so that it only includes Mercy observations\n",
    "    - **hint:** you should remove all `hero` values besides `Mercy`\n",
    "2. divide the `Healing Done` column by `1000` so that the values are in thousands of points\n",
    "    - this will assist in the interpretation of the slope"
   ]
  },
  {
   "cell_type": "markdown",
   "id": "54ffbf64",
   "metadata": {},
   "source": [
    "$\\color{red}{\\text{Your solution below:}}$"
   ]
  },
  {
   "cell_type": "code",
   "execution_count": null,
   "id": "d34a41ed",
   "metadata": {
    "scrolled": true
   },
   "outputs": [],
   "source": []
  },
  {
   "cell_type": "markdown",
   "id": "6be7086c",
   "metadata": {},
   "source": [
    "### Part 3.2: Get Predictions via Cross Validation (15 points)\n",
    "\n",
    "Use `LinearRegression()` to fit the data and `reg.predict(x)` to get the `y_pred` predictions. Do this via 5-fold cross validation:\n",
    "\n",
    "1. define your x (`Healing Done`) and y (`Defensive Assists`) arrays\n",
    "1. set up a 5-fold `Kfold` object (no need to stratify, since there's nothing to stratify with)\n",
    "2. initialize a `LinearRegression` object\n",
    "2. initialize `y_pred`, a copy of `y`, to store predictions in\n",
    "3. loop through the folds by `train_idx` and `test_idx`\n",
    "    - fit the regression on `x_train` and `y_train`\n",
    "    - predict using `x_test`\n",
    "    \n",
    "When you are done, calculate the $R^2$ of the cross validated predictions and interpret what it means and if it seems good or not. **Note:** there is no need to calculate/store the slopes and intercepts, since they will be slightly different for each fold of the cross validation."
   ]
  },
  {
   "cell_type": "markdown",
   "id": "5200afd9",
   "metadata": {},
   "source": [
    "$\\color{red}{\\text{Your solution below:}}$"
   ]
  },
  {
   "cell_type": "code",
   "execution_count": null,
   "id": "0acde36d",
   "metadata": {},
   "outputs": [],
   "source": []
  },
  {
   "cell_type": "code",
   "execution_count": null,
   "id": "f34bf30a",
   "metadata": {},
   "outputs": [],
   "source": []
  },
  {
   "cell_type": "markdown",
   "id": "eb1892bb",
   "metadata": {},
   "source": []
  },
  {
   "cell_type": "markdown",
   "id": "813c195a",
   "metadata": {},
   "source": [
    "### Part 3.3: Plotting and Interpreting the Full Line (10 points)\n",
    "\n",
    "Now, fit the regression model to the full data set, then use the `show_fit()` function below to plot it and recover the final best fit line for the model. Interpret both the slope and intercept in the context of the problem, explaining what they mean as if to a non-technical expert. **Recall** you put `Healing Done` in thousands of points, which will affect the wording of your interpretation of the slope."
   ]
  },
  {
   "cell_type": "code",
   "execution_count": 4,
   "id": "4e1c73d6",
   "metadata": {},
   "outputs": [],
   "source": [
    "def get_mse(y_true, y_pred):\n",
    "    # calculate the mean squared distance between the predicted and actual y\n",
    "    return np.mean((y_pred - y_true) ** 2)\n",
    "\n",
    "def show_fit(x, y, slope, intercept):\n",
    "    plt.figure()\n",
    "    \n",
    "    # transform the input data into numpy arrays and flatten them for easier processing\n",
    "    x = np.array(x).ravel()\n",
    "    y = np.array(y).ravel()\n",
    "    \n",
    "    # plot the actual data\n",
    "    plt.scatter(x, y, label='data')\n",
    "    \n",
    "    # compute linear predictions \n",
    "    # x is a numpy array so each element gets multiplied by slope and intercept is added\n",
    "    y_pred = slope * x + intercept\n",
    "    \n",
    "    # plot the linear fit\n",
    "    plt.plot(x, y_pred, color='black',\n",
    "             ls=':',\n",
    "             label='linear fit')\n",
    "    \n",
    "    plt.legend()\n",
    "    \n",
    "    plt.xlabel('x')\n",
    "    plt.ylabel('y')\n",
    "    \n",
    "    # print the mean squared error\n",
    "    y_pred = slope * x + intercept\n",
    "    mse = get_mse(y_true=y, y_pred=y_pred)\n",
    "    plt.suptitle(f'y_hat = {slope:.2f} * x + {intercept:.2f}, MSE = {mse:.3f}')\n",
    " "
   ]
  },
  {
   "cell_type": "markdown",
   "id": "a1eb29ae",
   "metadata": {},
   "source": [
    "$\\color{red}{\\text{Your solution below:}}$"
   ]
  },
  {
   "cell_type": "code",
   "execution_count": null,
   "id": "561f230c",
   "metadata": {},
   "outputs": [],
   "source": []
  },
  {
   "cell_type": "markdown",
   "id": "87b05ef2",
   "metadata": {},
   "source": []
  },
  {
   "cell_type": "markdown",
   "id": "07dbef6d",
   "metadata": {},
   "source": [
    "### Part 3.4: Checking Assumptions and Making Recommendations (15 points)\n",
    "\n",
    "Use plots to check to see if the data meet the assumptions for performing a linear regression:\n",
    "1. independence\n",
    "2. constant variance/linearity\n",
    "3. normality\n",
    "\n",
    "Then, **in a markdown cell**, write 3-4 sentences about whether the model meets the assumptions, what that tells you about the usefulness of the model, and recommendations for next steps."
   ]
  },
  {
   "cell_type": "markdown",
   "id": "dde6f568",
   "metadata": {},
   "source": [
    "$\\color{red}{\\text{Your solution below:}}$"
   ]
  },
  {
   "cell_type": "code",
   "execution_count": null,
   "id": "da015f1d",
   "metadata": {},
   "outputs": [],
   "source": []
  },
  {
   "cell_type": "code",
   "execution_count": null,
   "id": "2cff3fdc",
   "metadata": {},
   "outputs": [],
   "source": []
  },
  {
   "cell_type": "code",
   "execution_count": null,
   "id": "2256b5b8",
   "metadata": {},
   "outputs": [],
   "source": []
  },
  {
   "cell_type": "markdown",
   "id": "4cdb8725",
   "metadata": {},
   "source": []
  }
 ],
 "metadata": {
  "kernelspec": {
   "display_name": "Python 3 (ipykernel)",
   "language": "python",
   "name": "python3"
  },
  "language_info": {
   "codemirror_mode": {
    "name": "ipython",
    "version": 3
   },
   "file_extension": ".py",
   "mimetype": "text/x-python",
   "name": "python",
   "nbconvert_exporter": "python",
   "pygments_lexer": "ipython3",
   "version": "3.8.10"
  }
 },
 "nbformat": 4,
 "nbformat_minor": 5
}
