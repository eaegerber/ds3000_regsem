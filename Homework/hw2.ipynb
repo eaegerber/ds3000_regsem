{
 "cells": [
  {
   "cell_type": "markdown",
   "metadata": {},
   "source": [
    "# DS 3000 HW 2 $\\color{red}{\\text{SOLUTIONS}}$\n",
    "\n",
    "Due: Tuesday Sep 27 @ 11:59 PM EST\n",
    "\n",
    "### Submission Instructions\n",
    "Submit this `ipynb` file to Gradescope ([1:35 Section](https://www.gradescope.com/courses/431947) [3:25 Section](https://www.gradescope.com/courses/431864)) (this can also be done via the assignment on Canvas).  To ensure that your submitted `ipynb` file represents your latest code, make sure to give a fresh `Kernel > Restart & Run All` just before uploading the `ipynb` file to gradescope.\n",
    "\n",
    "### Tips for success\n",
    "- Start early\n",
    "- Make use of Piazza ([1:35 Section](https://piazza.com/class/l7dkfe3cgz21ul) [3:25 Section](https://piazza.com/class/l7dkey4g6m71e5)) (also accessable through Canvas)\n",
    "- Make use of [Office Hours](https://docs.google.com/spreadsheets/d/1SMacPh9lhRvjHI1VCJfBbNGSga3RTYKzSsfRWEWqWQI/edit?usp=sharing)\n",
    "- Remember to use cells and headings to make the notebook easy to read (if a grader cannot find the answer to a problem, you will receive no points for it)\n",
    "    - Remember that documentation/style is important (See the Style Guide on Canvas!)\n",
    "- Under no circumstances may one student view or share their ungraded homework or quiz with another student [(see also)](http://www.northeastern.edu/osccr/academic-integrity), though you are welcome to **talk about** (not show each other) the problems."
   ]
  },
  {
   "cell_type": "markdown",
   "metadata": {},
   "source": [
    "# Part 1: Arrays\n",
    "\n",
    "## Part 1.1: (10 points: 5 pts each)\n",
    "\n",
    "Create the following two arrays using the NumPy library. Call the first array `array_a` and the second array `array_b`:\n",
    "\n",
    "$$\\text{array_a} = \\begin{bmatrix}3 & 8 & -2 & 3\\\\\n",
    ".5 & -1 & 6 & 4\\\\\n",
    "-5 & 7 & 43 & 2\n",
    "\\end{bmatrix}$$\n",
    "\n",
    "$$\\text{array_b} = \\begin{bmatrix}42 & 38 & 34\\\\\n",
    "30 & 26 & 22\\\\\n",
    "18 & 14 & 10\\\\\n",
    "6 & 2 & -2\\\\\n",
    "-6 & -10 & -14\n",
    "\\end{bmatrix}$$\n",
    "\n"
   ]
  },
  {
   "cell_type": "markdown",
   "metadata": {},
   "source": [
    "$\\color{red}{\\text{Solution:}}$"
   ]
  },
  {
   "cell_type": "code",
   "execution_count": 1,
   "metadata": {},
   "outputs": [],
   "source": [
    "# make sure to import numpy library\n",
    "import numpy as np\n",
    "\n",
    "# creating array_a manually with tuples\n",
    "array_a = np.array([[3, 8, -2, 3],\n",
    "              [.5, -1, 6, 4],\n",
    "              [-5, 7, 43, 2]])\n",
    "\n",
    "# creating array_b taking advantage of .linspace and .reshape\n",
    "array_b = np.linspace(42, -14, 15).reshape(5, 3)"
   ]
  },
  {
   "cell_type": "code",
   "execution_count": 2,
   "metadata": {},
   "outputs": [
    {
     "data": {
      "text/plain": [
       "array([[ 3. ,  8. , -2. ,  3. ],\n",
       "       [ 0.5, -1. ,  6. ,  4. ],\n",
       "       [-5. ,  7. , 43. ,  2. ]])"
      ]
     },
     "execution_count": 2,
     "metadata": {},
     "output_type": "execute_result"
    }
   ],
   "source": [
    "array_a"
   ]
  },
  {
   "cell_type": "code",
   "execution_count": 3,
   "metadata": {},
   "outputs": [
    {
     "data": {
      "text/plain": [
       "array([[ 42.,  38.,  34.],\n",
       "       [ 30.,  26.,  22.],\n",
       "       [ 18.,  14.,  10.],\n",
       "       [  6.,   2.,  -2.],\n",
       "       [ -6., -10., -14.]])"
      ]
     },
     "execution_count": 3,
     "metadata": {},
     "output_type": "execute_result"
    }
   ],
   "source": [
    "array_b"
   ]
  },
  {
   "cell_type": "markdown",
   "metadata": {},
   "source": [
    "## Part 1.2: (15 points: 5 pts each)\n",
    "\n",
    "1. Give the shape, size, ndim, and nbytes for each of the two arrays.\n",
    "1. Take the transpose of both arrays. Call these `t_array_a` and `t_array_b`.\n",
    "1. Try to add `array_a` and `t_array_b`, then remove the last column of `t_array_b` and try to add them again. In a markdown cell, explain what happened."
   ]
  },
  {
   "cell_type": "markdown",
   "metadata": {},
   "source": [
    "$\\color{red}{\\text{Solution:}}$"
   ]
  },
  {
   "cell_type": "code",
   "execution_count": 4,
   "metadata": {},
   "outputs": [
    {
     "name": "stdout",
     "output_type": "stream",
     "text": [
      "(3, 4)\n",
      "12\n",
      "2\n",
      "96\n"
     ]
    }
   ],
   "source": [
    "# printing all array_a attributes\n",
    "print(array_a.shape)\n",
    "print(array_a.size)\n",
    "print(array_a.ndim)\n",
    "print(array_a.nbytes)"
   ]
  },
  {
   "cell_type": "code",
   "execution_count": 5,
   "metadata": {},
   "outputs": [
    {
     "name": "stdout",
     "output_type": "stream",
     "text": [
      "(5, 3)\n",
      "15\n",
      "2\n",
      "120\n"
     ]
    }
   ],
   "source": [
    "# printing all array_b attributes\n",
    "print(array_b.shape)\n",
    "print(array_b.size)\n",
    "print(array_b.ndim)\n",
    "print(array_b.nbytes)"
   ]
  },
  {
   "cell_type": "code",
   "execution_count": 6,
   "metadata": {},
   "outputs": [],
   "source": [
    "# transposing both\n",
    "t_array_a = array_a.T\n",
    "t_array_b = array_b.T"
   ]
  },
  {
   "cell_type": "code",
   "execution_count": 7,
   "metadata": {},
   "outputs": [],
   "source": [
    "# trying to add array_a to t_array_b\n",
    "# array_a + t_array_b"
   ]
  },
  {
   "cell_type": "code",
   "execution_count": 8,
   "metadata": {},
   "outputs": [
    {
     "data": {
      "text/plain": [
       "array([[45. , 38. , 16. ,  9. ],\n",
       "       [38.5, 25. , 20. ,  6. ],\n",
       "       [29. , 29. , 53. ,  0. ]])"
      ]
     },
     "execution_count": 8,
     "metadata": {},
     "output_type": "execute_result"
    }
   ],
   "source": [
    "# removing last column of t_array_b (multiple ways to do this)\n",
    "t_array_b = array_b.T[:,0:4]\n",
    "\n",
    "# adding again\n",
    "array_a + t_array_b"
   ]
  },
  {
   "cell_type": "markdown",
   "metadata": {},
   "source": [
    "When we first tried to add them, we received an error that they could not be broadcast together because of their different dimensions. By removing the last column of `t_array_b`, we made sure they were the same dimension and could be added together."
   ]
  },
  {
   "cell_type": "markdown",
   "metadata": {},
   "source": [
    "# Part 2: Bike Data\n",
    "\n",
    "## Part 2.1: DataFrame Construction (10 points)\n",
    "Recreate the following table of bicycle race data as a dataframe (do not write a csv and read it in to accomplish this; use pandas).  Use the `Bike ID` as the index column and save the resulting dataframe as a csv (you need not submit this csv, but be sure to include the `DataFrame.to_csv()` command in your submission).\n",
    "\n",
    "| Bike ID | Rider ID | Make      | Color      | Bike Type  | Weight (g) | Time Trial 1 (s) | Time Trial 2 (s) |\n",
    "|---------|----------|-----------|------------|------------|------------|------------------|------------------|\n",
    "| 037     | 3        | Bianchi   | Celeste    | Road       | 8200       | 450              | 205              |\n",
    "| 379     | 1        | Duratec   | \\<no paint>| Cyclocross | 9500       | 510              | 222              |\n",
    "| 398     | 7        | Trek      | Red        | Road       | 9000       | 432              | 211              |\n",
    "| 37B     | 3        | Trek      | Black      | Mountain   | 13607      | 561              | 301              |\n",
    "| BRG     | 7        | Canondale | Black      | Mountain   | 15005      | 524              | 299              |"
   ]
  },
  {
   "cell_type": "markdown",
   "metadata": {},
   "source": [
    "$\\color{red}{\\text{Solution:}}$"
   ]
  },
  {
   "cell_type": "code",
   "execution_count": 9,
   "metadata": {},
   "outputs": [
    {
     "data": {
      "text/html": [
       "<div>\n",
       "<style scoped>\n",
       "    .dataframe tbody tr th:only-of-type {\n",
       "        vertical-align: middle;\n",
       "    }\n",
       "\n",
       "    .dataframe tbody tr th {\n",
       "        vertical-align: top;\n",
       "    }\n",
       "\n",
       "    .dataframe thead th {\n",
       "        text-align: right;\n",
       "    }\n",
       "</style>\n",
       "<table border=\"1\" class=\"dataframe\">\n",
       "  <thead>\n",
       "    <tr style=\"text-align: right;\">\n",
       "      <th></th>\n",
       "      <th>Rider ID</th>\n",
       "      <th>Make</th>\n",
       "      <th>Color</th>\n",
       "      <th>Bike Type</th>\n",
       "      <th>Weight (g)</th>\n",
       "      <th>Time Trial 1 (s)</th>\n",
       "      <th>Time Trial 2 (s)</th>\n",
       "    </tr>\n",
       "  </thead>\n",
       "  <tbody>\n",
       "    <tr>\n",
       "      <th>037</th>\n",
       "      <td>3</td>\n",
       "      <td>Bianchi</td>\n",
       "      <td>Celeste</td>\n",
       "      <td>Road</td>\n",
       "      <td>8200</td>\n",
       "      <td>450</td>\n",
       "      <td>205</td>\n",
       "    </tr>\n",
       "    <tr>\n",
       "      <th>379</th>\n",
       "      <td>1</td>\n",
       "      <td>Duratec</td>\n",
       "      <td>&lt;no paint&gt;</td>\n",
       "      <td>Cyclocross</td>\n",
       "      <td>9500</td>\n",
       "      <td>510</td>\n",
       "      <td>222</td>\n",
       "    </tr>\n",
       "    <tr>\n",
       "      <th>398</th>\n",
       "      <td>7</td>\n",
       "      <td>Trek</td>\n",
       "      <td>Red</td>\n",
       "      <td>Road</td>\n",
       "      <td>9000</td>\n",
       "      <td>432</td>\n",
       "      <td>211</td>\n",
       "    </tr>\n",
       "    <tr>\n",
       "      <th>37B</th>\n",
       "      <td>3</td>\n",
       "      <td>Trek</td>\n",
       "      <td>Black</td>\n",
       "      <td>Mountain</td>\n",
       "      <td>13607</td>\n",
       "      <td>561</td>\n",
       "      <td>301</td>\n",
       "    </tr>\n",
       "    <tr>\n",
       "      <th>BRG</th>\n",
       "      <td>7</td>\n",
       "      <td>Canondale</td>\n",
       "      <td>Black</td>\n",
       "      <td>Mountain</td>\n",
       "      <td>15005</td>\n",
       "      <td>524</td>\n",
       "      <td>299</td>\n",
       "    </tr>\n",
       "  </tbody>\n",
       "</table>\n",
       "</div>"
      ],
      "text/plain": [
       "     Rider ID       Make       Color   Bike Type  Weight (g)  \\\n",
       "037         3    Bianchi     Celeste        Road        8200   \n",
       "379         1    Duratec  <no paint>  Cyclocross        9500   \n",
       "398         7       Trek         Red        Road        9000   \n",
       "37B         3       Trek       Black    Mountain       13607   \n",
       "BRG         7  Canondale       Black    Mountain       15005   \n",
       "\n",
       "     Time Trial 1 (s)  Time Trial 2 (s)  \n",
       "037               450               205  \n",
       "379               510               222  \n",
       "398               432               211  \n",
       "37B               561               301  \n",
       "BRG               524               299  "
      ]
     },
     "execution_count": 9,
     "metadata": {},
     "output_type": "execute_result"
    }
   ],
   "source": [
    "# import pandas\n",
    "import pandas as pd\n",
    "\n",
    "# creating the dictionary (may also create individual series)\n",
    "bike_dict = {'Rider ID': [3, 1, 7, 3, 7],\n",
    "            'Make': ['Bianchi', 'Duratec', 'Trek', 'Trek', 'Canondale'],\n",
    "            'Color': ['Celeste', '<no paint>', 'Red', 'Black', 'Black'],\n",
    "            'Bike Type': ['Road', 'Cyclocross', 'Road', 'Mountain', 'Mountain'],\n",
    "            'Weight (g)': [8200, 9500, 9000, 13607, 15005],\n",
    "            'Time Trial 1 (s)': [450, 510, 432, 561, 524],\n",
    "            'Time Trial 2 (s)': [205, 222, 211, 301, 299]}\n",
    "\n",
    "df_bike = pd.DataFrame(bike_dict, index=['037',  '379',  '398',  '37B', 'BRG'])\n",
    "\n",
    "# save as .csv\n",
    "df_bike.to_csv('df_bike.csv')\n",
    "\n",
    "df_bike"
   ]
  },
  {
   "cell_type": "markdown",
   "metadata": {},
   "source": [
    "# Part 2.2: Manipulating DataFrames (30 points: 10 pts each)\n",
    "For each of the questions below:\n",
    "- Provide a few (1 to 3) code cells which construct a series or dataframe object which is sufficient to answer each question\n",
    "    - one shouldn't have to look at the full dataframe or otherwise as reference\n",
    "        - we practice this way as real datasets are too big for this to be easily done!\n",
    "- Provide a markdown cell which contains a one sentence response to each question\n",
    "    - In effect, you're interpretting the code cell(s) so one who knows no python can understand how your code answers the question\n",
    "\n",
    "### Questions:\n",
    "1. Which `Bike ID` has the greatest weight?\n",
    "1. Which `Bike ID` has the fastest average time trial?\n",
    "1. What is the average weight of each bike, per `Bike Type `?  \n",
    "    - Hint: `groupby()` and/or `.unique()` might be helpful\n",
    "\n",
    "Note that:\n",
    "- each time trial records the time taken to complete a given track under similar conditions. \n",
    "- some riders (3 and 7) completed the time trials on two distinct bikes, the data is stored in distinct rows"
   ]
  },
  {
   "cell_type": "markdown",
   "metadata": {},
   "source": [
    "$\\color{red}{\\text{Solution:}}$"
   ]
  },
  {
   "cell_type": "code",
   "execution_count": 10,
   "metadata": {},
   "outputs": [
    {
     "data": {
      "text/plain": [
       "4"
      ]
     },
     "execution_count": 10,
     "metadata": {},
     "output_type": "execute_result"
    }
   ],
   "source": [
    "# one way to find the greatest weight\n",
    "df_bike.iloc[:,4].argmax()"
   ]
  },
  {
   "cell_type": "markdown",
   "metadata": {},
   "source": [
    "The `Bike ID` with the greatest weight is `BRG`."
   ]
  },
  {
   "cell_type": "code",
   "execution_count": 11,
   "metadata": {},
   "outputs": [
    {
     "data": {
      "text/plain": [
       "037    327.5\n",
       "379    366.0\n",
       "398    321.5\n",
       "37B    431.0\n",
       "BRG    411.5\n",
       "dtype: float64"
      ]
     },
     "execution_count": 11,
     "metadata": {},
     "output_type": "execute_result"
    }
   ],
   "source": [
    "# one way to find the fastest averate time\n",
    "df_bike.iloc[:,5:7].mean(axis=1)"
   ]
  },
  {
   "cell_type": "markdown",
   "metadata": {},
   "source": [
    "The `Bike ID` with the fastest average time trial is `398` (remember that faster means lower time)."
   ]
  },
  {
   "cell_type": "code",
   "execution_count": 12,
   "metadata": {},
   "outputs": [
    {
     "data": {
      "text/html": [
       "<div>\n",
       "<style scoped>\n",
       "    .dataframe tbody tr th:only-of-type {\n",
       "        vertical-align: middle;\n",
       "    }\n",
       "\n",
       "    .dataframe tbody tr th {\n",
       "        vertical-align: top;\n",
       "    }\n",
       "\n",
       "    .dataframe thead th {\n",
       "        text-align: right;\n",
       "    }\n",
       "</style>\n",
       "<table border=\"1\" class=\"dataframe\">\n",
       "  <thead>\n",
       "    <tr style=\"text-align: right;\">\n",
       "      <th></th>\n",
       "      <th>Rider ID</th>\n",
       "      <th>Weight (g)</th>\n",
       "      <th>Time Trial 1 (s)</th>\n",
       "      <th>Time Trial 2 (s)</th>\n",
       "    </tr>\n",
       "    <tr>\n",
       "      <th>Bike Type</th>\n",
       "      <th></th>\n",
       "      <th></th>\n",
       "      <th></th>\n",
       "      <th></th>\n",
       "    </tr>\n",
       "  </thead>\n",
       "  <tbody>\n",
       "    <tr>\n",
       "      <th>Cyclocross</th>\n",
       "      <td>1.0</td>\n",
       "      <td>9500.0</td>\n",
       "      <td>510.0</td>\n",
       "      <td>222.0</td>\n",
       "    </tr>\n",
       "    <tr>\n",
       "      <th>Mountain</th>\n",
       "      <td>5.0</td>\n",
       "      <td>14306.0</td>\n",
       "      <td>542.5</td>\n",
       "      <td>300.0</td>\n",
       "    </tr>\n",
       "    <tr>\n",
       "      <th>Road</th>\n",
       "      <td>5.0</td>\n",
       "      <td>8600.0</td>\n",
       "      <td>441.0</td>\n",
       "      <td>208.0</td>\n",
       "    </tr>\n",
       "  </tbody>\n",
       "</table>\n",
       "</div>"
      ],
      "text/plain": [
       "            Rider ID  Weight (g)  Time Trial 1 (s)  Time Trial 2 (s)\n",
       "Bike Type                                                           \n",
       "Cyclocross       1.0      9500.0             510.0             222.0\n",
       "Mountain         5.0     14306.0             542.5             300.0\n",
       "Road             5.0      8600.0             441.0             208.0"
      ]
     },
     "execution_count": 12,
     "metadata": {},
     "output_type": "execute_result"
    }
   ],
   "source": [
    "# one way to find the average weight of each bike per bike type\n",
    "# look at stats for the different classes\n",
    "type_bike = df_bike.groupby(\"Bike Type\")\n",
    "type_bike.mean()"
   ]
  },
  {
   "cell_type": "markdown",
   "metadata": {},
   "source": [
    "We see that Mountain Bikes are heaviest, then Cyclocross, then Road."
   ]
  },
  {
   "cell_type": "markdown",
   "metadata": {},
   "source": [
    "# Part 3: Pokémon Data\n",
    "\n",
    "## Part 3.1: Reading in Data (5 points)\n",
    "\n",
    "On Canvas is the `pokedata.csv` file. Read this data set in, using the `Pokedex` as the index column, and print the first few rows of the data."
   ]
  },
  {
   "cell_type": "markdown",
   "metadata": {},
   "source": [
    "$\\color{red}{\\text{Solution:}}$"
   ]
  },
  {
   "cell_type": "code",
   "execution_count": 13,
   "metadata": {},
   "outputs": [
    {
     "data": {
      "text/html": [
       "<div>\n",
       "<style scoped>\n",
       "    .dataframe tbody tr th:only-of-type {\n",
       "        vertical-align: middle;\n",
       "    }\n",
       "\n",
       "    .dataframe tbody tr th {\n",
       "        vertical-align: top;\n",
       "    }\n",
       "\n",
       "    .dataframe thead th {\n",
       "        text-align: right;\n",
       "    }\n",
       "</style>\n",
       "<table border=\"1\" class=\"dataframe\">\n",
       "  <thead>\n",
       "    <tr style=\"text-align: right;\">\n",
       "      <th></th>\n",
       "      <th>Pokemon</th>\n",
       "      <th>MainType</th>\n",
       "      <th>SecondaryType</th>\n",
       "      <th>Height</th>\n",
       "      <th>Weight</th>\n",
       "      <th>Damage</th>\n",
       "      <th>BaseSpeed</th>\n",
       "      <th>Attack</th>\n",
       "      <th>Defense</th>\n",
       "    </tr>\n",
       "    <tr>\n",
       "      <th>Pokedex</th>\n",
       "      <th></th>\n",
       "      <th></th>\n",
       "      <th></th>\n",
       "      <th></th>\n",
       "      <th></th>\n",
       "      <th></th>\n",
       "      <th></th>\n",
       "      <th></th>\n",
       "      <th></th>\n",
       "    </tr>\n",
       "  </thead>\n",
       "  <tbody>\n",
       "    <tr>\n",
       "      <th>1</th>\n",
       "      <td>Bulbasaur</td>\n",
       "      <td>Grass</td>\n",
       "      <td>Poison</td>\n",
       "      <td>24</td>\n",
       "      <td>25.2</td>\n",
       "      <td>45</td>\n",
       "      <td>45</td>\n",
       "      <td>49</td>\n",
       "      <td>49</td>\n",
       "    </tr>\n",
       "    <tr>\n",
       "      <th>2</th>\n",
       "      <td>Ivysaur</td>\n",
       "      <td>Grass</td>\n",
       "      <td>Poison</td>\n",
       "      <td>39</td>\n",
       "      <td>28.7</td>\n",
       "      <td>60</td>\n",
       "      <td>60</td>\n",
       "      <td>62</td>\n",
       "      <td>63</td>\n",
       "    </tr>\n",
       "    <tr>\n",
       "      <th>3</th>\n",
       "      <td>Venusaur</td>\n",
       "      <td>Grass</td>\n",
       "      <td>Poison</td>\n",
       "      <td>79</td>\n",
       "      <td>220.5</td>\n",
       "      <td>80</td>\n",
       "      <td>80</td>\n",
       "      <td>82</td>\n",
       "      <td>83</td>\n",
       "    </tr>\n",
       "    <tr>\n",
       "      <th>4</th>\n",
       "      <td>Charmander</td>\n",
       "      <td>Fire</td>\n",
       "      <td>NaN</td>\n",
       "      <td>24</td>\n",
       "      <td>18.7</td>\n",
       "      <td>39</td>\n",
       "      <td>65</td>\n",
       "      <td>52</td>\n",
       "      <td>43</td>\n",
       "    </tr>\n",
       "    <tr>\n",
       "      <th>5</th>\n",
       "      <td>Charmeleon</td>\n",
       "      <td>Fire</td>\n",
       "      <td>NaN</td>\n",
       "      <td>43</td>\n",
       "      <td>41.9</td>\n",
       "      <td>58</td>\n",
       "      <td>80</td>\n",
       "      <td>64</td>\n",
       "      <td>58</td>\n",
       "    </tr>\n",
       "  </tbody>\n",
       "</table>\n",
       "</div>"
      ],
      "text/plain": [
       "            Pokemon MainType SecondaryType  Height  Weight  Damage  BaseSpeed  \\\n",
       "Pokedex                                                                         \n",
       "1         Bulbasaur    Grass        Poison      24    25.2      45         45   \n",
       "2           Ivysaur    Grass        Poison      39    28.7      60         60   \n",
       "3          Venusaur    Grass        Poison      79   220.5      80         80   \n",
       "4        Charmander     Fire           NaN      24    18.7      39         65   \n",
       "5        Charmeleon     Fire           NaN      43    41.9      58         80   \n",
       "\n",
       "         Attack  Defense  \n",
       "Pokedex                   \n",
       "1            49       49  \n",
       "2            62       63  \n",
       "3            82       83  \n",
       "4            52       43  \n",
       "5            64       58  "
      ]
     },
     "execution_count": 13,
     "metadata": {},
     "output_type": "execute_result"
    }
   ],
   "source": [
    "# reading in the data, with appropriate index column, and printing the head\n",
    "pokedata = pd.read_csv('pokedata.csv', index_col='Pokedex')\n",
    "pokedata.head()"
   ]
  },
  {
   "cell_type": "markdown",
   "metadata": {},
   "source": [
    "## Part 3.2: More Manipulation (30 points: 10 pts each)\n",
    "\n",
    "1. Add a new column to the data set that calculates the BMI of the Pokémon. The formula for BMI using Imperial Units (such as these data contain) is = $703 \\times \\frac{Weight}{Height^2}$. Print the first few rows.\n",
    "    - Find out which Pokémon have (a) the highest BMI and (b) the lowest BMI.\n",
    "1. Create a subset of the Pokémon Data that you created in (1) which (a) includes only Pokémon that have `BaseSpeed >= 60` and (b) excludes all Pokémon with `MainType == Fire`. Make sure to save this subset as a new data frame and print the first few rows of the data.\n",
    "1. Use the `.describe()` function to produce summary statistics for the Pokémon Data from the data from (1). Create a markdown cell and explain:\n",
    "    - What Series did the `.describe()` function run on? What Series did it not run on? What is the difference, and what does this mean the `.describe()` function is used for?"
   ]
  },
  {
   "cell_type": "markdown",
   "metadata": {},
   "source": [
    "$\\color{red}{\\text{Solution:}}$"
   ]
  },
  {
   "cell_type": "code",
   "execution_count": 14,
   "metadata": {},
   "outputs": [
    {
     "data": {
      "text/html": [
       "<div>\n",
       "<style scoped>\n",
       "    .dataframe tbody tr th:only-of-type {\n",
       "        vertical-align: middle;\n",
       "    }\n",
       "\n",
       "    .dataframe tbody tr th {\n",
       "        vertical-align: top;\n",
       "    }\n",
       "\n",
       "    .dataframe thead th {\n",
       "        text-align: right;\n",
       "    }\n",
       "</style>\n",
       "<table border=\"1\" class=\"dataframe\">\n",
       "  <thead>\n",
       "    <tr style=\"text-align: right;\">\n",
       "      <th></th>\n",
       "      <th>Pokemon</th>\n",
       "      <th>MainType</th>\n",
       "      <th>SecondaryType</th>\n",
       "      <th>Height</th>\n",
       "      <th>Weight</th>\n",
       "      <th>Damage</th>\n",
       "      <th>BaseSpeed</th>\n",
       "      <th>Attack</th>\n",
       "      <th>Defense</th>\n",
       "      <th>BMI</th>\n",
       "    </tr>\n",
       "    <tr>\n",
       "      <th>Pokedex</th>\n",
       "      <th></th>\n",
       "      <th></th>\n",
       "      <th></th>\n",
       "      <th></th>\n",
       "      <th></th>\n",
       "      <th></th>\n",
       "      <th></th>\n",
       "      <th></th>\n",
       "      <th></th>\n",
       "      <th></th>\n",
       "    </tr>\n",
       "  </thead>\n",
       "  <tbody>\n",
       "    <tr>\n",
       "      <th>1</th>\n",
       "      <td>Bulbasaur</td>\n",
       "      <td>Grass</td>\n",
       "      <td>Poison</td>\n",
       "      <td>24</td>\n",
       "      <td>25.2</td>\n",
       "      <td>45</td>\n",
       "      <td>45</td>\n",
       "      <td>49</td>\n",
       "      <td>49</td>\n",
       "      <td>30.756250</td>\n",
       "    </tr>\n",
       "    <tr>\n",
       "      <th>2</th>\n",
       "      <td>Ivysaur</td>\n",
       "      <td>Grass</td>\n",
       "      <td>Poison</td>\n",
       "      <td>39</td>\n",
       "      <td>28.7</td>\n",
       "      <td>60</td>\n",
       "      <td>60</td>\n",
       "      <td>62</td>\n",
       "      <td>63</td>\n",
       "      <td>13.265023</td>\n",
       "    </tr>\n",
       "    <tr>\n",
       "      <th>3</th>\n",
       "      <td>Venusaur</td>\n",
       "      <td>Grass</td>\n",
       "      <td>Poison</td>\n",
       "      <td>79</td>\n",
       "      <td>220.5</td>\n",
       "      <td>80</td>\n",
       "      <td>80</td>\n",
       "      <td>82</td>\n",
       "      <td>83</td>\n",
       "      <td>24.837606</td>\n",
       "    </tr>\n",
       "    <tr>\n",
       "      <th>4</th>\n",
       "      <td>Charmander</td>\n",
       "      <td>Fire</td>\n",
       "      <td>NaN</td>\n",
       "      <td>24</td>\n",
       "      <td>18.7</td>\n",
       "      <td>39</td>\n",
       "      <td>65</td>\n",
       "      <td>52</td>\n",
       "      <td>43</td>\n",
       "      <td>22.823090</td>\n",
       "    </tr>\n",
       "    <tr>\n",
       "      <th>5</th>\n",
       "      <td>Charmeleon</td>\n",
       "      <td>Fire</td>\n",
       "      <td>NaN</td>\n",
       "      <td>43</td>\n",
       "      <td>41.9</td>\n",
       "      <td>58</td>\n",
       "      <td>80</td>\n",
       "      <td>64</td>\n",
       "      <td>58</td>\n",
       "      <td>15.930611</td>\n",
       "    </tr>\n",
       "  </tbody>\n",
       "</table>\n",
       "</div>"
      ],
      "text/plain": [
       "            Pokemon MainType SecondaryType  Height  Weight  Damage  BaseSpeed  \\\n",
       "Pokedex                                                                         \n",
       "1         Bulbasaur    Grass        Poison      24    25.2      45         45   \n",
       "2           Ivysaur    Grass        Poison      39    28.7      60         60   \n",
       "3          Venusaur    Grass        Poison      79   220.5      80         80   \n",
       "4        Charmander     Fire           NaN      24    18.7      39         65   \n",
       "5        Charmeleon     Fire           NaN      43    41.9      58         80   \n",
       "\n",
       "         Attack  Defense        BMI  \n",
       "Pokedex                              \n",
       "1            49       49  30.756250  \n",
       "2            62       63  13.265023  \n",
       "3            82       83  24.837606  \n",
       "4            52       43  22.823090  \n",
       "5            64       58  15.930611  "
      ]
     },
     "execution_count": 14,
     "metadata": {},
     "output_type": "execute_result"
    }
   ],
   "source": [
    "# creating BMI and then printing the head\n",
    "pokedata['BMI'] = 703 * (pokedata['Weight'] / (pokedata['Height'] ** 2))\n",
    "pokedata.head()"
   ]
  },
  {
   "cell_type": "code",
   "execution_count": 15,
   "metadata": {},
   "outputs": [
    {
     "name": "stdout",
     "output_type": "stream",
     "text": [
      "Graveler\n",
      "Gastly\n"
     ]
    }
   ],
   "source": [
    "# identifying highest and lowest BMI pokemon (may be a few ways to do this)\n",
    "print(pokedata['Pokemon'][pokedata.iloc[:,9].argmax()])\n",
    "print(pokedata['Pokemon'][pokedata.iloc[:,9].argmin()])"
   ]
  },
  {
   "cell_type": "code",
   "execution_count": 16,
   "metadata": {},
   "outputs": [
    {
     "data": {
      "text/html": [
       "<div>\n",
       "<style scoped>\n",
       "    .dataframe tbody tr th:only-of-type {\n",
       "        vertical-align: middle;\n",
       "    }\n",
       "\n",
       "    .dataframe tbody tr th {\n",
       "        vertical-align: top;\n",
       "    }\n",
       "\n",
       "    .dataframe thead th {\n",
       "        text-align: right;\n",
       "    }\n",
       "</style>\n",
       "<table border=\"1\" class=\"dataframe\">\n",
       "  <thead>\n",
       "    <tr style=\"text-align: right;\">\n",
       "      <th></th>\n",
       "      <th>Pokemon</th>\n",
       "      <th>MainType</th>\n",
       "      <th>SecondaryType</th>\n",
       "      <th>Height</th>\n",
       "      <th>Weight</th>\n",
       "      <th>Damage</th>\n",
       "      <th>BaseSpeed</th>\n",
       "      <th>Attack</th>\n",
       "      <th>Defense</th>\n",
       "      <th>BMI</th>\n",
       "    </tr>\n",
       "    <tr>\n",
       "      <th>Pokedex</th>\n",
       "      <th></th>\n",
       "      <th></th>\n",
       "      <th></th>\n",
       "      <th></th>\n",
       "      <th></th>\n",
       "      <th></th>\n",
       "      <th></th>\n",
       "      <th></th>\n",
       "      <th></th>\n",
       "      <th></th>\n",
       "    </tr>\n",
       "  </thead>\n",
       "  <tbody>\n",
       "    <tr>\n",
       "      <th>2</th>\n",
       "      <td>Ivysaur</td>\n",
       "      <td>Grass</td>\n",
       "      <td>Poison</td>\n",
       "      <td>39</td>\n",
       "      <td>28.7</td>\n",
       "      <td>60</td>\n",
       "      <td>60</td>\n",
       "      <td>62</td>\n",
       "      <td>63</td>\n",
       "      <td>13.265023</td>\n",
       "    </tr>\n",
       "    <tr>\n",
       "      <th>3</th>\n",
       "      <td>Venusaur</td>\n",
       "      <td>Grass</td>\n",
       "      <td>Poison</td>\n",
       "      <td>79</td>\n",
       "      <td>220.5</td>\n",
       "      <td>80</td>\n",
       "      <td>80</td>\n",
       "      <td>82</td>\n",
       "      <td>83</td>\n",
       "      <td>24.837606</td>\n",
       "    </tr>\n",
       "    <tr>\n",
       "      <th>9</th>\n",
       "      <td>Blastoise</td>\n",
       "      <td>Water</td>\n",
       "      <td>NaN</td>\n",
       "      <td>63</td>\n",
       "      <td>188.5</td>\n",
       "      <td>79</td>\n",
       "      <td>78</td>\n",
       "      <td>83</td>\n",
       "      <td>100</td>\n",
       "      <td>33.387629</td>\n",
       "    </tr>\n",
       "    <tr>\n",
       "      <th>12</th>\n",
       "      <td>Butterfree</td>\n",
       "      <td>Bug</td>\n",
       "      <td>Flying</td>\n",
       "      <td>43</td>\n",
       "      <td>70.5</td>\n",
       "      <td>60</td>\n",
       "      <td>70</td>\n",
       "      <td>45</td>\n",
       "      <td>50</td>\n",
       "      <td>26.804489</td>\n",
       "    </tr>\n",
       "    <tr>\n",
       "      <th>15</th>\n",
       "      <td>Beedrill</td>\n",
       "      <td>Bug</td>\n",
       "      <td>Poison</td>\n",
       "      <td>39</td>\n",
       "      <td>65.0</td>\n",
       "      <td>65</td>\n",
       "      <td>75</td>\n",
       "      <td>90</td>\n",
       "      <td>40</td>\n",
       "      <td>30.042735</td>\n",
       "    </tr>\n",
       "  </tbody>\n",
       "</table>\n",
       "</div>"
      ],
      "text/plain": [
       "            Pokemon MainType SecondaryType  Height  Weight  Damage  BaseSpeed  \\\n",
       "Pokedex                                                                         \n",
       "2           Ivysaur    Grass        Poison      39    28.7      60         60   \n",
       "3          Venusaur    Grass        Poison      79   220.5      80         80   \n",
       "9         Blastoise    Water           NaN      63   188.5      79         78   \n",
       "12       Butterfree      Bug        Flying      43    70.5      60         70   \n",
       "15         Beedrill      Bug        Poison      39    65.0      65         75   \n",
       "\n",
       "         Attack  Defense        BMI  \n",
       "Pokedex                              \n",
       "2            62       63  13.265023  \n",
       "3            82       83  24.837606  \n",
       "9            83      100  33.387629  \n",
       "12           45       50  26.804489  \n",
       "15           90       40  30.042735  "
      ]
     },
     "execution_count": 16,
     "metadata": {},
     "output_type": "execute_result"
    }
   ],
   "source": [
    "# creating a subset of fast and non-Fire pokemon\n",
    "poke_bool = (pokedata.loc[:, 'BaseSpeed'] >= 60) & (pokedata.loc[:, 'MainType']  != 'Fire')\n",
    "# poke_bool\n",
    "fast_nofire = pokedata.loc[poke_bool, :]\n",
    "fast_nofire.head()"
   ]
  },
  {
   "cell_type": "code",
   "execution_count": 17,
   "metadata": {},
   "outputs": [
    {
     "data": {
      "text/html": [
       "<div>\n",
       "<style scoped>\n",
       "    .dataframe tbody tr th:only-of-type {\n",
       "        vertical-align: middle;\n",
       "    }\n",
       "\n",
       "    .dataframe tbody tr th {\n",
       "        vertical-align: top;\n",
       "    }\n",
       "\n",
       "    .dataframe thead th {\n",
       "        text-align: right;\n",
       "    }\n",
       "</style>\n",
       "<table border=\"1\" class=\"dataframe\">\n",
       "  <thead>\n",
       "    <tr style=\"text-align: right;\">\n",
       "      <th></th>\n",
       "      <th>Height</th>\n",
       "      <th>Weight</th>\n",
       "      <th>Damage</th>\n",
       "      <th>BaseSpeed</th>\n",
       "      <th>Attack</th>\n",
       "      <th>Defense</th>\n",
       "      <th>BMI</th>\n",
       "    </tr>\n",
       "  </thead>\n",
       "  <tbody>\n",
       "    <tr>\n",
       "      <th>count</th>\n",
       "      <td>151.000000</td>\n",
       "      <td>151.000000</td>\n",
       "      <td>151.000000</td>\n",
       "      <td>151.000000</td>\n",
       "      <td>151.000000</td>\n",
       "      <td>151.000000</td>\n",
       "      <td>151.000000</td>\n",
       "    </tr>\n",
       "    <tr>\n",
       "      <th>mean</th>\n",
       "      <td>46.894040</td>\n",
       "      <td>100.766954</td>\n",
       "      <td>64.218543</td>\n",
       "      <td>68.933775</td>\n",
       "      <td>72.913907</td>\n",
       "      <td>68.225166</td>\n",
       "      <td>32.764506</td>\n",
       "    </tr>\n",
       "    <tr>\n",
       "      <th>std</th>\n",
       "      <td>37.880717</td>\n",
       "      <td>131.299070</td>\n",
       "      <td>28.585519</td>\n",
       "      <td>26.746880</td>\n",
       "      <td>26.755421</td>\n",
       "      <td>26.916704</td>\n",
       "      <td>23.189403</td>\n",
       "    </tr>\n",
       "    <tr>\n",
       "      <th>min</th>\n",
       "      <td>8.000000</td>\n",
       "      <td>0.200000</td>\n",
       "      <td>10.000000</td>\n",
       "      <td>15.000000</td>\n",
       "      <td>5.000000</td>\n",
       "      <td>5.000000</td>\n",
       "      <td>0.035425</td>\n",
       "    </tr>\n",
       "    <tr>\n",
       "      <th>25%</th>\n",
       "      <td>28.000000</td>\n",
       "      <td>21.800000</td>\n",
       "      <td>45.000000</td>\n",
       "      <td>46.500000</td>\n",
       "      <td>51.000000</td>\n",
       "      <td>50.000000</td>\n",
       "      <td>20.856877</td>\n",
       "    </tr>\n",
       "    <tr>\n",
       "      <th>50%</th>\n",
       "      <td>39.000000</td>\n",
       "      <td>66.100000</td>\n",
       "      <td>60.000000</td>\n",
       "      <td>70.000000</td>\n",
       "      <td>70.000000</td>\n",
       "      <td>65.000000</td>\n",
       "      <td>30.042735</td>\n",
       "    </tr>\n",
       "    <tr>\n",
       "      <th>75%</th>\n",
       "      <td>59.000000</td>\n",
       "      <td>124.250000</td>\n",
       "      <td>80.000000</td>\n",
       "      <td>90.000000</td>\n",
       "      <td>92.000000</td>\n",
       "      <td>84.000000</td>\n",
       "      <td>38.245600</td>\n",
       "    </tr>\n",
       "    <tr>\n",
       "      <th>max</th>\n",
       "      <td>346.000000</td>\n",
       "      <td>1014.100000</td>\n",
       "      <td>250.000000</td>\n",
       "      <td>140.000000</td>\n",
       "      <td>134.000000</td>\n",
       "      <td>180.000000</td>\n",
       "      <td>153.707174</td>\n",
       "    </tr>\n",
       "  </tbody>\n",
       "</table>\n",
       "</div>"
      ],
      "text/plain": [
       "           Height       Weight      Damage   BaseSpeed      Attack  \\\n",
       "count  151.000000   151.000000  151.000000  151.000000  151.000000   \n",
       "mean    46.894040   100.766954   64.218543   68.933775   72.913907   \n",
       "std     37.880717   131.299070   28.585519   26.746880   26.755421   \n",
       "min      8.000000     0.200000   10.000000   15.000000    5.000000   \n",
       "25%     28.000000    21.800000   45.000000   46.500000   51.000000   \n",
       "50%     39.000000    66.100000   60.000000   70.000000   70.000000   \n",
       "75%     59.000000   124.250000   80.000000   90.000000   92.000000   \n",
       "max    346.000000  1014.100000  250.000000  140.000000  134.000000   \n",
       "\n",
       "          Defense         BMI  \n",
       "count  151.000000  151.000000  \n",
       "mean    68.225166   32.764506  \n",
       "std     26.916704   23.189403  \n",
       "min      5.000000    0.035425  \n",
       "25%     50.000000   20.856877  \n",
       "50%     65.000000   30.042735  \n",
       "75%     84.000000   38.245600  \n",
       "max    180.000000  153.707174  "
      ]
     },
     "execution_count": 17,
     "metadata": {},
     "output_type": "execute_result"
    }
   ],
   "source": [
    "# using the .describe()\n",
    "pokedata.describe()"
   ]
  },
  {
   "cell_type": "markdown",
   "metadata": {},
   "source": [
    "The `.describe()` function ran only on the numerical series in the data set; it did not run on the series that were categorical in nature. This means that the `.describe()` function is only used for numerical statistical summaries, and we would need to use something else for the categorical series."
   ]
  },
  {
   "cell_type": "code",
   "execution_count": null,
   "metadata": {},
   "outputs": [],
   "source": []
  }
 ],
 "metadata": {
  "kernelspec": {
   "display_name": "Python 3 (ipykernel)",
   "language": "python",
   "name": "python3"
  },
  "language_info": {
   "codemirror_mode": {
    "name": "ipython",
    "version": 3
   },
   "file_extension": ".py",
   "mimetype": "text/x-python",
   "name": "python",
   "nbconvert_exporter": "python",
   "pygments_lexer": "ipython3",
   "version": "3.9.2"
  }
 },
 "nbformat": 4,
 "nbformat_minor": 4
}
