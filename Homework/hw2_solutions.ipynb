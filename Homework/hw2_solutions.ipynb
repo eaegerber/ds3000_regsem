{
 "cells": [
  {
   "cell_type": "markdown",
   "metadata": {},
   "source": [
    "# DS 3000 HW 1\n",
    "\n",
    "Due: Tuesday Sep 20 @ 11:59 PM EST\n",
    "\n",
    "### Submission Instructions\n",
    "Submit this `ipynb` file to Gradescope ([1:35 Section](https://www.gradescope.com/courses/431947) [3:25 Section](https://www.gradescope.com/courses/431864)) (this can also be done via the assignment on Canvas).  To ensure that your submitted `ipynb` file represents your latest code, make sure to give a fresh `Kernel > Restart & Run All` just before uploading the `ipynb` file to gradescope.\n",
    "\n",
    "### Tips for success\n",
    "- Start early\n",
    "- Make use of Piazza ([1:35 Section](https://piazza.com/class/l7dkfe3cgz21ul) [3:25 Section](https://piazza.com/class/l7dkey4g6m71e5)) (also accessable through Canvas)\n",
    "- Make use of [Office Hours](https://docs.google.com/spreadsheets/d/1SMacPh9lhRvjHI1VCJfBbNGSga3RTYKzSsfRWEWqWQI/edit?usp=sharing)\n",
    "- Remember to use cells and headings to make the notebook easy to read (if a grader cannot find the answer to a problem, you will receive no points for it)\n",
    "- Under no circumstances may one student view or share their ungraded homework or quiz with another student [(see also)](http://www.northeastern.edu/osccr/academic-integrity), though you are welcome to **talk about** (not show each other) the problems."
   ]
  },
  {
   "cell_type": "markdown",
   "metadata": {},
   "source": [
    "# Markdown\n",
    "\n",
    "## Part 1.1 (15 points): \n",
    "Use the markdown language below to create your own brief wikipedia-esque description of any subject of interest. \n",
    "\n",
    "Your mini-wiki page must include:\n",
    "- three headers: a title, subtitle and subsubtitle (the #, ##, ### syntax)\n",
    "- an embedded image from a web address (use an [image hosting site](https://makeawebsitehub.com/free-photo-hosting/) if you'd like to upload your own)\n",
    "- a table of size at least 3 rows x 3 columns (needn't be correct, but must make sense)\n",
    "- a list\n",
    "- a link to another website\n",
    "\n",
    "Please be brief in your text.  Aim for roughly 3 sentences total of text.  We won't grade based on content, but keep it appropriate for class.  If you make the grader smile, no extra credit will be awarded beyond the satisfaction of having made somebody's day better :)"
   ]
  },
  {
   "cell_type": "markdown",
   "metadata": {},
   "source": [
    "# Part 1.2\n",
    "\n",
    "In [blackjack](https://en.wikipedia.org/wiki/Blackjack), players are given two cards from a [standard deck](https://en.wikipedia.org/wiki/Standard_52-card_deck#Composition) of cards and add their values together.  Values are assigned to cards as:\n",
    "- number cards use their own value\n",
    "- Jack, Queen, King cards all have a value of 10\n",
    "- aces, **in this problem** will always have a value of 1\n",
    "\n",
    "Players may then choose to take as many cards as they'd like, one at a time, to increase the sum of their hand's value.  The goal is to produce a value as high as possible without exceeding 21.  When a player's hand sum increases beyond 21 they are said to 'bust' and they lose the game.\n",
    "\n",
    "The key to playing well is knowing when to stop taking cards.  We'll explore this issue by writing a program to have the computer play many hands of blackjack and count how often they bust."
   ]
  },
  {
   "cell_type": "markdown",
   "metadata": {},
   "source": [
    "## Part 1.2.1 (10 points)\n",
    "Examine the function `draw_value()` below which accepts no inputs and returns the value of some card drawn from a standard deck of cards.  Pay attention to what `random.choices()`, and its `weights` parameter are doing here, as they **may not be used correctly, and you may have to correct them**.\n",
    "\n",
    "\n",
    "Assume that you can use this function to simulate playing blackjack. This would mean you draw cards with replacement, so that its possible to draw the same card many times.  (In practice, this isn't far from the truth as real casinos often draw from a pile of cards containing multiple, shuffled decks to mitigate the effectiveness of [card counting](https://en.wikipedia.org/wiki/Card_counting)).\n",
    "\n"
   ]
  },
  {
   "cell_type": "code",
   "execution_count": 1,
   "metadata": {},
   "outputs": [
    {
     "data": {
      "text/plain": [
       "[1]"
      ]
     },
     "execution_count": 1,
     "metadata": {},
     "output_type": "execute_result"
    }
   ],
   "source": [
    "# first import the random module to use choices\n",
    "import random\n",
    "\n",
    "# create the function\n",
    "def draw_value():\n",
    "    '''draws a single card value\n",
    "    \n",
    "    Args:\n",
    "        none\n",
    "        \n",
    "    Returns:\n",
    "        draw (int): choices(values, weights) #the weights are the number of each amount of values in a deck\n",
    "    '''\n",
    "    values = [1,2,3,4,5,6,7,8,9,10]\n",
    "    \n",
    "    draw = random.choices(values, weights=[4,4,4,4,4,4,4,4,4,4])\n",
    "\n",
    "    return draw\n",
    "\n",
    "\n",
    "draw_value()"
   ]
  },
  {
   "cell_type": "markdown",
   "metadata": {},
   "source": [
    "We won't typically publish the rubrics to students.  However, we make an exception here so you can see how important documentation, variable naming and style is in your grade. *You* must grade the above function based on the following rubric. Please note that you should **not** give the above full credit (there is at least one mistake).\n",
    "\n",
    "rubric:\n",
    "- 2 pt any function created\n",
    "- 2 pt function created which returns a card value\n",
    "- 2 pt function created which returns a card value with proper `weights` param\n",
    "    - scaling `weights` by any reasonable constant acceptable for full credit\n",
    "- 2 pt docstring and/or comments given in proper format\n",
    "- 2 pt variable names are informative and in proper style\n",
    "\n",
    "TAs are encouraged to give other minor point penalties for other style issues which crop up to nudge students in the proper direction (otherwise students may repeat these bad habits!)"
   ]
  },
  {
   "cell_type": "markdown",
   "metadata": {},
   "source": [
    "## Part 1.2.2 (15 points)\n",
    "Its challenging to test a function which returns a random value, by design it gives different values!  If we sample many cards from `draw_value()`, we'd expect to see that the total number of cards drawn are distributed, roughly, to our expectation.\n",
    "\n",
    "- First, correct the issue(s) with the `draw_value()` function from the first part of this problem\n",
    "- Sample 52000 values from `draw_value()`\n",
    "- record how many times you observe each card in a `defaultdict` named `card_count`\n",
    "- print `card_count`\n",
    "- write one sentence which explains why your results validate that `draw_value()` works"
   ]
  },
  {
   "cell_type": "code",
   "execution_count": null,
   "metadata": {},
   "outputs": [],
   "source": []
  },
  {
   "cell_type": "code",
   "execution_count": null,
   "metadata": {},
   "outputs": [],
   "source": []
  },
  {
   "cell_type": "code",
   "execution_count": null,
   "metadata": {},
   "outputs": [],
   "source": []
  },
  {
   "cell_type": "markdown",
   "metadata": {},
   "source": [
    "## Part 1.2.3 (25 pts)\n",
    "One of the big questions facing blackjack players is, \"Given that my hand already has a value of X, what's the probability that the next card will bust my hand?\".  For every starting hand, we'll estimate this probability by simulating how often a hand goes bust on the next card among many randomly drawn hands.\n",
    "\n",
    "- initialize `bust_given_start` as a defaultdict\n",
    "    - keys are the starting hands\n",
    "    - values will count how many hands went bust\n",
    "    - e.g. `bust_given_start = {19: 100, 15: 42}` indicates that, among all the simulations:\n",
    "        - 100 hands starting at 19 went bust\n",
    "        - 42 hands starting at 15 went bust\n",
    "- for every `start_hand` from 2 to 20:\n",
    "    - draw a single card via `draw_value()`\n",
    "    - record the hand as a bust if the `start_hand` + `card_val` exceeds 21\n",
    "    - repeat the above two steps so that you simulate 10,000 total hands\n",
    "- ensure that all the values in `bust_given_start` are divided by 10,000\n",
    "    - this normalization allows us to interpret the values of the dictionary as probabilities of going bust\n",
    "- print `bust_given_start` so it may be observed\n",
    "    - print in increasing order of `start_hand`\n",
    "    - Notice that even though we tested `start_hand<=11` many times, none of them have busted in `bust_given_start`\n",
    "        - Explain why in one or two complete sentences\n",
    "    "
   ]
  },
  {
   "cell_type": "code",
   "execution_count": null,
   "metadata": {},
   "outputs": [],
   "source": []
  },
  {
   "cell_type": "code",
   "execution_count": null,
   "metadata": {},
   "outputs": [],
   "source": []
  },
  {
   "cell_type": "code",
   "execution_count": null,
   "metadata": {},
   "outputs": [],
   "source": []
  },
  {
   "cell_type": "markdown",
   "metadata": {},
   "source": [
    "# Triple-or-nothing\n",
    "Triple-or-nothing is a game where a `jar` is initially set up with some number of coins and placed between two opposing players.  In each round:\n",
    "- both players bet some fraction, `frac`\n",
    "    - neither player knows what the other has written down this round\n",
    "    - fractions must be between 0 and 1 (including 0 and 1)\n",
    "- coins are distributed to the players as:\n",
    "    1. the player with the smaller$^1$ `frac` takes that fraction$^2$ of coins from the jar and places them in their `purse`\n",
    "    1. the player with the larger$^1$ `frac` takes that fraction$^2$ of coins from the **remaining** jar and places them in their `purse`\n",
    "    1. the \"bank\" (an infinite supply of coins) triples the value of the jar\n",
    "    1. If the jar has no coins in it or the players have already played 10 rounds, the game ends\n",
    "    \n",
    "Each player seeks to earn as many coins as possible.\n",
    "\n",
    "Footnote 1: You may assume the players do not write the same value down.\n",
    "\n",
    "Footnote 2: In the event the jar is emptied, the game ends"
   ]
  },
  {
   "cell_type": "markdown",
   "metadata": {},
   "source": [
    "# Part 1.3 (35+5 pts)\n",
    "\n",
    "Complete the `update_round()` function below, which updates a round of triple-or-nothing as described above.  Your function should pass all the given assert statements below.  \n",
    "\n",
    "For (+5 pts) extra credit, revise your `update_round()` function to allow both players to write the same value down.  In this event, the total number of coins taken out of the jar if the players went (in any order) is: \n",
    "\n",
    "    frac * jar + frac * (1 - frac) * jar = (2 - frac) * frac * jar\n",
    "\n",
    "and it is split evenly between the players."
   ]
  },
  {
   "cell_type": "code",
   "execution_count": 2,
   "metadata": {},
   "outputs": [],
   "source": [
    "def update_round(jar, frac0, frac1):\n",
    "    \"\"\" runs a round of triple-or-nothing\n",
    "    \n",
    "    Args:\n",
    "        jar (float): number of coins in the jar at round start\n",
    "        frac0 (float): player0's value\n",
    "        frac1 (float): player1's value\n",
    "            \n",
    "    Returns:\n",
    "        jar (float): number of coins in the jar at end of round\n",
    "        new_coin0 (float): number of coins player0 has earned\n",
    "            in this round\n",
    "        new_coin1 (float): number of coins player1 has earned\n",
    "            in this round\n",
    "    \"\"\"\n",
    "    \n",
    "    # pass is a way of ending a loop / function / if body without doing anything (it is only necessary when the function is empty)\n",
    "    # delete these few lines and write your work below\n",
    "    pass"
   ]
  },
  {
   "cell_type": "code",
   "execution_count": null,
   "metadata": {},
   "outputs": [],
   "source": []
  },
  {
   "cell_type": "code",
   "execution_count": 3,
   "metadata": {},
   "outputs": [
    {
     "ename": "AssertionError",
     "evalue": "",
     "output_type": "error",
     "traceback": [
      "\u001b[1;31m---------------------------------------------------------------------------\u001b[0m",
      "\u001b[1;31mAssertionError\u001b[0m                            Traceback (most recent call last)",
      "Input \u001b[1;32mIn [3]\u001b[0m, in \u001b[0;36m<cell line: 3>\u001b[1;34m()\u001b[0m\n\u001b[0;32m      1\u001b[0m \u001b[38;5;66;03m# below are some test cases for you to run and make sure that the function is working\u001b[39;00m\n\u001b[1;32m----> 3\u001b[0m \u001b[38;5;28;01massert\u001b[39;00m update_round(jar\u001b[38;5;241m=\u001b[39m\u001b[38;5;241m10\u001b[39m, frac0\u001b[38;5;241m=\u001b[39m\u001b[38;5;241m.1\u001b[39m, frac1\u001b[38;5;241m=\u001b[39m\u001b[38;5;241m0\u001b[39m) \u001b[38;5;241m==\u001b[39m (\u001b[38;5;241m27\u001b[39m, \u001b[38;5;241m1\u001b[39m, \u001b[38;5;241m0\u001b[39m)\n\u001b[0;32m      4\u001b[0m \u001b[38;5;28;01massert\u001b[39;00m update_round(jar\u001b[38;5;241m=\u001b[39m\u001b[38;5;241m10\u001b[39m, frac0\u001b[38;5;241m=\u001b[39m\u001b[38;5;241m.5\u001b[39m, frac1\u001b[38;5;241m=\u001b[39m\u001b[38;5;241m.2\u001b[39m) \u001b[38;5;241m==\u001b[39m (\u001b[38;5;241m12\u001b[39m, \u001b[38;5;241m4\u001b[39m, \u001b[38;5;241m2\u001b[39m)\n\u001b[0;32m      5\u001b[0m \u001b[38;5;28;01massert\u001b[39;00m update_round(jar\u001b[38;5;241m=\u001b[39m\u001b[38;5;241m10\u001b[39m, frac0\u001b[38;5;241m=\u001b[39m\u001b[38;5;241m1\u001b[39m, frac1\u001b[38;5;241m=\u001b[39m\u001b[38;5;241m.5\u001b[39m) \u001b[38;5;241m==\u001b[39m (\u001b[38;5;241m0\u001b[39m, \u001b[38;5;241m5\u001b[39m, \u001b[38;5;241m5\u001b[39m)\n",
      "\u001b[1;31mAssertionError\u001b[0m: "
     ]
    }
   ],
   "source": [
    "# below are some test cases for you to run and make sure that the function is working\n",
    "\n",
    "assert update_round(jar=10, frac0=.1, frac1=0) == (27, 1, 0)\n",
    "assert update_round(jar=10, frac0=.5, frac1=.2) == (12, 4, 2)\n",
    "assert update_round(jar=10, frac0=1, frac1=.5) == (0, 5, 5)\n",
    "assert update_round(jar=10, frac1=.9, frac0=1) == (0, 1, 9)\n",
    "\n",
    "# swap frac0 / frac1 and new_coin0 / new_coin1 from previous 4 test cases\n",
    "assert update_round(jar=10, frac1=.1, frac0=0) == (27, 0, 1)\n",
    "assert update_round(jar=10, frac1=.5, frac0=.2) == (12, 2, 4)\n",
    "assert update_round(jar=10, frac1=1, frac0=.5) == (0, 5, 5)\n",
    "assert update_round(jar=10, frac1=1, frac0=.9) == (0, 9, 1)\n",
    "\n",
    "# # extra credit test cases\n",
    "# assert update_round(jar=10, frac0=1, frac1=1) == (0, 5, 5)\n",
    "# assert update_round(jar=20, frac0=.5, frac1=.5) == (15, 7.5, 7.5)"
   ]
  }
 ],
 "metadata": {
  "kernelspec": {
   "display_name": "Python 3 (ipykernel)",
   "language": "python",
   "name": "python3"
  },
  "language_info": {
   "codemirror_mode": {
    "name": "ipython",
    "version": 3
   },
   "file_extension": ".py",
   "mimetype": "text/x-python",
   "name": "python",
   "nbconvert_exporter": "python",
   "pygments_lexer": "ipython3",
   "version": "3.9.2"
  }
 },
 "nbformat": 4,
 "nbformat_minor": 4
}
