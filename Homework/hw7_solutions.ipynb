{
 "cells": [
  {
   "cell_type": "markdown",
   "id": "2742929d",
   "metadata": {},
   "source": [
    "# DS 3000 HW 6\n",
    "\n",
    "Due: Friday Nov 4 @ 11:59 PM EST\n",
    "\n",
    "### Submission Instructions\n",
    "Submit this `ipynb` file to Gradescope ([1:35 Section](https://www.gradescope.com/courses/431947) [3:25 Section](https://www.gradescope.com/courses/431864)) (this can also be done via the assignment on Canvas).  To ensure that your submitted `ipynb` file represents your latest code, make sure to give a fresh `Kernel > Restart & Run All` just before uploading the `ipynb` file to gradescope.\n",
    "\n",
    "### Tips for success\n",
    "- Start early\n",
    "- Make use of Piazza ([1:35 Section](https://piazza.com/class/l7dkfe3cgz21ul) [3:25 Section](https://piazza.com/class/l7dkey4g6m71e5)) (also accessable through Canvas)\n",
    "- Make use of [Office Hours](https://docs.google.com/spreadsheets/d/1SMacPh9lhRvjHI1VCJfBbNGSga3RTYKzSsfRWEWqWQI/edit?usp=sharing)\n",
    "- Remember to use cells and headings to make the notebook easy to read (if a grader cannot find the answer to a problem, you will receive no points for it)\n",
    "    - Remember that documentation/style is important (See the Style Guide on Canvas!)\n",
    "- Under no circumstances may one student view or share their ungraded homework or quiz with another student [(see also)](http://www.northeastern.edu/osccr/academic-integrity), though you are welcome to **talk about** (not show each other) the problems."
   ]
  },
  {
   "cell_type": "code",
   "execution_count": 1,
   "id": "fbf5a2c7",
   "metadata": {},
   "outputs": [],
   "source": [
    "import warnings\n",
    "warnings.simplefilter(action='ignore', category=FutureWarning)"
   ]
  },
  {
   "cell_type": "markdown",
   "id": "bbff93d3",
   "metadata": {},
   "source": [
    "## Part 1 (18 points)\n",
    "\n",
    "Match each of the covariance matrices to a single plot.  Note that all scatterplots below have equal scales in the x and y axes (moving an inch to the right increases x as much as moving an inch up increases y).  \n",
    "\n",
    "Please express your response as list **in a markdown cell**, ordered alphabetically by dataset.  For example, you might respond with:\n",
    "\n",
    "- Data Set A = $\\Sigma_0$\n",
    "- Data Set B = $\\Sigma_1$\n",
    "- Data Set C = $\\Sigma_2$\n",
    "- Data Set D = ...\n",
    "\n",
    "(If you'r eunsure how to format a \"Sigma\" in Latex, double click this markdown cell and examine the source which generated the list above)\n",
    "\n",
    "<img src=\"https://i.ibb.co/K7DY3mx/cov3by3.png\" alt=\"Drawing\" style=\"width: 600px;\"/>\n",
    "\n",
    "\n",
    "$$\\Sigma_0 =\\begin{bmatrix} \n",
    "5 & 1\\\\ \n",
    "1 & 2\n",
    "\\end{bmatrix}, \n",
    "\\Sigma_1 =\\begin{bmatrix} \n",
    "4 & 0\\\\ \n",
    "0 & 0\n",
    "\\end{bmatrix}, \n",
    "\\Sigma_2 =\\begin{bmatrix} \n",
    "1 & -1\\\\ \n",
    "-1 & 7\n",
    "\\end{bmatrix}, \n",
    "\\Sigma_3 =\\begin{bmatrix} \n",
    "7 & 4\\\\ \n",
    "4 & 5\n",
    "\\end{bmatrix}, \n",
    "\\Sigma_4 =\\begin{bmatrix} \n",
    "5 & 3\\\\ \n",
    "3 & 2\n",
    "\\end{bmatrix}$$\n",
    "\n",
    "$$\\Sigma_5 =\\begin{bmatrix} \n",
    "6 & 2\\\\ \n",
    "2 & 6\n",
    "\\end{bmatrix}, \n",
    "\\Sigma_6 =\\begin{bmatrix} \n",
    "4 & -2\\\\ \n",
    "-2 & 5\n",
    "\\end{bmatrix}, \n",
    "\\Sigma_7 =\\begin{bmatrix} \n",
    "1 & -2\\\\ \n",
    "-2 & 5\n",
    "\\end{bmatrix}, \n",
    "\\Sigma_8 =\\begin{bmatrix} \n",
    "2 & 0\\\\ \n",
    "0 & 2\n",
    "\\end{bmatrix}$$"
   ]
  },
  {
   "cell_type": "markdown",
   "id": "6e210624",
   "metadata": {},
   "source": []
  },
  {
   "cell_type": "markdown",
   "id": "af67d275",
   "metadata": {},
   "source": [
    "## Part 2: Electric Vehicles, Scale in Covariance Matrices (12 points)\n",
    "\n",
    "This problem uses `evdataset.csv`, available in the Homework Module on Canvas, which was taken and adapted from [Kaggle](https://www.kaggle.com/datasets/mohamedalishiha/electric-vehicles) and contains a sample of 194 electric vehicles on the market until 2022. The full dataset includes basic technical specifications, battery capacity and range in various weather and road conditions. The adapted data set has fewer columns (see below)."
   ]
  },
  {
   "cell_type": "code",
   "execution_count": 2,
   "id": "2f957570",
   "metadata": {},
   "outputs": [],
   "source": [
    "import pandas as pd\n",
    "\n",
    "df_ev = pd.read_csv('evdataset.csv', index_col='id')"
   ]
  },
  {
   "cell_type": "code",
   "execution_count": 3,
   "id": "bf0f2c09",
   "metadata": {},
   "outputs": [
    {
     "data": {
      "text/html": [
       "<div>\n",
       "<style scoped>\n",
       "    .dataframe tbody tr th:only-of-type {\n",
       "        vertical-align: middle;\n",
       "    }\n",
       "\n",
       "    .dataframe tbody tr th {\n",
       "        vertical-align: top;\n",
       "    }\n",
       "\n",
       "    .dataframe thead th {\n",
       "        text-align: right;\n",
       "    }\n",
       "</style>\n",
       "<table border=\"1\" class=\"dataframe\">\n",
       "  <thead>\n",
       "    <tr style=\"text-align: right;\">\n",
       "      <th></th>\n",
       "      <th>Acceleration</th>\n",
       "      <th>Top Speed</th>\n",
       "      <th>Electric Range</th>\n",
       "      <th>Total Power</th>\n",
       "      <th>Total Torque</th>\n",
       "      <th>Battery Capacity</th>\n",
       "      <th>Charge Speed</th>\n",
       "      <th>Length</th>\n",
       "      <th>Width</th>\n",
       "      <th>Height</th>\n",
       "      <th>Wheelbase</th>\n",
       "      <th>Gross Weight</th>\n",
       "    </tr>\n",
       "  </thead>\n",
       "  <tbody>\n",
       "    <tr>\n",
       "      <th>Acceleration</th>\n",
       "      <td>10.038666</td>\n",
       "      <td>-105.351875</td>\n",
       "      <td>-227.482493</td>\n",
       "      <td>-325.912451</td>\n",
       "      <td>-552.506025</td>\n",
       "      <td>-36.213742</td>\n",
       "      <td>-20.048900</td>\n",
       "      <td>11.399997</td>\n",
       "      <td>-48.069676</td>\n",
       "      <td>356.311012</td>\n",
       "      <td>180.853007</td>\n",
       "      <td>-71.458066</td>\n",
       "    </tr>\n",
       "    <tr>\n",
       "      <th>Top Speed</th>\n",
       "      <td>-105.351875</td>\n",
       "      <td>1452.388361</td>\n",
       "      <td>2730.560734</td>\n",
       "      <td>4320.033278</td>\n",
       "      <td>7024.237968</td>\n",
       "      <td>509.695970</td>\n",
       "      <td>169.335799</td>\n",
       "      <td>3525.397602</td>\n",
       "      <td>1153.962769</td>\n",
       "      <td>-3922.751910</td>\n",
       "      <td>-58.100983</td>\n",
       "      <td>3976.754313</td>\n",
       "    </tr>\n",
       "    <tr>\n",
       "      <th>Electric Range</th>\n",
       "      <td>-227.482493</td>\n",
       "      <td>2730.560734</td>\n",
       "      <td>10278.791865</td>\n",
       "      <td>7944.660809</td>\n",
       "      <td>13834.925218</td>\n",
       "      <td>1760.754834</td>\n",
       "      <td>657.146921</td>\n",
       "      <td>8429.326024</td>\n",
       "      <td>1936.672988</td>\n",
       "      <td>-8336.923375</td>\n",
       "      <td>1480.904466</td>\n",
       "      <td>11345.072512</td>\n",
       "    </tr>\n",
       "    <tr>\n",
       "      <th>Total Power</th>\n",
       "      <td>-325.912451</td>\n",
       "      <td>4320.033278</td>\n",
       "      <td>7944.660809</td>\n",
       "      <td>15114.115913</td>\n",
       "      <td>24749.795577</td>\n",
       "      <td>1728.165045</td>\n",
       "      <td>355.204743</td>\n",
       "      <td>16114.824155</td>\n",
       "      <td>4449.791144</td>\n",
       "      <td>-9979.290316</td>\n",
       "      <td>3358.385236</td>\n",
       "      <td>20151.268415</td>\n",
       "    </tr>\n",
       "    <tr>\n",
       "      <th>Total Torque</th>\n",
       "      <td>-552.506025</td>\n",
       "      <td>7024.237968</td>\n",
       "      <td>13834.925218</td>\n",
       "      <td>24749.795577</td>\n",
       "      <td>49382.359810</td>\n",
       "      <td>3191.410138</td>\n",
       "      <td>459.734790</td>\n",
       "      <td>29169.851076</td>\n",
       "      <td>7577.200577</td>\n",
       "      <td>-14288.262326</td>\n",
       "      <td>8990.485978</td>\n",
       "      <td>40044.338604</td>\n",
       "    </tr>\n",
       "    <tr>\n",
       "      <th>Battery Capacity</th>\n",
       "      <td>-36.213742</td>\n",
       "      <td>509.695970</td>\n",
       "      <td>1760.754834</td>\n",
       "      <td>1728.165045</td>\n",
       "      <td>3191.410138</td>\n",
       "      <td>404.922219</td>\n",
       "      <td>31.628682</td>\n",
       "      <td>4294.410323</td>\n",
       "      <td>844.176625</td>\n",
       "      <td>-661.694928</td>\n",
       "      <td>2026.470757</td>\n",
       "      <td>5491.262173</td>\n",
       "    </tr>\n",
       "    <tr>\n",
       "      <th>Charge Speed</th>\n",
       "      <td>-20.048900</td>\n",
       "      <td>169.335799</td>\n",
       "      <td>657.146921</td>\n",
       "      <td>355.204743</td>\n",
       "      <td>459.734790</td>\n",
       "      <td>31.628682</td>\n",
       "      <td>243.919369</td>\n",
       "      <td>-2417.164494</td>\n",
       "      <td>-350.993590</td>\n",
       "      <td>-1347.022675</td>\n",
       "      <td>-1677.429544</td>\n",
       "      <td>-2293.604749</td>\n",
       "    </tr>\n",
       "    <tr>\n",
       "      <th>Length</th>\n",
       "      <td>11.399997</td>\n",
       "      <td>3525.397602</td>\n",
       "      <td>8429.326024</td>\n",
       "      <td>16114.824155</td>\n",
       "      <td>29169.851076</td>\n",
       "      <td>4294.410323</td>\n",
       "      <td>-2417.164494</td>\n",
       "      <td>143049.769483</td>\n",
       "      <td>22326.725122</td>\n",
       "      <td>21157.559559</td>\n",
       "      <td>81208.268869</td>\n",
       "      <td>142659.081005</td>\n",
       "    </tr>\n",
       "    <tr>\n",
       "      <th>Width</th>\n",
       "      <td>-48.069676</td>\n",
       "      <td>1153.962769</td>\n",
       "      <td>1936.672988</td>\n",
       "      <td>4449.791144</td>\n",
       "      <td>7577.200577</td>\n",
       "      <td>844.176625</td>\n",
       "      <td>-350.993590</td>\n",
       "      <td>22326.725122</td>\n",
       "      <td>4722.348486</td>\n",
       "      <td>2220.111533</td>\n",
       "      <td>12041.720421</td>\n",
       "      <td>24388.416217</td>\n",
       "    </tr>\n",
       "    <tr>\n",
       "      <th>Height</th>\n",
       "      <td>356.311012</td>\n",
       "      <td>-3922.751910</td>\n",
       "      <td>-8336.923375</td>\n",
       "      <td>-9979.290316</td>\n",
       "      <td>-14288.262326</td>\n",
       "      <td>-661.694928</td>\n",
       "      <td>-1347.022675</td>\n",
       "      <td>21157.559559</td>\n",
       "      <td>2220.111533</td>\n",
       "      <td>23179.887319</td>\n",
       "      <td>20925.074115</td>\n",
       "      <td>24765.621414</td>\n",
       "    </tr>\n",
       "    <tr>\n",
       "      <th>Wheelbase</th>\n",
       "      <td>180.853007</td>\n",
       "      <td>-58.100983</td>\n",
       "      <td>1480.904466</td>\n",
       "      <td>3358.385236</td>\n",
       "      <td>8990.485978</td>\n",
       "      <td>2026.470757</td>\n",
       "      <td>-1677.429544</td>\n",
       "      <td>81208.268869</td>\n",
       "      <td>12041.720421</td>\n",
       "      <td>20925.074115</td>\n",
       "      <td>56914.286977</td>\n",
       "      <td>85091.754367</td>\n",
       "    </tr>\n",
       "    <tr>\n",
       "      <th>Gross Weight</th>\n",
       "      <td>-71.458066</td>\n",
       "      <td>3976.754313</td>\n",
       "      <td>11345.072512</td>\n",
       "      <td>20151.268415</td>\n",
       "      <td>40044.338604</td>\n",
       "      <td>5491.262173</td>\n",
       "      <td>-2293.604749</td>\n",
       "      <td>142659.081005</td>\n",
       "      <td>24388.416217</td>\n",
       "      <td>24765.621414</td>\n",
       "      <td>85091.754367</td>\n",
       "      <td>172716.918354</td>\n",
       "    </tr>\n",
       "  </tbody>\n",
       "</table>\n",
       "</div>"
      ],
      "text/plain": [
       "                  Acceleration    Top Speed  Electric Range   Total Power  \\\n",
       "Acceleration         10.038666  -105.351875     -227.482493   -325.912451   \n",
       "Top Speed          -105.351875  1452.388361     2730.560734   4320.033278   \n",
       "Electric Range     -227.482493  2730.560734    10278.791865   7944.660809   \n",
       "Total Power        -325.912451  4320.033278     7944.660809  15114.115913   \n",
       "Total Torque       -552.506025  7024.237968    13834.925218  24749.795577   \n",
       "Battery Capacity    -36.213742   509.695970     1760.754834   1728.165045   \n",
       "Charge Speed        -20.048900   169.335799      657.146921    355.204743   \n",
       "Length               11.399997  3525.397602     8429.326024  16114.824155   \n",
       "Width               -48.069676  1153.962769     1936.672988   4449.791144   \n",
       "Height              356.311012 -3922.751910    -8336.923375  -9979.290316   \n",
       "Wheelbase           180.853007   -58.100983     1480.904466   3358.385236   \n",
       "Gross Weight        -71.458066  3976.754313    11345.072512  20151.268415   \n",
       "\n",
       "                  Total Torque  Battery Capacity  Charge Speed         Length  \\\n",
       "Acceleration       -552.506025        -36.213742    -20.048900      11.399997   \n",
       "Top Speed          7024.237968        509.695970    169.335799    3525.397602   \n",
       "Electric Range    13834.925218       1760.754834    657.146921    8429.326024   \n",
       "Total Power       24749.795577       1728.165045    355.204743   16114.824155   \n",
       "Total Torque      49382.359810       3191.410138    459.734790   29169.851076   \n",
       "Battery Capacity   3191.410138        404.922219     31.628682    4294.410323   \n",
       "Charge Speed        459.734790         31.628682    243.919369   -2417.164494   \n",
       "Length            29169.851076       4294.410323  -2417.164494  143049.769483   \n",
       "Width              7577.200577        844.176625   -350.993590   22326.725122   \n",
       "Height           -14288.262326       -661.694928  -1347.022675   21157.559559   \n",
       "Wheelbase          8990.485978       2026.470757  -1677.429544   81208.268869   \n",
       "Gross Weight      40044.338604       5491.262173  -2293.604749  142659.081005   \n",
       "\n",
       "                         Width        Height     Wheelbase   Gross Weight  \n",
       "Acceleration        -48.069676    356.311012    180.853007     -71.458066  \n",
       "Top Speed          1153.962769  -3922.751910    -58.100983    3976.754313  \n",
       "Electric Range     1936.672988  -8336.923375   1480.904466   11345.072512  \n",
       "Total Power        4449.791144  -9979.290316   3358.385236   20151.268415  \n",
       "Total Torque       7577.200577 -14288.262326   8990.485978   40044.338604  \n",
       "Battery Capacity    844.176625   -661.694928   2026.470757    5491.262173  \n",
       "Charge Speed       -350.993590  -1347.022675  -1677.429544   -2293.604749  \n",
       "Length            22326.725122  21157.559559  81208.268869  142659.081005  \n",
       "Width              4722.348486   2220.111533  12041.720421   24388.416217  \n",
       "Height             2220.111533  23179.887319  20925.074115   24765.621414  \n",
       "Wheelbase         12041.720421  20925.074115  56914.286977   85091.754367  \n",
       "Gross Weight      24388.416217  24765.621414  85091.754367  172716.918354  "
      ]
     },
     "execution_count": 3,
     "metadata": {},
     "output_type": "execute_result"
    }
   ],
   "source": [
    "df_ev.cov()"
   ]
  },
  {
   "cell_type": "markdown",
   "id": "0d817cd0",
   "metadata": {},
   "source": [
    "A younger version of yourself, before having mastered Correlation and Covariance as you now have, may have had the following reasoning:\n",
    "\n",
    "    \"The covariance between Acceleration and Top Speed is -105.35, which is much closer to 0 than the covariance between Acceleration and Total Torque (-552.5).  Therefore, I conclude that Acceleration and Total Torque must change more consistently together than Acceleration and Top Speed.\"\n",
    "\n",
    "Identify and correct your past self's interpretation mistake by offering a more principled analysis (**in a markdown cell**) of what relationships do and don't exist in the data.\n",
    "\n",
    "To receive full credit on this question, be sure to:\n",
    "- correctly identify the thinking error:\n",
    "    - why is |cov(Acceleration, Total Torque)| > |cov(Acceleration, Top Speed)|? \n",
    "        - (use might use your `.head()` to do some thinking!)\n",
    "        - also, notice that we are talking about *negative* covariance, so the absolute value (distance from zero) is what we are currently using to assess strength of relationship\n",
    "    - what should we use to measure the consistency with which values change?\n",
    "- clearly explain / teach the difference so that a non-technical audience may understand\n",
    "- utilize whatever features of the python libraries we've studied you see fit to explain yourself\n",
    "\n",
    "Be clear.  Be brief."
   ]
  },
  {
   "cell_type": "markdown",
   "id": "579ba889",
   "metadata": {},
   "source": []
  },
  {
   "cell_type": "code",
   "execution_count": null,
   "id": "c815272b",
   "metadata": {},
   "outputs": [],
   "source": []
  },
  {
   "cell_type": "markdown",
   "id": "6e5ce4fa",
   "metadata": {},
   "source": [
    "## Part 3: Electric Vehicles, k-NN Classifier\n",
    "\n",
    "In this problem we'll use the k-Nearest Neighbor classifier to classify the type of drive an electric vehicle has (Rear, Front, or All-Wheel Drive (AWD)).\n",
    "\n",
    "Note:\n",
    "- each subpart requires the completion of all previous sub-parts\n",
    "- the earlier subparts make scale normalization / cross validation errors on purpose\n",
    "    - these will be addressed in later parts\n",
    "- you may find it helpful to load a fresh copy of `df_ev` in parts 3.1, 3.3 and 3.4"
   ]
  },
  {
   "cell_type": "markdown",
   "id": "95cc6ce7",
   "metadata": {},
   "source": [
    "## Part 3.1 (15 points)\n",
    "Build a 20-Nearest Neighbor classifier which is `fit` and then `predict` on the whole dataset."
   ]
  },
  {
   "cell_type": "code",
   "execution_count": 4,
   "id": "0abf3de1",
   "metadata": {},
   "outputs": [],
   "source": [
    "import seaborn as sns\n",
    "import matplotlib.pyplot as plt\n",
    "import matplotlib\n",
    "import numpy as np\n",
    "\n",
    "from sklearn.neighbors import KNeighborsClassifier\n",
    "\n",
    "from sklearn.metrics import confusion_matrix\n",
    "from sklearn.metrics import ConfusionMatrixDisplay"
   ]
  },
  {
   "cell_type": "code",
   "execution_count": null,
   "id": "82244aaa",
   "metadata": {},
   "outputs": [],
   "source": []
  },
  {
   "cell_type": "code",
   "execution_count": null,
   "id": "c4501d5d",
   "metadata": {},
   "outputs": [],
   "source": []
  },
  {
   "cell_type": "markdown",
   "id": "6874b215",
   "metadata": {},
   "source": [
    "## Part 3.2 (15 points)\n",
    "Plot the confusion matrix which results from this dataset.  \n",
    "\n",
    "Using the confusion matrix, identify the drive mostly commonly misclassified by\n",
    "- explicitly computing its accuracy\n",
    "- telling which other drive it is most commonly mistaken for\n",
    "\n",
    "Your response should be one or two sentences."
   ]
  },
  {
   "cell_type": "code",
   "execution_count": null,
   "id": "d04c4998",
   "metadata": {},
   "outputs": [],
   "source": []
  },
  {
   "cell_type": "code",
   "execution_count": null,
   "id": "ca158332",
   "metadata": {},
   "outputs": [],
   "source": []
  },
  {
   "cell_type": "markdown",
   "id": "1049fb38",
   "metadata": {},
   "source": []
  },
  {
   "cell_type": "markdown",
   "id": "6d70c09d",
   "metadata": {},
   "source": [
    "## Part 3.3 (15 points)\n",
    "In a few sentences (**in a markdown cell**), describe how the scale of the data may be causing issues in the classifier's performance.  (Hint: see class notes on scale normalization).  Explicitly compute the variance of the raw `df_ev` dataset and refer to it in your explanation.\n",
    "\n",
    "**THEN:** Repeat (i.e. copy/paste) parts 3.1 and 3.2, but **add in a fix** for this scaling problem."
   ]
  },
  {
   "cell_type": "markdown",
   "id": "10681904",
   "metadata": {},
   "source": []
  },
  {
   "cell_type": "code",
   "execution_count": null,
   "id": "5646abfc",
   "metadata": {},
   "outputs": [],
   "source": []
  },
  {
   "cell_type": "code",
   "execution_count": null,
   "id": "a8b9d03e",
   "metadata": {},
   "outputs": [],
   "source": []
  },
  {
   "cell_type": "code",
   "execution_count": null,
   "id": "8c95d76b",
   "metadata": {},
   "outputs": [],
   "source": []
  },
  {
   "cell_type": "code",
   "execution_count": null,
   "id": "c6b99fd7",
   "metadata": {},
   "outputs": [],
   "source": []
  },
  {
   "cell_type": "code",
   "execution_count": null,
   "id": "efd1624a",
   "metadata": {},
   "outputs": [],
   "source": []
  },
  {
   "cell_type": "markdown",
   "id": "f3a9015a",
   "metadata": {},
   "source": [
    "## Part 3.4 (15 points)\n",
    "In a few sentences, describe how the confusion matrix shown in part 3.3 may overstate how accurate the classifier would be in predicting the drive type of some new electric vehicle.  (Hint: see class notes on cross validation).  Update the code of part 3.3 to resolve this issue."
   ]
  },
  {
   "cell_type": "code",
   "execution_count": 5,
   "id": "bf49d71e",
   "metadata": {},
   "outputs": [],
   "source": [
    "from sklearn.model_selection import StratifiedKFold"
   ]
  },
  {
   "cell_type": "markdown",
   "id": "54e262f2",
   "metadata": {},
   "source": []
  },
  {
   "cell_type": "code",
   "execution_count": null,
   "id": "062ff6d2",
   "metadata": {},
   "outputs": [],
   "source": []
  },
  {
   "cell_type": "code",
   "execution_count": null,
   "id": "a969fb9e",
   "metadata": {},
   "outputs": [],
   "source": []
  },
  {
   "cell_type": "code",
   "execution_count": null,
   "id": "f22980a5",
   "metadata": {},
   "outputs": [],
   "source": []
  },
  {
   "cell_type": "code",
   "execution_count": null,
   "id": "83488d41",
   "metadata": {},
   "outputs": [],
   "source": []
  },
  {
   "cell_type": "markdown",
   "id": "fc1fe57c",
   "metadata": {},
   "source": [
    "## Part 3.5 (10 points)\n",
    "\n",
    "We will construct a graph that will help you choose the optimal $k$ based on the `accuracy_score` of the k-NN algorithm as applied to the electric vehicles data set. In this part, make this plot of the **cross validated** accuracy of the k-NN classifier for k = 1 to 50. **When you are done:** attach the graph as `best_k_ev.png` file with your Gradescope submission.\n",
    "\n",
    "- in your cross validation, use `n_splits=10` folds of data\n",
    "- write a function `get_cv_acc_knn()` which:\n",
    "    - accepts:\n",
    "        - `x`, `y_true`, `k` (of k-NN)\n",
    "        - `n_splits=10` (defaults)\n",
    "    - returns \n",
    "        - the cross validated accuracy of k-NN on the dataset\n",
    "        \n",
    "To accomplish this task, you will need the following two tools:"
   ]
  },
  {
   "cell_type": "markdown",
   "id": "621038ac",
   "metadata": {},
   "source": [
    "### Computing the `accuracy_score`\n",
    "\n",
    "This is a single measure the tells you how well the classifier performed. Below is a small example where there are three groups (0, 1, 2):"
   ]
  },
  {
   "cell_type": "code",
   "execution_count": 6,
   "id": "5ea5d8db",
   "metadata": {},
   "outputs": [
    {
     "data": {
      "text/plain": [
       "0.3"
      ]
     },
     "execution_count": 6,
     "metadata": {},
     "output_type": "execute_result"
    }
   ],
   "source": [
    "from sklearn.metrics import accuracy_score\n",
    "\n",
    "y_true_ex = [0, 0, 0, 0, 1, 2, 1, 0, 2, 0]\n",
    "y_pred_ex = [1, 1, 1, 2, 1, 2, 0, 1, 2, 1]\n",
    "\n",
    "accuracy_score(y_true_ex, y_pred_ex)"
   ]
  },
  {
   "cell_type": "markdown",
   "id": "9ce9c6ee",
   "metadata": {},
   "source": [
    "### Initializing empty arrays of specific size/type\n",
    "\n",
    "In order to fill in your `y_pred` within the function, you will want to initialize an empty array of the same size and datatype as `y_true`, then loop through the `kfold.split(x, y_true)` to fill it in. Below is a small example:"
   ]
  },
  {
   "cell_type": "code",
   "execution_count": 7,
   "id": "30886d5c",
   "metadata": {},
   "outputs": [
    {
     "data": {
      "text/plain": [
       "array(['', '', '', ''], dtype='<U1')"
      ]
     },
     "execution_count": 7,
     "metadata": {},
     "output_type": "execute_result"
    }
   ],
   "source": [
    "y_true_ex = np.array(['a', 'b', 'c', 'd'])\n",
    "y_pred_ex = np.empty_like(y_true_ex)\n",
    "y_pred_ex"
   ]
  },
  {
   "cell_type": "code",
   "execution_count": null,
   "id": "f8795553",
   "metadata": {},
   "outputs": [],
   "source": []
  },
  {
   "cell_type": "code",
   "execution_count": null,
   "id": "8fca1a3e",
   "metadata": {},
   "outputs": [],
   "source": []
  },
  {
   "cell_type": "code",
   "execution_count": null,
   "id": "bcc861eb",
   "metadata": {},
   "outputs": [],
   "source": []
  },
  {
   "cell_type": "code",
   "execution_count": null,
   "id": "aaaa5c15",
   "metadata": {},
   "outputs": [],
   "source": []
  }
 ],
 "metadata": {
  "kernelspec": {
   "display_name": "Python 3 (ipykernel)",
   "language": "python",
   "name": "python3"
  },
  "language_info": {
   "codemirror_mode": {
    "name": "ipython",
    "version": 3
   },
   "file_extension": ".py",
   "mimetype": "text/x-python",
   "name": "python",
   "nbconvert_exporter": "python",
   "pygments_lexer": "ipython3",
   "version": "3.8.10"
  }
 },
 "nbformat": 4,
 "nbformat_minor": 5
}
