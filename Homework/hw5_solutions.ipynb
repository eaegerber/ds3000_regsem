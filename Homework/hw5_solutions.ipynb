{
 "cells": [
  {
   "cell_type": "markdown",
   "metadata": {},
   "source": [
    "# DS 3000 HW 4\n",
    "\n",
    "Due: Tueday Oct 18 @ 11:59 PM EST\n",
    "\n",
    "### Submission Instructions\n",
    "Submit this `ipynb` file to Gradescope ([1:35 Section](https://www.gradescope.com/courses/431947) [3:25 Section](https://www.gradescope.com/courses/431864)) (this can also be done via the assignment on Canvas).  To ensure that your submitted `ipynb` file represents your latest code, make sure to give a fresh `Kernel > Restart & Run All` just before uploading the `ipynb` file to gradescope.\n",
    "\n",
    "### Tips for success\n",
    "- Start early\n",
    "- Make use of Piazza ([1:35 Section](https://piazza.com/class/l7dkfe3cgz21ul) [3:25 Section](https://piazza.com/class/l7dkey4g6m71e5)) (also accessable through Canvas)\n",
    "- Make use of [Office Hours](https://docs.google.com/spreadsheets/d/1SMacPh9lhRvjHI1VCJfBbNGSga3RTYKzSsfRWEWqWQI/edit?usp=sharing)\n",
    "- Remember to use cells and headings to make the notebook easy to read (if a grader cannot find the answer to a problem, you will receive no points for it)\n",
    "    - Remember that documentation/style is important (See the Style Guide on Canvas!)\n",
    "- Under no circumstances may one student view or share their ungraded homework or quiz with another student [(see also)](http://www.northeastern.edu/osccr/academic-integrity), though you are welcome to **talk about** (not show each other) the problems."
   ]
  },
  {
   "cell_type": "markdown",
   "metadata": {},
   "source": [
    "## Part 1: Brainy Quotes"
   ]
  },
  {
   "cell_type": "markdown",
   "metadata": {},
   "source": [
    "### Part 1.1 (20 points)\n",
    "\n",
    "<img src=\"https://i.ibb.co/wht5NB0/Screenshot-from-2022-02-23-05-14-26.png\" alt=\"Drawing\" style=\"width: 600px;\"/>\n",
    "\n",
    "Write a function, `clean_quote()` which scrapes all the quotes from https://www.brainyquote.com/topics/websites-quotes:\n",
    "\n",
    "```python\n",
    "url = 'https://www.brainyquote.com/topics/websites-quotes'\n",
    "html = get_url(url)\n",
    "df_quote = clean_quote(html)\n",
    "df_quote.head()\n",
    "```\n",
    "\n",
    "gives:\n",
    "\n",
    "|   |          author    |                                              text |\n",
    "|--:|-------------------:|--------------------------------------------------:|\n",
    "| 0 | Anthony Carmona    | Social media websites are no longer performing... |\n",
    "| 1 | Matthew McConaughy | I go on The Daily Beast. The Daily Beast is on... |\n",
    "| 2 |  Shreya Ghoshal    | I'm not a gadget freak, so to say. I own an iP... |\n",
    "| 3 |  Billy Graham      | While I have never learned to use a computer, ... |\n",
    "| 4 |  Alan Schaaf       | When I was in high school and college, I'd alw... |\n",
    "\n",
    "After writing the function, run the above code to verify it works."
   ]
  },
  {
   "cell_type": "code",
   "execution_count": null,
   "metadata": {},
   "outputs": [],
   "source": []
  },
  {
   "cell_type": "code",
   "execution_count": null,
   "metadata": {},
   "outputs": [],
   "source": []
  },
  {
   "cell_type": "markdown",
   "metadata": {},
   "source": [
    "### Part 1.2 (10 points)\n",
    "\n",
    "Navigate to each quote's own webpage and you'll find more information:\n",
    "\n",
    "<img src=\"https://i.ibb.co/ZKQS1ks/Screenshot-from-2022-02-23-05-14-37.png\" alt=\"Drawing\" style=\"width: 600px;\"/>\n",
    "\n",
    "Store the tags associated with each quote too.  For example, Bill Gate's quote above has tags: `'truth'`, `'government'`, `'internet'`, `'never'` and '`hard'`.  Think carefully about how you store the tags so that one may easily understand how many times each tag (e.g. `'internet'`) appears in your dataframe with simple pandas manipulations."
   ]
  },
  {
   "cell_type": "code",
   "execution_count": null,
   "metadata": {},
   "outputs": [],
   "source": []
  },
  {
   "cell_type": "code",
   "execution_count": null,
   "metadata": {},
   "outputs": [],
   "source": []
  },
  {
   "cell_type": "markdown",
   "metadata": {},
   "source": [
    "## Part 2: Fantasy Football"
   ]
  },
  {
   "cell_type": "markdown",
   "metadata": {},
   "source": [
    "### Part 2.1 (35 points)\n",
    "\n",
    "In Fantasy Football, real NFL players gain points for fans at home based on some scoring criteria (which differs based on the website, but in all cases more points is better). Use the `pd.read_html` function to pull in the table located at the following url from Week 1 of current Yahoo Fantasy Football season: https://football.fantasysports.yahoo.com/f1/whoshot?pos=ALL&week=1\n",
    "\n",
    "Write a function `clean_nfl_df()` which takes the table as input and :\n",
    "\n",
    "- breaks up the `Name` column into three columns: `Name`, `Team`, `Pos` (position). For example, the first couple observations under the `Name` column as it is read in by default should be:\n",
    "\n",
    "| Name                                                         |\n",
    "|-------------------------------------------------------------:|\n",
    "| New Player Note  Patrick Mahomes KC - QB Final W 44-21 @ Ari |\n",
    "| Player Note  Justin Jefferson Min - WR Final W 23-7 vs GB    |\n",
    "\n",
    "    this should be replaced with three columns:\n",
    "\n",
    "| Name             | Team | Pos |\n",
    "|-----------------:|-----:|----:|\n",
    "| Patrick Mahomes  | KC   | QB  |\n",
    "| Justin Jefferson | Min  | WR  |\n",
    "\n",
    "- breaks up the `Stats` column into different numeric columns based on the statistics. There should be:\n",
    "    * `Pass Yds`\n",
    "    * `Rec Yds`\n",
    "    * `Rush Yds`\n",
    "    * `Pass TD`\n",
    "    * `Rec TD`\n",
    "    * `Rush TD`\n",
    "    * `Rec`\n",
    "    * `Sack`\n",
    "    * `Int`\n",
    "    * `Fum Rec`\n",
    "    \n",
    "    so that the first couple observations:\n",
    "    \n",
    "| Stats                               |\n",
    "|------------------------------------:|\n",
    "| 360 Pass Yds, 5 Pass TD, 5 Rush Yds |\n",
    "| 9 Rec, 184 Rec Yds, 2 Rec TD        |\n",
    "\n",
    "    becomes\n",
    "    \n",
    "| Pass Yds | Rec Yds | Rush Yds | Pass TD | Rec TD | Rush TD | Rec | Sack | Int | Fum Rec |\n",
    "|---------:|--------:|---------:|--------:|-------:|--------:|----:|-----:|----:|--------:|\n",
    "|  360     |  NaN    |    5     |     5   | NaN    | NaN     | NaN | NaN  | NaN | NaN     |\n",
    "|   NaN    |  184    |    NaN   |   NaN   |  2     | NaN     | 9   | NaN  | NaN | NaN     |\n",
    "\n",
    "- produces the final clean data frame whose first two rows look like:\n",
    "\n",
    "| Name             | Team | Pos | Pass Yds | Rec Yds | Rush Yds | Pass TD | Rec TD | Rush TD | Rec | Sack | Int | Fum Rec | Fan Pts   |\n",
    "|-----------------:|-----:|----:|---------:|--------:|---------:|--------:|-------:|--------:|----:|-----:|----:|--------:|----------:|\n",
    "| Patrick Mahomes  | KC   | QB  |  360     |  NaN    |    5     |     5   | NaN    | NaN     | NaN | NaN  | NaN | NaN     | 34.90 |\n",
    "| Justin Jefferson | Min  | WR  |   NaN    |  184    |    NaN   |   NaN   |  2     | NaN     | 9   | NaN  | NaN | NaN     | 34.90 |"
   ]
  },
  {
   "cell_type": "code",
   "execution_count": null,
   "metadata": {},
   "outputs": [],
   "source": []
  },
  {
   "cell_type": "code",
   "execution_count": null,
   "metadata": {},
   "outputs": [],
   "source": []
  },
  {
   "cell_type": "markdown",
   "metadata": {},
   "source": [
    "### Part 2.2 (10 points)\n",
    "\n",
    "Go to the url from Part 2.1 in the browser and examine how the url changes when different positions or weeks are selected. Then, write the function `weekly_nfl_df()` which takes two arguments `pos` and `week`, and which uses your `clean_nfl_df()` function from Part 2.1 to produce a clean data frame for any position and any week."
   ]
  },
  {
   "cell_type": "code",
   "execution_count": null,
   "metadata": {},
   "outputs": [],
   "source": []
  },
  {
   "cell_type": "code",
   "execution_count": null,
   "metadata": {},
   "outputs": [],
   "source": []
  },
  {
   "cell_type": "markdown",
   "metadata": {},
   "source": [
    "### Part 2.3 (10 points)\n",
    "\n",
    "Use your `weekly_nfl_df()` function from Part 2.2 to create a single data frame that includes the top fantasy Quarterbacks (`pos = 'QB'`) for the first 5 weeks of this season."
   ]
  },
  {
   "cell_type": "code",
   "execution_count": null,
   "metadata": {},
   "outputs": [],
   "source": []
  },
  {
   "cell_type": "code",
   "execution_count": null,
   "metadata": {},
   "outputs": [],
   "source": []
  },
  {
   "cell_type": "markdown",
   "metadata": {},
   "source": [
    "### Part 2.4 (15 points)\n",
    "\n",
    "Make a graph which plots `Pass Yds` on the x-axis against `Fan Pts` on the y-axis, and colors the points based on `Pass TD`. Use `plotly` and include the `Name` and `Team` as `hover_data`. Make sure the graph is well labeled, titled, and includes a legend. Then, in a Markdown cell, discuss in **at least 3** sentences your interpretation of the graph.\n",
    "\n",
    "- **Note**: if you are not an american football fan, in brief the Quarterback's role is to throw the ball to other players in the hopes of scoring a touchdown (if you want a much more technical description, you may also read a bit [here](https://en.wikipedia.org/wiki/Quarterback))."
   ]
  },
  {
   "cell_type": "code",
   "execution_count": null,
   "metadata": {},
   "outputs": [],
   "source": []
  },
  {
   "cell_type": "code",
   "execution_count": null,
   "metadata": {},
   "outputs": [],
   "source": []
  },
  {
   "cell_type": "markdown",
   "metadata": {},
   "source": [
    "### Extra Credit (up to +5 points)\n",
    "\n",
    "Use the `weekly_nfl_df()` function to create data frames for each of the four main offensive positions (QB, WR, RB, TE) and then create, using subplots in a single plot, histograms for each positions' `Fan Pts`. Make sure the subplots are on the same scale, well labeled, and titled. Discuss the results in a few short sentences."
   ]
  },
  {
   "cell_type": "code",
   "execution_count": null,
   "metadata": {},
   "outputs": [],
   "source": []
  }
 ],
 "metadata": {
  "kernelspec": {
   "display_name": "Python 3 (ipykernel)",
   "language": "python",
   "name": "python3"
  },
  "language_info": {
   "codemirror_mode": {
    "name": "ipython",
    "version": 3
   },
   "file_extension": ".py",
   "mimetype": "text/x-python",
   "name": "python",
   "nbconvert_exporter": "python",
   "pygments_lexer": "ipython3",
   "version": "3.8.10"
  }
 },
 "nbformat": 4,
 "nbformat_minor": 4
}
