{
 "cells": [
  {
   "cell_type": "markdown",
   "metadata": {},
   "source": [
    "# DS 3000 HW 1 $\\color{red}{\\text{SOLUTIONS}}$\n",
    "\n",
    "Due: Tuesday Sep 20 @ 11:59 PM EST\n",
    "\n",
    "### Submission Instructions\n",
    "Submit this `ipynb` file to Gradescope ([1:35 Section](https://www.gradescope.com/courses/431947) [3:25 Section](https://www.gradescope.com/courses/431864)) (this can also be done via the assignment on Canvas).  To ensure that your submitted `ipynb` file represents your latest code, make sure to give a fresh `Kernel > Restart & Run All` just before uploading the `ipynb` file to gradescope.\n",
    "\n",
    "### Tips for success\n",
    "- Start early\n",
    "- Make use of Piazza ([1:35 Section](https://piazza.com/class/l7dkfe3cgz21ul) [3:25 Section](https://piazza.com/class/l7dkey4g6m71e5)) (also accessable through Canvas)\n",
    "- Make use of [Office Hours](https://docs.google.com/spreadsheets/d/1SMacPh9lhRvjHI1VCJfBbNGSga3RTYKzSsfRWEWqWQI/edit?usp=sharing)\n",
    "- Remember to use cells and headings to make the notebook easy to read (if a grader cannot find the answer to a problem, you will receive no points for it)\n",
    "- Under no circumstances may one student view or share their ungraded homework or quiz with another student [(see also)](http://www.northeastern.edu/osccr/academic-integrity), though you are welcome to **talk about** (not show each other) the problems."
   ]
  },
  {
   "cell_type": "markdown",
   "metadata": {},
   "source": [
    "# Markdown\n",
    "\n",
    "## Part 1.1 (15 points): \n",
    "Use the markdown language below to create your own brief wikipedia-esque description of any subject of interest. \n",
    "\n",
    "Your mini-wiki page must include:\n",
    "- three headers: a title, subtitle and subsubtitle (the #, ##, ### syntax)\n",
    "- an embedded image from a web address (use an [image hosting site](https://makeawebsitehub.com/free-photo-hosting/) if you'd like to upload your own)\n",
    "- a table of size at least 3 rows x 3 columns (needn't be correct, but must make sense)\n",
    "- a list\n",
    "- a link to another website\n",
    "\n",
    "Please be brief in your text.  Aim for roughly 3 sentences total of text.  We won't grade based on content, but keep it appropriate for class.  If you make the grader smile, no extra credit will be awarded beyond the satisfaction of having made somebody's day better :)"
   ]
  },
  {
   "cell_type": "markdown",
   "metadata": {},
   "source": [
    "$\\color{red}{\\text{Solution:}}$\n",
    "# The Unofficial Mean Girls Wiki\n",
    "\n",
    "This serves as a brief introduction to the best movie of all time: **Mean Girls**\n",
    "\n",
    "![mean girls](https://occ.a.nflxso.net/dnm/api/v6/X194eJsgWBDE2aQbaNdmCXGUP-Y/AAAABb4XP2msE9wsFK_q5rhqAj_omP_b8eTI5_lf3m_F6TxDKs5lJ3XfIXPoOH7lUi49V73nVjl2kI27qUUJ9TTeESrDqmXp94Nu-e4y.jpg?r=374)\n",
    "\n",
    "## The Plot\n",
    "\n",
    "Mean Girls follows Cady, who has just moved to town after having been homeschooled and growing up in Africa. She experiences American school for the first time, encountering difficulties with making friends and knowing how to do certain things (for example, she gets up to go to the bathroom, but is forced to ask for permission!). Eventually she makes some friends, Janis and Damian, and develops a crush on a boy, Aaron. However, Aaron is the ex-boyfriend of Regina, the leader of the clique of girls called the Plastics, the most popular girls in school. Janis hatches a plan for Cady to infiltrate the Plastics and destroy them from the inside (which, conveniently for Cady, involves her ending up with Aaron). Things ensue. The main characters and their actors are:\n",
    "\n",
    "| Character | Actor           |\n",
    "|-----------|-----------------|\n",
    "| Cady      | Lindsey Lohan   |\n",
    "| Regina    | Rachel McAdams  |\n",
    "| Janis     | Lizzy Caplan    |\n",
    "| Gretchen  | Lacey Chabert   |\n",
    "| Karen     | Amanda Seyfried |\n",
    "| Damian    | Daniel Franzese |\n",
    "| Aaron     | Jonathan Bennett|\n",
    "\n",
    "### Why Mean Girls Is The Best\n",
    "\n",
    "- Made \"Fetch\" happen\n",
    "- Who are the *real* mean girls?\n",
    "    - Is it Regina and the Plastics, who treat everyone as lesser?\n",
    "    - Or is it Janis, Cady and Damian, who lie and sabotage the Plastics?\n",
    "- It is a very realistic depiction of mid-2000s high school from the perspective of someone who did not grow up in the US public school system (can confirm).\n",
    "\n",
    "If you are interested in learning more about Mean Girls, it is currently available on [Netflix](https://www.netflix.com) and here is the actual [wikipedia page](https://en.wikipedia.org/wiki/Mean_Girls)"
   ]
  },
  {
   "cell_type": "markdown",
   "metadata": {},
   "source": [
    "# Part 1.2\n",
    "\n",
    "In [blackjack](https://en.wikipedia.org/wiki/Blackjack), players are given two cards from a [standard deck](https://en.wikipedia.org/wiki/Standard_52-card_deck#Composition) of cards and add their values together.  Values are assigned to cards as:\n",
    "- number cards use their own value\n",
    "- Jack, Queen, King cards all have a value of 10\n",
    "- aces, **in this problem** will always have a value of 1\n",
    "\n",
    "Players may then choose to take as many cards as they'd like, one at a time, to increase the sum of their hand's value.  The goal is to produce a value as high as possible without exceeding 21.  When a player's hand sum increases beyond 21 they are said to 'bust' and they lose the game.\n",
    "\n",
    "The key to playing well is knowing when to stop taking cards.  We'll explore this issue by writing a program to have the computer play many hands of blackjack and count how often they bust."
   ]
  },
  {
   "cell_type": "markdown",
   "metadata": {},
   "source": [
    "## Part 1.2.1 (10 points)\n",
    "Examine the function `draw_value()` below which accepts no inputs and returns the value of some card drawn from a standard deck of cards.  Pay attention to what `random.choices()`, and its `weights` parameter are doing here, as they **may not be used correctly, and you may have to correct them**.\n",
    "\n",
    "\n",
    "Assume that you can use this function to simulate playing blackjack. This would mean you draw cards with replacement, so that its possible to draw the same card many times.  (In practice, this isn't far from the truth as real casinos often draw from a pile of cards containing multiple, shuffled decks to mitigate the effectiveness of [card counting](https://en.wikipedia.org/wiki/Card_counting)).\n",
    "\n"
   ]
  },
  {
   "cell_type": "code",
   "execution_count": 1,
   "metadata": {},
   "outputs": [
    {
     "data": {
      "text/plain": [
       "[1]"
      ]
     },
     "execution_count": 1,
     "metadata": {},
     "output_type": "execute_result"
    }
   ],
   "source": [
    "# first import the random module to use choices\n",
    "import random\n",
    "\n",
    "# create the function\n",
    "def draw_value():\n",
    "    '''draws a single card value\n",
    "    \n",
    "    Args:\n",
    "        none\n",
    "        \n",
    "    Returns:\n",
    "        draw (int): choices(values, weights) #the weights are the number of each amount of values in a deck\n",
    "    '''\n",
    "    values = [1,2,3,4,5,6,7,8,9,10]\n",
    "    \n",
    "    draw = random.choices(values, weights=[4,4,4,4,4,4,4,4,4,4])\n",
    "\n",
    "    return draw\n",
    "\n",
    "\n",
    "draw_value()"
   ]
  },
  {
   "cell_type": "markdown",
   "metadata": {},
   "source": [
    "We won't typically publish the rubrics to students.  However, we make an exception here so you can see how important documentation, variable naming and style is in your grade. *You* must grade the above function based on the following rubric. Please note that you should **not** give the above full credit (there is at least one mistake).\n",
    "\n",
    "rubric:\n",
    "- 2 pt any function created\n",
    "- 2 pt function created which returns a card value\n",
    "- 2 pt function created which returns a card value with proper `weights` param\n",
    "    - scaling `weights` by any reasonable constant acceptable for full credit\n",
    "- 2 pt docstring and/or comments given in proper format\n",
    "- 2 pt variable names are informative and in proper style\n",
    "\n",
    "TAs are encouraged to give other minor point penalties for other style issues which crop up to nudge students in the proper direction (otherwise students may repeat these bad habits!)"
   ]
  },
  {
   "cell_type": "markdown",
   "metadata": {},
   "source": [
    "$\\color{red}{\\text{Solution:}}$ +2 points for the function being created, and +2 for returning a card value. However -2 for not having the proper `weights` parameter. In the function, the `weights` parameter is all 4's, but the value 10 will occur four times as often as the others (because all of 10, J, Q, and K are worth 10), so the last number should be 16. -1 because the docstring says that the return should be an int, but it is a list, though the comments look okay, and +2 because the variable names look good. So 7/10 points for this."
   ]
  },
  {
   "cell_type": "markdown",
   "metadata": {},
   "source": [
    "## Part 1.2.2 (15 points)\n",
    "Its challenging to test a function which returns a random value, by design it gives different values!  If we sample many cards from `draw_value()`, we'd expect to see that the total number of cards drawn are distributed, roughly, to our expectation.\n",
    "\n",
    "- First, correct the issue(s) with the `draw_value()` function from the first part of this problem\n",
    "- Sample 52000 values from `draw_value()`\n",
    "- record how many times you observe each card in a `defaultdict` named `card_count`\n",
    "- print `card_count`\n",
    "- write one sentence which explains why your results validate that `draw_value()` works"
   ]
  },
  {
   "cell_type": "code",
   "execution_count": 2,
   "metadata": {},
   "outputs": [],
   "source": [
    "# create the function\n",
    "def draw_value():\n",
    "    '''draws a single card value\n",
    "    \n",
    "    Args:\n",
    "        none\n",
    "        \n",
    "    Returns:\n",
    "        draw (int): choices(values, weights) #the weights are the number of each amount of values in a deck\n",
    "    '''\n",
    "    values = [1,2,3,4,5,6,7,8,9,10]\n",
    "    \n",
    "    draw = random.choices(values, weights=[4,4,4,4,4,4,4,4,4,16]) #corrected the weights\n",
    "\n",
    "    return draw[0]"
   ]
  },
  {
   "cell_type": "code",
   "execution_count": 3,
   "metadata": {},
   "outputs": [],
   "source": [
    "# note that draw_value() returns a list of 1 which we need to grab via indexing \n",
    "draw_list = list()\n",
    "for idx in range(52000):\n",
    "    card_value = draw_value()\n",
    "    draw_list.append(card_value)\n",
    "    # draw_list.append(card_value[0]) # if they did not change the inside of the function to return an int\n",
    "\n",
    "# another way to do it is to change the function\n",
    "def draw_values(times):\n",
    "    '''draws a single card value a certain number of times\n",
    "    \n",
    "    Args:\n",
    "        times (int): the number of times \n",
    "        \n",
    "    Returns:\n",
    "        draw (int): choices(values, weights) #the weights are the number of each amount of values in a deck\n",
    "    '''\n",
    "    values = [1,2,3,4,5,6,7,8,9,10]\n",
    "    \n",
    "    draw = random.choices(values, k=times, weights=[4,4,4,4,4,4,4,4,4,16]) #add the k option\n",
    "\n",
    "    return draw\n",
    "\n",
    "draw_list2 = draw_values(times=52000)"
   ]
  },
  {
   "cell_type": "code",
   "execution_count": 4,
   "metadata": {},
   "outputs": [
    {
     "data": {
      "text/plain": [
       "defaultdict(<function __main__.<lambda>()>,\n",
       "            {3: 3912,\n",
       "             4: 3956,\n",
       "             8: 4002,\n",
       "             9: 3937,\n",
       "             5: 4067,\n",
       "             10: 16113,\n",
       "             1: 4038,\n",
       "             2: 3997,\n",
       "             7: 3968,\n",
       "             6: 4010})"
      ]
     },
     "execution_count": 4,
     "metadata": {},
     "output_type": "execute_result"
    }
   ],
   "source": [
    "from collections import defaultdict\n",
    "\n",
    "#the first way\n",
    "card_count = defaultdict(lambda: 0)\n",
    "\n",
    "for val in draw_list:\n",
    "    card_count[val] = card_count[val] + 1\n",
    "\n",
    "card_count"
   ]
  },
  {
   "cell_type": "code",
   "execution_count": 5,
   "metadata": {},
   "outputs": [
    {
     "data": {
      "text/plain": [
       "defaultdict(<function __main__.<lambda>()>,\n",
       "            {9: 3959,\n",
       "             4: 4012,\n",
       "             8: 4055,\n",
       "             10: 15783,\n",
       "             6: 3939,\n",
       "             7: 4133,\n",
       "             3: 3979,\n",
       "             5: 3963,\n",
       "             1: 4096,\n",
       "             2: 4081})"
      ]
     },
     "execution_count": 5,
     "metadata": {},
     "output_type": "execute_result"
    }
   ],
   "source": [
    "#the second way\n",
    "card_count2 = defaultdict(lambda: 0)\n",
    "\n",
    "for val in draw_list2:\n",
    "    card_count2[val] = card_count2[val] + 1\n",
    "\n",
    "card_count2"
   ]
  },
  {
   "cell_type": "markdown",
   "metadata": {},
   "source": [
    "The results validate that `draw_value()` works because the `10` values occur about 4 times as often as all the other values."
   ]
  },
  {
   "cell_type": "markdown",
   "metadata": {},
   "source": [
    "## Part 1.2.3 (25 pts)\n",
    "One of the big questions facing blackjack players is, \"Given that my hand already has a value of X, what's the probability that the next card will bust my hand?\".  For every starting hand, we'll estimate this probability by simulating how often a hand goes bust on the next card among many randomly drawn hands.\n",
    "\n",
    "- initialize `bust_given_start` as a defaultdict\n",
    "    - keys are the starting hands\n",
    "    - values will count how many hands went bust\n",
    "    - e.g. `bust_given_start = {19: 100, 15: 42}` indicates that, among all the simulations:\n",
    "        - 100 hands starting at 19 went bust\n",
    "        - 42 hands starting at 15 went bust\n",
    "- for every `start_hand` from 2 to 20:\n",
    "    - draw a single card via `draw_value()`\n",
    "    - record the hand as a bust if the `start_hand` + `card_val` exceeds 21\n",
    "    - repeat the above two steps so that you simulate 10,000 total hands\n",
    "- divide all the values in `bust_given_start` by 10,000\n",
    "    - this normalization allows us to interpret the values of the dictionary as probabilities of going bust\n",
    "- print `bust_given_start` so it may be observed\n",
    "    - print in increasing order of `start_hand`\n",
    "    - Notice that even though we tested `start_hand<=11` many times, none of them appear in `bust_given_start` (no need to change this)\n",
    "        - Explain why in one or two complete sentences\n",
    "    "
   ]
  },
  {
   "cell_type": "code",
   "execution_count": 6,
   "metadata": {},
   "outputs": [
    {
     "data": {
      "text/plain": [
       "defaultdict(<function __main__.<lambda>()>,\n",
       "            {2: 0,\n",
       "             3: 0,\n",
       "             4: 0,\n",
       "             5: 0,\n",
       "             6: 0,\n",
       "             7: 0,\n",
       "             8: 0,\n",
       "             9: 0,\n",
       "             10: 0,\n",
       "             11: 0,\n",
       "             12: 0.3106999999999821,\n",
       "             13: 0.384099999999974,\n",
       "             14: 0.4639999999999652,\n",
       "             15: 0.5396999999999569,\n",
       "             16: 0.6184999999999482,\n",
       "             17: 0.6962999999999396,\n",
       "             18: 0.7781999999999306,\n",
       "             19: 0.8448999999999233,\n",
       "             20: 0.9211999999999149})"
      ]
     },
     "execution_count": 6,
     "metadata": {},
     "output_type": "execute_result"
    }
   ],
   "source": [
    "#initialize\n",
    "bust_given_start = defaultdict(lambda: 0)\n",
    "\n",
    "#create start_hand\n",
    "start_hand = range(2,21)\n",
    "\n",
    "#there may be other ways to do this, but this is one way\n",
    "for idx in range(10000):\n",
    "    for start in start_hand:\n",
    "        card_val = draw_value()\n",
    "        if start + card_val > 21:\n",
    "        # if start + card_val[0] > 21: #  if they did not change the inside of the function to return an int\n",
    "            bust_given_start[start] = bust_given_start[start] + 1/10000\n",
    "        else:\n",
    "            bust_given_start[start] = bust_given_start[start]\n",
    "            \n",
    "#bust_given_start = {key: value / 10000 for key, value in bust_given_start.items()}\n",
    "bust_given_start"
   ]
  },
  {
   "cell_type": "markdown",
   "metadata": {},
   "source": [
    "We never saw a start hand with value $\\leq 11$ bust because the maximum card value you can draw is 10, so a single card will never cause you to bust. Thus, one should always ask for a card when their had value is 11 or less."
   ]
  },
  {
   "cell_type": "markdown",
   "metadata": {},
   "source": [
    "# Triple-or-nothing\n",
    "Triple-or-nothing is a game where a `jar` is initially set up with some number of coins and placed between two opposing players.  In each round:\n",
    "- both players bet some fraction, `frac`\n",
    "    - neither player knows what the other has written down this round\n",
    "    - fractions must be between 0 and 1 (including 0 and 1)\n",
    "- coins are distributed to the players as:\n",
    "    1. the player with the smaller$^1$ `frac` takes that fraction$^2$ of coins from the jar and places them in their `purse`\n",
    "    1. the player with the larger$^1$ `frac` takes that fraction$^2$ of coins from the **remaining** jar and places them in their `purse`\n",
    "    1. the \"bank\" (an infinite supply of coins) triples the value of the jar\n",
    "    1. If the jar has no coins in it or the players have already played 10 rounds, the game ends\n",
    "    \n",
    "Each player seeks to earn as many coins as possible.\n",
    "\n",
    "Footnote 1: You may assume the players do not write the same value down.\n",
    "\n",
    "Footnote 2: In the event the jar is emptied, the game ends"
   ]
  },
  {
   "cell_type": "markdown",
   "metadata": {},
   "source": [
    "# Part 1.3 (35+5 pts)\n",
    "\n",
    "Complete the `update_round()` function below, which updates a round of triple-or-nothing as described above.  Your function should pass all the given assert statements below.  \n",
    "\n",
    "For (+5 pts) extra credit, revise your `update_round()` function to allow both players to write the same value down.  In this event, the total number of coins taken out of the jar if the players went (in any order) is: \n",
    "\n",
    "    frac * jar + frac * (1 - frac) * jar = (2 - frac) * frac * jar\n",
    "\n",
    "and it is split evenly between the players."
   ]
  },
  {
   "cell_type": "code",
   "execution_count": 7,
   "metadata": {},
   "outputs": [],
   "source": [
    "def update_round(jar, frac0, frac1):\n",
    "    \"\"\" runs a round of triple-or-nothing\n",
    "    \n",
    "    Args:\n",
    "        jar (float): number of coins in the jar at round start\n",
    "        frac0 (float): player0's value\n",
    "        frac1 (float): player1's value\n",
    "            \n",
    "    Returns:\n",
    "        jar (float): number of coins in the jar at end of round\n",
    "        new_coin0 (float): number of coins player0 has earned\n",
    "            in this round\n",
    "        new_coin1 (float): number of coins player1 has earned\n",
    "            in this round\n",
    "    \"\"\"\n",
    "    \n",
    "    if frac0 < frac1:\n",
    "        new_coin0 = jar * frac0\n",
    "        new_coin1 = (jar - new_coin0) * frac1\n",
    "        jar = (jar - new_coin0 - new_coin1) * 3\n",
    "    else:\n",
    "            new_coin1 = jar * frac1\n",
    "            new_coin0 = (jar - new_coin1) * frac0\n",
    "            jar = (jar - new_coin0 - new_coin1) * 3\n",
    "            \n",
    "    return (jar, new_coin0, new_coin1)"
   ]
  },
  {
   "cell_type": "code",
   "execution_count": 8,
   "metadata": {},
   "outputs": [
    {
     "data": {
      "text/plain": [
       "(27.0, 1.0, 0)"
      ]
     },
     "execution_count": 8,
     "metadata": {},
     "output_type": "execute_result"
    }
   ],
   "source": [
    "update_round(10, .1, 0)"
   ]
  },
  {
   "cell_type": "code",
   "execution_count": 9,
   "metadata": {},
   "outputs": [],
   "source": [
    "# below are some test cases for you to run and make sure that the function is working\n",
    "\n",
    "assert update_round(jar=10, frac0=.1, frac1=0) == (27, 1, 0)\n",
    "assert update_round(jar=10, frac0=.5, frac1=.2) == (12, 4, 2)\n",
    "assert update_round(jar=10, frac0=1, frac1=.5) == (0, 5, 5)\n",
    "assert update_round(jar=10, frac1=.9, frac0=1) == (0, 1, 9)\n",
    "\n",
    "# swap frac0 / frac1 and new_coin0 / new_coin1 from previous 4 test cases\n",
    "assert update_round(jar=10, frac1=.1, frac0=0) == (27, 0, 1)\n",
    "assert update_round(jar=10, frac1=.5, frac0=.2) == (12, 2, 4)\n",
    "assert update_round(jar=10, frac1=1, frac0=.5) == (0, 5, 5)\n",
    "assert update_round(jar=10, frac1=1, frac0=.9) == (0, 9, 1)\n"
   ]
  },
  {
   "cell_type": "code",
   "execution_count": 10,
   "metadata": {},
   "outputs": [],
   "source": [
    "#extra credit solution\n",
    "def update_round(jar, frac0, frac1):\n",
    "    \"\"\" runs a round of triple-or-nothing\n",
    "    \n",
    "    Args:\n",
    "        jar (float): number of coins in the jar at round start\n",
    "        frac0 (float): player0's value\n",
    "        frac1 (float): player1's value\n",
    "            \n",
    "    Returns:\n",
    "        jar (float): number of coins in the jar at end of round\n",
    "        new_coin0 (float): number of coins player0 has earned\n",
    "            in this round\n",
    "        new_coin1 (float): number of coins player1 has earned\n",
    "            in this round\n",
    "    \"\"\"\n",
    "    \n",
    "    if frac0 < frac1:\n",
    "        new_coin0 = jar * frac0\n",
    "        new_coin1 = (jar - new_coin0) * frac1\n",
    "        jar = (jar - new_coin0 - new_coin1) * 3\n",
    "    elif frac1 > frac0:\n",
    "            new_coin1 = jar * frac1\n",
    "            new_coin0 = (jar - new_coin1) * frac0\n",
    "            jar = (jar - new_coin0 - new_coin1) * 3\n",
    "    else:\n",
    "            frac = frac0\n",
    "            coins = (2 - frac) * frac * jar\n",
    "            new_coin0 = coins/2\n",
    "            new_coin1 = new_coin0\n",
    "            jar = (jar - coins) * 3\n",
    "            \n",
    "    return (jar, new_coin0, new_coin1)"
   ]
  },
  {
   "cell_type": "code",
   "execution_count": 11,
   "metadata": {},
   "outputs": [],
   "source": [
    "# extra credit test cases\n",
    "assert update_round(jar=10, frac0=1, frac1=1) == (0, 5, 5)\n",
    "assert update_round(jar=20, frac0=.5, frac1=.5) == (15, 7.5, 7.5)"
   ]
  },
  {
   "cell_type": "code",
   "execution_count": null,
   "metadata": {},
   "outputs": [],
   "source": []
  }
 ],
 "metadata": {
  "kernelspec": {
   "display_name": "Python 3 (ipykernel)",
   "language": "python",
   "name": "python3"
  },
  "language_info": {
   "codemirror_mode": {
    "name": "ipython",
    "version": 3
   },
   "file_extension": ".py",
   "mimetype": "text/x-python",
   "name": "python",
   "nbconvert_exporter": "python",
   "pygments_lexer": "ipython3",
   "version": "3.10.2"
  }
 },
 "nbformat": 4,
 "nbformat_minor": 4
}
