{
 "cells": [
  {
   "cell_type": "markdown",
   "metadata": {},
   "source": [
    "# DS 3000 HW 2\n",
    "\n",
    "Due: Tuesday Sep 27 @ 11:59 PM EST\n",
    "\n",
    "### Submission Instructions\n",
    "Submit this `ipynb` file to Gradescope ([1:35 Section](https://www.gradescope.com/courses/431947) [3:25 Section](https://www.gradescope.com/courses/431864)) (this can also be done via the assignment on Canvas).  To ensure that your submitted `ipynb` file represents your latest code, make sure to give a fresh `Kernel > Restart & Run All` just before uploading the `ipynb` file to gradescope.\n",
    "\n",
    "### Tips for success\n",
    "- Start early\n",
    "- Make use of Piazza ([1:35 Section](https://piazza.com/class/l7dkfe3cgz21ul) [3:25 Section](https://piazza.com/class/l7dkey4g6m71e5)) (also accessable through Canvas)\n",
    "- Make use of [Office Hours](https://docs.google.com/spreadsheets/d/1SMacPh9lhRvjHI1VCJfBbNGSga3RTYKzSsfRWEWqWQI/edit?usp=sharing)\n",
    "- Remember to use cells and headings to make the notebook easy to read (if a grader cannot find the answer to a problem, you will receive no points for it)\n",
    "    - Remember that documentation/style is important (See the Style Guide on Canvas!)\n",
    "- Under no circumstances may one student view or share their ungraded homework or quiz with another student [(see also)](http://www.northeastern.edu/osccr/academic-integrity), though you are welcome to **talk about** (not show each other) the problems."
   ]
  },
  {
   "cell_type": "markdown",
   "metadata": {},
   "source": [
    "# Part 1: Arrays\n",
    "\n",
    "## Part 1.1: (10 points: 5 pts each)\n",
    "\n",
    "Create the following two arrays using the NumPy library. Call the first array `array_a` and the second array `array_b`:\n",
    "\n",
    "$$\\text{array_a} = \\begin{bmatrix}3 & 8 & -2 & 3\\\\\n",
    ".5 & -1 & 6 & 4\\\\\n",
    "-5 & 7 & 43 & 2\n",
    "\\end{bmatrix}$$\n",
    "\n",
    "$$\\text{array_b} = \\begin{bmatrix}42 & 38 & 34\\\\\n",
    "30 & 26 & 22\\\\\n",
    "18 & 14 & 10\\\\\n",
    "6 & 2 & -2\\\\\n",
    "-6 & -10 & -14\n",
    "\\end{bmatrix}$$\n",
    "\n"
   ]
  },
  {
   "cell_type": "code",
   "execution_count": null,
   "metadata": {},
   "outputs": [],
   "source": []
  },
  {
   "cell_type": "markdown",
   "metadata": {},
   "source": [
    "## Part 1.2: (15 points: 5 pts each)\n",
    "\n",
    "1. Give the shape, size, ndim, and nbytes for each of the two arrays.\n",
    "1. Take the transpose of both arrays. Call these `t_array_a` and `t_array_b`.\n",
    "1. Try to add `array_a` and `t_array_b`, then remove the last column of `t_array_b` and try to add them again. In a markdown cell, explain what happened."
   ]
  },
  {
   "cell_type": "code",
   "execution_count": null,
   "metadata": {},
   "outputs": [],
   "source": []
  },
  {
   "cell_type": "markdown",
   "metadata": {},
   "source": [
    "# Part 2: Bike Data\n",
    "\n",
    "## Part 2.1: DataFrame Construction (10 points)\n",
    "Recreate the following table of bicycle race data as a dataframe (do not write a csv and read it in to accomplish this; use pandas).  Use the `Bike ID` as the index column and save the resulting dataframe as a csv (you need not submit this csv, but be sure to include the `DataFrame.to_csv()` command in your submission).\n",
    "\n",
    "| Bike ID | Rider ID | Make      | Color      | Bike Type  | Weight (g) | Time Trial 1 (s) | Time Trial 2 (s) |\n",
    "|---------|----------|-----------|------------|------------|------------|------------------|------------------|\n",
    "| 037     | 3        | Bianchi   | Celeste    | Road       | 8200       | 450              | 205              |\n",
    "| 379     | 1        | Duratec   | \\<no paint>| Cyclocross | 9500       | 510              | 222              |\n",
    "| 398     | 7        | Trek      | Red        | Road       | 9000       | 432              | 211              |\n",
    "| 37B     | 3        | Trek      | Black      | Mountain   | 13607      | 561              | 301              |\n",
    "| BRG     | 7        | Canondale | Black      | Mountain   | 15005      | 524              | 299              |"
   ]
  },
  {
   "cell_type": "code",
   "execution_count": null,
   "metadata": {},
   "outputs": [],
   "source": []
  },
  {
   "cell_type": "markdown",
   "metadata": {},
   "source": [
    "# Part 2.2: Manipulating DataFrames (30 points: 10 pts each)\n",
    "For each of the questions below:\n",
    "- Provide a few (1 to 3) code cells which construct a series or dataframe object which is sufficient to answer each question\n",
    "    - one shouldn't have to look at the full dataframe or otherwise as reference\n",
    "        - we practice this way as real datasets are too big for this to be easily done!\n",
    "- Provide a markdown cell which contains a one sentence response to each question\n",
    "    - In effect, you're interpretting the code cell(s) so one who knows no python can understand how your code answers the question\n",
    "\n",
    "### Questions:\n",
    "1. Which `Bike ID` has the greatest weight?\n",
    "1. Which `Bike ID` has the fastest average time trial?\n",
    "1. What is the average weight of each bike, per `Bike Type `?  \n",
    "    - Hint: `groupby()` and/or `.unique()` might be helpful\n",
    "\n",
    "Note that:\n",
    "- each time trial records the time taken to complete a given track under similar conditions. \n",
    "- some riders (3 and 7) completed the time trials on two distinct bikes, the data is stored in distinct rows"
   ]
  },
  {
   "cell_type": "code",
   "execution_count": null,
   "metadata": {},
   "outputs": [],
   "source": []
  },
  {
   "cell_type": "markdown",
   "metadata": {},
   "source": [
    "# Part 3: Pokémon Data\n",
    "\n",
    "## Part 3.1: Reading in Data (5 points)\n",
    "\n",
    "On Canvas is the `pokedata.csv` file. Read this data set in, using the `Pokedex` as the index column, and print the first few rows of the data."
   ]
  },
  {
   "cell_type": "code",
   "execution_count": null,
   "metadata": {},
   "outputs": [],
   "source": []
  },
  {
   "cell_type": "markdown",
   "metadata": {},
   "source": [
    "## Part 3.2: More Manipulation (30 points: 10 pts each)\n",
    "\n",
    "1. Add a new column to the data set that calculates the BMI of the Pokémon. The formula for BMI using Imperial Units (such as these data contain) is = $703 \\times \\frac{Weight}{Height^2}$. Print the first few rows.\n",
    "    - Find out which Pokémon have (a) the highest BMI and (b) the lowest BMI.\n",
    "1. Create a subset of the Pokémon Data that you created in (1) which (a) includes only Pokémon that have `BaseSpeed >= 60` and (b) excludes all Pokémon with `MainType == Fire`. Make sure to save this subset as a new data frame and print the first few rows of the data.\n",
    "1. Use the `.describe()` function to produce summary statistics for the Pokémon Data from the data from (1). Create a markdown cell and explain:\n",
    "    - What Series did the `.describe()` function run on? What Series did it not run on? What is the difference, and what does this mean the `.describe()` function is used for?"
   ]
  },
  {
   "cell_type": "code",
   "execution_count": null,
   "metadata": {},
   "outputs": [],
   "source": []
  }
 ],
 "metadata": {
  "kernelspec": {
   "display_name": "Python 3 (ipykernel)",
   "language": "python",
   "name": "python3"
  },
  "language_info": {
   "codemirror_mode": {
    "name": "ipython",
    "version": 3
   },
   "file_extension": ".py",
   "mimetype": "text/x-python",
   "name": "python",
   "nbconvert_exporter": "python",
   "pygments_lexer": "ipython3",
   "version": "3.10.2"
  }
 },
 "nbformat": 4,
 "nbformat_minor": 4
}
