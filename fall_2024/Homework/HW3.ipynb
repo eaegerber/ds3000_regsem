{
 "cells": [
  {
   "cell_type": "markdown",
   "metadata": {},
   "source": [
    "# DS 3000 HW 3"
   ]
  },
  {
   "cell_type": "markdown",
   "metadata": {},
   "source": [
    "Your Name: "
   ]
  },
  {
   "cell_type": "markdown",
   "metadata": {},
   "source": [
    "Due: Tuesday Oct 29 @ 11:59 PM EST\n",
    "\n",
    "Extra Credit Deadline: Sunday Oct 27 @ 11:59 PM EST\n",
    "\n",
    "### Submission Instructions\n",
    "Submit this `ipynb` file to Gradescope (this can also be done via the assignment on Canvas).  To ensure that your submitted `ipynb` file represents your latest code, make sure to give a fresh `Kernel > Restart & Run All` just before uploading the `ipynb` file to gradescope. **In addition:**\n",
    "- Make sure your name is entered above\n",
    "- Make sure you comment your code effectively\n",
    "- If problems are difficult for the TAs/Profs to grade, you will lose points\n",
    "\n",
    "### Tips for success\n",
    "- Start early\n",
    "- Make use of Piazza (also accessible through Canvas)\n",
    "- Make use of Office Hours\n",
    "- Remember to use cells and headings to make the notebook easy to read (if a grader cannot find the answer to a problem, you will receive no points for it)\n",
    "- Under no circumstances may one student view or share their ungraded homework or quiz with another student [(see also)](http://www.northeastern.edu/osccr/academic-integrity), though you are welcome to **talk about** (*not* show each other your answers to) the problems."
   ]
  },
  {
   "cell_type": "markdown",
   "metadata": {},
   "source": [
    "# Part 1: Summarizing and Visualizing Data\n",
    "\n",
    "For this part, you will use the `players_fifa23.csv` from Canvas to investigate the ratings for soccer players in the FIFA 23 video game. Make sure the `.csv` is in the same directory as this notebook file.\n",
    "\n",
    "**Note**: You do not need to know anything about soccer or video games to complete this problem, only perhaps that a higher `Overall` rating is considered a good thing."
   ]
  },
  {
   "cell_type": "markdown",
   "metadata": {},
   "source": [
    "## Part 1.1: Plotting Data (15 points)\n",
    "\n",
    "Create a plotly scatter plot which shows the mean `Overall` rating for soccer players (rows) of a given `Nationality` for a particular `Age`. Focuse on three countries (`England`, `Germany`, `Spain`). In other words, your plot's x-axis should be `Age`, the y-axis should be `Overall`, and there should be three different colored points at each `Age`, one for each `Nationality`.\n",
    "\n",
    "Export your graph as an html file `age_ratings_nationality.html`. You do not have to submit it with this homework, but the code should show that you did this.\n",
    "\n",
    "Hints:\n",
    "- There may be multiple ways/approaches to accomplish this task.\n",
    "- One approach: you may use `groupby()` and boolean indexing to build these values in a loop which runs per each `Nationality`.\n",
    "- `px.scatter()` will only graph data from columns (not the index).  Some approaches may need to graph data from the index.  You can use [df.reset_index()](https://pandas.pydata.org/pandas-docs/stable/reference/api/pandas.DataFrame.reset_index.html) to make your index a new column as shown [in this example](https://colab.research.google.com/drive/1d9JDphmpSTg9NtFMyfFnMQ6RmIx6zChK?usp=sharing)\n",
    "- In some approaches you may need to pass multiple rows to [pd.concat()](https://pandas.pydata.org/docs/reference/api/pandas.concat.html) if need be\n",
    "- In some approaches you may need to go from \"wide\" data to \"long\" data by using [df.melt()](https://pandas.pydata.org/pandas-docs/stable/reference/api/pandas.DataFrame.melt.html) as discussed [here](https://towardsdatascience.com/reshaping-a-pandas-dataframe-long-to-wide-and-vice-versa-517c7f0995ad)\n",
    "- The first few code cells below get you started with looking at the data set."
   ]
  },
  {
   "cell_type": "code",
   "execution_count": null,
   "metadata": {},
   "outputs": [],
   "source": [
    "# use pandas to read in the data\n",
    "import pandas as pd\n",
    "\n",
    "df_fifa = pd.read_csv('players_fifa23.csv', index_col = 'ID')\n",
    "df_fifa.head()"
   ]
  },
  {
   "cell_type": "code",
   "execution_count": null,
   "metadata": {},
   "outputs": [],
   "source": [
    "df_fifa.Nationality.value_counts()"
   ]
  },
  {
   "cell_type": "code",
   "execution_count": null,
   "metadata": {},
   "outputs": [],
   "source": [
    "df_fifa.shape"
   ]
  },
  {
   "cell_type": "code",
   "execution_count": null,
   "metadata": {},
   "outputs": [],
   "source": [
    "df_fifa['Age'].unique()"
   ]
  },
  {
   "cell_type": "code",
   "execution_count": null,
   "metadata": {},
   "outputs": [],
   "source": []
  },
  {
   "cell_type": "code",
   "execution_count": null,
   "metadata": {},
   "outputs": [],
   "source": []
  },
  {
   "cell_type": "code",
   "execution_count": null,
   "metadata": {},
   "outputs": [],
   "source": [
    "# making the plot\n",
    "import plotly\n",
    "import plotly.express as px"
   ]
  },
  {
   "cell_type": "code",
   "execution_count": null,
   "metadata": {},
   "outputs": [],
   "source": []
  },
  {
   "cell_type": "markdown",
   "metadata": {},
   "source": [
    "## Part 1.2: Numerical Summaries (10 points)\n",
    "\n",
    "1. Calculate the sample mean and median of `Overall` for the entire data set. In a markdown cell, discuss what their relative values imply about the distribution of `Overall`, and then use the plot from 1.1 and these values to discuss whether you think English, German, and Spanish players are generally better rated than other country's players, and at what age do they become average players?\n",
    "2. Calculate the `.group_by()` function to calculate the means and standard deviations of `Overall` for the three Nationalities in Part 1.1 (you will want to use the original data frame or a slightly modified version of it (the `.isin` function from pandas may help), **NOT** the data frame you used for the plot). What do these values tell you about the differences between English, German, and Spanish players?\n",
    "3. Create a subset of the original data frame that includes only `Age`, `Height`, `Weight`, and `Overall`. Calculate the correlation matrix for these four features and discuss what the relationships seem to be and whether those relationships make sense to you."
   ]
  },
  {
   "cell_type": "code",
   "execution_count": null,
   "metadata": {},
   "outputs": [],
   "source": []
  },
  {
   "cell_type": "markdown",
   "metadata": {},
   "source": []
  },
  {
   "cell_type": "markdown",
   "metadata": {},
   "source": [
    "# Part 2: Vector Geometry Practice (20 points)\n",
    "\n",
    "Use the vectors to below to compute the following quantities. You must show all math work/steps (no matter how trivial) to receive full credit. You may either use LaTeX typesetting within a Markdown cell, or do it by hand with pen and paper and embed the image in this .ipynb file, or submit a separate pdf file with your handwritten work. Round all decimals to three places.\n",
    "\n",
    "After calculating the quantities by hand, use numpy in cells below to verify your answers.\n",
    "\n",
    "$a = \\begin{bmatrix} 2 \\\\ -1 \\\\ 3 \\end{bmatrix}$\n",
    "\n",
    "$b = \\begin{bmatrix} -4 \\\\ -2 \\\\ 0 \\end{bmatrix}$\n",
    "\n",
    "$c = \\begin{bmatrix} 3 \\\\ 3 \\\\ -3 \\end{bmatrix}$\n",
    "\n",
    "1. Compute $||b+c||$\n",
    "2. Compute $2a + b$\n",
    "3. Compute $c \\cdot a$\n",
    "4. Compute $||\\frac{a}{2} - c||$\n",
    "5. Compute $b \\cdot (a + c)$"
   ]
  },
  {
   "cell_type": "code",
   "execution_count": 2,
   "metadata": {},
   "outputs": [],
   "source": [
    "import numpy as np\n",
    "\n",
    "a = np.array([2, -1, 3])\n",
    "b = np.array([-4, -2, 0])\n",
    "c = np.array([3, 3, -3])"
   ]
  },
  {
   "cell_type": "code",
   "execution_count": null,
   "metadata": {},
   "outputs": [],
   "source": []
  },
  {
   "cell_type": "markdown",
   "metadata": {},
   "source": [
    "# Part 3: Computation by Hand\n",
    "\n",
    "For each of the sub-parts below, you must show all math work/steps (no matter how trivial) to receive full credit. You may either use LaTeX typesetting within a Markdown cell, or do it by hand with pen and paper and embed the image in this .ipynb file, or submit a separate pdf file with your handwritten work. Round all decimals to three places."
   ]
  },
  {
   "cell_type": "markdown",
   "metadata": {},
   "source": [
    "## Part 3.1: Matrix Multiplication (10 points)\n",
    "\n",
    "Using the below matrices, perform the following operations by hand, **then** perform the same operations in your notebook using `numpy`. If an operation cannot be done, still write the code but then comment it out before running and submitting your final .ipynb file.\n",
    "\n",
    "$$A = \\begin{bmatrix}\n",
    "-3 & 8 \\\\\n",
    "0 & 5\n",
    "\\end{bmatrix}$$\n",
    "\n",
    "$$B = \\begin{bmatrix}\n",
    "2 & -7 \\\\\n",
    "6 & -1 \\\\\n",
    "-9 & 4 \\end{bmatrix}$$\n",
    "\n",
    "$$C = \\begin{bmatrix}\n",
    "-6 & 0 & 5 \\\\\n",
    "1 & 3 & -2 \\\\\n",
    "7 & -5 & -8 \\\\\n",
    "4 & 9 & -10\n",
    "\\end{bmatrix}$$\n",
    "\n",
    "$$D = \\begin{bmatrix}\n",
    "-4 & 0 & 3 \\\\\n",
    "8 & -2 & 5 \\\\\n",
    "6 & -3 & 1\n",
    "\\end{bmatrix}$$\n",
    "\n",
    "$$e = \\begin{bmatrix}\n",
    "7 \\\\\n",
    "-8 \\\\\n",
    "10 \\\\\n",
    "-1\n",
    "\\end{bmatrix}$$\n",
    "\n",
    "- $AB^T$\n",
    "- $CD$\n",
    "- $DB$\n",
    "- $Ce$\n",
    "- $e^TC$"
   ]
  },
  {
   "cell_type": "code",
   "execution_count": null,
   "metadata": {},
   "outputs": [],
   "source": []
  },
  {
   "cell_type": "markdown",
   "metadata": {},
   "source": [
    "## Part 3.2: Spans, Linear In/Dependence, Orthogonality (10 points)\n",
    "\n",
    "Based on the following three vectors, answer the ensuing questions, making sure to write out all supporting work with by hand or in a markdown cell. You may use `numpy` to help you check some of your answers, if you wish, but all work must be done by hand and provided for full credit.\n",
    "\n",
    "$$a = \\begin{bmatrix} 8 \\\\ -2 \\end{bmatrix}$$\n",
    "$$b = \\begin{bmatrix} 1 \\\\ 4 \\end{bmatrix}$$\n",
    "$$c = \\begin{bmatrix} -3 \\\\ .75 \\end{bmatrix}$$\n",
    "\n",
    "- What is the span of $a$ and $b$?\n",
    "- What is the span of $a$ and $c$?\n",
    "- Are the vectors $a$ and $b$ linearly independent or dependent?\n",
    "- Is the set of all three vectors linearly independent or dependent?\n",
    "- Which vectors are orthogonal to each other?"
   ]
  },
  {
   "cell_type": "markdown",
   "metadata": {},
   "source": []
  },
  {
   "cell_type": "markdown",
   "metadata": {},
   "source": [
    "## Part 3.3: Projections (5 points)\n",
    "\n",
    "By hand, find the point in the span of $a = \\begin{bmatrix} -1 \\\\ 3 \\end{bmatrix}$ that is closest to $b = \\begin{bmatrix} 0 \\\\ -3 \\end{bmatrix}$. Make sure to show **all** work by hand, even if you use `numpy` to verify your answer. **Also, draw a rough sketch** of the operation, including it either as an embedded image in this notebook or in your separate .pdf file."
   ]
  },
  {
   "cell_type": "code",
   "execution_count": null,
   "metadata": {},
   "outputs": [],
   "source": []
  },
  {
   "cell_type": "markdown",
   "metadata": {},
   "source": [
    "## Part 3.4: Line of Best Fit (10 points)\n",
    "\n",
    "You are interested in if there is a relationship within your friend group between how many siblings they have and how many dates they've been on. You collect the following data from five of your friends:\n",
    "\n",
    "| siblings | dates |\n",
    "|----------|-------|\n",
    "| 0        | 3     |\n",
    "| 2        | 9     |\n",
    "| 1        | 3     |\n",
    "| 0        | 2     |\n",
    "| 4        | 6     |\n",
    "\n",
    "Find the line of best fit, by hand, for the relationship treating number of siblings as the $x$ feature and number of dates as the $y$ feature. Be sure to include an intercept term. You may verify your answer using `numpy`, but must show all work by hand."
   ]
  },
  {
   "cell_type": "code",
   "execution_count": null,
   "metadata": {},
   "outputs": [],
   "source": []
  },
  {
   "cell_type": "markdown",
   "metadata": {},
   "source": [
    "# Part 4: Eigenvalues and Eigenvectors (20 points)\n",
    "\n",
    "Show all math work/steps (no matter how trivial) to receive full credit. You may either use LaTeX typesetting within a Markdown cell, or do it by hand with pen and paper and embed the image in this .ipynb file, or submit a separate pdf file with your handwritten work. Round all decimals to three places.\n",
    "\n",
    "Find the eigenvalues and eigenvectors for the following matrices by hand, **then** find them in your notebook using `numpy`:\n",
    "\n",
    "$$A = \\begin{bmatrix}\n",
    "    -6 & 3 \\\\ 4 & 5\n",
    "\\end{bmatrix}$$\n",
    "\n",
    "$$B = \\begin{bmatrix}\n",
    "    5 & 6 \\\\ 2 & 1\n",
    "\\end{bmatrix}$$\n"
   ]
  },
  {
   "cell_type": "code",
   "execution_count": 5,
   "metadata": {},
   "outputs": [],
   "source": [
    "from sympy import *"
   ]
  },
  {
   "cell_type": "code",
   "execution_count": null,
   "metadata": {},
   "outputs": [],
   "source": []
  },
  {
   "cell_type": "code",
   "execution_count": null,
   "metadata": {},
   "outputs": [],
   "source": []
  },
  {
   "cell_type": "code",
   "execution_count": null,
   "metadata": {},
   "outputs": [],
   "source": []
  }
 ],
 "metadata": {
  "kernelspec": {
   "display_name": "Python 3 (ipykernel)",
   "language": "python",
   "name": "python3"
  },
  "language_info": {
   "codemirror_mode": {
    "name": "ipython",
    "version": 3
   },
   "file_extension": ".py",
   "mimetype": "text/x-python",
   "name": "python",
   "nbconvert_exporter": "python",
   "pygments_lexer": "ipython3",
   "version": "3.11.9"
  }
 },
 "nbformat": 4,
 "nbformat_minor": 4
}
