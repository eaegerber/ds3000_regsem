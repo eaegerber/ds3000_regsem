{
 "cells": [
  {
   "cell_type": "markdown",
   "id": "e52a63c5-8632-42cf-a598-1f9b9fcf118e",
   "metadata": {},
   "source": [
    "# Lab 4 (Due @ by 11:59 pm via Canvas/Gradescope)"
   ]
  },
  {
   "cell_type": "markdown",
   "id": "5a4381c6-9601-4e78-806e-2c06d0aaea20",
   "metadata": {},
   "source": [
    "Your Name:"
   ]
  },
  {
   "cell_type": "markdown",
   "id": "036f3831-9eab-4c04-a0e5-dbe043d32320",
   "metadata": {},
   "source": [
    "Due: Wednesday or Thursday, Nov. 20/21 @ 11:59 pm\n",
    "\n",
    "### Submission Instructions\n",
    "Submit this `ipynb` file to Gradescope (this can also be done via the assignment on Canvas).  To ensure that your submitted `ipynb` file represents your latest code, make sure to give a fresh `Kernel > Restart & Run All` just before uploading the `ipynb` file to gradescope. **In addition:**\n",
    "- Make sure your name is entered above\n",
    "- Make sure you comment your code effectively\n",
    "- If problems are difficult for the TAs/Profs to grade, you will lose points\n",
    "\n",
    "### Tips for success\n",
    "- Collaborate: bounce ideas off of each other, if you are having trouble you can ask your classmates or Dr. Gerber for help with specific issues, however...\n",
    "- Under no circumstances may one student view or share their ungraded homework or quiz with another student [(see also)](http://www.northeastern.edu/osccr/academic-integrity), i.e. you are welcome to **talk about** (*not* show each other your answers to) the problems."
   ]
  },
  {
   "cell_type": "code",
   "execution_count": 11,
   "id": "128c2500-de83-4732-a3ac-78ccdd6094f2",
   "metadata": {},
   "outputs": [],
   "source": [
    "# you might use the below modules on this lab\n",
    "import pandas as pd\n",
    "import numpy as np\n",
    "import matplotlib.pyplot as plt\n",
    "import plotly.express as px\n",
    "from collections import Counter\n",
    "import warnings\n",
    "warnings.simplefilter(action='ignore', category=FutureWarning)\n",
    "from pandas.errors import SettingWithCopyWarning\n",
    "warnings.simplefilter(action='ignore', category=(SettingWithCopyWarning))"
   ]
  },
  {
   "cell_type": "markdown",
   "id": "2df06481-9caf-4254-8e4d-fd80d8c632fd",
   "metadata": {},
   "source": [
    "## Part 1: Read in, Plot and Interpret Data (20 points)\n",
    "\n",
    "Can you use other numeric features of a song to predict which mode (Major or Minor) the song is in? To simplify the problem, and visualize it, we will narrow our set of $x$ features to consist of ($x_1$: energy, $x_2$: key, and $x_3$: loudness). On the Getting to Know You survey from the first week of class, many of you put your favorite song. These have been collected in a Spotify playlist ([link here](https://open.spotify.com/playlist/3lDbfa8bVjjcpJtFIoHBv2?si=bc1a57aa591742cd&nd=1&dlsi=b555927ecc744549)). Spotify also allows you to download detailed information about songs in playlists. Dr. Gerber has done this for you, **scaled the data**, and stored them in his github. Run the first code cell below to read it into this jupyter notebook.\n",
    "\n",
    "After reading in the data, use the `.scatter_3d()` function from `plotly.express` to plot:\n",
    "\n",
    "- `x = 'energy'`\n",
    "- `y = 'key'`\n",
    "- `z = 'loudness'`\n",
    "- `color = 'mode'`\n",
    "\n",
    "This is a function I haven't shown you, so please take a look at the [documentation](https://plotly.com/python-api-reference/generated/plotly.express.scatter_3d).\n",
    "\n",
    "Based on the plot, can you say if there is a 2D plane that will perfectly separate the Major (1) from the Minor (-1) mode songs? Do you think it would still be helpful to create a perceptron decision boundary to help predict if a song is in major or minor mode with these data?\n",
    "\n",
    "**Note** that I've already scaled the data for you and added a bias term in the first column (aren't I nice!)."
   ]
  },
  {
   "cell_type": "code",
   "execution_count": 33,
   "id": "b8ea7387-7ceb-41b5-a0a3-ae5c0c884caf",
   "metadata": {},
   "outputs": [
    {
     "data": {
      "text/html": [
       "<div>\n",
       "<style scoped>\n",
       "    .dataframe tbody tr th:only-of-type {\n",
       "        vertical-align: middle;\n",
       "    }\n",
       "\n",
       "    .dataframe tbody tr th {\n",
       "        vertical-align: top;\n",
       "    }\n",
       "\n",
       "    .dataframe thead th {\n",
       "        text-align: right;\n",
       "    }\n",
       "</style>\n",
       "<table border=\"1\" class=\"dataframe\">\n",
       "  <thead>\n",
       "    <tr style=\"text-align: right;\">\n",
       "      <th></th>\n",
       "      <th>bias</th>\n",
       "      <th>energy</th>\n",
       "      <th>key</th>\n",
       "      <th>loudness</th>\n",
       "      <th>mode</th>\n",
       "      <th>song_title</th>\n",
       "      <th>artist_name</th>\n",
       "    </tr>\n",
       "  </thead>\n",
       "  <tbody>\n",
       "    <tr>\n",
       "      <th>0</th>\n",
       "      <td>1</td>\n",
       "      <td>-0.326724</td>\n",
       "      <td>0.452859</td>\n",
       "      <td>0.669783</td>\n",
       "      <td>-1</td>\n",
       "      <td>DEEP IN THE WATER</td>\n",
       "      <td>Don Toliver</td>\n",
       "    </tr>\n",
       "    <tr>\n",
       "      <th>1</th>\n",
       "      <td>1</td>\n",
       "      <td>0.521290</td>\n",
       "      <td>1.573185</td>\n",
       "      <td>0.527116</td>\n",
       "      <td>-1</td>\n",
       "      <td>Halo</td>\n",
       "      <td>BeyoncÃ©</td>\n",
       "    </tr>\n",
       "    <tr>\n",
       "      <th>2</th>\n",
       "      <td>1</td>\n",
       "      <td>0.885408</td>\n",
       "      <td>1.013022</td>\n",
       "      <td>1.284685</td>\n",
       "      <td>1</td>\n",
       "      <td>OBVIOUS</td>\n",
       "      <td>Fordo</td>\n",
       "    </tr>\n",
       "    <tr>\n",
       "      <th>3</th>\n",
       "      <td>1</td>\n",
       "      <td>-1.299304</td>\n",
       "      <td>1.013022</td>\n",
       "      <td>-1.385809</td>\n",
       "      <td>-1</td>\n",
       "      <td>Stairway to Heaven - Remaster</td>\n",
       "      <td>Led Zeppelin</td>\n",
       "    </tr>\n",
       "    <tr>\n",
       "      <th>4</th>\n",
       "      <td>1</td>\n",
       "      <td>0.209872</td>\n",
       "      <td>-0.947548</td>\n",
       "      <td>0.394105</td>\n",
       "      <td>1</td>\n",
       "      <td>ocd</td>\n",
       "      <td>ericdoa</td>\n",
       "    </tr>\n",
       "  </tbody>\n",
       "</table>\n",
       "</div>"
      ],
      "text/plain": [
       "   bias    energy       key  loudness  mode                     song_title  \\\n",
       "0     1 -0.326724  0.452859  0.669783    -1              DEEP IN THE WATER   \n",
       "1     1  0.521290  1.573185  0.527116    -1                           Halo   \n",
       "2     1  0.885408  1.013022  1.284685     1                        OBVIOUS   \n",
       "3     1 -1.299304  1.013022 -1.385809    -1  Stairway to Heaven - Remaster   \n",
       "4     1  0.209872 -0.947548  0.394105     1                            ocd   \n",
       "\n",
       "    artist_name  \n",
       "0   Don Toliver  \n",
       "1       BeyoncÃ©  \n",
       "2         Fordo  \n",
       "3  Led Zeppelin  \n",
       "4       ericdoa  "
      ]
     },
     "execution_count": 33,
     "metadata": {},
     "output_type": "execute_result"
    }
   ],
   "source": [
    "# this code grabs the data set from Dr. Gerber's github and prints out the first 5 songs in the data set\n",
    "# subsets to only include features of interest and re-sets Mode to be 1 or -1 (was 1 or 0)\n",
    "url = 'https://raw.githubusercontent.com/eaegerber/data/main/ds3000_spotify_scaled.csv'\n",
    "df_spot_raw = pd.read_csv(url)\n",
    "df_spot = df_spot_raw[[\"energy\", \"key\", \"loudness\", \"mode\", \"song_title\", \"artist_name\"]]\n",
    "pd.Series(df_spot['mode']).replace(0, -1, inplace=True)\n",
    "df_spot.insert(loc=0, column='bias', value=1)\n",
    "scale_columns = [\"energy\", \"key\", \"loudness\"]\n",
    "for feat in scale_columns:\n",
    "    df_spot[feat] = (df_spot[feat] - df_spot[feat].mean()) / df_spot[feat].std()\n",
    "\n",
    "df_spot.head()"
   ]
  },
  {
   "cell_type": "code",
   "execution_count": null,
   "id": "f23f3b61-5b08-4348-aa3e-2416c9ad9d9e",
   "metadata": {},
   "outputs": [],
   "source": []
  },
  {
   "cell_type": "markdown",
   "id": "adc586da-fb10-4dcb-9045-5585f6716f3b",
   "metadata": {},
   "source": []
  },
  {
   "cell_type": "markdown",
   "id": "a95c069f-83e1-46ec-a2aa-58c0d804844b",
   "metadata": {},
   "source": [
    "## Part 2: The Perceptron Function (40 points)\n",
    "\n",
    "Complete the function `linear_perceptron()` below (including docstring) which takes as arguments:\n",
    "\n",
    "- `X`: a 2d-array (including bias column of 1s) with columns equal to $x$ features\n",
    "- `y`: a 1d-array of labels (-1 or 1)\n",
    "- `w`: an initial w vector of same dimension as the columns of `X`\n",
    "- `alpha`: the learning rate, with default value of 1\n",
    "- `max_iter`: the maximum number of iterations for the algorithm to run, with default value of `None`\n",
    "    \n",
    "The function should return only `w`, the final weight vector of the perceptron algorithm. To guide you, I have written comments where you can follow some instruction to build the function. If you are confident/know of a better way than what the guide says, feel free to ignore. **YOU MUST IGNORE THE `pass` statement from the function when you're done**.\n",
    "\n",
    "**Also** make sure the assert statement doesn't complain about the test case in the last cell of this part before moving on."
   ]
  },
  {
   "cell_type": "code",
   "execution_count": 35,
   "id": "4d610b9c-98dc-4f69-a9ab-5ecd8aedd507",
   "metadata": {},
   "outputs": [],
   "source": [
    "def linear_perceptron(X, y, w, alpha = 1, max_iter = None):\n",
    "    # Don't forget your docstring!\n",
    "\n",
    "    # I will set up the key parameters of the function and then the while loop\n",
    "    # you are responsible for the rest\n",
    "    runalg = True\n",
    "    i = 0\n",
    "    iter = 0\n",
    "\n",
    "    while runalg:\n",
    "\n",
    "        # for the current i, make the prediction\n",
    "        # check if it is correct\n",
    "        # if not, update w\n",
    "        # add one to i\n",
    "        # if you've just updated the last i (the last observation in the data), add one to iter\n",
    "        # if you've set a max_iter, and if you've REACHED the max_iter, set runalg = False, print w and iter, and break\n",
    "        pass\n",
    "    \n",
    "    return w\n"
   ]
  },
  {
   "cell_type": "code",
   "execution_count": 37,
   "id": "cc28ce28-cedd-4aa7-b05a-411f6638685f",
   "metadata": {},
   "outputs": [
    {
     "name": "stdout",
     "output_type": "stream",
     "text": [
      "Algorithm reached max_iter, final w = [ 4  0 -2]\n",
      "Total number of iterations = 100\n"
     ]
    }
   ],
   "source": [
    "Xtest = np.array([[1, 2, 3], [1, -1, 4], [1, -3, -4], [1, 1, 2]])\n",
    "ytest = np.array([-1, -1, 1, 1])\n",
    "wtest = np.array([0, -1, 1])\n",
    "\n",
    "percept_test = linear_perceptron(Xtest, ytest, wtest, max_iter = 100)\n",
    "\n",
    "expected_result = np.array([4, 0, -2])\n",
    "\n",
    "assert (percept_test == expected_result).all()"
   ]
  },
  {
   "cell_type": "markdown",
   "id": "157a0661-a15f-4457-a428-b6d19921c8e3",
   "metadata": {},
   "source": [
    "## Part 3\n",
    "### Part 3.1: Fitting the Model and Evaluating Accuracy (15 points)\n",
    "\n",
    "Set up the numpy arrays for your `X` and `y` features to predict whether a song is in Major or Minor mode. We'll skip cross validation in the interest of time, but I'll ask you about that in the next part. Use the default `alpha` and set `max_iter=1000`. After fitting the model:\n",
    "\n",
    "- Convert the final $w$ vector to the equation of the 2D plane that represents the decision boundary\n",
    "  - We didn't do this exactly in class, but it should be intuitive\n",
    "- Calculate the accuracy of the model\n",
    "  - You will want to use the final $w$ vector to apply the Heaviside activation function to the data and generate predictions (this should be a simple couple lines of code, but could be made even simpler into one line with NumPy's [.where() function](https://numpy.org/doc/stable/reference/generated/numpy.where.html))"
   ]
  },
  {
   "cell_type": "code",
   "execution_count": null,
   "id": "bc3086aa-fc29-4711-8e41-f8c38810833c",
   "metadata": {},
   "outputs": [],
   "source": []
  },
  {
   "cell_type": "markdown",
   "id": "042d7a1d-ff31-4df0-a662-9ad327758fc0",
   "metadata": {},
   "source": [
    "### Part 3.2: Predicting a New Song (5 points)\n",
    "\n",
    "Dr. Gerber's second favorite song, \"One More Time\" by Daft Punk, is not in the data set and we don't know what mode the song is in. Given the (rounded) vector of information about its energy, key and loudness below, and the final weight vector from the linear perceptron, predict what its mode is. You may do this work by hand (and include it in a .pdf with your submission) or in python.\n",
    "\n",
    "$$\\vec{x}_{omt} = \\begin{bmatrix} 1 \\\\ .5 \\\\ -.83 \\\\ .42 \\end{bmatrix}$$"
   ]
  },
  {
   "cell_type": "code",
   "execution_count": null,
   "id": "59a21d23-7ec1-45fa-ba3a-ff65caf640cb",
   "metadata": {},
   "outputs": [],
   "source": [
    "# you may use this cell to perform the calculation if you do not wish to write it out by hand"
   ]
  },
  {
   "cell_type": "markdown",
   "id": "685535b8-8d2e-4f10-a71a-c924fed462c3",
   "metadata": {},
   "source": [
    "## Part 4: Discuss (20 points)\n",
    "\n",
    "Use the `Counter()` function from the collections module to count how many Major and Minor songs there were in our class playlist, then use a markdown cell to answer the following questions. \n",
    "\n",
    "- If you were going to use a naive guess (instead of ML) by randomly guessing the most common category, how accurate would you be on average? Compare this to how the perceptron algorithm did.\n",
    "- Based on this implementation, does it seem like the ML model does a good job of predicting if a song is in Major or Minor mode?\n",
    "- Would you expect your answer to change if you implemented cross validation (like you really would have in a real project)?\n",
    "- What could you do (or try to do) to improve the model? Remember that all models can be improved!"
   ]
  },
  {
   "cell_type": "code",
   "execution_count": null,
   "id": "8071f9b3-c59b-4a14-bf0e-e4d97eb1f5d2",
   "metadata": {},
   "outputs": [],
   "source": []
  },
  {
   "cell_type": "markdown",
   "id": "f24a693c-ffd4-4b40-82cb-cd12a506d258",
   "metadata": {},
   "source": []
  }
 ],
 "metadata": {
  "kernelspec": {
   "display_name": "Python 3 (ipykernel)",
   "language": "python",
   "name": "python3"
  },
  "language_info": {
   "codemirror_mode": {
    "name": "ipython",
    "version": 3
   },
   "file_extension": ".py",
   "mimetype": "text/x-python",
   "name": "python",
   "nbconvert_exporter": "python",
   "pygments_lexer": "ipython3",
   "version": "3.11.9"
  }
 },
 "nbformat": 4,
 "nbformat_minor": 5
}
