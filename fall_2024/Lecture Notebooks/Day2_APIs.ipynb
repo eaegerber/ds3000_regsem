{
 "cells": [
  {
   "cell_type": "markdown",
   "id": "d20199a7-15c4-43c7-a93a-588e8adfd152",
   "metadata": {},
   "source": [
    "# DS3000 Day 2\n",
    "\n",
    "Sep 11/12, 2023\n",
    "\n",
    "Admin\n",
    "- New modules for today and next week:\n",
    "    - `pip install requests plotly matplotlib`\n",
    "- Homework 1 due next Tues, Sep 17 by end of the day\n",
    "    - submit by Sunday night to get 5\\% extra credit\n",
    "\n",
    "Push-Up Tracker\n",
    "- Section 03: 2\n",
    "- Section 05: 1\n",
    "\n",
    "Content\n",
    "- pandas (last part of Day 1 lecture)\n",
    "- introduce APIs"
   ]
  },
  {
   "cell_type": "markdown",
   "id": "10e5a8e3-a6d0-4766-8efa-8174ae1ff3b3",
   "metadata": {},
   "source": [
    "# Basic tools in preparation for APIs\n",
    "\n",
    "The `requests` module comes into play soon. While you may have installed it in the terminal earlier, it is actually a [magic](https://ipython.readthedocs.io/en/stable/interactive/magics.html#magic-pip) command, which means it can be installed directly from jupyter (should you ever need to install it again, or if you had difficulty installing it earlier)."
   ]
  },
  {
   "cell_type": "code",
   "execution_count": 1,
   "id": "8d7f5a55-8542-427b-8624-73c7e29ee552",
   "metadata": {},
   "outputs": [],
   "source": [
    "#pip install requests"
   ]
  },
  {
   "cell_type": "markdown",
   "id": "45722843-745f-4b23-909a-79b005269c05",
   "metadata": {},
   "source": [
    "## Building a DataFrame row by row\n",
    "\n",
    "We often get data in chunks (web scraping / API calls).  We'll need to store our data incrementally:"
   ]
  },
  {
   "cell_type": "code",
   "execution_count": 2,
   "id": "b041319e-116c-42fa-9c88-f1d6681a608d",
   "metadata": {},
   "outputs": [
    {
     "data": {
      "text/html": [
       "<div>\n",
       "<style scoped>\n",
       "    .dataframe tbody tr th:only-of-type {\n",
       "        vertical-align: middle;\n",
       "    }\n",
       "\n",
       "    .dataframe tbody tr th {\n",
       "        vertical-align: top;\n",
       "    }\n",
       "\n",
       "    .dataframe thead th {\n",
       "        text-align: right;\n",
       "    }\n",
       "</style>\n",
       "<table border=\"1\" class=\"dataframe\">\n",
       "  <thead>\n",
       "    <tr style=\"text-align: right;\">\n",
       "      <th></th>\n",
       "      <th>a</th>\n",
       "      <th>b</th>\n",
       "      <th>c</th>\n",
       "    </tr>\n",
       "  </thead>\n",
       "  <tbody>\n",
       "    <tr>\n",
       "      <th>0</th>\n",
       "      <td>1</td>\n",
       "      <td>2</td>\n",
       "      <td>3</td>\n",
       "    </tr>\n",
       "    <tr>\n",
       "      <th>0</th>\n",
       "      <td>4</td>\n",
       "      <td>3874</td>\n",
       "      <td>398</td>\n",
       "    </tr>\n",
       "  </tbody>\n",
       "</table>\n",
       "</div>"
      ],
      "text/plain": [
       "   a     b    c\n",
       "0  1     2    3\n",
       "0  4  3874  398"
      ]
     },
     "execution_count": 2,
     "metadata": {},
     "output_type": "execute_result"
    }
   ],
   "source": [
    "import pandas as pd\n",
    "\n",
    "dict_list = [{'a': 1, 'b': 2, 'c': 3},\n",
    "             {'a': 4, 'b': 3874, 'c': 398}]\n",
    "\n",
    "df = pd.DataFrame()\n",
    "\n",
    "for d in dict_list:\n",
    "    df = pd.concat([df, pd.Series(d).to_frame().T])\n",
    "    \n",
    "df"
   ]
  },
  {
   "cell_type": "code",
   "execution_count": 3,
   "id": "087aee01-9f30-421a-87f1-54e12b8dbd02",
   "metadata": {},
   "outputs": [
    {
     "data": {
      "text/html": [
       "<div>\n",
       "<style scoped>\n",
       "    .dataframe tbody tr th:only-of-type {\n",
       "        vertical-align: middle;\n",
       "    }\n",
       "\n",
       "    .dataframe tbody tr th {\n",
       "        vertical-align: top;\n",
       "    }\n",
       "\n",
       "    .dataframe thead th {\n",
       "        text-align: right;\n",
       "    }\n",
       "</style>\n",
       "<table border=\"1\" class=\"dataframe\">\n",
       "  <thead>\n",
       "    <tr style=\"text-align: right;\">\n",
       "      <th></th>\n",
       "      <th>a</th>\n",
       "      <th>b</th>\n",
       "      <th>c</th>\n",
       "    </tr>\n",
       "  </thead>\n",
       "  <tbody>\n",
       "    <tr>\n",
       "      <th>first</th>\n",
       "      <td>1</td>\n",
       "      <td>2</td>\n",
       "      <td>3</td>\n",
       "    </tr>\n",
       "    <tr>\n",
       "      <th>second</th>\n",
       "      <td>4</td>\n",
       "      <td>3874</td>\n",
       "      <td>398</td>\n",
       "    </tr>\n",
       "  </tbody>\n",
       "</table>\n",
       "</div>"
      ],
      "text/plain": [
       "        a     b    c\n",
       "first   1     2    3\n",
       "second  4  3874  398"
      ]
     },
     "execution_count": 3,
     "metadata": {},
     "output_type": "execute_result"
    }
   ],
   "source": [
    "# to include index names\n",
    "list_dict = [{'a': 1, 'b': 2, 'c': 3},\n",
    "            {'a': 4, 'b': 3874, 'c': 398}]\n",
    "\n",
    "name_list = ['first', 'second']\n",
    "\n",
    "df = pd.DataFrame()\n",
    "for idx in range(2):\n",
    "    # extract dictionary & name\n",
    "    d = list_dict[idx]\n",
    "    name = name_list[idx]\n",
    "    \n",
    "    # build series and name it\n",
    "    series = pd.Series(d, name=name)\n",
    "    \n",
    "    df = pd.concat([df, series.to_frame().T])\n",
    "    \n",
    "df"
   ]
  },
  {
   "cell_type": "markdown",
   "id": "f397a3ee-34c8-4a78-93c6-397c1b335ddd",
   "metadata": {},
   "source": [
    "# Timestamps\n",
    "\n",
    "Many datasets include a timestamp, or include a date/time as a feature in the dataset. Understanding how to deal with these can be important! We actually already used pandas `.to_datetime()` function with the Korean Demographics data to cast strings to `datetime` objects. We'll look a few time highlights which will come in handy on Homework 2.\n",
    "\n",
    "## Unix Time\n",
    "\n",
    "- [UTC](https://en.wikipedia.org/wiki/Coordinated_Universal_Time) Coordinated Universal Time\n",
    "    - time zone at 0 deg longitude\n",
    "        - how is 0 deg longitude defined?  \n",
    "            - A succesfully warring empire (United Kingdom) chose it \n",
    "                - (It would be convenient if a metric system loving empire had been more successful at war ...)\n",
    "- [Unix Time](https://en.wikipedia.org/wiki/Unix_time) is The number of seconds which have passed since 00:00:00 UTC on 1 Jan 1970 (ignoring leap seconds)\n",
    "- UTC is time zone agnostic \n",
    "    - (more on this next lesson...)\n",
    "\n",
    "## Python's `datetime`, `timedelta`, and pytz\n",
    "- helpful for all those pesky unit conversions"
   ]
  },
  {
   "cell_type": "code",
   "execution_count": 4,
   "id": "942f67d2-2f9d-4691-8fad-83f8a2862979",
   "metadata": {},
   "outputs": [
    {
     "data": {
      "text/plain": [
       "datetime.datetime(2021, 2, 14, 2, 0)"
      ]
     },
     "execution_count": 4,
     "metadata": {},
     "output_type": "execute_result"
    }
   ],
   "source": [
    "from datetime import datetime, timedelta\n",
    "\n",
    "# would you believe that the below is exactly 2 am on Valentine's Day 2021?\n",
    "utc_example = 1613286000\n",
    "\n",
    "# assumes the time zone of the machine its running on!\n",
    "dt0 = datetime.fromtimestamp(utc_example)\n",
    "dt0"
   ]
  },
  {
   "cell_type": "code",
   "execution_count": 5,
   "id": "b4f34bc6-5e56-4709-b674-2d039f4c9c18",
   "metadata": {},
   "outputs": [],
   "source": [
    "date1 = datetime.strptime('Today is the 25th', 'Today is the %dth')"
   ]
  },
  {
   "cell_type": "code",
   "execution_count": 6,
   "id": "e0e4d27e-8a72-48a9-b8bf-78ebb4b31415",
   "metadata": {},
   "outputs": [
    {
     "data": {
      "text/plain": [
       "datetime.datetime(1900, 4, 25, 0, 0)"
      ]
     },
     "execution_count": 6,
     "metadata": {},
     "output_type": "execute_result"
    }
   ],
   "source": [
    "date1 + timedelta(days = 90)"
   ]
  },
  {
   "cell_type": "code",
   "execution_count": 7,
   "id": "9cea1c39-022d-4d64-b8be-cee6f371b56e",
   "metadata": {},
   "outputs": [],
   "source": [
    "str1 = \"September 25\"\n",
    "str2 = \"10 am\""
   ]
  },
  {
   "cell_type": "code",
   "execution_count": 8,
   "id": "79fac308-e542-478d-ade1-8e184fbef2ef",
   "metadata": {},
   "outputs": [
    {
     "data": {
      "text/plain": [
       "datetime.datetime(1900, 9, 25, 10, 0)"
      ]
     },
     "execution_count": 8,
     "metadata": {},
     "output_type": "execute_result"
    }
   ],
   "source": [
    "newdate = datetime.strptime(str1 + ' ' + str2, '%B %d %H %p')\n",
    "newdate"
   ]
  },
  {
   "cell_type": "code",
   "execution_count": 9,
   "id": "479bf102-02cd-4f32-ad99-4241502309b1",
   "metadata": {},
   "outputs": [
    {
     "data": {
      "text/plain": [
       "datetime.datetime(2023, 9, 25, 10, 0)"
      ]
     },
     "execution_count": 9,
     "metadata": {},
     "output_type": "execute_result"
    }
   ],
   "source": [
    "newnewdate = datetime(year = 2023, month = newdate.month, day = newdate.day, hour = newdate.hour)\n",
    "newnewdate"
   ]
  },
  {
   "cell_type": "code",
   "execution_count": 10,
   "id": "a89d59b7-8a0d-49d2-89a3-8ad40048f671",
   "metadata": {},
   "outputs": [],
   "source": [
    "import pytz\n",
    "tz_mali = pytz.timezone(\"Africa/Timbuktu\")\n",
    "inmali = tz_mali.localize(newnewdate)"
   ]
  },
  {
   "cell_type": "code",
   "execution_count": 11,
   "id": "cd2652ce-6850-445f-a26a-907e06393b29",
   "metadata": {},
   "outputs": [
    {
     "data": {
      "text/plain": [
       "datetime.datetime(2023, 9, 25, 5, 0, tzinfo=<StaticTzInfo 'EST'>)"
      ]
     },
     "execution_count": 11,
     "metadata": {},
     "output_type": "execute_result"
    }
   ],
   "source": [
    "tz_est = pytz.timezone(\"EST\")\n",
    "inmali.astimezone(tz_est)"
   ]
  },
  {
   "cell_type": "code",
   "execution_count": 12,
   "id": "1e729ddd-54af-474b-926d-42212357becb",
   "metadata": {},
   "outputs": [
    {
     "data": {
      "text/plain": [
       "datetime.datetime(2024, 9, 11, 14, 18, 50, 510499)"
      ]
     },
     "execution_count": 12,
     "metadata": {},
     "output_type": "execute_result"
    }
   ],
   "source": [
    "# what about right.... now?\n",
    "dt1 = datetime.now()\n",
    "dt1"
   ]
  },
  {
   "cell_type": "code",
   "execution_count": 13,
   "id": "533371e7-abc1-4249-9041-556b99b6d55a",
   "metadata": {},
   "outputs": [
    {
     "data": {
      "text/plain": [
       "datetime.datetime(2031, 4, 15, 9, 26, 53)"
      ]
     },
     "execution_count": 13,
     "metadata": {},
     "output_type": "execute_result"
    }
   ],
   "source": [
    "# we can set future dates as well\n",
    "dt2 = datetime(year=2031, month=4, day=15, hour=9, minute=26, second=53)\n",
    "dt2"
   ]
  },
  {
   "cell_type": "code",
   "execution_count": 14,
   "id": "ee47bc49-2c9e-4adc-adbb-c83d7b369426",
   "metadata": {},
   "outputs": [
    {
     "data": {
      "text/plain": [
       "(4, 15)"
      ]
     },
     "execution_count": 14,
     "metadata": {},
     "output_type": "execute_result"
    }
   ],
   "source": [
    "# we can access meaningful date attributes of a datetime object\n",
    "# year, month, day, hour, minute, second\n",
    "dt2.month, dt2.day"
   ]
  },
  {
   "cell_type": "code",
   "execution_count": 15,
   "id": "844fca98-f9d6-4281-87df-1094c763c1f3",
   "metadata": {},
   "outputs": [
    {
     "name": "stdout",
     "output_type": "stream",
     "text": [
      "2031-04-15 09:26:53\n",
      "2031-04-20 11:56:32\n"
     ]
    }
   ],
   "source": [
    "# we can add / subtract timedelta objects\n",
    "offset = timedelta(days=5, seconds=8979)\n",
    "\n",
    "print(dt2)\n",
    "print(dt2 + offset)"
   ]
  },
  {
   "cell_type": "code",
   "execution_count": 16,
   "id": "bac7fb4b-fdc5-43d8-b907-0f866cd69a5f",
   "metadata": {},
   "outputs": [
    {
     "data": {
      "text/plain": [
       "datetime.datetime(2022, 9, 30, 3, 20)"
      ]
     },
     "execution_count": 16,
     "metadata": {},
     "output_type": "execute_result"
    }
   ],
   "source": [
    "# use strptime to take the time from strings contain other words\n",
    "datetime.strptime('the time is now: September-30-2022 3:20 PM', 'the time is now: %B-%d-%Y %H:%M %p')"
   ]
  },
  {
   "cell_type": "code",
   "execution_count": 17,
   "id": "98d7035b-6bf0-462f-b3f0-5aac70a458b8",
   "metadata": {},
   "outputs": [
    {
     "data": {
      "text/plain": [
       "'the time is now: September-11-2024 14:18 PM'"
      ]
     },
     "execution_count": 17,
     "metadata": {},
     "output_type": "execute_result"
    }
   ],
   "source": [
    "# use strftime to cast a time to a string that contains other words\n",
    "# https://docs.python.org/3/library/datetime.html#strftime-and-strptime-format-codes\n",
    "s = datetime.now().strftime('the time is now: %B-%d-%Y %H:%M %p')\n",
    "s"
   ]
  },
  {
   "cell_type": "code",
   "execution_count": 18,
   "id": "c5420f80-3d5e-4974-ab58-15d777a199b5",
   "metadata": {},
   "outputs": [
    {
     "data": {
      "text/plain": [
       "{'hour': 14, 'minute': 18}"
      ]
     },
     "execution_count": 18,
     "metadata": {},
     "output_type": "execute_result"
    }
   ],
   "source": [
    "# you can save useful time info in a dictionary (which could then become a series -> data frame)\n",
    "dt = datetime.now()\n",
    "{'hour': dt.hour,\n",
    "'minute': dt.minute}"
   ]
  },
  {
   "cell_type": "code",
   "execution_count": 19,
   "id": "0dc570b9-0d22-4e95-8541-746162499f3b",
   "metadata": {},
   "outputs": [
    {
     "name": "stdout",
     "output_type": "stream",
     "text": [
      "1064331410.565581\n"
     ]
    },
    {
     "data": {
      "text/plain": [
       "1.064331410565581"
      ]
     },
     "execution_count": 19,
     "metadata": {},
     "output_type": "execute_result"
    }
   ],
   "source": [
    "# you can figure out how old you are in seconds\n",
    "eric_age = (datetime.now() - datetime(year=1990, month=12, day=20, hour=22, minute=42)).total_seconds()\n",
    "print(eric_age)\n",
    "# put it in billions (it wasn't too long ago that I turned 1 billion!)\n",
    "eric_age/ 1e09"
   ]
  },
  {
   "cell_type": "markdown",
   "id": "e722b8f5-c7d9-4511-be38-14d7adca6a83",
   "metadata": {},
   "source": [
    "# API\n",
    "###  Definitions\n",
    "**API** Application Program Interface\n",
    " - a server which gives out data (often over the internet)\n",
    " - note: 'API', in general, refers to the barrier between two pieces of software:\n",
    "     - in this case, the server which hosts data & our own software which requests it\n",
    " \n",
    " \n",
    " **JSON** JavaScript Object Notation\n",
    "  - a method of storing objects as text\n",
    "  - much like the nested dictionaries ... JSON and similar formats are often trees\n",
    "\n",
    "## OpenWeather API\n",
    "What information does this offer?\n",
    "\n",
    "[https://openweathermap.org/api](https://openweathermap.org/api)\n",
    "\n",
    "How do I get ready to use it?\n",
    "- sign up for an account\n",
    "    - [https://home.openweathermap.org/users/sign_up](https://home.openweathermap.org/users/sign_up)\n",
    "- get an api key (my key was emailed to me with my confirmation of account)\n",
    "    - [https://home.openweathermap.org/api_keys](https://home.openweathermap.org/api_keys)\n",
    "        \n",
    "Think of APIs as a hybrid of a website and a function.  Its a website where your query is stored in the address:\n",
    "    \n",
    "    https://api.openweathermap.org/data/3.0/onecall?lat=42.3601&lon=-71.0589&appid=YOUR-API-KEY-HERE-THIS-WONT-WORK&units=imperial\n",
    "    \n",
    "The result is a JSON object, which we can quickly convert to our dictionary of dictionary tree format."
   ]
  },
  {
   "cell_type": "code",
   "execution_count": 20,
   "id": "e16881ff-8d07-4ec4-99d7-eacec94851c9",
   "metadata": {},
   "outputs": [
    {
     "name": "stdout",
     "output_type": "stream",
     "text": [
      "https://api.openweathermap.org/data/3.0/onecall?lat=42.3601&lon=-71.0589&appid=d36fa352ac73226b30772f64675f41bb&units=imperial\n"
     ]
    }
   ],
   "source": [
    "# todo: swap this out\n",
    "api_key = 'd36fa352ac73226b30772f64675f41bb'\n",
    "\n",
    "# north = positive, south = negative\n",
    "lat = 42.3601\n",
    "# west = positive, east = negative\n",
    "lon = -71.0589\n",
    "\n",
    "units = 'imperial'\n",
    "url = f'https://api.openweathermap.org/data/3.0/onecall?lat={lat}&lon={lon}&appid={api_key}&units={units}'\n",
    "print(url)"
   ]
  },
  {
   "cell_type": "code",
   "execution_count": 21,
   "id": "9369d035-0c42-4262-8052-2a4ffba91899",
   "metadata": {},
   "outputs": [
    {
     "data": {
      "text/plain": [
       "'{\"lat\":42.3601,\"lon\":-71.0589,\"timezone\":\"America/New_York\",\"timezone_offset\":-14400,\"current\":{\"dt\":1726078730,\"sunrise\":1726050032,\"sunset\":1726095670,\"temp\":76.44,\"feels_like\":75.47,\"pressure\":1021,\"humidity\":36,\"dew_point\":47.53,\"uvi\":4.74,\"clouds\":10,\"visibility\":10000,\"wind_speed\":5.99,\"wind_deg\":113,\"wind_gust\":11.99,\"weather\":[{\"id\":800,\"main\":\"Clear\",\"description\":\"clear sky\",\"icon\":\"01d\"}]},\"minutely\":[{\"dt\":1726078740,\"precipitation\":0},{\"dt\":1726078800,\"precipitation\":0},{\"dt\":1726078860,\"precipitation\":0},{\"dt\":1726078920,\"precipitation\":0},{\"dt\":1726078980,\"precipitation\":0},{\"dt\":1726079040,\"precipitation\":0},{\"dt\":1726079100,\"precipitation\":0},{\"dt\":1726079160,\"precipitation\":0},{\"dt\":1726079220,\"precipitation\":0},{\"dt\":1726079280,\"precipitation\":0},{\"dt\":1726079340,\"precipitation\":0},{\"dt\":1726079400,\"precipitation\":0},{\"dt\":1726079460,\"precipitation\":0},{\"dt\":1726079520,\"precipitation\":0},{\"dt\":1726079580,\"precipitation\":0},{\"dt\":1726079640,\"precipitation\":0},{\"dt\":1726079700,\"precipitation\":0},{\"dt\":1726079760,\"precipitation\":0},{\"dt\":1726079820,\"precipitation\":0},{\"dt\":1726079880,\"precipitation\":0},{\"dt\":1726079940,\"precipitation\":0},{\"dt\":1726080000,\"precipitation\":0},{\"dt\":1726080060,\"precipitation\":0},{\"dt\":1726080120,\"precipitation\":0},{\"dt\":1726080180,\"precipitation\":0},{\"dt\":1726080240,\"precipitation\":0},{\"dt\":1726080300,\"precipitation\":0},{\"dt\":1726080360,\"precipitation\":0},{\"dt\":1726080420,\"precipitation\":0},{\"dt\":1726080480,\"precipitation\":0},{\"dt\":1726080540,\"precipitation\":0},{\"dt\":1726080600,\"precipitation\":0},{\"dt\":1726080660,\"precipitation\":0},{\"dt\":1726080720,\"precipitation\":0},{\"dt\":1726080780,\"precipitation\":0},{\"dt\":1726080840,\"precipitation\":0},{\"dt\":1726080900,\"precipitation\":0},{\"dt\":1726080960,\"precipitation\":0},{\"dt\":1726081020,\"precipitation\":0},{\"dt\":1726081080,\"precipitation\":0},{\"dt\":1726081140,\"precipitation\":0},{\"dt\":1726081200,\"precipitation\":0},{\"dt\":1726081260,\"precipitation\":0},{\"dt\":1726081320,\"precipitation\":0},{\"dt\":1726081380,\"precipitation\":0},{\"dt\":1726081440,\"precipitation\":0},{\"dt\":1726081500,\"precipitation\":0},{\"dt\":1726081560,\"precipitation\":0},{\"dt\":1726081620,\"precipitation\":0},{\"dt\":1726081680,\"precipitation\":0},{\"dt\":1726081740,\"precipitation\":0},{\"dt\":1726081800,\"precipitation\":0},{\"dt\":1726081860,\"precipitation\":0},{\"dt\":1726081920,\"precipitation\":0},{\"dt\":1726081980,\"precipitation\":0},{\"dt\":1726082040,\"precipitation\":0},{\"dt\":1726082100,\"precipitation\":0},{\"dt\":1726082160,\"precipitation\":0},{\"dt\":1726082220,\"precipitation\":0},{\"dt\":1726082280,\"precipitation\":0}],\"hourly\":[{\"dt\":1726077600,\"temp\":76.44,\"feels_like\":75.47,\"pressure\":1021,\"humidity\":36,\"dew_point\":47.53,\"uvi\":4.74,\"clouds\":10,\"visibility\":10000,\"wind_speed\":3.87,\"wind_deg\":117,\"wind_gust\":5.35,\"weather\":[{\"id\":800,\"main\":\"Clear\",\"description\":\"clear sky\",\"icon\":\"01d\"}],\"pop\":0},{\"dt\":1726081200,\"temp\":76.87,\"feels_like\":75.87,\"pressure\":1021,\"humidity\":34,\"dew_point\":46.4,\"uvi\":3.63,\"clouds\":9,\"visibility\":10000,\"wind_speed\":5.26,\"wind_deg\":123,\"wind_gust\":5.68,\"weather\":[{\"id\":800,\"main\":\"Clear\",\"description\":\"clear sky\",\"icon\":\"01d\"}],\"pop\":0},{\"dt\":1726084800,\"temp\":76.64,\"feels_like\":75.6,\"pressure\":1021,\"humidity\":34,\"dew_point\":46.2,\"uvi\":2.08,\"clouds\":24,\"visibility\":10000,\"wind_speed\":6.33,\"wind_deg\":125,\"wind_gust\":7.16,\"weather\":[{\"id\":801,\"main\":\"Clouds\",\"description\":\"few clouds\",\"icon\":\"02d\"}],\"pop\":0},{\"dt\":1726088400,\"temp\":75.61,\"feels_like\":74.48,\"pressure\":1021,\"humidity\":34,\"dew_point\":45.3,\"uvi\":0.93,\"clouds\":35,\"visibility\":10000,\"wind_speed\":6.87,\"wind_deg\":124,\"wind_gust\":8.95,\"weather\":[{\"id\":802,\"main\":\"Clouds\",\"description\":\"scattered clouds\",\"icon\":\"03d\"}],\"pop\":0},{\"dt\":1726092000,\"temp\":73.47,\"feels_like\":72.36,\"pressure\":1021,\"humidity\":39,\"dew_point\":47.03,\"uvi\":0.26,\"clouds\":36,\"visibility\":10000,\"wind_speed\":7.96,\"wind_deg\":128,\"wind_gust\":12.3,\"weather\":[{\"id\":802,\"main\":\"Clouds\",\"description\":\"scattered clouds\",\"icon\":\"03d\"}],\"pop\":0},{\"dt\":1726095600,\"temp\":68.83,\"feels_like\":67.66,\"pressure\":1021,\"humidity\":48,\"dew_point\":48.27,\"uvi\":0,\"clouds\":36,\"visibility\":10000,\"wind_speed\":7.07,\"wind_deg\":149,\"wind_gust\":18.14,\"weather\":[{\"id\":802,\"main\":\"Clouds\",\"description\":\"scattered clouds\",\"icon\":\"03d\"}],\"pop\":0},{\"dt\":1726099200,\"temp\":66.97,\"feels_like\":65.77,\"pressure\":1022,\"humidity\":51,\"dew_point\":48.47,\"uvi\":0,\"clouds\":31,\"visibility\":10000,\"wind_speed\":7.43,\"wind_deg\":176,\"wind_gust\":17.96,\"weather\":[{\"id\":802,\"main\":\"Clouds\",\"description\":\"scattered clouds\",\"icon\":\"03n\"}],\"pop\":0},{\"dt\":1726102800,\"temp\":65.5,\"feels_like\":64.18,\"pressure\":1022,\"humidity\":52,\"dew_point\":47.41,\"uvi\":0,\"clouds\":12,\"visibility\":10000,\"wind_speed\":6.85,\"wind_deg\":192,\"wind_gust\":18.16,\"weather\":[{\"id\":801,\"main\":\"Clouds\",\"description\":\"few clouds\",\"icon\":\"02n\"}],\"pop\":0},{\"dt\":1726106400,\"temp\":63.75,\"feels_like\":62.42,\"pressure\":1022,\"humidity\":55,\"dew_point\":47.34,\"uvi\":0,\"clouds\":10,\"visibility\":10000,\"wind_speed\":6.42,\"wind_deg\":199,\"wind_gust\":17.63,\"weather\":[{\"id\":800,\"main\":\"Clear\",\"description\":\"clear sky\",\"icon\":\"01n\"}],\"pop\":0},{\"dt\":1726110000,\"temp\":62.46,\"feels_like\":61.03,\"pressure\":1023,\"humidity\":56,\"dew_point\":46.76,\"uvi\":0,\"clouds\":10,\"visibility\":10000,\"wind_speed\":6.06,\"wind_deg\":208,\"wind_gust\":18.05,\"weather\":[{\"id\":800,\"main\":\"Clear\",\"description\":\"clear sky\",\"icon\":\"01n\"}],\"pop\":0},{\"dt\":1726113600,\"temp\":61.27,\"feels_like\":59.72,\"pressure\":1023,\"humidity\":56,\"dew_point\":45.66,\"uvi\":0,\"clouds\":10,\"visibility\":10000,\"wind_speed\":5.64,\"wind_deg\":214,\"wind_gust\":17.05,\"weather\":[{\"id\":800,\"main\":\"Clear\",\"description\":\"clear sky\",\"icon\":\"01n\"}],\"pop\":0},{\"dt\":1726117200,\"temp\":60.37,\"feels_like\":58.78,\"pressure\":1023,\"humidity\":57,\"dew_point\":45.1,\"uvi\":0,\"clouds\":8,\"visibility\":10000,\"wind_speed\":5.06,\"wind_deg\":219,\"wind_gust\":14.92,\"weather\":[{\"id\":800,\"main\":\"Clear\",\"description\":\"clear sky\",\"icon\":\"01n\"}],\"pop\":0},{\"dt\":1726120800,\"temp\":59.54,\"feels_like\":57.97,\"pressure\":1023,\"humidity\":59,\"dew_point\":45.28,\"uvi\":0,\"clouds\":8,\"visibility\":10000,\"wind_speed\":4.72,\"wind_deg\":223,\"wind_gust\":12.75,\"weather\":[{\"id\":800,\"main\":\"Clear\",\"description\":\"clear sky\",\"icon\":\"01n\"}],\"pop\":0},{\"dt\":1726124400,\"temp\":58.98,\"feels_like\":57.49,\"pressure\":1023,\"humidity\":62,\"dew_point\":45.77,\"uvi\":0,\"clouds\":13,\"visibility\":10000,\"wind_speed\":4.52,\"wind_deg\":232,\"wind_gust\":11.86,\"weather\":[{\"id\":801,\"main\":\"Clouds\",\"description\":\"few clouds\",\"icon\":\"02n\"}],\"pop\":0},{\"dt\":1726128000,\"temp\":58.5,\"feels_like\":57.06,\"pressure\":1023,\"humidity\":64,\"dew_point\":46.13,\"uvi\":0,\"clouds\":13,\"visibility\":10000,\"wind_speed\":4.63,\"wind_deg\":232,\"wind_gust\":11.77,\"weather\":[{\"id\":801,\"main\":\"Clouds\",\"description\":\"few clouds\",\"icon\":\"02n\"}],\"pop\":0},{\"dt\":1726131600,\"temp\":58.1,\"feels_like\":56.66,\"pressure\":1024,\"humidity\":65,\"dew_point\":46.31,\"uvi\":0,\"clouds\":13,\"visibility\":10000,\"wind_speed\":4.63,\"wind_deg\":229,\"wind_gust\":10.27,\"weather\":[{\"id\":801,\"main\":\"Clouds\",\"description\":\"few clouds\",\"icon\":\"02n\"}],\"pop\":0},{\"dt\":1726135200,\"temp\":57.6,\"feels_like\":56.21,\"pressure\":1024,\"humidity\":67,\"dew_point\":46.36,\"uvi\":0,\"clouds\":12,\"visibility\":10000,\"wind_speed\":4.59,\"wind_deg\":228,\"wind_gust\":9.44,\"weather\":[{\"id\":801,\"main\":\"Clouds\",\"description\":\"few clouds\",\"icon\":\"02n\"}],\"pop\":0},{\"dt\":1726138800,\"temp\":58.51,\"feels_like\":57.13,\"pressure\":1024,\"humidity\":65,\"dew_point\":46.63,\"uvi\":0,\"clouds\":11,\"visibility\":10000,\"wind_speed\":4.21,\"wind_deg\":226,\"wind_gust\":9.55,\"weather\":[{\"id\":801,\"main\":\"Clouds\",\"description\":\"few clouds\",\"icon\":\"02d\"}],\"pop\":0},{\"dt\":1726142400,\"temp\":63.55,\"feels_like\":62.19,\"pressure\":1024,\"humidity\":55,\"dew_point\":46.98,\"uvi\":0.49,\"clouds\":10,\"visibility\":10000,\"wind_speed\":4.72,\"wind_deg\":228,\"wind_gust\":8.43,\"weather\":[{\"id\":800,\"main\":\"Clear\",\"description\":\"clear sky\",\"icon\":\"01d\"}],\"pop\":0},{\"dt\":1726146000,\"temp\":68.85,\"feels_like\":67.64,\"pressure\":1024,\"humidity\":47,\"dew_point\":47.73,\"uvi\":1.35,\"clouds\":8,\"visibility\":10000,\"wind_speed\":4.83,\"wind_deg\":222,\"wind_gust\":8.52,\"weather\":[{\"id\":800,\"main\":\"Clear\",\"description\":\"clear sky\",\"icon\":\"01d\"}],\"pop\":0},{\"dt\":1726149600,\"temp\":73.4,\"feels_like\":72.32,\"pressure\":1024,\"humidity\":40,\"dew_point\":47.39,\"uvi\":2.53,\"clouds\":9,\"visibility\":10000,\"wind_speed\":5.57,\"wind_deg\":212,\"wind_gust\":8.88,\"weather\":[{\"id\":800,\"main\":\"Clear\",\"description\":\"clear sky\",\"icon\":\"01d\"}],\"pop\":0},{\"dt\":1726153200,\"temp\":76.96,\"feels_like\":75.96,\"pressure\":1024,\"humidity\":34,\"dew_point\":46.35,\"uvi\":4.01,\"clouds\":8,\"visibility\":10000,\"wind_speed\":5.99,\"wind_deg\":208,\"wind_gust\":8.81,\"weather\":[{\"id\":800,\"main\":\"Clear\",\"description\":\"clear sky\",\"icon\":\"01d\"}],\"pop\":0},{\"dt\":1726156800,\"temp\":79.63,\"feels_like\":79.63,\"pressure\":1024,\"humidity\":30,\"dew_point\":45.45,\"uvi\":5.22,\"clouds\":9,\"visibility\":10000,\"wind_speed\":6.35,\"wind_deg\":203,\"wind_gust\":8.77,\"weather\":[{\"id\":800,\"main\":\"Clear\",\"description\":\"clear sky\",\"icon\":\"01d\"}],\"pop\":0},{\"dt\":1726160400,\"temp\":81.72,\"feels_like\":80.08,\"pressure\":1023,\"humidity\":27,\"dew_point\":45.01,\"uvi\":5.51,\"clouds\":12,\"visibility\":10000,\"wind_speed\":6.17,\"wind_deg\":199,\"wind_gust\":8.46,\"weather\":[{\"id\":801,\"main\":\"Clouds\",\"description\":\"few clouds\",\"icon\":\"02d\"}],\"pop\":0},{\"dt\":1726164000,\"temp\":82.63,\"feels_like\":80.64,\"pressure\":1023,\"humidity\":26,\"dew_point\":45.16,\"uvi\":4.88,\"clouds\":21,\"visibility\":10000,\"wind_speed\":6.06,\"wind_deg\":196,\"wind_gust\":8.68,\"weather\":[{\"id\":801,\"main\":\"Clouds\",\"description\":\"few clouds\",\"icon\":\"02d\"}],\"pop\":0},{\"dt\":1726167600,\"temp\":83.21,\"feels_like\":81.12,\"pressure\":1022,\"humidity\":27,\"dew_point\":45.61,\"uvi\":3.51,\"clouds\":92,\"visibility\":10000,\"wind_speed\":5.88,\"wind_deg\":200,\"wind_gust\":8.72,\"weather\":[{\"id\":804,\"main\":\"Clouds\",\"description\":\"overcast clouds\",\"icon\":\"04d\"}],\"pop\":0},{\"dt\":1726171200,\"temp\":83.44,\"feels_like\":81.3,\"pressure\":1022,\"humidity\":27,\"dew_point\":46.18,\"uvi\":1.83,\"clouds\":62,\"visibility\":10000,\"wind_speed\":7,\"wind_deg\":211,\"wind_gust\":9.48,\"weather\":[{\"id\":803,\"main\":\"Clouds\",\"description\":\"broken clouds\",\"icon\":\"04d\"}],\"pop\":0},{\"dt\":1726174800,\"temp\":81.81,\"feels_like\":80.35,\"pressure\":1022,\"humidity\":30,\"dew_point\":47.3,\"uvi\":0.84,\"clouds\":47,\"visibility\":10000,\"wind_speed\":8.34,\"wind_deg\":208,\"wind_gust\":11.27,\"weather\":[{\"id\":802,\"main\":\"Clouds\",\"description\":\"scattered clouds\",\"icon\":\"03d\"}],\"pop\":0},{\"dt\":1726178400,\"temp\":78.22,\"feels_like\":77.43,\"pressure\":1023,\"humidity\":36,\"dew_point\":48.78,\"uvi\":0.24,\"clouds\":39,\"visibility\":10000,\"wind_speed\":9.91,\"wind_deg\":191,\"wind_gust\":16.91,\"weather\":[{\"id\":802,\"main\":\"Clouds\",\"description\":\"scattered clouds\",\"icon\":\"03d\"}],\"pop\":0},{\"dt\":1726182000,\"temp\":72.27,\"feels_like\":71.35,\"pressure\":1023,\"humidity\":46,\"dew_point\":50.05,\"uvi\":0,\"clouds\":34,\"visibility\":10000,\"wind_speed\":10.58,\"wind_deg\":187,\"wind_gust\":23.67,\"weather\":[{\"id\":802,\"main\":\"Clouds\",\"description\":\"scattered clouds\",\"icon\":\"03n\"}],\"pop\":0},{\"dt\":1726185600,\"temp\":69.51,\"feels_like\":68.65,\"pressure\":1023,\"humidity\":53,\"dew_point\":51.48,\"uvi\":0,\"clouds\":32,\"visibility\":10000,\"wind_speed\":9.26,\"wind_deg\":196,\"wind_gust\":22.88,\"weather\":[{\"id\":802,\"main\":\"Clouds\",\"description\":\"scattered clouds\",\"icon\":\"03n\"}],\"pop\":0},{\"dt\":1726189200,\"temp\":67.87,\"feels_like\":67.05,\"pressure\":1024,\"humidity\":57,\"dew_point\":52.03,\"uvi\":0,\"clouds\":15,\"visibility\":10000,\"wind_speed\":7.76,\"wind_deg\":206,\"wind_gust\":20.98,\"weather\":[{\"id\":801,\"main\":\"Clouds\",\"description\":\"few clouds\",\"icon\":\"02n\"}],\"pop\":0},{\"dt\":1726192800,\"temp\":66.49,\"feels_like\":65.66,\"pressure\":1024,\"humidity\":60,\"dew_point\":52.12,\"uvi\":0,\"clouds\":14,\"visibility\":10000,\"wind_speed\":7.4,\"wind_deg\":215,\"wind_gust\":20.89,\"weather\":[{\"id\":801,\"main\":\"Clouds\",\"description\":\"few clouds\",\"icon\":\"02n\"}],\"pop\":0},{\"dt\":1726196400,\"temp\":65.39,\"feels_like\":64.54,\"pressure\":1024,\"humidity\":62,\"dew_point\":52.12,\"uvi\":0,\"clouds\":17,\"visibility\":10000,\"wind_speed\":6.78,\"wind_deg\":224,\"wind_gust\":20.11,\"weather\":[{\"id\":801,\"main\":\"Clouds\",\"description\":\"few clouds\",\"icon\":\"02n\"}],\"pop\":0},{\"dt\":1726200000,\"temp\":64.49,\"feels_like\":63.7,\"pressure\":1024,\"humidity\":65,\"dew_point\":52.43,\"uvi\":0,\"clouds\":22,\"visibility\":10000,\"wind_speed\":6.46,\"wind_deg\":221,\"wind_gust\":19.35,\"weather\":[{\"id\":801,\"main\":\"Clouds\",\"description\":\"few clouds\",\"icon\":\"02n\"}],\"pop\":0},{\"dt\":1726203600,\"temp\":63.9,\"feels_like\":63.23,\"pressure\":1024,\"humidity\":69,\"dew_point\":53.35,\"uvi\":0,\"clouds\":22,\"visibility\":10000,\"wind_speed\":6.8,\"wind_deg\":223,\"wind_gust\":20.54,\"weather\":[{\"id\":801,\"main\":\"Clouds\",\"description\":\"few clouds\",\"icon\":\"02n\"}],\"pop\":0},{\"dt\":1726207200,\"temp\":63.41,\"feels_like\":62.83,\"pressure\":1024,\"humidity\":72,\"dew_point\":53.94,\"uvi\":0,\"clouds\":24,\"visibility\":10000,\"wind_speed\":6.73,\"wind_deg\":226,\"wind_gust\":21.25,\"weather\":[{\"id\":801,\"main\":\"Clouds\",\"description\":\"few clouds\",\"icon\":\"02n\"}],\"pop\":0},{\"dt\":1726210800,\"temp\":62.69,\"feels_like\":62.13,\"pressure\":1024,\"humidity\":74,\"dew_point\":53.96,\"uvi\":0,\"clouds\":12,\"visibility\":10000,\"wind_speed\":6.08,\"wind_deg\":226,\"wind_gust\":20.29,\"weather\":[{\"id\":801,\"main\":\"Clouds\",\"description\":\"few clouds\",\"icon\":\"02n\"}],\"pop\":0},{\"dt\":1726214400,\"temp\":62.31,\"feels_like\":61.77,\"pressure\":1024,\"humidity\":75,\"dew_point\":53.89,\"uvi\":0,\"clouds\":11,\"visibility\":10000,\"wind_speed\":6.02,\"wind_deg\":225,\"wind_gust\":19.24,\"weather\":[{\"id\":801,\"main\":\"Clouds\",\"description\":\"few clouds\",\"icon\":\"02n\"}],\"pop\":0},{\"dt\":1726218000,\"temp\":61.74,\"feels_like\":61.18,\"pressure\":1024,\"humidity\":76,\"dew_point\":53.62,\"uvi\":0,\"clouds\":11,\"visibility\":10000,\"wind_speed\":5.73,\"wind_deg\":228,\"wind_gust\":17.98,\"weather\":[{\"id\":801,\"main\":\"Clouds\",\"description\":\"few clouds\",\"icon\":\"02n\"}],\"pop\":0},{\"dt\":1726221600,\"temp\":61.25,\"feels_like\":60.64,\"pressure\":1023,\"humidity\":76,\"dew_point\":53.28,\"uvi\":0,\"clouds\":10,\"visibility\":10000,\"wind_speed\":5.77,\"wind_deg\":225,\"wind_gust\":17.11,\"weather\":[{\"id\":800,\"main\":\"Clear\",\"description\":\"clear sky\",\"icon\":\"01n\"}],\"pop\":0},{\"dt\":1726225200,\"temp\":61.86,\"feels_like\":61.18,\"pressure\":1024,\"humidity\":73,\"dew_point\":52.86,\"uvi\":0,\"clouds\":9,\"visibility\":10000,\"wind_speed\":6.02,\"wind_deg\":225,\"wind_gust\":17.18,\"weather\":[{\"id\":800,\"main\":\"Clear\",\"description\":\"clear sky\",\"icon\":\"01d\"}],\"pop\":0},{\"dt\":1726228800,\"temp\":65.98,\"feels_like\":65.19,\"pressure\":1024,\"humidity\":62,\"dew_point\":52.52,\"uvi\":0.48,\"clouds\":9,\"visibility\":10000,\"wind_speed\":7.34,\"wind_deg\":230,\"wind_gust\":15.23,\"weather\":[{\"id\":800,\"main\":\"Clear\",\"description\":\"clear sky\",\"icon\":\"01d\"}],\"pop\":0},{\"dt\":1726232400,\"temp\":71.22,\"feels_like\":70.39,\"pressure\":1024,\"humidity\":50,\"dew_point\":51.71,\"uvi\":1.38,\"clouds\":6,\"visibility\":10000,\"wind_speed\":7.25,\"wind_deg\":238,\"wind_gust\":13.02,\"weather\":[{\"id\":800,\"main\":\"Clear\",\"description\":\"clear sky\",\"icon\":\"01d\"}],\"pop\":0},{\"dt\":1726236000,\"temp\":75.92,\"feels_like\":75.24,\"pressure\":1023,\"humidity\":43,\"dew_point\":51.53,\"uvi\":2.73,\"clouds\":8,\"visibility\":10000,\"wind_speed\":7,\"wind_deg\":238,\"wind_gust\":11.14,\"weather\":[{\"id\":800,\"main\":\"Clear\",\"description\":\"clear sky\",\"icon\":\"01d\"}],\"pop\":0},{\"dt\":1726239600,\"temp\":79.77,\"feels_like\":79.77,\"pressure\":1023,\"humidity\":38,\"dew_point\":52.25,\"uvi\":4.15,\"clouds\":7,\"visibility\":10000,\"wind_speed\":6.85,\"wind_deg\":239,\"wind_gust\":9.53,\"weather\":[{\"id\":800,\"main\":\"Clear\",\"description\":\"clear sky\",\"icon\":\"01d\"}],\"pop\":0},{\"dt\":1726243200,\"temp\":82.69,\"feels_like\":81.68,\"pressure\":1022,\"humidity\":37,\"dew_point\":53.37,\"uvi\":5.17,\"clouds\":6,\"visibility\":10000,\"wind_speed\":6.46,\"wind_deg\":245,\"wind_gust\":8.41,\"weather\":[{\"id\":800,\"main\":\"Clear\",\"description\":\"clear sky\",\"icon\":\"01d\"}],\"pop\":0},{\"dt\":1726246800,\"temp\":84.7,\"feels_like\":83.23,\"pressure\":1022,\"humidity\":35,\"dew_point\":54.1,\"uvi\":5.39,\"clouds\":5,\"visibility\":10000,\"wind_speed\":6.04,\"wind_deg\":248,\"wind_gust\":7.65,\"weather\":[{\"id\":800,\"main\":\"Clear\",\"description\":\"clear sky\",\"icon\":\"01d\"}],\"pop\":0}],\"daily\":[{\"dt\":1726070400,\"sunrise\":1726050032,\"sunset\":1726095670,\"moonrise\":1726081200,\"moonset\":1726111140,\"moon_phase\":0.25,\"summary\":\"Expect a day of partly cloudy with clear spells\",\"temp\":{\"day\":76.69,\"min\":56.5,\"max\":76.87,\"night\":62.46,\"eve\":73.47,\"morn\":56.5},\"feels_like\":{\"day\":75.56,\"night\":61.03,\"eve\":72.36,\"morn\":54.48},\"pressure\":1021,\"humidity\":32,\"dew_point\":44.65,\"wind_speed\":7.96,\"wind_deg\":128,\"wind_gust\":18.16,\"weather\":[{\"id\":800,\"main\":\"Clear\",\"description\":\"clear sky\",\"icon\":\"01d\"}],\"clouds\":10,\"pop\":0,\"uvi\":5.36},{\"dt\":1726156800,\"sunrise\":1726136495,\"sunset\":1726181964,\"moonrise\":1726171020,\"moonset\":0,\"moon_phase\":0.3,\"summary\":\"Expect a day of partly cloudy with clear spells\",\"temp\":{\"day\":79.63,\"min\":57.6,\"max\":83.44,\"night\":65.39,\"eve\":78.22,\"morn\":57.6},\"feels_like\":{\"day\":79.63,\"night\":64.54,\"eve\":77.43,\"morn\":56.21},\"pressure\":1024,\"humidity\":30,\"dew_point\":45.45,\"wind_speed\":10.58,\"wind_deg\":187,\"wind_gust\":23.67,\"weather\":[{\"id\":800,\"main\":\"Clear\",\"description\":\"clear sky\",\"icon\":\"01d\"}],\"clouds\":9,\"pop\":0,\"uvi\":5.51},{\"dt\":1726243200,\"sunrise\":1726222957,\"sunset\":1726268257,\"moonrise\":1726260300,\"moonset\":1726201260,\"moon_phase\":0.33,\"summary\":\"Expect a day of partly cloudy with rain\",\"temp\":{\"day\":82.69,\"min\":61.25,\"max\":87.31,\"night\":67.8,\"eve\":82.74,\"morn\":61.25},\"feels_like\":{\"day\":81.68,\"night\":68.27,\"eve\":82.09,\"morn\":60.64},\"pressure\":1022,\"humidity\":37,\"dew_point\":53.37,\"wind_speed\":7.34,\"wind_deg\":230,\"wind_gust\":21.25,\"weather\":[{\"id\":500,\"main\":\"Rain\",\"description\":\"light rain\",\"icon\":\"10d\"}],\"clouds\":6,\"pop\":0.9,\"rain\":0.41,\"uvi\":5.39},{\"dt\":1726329600,\"sunrise\":1726309420,\"sunset\":1726354551,\"moonrise\":1726349040,\"moonset\":1726292040,\"moon_phase\":0.37,\"summary\":\"Expect a day of partly cloudy with clear spells\",\"temp\":{\"day\":77.7,\"min\":63.59,\"max\":78.04,\"night\":66.31,\"eve\":73.99,\"morn\":63.59},\"feels_like\":{\"day\":77.61,\"night\":66.34,\"eve\":73.81,\"morn\":63.59},\"pressure\":1024,\"humidity\":52,\"dew_point\":58.39,\"wind_speed\":8.77,\"wind_deg\":82,\"wind_gust\":12.64,\"weather\":[{\"id\":800,\"main\":\"Clear\",\"description\":\"clear sky\",\"icon\":\"01d\"}],\"clouds\":3,\"pop\":0.14,\"uvi\":5.38},{\"dt\":1726416000,\"sunrise\":1726395883,\"sunset\":1726440844,\"moonrise\":1726437360,\"moonset\":1726383180,\"moon_phase\":0.4,\"summary\":\"Expect a day of partly cloudy with clear spells\",\"temp\":{\"day\":76.24,\"min\":62.8,\"max\":77.47,\"night\":63.01,\"eve\":73.62,\"morn\":62.8},\"feels_like\":{\"day\":76.01,\"night\":63.05,\"eve\":73.02,\"morn\":62.87},\"pressure\":1026,\"humidity\":52,\"dew_point\":57.02,\"wind_speed\":8.43,\"wind_deg\":99,\"wind_gust\":14.16,\"weather\":[{\"id\":803,\"main\":\"Clouds\",\"description\":\"broken clouds\",\"icon\":\"04d\"}],\"clouds\":52,\"pop\":0,\"uvi\":0.43},{\"dt\":1726502400,\"sunrise\":1726482345,\"sunset\":1726527137,\"moonrise\":1726525320,\"moonset\":1726474440,\"moon_phase\":0.44,\"summary\":\"There will be clear sky today\",\"temp\":{\"day\":75.52,\"min\":59.36,\"max\":79.93,\"night\":63.36,\"eve\":77.38,\"morn\":59.36},\"feels_like\":{\"day\":74.75,\"night\":62.69,\"eve\":76.64,\"morn\":59.41},\"pressure\":1028,\"humidity\":42,\"dew_point\":50.7,\"wind_speed\":7.7,\"wind_deg\":189,\"wind_gust\":18.54,\"weather\":[{\"id\":800,\"main\":\"Clear\",\"description\":\"clear sky\",\"icon\":\"01d\"}],\"clouds\":1,\"pop\":0,\"uvi\":1},{\"dt\":1726588800,\"sunrise\":1726568808,\"sunset\":1726613430,\"moonrise\":1726613160,\"moonset\":1726565700,\"moon_phase\":0.5,\"summary\":\"There will be clear sky until morning, then partly cloudy\",\"temp\":{\"day\":78.21,\"min\":58.93,\"max\":82.71,\"night\":65.39,\"eve\":79.52,\"morn\":58.93},\"feels_like\":{\"day\":77.32,\"night\":65.07,\"eve\":79.52,\"morn\":57.99},\"pressure\":1026,\"humidity\":34,\"dew_point\":47.39,\"wind_speed\":6.91,\"wind_deg\":194,\"wind_gust\":18.25,\"weather\":[{\"id\":804,\"main\":\"Clouds\",\"description\":\"overcast clouds\",\"icon\":\"04d\"}],\"clouds\":88,\"pop\":0,\"uvi\":1},{\"dt\":1726675200,\"sunrise\":1726655271,\"sunset\":1726699723,\"moonrise\":1726701000,\"moonset\":1726656960,\"moon_phase\":0.52,\"summary\":\"There will be partly cloudy today\",\"temp\":{\"day\":76.05,\"min\":60.55,\"max\":80.58,\"night\":67.03,\"eve\":76.17,\"morn\":60.55},\"feels_like\":{\"day\":75.56,\"night\":67.05,\"eve\":75.79,\"morn\":60.49},\"pressure\":1024,\"humidity\":47,\"dew_point\":54.5,\"wind_speed\":7.27,\"wind_deg\":135,\"wind_gust\":12.03,\"weather\":[{\"id\":804,\"main\":\"Clouds\",\"description\":\"overcast clouds\",\"icon\":\"04d\"}],\"clouds\":100,\"pop\":0,\"uvi\":1}]}'"
      ]
     },
     "execution_count": 21,
     "metadata": {},
     "output_type": "execute_result"
    }
   ],
   "source": [
    "import requests\n",
    "\n",
    "# get url as a string\n",
    "url_text = requests.get(url).text    \n",
    "url_text"
   ]
  },
  {
   "cell_type": "code",
   "execution_count": 22,
   "id": "536dc771-a89f-4464-a811-bcb79c063967",
   "metadata": {},
   "outputs": [
    {
     "data": {
      "text/plain": [
       "dict_keys(['lat', 'lon', 'timezone', 'timezone_offset', 'current', 'minutely', 'hourly', 'daily'])"
      ]
     },
     "execution_count": 22,
     "metadata": {},
     "output_type": "execute_result"
    }
   ],
   "source": [
    "# should not have to install the below\n",
    "import json\n",
    "\n",
    "# convert json to a nested dict\n",
    "weather_dict = json.loads(url_text)\n",
    "\n",
    "weather_dict.keys()"
   ]
  },
  {
   "cell_type": "code",
   "execution_count": 23,
   "id": "75f5862b-0caf-4dc4-8735-cc25142e0ae5",
   "metadata": {},
   "outputs": [
    {
     "data": {
      "text/plain": [
       "{'dt': 1726084800,\n",
       " 'temp': 76.64,\n",
       " 'feels_like': 75.6,\n",
       " 'pressure': 1021,\n",
       " 'humidity': 34,\n",
       " 'dew_point': 46.2,\n",
       " 'uvi': 2.08,\n",
       " 'clouds': 24,\n",
       " 'visibility': 10000,\n",
       " 'wind_speed': 6.33,\n",
       " 'wind_deg': 125,\n",
       " 'wind_gust': 7.16,\n",
       " 'weather': [{'id': 801,\n",
       "   'main': 'Clouds',\n",
       "   'description': 'few clouds',\n",
       "   'icon': '02d'}],\n",
       " 'pop': 0}"
      ]
     },
     "execution_count": 23,
     "metadata": {},
     "output_type": "execute_result"
    }
   ],
   "source": [
    "#what does one hour of weather look like\n",
    "weather_dict['hourly'][2]"
   ]
  },
  {
   "cell_type": "markdown",
   "id": "4c8b7049-f308-40b7-9010-160480f4a3f0",
   "metadata": {},
   "source": [
    "## Cleaning up data from one hour"
   ]
  },
  {
   "cell_type": "code",
   "execution_count": 24,
   "id": "9c789c9c-bf6a-4a94-88ec-d6faa613150b",
   "metadata": {},
   "outputs": [
    {
     "data": {
      "text/plain": [
       "dt                                                   1726077600\n",
       "temp                                                      76.44\n",
       "feels_like                                                75.47\n",
       "pressure                                                   1021\n",
       "humidity                                                     36\n",
       "dew_point                                                 47.53\n",
       "uvi                                                        4.74\n",
       "clouds                                                       10\n",
       "visibility                                                10000\n",
       "wind_speed                                                 3.87\n",
       "wind_deg                                                    117\n",
       "wind_gust                                                  5.35\n",
       "weather       [{'id': 800, 'main': 'Clear', 'description': '...\n",
       "pop                                                           0\n",
       "datetime                                    2024-09-11 14:00:00\n",
       "dtype: object"
      ]
     },
     "execution_count": 24,
     "metadata": {},
     "output_type": "execute_result"
    }
   ],
   "source": [
    "from datetime import datetime\n",
    "import pandas as pd\n",
    "\n",
    "hour_dict = weather_dict['hourly'][0]\n",
    "hour_dict\n",
    "\n",
    "# lets convert from unix time to a datetime (easier to use)\n",
    "hour_dict['datetime'] = datetime.fromtimestamp(hour_dict['dt'])\n",
    "\n",
    "pd.Series(hour_dict)"
   ]
  },
  {
   "cell_type": "code",
   "execution_count": 25,
   "id": "1bb6d160-7ada-467d-b27f-b6482db0728c",
   "metadata": {},
   "outputs": [
    {
     "data": {
      "text/html": [
       "<div>\n",
       "<style scoped>\n",
       "    .dataframe tbody tr th:only-of-type {\n",
       "        vertical-align: middle;\n",
       "    }\n",
       "\n",
       "    .dataframe tbody tr th {\n",
       "        vertical-align: top;\n",
       "    }\n",
       "\n",
       "    .dataframe thead th {\n",
       "        text-align: right;\n",
       "    }\n",
       "</style>\n",
       "<table border=\"1\" class=\"dataframe\">\n",
       "  <thead>\n",
       "    <tr style=\"text-align: right;\">\n",
       "      <th></th>\n",
       "      <th>dt</th>\n",
       "      <th>temp</th>\n",
       "      <th>feels_like</th>\n",
       "      <th>pressure</th>\n",
       "      <th>humidity</th>\n",
       "      <th>dew_point</th>\n",
       "      <th>uvi</th>\n",
       "      <th>clouds</th>\n",
       "      <th>visibility</th>\n",
       "      <th>wind_speed</th>\n",
       "      <th>wind_deg</th>\n",
       "      <th>wind_gust</th>\n",
       "      <th>weather</th>\n",
       "      <th>pop</th>\n",
       "      <th>datetime</th>\n",
       "    </tr>\n",
       "  </thead>\n",
       "  <tbody>\n",
       "    <tr>\n",
       "      <th>0</th>\n",
       "      <td>1726077600</td>\n",
       "      <td>76.44</td>\n",
       "      <td>75.47</td>\n",
       "      <td>1021</td>\n",
       "      <td>36</td>\n",
       "      <td>47.53</td>\n",
       "      <td>4.74</td>\n",
       "      <td>10</td>\n",
       "      <td>10000</td>\n",
       "      <td>3.87</td>\n",
       "      <td>117</td>\n",
       "      <td>5.35</td>\n",
       "      <td>[{'id': 800, 'main': 'Clear', 'description': '...</td>\n",
       "      <td>0</td>\n",
       "      <td>2024-09-11 14:00:00</td>\n",
       "    </tr>\n",
       "    <tr>\n",
       "      <th>1</th>\n",
       "      <td>1726081200</td>\n",
       "      <td>76.87</td>\n",
       "      <td>75.87</td>\n",
       "      <td>1021</td>\n",
       "      <td>34</td>\n",
       "      <td>46.4</td>\n",
       "      <td>3.63</td>\n",
       "      <td>9</td>\n",
       "      <td>10000</td>\n",
       "      <td>5.26</td>\n",
       "      <td>123</td>\n",
       "      <td>5.68</td>\n",
       "      <td>[{'id': 800, 'main': 'Clear', 'description': '...</td>\n",
       "      <td>0</td>\n",
       "      <td>2024-09-11 15:00:00</td>\n",
       "    </tr>\n",
       "    <tr>\n",
       "      <th>2</th>\n",
       "      <td>1726084800</td>\n",
       "      <td>76.64</td>\n",
       "      <td>75.6</td>\n",
       "      <td>1021</td>\n",
       "      <td>34</td>\n",
       "      <td>46.2</td>\n",
       "      <td>2.08</td>\n",
       "      <td>24</td>\n",
       "      <td>10000</td>\n",
       "      <td>6.33</td>\n",
       "      <td>125</td>\n",
       "      <td>7.16</td>\n",
       "      <td>[{'id': 801, 'main': 'Clouds', 'description': ...</td>\n",
       "      <td>0</td>\n",
       "      <td>2024-09-11 16:00:00</td>\n",
       "    </tr>\n",
       "    <tr>\n",
       "      <th>3</th>\n",
       "      <td>1726088400</td>\n",
       "      <td>75.61</td>\n",
       "      <td>74.48</td>\n",
       "      <td>1021</td>\n",
       "      <td>34</td>\n",
       "      <td>45.3</td>\n",
       "      <td>0.93</td>\n",
       "      <td>35</td>\n",
       "      <td>10000</td>\n",
       "      <td>6.87</td>\n",
       "      <td>124</td>\n",
       "      <td>8.95</td>\n",
       "      <td>[{'id': 802, 'main': 'Clouds', 'description': ...</td>\n",
       "      <td>0</td>\n",
       "      <td>2024-09-11 17:00:00</td>\n",
       "    </tr>\n",
       "    <tr>\n",
       "      <th>4</th>\n",
       "      <td>1726092000</td>\n",
       "      <td>73.47</td>\n",
       "      <td>72.36</td>\n",
       "      <td>1021</td>\n",
       "      <td>39</td>\n",
       "      <td>47.03</td>\n",
       "      <td>0.26</td>\n",
       "      <td>36</td>\n",
       "      <td>10000</td>\n",
       "      <td>7.96</td>\n",
       "      <td>128</td>\n",
       "      <td>12.3</td>\n",
       "      <td>[{'id': 802, 'main': 'Clouds', 'description': ...</td>\n",
       "      <td>0</td>\n",
       "      <td>2024-09-11 18:00:00</td>\n",
       "    </tr>\n",
       "  </tbody>\n",
       "</table>\n",
       "</div>"
      ],
      "text/plain": [
       "           dt   temp feels_like pressure humidity dew_point   uvi clouds  \\\n",
       "0  1726077600  76.44      75.47     1021       36     47.53  4.74     10   \n",
       "1  1726081200  76.87      75.87     1021       34      46.4  3.63      9   \n",
       "2  1726084800  76.64       75.6     1021       34      46.2  2.08     24   \n",
       "3  1726088400  75.61      74.48     1021       34      45.3  0.93     35   \n",
       "4  1726092000  73.47      72.36     1021       39     47.03  0.26     36   \n",
       "\n",
       "  visibility wind_speed wind_deg wind_gust  \\\n",
       "0      10000       3.87      117      5.35   \n",
       "1      10000       5.26      123      5.68   \n",
       "2      10000       6.33      125      7.16   \n",
       "3      10000       6.87      124      8.95   \n",
       "4      10000       7.96      128      12.3   \n",
       "\n",
       "                                             weather pop             datetime  \n",
       "0  [{'id': 800, 'main': 'Clear', 'description': '...   0  2024-09-11 14:00:00  \n",
       "1  [{'id': 800, 'main': 'Clear', 'description': '...   0  2024-09-11 15:00:00  \n",
       "2  [{'id': 801, 'main': 'Clouds', 'description': ...   0  2024-09-11 16:00:00  \n",
       "3  [{'id': 802, 'main': 'Clouds', 'description': ...   0  2024-09-11 17:00:00  \n",
       "4  [{'id': 802, 'main': 'Clouds', 'description': ...   0  2024-09-11 18:00:00  "
      ]
     },
     "execution_count": 25,
     "metadata": {},
     "output_type": "execute_result"
    }
   ],
   "source": [
    "df_hourly = pd.DataFrame()\n",
    "for hour_dict in weather_dict['hourly']:\n",
    "\n",
    "    # lets convert from unix time to a datetime (easier to use)\n",
    "    hour_dict['datetime'] = datetime.fromtimestamp(hour_dict['dt'])\n",
    "\n",
    "    s_hour = pd.Series(hour_dict)\n",
    "    \n",
    "    df_hourly = pd.concat([df_hourly, s_hour.to_frame().T], ignore_index=True)\n",
    "    \n",
    "df_hourly.head()"
   ]
  },
  {
   "cell_type": "markdown",
   "id": "81ff616e-0c70-4a6e-a47a-b148ebb89d21",
   "metadata": {},
   "source": [
    "## Lecture Break/Practice 3\n",
    "\n",
    "La Chaux-de-Fonds, Switzerland is located at:\n",
    "\n",
    "    47.101333° N, 6.825° E\n",
    "    \n",
    "1. Create a dataframe of the next 48 hours of their weather as was done above\n",
    "2. (++) Make a function `get_forecast` which accepts:\n",
    "    - `lat`\n",
    "    - `lon`\n",
    "    - `api_key`\n",
    "    - `units` (default = 'imperial')\n",
    "    \n",
    "    and returns a dataframe of the next 48 hours of the location's weather. Test it on a location of your choice."
   ]
  },
  {
   "cell_type": "code",
   "execution_count": null,
   "id": "e964a6ad-3d45-4610-8b7c-009c5bd025c3",
   "metadata": {},
   "outputs": [],
   "source": []
  },
  {
   "cell_type": "code",
   "execution_count": 26,
   "id": "e79de2a4-73c7-4861-9294-102582e214a7",
   "metadata": {},
   "outputs": [],
   "source": [
    "# get_forecast(47.101333, 6.825)"
   ]
  },
  {
   "cell_type": "markdown",
   "id": "4fbd6853-77e6-4348-a3e5-063acb4514bc",
   "metadata": {},
   "source": [
    "# Storing your API key in a local file\n",
    "\n",
    "There exists a file `open_weather_access.py` in same directory as this jupyter notebook which contains:\n",
    "    \n",
    "    my_api_key = 'hello!'"
   ]
  },
  {
   "cell_type": "code",
   "execution_count": 27,
   "id": "9392e4d9-b6a4-44ca-bce8-6ead885d84f7",
   "metadata": {},
   "outputs": [
    {
     "name": "stdout",
     "output_type": "stream",
     "text": [
      "hello!\n"
     ]
    }
   ],
   "source": [
    "from open_weather_access import my_api_key\n",
    "\n",
    "print(my_api_key)\n",
    "\n",
    "# from open_weather_access import my_real_api_key\n",
    "# print(my_real_api_key)"
   ]
  },
  {
   "cell_type": "markdown",
   "id": "b8bf7b19-816d-468a-afa5-35c573fcc0d8",
   "metadata": {},
   "source": [
    "## Looking Ahead; Spotipy (for use on Homework 2)\n",
    "\n",
    "The Spotify API is quite powerful and gives us access to any song/artist in its libraries, plus even more information that you might not have thought of. There is also a module that has been created to access the API within python. Open up a terminal (or do it in jupyter notebook; this is a magic module) and run:\n",
    "\n",
    "`pip install spotipy`"
   ]
  },
  {
   "cell_type": "code",
   "execution_count": 28,
   "id": "7d13b085-37b1-4fe2-88e0-219fb83a41cc",
   "metadata": {},
   "outputs": [],
   "source": [
    "#pip install spotipy"
   ]
  },
  {
   "cell_type": "code",
   "execution_count": 29,
   "id": "ebb74367-0071-4a95-8e0d-00da6d8f7728",
   "metadata": {},
   "outputs": [],
   "source": [
    "import spotipy\n",
    "from spotipy.oauth2 import SpotifyClientCredentials"
   ]
  },
  {
   "cell_type": "markdown",
   "id": "87823947-2413-4f0a-9c09-ea046e61e700",
   "metadata": {},
   "source": [
    "Just like with OpenWeather, we need to make an account [here](https://developer.spotify.com/) (this is essentially the same as making a regular Spotify account) and then get an API key (Spotify requires two things, actually, a Client ID and a secret key). At the above website, go to:\n",
    "\n",
    "- Dashboard\n",
    "- Log into your Spotify account (make one if you don't have one)\n",
    "- Accept the terms of using the API\n",
    "- Create an app (you can call it anything, I called mine `DS3000_Spotify`)\n",
    "- Get a client ID (mine is `592acf2d2dc84d94bbc652f2f1d72375`, though it is usually good practice to **not** share this) and a client secret (**never share this with anyone**: save it in a separate file like we did with our OpenWeather API key earlier)"
   ]
  },
  {
   "cell_type": "markdown",
   "id": "981250db-a7f5-4b8f-a842-2e04a185553d",
   "metadata": {},
   "source": [
    "There exists a file `spotify_secret.py` in same directory as this jupyter notebook which contains:\n",
    "    \n",
    "    secret = 'professorgerberssecretspotify'"
   ]
  },
  {
   "cell_type": "code",
   "execution_count": 30,
   "id": "dc27e3cb-42a9-4fc5-9279-66675b26fdfd",
   "metadata": {},
   "outputs": [],
   "source": [
    "from spotify_secret import secret"
   ]
  },
  {
   "cell_type": "code",
   "execution_count": 31,
   "id": "52cdd9f4-43de-41c5-b9f4-78f1f759b3f4",
   "metadata": {},
   "outputs": [],
   "source": [
    "# Authentication\n",
    "cid = '592acf2d2dc84d94bbc652f2f1d72375'\n",
    "\n",
    "client_credentials_manager = SpotifyClientCredentials(client_id=cid, client_secret=secret)\n",
    "sp = spotipy.Spotify(client_credentials_manager = client_credentials_manager)"
   ]
  },
  {
   "cell_type": "code",
   "execution_count": 32,
   "id": "ececab21-aeb8-462d-b0bb-2ee730765987",
   "metadata": {},
   "outputs": [],
   "source": [
    "# Let's take a look at how to look at a track from a playlist\n",
    "# You'll do this on HW2\n",
    "# if you receive a couldn't read cache or write token error, it should simply be a warning and not be a problem\n",
    "playlist_link = \"https://open.spotify.com/playlist/37i9dQZF1DXcBWIGoYBM5M\" #Global Top Songs (I still need to make ours!)\n",
    "playlist_URI = playlist_link.split(\"/\")[-1].split(\"?\")[0]\n",
    "track_uris = [x[\"track\"][\"uri\"] for x in sp.playlist_tracks(playlist_URI)[\"items\"]]"
   ]
  },
  {
   "cell_type": "code",
   "execution_count": 33,
   "id": "32a0f243-dd7f-429f-b3f8-9960cce192a3",
   "metadata": {},
   "outputs": [],
   "source": [
    "# Notice, this API (while free) can be a little tricky to navigate!\n",
    "#sp.playlist_tracks(playlist_URI)[\"items\"][0]['track']['name'] #song name\n",
    "#sp.playlist_tracks(playlist_URI)[\"items\"][0]['track']['album']['name'] #album name\n",
    "#sp.playlist_tracks(playlist_URI)[\"items\"][0]['track']['album']['artists'][0]['name'] #artist name"
   ]
  },
  {
   "cell_type": "markdown",
   "id": "60090cbc-256c-4e3f-8536-96175ce8ee97",
   "metadata": {},
   "source": [
    "You will learn more about how to use Spotipy, including the tricky bits that are unique to its usage, on Homework 2. **START THIS EARLY ONCE IT IS RELEASED NEXT WEEK!!**"
   ]
  },
  {
   "cell_type": "code",
   "execution_count": null,
   "id": "c6486a89-de7b-4fca-b914-c64cd7fa7598",
   "metadata": {},
   "outputs": [],
   "source": []
  }
 ],
 "metadata": {
  "kernelspec": {
   "display_name": "Python 3 (ipykernel)",
   "language": "python",
   "name": "python3"
  },
  "language_info": {
   "codemirror_mode": {
    "name": "ipython",
    "version": 3
   },
   "file_extension": ".py",
   "mimetype": "text/x-python",
   "name": "python",
   "nbconvert_exporter": "python",
   "pygments_lexer": "ipython3",
   "version": "3.11.9"
  }
 },
 "nbformat": 4,
 "nbformat_minor": 5
}
