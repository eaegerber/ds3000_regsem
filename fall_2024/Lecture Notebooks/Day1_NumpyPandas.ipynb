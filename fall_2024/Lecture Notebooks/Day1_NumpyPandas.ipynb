{
 "cells": [
  {
   "cell_type": "markdown",
   "metadata": {
    "slideshow": {
     "slide_type": "slide"
    }
   },
   "source": [
    "# DS3000 Day 1\n",
    "\n",
    "Sep 9/10, 2023\n",
    "\n",
    "Admin\n",
    "- Modules to install today `pip install collections seaborn numpy pandas` (you may not *need* to do all these, but why not?)\n",
    "  - If you don't have python and a way to edit jupyter notebooks, now's the time!\n",
    "- Homework 1 due next Tues, Sep 17 before midnight\n",
    "\n",
    "Push-Up Tracker\n",
    "- Section 03: 2\n",
    "- Section 05: 1\n",
    "\n",
    "Content\n",
    "- finish up basic python\n",
    "- numpy & arrays\n",
    "- pandas\n",
    "    - series\n",
    "    - dataframe"
   ]
  },
  {
   "cell_type": "markdown",
   "metadata": {},
   "source": [
    "### Question from previous class: Can you call a key from a dictionary based on a value?\n",
    "\n",
    "Yes! There are a couple ways, but perhaps most simply, make use of `list()`, `.keys()`, `.values()`, and `.index()` and you can do it in one line (could also break this up into parts):"
   ]
  },
  {
   "cell_type": "code",
   "execution_count": 1,
   "metadata": {},
   "outputs": [
    {
     "data": {
      "text/plain": [
       "'third'"
      ]
     },
     "execution_count": 1,
     "metadata": {},
     "output_type": "execute_result"
    }
   ],
   "source": [
    "dict_a = {'first': 10, 'second': [\"a\", \"list\"], 'third': True}\n",
    "\n",
    "# for those who may need a second to process the below:\n",
    "# take the keys of dict_a and make them into a list\n",
    "# take the values of dict_a and make them into a list\n",
    "# get the index of the value that corresponds to True\n",
    "# use square brackets to get the key corresponding to that index\n",
    "list(dict_a.keys())[list(dict_a.values()).index(True)]"
   ]
  },
  {
   "cell_type": "markdown",
   "metadata": {},
   "source": [
    "### Question from previous class: Is there a way to prevent an object from having its type overwritten?\n",
    "\n",
    "Not easily :("
   ]
  },
  {
   "cell_type": "markdown",
   "metadata": {},
   "source": [
    "### Question from previous class: You can initialize an empty list, can you initialize an empty dictionary?\n",
    "\n",
    "Yes! In fact, let's use it to create an example function to remind ourselves where we left off:"
   ]
  },
  {
   "cell_type": "code",
   "execution_count": 2,
   "metadata": {},
   "outputs": [],
   "source": [
    "# this module allows you to initialize an empty dictionary\n",
    "from collections import defaultdict\n",
    "\n",
    "# another example function\n",
    "def create_dict(featurenames, features):\n",
    "    \"\"\" creates a dictionary with keys and values corresponding to the inputs\n",
    "\n",
    "    Args:\n",
    "        featurenames (list): a list of strings that will serve as the keys to the dictionary\n",
    "        features (list): a list of values (any type) that will serve as the values of the dictionary\n",
    "\n",
    "    Returns:\n",
    "        dict (dictionary): the dictionary\n",
    "    \"\"\"\n",
    "\n",
    "    # create an empty dictionary that will take lists as values\n",
    "    dict = defaultdict(list)\n",
    "    \n",
    "    try:\n",
    "        for i in range(len(featurenames)):\n",
    "            # for each feature name, create a key-value pair in the dictionary\n",
    "            dict[str(featurenames[i])] = features[i]\n",
    "\n",
    "            # if age is a feature, create a logical column for an age 30 cut-off\n",
    "            if featurenames[i] == \"age\":\n",
    "                dict[\"old\"] = [i > 30 for i in features[i]]\n",
    "                \n",
    "    except:\n",
    "        # if something doesn't work above, let us know\n",
    "        print(\"Failure to create dictionary; check inputs\")\n",
    "\n",
    "    return dict"
   ]
  },
  {
   "cell_type": "code",
   "execution_count": 3,
   "metadata": {},
   "outputs": [
    {
     "data": {
      "text/plain": [
       "defaultdict(list,\n",
       "            {'bloodtype': ['A', 'B', 'AB', 'AB+'],\n",
       "             'age': [28, 31, 16, 88],\n",
       "             'old': [False, True, False, True],\n",
       "             'height': [180, 194, 136, 178]})"
      ]
     },
     "execution_count": 3,
     "metadata": {},
     "output_type": "execute_result"
    }
   ],
   "source": [
    "test = [\"bloodtype\", \"age\", \"height\"]\n",
    "vals = [[\"A\", \"B\", \"AB\", \"AB+\"], [28, 31, 16, 88], [180, 194, 136, 178]]\n",
    "\n",
    "create_dict(test, vals)"
   ]
  },
  {
   "cell_type": "markdown",
   "metadata": {},
   "source": [
    "# LECTURE BREAK/PRACTICE\n",
    "\n",
    "The Standard Creepiness Rule states that you shouldn't date anyone younger than $\\frac{Your Age}{2} + 7$:\n",
    "\n",
    "![dating](https://imgs.xkcd.com/comics/dating_pools.png)\n",
    "\n",
    "Spend 5-10 minutes writing a function that takes as input a person's age, and outputs the sentence: `\"You can date people at least {result} years old.\"` Where `{result}` is the result of calculating the lower bound of the SRC.\n",
    "\n",
    "Then, define a variable `neighbor_age = int(input())` and pass it to your function after your neighbor enters their age.\n",
    "\n",
    "**note 1**: we are using `int(input())` because by default `input()` takes only strings and we are going to be passing our function an integer. (This will be helpful on Part 2 of the HW!)\n",
    "\n",
    "**note 2**: the solutions to this are in `Day0_BreakSolution` on Canvas."
   ]
  },
  {
   "cell_type": "markdown",
   "metadata": {},
   "source": [
    "## `import`-ing \n",
    "\n",
    "We can use software from [Python's standard library](https://docs.python.org/3/library/index.html) or anything on [pypi](https://pypi.org/) (e.g. pandas, numpy, scipy, matplotlib ....this is where folks share their python software) by `import`-ing it into our code. We already imported the math module earlier to be able to use $\\pi$ and the collections module to use `defaultdict()`.\n",
    "\n",
    "(If its on pypi you must install it via pip before use, everything in the standard library comes with Python itself).\n",
    "\n",
    "Lets build a random number generator:"
   ]
  },
  {
   "cell_type": "code",
   "execution_count": 4,
   "metadata": {},
   "outputs": [
    {
     "data": {
      "text/plain": [
       "['pick me']"
      ]
     },
     "execution_count": 4,
     "metadata": {},
     "output_type": "execute_result"
    }
   ],
   "source": [
    "# imports the whole library\n",
    "import random\n",
    "\n",
    "# you can access these functions as attributes of 'random'\n",
    "random.choices(['pick me', 'or me', 'maybe me?'])"
   ]
  },
  {
   "cell_type": "code",
   "execution_count": 5,
   "metadata": {},
   "outputs": [
    {
     "data": {
      "text/plain": [
       "['maybe me?']"
      ]
     },
     "execution_count": 5,
     "metadata": {},
     "output_type": "execute_result"
    }
   ],
   "source": [
    "# import just the function you'd like from the library\n",
    "from random import choices\n",
    "\n",
    "# importing as immediately above, you may only use the functions you've explicitly imported\n",
    "choices(['pick me', 'or me', 'maybe me?'])"
   ]
  },
  {
   "cell_type": "markdown",
   "metadata": {},
   "source": [
    "Veteran programming instinct: wondering (and checking) \"Does this function also do this other behavior?\"\n",
    "\n",
    "Go to the [official documentation](https://docs.python.org/3/library/random.html) and skim it to see what else you can do with a function."
   ]
  },
  {
   "cell_type": "code",
   "execution_count": 6,
   "metadata": {},
   "outputs": [
    {
     "data": {
      "text/plain": [
       "['or me']"
      ]
     },
     "execution_count": 6,
     "metadata": {},
     "output_type": "execute_result"
    }
   ],
   "source": [
    "# we can add a weight parameter which changes how often one item is selected vs another\n",
    "# if weight of one item is twice the other, it will be picked twice as often\n",
    "choices(['pick me', 'or me', 'maybe me?'], weights=[1, 2, 3])"
   ]
  },
  {
   "cell_type": "code",
   "execution_count": 7,
   "metadata": {},
   "outputs": [
    {
     "data": {
      "text/plain": [
       "['maybe me?',\n",
       " 'maybe me?',\n",
       " 'pick me',\n",
       " 'or me',\n",
       " 'maybe me?',\n",
       " 'maybe me?',\n",
       " 'maybe me?',\n",
       " 'pick me',\n",
       " 'pick me',\n",
       " 'or me']"
      ]
     },
     "execution_count": 7,
     "metadata": {},
     "output_type": "execute_result"
    }
   ],
   "source": [
    "# or select multiple items by passing k argument\n",
    "choices(['pick me', 'or me', 'maybe me?'], k=10, weights=[1, 2, 3])"
   ]
  },
  {
   "cell_type": "markdown",
   "metadata": {
    "slideshow": {
     "slide_type": "slide"
    }
   },
   "source": [
    "# Representing data as arrays (or, matrices, if you prefer, though \"array\" is more general)\n",
    "Its often a convenient analogy to consider a dataset as a big table.  A dataset describes the **features** of a collection of **samples**:\n",
    "- each row represents a sample (or, observation)\n",
    "    - e.g. a penguin\n",
    "- each column represents a feature (or, variable)\n",
    "    - e.g. how heavy the penguins are\n",
    "- the intersection of a row and column contains the feature of the sample\n",
    "    - e.g. how heavy a particular penguin is\n",
    "    \n",
    "<img src=\"https://imgur.com/orZWHly.png\" width=300 />\n"
   ]
  },
  {
   "cell_type": "code",
   "execution_count": 8,
   "metadata": {},
   "outputs": [
    {
     "data": {
      "text/html": [
       "<div>\n",
       "<style scoped>\n",
       "    .dataframe tbody tr th:only-of-type {\n",
       "        vertical-align: middle;\n",
       "    }\n",
       "\n",
       "    .dataframe tbody tr th {\n",
       "        vertical-align: top;\n",
       "    }\n",
       "\n",
       "    .dataframe thead th {\n",
       "        text-align: right;\n",
       "    }\n",
       "</style>\n",
       "<table border=\"1\" class=\"dataframe\">\n",
       "  <thead>\n",
       "    <tr style=\"text-align: right;\">\n",
       "      <th></th>\n",
       "      <th>species</th>\n",
       "      <th>island</th>\n",
       "      <th>bill_length_mm</th>\n",
       "      <th>bill_depth_mm</th>\n",
       "      <th>flipper_length_mm</th>\n",
       "      <th>body_mass_g</th>\n",
       "      <th>sex</th>\n",
       "    </tr>\n",
       "  </thead>\n",
       "  <tbody>\n",
       "    <tr>\n",
       "      <th>0</th>\n",
       "      <td>Adelie</td>\n",
       "      <td>Torgersen</td>\n",
       "      <td>39.1</td>\n",
       "      <td>18.7</td>\n",
       "      <td>181.0</td>\n",
       "      <td>3750.0</td>\n",
       "      <td>Male</td>\n",
       "    </tr>\n",
       "    <tr>\n",
       "      <th>1</th>\n",
       "      <td>Adelie</td>\n",
       "      <td>Torgersen</td>\n",
       "      <td>39.5</td>\n",
       "      <td>17.4</td>\n",
       "      <td>186.0</td>\n",
       "      <td>3800.0</td>\n",
       "      <td>Female</td>\n",
       "    </tr>\n",
       "    <tr>\n",
       "      <th>2</th>\n",
       "      <td>Adelie</td>\n",
       "      <td>Torgersen</td>\n",
       "      <td>40.3</td>\n",
       "      <td>18.0</td>\n",
       "      <td>195.0</td>\n",
       "      <td>3250.0</td>\n",
       "      <td>Female</td>\n",
       "    </tr>\n",
       "    <tr>\n",
       "      <th>3</th>\n",
       "      <td>Adelie</td>\n",
       "      <td>Torgersen</td>\n",
       "      <td>NaN</td>\n",
       "      <td>NaN</td>\n",
       "      <td>NaN</td>\n",
       "      <td>NaN</td>\n",
       "      <td>NaN</td>\n",
       "    </tr>\n",
       "    <tr>\n",
       "      <th>4</th>\n",
       "      <td>Adelie</td>\n",
       "      <td>Torgersen</td>\n",
       "      <td>36.7</td>\n",
       "      <td>19.3</td>\n",
       "      <td>193.0</td>\n",
       "      <td>3450.0</td>\n",
       "      <td>Female</td>\n",
       "    </tr>\n",
       "  </tbody>\n",
       "</table>\n",
       "</div>"
      ],
      "text/plain": [
       "  species     island  bill_length_mm  bill_depth_mm  flipper_length_mm  \\\n",
       "0  Adelie  Torgersen            39.1           18.7              181.0   \n",
       "1  Adelie  Torgersen            39.5           17.4              186.0   \n",
       "2  Adelie  Torgersen            40.3           18.0              195.0   \n",
       "3  Adelie  Torgersen             NaN            NaN                NaN   \n",
       "4  Adelie  Torgersen            36.7           19.3              193.0   \n",
       "\n",
       "   body_mass_g     sex  \n",
       "0       3750.0    Male  \n",
       "1       3800.0  Female  \n",
       "2       3250.0  Female  \n",
       "3          NaN     NaN  \n",
       "4       3450.0  Female  "
      ]
     },
     "execution_count": 8,
     "metadata": {},
     "output_type": "execute_result"
    }
   ],
   "source": [
    "# (we'll cover this code later, for now I just want us all to\n",
    "# look at a dataset together)\n",
    "import seaborn as sns\n",
    "\n",
    "# data source = 'https://github.com/mwaskom/seaborn-data/blob/master/penguins.csv'\n",
    "df_penguin = sns.load_dataset('penguins')\n",
    "df_penguin.head()"
   ]
  },
  {
   "cell_type": "markdown",
   "metadata": {},
   "source": [
    "Why represent data in 2d arrays?\n",
    "- many datasets well encapsulated as a 2d array with \n",
    "    - different rows used for samples\n",
    "    - different col used feature\n",
    "- Arrays (matrices) are natural math objects in linear algebra, probability and statistics all of which underpin machine learning."
   ]
  },
  {
   "cell_type": "markdown",
   "metadata": {
    "slideshow": {
     "slide_type": "slide"
    }
   },
   "source": [
    "## Rows vs Columns\n",
    "<img src=\"https://learnenglishfunway.com/wp-content/uploads/2021/07/Row-vs-Column.jpg\" width=700 />"
   ]
  },
  {
   "cell_type": "markdown",
   "metadata": {
    "slideshow": {
     "slide_type": "slide"
    }
   },
   "source": [
    "## **NumPy** (**Numerical Python**) Library\n",
    "* First appeared in 2006 and is the **preferred Python array implementation**.\n",
    "* High-performance, richly functional **_n_-dimensional array** type called **`ndarray`**. \n",
    "* **Written in C** and **up to 100 times faster than lists**.\n",
    "* Critical in big-data processing, AI applications and much more. \n",
    "* According to `libraries.io`, **over 450 Python libraries depend on NumPy**. \n",
    "* Many popular data science libraries such as Pandas, SciPy (Scientific Python) and Keras (for deep learning) are built on or depend on NumPy. \n",
    "\n",
    "Big Question:\n",
    "```\n",
    "What is an array/matrix?  (and how is different than a list or list of lists?)\n",
    "```\n",
    "\n",
    "| Array                                 | List (Python: Dynamic Array)                         |\n",
    "|---------------------------------------|------------------------------------------------------|\n",
    "| Size is static (contiguous memory)    | Size can be modified quickly (non-contiguous memory) |\n",
    "| Quick to compute (esp Linear Algebra) | Slower to compute (and clumsy looking code)          |\n",
    "| contains 1 datatype (numeric)         | may contain many data types (need not be numeric)    |"
   ]
  },
  {
   "cell_type": "markdown",
   "metadata": {
    "slideshow": {
     "slide_type": "slide"
    }
   },
   "source": [
    "### Initializing arrays:\n",
    "- 1d from list / tuple\n",
    "- 2d from list / tuple"
   ]
  },
  {
   "cell_type": "code",
   "execution_count": 9,
   "metadata": {},
   "outputs": [
    {
     "data": {
      "text/plain": [
       "array([1, 2, 3])"
      ]
     },
     "execution_count": 9,
     "metadata": {},
     "output_type": "execute_result"
    }
   ],
   "source": [
    "import numpy as np\n",
    "\n",
    "# x is a 1d array (3)\n",
    "x = np.array((1, 2, 3))\n",
    "x"
   ]
  },
  {
   "cell_type": "code",
   "execution_count": 10,
   "metadata": {},
   "outputs": [
    {
     "data": {
      "text/plain": [
       "array([[1, 2, 3],\n",
       "       [4, 5, 6]])"
      ]
     },
     "execution_count": 10,
     "metadata": {},
     "output_type": "execute_result"
    }
   ],
   "source": [
    "# y is a 2d array (2, 3)\n",
    "y = np.array([[1, 2, 3],\n",
    "              [4, 5, 6]])\n",
    "y"
   ]
  },
  {
   "cell_type": "markdown",
   "metadata": {},
   "source": [
    "### Building some special matrices\n",
    "- zeros\n",
    "- ones\n",
    "- full \n",
    "- identity"
   ]
  },
  {
   "cell_type": "markdown",
   "metadata": {},
   "source": [
    "\n",
    "<img src=\"https://learnenglishfunway.com/wp-content/uploads/2021/07/Row-vs-Column.jpg\" width=200 />\n",
    "\n",
    "#### Convention: Rows First!\n",
    "- we describe array shape as `(n_rows, n_cols)`\n",
    "- we index into an array as `x[row_idx, col_idx]`"
   ]
  },
  {
   "cell_type": "code",
   "execution_count": 11,
   "metadata": {},
   "outputs": [
    {
     "data": {
      "text/plain": [
       "array([[0., 0.],\n",
       "       [0., 0.],\n",
       "       [0., 0.],\n",
       "       [0., 0.],\n",
       "       [0., 0.]])"
      ]
     },
     "execution_count": 11,
     "metadata": {},
     "output_type": "execute_result"
    }
   ],
   "source": [
    "# shape = (n_rows, n_cols)\n",
    "# shape = (height, width)\n",
    "# .zeros gives an array of all zeros\n",
    "z = np.zeros((5, 2)) # tall array\n",
    "z"
   ]
  },
  {
   "cell_type": "code",
   "execution_count": 12,
   "metadata": {},
   "outputs": [
    {
     "data": {
      "text/plain": [
       "array([[1, 1, 1, 1, 1],\n",
       "       [1, 1, 1, 1, 1]])"
      ]
     },
     "execution_count": 12,
     "metadata": {},
     "output_type": "execute_result"
    }
   ],
   "source": [
    "# .ones gives an array of all ones\n",
    "one_array = np.ones((2, 5), dtype=int)\n",
    "one_array"
   ]
  },
  {
   "cell_type": "code",
   "execution_count": 13,
   "metadata": {},
   "outputs": [
    {
     "data": {
      "text/plain": [
       "array([[2., 2., 2., 2., 2.],\n",
       "       [2., 2., 2., 2., 2.]])"
      ]
     },
     "execution_count": 13,
     "metadata": {},
     "output_type": "execute_result"
    }
   ],
   "source": [
    "# can use .full to create an array of all fill_value\n",
    "# np.full(shape=(2,5), fill_value=2)\n",
    "two_array = np.full(shape=(2, 5), fill_value=2.0)\n",
    "two_array"
   ]
  },
  {
   "cell_type": "code",
   "execution_count": 14,
   "metadata": {},
   "outputs": [
    {
     "data": {
      "text/plain": [
       "array([[1., 0., 0.],\n",
       "       [0., 1., 0.],\n",
       "       [0., 0., 1.]])"
      ]
     },
     "execution_count": 14,
     "metadata": {},
     "output_type": "execute_result"
    }
   ],
   "source": [
    "# identity matrix\n",
    "# 1's on the diagonal, 0s elsewhere\n",
    "np.eye(3)"
   ]
  },
  {
   "cell_type": "markdown",
   "metadata": {
    "slideshow": {
     "slide_type": "slide"
    }
   },
   "source": [
    "## Arrays which change: \n",
    "- `.arange()`\n",
    "- `.linspace()`\n",
    "- `.geomspace()`\n",
    "- `.logspace()`"
   ]
  },
  {
   "cell_type": "code",
   "execution_count": 15,
   "metadata": {},
   "outputs": [
    {
     "data": {
      "text/plain": [
       "array([0, 1, 2, 3, 4, 5, 6, 7, 8, 9])"
      ]
     },
     "execution_count": 15,
     "metadata": {},
     "output_type": "execute_result"
    }
   ],
   "source": [
    "# note: not \"arrange\", but rather \"(a)rray (range)\"\n",
    "# np.arange(start (inclusive), stop (exclusive), step)\n",
    "np.arange(0, 10)"
   ]
  },
  {
   "cell_type": "code",
   "execution_count": 16,
   "metadata": {},
   "outputs": [
    {
     "data": {
      "text/plain": [
       "array([0.        , 0.16666667, 0.33333333, 0.5       , 0.66666667,\n",
       "       0.83333333, 1.        ])"
      ]
     },
     "execution_count": 16,
     "metadata": {},
     "output_type": "execute_result"
    }
   ],
   "source": [
    "# linearly spaced values np.linspace(start (inclusive), stop (inclusive), size)\n",
    "np.linspace(0, 1, 7)"
   ]
  },
  {
   "cell_type": "code",
   "execution_count": 17,
   "metadata": {},
   "outputs": [
    {
     "data": {
      "text/plain": [
       "array([ 1.,  3.,  9., 27.])"
      ]
     },
     "execution_count": 17,
     "metadata": {},
     "output_type": "execute_result"
    }
   ],
   "source": [
    "# geom spaced values np.geomspace(start (inclusive), stop (inclusive), size)\n",
    "np.geomspace(1, 27, 4)"
   ]
  },
  {
   "cell_type": "code",
   "execution_count": 18,
   "metadata": {},
   "outputs": [
    {
     "data": {
      "text/plain": [
       "array([  1.,  10., 100.])"
      ]
     },
     "execution_count": 18,
     "metadata": {},
     "output_type": "execute_result"
    }
   ],
   "source": [
    "# log spaced value np.logspace(start_exp, stop_exp, size)\n",
    "# start = 10^start_exp, stop = 10^stop_exp\n",
    "np.logspace(0, 2, 3)"
   ]
  },
  {
   "cell_type": "markdown",
   "metadata": {},
   "source": [
    "Can you get log spaced values for a base other than 10?"
   ]
  },
  {
   "cell_type": "code",
   "execution_count": 19,
   "metadata": {},
   "outputs": [
    {
     "data": {
      "text/plain": [
       "array([1.        , 2.71828183, 7.3890561 ])"
      ]
     },
     "execution_count": 19,
     "metadata": {},
     "output_type": "execute_result"
    }
   ],
   "source": [
    "# what about a different base? e-asy!\n",
    "import math\n",
    "np.logspace(0, 2, 3, base=math.exp(1))"
   ]
  },
  {
   "cell_type": "markdown",
   "metadata": {
    "slideshow": {
     "slide_type": "slide"
    }
   },
   "source": [
    "### Array Attributes\n",
    "- shape\n",
    "- size\n",
    "- ndim\n",
    "\n",
    "Numpy can build arrays out of many different number types (bool, int, float).  ([see also](https://numpy.org/doc/stable/user/basics.types.html#:~:text=There%20are%205%20basic%20numerical,point%20(float)%20and%20complex.&text=NumPy%20knows%20that%20int%20refers,int_%20%2C%20bool%20means%20np.))\n",
    "- dtype\n",
    "    - astype\n",
    "- nbytes"
   ]
  },
  {
   "cell_type": "code",
   "execution_count": 20,
   "metadata": {},
   "outputs": [],
   "source": [
    "x = np.array([[1, 2, 3],\n",
    "              [4, 5, 6]]) "
   ]
  },
  {
   "cell_type": "code",
   "execution_count": 21,
   "metadata": {},
   "outputs": [
    {
     "data": {
      "text/plain": [
       "dtype('int32')"
      ]
     },
     "execution_count": 21,
     "metadata": {},
     "output_type": "execute_result"
    }
   ],
   "source": [
    "# whether you see int32 or int64 depends on the bit size; it should not truly matter\n",
    "x.dtype"
   ]
  },
  {
   "cell_type": "code",
   "execution_count": 22,
   "metadata": {},
   "outputs": [
    {
     "data": {
      "text/plain": [
       "2"
      ]
     },
     "execution_count": 22,
     "metadata": {},
     "output_type": "execute_result"
    }
   ],
   "source": [
    "# ndim is the (n)umber of (dim)ensions\n",
    "x.ndim"
   ]
  },
  {
   "cell_type": "code",
   "execution_count": 23,
   "metadata": {},
   "outputs": [
    {
     "data": {
      "text/plain": [
       "(2, 3)"
      ]
     },
     "execution_count": 23,
     "metadata": {},
     "output_type": "execute_result"
    }
   ],
   "source": [
    "# shape gives the values of the dimensions\n",
    "x.shape"
   ]
  },
  {
   "cell_type": "code",
   "execution_count": 24,
   "metadata": {},
   "outputs": [
    {
     "data": {
      "text/plain": [
       "6"
      ]
     },
     "execution_count": 24,
     "metadata": {},
     "output_type": "execute_result"
    }
   ],
   "source": [
    "# size is total number of elements\n",
    "x.size"
   ]
  },
  {
   "cell_type": "code",
   "execution_count": 25,
   "metadata": {},
   "outputs": [
    {
     "data": {
      "text/plain": [
       "24"
      ]
     },
     "execution_count": 25,
     "metadata": {},
     "output_type": "execute_result"
    }
   ],
   "source": [
    "x.nbytes"
   ]
  },
  {
   "cell_type": "code",
   "execution_count": 26,
   "metadata": {},
   "outputs": [
    {
     "data": {
      "text/plain": [
       "6"
      ]
     },
     "execution_count": 26,
     "metadata": {},
     "output_type": "execute_result"
    }
   ],
   "source": [
    "# converting the type of an array can help lower the memory demands\n",
    "# https://numpy.org/doc/stable/user/basics.types.html\n",
    "x_low_mem = np.array([[1, 2, 3],\n",
    "                      [4, 5, 6]], np.uint8)\n",
    "x_low_mem.nbytes"
   ]
  },
  {
   "cell_type": "markdown",
   "metadata": {
    "slideshow": {
     "slide_type": "slide"
    }
   },
   "source": [
    "## Manipulating array shape\n",
    "\n",
    "### Diagonal\n",
    "\n",
    "The diagonal of each array is shaded below, the unshaded elements are not on the diagonal of the matrix:\n",
    "\n",
    "$$ \\begin{bmatrix}\n",
    "\\blacksquare & \\square & \\square\\\\\n",
    "\\square & \\blacksquare & \\square\\\\\n",
    "\\square & \\square & \\blacksquare\\\\\n",
    "\\square & \\square & \\square\\\\\n",
    "\\end{bmatrix} \n",
    "\\hspace{2cm}\n",
    "\\begin{bmatrix}\n",
    "\\blacksquare & \\square & \\square & \\square & \\square\\\\\n",
    "\\square & \\blacksquare & \\square& \\square & \\square\\\\\n",
    "\\square & \\square & \\blacksquare& \\square & \\square\\end{bmatrix}\n",
    "\\hspace{2cm}\n",
    "\\begin{bmatrix}\n",
    "\\blacksquare & \\square & \\square\\\\\n",
    "\\square & \\blacksquare & \\square\\\\\n",
    "\\square & \\square & \\blacksquare\n",
    "\\end{bmatrix} \n",
    "$$\n",
    "\n",
    "### Numpy methods\n",
    "- transpose\n",
    "- `.reshape()`\n",
    "    - order of reshape (row or column first?)"
   ]
  },
  {
   "cell_type": "code",
   "execution_count": 27,
   "metadata": {},
   "outputs": [
    {
     "data": {
      "text/plain": [
       "array([[1, 2, 3],\n",
       "       [4, 5, 6]])"
      ]
     },
     "execution_count": 27,
     "metadata": {},
     "output_type": "execute_result"
    }
   ],
   "source": [
    "x = np.array([[1, 2, 3],\n",
    "              [4, 5, 6]]) \n",
    "x"
   ]
  },
  {
   "cell_type": "code",
   "execution_count": 28,
   "metadata": {},
   "outputs": [
    {
     "data": {
      "text/plain": [
       "array([[1, 4],\n",
       "       [2, 5],\n",
       "       [3, 6]])"
      ]
     },
     "execution_count": 28,
     "metadata": {},
     "output_type": "execute_result"
    }
   ],
   "source": [
    "# transpose (.T): flip across the diagonal\n",
    "y = x.T\n",
    "y"
   ]
  },
  {
   "cell_type": "code",
   "execution_count": 29,
   "metadata": {},
   "outputs": [
    {
     "data": {
      "text/plain": [
       "array([[1, 2, 3, 4, 5, 6]])"
      ]
     },
     "execution_count": 29,
     "metadata": {},
     "output_type": "execute_result"
    }
   ],
   "source": [
    "# reshape allows us to change shape of matrix by defining the dimensions\n",
    "x.reshape((1, 6))"
   ]
  },
  {
   "cell_type": "code",
   "execution_count": 30,
   "metadata": {},
   "outputs": [],
   "source": [
    "# (new matrix must have same total number of elements)\n",
    "# x.reshape((1, 8))"
   ]
  },
  {
   "cell_type": "code",
   "execution_count": 146,
   "metadata": {},
   "outputs": [
    {
     "data": {
      "text/plain": [
       "array([ 0,  1,  2,  3,  4,  5,  6,  7,  8,  9, 10, 11, 12, 13, 14])"
      ]
     },
     "execution_count": 146,
     "metadata": {},
     "output_type": "execute_result"
    }
   ],
   "source": [
    "z = np.arange(0, 15)\n",
    "z"
   ]
  },
  {
   "cell_type": "code",
   "execution_count": 147,
   "metadata": {},
   "outputs": [
    {
     "data": {
      "text/plain": [
       "array([[ 0,  1,  2,  3,  4],\n",
       "       [ 5,  6,  7,  8,  9],\n",
       "       [10, 11, 12, 13, 14]])"
      ]
     },
     "execution_count": 147,
     "metadata": {},
     "output_type": "execute_result"
    }
   ],
   "source": [
    "z.reshape((3, 5))"
   ]
  },
  {
   "cell_type": "code",
   "execution_count": 150,
   "metadata": {},
   "outputs": [
    {
     "data": {
      "text/plain": [
       "array([[ 0,  1,  2],\n",
       "       [ 3,  4,  5],\n",
       "       [ 6,  7,  8],\n",
       "       [ 9, 10, 11],\n",
       "       [12, 13, 14]])"
      ]
     },
     "execution_count": 150,
     "metadata": {},
     "output_type": "execute_result"
    }
   ],
   "source": [
    "# -1 may be used at most once in the shape argument; it is used to tell python to\n",
    "# choose the value to ensure output array has same number of elements\n",
    "z.reshape((-1, 3))"
   ]
  },
  {
   "cell_type": "code",
   "execution_count": 34,
   "metadata": {},
   "outputs": [],
   "source": [
    "# be mindful that -1 can be replaced by some integer to keep same number of elements in array\n",
    "# but you need to make sure that the multiplication works!\n",
    "# z.reshape((5, -1))"
   ]
  },
  {
   "cell_type": "code",
   "execution_count": 35,
   "metadata": {},
   "outputs": [
    {
     "data": {
      "text/plain": [
       "array([[ 0,  1,  2,  3],\n",
       "       [ 4,  5,  6,  7],\n",
       "       [ 8,  9, 10, 11]])"
      ]
     },
     "execution_count": 35,
     "metadata": {},
     "output_type": "execute_result"
    }
   ],
   "source": [
    "# we can fill the array across the rows first (order='C'), which is the default\n",
    "z.reshape((3, 4), order='C')"
   ]
  },
  {
   "cell_type": "code",
   "execution_count": 36,
   "metadata": {},
   "outputs": [
    {
     "data": {
      "text/plain": [
       "array([[ 0,  3,  6,  9],\n",
       "       [ 1,  4,  7, 10],\n",
       "       [ 2,  5,  8, 11]])"
      ]
     },
     "execution_count": 36,
     "metadata": {},
     "output_type": "execute_result"
    }
   ],
   "source": [
    "# or down columns first (order='F')\n",
    "z.reshape((3, 4), order='F')"
   ]
  },
  {
   "cell_type": "markdown",
   "metadata": {
    "slideshow": {
     "slide_type": "slide"
    }
   },
   "source": [
    "## Array Indexing (slicing)\n",
    "\n",
    "You can index arrays, everything we've previously shown about `start:stop:step` indexing works for arrays too!"
   ]
  },
  {
   "cell_type": "code",
   "execution_count": 37,
   "metadata": {},
   "outputs": [
    {
     "data": {
      "text/plain": [
       "array([ 0,  1,  2,  3,  4,  5,  6,  7,  8,  9, 10])"
      ]
     },
     "execution_count": 37,
     "metadata": {},
     "output_type": "execute_result"
    }
   ],
   "source": [
    "x = np.arange(11)\n",
    "x"
   ]
  },
  {
   "cell_type": "code",
   "execution_count": 38,
   "metadata": {},
   "outputs": [
    {
     "data": {
      "text/plain": [
       "5"
      ]
     },
     "execution_count": 38,
     "metadata": {},
     "output_type": "execute_result"
    }
   ],
   "source": [
    "x[5]"
   ]
  },
  {
   "cell_type": "code",
   "execution_count": 39,
   "metadata": {},
   "outputs": [
    {
     "data": {
      "text/plain": [
       "array([2, 3, 4, 5])"
      ]
     },
     "execution_count": 39,
     "metadata": {},
     "output_type": "execute_result"
    }
   ],
   "source": [
    "x[2:6]"
   ]
  },
  {
   "cell_type": "code",
   "execution_count": 40,
   "metadata": {},
   "outputs": [
    {
     "data": {
      "text/plain": [
       "array([ 8,  9, 10])"
      ]
     },
     "execution_count": 40,
     "metadata": {},
     "output_type": "execute_result"
    }
   ],
   "source": [
    "x[-3:]"
   ]
  },
  {
   "cell_type": "code",
   "execution_count": 41,
   "metadata": {},
   "outputs": [
    {
     "data": {
      "text/plain": [
       "array([0, 1, 2, 3, 4])"
      ]
     },
     "execution_count": 41,
     "metadata": {},
     "output_type": "execute_result"
    }
   ],
   "source": [
    "x[:5]"
   ]
  },
  {
   "cell_type": "markdown",
   "metadata": {},
   "source": [
    "A two dimensional array requires two indices to get a value: `x[row_idx, col_idx]`\n",
    "\n",
    "(Just like our convention for rows first in shape, the row index comes first as we index into the array)"
   ]
  },
  {
   "cell_type": "code",
   "execution_count": 42,
   "metadata": {},
   "outputs": [
    {
     "data": {
      "text/plain": [
       "array([[ 0,  1,  2,  3,  4],\n",
       "       [ 5,  6,  7,  8,  9],\n",
       "       [10, 11, 12, 13, 14],\n",
       "       [15, 16, 17, 18, 19]])"
      ]
     },
     "execution_count": 42,
     "metadata": {},
     "output_type": "execute_result"
    }
   ],
   "source": [
    "x = np.arange(20).reshape((4, 5))\n",
    "x"
   ]
  },
  {
   "cell_type": "code",
   "execution_count": 43,
   "metadata": {},
   "outputs": [
    {
     "data": {
      "text/plain": [
       "7"
      ]
     },
     "execution_count": 43,
     "metadata": {},
     "output_type": "execute_result"
    }
   ],
   "source": [
    "# row_idx=1 (second row since python starts counting at 0)\n",
    "# col_idx=2 (third row since python starts counting at 0)\n",
    "x[1, 2]"
   ]
  },
  {
   "cell_type": "code",
   "execution_count": 44,
   "metadata": {},
   "outputs": [
    {
     "data": {
      "text/plain": [
       "array([2, 7])"
      ]
     },
     "execution_count": 44,
     "metadata": {},
     "output_type": "execute_result"
    }
   ],
   "source": [
    "# we can start:stop:step slice either index\n",
    "\n",
    "# get a slice of rows and a constant column\n",
    "x[0:2, 2]"
   ]
  },
  {
   "cell_type": "code",
   "execution_count": 45,
   "metadata": {},
   "outputs": [
    {
     "data": {
      "text/plain": [
       "array([10, 11])"
      ]
     },
     "execution_count": 45,
     "metadata": {},
     "output_type": "execute_result"
    }
   ],
   "source": [
    "# get a slice of columns and a constant row\n",
    "x[2, 0:2]"
   ]
  },
  {
   "cell_type": "markdown",
   "metadata": {},
   "source": [
    "## Super useful slice syntax on arrays:\n",
    "(so useful it deserves its own title)"
   ]
  },
  {
   "cell_type": "code",
   "execution_count": 46,
   "metadata": {
    "slideshow": {
     "slide_type": "-"
    }
   },
   "outputs": [
    {
     "data": {
      "text/plain": [
       "array([1, 2, 3])"
      ]
     },
     "execution_count": 46,
     "metadata": {},
     "output_type": "execute_result"
    }
   ],
   "source": [
    "# by default, the slice indexing chooses start:stop to give the entire object\n",
    "x = np.array([1, 2, 3])\n",
    "x[:]"
   ]
  },
  {
   "cell_type": "code",
   "execution_count": 47,
   "metadata": {},
   "outputs": [
    {
     "data": {
      "text/plain": [
       "array([[ 0,  1,  2,  3,  4],\n",
       "       [ 5,  6,  7,  8,  9],\n",
       "       [10, 11, 12, 13, 14],\n",
       "       [15, 16, 17, 18, 19]])"
      ]
     },
     "execution_count": 47,
     "metadata": {},
     "output_type": "execute_result"
    }
   ],
   "source": [
    "# we can use this to get an entire rows or columns as needed\n",
    "x = np.arange(20).reshape((4, 5))\n",
    "x"
   ]
  },
  {
   "cell_type": "code",
   "execution_count": 48,
   "metadata": {},
   "outputs": [
    {
     "data": {
      "text/plain": [
       "array([ 0,  5, 10, 15])"
      ]
     },
     "execution_count": 48,
     "metadata": {},
     "output_type": "execute_result"
    }
   ],
   "source": [
    "# get the first column\n",
    "x[:, 0]"
   ]
  },
  {
   "cell_type": "code",
   "execution_count": 49,
   "metadata": {},
   "outputs": [
    {
     "data": {
      "text/plain": [
       "array([5, 6, 7, 8, 9])"
      ]
     },
     "execution_count": 49,
     "metadata": {},
     "output_type": "execute_result"
    }
   ],
   "source": [
    "# get the second row\n",
    "x[1, :]"
   ]
  },
  {
   "cell_type": "code",
   "execution_count": 50,
   "metadata": {},
   "outputs": [
    {
     "data": {
      "text/plain": [
       "array([[ 3,  4],\n",
       "       [ 8,  9],\n",
       "       [13, 14],\n",
       "       [18, 19]])"
      ]
     },
     "execution_count": 50,
     "metadata": {},
     "output_type": "execute_result"
    }
   ],
   "source": [
    "# get the last two columns\n",
    "x[:, -2:]"
   ]
  },
  {
   "cell_type": "markdown",
   "metadata": {
    "slideshow": {
     "slide_type": "slide"
    }
   },
   "source": [
    "### Computing stats on an array\n",
    "- `.sum()`\n",
    "- `.min()`\n",
    "- `.max()`\n",
    "- `.mean()`\n",
    "- `.std()`\n",
    "    - standard deviation\n",
    "- `.var()`\n",
    "    - variance\n",
    "- `.argmin()`\n",
    "    - index of item which is smallest\n",
    "- `.argmax()`\n",
    "    - index of item which is largest"
   ]
  },
  {
   "cell_type": "code",
   "execution_count": 51,
   "metadata": {},
   "outputs": [
    {
     "data": {
      "text/plain": [
       "array([4, 3, 5, 4])"
      ]
     },
     "execution_count": 51,
     "metadata": {},
     "output_type": "execute_result"
    }
   ],
   "source": [
    "x = np.array([4, 3, 5, 4])\n",
    "x"
   ]
  },
  {
   "cell_type": "code",
   "execution_count": 52,
   "metadata": {},
   "outputs": [
    {
     "data": {
      "text/plain": [
       "1"
      ]
     },
     "execution_count": 52,
     "metadata": {},
     "output_type": "execute_result"
    }
   ],
   "source": [
    "# get index of smallest item\n",
    "# (smallest item, 3, is at index 1)\n",
    "x.argmin()"
   ]
  },
  {
   "cell_type": "code",
   "execution_count": 53,
   "metadata": {},
   "outputs": [
    {
     "data": {
      "text/plain": [
       "array([[100, 101, 102, 103],\n",
       "       [104, 105, 106, 107],\n",
       "       [108, 109, 110, 111]])"
      ]
     },
     "execution_count": 53,
     "metadata": {},
     "output_type": "execute_result"
    }
   ],
   "source": [
    "y = np.arange(100, 112).reshape((3, 4))\n",
    "y"
   ]
  },
  {
   "cell_type": "code",
   "execution_count": 54,
   "metadata": {},
   "outputs": [
    {
     "data": {
      "text/plain": [
       "(1266, 100, 111, 105.5, 3.452052529534663, 11.916666666666666)"
      ]
     },
     "execution_count": 54,
     "metadata": {},
     "output_type": "execute_result"
    }
   ],
   "source": [
    "y.sum(), y.min(), y.max(), y.mean(), y.std(), y.var()"
   ]
  },
  {
   "cell_type": "code",
   "execution_count": 55,
   "metadata": {},
   "outputs": [
    {
     "data": {
      "text/plain": [
       "array([104., 105., 106., 107.])"
      ]
     },
     "execution_count": 55,
     "metadata": {},
     "output_type": "execute_result"
    }
   ],
   "source": [
    "# axis: which of the shape parameters should I operate on? \n",
    "# shape = (shape0, shape1)\n",
    "\n",
    "# axis=0 averages across different rows to give the column average\n",
    "y.mean(axis=0)"
   ]
  },
  {
   "cell_type": "code",
   "execution_count": 56,
   "metadata": {},
   "outputs": [
    {
     "data": {
      "text/plain": [
       "array([101.5, 105.5, 109.5])"
      ]
     },
     "execution_count": 56,
     "metadata": {},
     "output_type": "execute_result"
    }
   ],
   "source": [
    "# axis=1 averages across different columns to give the row average\n",
    "y.mean(axis=1)"
   ]
  },
  {
   "cell_type": "code",
   "execution_count": 57,
   "metadata": {},
   "outputs": [
    {
     "data": {
      "text/plain": [
       "array([100, 104, 108])"
      ]
     },
     "execution_count": 57,
     "metadata": {},
     "output_type": "execute_result"
    }
   ],
   "source": [
    "# axis is an accepted keyword of all methods listed above\n",
    "y.min(axis=1)"
   ]
  },
  {
   "cell_type": "code",
   "execution_count": 58,
   "metadata": {},
   "outputs": [
    {
     "data": {
      "text/plain": [
       "array([100, 101, 102, 103])"
      ]
     },
     "execution_count": 58,
     "metadata": {},
     "output_type": "execute_result"
    }
   ],
   "source": [
    "y.min(axis=0)"
   ]
  },
  {
   "cell_type": "markdown",
   "metadata": {
    "slideshow": {
     "slide_type": "slide"
    }
   },
   "source": [
    "## Why are we doing this again?\n",
    "\n",
    "<img src=\"https://imgur.com/orZWHly.png\" width=300 />"
   ]
  },
  {
   "cell_type": "code",
   "execution_count": 59,
   "metadata": {},
   "outputs": [
    {
     "data": {
      "text/html": [
       "<div>\n",
       "<style scoped>\n",
       "    .dataframe tbody tr th:only-of-type {\n",
       "        vertical-align: middle;\n",
       "    }\n",
       "\n",
       "    .dataframe tbody tr th {\n",
       "        vertical-align: top;\n",
       "    }\n",
       "\n",
       "    .dataframe thead th {\n",
       "        text-align: right;\n",
       "    }\n",
       "</style>\n",
       "<table border=\"1\" class=\"dataframe\">\n",
       "  <thead>\n",
       "    <tr style=\"text-align: right;\">\n",
       "      <th></th>\n",
       "      <th>species</th>\n",
       "      <th>island</th>\n",
       "      <th>bill_length_mm</th>\n",
       "      <th>bill_depth_mm</th>\n",
       "      <th>flipper_length_mm</th>\n",
       "      <th>body_mass_g</th>\n",
       "      <th>sex</th>\n",
       "    </tr>\n",
       "  </thead>\n",
       "  <tbody>\n",
       "    <tr>\n",
       "      <th>0</th>\n",
       "      <td>Adelie</td>\n",
       "      <td>Torgersen</td>\n",
       "      <td>39.1</td>\n",
       "      <td>18.7</td>\n",
       "      <td>181.0</td>\n",
       "      <td>3750.0</td>\n",
       "      <td>Male</td>\n",
       "    </tr>\n",
       "    <tr>\n",
       "      <th>1</th>\n",
       "      <td>Adelie</td>\n",
       "      <td>Torgersen</td>\n",
       "      <td>39.5</td>\n",
       "      <td>17.4</td>\n",
       "      <td>186.0</td>\n",
       "      <td>3800.0</td>\n",
       "      <td>Female</td>\n",
       "    </tr>\n",
       "    <tr>\n",
       "      <th>2</th>\n",
       "      <td>Adelie</td>\n",
       "      <td>Torgersen</td>\n",
       "      <td>40.3</td>\n",
       "      <td>18.0</td>\n",
       "      <td>195.0</td>\n",
       "      <td>3250.0</td>\n",
       "      <td>Female</td>\n",
       "    </tr>\n",
       "    <tr>\n",
       "      <th>3</th>\n",
       "      <td>Adelie</td>\n",
       "      <td>Torgersen</td>\n",
       "      <td>NaN</td>\n",
       "      <td>NaN</td>\n",
       "      <td>NaN</td>\n",
       "      <td>NaN</td>\n",
       "      <td>NaN</td>\n",
       "    </tr>\n",
       "    <tr>\n",
       "      <th>4</th>\n",
       "      <td>Adelie</td>\n",
       "      <td>Torgersen</td>\n",
       "      <td>36.7</td>\n",
       "      <td>19.3</td>\n",
       "      <td>193.0</td>\n",
       "      <td>3450.0</td>\n",
       "      <td>Female</td>\n",
       "    </tr>\n",
       "  </tbody>\n",
       "</table>\n",
       "</div>"
      ],
      "text/plain": [
       "  species     island  bill_length_mm  bill_depth_mm  flipper_length_mm  \\\n",
       "0  Adelie  Torgersen            39.1           18.7              181.0   \n",
       "1  Adelie  Torgersen            39.5           17.4              186.0   \n",
       "2  Adelie  Torgersen            40.3           18.0              195.0   \n",
       "3  Adelie  Torgersen             NaN            NaN                NaN   \n",
       "4  Adelie  Torgersen            36.7           19.3              193.0   \n",
       "\n",
       "   body_mass_g     sex  \n",
       "0       3750.0    Male  \n",
       "1       3800.0  Female  \n",
       "2       3250.0  Female  \n",
       "3          NaN     NaN  \n",
       "4       3450.0  Female  "
      ]
     },
     "execution_count": 59,
     "metadata": {},
     "output_type": "execute_result"
    }
   ],
   "source": [
    "import seaborn as sns\n",
    "\n",
    "# data source = 'https://github.com/mwaskom/seaborn-data/blob/master/penguins.csv'\n",
    "df_penguin = sns.load_dataset('penguins')\n",
    "df_penguin.head()"
   ]
  },
  {
   "cell_type": "markdown",
   "metadata": {
    "slideshow": {
     "slide_type": "slide"
    }
   },
   "source": [
    "## Array Operations: \n",
    "- array and a scalar: \n",
    "    - apply operation to every element of array\n",
    "- array and array: \n",
    "    - apply operation to corresponding elements of arrays (requires shape or [special](https://numpy.org/doc/stable/user/basics.broadcasting.html) structure)\n"
   ]
  },
  {
   "cell_type": "code",
   "execution_count": 60,
   "metadata": {},
   "outputs": [
    {
     "data": {
      "text/plain": [
       "array([[100, 101, 102, 103],\n",
       "       [104, 105, 106, 107],\n",
       "       [108, 109, 110, 111]])"
      ]
     },
     "execution_count": 60,
     "metadata": {},
     "output_type": "execute_result"
    }
   ],
   "source": [
    "y1 = np.arange(12).reshape((3, 4))\n",
    "y"
   ]
  },
  {
   "cell_type": "code",
   "execution_count": 61,
   "metadata": {},
   "outputs": [
    {
     "data": {
      "text/plain": [
       "array([[ 3,  4,  5,  6],\n",
       "       [ 7,  8,  9, 10],\n",
       "       [11, 12, 13, 14]])"
      ]
     },
     "execution_count": 61,
     "metadata": {},
     "output_type": "execute_result"
    }
   ],
   "source": [
    "y1 + 3"
   ]
  },
  {
   "cell_type": "code",
   "execution_count": 62,
   "metadata": {},
   "outputs": [
    {
     "data": {
      "text/plain": [
       "array([[  0,  10,  20,  30],\n",
       "       [ 40,  50,  60,  70],\n",
       "       [ 80,  90, 100, 110]])"
      ]
     },
     "execution_count": 62,
     "metadata": {},
     "output_type": "execute_result"
    }
   ],
   "source": [
    "y1 * 10"
   ]
  },
  {
   "cell_type": "code",
   "execution_count": 63,
   "metadata": {},
   "outputs": [
    {
     "data": {
      "text/plain": [
       "array([[  0,   1,   4,   9],\n",
       "       [ 16,  25,  36,  49],\n",
       "       [ 64,  81, 100, 121]])"
      ]
     },
     "execution_count": 63,
     "metadata": {},
     "output_type": "execute_result"
    }
   ],
   "source": [
    "y1 ** 2"
   ]
  },
  {
   "cell_type": "code",
   "execution_count": 64,
   "metadata": {},
   "outputs": [
    {
     "data": {
      "text/plain": [
       "array([[100, 101, 102, 103],\n",
       "       [104, 105, 106, 107],\n",
       "       [108, 109, 110, 111]])"
      ]
     },
     "execution_count": 64,
     "metadata": {},
     "output_type": "execute_result"
    }
   ],
   "source": [
    "# array and array arithmetic\n",
    "y2 = np.arange(100, 112).reshape((3, 4))\n",
    "y2"
   ]
  },
  {
   "cell_type": "code",
   "execution_count": 65,
   "metadata": {},
   "outputs": [
    {
     "data": {
      "text/plain": [
       "array([[100, 102, 104, 106],\n",
       "       [108, 110, 112, 114],\n",
       "       [116, 118, 120, 122]])"
      ]
     },
     "execution_count": 65,
     "metadata": {},
     "output_type": "execute_result"
    }
   ],
   "source": [
    "# array and array arithmetic applies operation to corresponding items in arrays\n",
    "y1 + y2"
   ]
  },
  {
   "cell_type": "code",
   "execution_count": 66,
   "metadata": {},
   "outputs": [
    {
     "data": {
      "text/plain": [
       "array([[   0,  101,  204,  309],\n",
       "       [ 416,  525,  636,  749],\n",
       "       [ 864,  981, 1100, 1221]])"
      ]
     },
     "execution_count": 66,
     "metadata": {},
     "output_type": "execute_result"
    }
   ],
   "source": [
    "y1 * y2"
   ]
  },
  {
   "cell_type": "code",
   "execution_count": 67,
   "metadata": {},
   "outputs": [
    {
     "data": {
      "text/plain": [
       "array([[ 0,  1,  2,  3],\n",
       "       [ 4,  5,  6,  7],\n",
       "       [ 8,  9, 10, 11]])"
      ]
     },
     "execution_count": 67,
     "metadata": {},
     "output_type": "execute_result"
    }
   ],
   "source": [
    "y1"
   ]
  },
  {
   "cell_type": "code",
   "execution_count": 68,
   "metadata": {},
   "outputs": [
    {
     "data": {
      "text/plain": [
       "array([[1000, 2001, 3002, 4003],\n",
       "       [1004, 2005, 3006, 4007],\n",
       "       [1008, 2009, 3010, 4011]])"
      ]
     },
     "execution_count": 68,
     "metadata": {},
     "output_type": "execute_result"
    }
   ],
   "source": [
    "# (++) adding a constant row (x) to all rows of a matrix (y1)\n",
    "# more details here: https://numpy.org/doc/stable/user/basics.broadcasting.html\n",
    "x = np.array([1000, 2000, 3000, 4000])\n",
    "y1 + x"
   ]
  },
  {
   "cell_type": "markdown",
   "metadata": {},
   "source": [
    "# If I haven't given it yet, it's 5-minute Break Time! Ask me questions about NumPy, or go get water, or stretch, or just veg out for a few minutes."
   ]
  },
  {
   "cell_type": "markdown",
   "metadata": {
    "slideshow": {
     "slide_type": "slide"
    }
   },
   "source": [
    "# Pandas\n",
    "\n",
    "Pandas is a python module which stores data.  \n",
    "\n",
    "### If we already have `np.array()`, why do we need pandas?\n",
    "- pandas supports non numeric data (strings for categorical data, for example)\n",
    "- pandas supports reading / storing data from more formats\n",
    "    - csv (spreadsheets)\n",
    "- pandas more elegantly deals with missing data\n",
    "- pandas handles indexing woes\n",
    "\n",
    "You could do almost everything pandas does with numpy arrays ... but it would be much more difficult to accomplish.\n",
    "\n",
    "### Pandas has two essential objects:\n",
    "- **dataframe**\n",
    "    - 2 dimensional data structure\n",
    "    - you've already seen one today!  (we replicate below)\n",
    "- **series (vectors)**\n",
    "    - 1 dimensional data structure, each item associated with some index\n",
    "    - you could store the weight of all the penguins as a series \n",
    "        - (all samples of one feature)\n",
    "    - you could store the weight, bill size, sex, island, etc for a single penguin as a series\n",
    "        - (all features for one sample)"
   ]
  },
  {
   "cell_type": "code",
   "execution_count": 69,
   "metadata": {},
   "outputs": [
    {
     "data": {
      "text/html": [
       "<div>\n",
       "<style scoped>\n",
       "    .dataframe tbody tr th:only-of-type {\n",
       "        vertical-align: middle;\n",
       "    }\n",
       "\n",
       "    .dataframe tbody tr th {\n",
       "        vertical-align: top;\n",
       "    }\n",
       "\n",
       "    .dataframe thead th {\n",
       "        text-align: right;\n",
       "    }\n",
       "</style>\n",
       "<table border=\"1\" class=\"dataframe\">\n",
       "  <thead>\n",
       "    <tr style=\"text-align: right;\">\n",
       "      <th></th>\n",
       "      <th>species</th>\n",
       "      <th>island</th>\n",
       "      <th>bill_length_mm</th>\n",
       "      <th>bill_depth_mm</th>\n",
       "      <th>flipper_length_mm</th>\n",
       "      <th>body_mass_g</th>\n",
       "      <th>sex</th>\n",
       "    </tr>\n",
       "  </thead>\n",
       "  <tbody>\n",
       "    <tr>\n",
       "      <th>0</th>\n",
       "      <td>Adelie</td>\n",
       "      <td>Torgersen</td>\n",
       "      <td>39.1</td>\n",
       "      <td>18.7</td>\n",
       "      <td>181.0</td>\n",
       "      <td>3750.0</td>\n",
       "      <td>Male</td>\n",
       "    </tr>\n",
       "    <tr>\n",
       "      <th>1</th>\n",
       "      <td>Adelie</td>\n",
       "      <td>Torgersen</td>\n",
       "      <td>39.5</td>\n",
       "      <td>17.4</td>\n",
       "      <td>186.0</td>\n",
       "      <td>3800.0</td>\n",
       "      <td>Female</td>\n",
       "    </tr>\n",
       "    <tr>\n",
       "      <th>2</th>\n",
       "      <td>Adelie</td>\n",
       "      <td>Torgersen</td>\n",
       "      <td>40.3</td>\n",
       "      <td>18.0</td>\n",
       "      <td>195.0</td>\n",
       "      <td>3250.0</td>\n",
       "      <td>Female</td>\n",
       "    </tr>\n",
       "    <tr>\n",
       "      <th>3</th>\n",
       "      <td>Adelie</td>\n",
       "      <td>Torgersen</td>\n",
       "      <td>NaN</td>\n",
       "      <td>NaN</td>\n",
       "      <td>NaN</td>\n",
       "      <td>NaN</td>\n",
       "      <td>NaN</td>\n",
       "    </tr>\n",
       "    <tr>\n",
       "      <th>4</th>\n",
       "      <td>Adelie</td>\n",
       "      <td>Torgersen</td>\n",
       "      <td>36.7</td>\n",
       "      <td>19.3</td>\n",
       "      <td>193.0</td>\n",
       "      <td>3450.0</td>\n",
       "      <td>Female</td>\n",
       "    </tr>\n",
       "  </tbody>\n",
       "</table>\n",
       "</div>"
      ],
      "text/plain": [
       "  species     island  bill_length_mm  bill_depth_mm  flipper_length_mm  \\\n",
       "0  Adelie  Torgersen            39.1           18.7              181.0   \n",
       "1  Adelie  Torgersen            39.5           17.4              186.0   \n",
       "2  Adelie  Torgersen            40.3           18.0              195.0   \n",
       "3  Adelie  Torgersen             NaN            NaN                NaN   \n",
       "4  Adelie  Torgersen            36.7           19.3              193.0   \n",
       "\n",
       "   body_mass_g     sex  \n",
       "0       3750.0    Male  \n",
       "1       3800.0  Female  \n",
       "2       3250.0  Female  \n",
       "3          NaN     NaN  \n",
       "4       3450.0  Female  "
      ]
     },
     "execution_count": 69,
     "metadata": {},
     "output_type": "execute_result"
    }
   ],
   "source": [
    "import seaborn as sns\n",
    "\n",
    "# df stands for dataframe.  df_penguin is a dataframe of penguin data\n",
    "df_penguin = sns.load_dataset('penguins')\n",
    "df_penguin.head()"
   ]
  },
  {
   "cell_type": "code",
   "execution_count": 70,
   "metadata": {},
   "outputs": [
    {
     "data": {
      "text/plain": [
       "pandas.core.frame.DataFrame"
      ]
     },
     "execution_count": 70,
     "metadata": {},
     "output_type": "execute_result"
    }
   ],
   "source": [
    "# the table above is a dataframe\n",
    "type(df_penguin)"
   ]
  },
  {
   "cell_type": "markdown",
   "metadata": {},
   "source": [
    "## Pandas Series\n",
    "### building:\n",
    "- building: default index\n",
    "- building: custom index\n",
    "- building: from a dict"
   ]
  },
  {
   "cell_type": "code",
   "execution_count": 71,
   "metadata": {},
   "outputs": [
    {
     "data": {
      "text/plain": [
       "species                 Adelie\n",
       "island               Torgersen\n",
       "bill_length_mm            39.1\n",
       "bill_depth_mm             18.7\n",
       "flipper_length_mm        181.0\n",
       "body_mass_g             3750.0\n",
       "sex                       Male\n",
       "Name: 0, dtype: object"
      ]
     },
     "execution_count": 71,
     "metadata": {},
     "output_type": "execute_result"
    }
   ],
   "source": [
    "# each row, or column is a series object\n",
    "# this represents first row of dataframe\n",
    "penguin0_series = df_penguin.iloc[0, :]\n",
    "penguin0_series"
   ]
  },
  {
   "cell_type": "markdown",
   "metadata": {},
   "source": [
    "Pandas series contain a sequence of labelled data elements:\n",
    "- penguin0's `species` is `Adelie`\n",
    "- penguin0's `island` is `Torgersen`\n",
    "- penguin0's `bill_length_mm` is `39.1` ...\n",
    "- penguin0's `<index-name>` is `<corresponding-value>`\n",
    "\n",
    "A series is quite similar to a dictionary ..."
   ]
  },
  {
   "cell_type": "code",
   "execution_count": 72,
   "metadata": {},
   "outputs": [],
   "source": [
    "penguin0_dict = {'species': 'Adelie',\n",
    " 'island': 'Torgersen',\n",
    " 'bill_length_mm': 39.1,\n",
    " 'bill_depth_mm': 18.7,\n",
    " 'flipper_length_mm': 181.0,\n",
    " 'body_mass_g': 3750.0,\n",
    " 'sex': 'Male'}"
   ]
  },
  {
   "cell_type": "code",
   "execution_count": 73,
   "metadata": {},
   "outputs": [
    {
     "data": {
      "text/plain": [
       "species                 Adelie\n",
       "island               Torgersen\n",
       "bill_length_mm            39.1\n",
       "bill_depth_mm             18.7\n",
       "flipper_length_mm        181.0\n",
       "body_mass_g             3750.0\n",
       "sex                       Male\n",
       "dtype: object"
      ]
     },
     "execution_count": 73,
     "metadata": {},
     "output_type": "execute_result"
    }
   ],
   "source": [
    "import pandas as pd\n",
    "\n",
    "# build a series from dict\n",
    "penguin0_series = pd.Series(penguin0_dict)\n",
    "penguin0_series"
   ]
  },
  {
   "cell_type": "code",
   "execution_count": 74,
   "metadata": {},
   "outputs": [
    {
     "data": {
      "text/plain": [
       "species                 Adelie\n",
       "island               Torgersen\n",
       "bill_length_mm            39.1\n",
       "bill_depth_mm             18.7\n",
       "flipper_length_mm        181.0\n",
       "body_mass_g             3750.0\n",
       "sex                       Male\n",
       "dtype: object"
      ]
     },
     "execution_count": 74,
     "metadata": {},
     "output_type": "execute_result"
    }
   ],
   "source": [
    "# you can also pass two corresponding lists / tuples\n",
    "index = ['species', 'island', 'bill_length_mm', 'bill_depth_mm',\n",
    "       'flipper_length_mm', 'body_mass_g', 'sex']\n",
    "values = ['Adelie', 'Torgersen', 39.1, 18.7, 181.0, 3750.0, 'Male']\n",
    "\n",
    "penguin0_series = pd.Series(values, index=index)\n",
    "penguin0_series"
   ]
  },
  {
   "cell_type": "code",
   "execution_count": 75,
   "metadata": {},
   "outputs": [
    {
     "data": {
      "text/plain": [
       "0          vanilla\n",
       "1        chocolate\n",
       "2    cherry garcia\n",
       "3          oatmeal\n",
       "dtype: object"
      ]
     },
     "execution_count": 75,
     "metadata": {},
     "output_type": "execute_result"
    }
   ],
   "source": [
    "# sometimes your data has no meaningful index\n",
    "# pandas will default to indexing things with integers\n",
    "ice_cream_flavors = 'vanilla', 'chocolate', 'cherry garcia', 'oatmeal'\n",
    "pd.Series(ice_cream_flavors)"
   ]
  },
  {
   "cell_type": "code",
   "execution_count": 76,
   "metadata": {},
   "outputs": [
    {
     "data": {
      "text/plain": [
       "array(['Adelie', 'Torgersen', 39.1, 18.7, 181.0, 3750.0, 'Male'],\n",
       "      dtype=object)"
      ]
     },
     "execution_count": 76,
     "metadata": {},
     "output_type": "execute_result"
    }
   ],
   "source": [
    "# you can access values via .values\n",
    "penguin0_series.values"
   ]
  },
  {
   "cell_type": "code",
   "execution_count": 77,
   "metadata": {},
   "outputs": [
    {
     "data": {
      "text/plain": [
       "Index(['species', 'island', 'bill_length_mm', 'bill_depth_mm',\n",
       "       'flipper_length_mm', 'body_mass_g', 'sex'],\n",
       "      dtype='object')"
      ]
     },
     "execution_count": 77,
     "metadata": {},
     "output_type": "execute_result"
    }
   ],
   "source": [
    "# you can access index via .index\n",
    "penguin0_series.index"
   ]
  },
  {
   "cell_type": "markdown",
   "metadata": {},
   "source": [
    "### Using Series (hey, don't they look a little like dictionaries?)\n",
    "- casting dictionaries to series\n",
    "- accessing custom index:\n",
    "    - by name: `series.loc[name]`\n",
    "    - by position: `series.iloc[idx]`\n",
    "- iterating: keys, items, iteritems (much like dict)\n",
    "- deleting an entry"
   ]
  },
  {
   "cell_type": "code",
   "execution_count": 78,
   "metadata": {},
   "outputs": [
    {
     "data": {
      "text/plain": [
       "eric      17\n",
       "qi         7\n",
       "lynne      3\n",
       "tamrat     1\n",
       "dtype: int64"
      ]
     },
     "execution_count": 78,
     "metadata": {},
     "output_type": "execute_result"
    }
   ],
   "source": [
    "dict_fav_num = {'eric':  17, 'qi': 7, 'lynne': 3, 'tamrat': 1}\n",
    "series_fav_num = pd.Series(dict_fav_num)\n",
    "series_fav_num"
   ]
  },
  {
   "cell_type": "code",
   "execution_count": 79,
   "metadata": {},
   "outputs": [
    {
     "data": {
      "text/plain": [
       "17"
      ]
     },
     "execution_count": 79,
     "metadata": {},
     "output_type": "execute_result"
    }
   ],
   "source": [
    "# lookup value associated with index='eric'\n",
    "series_fav_num['eric']"
   ]
  },
  {
   "cell_type": "code",
   "execution_count": 80,
   "metadata": {},
   "outputs": [
    {
     "data": {
      "text/plain": [
       "17"
      ]
     },
     "execution_count": 80,
     "metadata": {},
     "output_type": "execute_result"
    }
   ],
   "source": [
    "# another way to lookup value associated with index='eric'\n",
    "series_fav_num.loc['eric']"
   ]
  },
  {
   "cell_type": "code",
   "execution_count": 81,
   "metadata": {},
   "outputs": [
    {
     "data": {
      "text/plain": [
       "7"
      ]
     },
     "execution_count": 81,
     "metadata": {},
     "output_type": "execute_result"
    }
   ],
   "source": [
    "# return the value in position 2 (the third position, from top)\n",
    "series_fav_num.iloc[1]"
   ]
  },
  {
   "cell_type": "code",
   "execution_count": 82,
   "metadata": {},
   "outputs": [
    {
     "data": {
      "text/plain": [
       "eric        17\n",
       "qi           7\n",
       "lynne     1000\n",
       "tamrat       1\n",
       "dtype: int64"
      ]
     },
     "execution_count": 82,
     "metadata": {},
     "output_type": "execute_result"
    }
   ],
   "source": [
    "# each of these access methods can also set the value\n",
    "series_fav_num.iloc[2] = 1000\n",
    "series_fav_num"
   ]
  },
  {
   "cell_type": "code",
   "execution_count": 83,
   "metadata": {},
   "outputs": [
    {
     "name": "stdout",
     "output_type": "stream",
     "text": [
      "eric\n",
      "qi\n",
      "lynne\n",
      "tamrat\n"
     ]
    }
   ],
   "source": [
    "for idx in series_fav_num.index:\n",
    "    print(idx)"
   ]
  },
  {
   "cell_type": "code",
   "execution_count": 84,
   "metadata": {},
   "outputs": [
    {
     "data": {
      "text/plain": [
       "True"
      ]
     },
     "execution_count": 84,
     "metadata": {},
     "output_type": "execute_result"
    }
   ],
   "source": [
    "# check membership of item in index\n",
    "'eric' in series_fav_num.index"
   ]
  },
  {
   "cell_type": "code",
   "execution_count": 85,
   "metadata": {},
   "outputs": [
    {
     "data": {
      "text/plain": [
       "False"
      ]
     },
     "execution_count": 85,
     "metadata": {},
     "output_type": "execute_result"
    }
   ],
   "source": [
    "'alice' in series_fav_num.index"
   ]
  },
  {
   "cell_type": "code",
   "execution_count": 86,
   "metadata": {},
   "outputs": [
    {
     "name": "stdout",
     "output_type": "stream",
     "text": [
      "17\n",
      "7\n",
      "1000\n",
      "1\n"
     ]
    }
   ],
   "source": [
    "# iterating through values\n",
    "for val in series_fav_num.values:\n",
    "    print(val)"
   ]
  },
  {
   "cell_type": "code",
   "execution_count": 87,
   "metadata": {},
   "outputs": [
    {
     "name": "stdout",
     "output_type": "stream",
     "text": [
      "eric\n",
      "qi\n",
      "lynne\n",
      "tamrat\n"
     ]
    }
   ],
   "source": [
    "# iterating through index (just a like dict!)\n",
    "# .keys() produces same thing as .index\n",
    "for key in series_fav_num.keys():\n",
    "    print(key)"
   ]
  },
  {
   "cell_type": "code",
   "execution_count": 88,
   "metadata": {},
   "outputs": [
    {
     "name": "stdout",
     "output_type": "stream",
     "text": [
      "eric 17\n",
      "qi 7\n",
      "lynne 1000\n",
      "tamrat 1\n"
     ]
    }
   ],
   "source": [
    "# iterating through index, value pairs (just like dict!)\n",
    "for key, val in series_fav_num.items():\n",
    "    print(key, val)"
   ]
  },
  {
   "cell_type": "code",
   "execution_count": 89,
   "metadata": {},
   "outputs": [],
   "source": [
    "# removing a pair by its corresponding index (just like dict!)\n",
    "del series_fav_num['eric']"
   ]
  },
  {
   "cell_type": "code",
   "execution_count": 90,
   "metadata": {},
   "outputs": [
    {
     "data": {
      "text/plain": [
       "qi           7\n",
       "lynne     1000\n",
       "tamrat       1\n",
       "dtype: int64"
      ]
     },
     "execution_count": 90,
     "metadata": {},
     "output_type": "execute_result"
    }
   ],
   "source": [
    "series_fav_num"
   ]
  },
  {
   "cell_type": "markdown",
   "metadata": {},
   "source": [
    "### Describing a `pd.Series`\n",
    "\n",
    "Just like numpy arrays:\n",
    "- `Series.argmin()`\n",
    "    - which index has smallest value\n",
    "    - pandas gives the row number, not the index\n",
    "- `Series.argmax()`\n",
    "    - which index has largest value\n",
    "    - pandas gives the row number, not the index\n",
    "- `Series.mean()`\n",
    "- `Series.min()`\n",
    "- `Series.max()`\n",
    "- `Series.std()`\n",
    "- `Series.var()`\n",
    "\n",
    "New to pandas:\n",
    "- `Series.count()`\n",
    "    - number of item pairs in series\n",
    "- `Series.describe()`\n",
    "    - summary statistics"
   ]
  },
  {
   "cell_type": "code",
   "execution_count": 91,
   "metadata": {},
   "outputs": [
    {
     "data": {
      "text/plain": [
       "3"
      ]
     },
     "execution_count": 91,
     "metadata": {},
     "output_type": "execute_result"
    }
   ],
   "source": [
    "# number of entries (rows)\n",
    "series_fav_num.count()"
   ]
  },
  {
   "cell_type": "code",
   "execution_count": 92,
   "metadata": {},
   "outputs": [
    {
     "data": {
      "text/plain": [
       "count       3.000000\n",
       "mean      336.000000\n",
       "std       575.048694\n",
       "min         1.000000\n",
       "25%         4.000000\n",
       "50%         7.000000\n",
       "75%       503.500000\n",
       "max      1000.000000\n",
       "dtype: float64"
      ]
     },
     "execution_count": 92,
     "metadata": {},
     "output_type": "execute_result"
    }
   ],
   "source": [
    "# other descriptors/summary statistics\n",
    "series_fav_num.describe()"
   ]
  },
  {
   "cell_type": "markdown",
   "metadata": {},
   "source": [
    "## Pandas: DataFrame\n",
    "\n",
    "Remember:\n",
    "- `Series`:  1d data object\n",
    "- `DataFrame`: 2d data object\n",
    "\n",
    "`DataFrame`s represent two-dimensional data, for example, grades:\n",
    "\n",
    "|           | Quiz 0 | Quiz 1 | Quiz 2 |\n",
    "|-----------|--------|--------|--------|\n",
    "| Student 0 | 80     | 90     | 50     |\n",
    "| Student 1 | 87     | 92     | 80     |\n",
    "\n",
    "Each column or row above could be considered a `Series` object (as we'll see later, we can indeed extract a single row or column of a dataframe as a `Series` object)."
   ]
  },
  {
   "cell_type": "code",
   "execution_count": 93,
   "metadata": {},
   "outputs": [
    {
     "data": {
      "text/html": [
       "<div>\n",
       "<style scoped>\n",
       "    .dataframe tbody tr th:only-of-type {\n",
       "        vertical-align: middle;\n",
       "    }\n",
       "\n",
       "    .dataframe tbody tr th {\n",
       "        vertical-align: top;\n",
       "    }\n",
       "\n",
       "    .dataframe thead th {\n",
       "        text-align: right;\n",
       "    }\n",
       "</style>\n",
       "<table border=\"1\" class=\"dataframe\">\n",
       "  <thead>\n",
       "    <tr style=\"text-align: right;\">\n",
       "      <th></th>\n",
       "      <th>quiz0</th>\n",
       "      <th>quiz1</th>\n",
       "      <th>quiz2</th>\n",
       "    </tr>\n",
       "  </thead>\n",
       "  <tbody>\n",
       "    <tr>\n",
       "      <th>student0</th>\n",
       "      <td>80</td>\n",
       "      <td>90</td>\n",
       "      <td>50</td>\n",
       "    </tr>\n",
       "    <tr>\n",
       "      <th>student1</th>\n",
       "      <td>87</td>\n",
       "      <td>92</td>\n",
       "      <td>80</td>\n",
       "    </tr>\n",
       "  </tbody>\n",
       "</table>\n",
       "</div>"
      ],
      "text/plain": [
       "          quiz0  quiz1  quiz2\n",
       "student0     80     90     50\n",
       "student1     87     92     80"
      ]
     },
     "execution_count": 93,
     "metadata": {},
     "output_type": "execute_result"
    }
   ],
   "source": [
    "import pandas as pd\n",
    "import numpy as np\n",
    "\n",
    "quiz_array = np.array([[80, 90, 50],\n",
    "                 [87, 92, 80]])\n",
    "\n",
    "df_quiz = pd.DataFrame(quiz_array, \n",
    "                       columns=('quiz0', 'quiz1', 'quiz2'), \n",
    "                       index=('student0', 'student1'))\n",
    "df_quiz"
   ]
  },
  {
   "cell_type": "code",
   "execution_count": 94,
   "metadata": {},
   "outputs": [
    {
     "data": {
      "text/html": [
       "<div>\n",
       "<style scoped>\n",
       "    .dataframe tbody tr th:only-of-type {\n",
       "        vertical-align: middle;\n",
       "    }\n",
       "\n",
       "    .dataframe tbody tr th {\n",
       "        vertical-align: top;\n",
       "    }\n",
       "\n",
       "    .dataframe thead th {\n",
       "        text-align: right;\n",
       "    }\n",
       "</style>\n",
       "<table border=\"1\" class=\"dataframe\">\n",
       "  <thead>\n",
       "    <tr style=\"text-align: right;\">\n",
       "      <th></th>\n",
       "      <th>quiz0</th>\n",
       "      <th>quiz1</th>\n",
       "      <th>quiz2</th>\n",
       "    </tr>\n",
       "  </thead>\n",
       "  <tbody>\n",
       "    <tr>\n",
       "      <th>student0</th>\n",
       "      <td>80</td>\n",
       "      <td>90</td>\n",
       "      <td>50</td>\n",
       "    </tr>\n",
       "    <tr>\n",
       "      <th>student1</th>\n",
       "      <td>87</td>\n",
       "      <td>92</td>\n",
       "      <td>80</td>\n",
       "    </tr>\n",
       "  </tbody>\n",
       "</table>\n",
       "</div>"
      ],
      "text/plain": [
       "          quiz0  quiz1  quiz2\n",
       "student0     80     90     50\n",
       "student1     87     92     80"
      ]
     },
     "execution_count": 94,
     "metadata": {},
     "output_type": "execute_result"
    }
   ],
   "source": [
    "# we construct a dataframe as a dictionary\n",
    "# keys of the dictionary are columns of dataframe\n",
    "# values are lists (or tuples) of the values in each column\n",
    "quiz_dict = {'quiz0': [80, 87],\n",
    "            'quiz1': [90, 92],\n",
    "            'quiz2': [50, 80]}\n",
    "pd.DataFrame(quiz_dict, index=('student0', 'student1'))"
   ]
  },
  {
   "cell_type": "code",
   "execution_count": 95,
   "metadata": {},
   "outputs": [
    {
     "data": {
      "text/html": [
       "<div>\n",
       "<style scoped>\n",
       "    .dataframe tbody tr th:only-of-type {\n",
       "        vertical-align: middle;\n",
       "    }\n",
       "\n",
       "    .dataframe tbody tr th {\n",
       "        vertical-align: top;\n",
       "    }\n",
       "\n",
       "    .dataframe thead th {\n",
       "        text-align: right;\n",
       "    }\n",
       "</style>\n",
       "<table border=\"1\" class=\"dataframe\">\n",
       "  <thead>\n",
       "    <tr style=\"text-align: right;\">\n",
       "      <th></th>\n",
       "      <th>student0</th>\n",
       "      <th>student1</th>\n",
       "    </tr>\n",
       "  </thead>\n",
       "  <tbody>\n",
       "    <tr>\n",
       "      <th>quiz0</th>\n",
       "      <td>80</td>\n",
       "      <td>87</td>\n",
       "    </tr>\n",
       "    <tr>\n",
       "      <th>quiz1</th>\n",
       "      <td>90</td>\n",
       "      <td>92</td>\n",
       "    </tr>\n",
       "    <tr>\n",
       "      <th>quiz2</th>\n",
       "      <td>50</td>\n",
       "      <td>80</td>\n",
       "    </tr>\n",
       "  </tbody>\n",
       "</table>\n",
       "</div>"
      ],
      "text/plain": [
       "       student0  student1\n",
       "quiz0        80        87\n",
       "quiz1        90        92\n",
       "quiz2        50        80"
      ]
     },
     "execution_count": 95,
     "metadata": {},
     "output_type": "execute_result"
    }
   ],
   "source": [
    "# another way to construct, this time the transpose\n",
    "quiz_dict2 = {'student0': [80, 90, 50],\n",
    "             'student1': [87, 92, 80]}\n",
    "pd.DataFrame(quiz_dict2, index=('quiz0', 'quiz1', 'quiz2'))"
   ]
  },
  {
   "cell_type": "code",
   "execution_count": 96,
   "metadata": {},
   "outputs": [
    {
     "data": {
      "text/html": [
       "<div>\n",
       "<style scoped>\n",
       "    .dataframe tbody tr th:only-of-type {\n",
       "        vertical-align: middle;\n",
       "    }\n",
       "\n",
       "    .dataframe tbody tr th {\n",
       "        vertical-align: top;\n",
       "    }\n",
       "\n",
       "    .dataframe thead th {\n",
       "        text-align: right;\n",
       "    }\n",
       "</style>\n",
       "<table border=\"1\" class=\"dataframe\">\n",
       "  <thead>\n",
       "    <tr style=\"text-align: right;\">\n",
       "      <th></th>\n",
       "      <th>student0</th>\n",
       "      <th>student1</th>\n",
       "    </tr>\n",
       "  </thead>\n",
       "  <tbody>\n",
       "    <tr>\n",
       "      <th>quiz0</th>\n",
       "      <td>80</td>\n",
       "      <td>87</td>\n",
       "    </tr>\n",
       "    <tr>\n",
       "      <th>quiz1</th>\n",
       "      <td>90</td>\n",
       "      <td>92</td>\n",
       "    </tr>\n",
       "    <tr>\n",
       "      <th>quiz2</th>\n",
       "      <td>50</td>\n",
       "      <td>80</td>\n",
       "    </tr>\n",
       "  </tbody>\n",
       "</table>\n",
       "</div>"
      ],
      "text/plain": [
       "       student0  student1\n",
       "quiz0        80        87\n",
       "quiz1        90        92\n",
       "quiz2        50        80"
      ]
     },
     "execution_count": 96,
     "metadata": {},
     "output_type": "execute_result"
    }
   ],
   "source": [
    "# could also use .transpose() or even .T\n",
    "df_quiz.transpose()\n",
    "# df_quiz.T"
   ]
  },
  {
   "cell_type": "code",
   "execution_count": 97,
   "metadata": {},
   "outputs": [
    {
     "data": {
      "text/html": [
       "<div>\n",
       "<style scoped>\n",
       "    .dataframe tbody tr th:only-of-type {\n",
       "        vertical-align: middle;\n",
       "    }\n",
       "\n",
       "    .dataframe tbody tr th {\n",
       "        vertical-align: top;\n",
       "    }\n",
       "\n",
       "    .dataframe thead th {\n",
       "        text-align: right;\n",
       "    }\n",
       "</style>\n",
       "<table border=\"1\" class=\"dataframe\">\n",
       "  <thead>\n",
       "    <tr style=\"text-align: right;\">\n",
       "      <th></th>\n",
       "      <th>0</th>\n",
       "      <th>1</th>\n",
       "      <th>2</th>\n",
       "    </tr>\n",
       "  </thead>\n",
       "  <tbody>\n",
       "    <tr>\n",
       "      <th>0</th>\n",
       "      <td>80</td>\n",
       "      <td>90</td>\n",
       "      <td>50</td>\n",
       "    </tr>\n",
       "    <tr>\n",
       "      <th>1</th>\n",
       "      <td>87</td>\n",
       "      <td>92</td>\n",
       "      <td>80</td>\n",
       "    </tr>\n",
       "  </tbody>\n",
       "</table>\n",
       "</div>"
      ],
      "text/plain": [
       "    0   1   2\n",
       "0  80  90  50\n",
       "1  87  92  80"
      ]
     },
     "execution_count": 97,
     "metadata": {},
     "output_type": "execute_result"
    }
   ],
   "source": [
    "# we can also add the column or index names after creation\n",
    "df_quiz = pd.DataFrame(quiz_array)\n",
    "df_quiz"
   ]
  },
  {
   "cell_type": "code",
   "execution_count": 98,
   "metadata": {},
   "outputs": [
    {
     "data": {
      "text/html": [
       "<div>\n",
       "<style scoped>\n",
       "    .dataframe tbody tr th:only-of-type {\n",
       "        vertical-align: middle;\n",
       "    }\n",
       "\n",
       "    .dataframe tbody tr th {\n",
       "        vertical-align: top;\n",
       "    }\n",
       "\n",
       "    .dataframe thead th {\n",
       "        text-align: right;\n",
       "    }\n",
       "</style>\n",
       "<table border=\"1\" class=\"dataframe\">\n",
       "  <thead>\n",
       "    <tr style=\"text-align: right;\">\n",
       "      <th></th>\n",
       "      <th>quiz0</th>\n",
       "      <th>quiz1</th>\n",
       "      <th>quiz2</th>\n",
       "    </tr>\n",
       "  </thead>\n",
       "  <tbody>\n",
       "    <tr>\n",
       "      <th>student0</th>\n",
       "      <td>80</td>\n",
       "      <td>90</td>\n",
       "      <td>50</td>\n",
       "    </tr>\n",
       "    <tr>\n",
       "      <th>student1</th>\n",
       "      <td>87</td>\n",
       "      <td>92</td>\n",
       "      <td>80</td>\n",
       "    </tr>\n",
       "  </tbody>\n",
       "</table>\n",
       "</div>"
      ],
      "text/plain": [
       "          quiz0  quiz1  quiz2\n",
       "student0     80     90     50\n",
       "student1     87     92     80"
      ]
     },
     "execution_count": 98,
     "metadata": {},
     "output_type": "execute_result"
    }
   ],
   "source": [
    "df_quiz.columns = ['quiz0', 'quiz1', 'quiz2']\n",
    "df_quiz.index = ('student0', 'student1')\n",
    "df_quiz"
   ]
  },
  {
   "cell_type": "markdown",
   "metadata": {},
   "source": [
    "### Describing a `pd.DataFrame`\n",
    "\n",
    "Similar to Series (for now), but with a couple differences:\n",
    "- `DataFrame.iloc[].idxmin()` or `DataFrame.loc[].idxmin()` \n",
    "    - note that this does not work on the DataFrame itself, but on specified series/rows\n",
    "    - which index has smallest value\n",
    "    - pandas gives the row number, not the index\n",
    "- `DataFrame.iloc[].idxmax()` or `DataFrame.loc[].idxmax()`\n",
    "    - note that this does not work on the DataFrame itself, but on specified series/rows\n",
    "    - which index has largest value\n",
    "    - pandas gives the row number, not the index\n",
    "- `DataFrame.mean()`\n",
    "- `DataFrame.min()`\n",
    "- `DataFrame.max()`\n",
    "- `DataFrame.std()`\n",
    "- `DataFrame.var()`\n",
    "\n",
    "New to pandas:\n",
    "- `DataFrame.count()`\n",
    "    - number of item pairs in series\n",
    "- `DataFrame.describe()`\n",
    "    - summary statistics"
   ]
  },
  {
   "cell_type": "code",
   "execution_count": 99,
   "metadata": {},
   "outputs": [
    {
     "data": {
      "text/plain": [
       "quiz0    83.5\n",
       "quiz1    91.0\n",
       "quiz2    65.0\n",
       "dtype: float64"
      ]
     },
     "execution_count": 99,
     "metadata": {},
     "output_type": "execute_result"
    }
   ],
   "source": [
    "# by default, each method applies operation to entire column of data\n",
    "# note that there may be some complaining from python if not all the columns are numeric\n",
    "df_quiz.mean()"
   ]
  },
  {
   "cell_type": "code",
   "execution_count": 100,
   "metadata": {},
   "outputs": [
    {
     "data": {
      "text/plain": [
       "student0    73.333333\n",
       "student1    86.333333\n",
       "dtype: float64"
      ]
     },
     "execution_count": 100,
     "metadata": {},
     "output_type": "execute_result"
    }
   ],
   "source": [
    "# we can also pass axis parameter to specify if operation should be applied to row or column\n",
    "# !remember!\n",
    "# axis=0 -> apply operation across all rows (returns operation per col)\n",
    "# axis=1 -> apply operation across all cols (returns operation per row)\n",
    "df_quiz.mean(axis=1)"
   ]
  },
  {
   "cell_type": "code",
   "execution_count": 101,
   "metadata": {},
   "outputs": [
    {
     "data": {
      "text/html": [
       "<div>\n",
       "<style scoped>\n",
       "    .dataframe tbody tr th:only-of-type {\n",
       "        vertical-align: middle;\n",
       "    }\n",
       "\n",
       "    .dataframe tbody tr th {\n",
       "        vertical-align: top;\n",
       "    }\n",
       "\n",
       "    .dataframe thead th {\n",
       "        text-align: right;\n",
       "    }\n",
       "</style>\n",
       "<table border=\"1\" class=\"dataframe\">\n",
       "  <thead>\n",
       "    <tr style=\"text-align: right;\">\n",
       "      <th></th>\n",
       "      <th>quiz0</th>\n",
       "      <th>quiz1</th>\n",
       "      <th>quiz2</th>\n",
       "    </tr>\n",
       "  </thead>\n",
       "  <tbody>\n",
       "    <tr>\n",
       "      <th>count</th>\n",
       "      <td>2.000000</td>\n",
       "      <td>2.000000</td>\n",
       "      <td>2.000000</td>\n",
       "    </tr>\n",
       "    <tr>\n",
       "      <th>mean</th>\n",
       "      <td>83.500000</td>\n",
       "      <td>91.000000</td>\n",
       "      <td>65.000000</td>\n",
       "    </tr>\n",
       "    <tr>\n",
       "      <th>std</th>\n",
       "      <td>4.949747</td>\n",
       "      <td>1.414214</td>\n",
       "      <td>21.213203</td>\n",
       "    </tr>\n",
       "    <tr>\n",
       "      <th>min</th>\n",
       "      <td>80.000000</td>\n",
       "      <td>90.000000</td>\n",
       "      <td>50.000000</td>\n",
       "    </tr>\n",
       "    <tr>\n",
       "      <th>25%</th>\n",
       "      <td>81.750000</td>\n",
       "      <td>90.500000</td>\n",
       "      <td>57.500000</td>\n",
       "    </tr>\n",
       "    <tr>\n",
       "      <th>50%</th>\n",
       "      <td>83.500000</td>\n",
       "      <td>91.000000</td>\n",
       "      <td>65.000000</td>\n",
       "    </tr>\n",
       "    <tr>\n",
       "      <th>75%</th>\n",
       "      <td>85.250000</td>\n",
       "      <td>91.500000</td>\n",
       "      <td>72.500000</td>\n",
       "    </tr>\n",
       "    <tr>\n",
       "      <th>max</th>\n",
       "      <td>87.000000</td>\n",
       "      <td>92.000000</td>\n",
       "      <td>80.000000</td>\n",
       "    </tr>\n",
       "  </tbody>\n",
       "</table>\n",
       "</div>"
      ],
      "text/plain": [
       "           quiz0      quiz1      quiz2\n",
       "count   2.000000   2.000000   2.000000\n",
       "mean   83.500000  91.000000  65.000000\n",
       "std     4.949747   1.414214  21.213203\n",
       "min    80.000000  90.000000  50.000000\n",
       "25%    81.750000  90.500000  57.500000\n",
       "50%    83.500000  91.000000  65.000000\n",
       "75%    85.250000  91.500000  72.500000\n",
       "max    87.000000  92.000000  80.000000"
      ]
     },
     "execution_count": 101,
     "metadata": {},
     "output_type": "execute_result"
    }
   ],
   "source": [
    "# describe only works on columns\n",
    "df_quiz.describe()"
   ]
  },
  {
   "cell_type": "markdown",
   "metadata": {},
   "source": [
    "## Indexing / Accessing a DataFrame\n",
    "- indexing: \n",
    "    - `.loc[]` indexing by name of row or column\n",
    "    - `.iloc[]` indexing by position integer (0, 1, 2, 3, 4 ...)\n",
    "    & slicing & subsets\n",
    "- using `:` to get full rows or columns\n",
    "- single cell's contents: `at`, `iat` & slicing"
   ]
  },
  {
   "cell_type": "code",
   "execution_count": 102,
   "metadata": {},
   "outputs": [
    {
     "data": {
      "text/plain": [
       "80"
      ]
     },
     "execution_count": 102,
     "metadata": {},
     "output_type": "execute_result"
    }
   ],
   "source": [
    "# indexing data by \"name\"\n",
    "# remember: rows first, then columns ... \n",
    "# 1st entry describes which row ('student0')\n",
    "# 2nd entry describes which col ('quiz0')\n",
    "\n",
    "df_quiz.loc['student0', 'quiz0']"
   ]
  },
  {
   "cell_type": "code",
   "execution_count": 103,
   "metadata": {},
   "outputs": [
    {
     "data": {
      "text/plain": [
       "50"
      ]
     },
     "execution_count": 103,
     "metadata": {},
     "output_type": "execute_result"
    }
   ],
   "source": [
    "# index data by position\n",
    "# 1st entry describes which row.  0 -> the 1st (topmost) row\n",
    "# 2nd entry describes which col.  2 -> the 3rd (from the left) col\n",
    "df_quiz.iloc[0, 2]"
   ]
  },
  {
   "cell_type": "code",
   "execution_count": 104,
   "metadata": {},
   "outputs": [
    {
     "data": {
      "text/plain": [
       "50"
      ]
     },
     "execution_count": 104,
     "metadata": {},
     "output_type": "execute_result"
    }
   ],
   "source": [
    "# you can use same slicing syntaxes on both .loc and .iloc\n",
    "# 1st row, last col\n",
    "df_quiz.iloc[0, -1]"
   ]
  },
  {
   "cell_type": "code",
   "execution_count": 105,
   "metadata": {},
   "outputs": [
    {
     "data": {
      "text/plain": [
       "student0    90\n",
       "student1    92\n",
       "Name: quiz1, dtype: int32"
      ]
     },
     "execution_count": 105,
     "metadata": {},
     "output_type": "execute_result"
    }
   ],
   "source": [
    "# all rows, only the second col\n",
    "df_quiz.iloc[:, 1]"
   ]
  },
  {
   "cell_type": "code",
   "execution_count": 106,
   "metadata": {},
   "outputs": [
    {
     "data": {
      "text/plain": [
       "student0    80\n",
       "student1    87\n",
       "Name: quiz0, dtype: int32"
      ]
     },
     "execution_count": 106,
     "metadata": {},
     "output_type": "execute_result"
    }
   ],
   "source": [
    "# all rows, only quiz0\n",
    "df_quiz.loc[:, 'quiz0']"
   ]
  },
  {
   "cell_type": "code",
   "execution_count": 107,
   "metadata": {},
   "outputs": [
    {
     "data": {
      "text/plain": [
       "quiz0    80\n",
       "quiz1    90\n",
       "quiz2    50\n",
       "Name: student0, dtype: int32"
      ]
     },
     "execution_count": 107,
     "metadata": {},
     "output_type": "execute_result"
    }
   ],
   "source": [
    "# slicing with named cols and rows\n",
    "# you can get a range, by name of row/col\n",
    "# note: this includes both start and stop columns\n",
    "df_quiz.loc['student0', 'quiz0':'quiz2' ]"
   ]
  },
  {
   "cell_type": "code",
   "execution_count": 108,
   "metadata": {},
   "outputs": [
    {
     "data": {
      "text/plain": [
       "quiz0    80\n",
       "quiz1    90\n",
       "Name: student0, dtype: int32"
      ]
     },
     "execution_count": 108,
     "metadata": {},
     "output_type": "execute_result"
    }
   ],
   "source": [
    "# watch out:\n",
    "# when you get ranges indexed by position: include start idx, exclude stop idx)\n",
    "df_quiz.iloc[0, 0:2 ]"
   ]
  },
  {
   "cell_type": "code",
   "execution_count": 109,
   "metadata": {},
   "outputs": [
    {
     "data": {
      "text/plain": [
       "student0    80\n",
       "student1    87\n",
       "Name: quiz0, dtype: int32"
      ]
     },
     "execution_count": 109,
     "metadata": {},
     "output_type": "execute_result"
    }
   ],
   "source": [
    "# if you access directly into dataframe, it will assume you're looking for a column\n",
    "# (below is equivilent to df_quiz.loc[:, 'quiz0'])\n",
    "df_quiz['quiz0']"
   ]
  },
  {
   "cell_type": "markdown",
   "metadata": {},
   "source": [
    "## Modifying a DataFrame\n",
    "- updating values: single cell\n",
    "- adding a new column\n",
    "- `pd.DataFrame.append()` and `pd.DataFrame.concat()`\n",
    "    - adds a single row to a dataframe\n",
    "    - `.append()` is deprecated, and may not work depending on your version of Python! Has been replaced with `.concat()` (which we use here)"
   ]
  },
  {
   "cell_type": "code",
   "execution_count": 110,
   "metadata": {},
   "outputs": [
    {
     "data": {
      "text/html": [
       "<div>\n",
       "<style scoped>\n",
       "    .dataframe tbody tr th:only-of-type {\n",
       "        vertical-align: middle;\n",
       "    }\n",
       "\n",
       "    .dataframe tbody tr th {\n",
       "        vertical-align: top;\n",
       "    }\n",
       "\n",
       "    .dataframe thead th {\n",
       "        text-align: right;\n",
       "    }\n",
       "</style>\n",
       "<table border=\"1\" class=\"dataframe\">\n",
       "  <thead>\n",
       "    <tr style=\"text-align: right;\">\n",
       "      <th></th>\n",
       "      <th>quiz0</th>\n",
       "      <th>quiz1</th>\n",
       "      <th>quiz2</th>\n",
       "    </tr>\n",
       "  </thead>\n",
       "  <tbody>\n",
       "    <tr>\n",
       "      <th>student0</th>\n",
       "      <td>80</td>\n",
       "      <td>123</td>\n",
       "      <td>50</td>\n",
       "    </tr>\n",
       "    <tr>\n",
       "      <th>student1</th>\n",
       "      <td>87</td>\n",
       "      <td>92</td>\n",
       "      <td>80</td>\n",
       "    </tr>\n",
       "  </tbody>\n",
       "</table>\n",
       "</div>"
      ],
      "text/plain": [
       "          quiz0  quiz1  quiz2\n",
       "student0     80    123     50\n",
       "student1     87     92     80"
      ]
     },
     "execution_count": 110,
     "metadata": {},
     "output_type": "execute_result"
    }
   ],
   "source": [
    "# setting single entry in dataframe\n",
    "df_quiz.loc['student0', 'quiz1'] = 123\n",
    "df_quiz"
   ]
  },
  {
   "cell_type": "code",
   "execution_count": 111,
   "metadata": {},
   "outputs": [
    {
     "data": {
      "text/html": [
       "<div>\n",
       "<style scoped>\n",
       "    .dataframe tbody tr th:only-of-type {\n",
       "        vertical-align: middle;\n",
       "    }\n",
       "\n",
       "    .dataframe tbody tr th {\n",
       "        vertical-align: top;\n",
       "    }\n",
       "\n",
       "    .dataframe thead th {\n",
       "        text-align: right;\n",
       "    }\n",
       "</style>\n",
       "<table border=\"1\" class=\"dataframe\">\n",
       "  <thead>\n",
       "    <tr style=\"text-align: right;\">\n",
       "      <th></th>\n",
       "      <th>quiz0</th>\n",
       "      <th>quiz1</th>\n",
       "      <th>quiz2</th>\n",
       "      <th>overall grade</th>\n",
       "    </tr>\n",
       "  </thead>\n",
       "  <tbody>\n",
       "    <tr>\n",
       "      <th>student0</th>\n",
       "      <td>80</td>\n",
       "      <td>123</td>\n",
       "      <td>50</td>\n",
       "      <td>a</td>\n",
       "    </tr>\n",
       "    <tr>\n",
       "      <th>student1</th>\n",
       "      <td>87</td>\n",
       "      <td>92</td>\n",
       "      <td>80</td>\n",
       "      <td>b</td>\n",
       "    </tr>\n",
       "  </tbody>\n",
       "</table>\n",
       "</div>"
      ],
      "text/plain": [
       "          quiz0  quiz1  quiz2 overall grade\n",
       "student0     80    123     50             a\n",
       "student1     87     92     80             b"
      ]
     },
     "execution_count": 111,
     "metadata": {},
     "output_type": "execute_result"
    }
   ],
   "source": [
    "# adding a new column (which student got which grade?)\n",
    "# notice data frames can include columns of multiple types!\n",
    "df_quiz['overall grade'] = 'a', 'b' \n",
    "df_quiz"
   ]
  },
  {
   "cell_type": "code",
   "execution_count": 112,
   "metadata": {},
   "outputs": [
    {
     "data": {
      "text/html": [
       "<div>\n",
       "<style scoped>\n",
       "    .dataframe tbody tr th:only-of-type {\n",
       "        vertical-align: middle;\n",
       "    }\n",
       "\n",
       "    .dataframe tbody tr th {\n",
       "        vertical-align: top;\n",
       "    }\n",
       "\n",
       "    .dataframe thead th {\n",
       "        text-align: right;\n",
       "    }\n",
       "</style>\n",
       "<table border=\"1\" class=\"dataframe\">\n",
       "  <thead>\n",
       "    <tr style=\"text-align: right;\">\n",
       "      <th></th>\n",
       "      <th>quiz0</th>\n",
       "      <th>quiz1</th>\n",
       "      <th>quiz2</th>\n",
       "    </tr>\n",
       "  </thead>\n",
       "  <tbody>\n",
       "    <tr>\n",
       "      <th>student0</th>\n",
       "      <td>80</td>\n",
       "      <td>123</td>\n",
       "      <td>50</td>\n",
       "    </tr>\n",
       "    <tr>\n",
       "      <th>student1</th>\n",
       "      <td>87</td>\n",
       "      <td>92</td>\n",
       "      <td>80</td>\n",
       "    </tr>\n",
       "  </tbody>\n",
       "</table>\n",
       "</div>"
      ],
      "text/plain": [
       "          quiz0  quiz1  quiz2\n",
       "student0     80    123     50\n",
       "student1     87     92     80"
      ]
     },
     "execution_count": 112,
     "metadata": {},
     "output_type": "execute_result"
    }
   ],
   "source": [
    "# delete a column\n",
    "del df_quiz['overall grade']\n",
    "df_quiz"
   ]
  },
  {
   "cell_type": "code",
   "execution_count": 113,
   "metadata": {},
   "outputs": [
    {
     "data": {
      "text/plain": [
       "student1                      b-\n",
       "student2    f (no quizzes taken)\n",
       "dtype: object"
      ]
     },
     "execution_count": 113,
     "metadata": {},
     "output_type": "execute_result"
    }
   ],
   "source": [
    "# adding a column (next 2 cells) more error robust way of handling indexing\n",
    "# by explicitly labelling the index we're sure to match more explicitly\n",
    "s_overgrade = pd.Series({'student1': 'b-',\n",
    "                         #'student0': 'a+',\n",
    "                        'student2': 'f (no quizzes taken)'})\n",
    "s_overgrade"
   ]
  },
  {
   "cell_type": "code",
   "execution_count": 114,
   "metadata": {},
   "outputs": [
    {
     "data": {
      "text/html": [
       "<div>\n",
       "<style scoped>\n",
       "    .dataframe tbody tr th:only-of-type {\n",
       "        vertical-align: middle;\n",
       "    }\n",
       "\n",
       "    .dataframe tbody tr th {\n",
       "        vertical-align: top;\n",
       "    }\n",
       "\n",
       "    .dataframe thead th {\n",
       "        text-align: right;\n",
       "    }\n",
       "</style>\n",
       "<table border=\"1\" class=\"dataframe\">\n",
       "  <thead>\n",
       "    <tr style=\"text-align: right;\">\n",
       "      <th></th>\n",
       "      <th>quiz0</th>\n",
       "      <th>quiz1</th>\n",
       "      <th>quiz2</th>\n",
       "      <th>overall grade</th>\n",
       "    </tr>\n",
       "  </thead>\n",
       "  <tbody>\n",
       "    <tr>\n",
       "      <th>student0</th>\n",
       "      <td>80</td>\n",
       "      <td>123</td>\n",
       "      <td>50</td>\n",
       "      <td>NaN</td>\n",
       "    </tr>\n",
       "    <tr>\n",
       "      <th>student1</th>\n",
       "      <td>87</td>\n",
       "      <td>92</td>\n",
       "      <td>80</td>\n",
       "      <td>b-</td>\n",
       "    </tr>\n",
       "  </tbody>\n",
       "</table>\n",
       "</div>"
      ],
      "text/plain": [
       "          quiz0  quiz1  quiz2 overall grade\n",
       "student0     80    123     50           NaN\n",
       "student1     87     92     80            b-"
      ]
     },
     "execution_count": 114,
     "metadata": {},
     "output_type": "execute_result"
    }
   ],
   "source": [
    "# notice how pandas helps us out in aligning our new column with proper row\n",
    "# (and avoids including student2)\n",
    "df_quiz['overall grade'] = s_overgrade\n",
    "df_quiz"
   ]
  },
  {
   "cell_type": "code",
   "execution_count": 115,
   "metadata": {},
   "outputs": [
    {
     "data": {
      "text/html": [
       "<div>\n",
       "<style scoped>\n",
       "    .dataframe tbody tr th:only-of-type {\n",
       "        vertical-align: middle;\n",
       "    }\n",
       "\n",
       "    .dataframe tbody tr th {\n",
       "        vertical-align: top;\n",
       "    }\n",
       "\n",
       "    .dataframe thead th {\n",
       "        text-align: right;\n",
       "    }\n",
       "</style>\n",
       "<table border=\"1\" class=\"dataframe\">\n",
       "  <thead>\n",
       "    <tr style=\"text-align: right;\">\n",
       "      <th></th>\n",
       "      <th>quiz0</th>\n",
       "      <th>quiz1</th>\n",
       "      <th>quiz2</th>\n",
       "      <th>overall grade</th>\n",
       "    </tr>\n",
       "  </thead>\n",
       "  <tbody>\n",
       "    <tr>\n",
       "      <th>student1</th>\n",
       "      <td>87</td>\n",
       "      <td>92</td>\n",
       "      <td>80</td>\n",
       "      <td>b-</td>\n",
       "    </tr>\n",
       "  </tbody>\n",
       "</table>\n",
       "</div>"
      ],
      "text/plain": [
       "          quiz0  quiz1  quiz2 overall grade\n",
       "student1     87     92     80            b-"
      ]
     },
     "execution_count": 115,
     "metadata": {},
     "output_type": "execute_result"
    }
   ],
   "source": [
    "# how to 'drop' a row (returns a dataframe with row removed)\n",
    "df_quiz_short = df_quiz.drop('student0')\n",
    "df_quiz_short"
   ]
  },
  {
   "cell_type": "code",
   "execution_count": 116,
   "metadata": {},
   "outputs": [
    {
     "data": {
      "text/html": [
       "<div>\n",
       "<style scoped>\n",
       "    .dataframe tbody tr th:only-of-type {\n",
       "        vertical-align: middle;\n",
       "    }\n",
       "\n",
       "    .dataframe tbody tr th {\n",
       "        vertical-align: top;\n",
       "    }\n",
       "\n",
       "    .dataframe thead th {\n",
       "        text-align: right;\n",
       "    }\n",
       "</style>\n",
       "<table border=\"1\" class=\"dataframe\">\n",
       "  <thead>\n",
       "    <tr style=\"text-align: right;\">\n",
       "      <th></th>\n",
       "      <th>quiz0</th>\n",
       "      <th>quiz1</th>\n",
       "      <th>quiz2</th>\n",
       "    </tr>\n",
       "  </thead>\n",
       "  <tbody>\n",
       "    <tr>\n",
       "      <th>student0</th>\n",
       "      <td>80</td>\n",
       "      <td>90</td>\n",
       "      <td>50</td>\n",
       "    </tr>\n",
       "    <tr>\n",
       "      <th>student1</th>\n",
       "      <td>87</td>\n",
       "      <td>92</td>\n",
       "      <td>80</td>\n",
       "    </tr>\n",
       "  </tbody>\n",
       "</table>\n",
       "</div>"
      ],
      "text/plain": [
       "          quiz0  quiz1  quiz2\n",
       "student0     80     90     50\n",
       "student1     87     92     80"
      ]
     },
     "execution_count": 116,
     "metadata": {},
     "output_type": "execute_result"
    }
   ],
   "source": [
    "# rebuild df_quiz\n",
    "quiz_dict = {'quiz0': [80, 87],\n",
    "            'quiz1': [90, 92],\n",
    "            'quiz2': [50, 80]}\n",
    "df_quiz = pd.DataFrame(quiz_dict, index=('student0', 'student1'))\n",
    "df_quiz"
   ]
  },
  {
   "cell_type": "code",
   "execution_count": 117,
   "metadata": {},
   "outputs": [
    {
     "data": {
      "text/plain": [
       "quiz1     90\n",
       "quiz2    100\n",
       "quiz0     95\n",
       "Name: student3, dtype: int64"
      ]
     },
     "execution_count": 117,
     "metadata": {},
     "output_type": "execute_result"
    }
   ],
   "source": [
    "# notice: name of series ends up on index of dataframe\n",
    "# notice: order of items in series doesnt matter, they're aligned by index\n",
    "s_student3 = pd.Series({'quiz1': 90,\n",
    "                        'quiz2': 100,\n",
    "                        'quiz0': 95},\n",
    "                      name='student3')\n",
    "s_student3"
   ]
  },
  {
   "cell_type": "code",
   "execution_count": 118,
   "metadata": {},
   "outputs": [
    {
     "data": {
      "text/html": [
       "<div>\n",
       "<style scoped>\n",
       "    .dataframe tbody tr th:only-of-type {\n",
       "        vertical-align: middle;\n",
       "    }\n",
       "\n",
       "    .dataframe tbody tr th {\n",
       "        vertical-align: top;\n",
       "    }\n",
       "\n",
       "    .dataframe thead th {\n",
       "        text-align: right;\n",
       "    }\n",
       "</style>\n",
       "<table border=\"1\" class=\"dataframe\">\n",
       "  <thead>\n",
       "    <tr style=\"text-align: right;\">\n",
       "      <th></th>\n",
       "      <th>quiz0</th>\n",
       "      <th>quiz1</th>\n",
       "      <th>quiz2</th>\n",
       "    </tr>\n",
       "  </thead>\n",
       "  <tbody>\n",
       "    <tr>\n",
       "      <th>student0</th>\n",
       "      <td>80</td>\n",
       "      <td>90</td>\n",
       "      <td>50</td>\n",
       "    </tr>\n",
       "    <tr>\n",
       "      <th>student1</th>\n",
       "      <td>87</td>\n",
       "      <td>92</td>\n",
       "      <td>80</td>\n",
       "    </tr>\n",
       "    <tr>\n",
       "      <th>student3</th>\n",
       "      <td>95</td>\n",
       "      <td>90</td>\n",
       "      <td>100</td>\n",
       "    </tr>\n",
       "  </tbody>\n",
       "</table>\n",
       "</div>"
      ],
      "text/plain": [
       "          quiz0  quiz1  quiz2\n",
       "student0     80     90     50\n",
       "student1     87     92     80\n",
       "student3     95     90    100"
      ]
     },
     "execution_count": 118,
     "metadata": {},
     "output_type": "execute_result"
    }
   ],
   "source": [
    "# add new row to dataframe\n",
    "pd.concat([df_quiz, s_student3.to_frame().T])"
   ]
  },
  {
   "cell_type": "code",
   "execution_count": 119,
   "metadata": {},
   "outputs": [
    {
     "data": {
      "text/html": [
       "<div>\n",
       "<style scoped>\n",
       "    .dataframe tbody tr th:only-of-type {\n",
       "        vertical-align: middle;\n",
       "    }\n",
       "\n",
       "    .dataframe tbody tr th {\n",
       "        vertical-align: top;\n",
       "    }\n",
       "\n",
       "    .dataframe thead th {\n",
       "        text-align: right;\n",
       "    }\n",
       "</style>\n",
       "<table border=\"1\" class=\"dataframe\">\n",
       "  <thead>\n",
       "    <tr style=\"text-align: right;\">\n",
       "      <th></th>\n",
       "      <th>quiz0</th>\n",
       "      <th>quiz1</th>\n",
       "      <th>quiz2</th>\n",
       "    </tr>\n",
       "  </thead>\n",
       "  <tbody>\n",
       "    <tr>\n",
       "      <th>student0</th>\n",
       "      <td>80</td>\n",
       "      <td>90</td>\n",
       "      <td>50</td>\n",
       "    </tr>\n",
       "    <tr>\n",
       "      <th>student1</th>\n",
       "      <td>87</td>\n",
       "      <td>92</td>\n",
       "      <td>80</td>\n",
       "    </tr>\n",
       "  </tbody>\n",
       "</table>\n",
       "</div>"
      ],
      "text/plain": [
       "          quiz0  quiz1  quiz2\n",
       "student0     80     90     50\n",
       "student1     87     92     80"
      ]
     },
     "execution_count": 119,
     "metadata": {},
     "output_type": "execute_result"
    }
   ],
   "source": [
    "# also notice: .concat() returns a copy of df_quiz, it isn't modified above\n",
    "df_quiz"
   ]
  },
  {
   "cell_type": "code",
   "execution_count": 120,
   "metadata": {},
   "outputs": [
    {
     "data": {
      "text/html": [
       "<div>\n",
       "<style scoped>\n",
       "    .dataframe tbody tr th:only-of-type {\n",
       "        vertical-align: middle;\n",
       "    }\n",
       "\n",
       "    .dataframe tbody tr th {\n",
       "        vertical-align: top;\n",
       "    }\n",
       "\n",
       "    .dataframe thead th {\n",
       "        text-align: right;\n",
       "    }\n",
       "</style>\n",
       "<table border=\"1\" class=\"dataframe\">\n",
       "  <thead>\n",
       "    <tr style=\"text-align: right;\">\n",
       "      <th></th>\n",
       "      <th>quiz0</th>\n",
       "      <th>quiz1</th>\n",
       "      <th>quiz2</th>\n",
       "    </tr>\n",
       "  </thead>\n",
       "  <tbody>\n",
       "    <tr>\n",
       "      <th>student0</th>\n",
       "      <td>80</td>\n",
       "      <td>90</td>\n",
       "      <td>50</td>\n",
       "    </tr>\n",
       "    <tr>\n",
       "      <th>student1</th>\n",
       "      <td>87</td>\n",
       "      <td>92</td>\n",
       "      <td>80</td>\n",
       "    </tr>\n",
       "    <tr>\n",
       "      <th>student3</th>\n",
       "      <td>95</td>\n",
       "      <td>90</td>\n",
       "      <td>100</td>\n",
       "    </tr>\n",
       "  </tbody>\n",
       "</table>\n",
       "</div>"
      ],
      "text/plain": [
       "          quiz0  quiz1  quiz2\n",
       "student0     80     90     50\n",
       "student1     87     92     80\n",
       "student3     95     90    100"
      ]
     },
     "execution_count": 120,
     "metadata": {},
     "output_type": "execute_result"
    }
   ],
   "source": [
    "# thus, must overwrite:\n",
    "df_quiz = pd.concat([df_quiz, s_student3.to_frame().T])\n",
    "df_quiz"
   ]
  },
  {
   "cell_type": "code",
   "execution_count": 121,
   "metadata": {},
   "outputs": [
    {
     "data": {
      "text/html": [
       "<div>\n",
       "<style scoped>\n",
       "    .dataframe tbody tr th:only-of-type {\n",
       "        vertical-align: middle;\n",
       "    }\n",
       "\n",
       "    .dataframe tbody tr th {\n",
       "        vertical-align: top;\n",
       "    }\n",
       "\n",
       "    .dataframe thead th {\n",
       "        text-align: right;\n",
       "    }\n",
       "</style>\n",
       "<table border=\"1\" class=\"dataframe\">\n",
       "  <thead>\n",
       "    <tr style=\"text-align: right;\">\n",
       "      <th></th>\n",
       "      <th>quiz0</th>\n",
       "      <th>quiz1</th>\n",
       "      <th>quiz2</th>\n",
       "      <th>average</th>\n",
       "    </tr>\n",
       "  </thead>\n",
       "  <tbody>\n",
       "    <tr>\n",
       "      <th>student0</th>\n",
       "      <td>80</td>\n",
       "      <td>90</td>\n",
       "      <td>50</td>\n",
       "      <td>73.333333</td>\n",
       "    </tr>\n",
       "    <tr>\n",
       "      <th>student1</th>\n",
       "      <td>87</td>\n",
       "      <td>92</td>\n",
       "      <td>80</td>\n",
       "      <td>86.333333</td>\n",
       "    </tr>\n",
       "    <tr>\n",
       "      <th>student3</th>\n",
       "      <td>95</td>\n",
       "      <td>90</td>\n",
       "      <td>100</td>\n",
       "      <td>95.000000</td>\n",
       "    </tr>\n",
       "  </tbody>\n",
       "</table>\n",
       "</div>"
      ],
      "text/plain": [
       "          quiz0  quiz1  quiz2    average\n",
       "student0     80     90     50  73.333333\n",
       "student1     87     92     80  86.333333\n",
       "student3     95     90    100  95.000000"
      ]
     },
     "execution_count": 121,
     "metadata": {},
     "output_type": "execute_result"
    }
   ],
   "source": [
    "# adding a column that is a function of other columns:\n",
    "df_quiz['average'] = (df_quiz['quiz0'] + df_quiz.quiz1 + df_quiz.quiz2)/3\n",
    "df_quiz"
   ]
  },
  {
   "cell_type": "code",
   "execution_count": 122,
   "metadata": {},
   "outputs": [
    {
     "data": {
      "text/plain": [
       "student0    73.333333\n",
       "student1    86.333333\n",
       "student3    95.000000\n",
       "Name: average, dtype: float64"
      ]
     },
     "execution_count": 122,
     "metadata": {},
     "output_type": "execute_result"
    }
   ],
   "source": [
    "df_quiz.average"
   ]
  },
  {
   "cell_type": "code",
   "execution_count": 123,
   "metadata": {},
   "outputs": [
    {
     "data": {
      "text/plain": [
       "student0    80\n",
       "student1    87\n",
       "student3    95\n",
       "Name: quiz0, dtype: int64"
      ]
     },
     "execution_count": 123,
     "metadata": {},
     "output_type": "execute_result"
    }
   ],
   "source": [
    "df_quiz['quiz0']"
   ]
  },
  {
   "cell_type": "markdown",
   "metadata": {},
   "source": [
    "### Operating on DataFrame & Series Objects\n",
    "\n",
    "Your operators do what you'd expect them to:"
   ]
  },
  {
   "cell_type": "code",
   "execution_count": 124,
   "metadata": {},
   "outputs": [
    {
     "data": {
      "text/html": [
       "<div>\n",
       "<style scoped>\n",
       "    .dataframe tbody tr th:only-of-type {\n",
       "        vertical-align: middle;\n",
       "    }\n",
       "\n",
       "    .dataframe tbody tr th {\n",
       "        vertical-align: top;\n",
       "    }\n",
       "\n",
       "    .dataframe thead th {\n",
       "        text-align: right;\n",
       "    }\n",
       "</style>\n",
       "<table border=\"1\" class=\"dataframe\">\n",
       "  <thead>\n",
       "    <tr style=\"text-align: right;\">\n",
       "      <th></th>\n",
       "      <th>quiz0</th>\n",
       "      <th>quiz1</th>\n",
       "      <th>quiz2</th>\n",
       "      <th>average</th>\n",
       "    </tr>\n",
       "  </thead>\n",
       "  <tbody>\n",
       "    <tr>\n",
       "      <th>student0</th>\n",
       "      <td>80000</td>\n",
       "      <td>90000</td>\n",
       "      <td>50000</td>\n",
       "      <td>73333.333333</td>\n",
       "    </tr>\n",
       "    <tr>\n",
       "      <th>student1</th>\n",
       "      <td>87000</td>\n",
       "      <td>92000</td>\n",
       "      <td>80000</td>\n",
       "      <td>86333.333333</td>\n",
       "    </tr>\n",
       "    <tr>\n",
       "      <th>student3</th>\n",
       "      <td>95000</td>\n",
       "      <td>90000</td>\n",
       "      <td>100000</td>\n",
       "      <td>95000.000000</td>\n",
       "    </tr>\n",
       "  </tbody>\n",
       "</table>\n",
       "</div>"
      ],
      "text/plain": [
       "          quiz0  quiz1   quiz2       average\n",
       "student0  80000  90000   50000  73333.333333\n",
       "student1  87000  92000   80000  86333.333333\n",
       "student3  95000  90000  100000  95000.000000"
      ]
     },
     "execution_count": 124,
     "metadata": {},
     "output_type": "execute_result"
    }
   ],
   "source": [
    "df_quiz * 1000"
   ]
  },
  {
   "cell_type": "code",
   "execution_count": 125,
   "metadata": {},
   "outputs": [
    {
     "data": {
      "text/html": [
       "<div>\n",
       "<style scoped>\n",
       "    .dataframe tbody tr th:only-of-type {\n",
       "        vertical-align: middle;\n",
       "    }\n",
       "\n",
       "    .dataframe tbody tr th {\n",
       "        vertical-align: top;\n",
       "    }\n",
       "\n",
       "    .dataframe thead th {\n",
       "        text-align: right;\n",
       "    }\n",
       "</style>\n",
       "<table border=\"1\" class=\"dataframe\">\n",
       "  <thead>\n",
       "    <tr style=\"text-align: right;\">\n",
       "      <th></th>\n",
       "      <th>quiz0</th>\n",
       "      <th>quiz1</th>\n",
       "      <th>quiz2</th>\n",
       "      <th>average</th>\n",
       "    </tr>\n",
       "  </thead>\n",
       "  <tbody>\n",
       "    <tr>\n",
       "      <th>student0</th>\n",
       "      <td>False</td>\n",
       "      <td>True</td>\n",
       "      <td>False</td>\n",
       "      <td>False</td>\n",
       "    </tr>\n",
       "    <tr>\n",
       "      <th>student1</th>\n",
       "      <td>True</td>\n",
       "      <td>True</td>\n",
       "      <td>False</td>\n",
       "      <td>True</td>\n",
       "    </tr>\n",
       "    <tr>\n",
       "      <th>student3</th>\n",
       "      <td>True</td>\n",
       "      <td>True</td>\n",
       "      <td>True</td>\n",
       "      <td>True</td>\n",
       "    </tr>\n",
       "  </tbody>\n",
       "</table>\n",
       "</div>"
      ],
      "text/plain": [
       "          quiz0  quiz1  quiz2  average\n",
       "student0  False   True  False    False\n",
       "student1   True   True  False     True\n",
       "student3   True   True   True     True"
      ]
     },
     "execution_count": 125,
     "metadata": {},
     "output_type": "execute_result"
    }
   ],
   "source": [
    "# we can also use comparison operators (super helpful, see boolean indexing next)\n",
    "df_quiz >= 85"
   ]
  },
  {
   "cell_type": "markdown",
   "metadata": {},
   "source": [
    "### Boolean Indexing into DataFrame\n",
    "\n",
    "Sometimes we want to grab only the rows or columns which meet a particular condition.\n",
    "\n",
    "\"Get all students whose grade was higher than 85 on quiz 1\""
   ]
  },
  {
   "cell_type": "code",
   "execution_count": 126,
   "metadata": {},
   "outputs": [
    {
     "data": {
      "text/html": [
       "<div>\n",
       "<style scoped>\n",
       "    .dataframe tbody tr th:only-of-type {\n",
       "        vertical-align: middle;\n",
       "    }\n",
       "\n",
       "    .dataframe tbody tr th {\n",
       "        vertical-align: top;\n",
       "    }\n",
       "\n",
       "    .dataframe thead th {\n",
       "        text-align: right;\n",
       "    }\n",
       "</style>\n",
       "<table border=\"1\" class=\"dataframe\">\n",
       "  <thead>\n",
       "    <tr style=\"text-align: right;\">\n",
       "      <th></th>\n",
       "      <th>quiz0</th>\n",
       "      <th>quiz1</th>\n",
       "      <th>quiz2</th>\n",
       "    </tr>\n",
       "  </thead>\n",
       "  <tbody>\n",
       "    <tr>\n",
       "      <th>student0</th>\n",
       "      <td>80</td>\n",
       "      <td>90</td>\n",
       "      <td>50</td>\n",
       "    </tr>\n",
       "    <tr>\n",
       "      <th>student1</th>\n",
       "      <td>87</td>\n",
       "      <td>92</td>\n",
       "      <td>80</td>\n",
       "    </tr>\n",
       "    <tr>\n",
       "      <th>student2</th>\n",
       "      <td>60</td>\n",
       "      <td>60</td>\n",
       "      <td>70</td>\n",
       "    </tr>\n",
       "    <tr>\n",
       "      <th>student3</th>\n",
       "      <td>30</td>\n",
       "      <td>23</td>\n",
       "      <td>64</td>\n",
       "    </tr>\n",
       "  </tbody>\n",
       "</table>\n",
       "</div>"
      ],
      "text/plain": [
       "          quiz0  quiz1  quiz2\n",
       "student0     80     90     50\n",
       "student1     87     92     80\n",
       "student2     60     60     70\n",
       "student3     30     23     64"
      ]
     },
     "execution_count": 126,
     "metadata": {},
     "output_type": "execute_result"
    }
   ],
   "source": [
    "quiz_dict = {'quiz0': [80, 87, 60, 30],\n",
    "            'quiz1': [90, 92, 60, 23],\n",
    "            'quiz2': [50, 80, 70, 64]}\n",
    "df_quiz = pd.DataFrame(quiz_dict, index=('student0', 'student1', 'student2', 'student3'))\n",
    "df_quiz"
   ]
  },
  {
   "cell_type": "code",
   "execution_count": 127,
   "metadata": {},
   "outputs": [
    {
     "data": {
      "text/plain": [
       "student0    50\n",
       "student1    80\n",
       "student2    70\n",
       "student3    64\n",
       "Name: quiz2, dtype: int64"
      ]
     },
     "execution_count": 127,
     "metadata": {},
     "output_type": "execute_result"
    }
   ],
   "source": [
    "# quiz 2 is a series object which contains every index's quiz 2 grade\n",
    "# one, verbose way:\n",
    "s_quiz2 = df_quiz.loc[:, 'quiz2']\n",
    "s_quiz2"
   ]
  },
  {
   "cell_type": "code",
   "execution_count": 128,
   "metadata": {},
   "outputs": [
    {
     "data": {
      "text/plain": [
       "student0    50\n",
       "student1    80\n",
       "student2    70\n",
       "student3    64\n",
       "Name: quiz2, dtype: int64"
      ]
     },
     "execution_count": 128,
     "metadata": {},
     "output_type": "execute_result"
    }
   ],
   "source": [
    "# easier way, but not as convenient for seeing what we're about to do\n",
    "df_quiz.quiz2"
   ]
  },
  {
   "cell_type": "code",
   "execution_count": 129,
   "metadata": {},
   "outputs": [
    {
     "data": {
      "text/html": [
       "<div>\n",
       "<style scoped>\n",
       "    .dataframe tbody tr th:only-of-type {\n",
       "        vertical-align: middle;\n",
       "    }\n",
       "\n",
       "    .dataframe tbody tr th {\n",
       "        vertical-align: top;\n",
       "    }\n",
       "\n",
       "    .dataframe thead th {\n",
       "        text-align: right;\n",
       "    }\n",
       "</style>\n",
       "<table border=\"1\" class=\"dataframe\">\n",
       "  <thead>\n",
       "    <tr style=\"text-align: right;\">\n",
       "      <th></th>\n",
       "      <th>quiz0</th>\n",
       "      <th>quiz1</th>\n",
       "      <th>quiz2</th>\n",
       "    </tr>\n",
       "  </thead>\n",
       "  <tbody>\n",
       "    <tr>\n",
       "      <th>student1</th>\n",
       "      <td>87</td>\n",
       "      <td>92</td>\n",
       "      <td>80</td>\n",
       "    </tr>\n",
       "    <tr>\n",
       "      <th>student2</th>\n",
       "      <td>60</td>\n",
       "      <td>60</td>\n",
       "      <td>70</td>\n",
       "    </tr>\n",
       "  </tbody>\n",
       "</table>\n",
       "</div>"
      ],
      "text/plain": [
       "          quiz0  quiz1  quiz2\n",
       "student1     87     92     80\n",
       "student2     60     60     70"
      ]
     },
     "execution_count": 129,
     "metadata": {},
     "output_type": "execute_result"
    }
   ],
   "source": [
    "# boolean indexing: using a boolean series as index returns only those entries which are True\n",
    "# notice that since student2 & student3's quiz1 grade wasn't > 80 they aren't included below\n",
    "df_quiz.loc[s_quiz2 >= 70, :]"
   ]
  },
  {
   "cell_type": "code",
   "execution_count": 130,
   "metadata": {},
   "outputs": [
    {
     "data": {
      "text/plain": [
       "student0     True\n",
       "student1    False\n",
       "student2    False\n",
       "student3    False\n",
       "dtype: bool"
      ]
     },
     "execution_count": 130,
     "metadata": {},
     "output_type": "execute_result"
    }
   ],
   "source": [
    "# we can build more complex conditions using \n",
    "# & (and operator)\n",
    "# | (or operator)\n",
    "\n",
    "# all students who got at least an 80 on quiz1 but scored less than 75 on quiz2\n",
    "s_bool = (df_quiz.loc[:, 'quiz1'] >= 80) & (df_quiz.quiz2  < 75)\n",
    "s_bool"
   ]
  },
  {
   "cell_type": "code",
   "execution_count": 131,
   "metadata": {},
   "outputs": [
    {
     "data": {
      "text/html": [
       "<div>\n",
       "<style scoped>\n",
       "    .dataframe tbody tr th:only-of-type {\n",
       "        vertical-align: middle;\n",
       "    }\n",
       "\n",
       "    .dataframe tbody tr th {\n",
       "        vertical-align: top;\n",
       "    }\n",
       "\n",
       "    .dataframe thead th {\n",
       "        text-align: right;\n",
       "    }\n",
       "</style>\n",
       "<table border=\"1\" class=\"dataframe\">\n",
       "  <thead>\n",
       "    <tr style=\"text-align: right;\">\n",
       "      <th></th>\n",
       "      <th>quiz0</th>\n",
       "      <th>quiz1</th>\n",
       "      <th>quiz2</th>\n",
       "    </tr>\n",
       "  </thead>\n",
       "  <tbody>\n",
       "    <tr>\n",
       "      <th>student0</th>\n",
       "      <td>80</td>\n",
       "      <td>90</td>\n",
       "      <td>50</td>\n",
       "    </tr>\n",
       "  </tbody>\n",
       "</table>\n",
       "</div>"
      ],
      "text/plain": [
       "          quiz0  quiz1  quiz2\n",
       "student0     80     90     50"
      ]
     },
     "execution_count": 131,
     "metadata": {},
     "output_type": "execute_result"
    }
   ],
   "source": [
    "df_quiz.loc[s_bool, :]"
   ]
  },
  {
   "cell_type": "markdown",
   "metadata": {},
   "source": [
    "# Loading Data into Pandas\n",
    "\n",
    "Data comes from many places:\n",
    "- Web Scraping\n",
    "- Application Program Interface (API)\n",
    "- SQL\n",
    "- local file:\n",
    "    - csv\n",
    "    - JSON\n",
    "    - fixed width tables (HTML)\n",
    "    \n",
    "### Pandas functions which load data\n",
    "| Mode | Description\n",
    "| ------ | :------\n",
    "| **`read_csv`** | Load comma seperated values data from a file or URL (other delimeters too!)\n",
    "| **`read_xlsx`** | Read data in xls format (Mircosoft Excel)\n",
    "| **`read-fwf`** | Read data in fixed-width column format (i.e., no delimiters such as tab-separated txt files)\n",
    "| **`read_clipboard`** | Version of read_csv that reads data from the clipboard; useful for converting tables from web pages\n",
    "| **`read_html`** | Read all tables contained in the given HTML document.\n",
    "| **`read_json`** | Read data from a JSON (JavaScript Object Notation) string representation"
   ]
  },
  {
   "cell_type": "markdown",
   "metadata": {},
   "source": [
    "## Reading CSV into Pandas\n",
    "- read_csv\n",
    "- index_col\n",
    "- header"
   ]
  },
  {
   "cell_type": "code",
   "execution_count": 132,
   "metadata": {},
   "outputs": [
    {
     "data": {
      "text/html": [
       "<div>\n",
       "<style scoped>\n",
       "    .dataframe tbody tr th:only-of-type {\n",
       "        vertical-align: middle;\n",
       "    }\n",
       "\n",
       "    .dataframe tbody tr th {\n",
       "        vertical-align: top;\n",
       "    }\n",
       "\n",
       "    .dataframe thead th {\n",
       "        text-align: right;\n",
       "    }\n",
       "</style>\n",
       "<table border=\"1\" class=\"dataframe\">\n",
       "  <thead>\n",
       "    <tr style=\"text-align: right;\">\n",
       "      <th></th>\n",
       "      <th>fake_student_id</th>\n",
       "      <th>time_stamp</th>\n",
       "      <th>class</th>\n",
       "      <th>cs_ds</th>\n",
       "      <th>co_op</th>\n",
       "      <th>python_exp</th>\n",
       "      <th>dream_career</th>\n",
       "      <th>hobby</th>\n",
       "      <th>song</th>\n",
       "      <th>ai_feels</th>\n",
       "      <th>age_months</th>\n",
       "      <th>pets</th>\n",
       "      <th>credit_hours</th>\n",
       "      <th>work_hours</th>\n",
       "    </tr>\n",
       "  </thead>\n",
       "  <tbody>\n",
       "    <tr>\n",
       "      <th>0</th>\n",
       "      <td>1460</td>\n",
       "      <td>9/4/2024 0:17</td>\n",
       "      <td>Sophomore</td>\n",
       "      <td>CS (incl. combined)</td>\n",
       "      <td>No</td>\n",
       "      <td>3</td>\n",
       "      <td>Computer Programmer</td>\n",
       "      <td>I enjoy playing golf and djing.</td>\n",
       "      <td>https://open.spotify.com/track/2dshtwEGNpyrE0x...</td>\n",
       "      <td>I think it's the future, and the future looks ...</td>\n",
       "      <td>237.0</td>\n",
       "      <td>2.0</td>\n",
       "      <td>18.0</td>\n",
       "      <td>0.0</td>\n",
       "    </tr>\n",
       "    <tr>\n",
       "      <th>1</th>\n",
       "      <td>1091</td>\n",
       "      <td>9/4/2024 7:51</td>\n",
       "      <td>Sophomore</td>\n",
       "      <td>DS (incl. combined)</td>\n",
       "      <td>No</td>\n",
       "      <td>1</td>\n",
       "      <td>Data Scientist, Investment Banker, Private Equ...</td>\n",
       "      <td>Exercising (Walking, Bouldering, Weightlifting)</td>\n",
       "      <td>Currently, Halo - Beyonce, https://open.spotif...</td>\n",
       "      <td>I'm a bit worried it might be used for ill.</td>\n",
       "      <td>230.0</td>\n",
       "      <td>1.0</td>\n",
       "      <td>17.0</td>\n",
       "      <td>14.0</td>\n",
       "    </tr>\n",
       "    <tr>\n",
       "      <th>2</th>\n",
       "      <td>1764</td>\n",
       "      <td>9/4/2024 11:29</td>\n",
       "      <td>Junior</td>\n",
       "      <td>CS (incl. combined)</td>\n",
       "      <td>Yes</td>\n",
       "      <td>1</td>\n",
       "      <td>NaN</td>\n",
       "      <td>Cooking and listening to music!</td>\n",
       "      <td>https://open.spotify.com/track/42sqQTi2EqDPd6I...</td>\n",
       "      <td>I'm a bit worried it might be used for ill.</td>\n",
       "      <td>244.0</td>\n",
       "      <td>3.0</td>\n",
       "      <td>17.0</td>\n",
       "      <td>0.0</td>\n",
       "    </tr>\n",
       "    <tr>\n",
       "      <th>3</th>\n",
       "      <td>1464</td>\n",
       "      <td>9/4/2024 13:23</td>\n",
       "      <td>Sophomore</td>\n",
       "      <td>CS (incl. combined)</td>\n",
       "      <td>No</td>\n",
       "      <td>3</td>\n",
       "      <td>Tech Entrepreneurship or Research</td>\n",
       "      <td>Soccer</td>\n",
       "      <td>Stairway to Heaven by Led Zeppelin</td>\n",
       "      <td>It's going to destroy us all!</td>\n",
       "      <td>238.0</td>\n",
       "      <td>0.0</td>\n",
       "      <td>18.0</td>\n",
       "      <td>0.0</td>\n",
       "    </tr>\n",
       "    <tr>\n",
       "      <th>4</th>\n",
       "      <td>1629</td>\n",
       "      <td>9/4/2024 14:17</td>\n",
       "      <td>Sophomore</td>\n",
       "      <td>DS (incl. combined)</td>\n",
       "      <td>No</td>\n",
       "      <td>3</td>\n",
       "      <td>Not sure yet, still exploring.</td>\n",
       "      <td>Video Editing</td>\n",
       "      <td>ocd - eriddoa (https://open.spotify.com/track/...</td>\n",
       "      <td>I think it's the future, and the future looks ...</td>\n",
       "      <td>232.0</td>\n",
       "      <td>1.0</td>\n",
       "      <td>16.0</td>\n",
       "      <td>0.0</td>\n",
       "    </tr>\n",
       "    <tr>\n",
       "      <th>...</th>\n",
       "      <td>...</td>\n",
       "      <td>...</td>\n",
       "      <td>...</td>\n",
       "      <td>...</td>\n",
       "      <td>...</td>\n",
       "      <td>...</td>\n",
       "      <td>...</td>\n",
       "      <td>...</td>\n",
       "      <td>...</td>\n",
       "      <td>...</td>\n",
       "      <td>...</td>\n",
       "      <td>...</td>\n",
       "      <td>...</td>\n",
       "      <td>...</td>\n",
       "    </tr>\n",
       "    <tr>\n",
       "      <th>138</th>\n",
       "      <td>1275</td>\n",
       "      <td>9/6/2024 2:04</td>\n",
       "      <td>Sophomore</td>\n",
       "      <td>CS (incl. combined)</td>\n",
       "      <td>No</td>\n",
       "      <td>3</td>\n",
       "      <td>Tech consulting, software developer, I'm also ...</td>\n",
       "      <td>I like writing articles.</td>\n",
       "      <td>The Black Dog - https://open.spotify.com/track...</td>\n",
       "      <td>It will be useful, but it won't change the wor...</td>\n",
       "      <td>238.0</td>\n",
       "      <td>0.0</td>\n",
       "      <td>18.0</td>\n",
       "      <td>0.0</td>\n",
       "    </tr>\n",
       "    <tr>\n",
       "      <th>139</th>\n",
       "      <td>1526</td>\n",
       "      <td>9/6/2024 10:38</td>\n",
       "      <td>Sophomore</td>\n",
       "      <td>DS (incl. combined)</td>\n",
       "      <td>No</td>\n",
       "      <td>3</td>\n",
       "      <td>Marketing Analyst</td>\n",
       "      <td>Dancing</td>\n",
       "      <td>https://open.spotify.com/track/51rfRCiUSvxXlCS...</td>\n",
       "      <td>It will be useful, but it won't change the wor...</td>\n",
       "      <td>232.0</td>\n",
       "      <td>1.0</td>\n",
       "      <td>16.0</td>\n",
       "      <td>15.0</td>\n",
       "    </tr>\n",
       "    <tr>\n",
       "      <th>140</th>\n",
       "      <td>1090</td>\n",
       "      <td>9/6/2024 12:43</td>\n",
       "      <td>Sophomore</td>\n",
       "      <td>DS (incl. combined)</td>\n",
       "      <td>No</td>\n",
       "      <td>1</td>\n",
       "      <td>not sure</td>\n",
       "      <td>any outdoor activity</td>\n",
       "      <td>https://open.spotify.com/track/1HNkqx9Ahdgi1Ix...</td>\n",
       "      <td>I think it's the future, and the future looks ...</td>\n",
       "      <td>232.0</td>\n",
       "      <td>0.0</td>\n",
       "      <td>18.0</td>\n",
       "      <td>NaN</td>\n",
       "    </tr>\n",
       "    <tr>\n",
       "      <th>141</th>\n",
       "      <td>1591</td>\n",
       "      <td>9/6/2024 13:45</td>\n",
       "      <td>Sophomore</td>\n",
       "      <td>DS (incl. combined)</td>\n",
       "      <td>No</td>\n",
       "      <td>2</td>\n",
       "      <td>Project Manager</td>\n",
       "      <td>running</td>\n",
       "      <td>Ode to a Conversation Stuck in Your Throat htt...</td>\n",
       "      <td>I think it's the future, and the future looks ...</td>\n",
       "      <td>230.0</td>\n",
       "      <td>1.0</td>\n",
       "      <td>17.0</td>\n",
       "      <td>10.0</td>\n",
       "    </tr>\n",
       "    <tr>\n",
       "      <th>142</th>\n",
       "      <td>1710</td>\n",
       "      <td>9/6/2024 22:51</td>\n",
       "      <td>Junior</td>\n",
       "      <td>CS (incl. combined)</td>\n",
       "      <td>No</td>\n",
       "      <td>4</td>\n",
       "      <td>Make some cool games or apps</td>\n",
       "      <td>Stay home with my cats and do nothing</td>\n",
       "      <td>https://open.spotify.com/track/2N61DUSk4oIZdrS...</td>\n",
       "      <td>I think it's the future, and the future looks ...</td>\n",
       "      <td>NaN</td>\n",
       "      <td>NaN</td>\n",
       "      <td>16.0</td>\n",
       "      <td>NaN</td>\n",
       "    </tr>\n",
       "  </tbody>\n",
       "</table>\n",
       "<p>143 rows × 14 columns</p>\n",
       "</div>"
      ],
      "text/plain": [
       "     fake_student_id      time_stamp      class                cs_ds co_op  \\\n",
       "0               1460   9/4/2024 0:17  Sophomore  CS (incl. combined)    No   \n",
       "1               1091   9/4/2024 7:51  Sophomore  DS (incl. combined)    No   \n",
       "2               1764  9/4/2024 11:29     Junior  CS (incl. combined)   Yes   \n",
       "3               1464  9/4/2024 13:23  Sophomore  CS (incl. combined)    No   \n",
       "4               1629  9/4/2024 14:17  Sophomore  DS (incl. combined)    No   \n",
       "..               ...             ...        ...                  ...   ...   \n",
       "138             1275   9/6/2024 2:04  Sophomore  CS (incl. combined)    No   \n",
       "139             1526  9/6/2024 10:38  Sophomore  DS (incl. combined)    No   \n",
       "140             1090  9/6/2024 12:43  Sophomore  DS (incl. combined)    No   \n",
       "141             1591  9/6/2024 13:45  Sophomore  DS (incl. combined)    No   \n",
       "142             1710  9/6/2024 22:51     Junior  CS (incl. combined)    No   \n",
       "\n",
       "     python_exp                                       dream_career  \\\n",
       "0             3                                Computer Programmer   \n",
       "1             1  Data Scientist, Investment Banker, Private Equ...   \n",
       "2             1                                                NaN   \n",
       "3             3                  Tech Entrepreneurship or Research   \n",
       "4             3                     Not sure yet, still exploring.   \n",
       "..          ...                                                ...   \n",
       "138           3  Tech consulting, software developer, I'm also ...   \n",
       "139           3                                  Marketing Analyst   \n",
       "140           1                                           not sure   \n",
       "141           2                                    Project Manager   \n",
       "142           4                       Make some cool games or apps   \n",
       "\n",
       "                                               hobby  \\\n",
       "0                    I enjoy playing golf and djing.   \n",
       "1    Exercising (Walking, Bouldering, Weightlifting)   \n",
       "2                    Cooking and listening to music!   \n",
       "3                                             Soccer   \n",
       "4                                      Video Editing   \n",
       "..                                               ...   \n",
       "138                         I like writing articles.   \n",
       "139                                          Dancing   \n",
       "140                            any outdoor activity    \n",
       "141                                          running   \n",
       "142            Stay home with my cats and do nothing   \n",
       "\n",
       "                                                  song  \\\n",
       "0    https://open.spotify.com/track/2dshtwEGNpyrE0x...   \n",
       "1    Currently, Halo - Beyonce, https://open.spotif...   \n",
       "2    https://open.spotify.com/track/42sqQTi2EqDPd6I...   \n",
       "3                   Stairway to Heaven by Led Zeppelin   \n",
       "4    ocd - eriddoa (https://open.spotify.com/track/...   \n",
       "..                                                 ...   \n",
       "138  The Black Dog - https://open.spotify.com/track...   \n",
       "139  https://open.spotify.com/track/51rfRCiUSvxXlCS...   \n",
       "140  https://open.spotify.com/track/1HNkqx9Ahdgi1Ix...   \n",
       "141  Ode to a Conversation Stuck in Your Throat htt...   \n",
       "142  https://open.spotify.com/track/2N61DUSk4oIZdrS...   \n",
       "\n",
       "                                              ai_feels  age_months  pets  \\\n",
       "0    I think it's the future, and the future looks ...       237.0   2.0   \n",
       "1          I'm a bit worried it might be used for ill.       230.0   1.0   \n",
       "2          I'm a bit worried it might be used for ill.       244.0   3.0   \n",
       "3                        It's going to destroy us all!       238.0   0.0   \n",
       "4    I think it's the future, and the future looks ...       232.0   1.0   \n",
       "..                                                 ...         ...   ...   \n",
       "138  It will be useful, but it won't change the wor...       238.0   0.0   \n",
       "139  It will be useful, but it won't change the wor...       232.0   1.0   \n",
       "140  I think it's the future, and the future looks ...       232.0   0.0   \n",
       "141  I think it's the future, and the future looks ...       230.0   1.0   \n",
       "142  I think it's the future, and the future looks ...         NaN   NaN   \n",
       "\n",
       "     credit_hours  work_hours  \n",
       "0            18.0         0.0  \n",
       "1            17.0        14.0  \n",
       "2            17.0         0.0  \n",
       "3            18.0         0.0  \n",
       "4            16.0         0.0  \n",
       "..            ...         ...  \n",
       "138          18.0         0.0  \n",
       "139          16.0        15.0  \n",
       "140          18.0         NaN  \n",
       "141          17.0        10.0  \n",
       "142          16.0         NaN  \n",
       "\n",
       "[143 rows x 14 columns]"
      ]
     },
     "execution_count": 132,
     "metadata": {},
     "output_type": "execute_result"
    }
   ],
   "source": [
    "# note: file must be in same folder as jupyter notebook\n",
    "pd.read_csv('cleaner_gtky.csv')"
   ]
  },
  {
   "cell_type": "code",
   "execution_count": 133,
   "metadata": {
    "scrolled": true
   },
   "outputs": [
    {
     "data": {
      "text/html": [
       "<div>\n",
       "<style scoped>\n",
       "    .dataframe tbody tr th:only-of-type {\n",
       "        vertical-align: middle;\n",
       "    }\n",
       "\n",
       "    .dataframe tbody tr th {\n",
       "        vertical-align: top;\n",
       "    }\n",
       "\n",
       "    .dataframe thead th {\n",
       "        text-align: right;\n",
       "    }\n",
       "</style>\n",
       "<table border=\"1\" class=\"dataframe\">\n",
       "  <thead>\n",
       "    <tr style=\"text-align: right;\">\n",
       "      <th></th>\n",
       "      <th>time_stamp</th>\n",
       "      <th>class</th>\n",
       "      <th>cs_ds</th>\n",
       "      <th>co_op</th>\n",
       "      <th>python_exp</th>\n",
       "      <th>dream_career</th>\n",
       "      <th>hobby</th>\n",
       "      <th>song</th>\n",
       "      <th>ai_feels</th>\n",
       "      <th>age_months</th>\n",
       "      <th>pets</th>\n",
       "      <th>credit_hours</th>\n",
       "      <th>work_hours</th>\n",
       "    </tr>\n",
       "    <tr>\n",
       "      <th>fake_student_id</th>\n",
       "      <th></th>\n",
       "      <th></th>\n",
       "      <th></th>\n",
       "      <th></th>\n",
       "      <th></th>\n",
       "      <th></th>\n",
       "      <th></th>\n",
       "      <th></th>\n",
       "      <th></th>\n",
       "      <th></th>\n",
       "      <th></th>\n",
       "      <th></th>\n",
       "      <th></th>\n",
       "    </tr>\n",
       "  </thead>\n",
       "  <tbody>\n",
       "    <tr>\n",
       "      <th>1460</th>\n",
       "      <td>9/4/2024 0:17</td>\n",
       "      <td>Sophomore</td>\n",
       "      <td>CS (incl. combined)</td>\n",
       "      <td>No</td>\n",
       "      <td>3</td>\n",
       "      <td>Computer Programmer</td>\n",
       "      <td>I enjoy playing golf and djing.</td>\n",
       "      <td>https://open.spotify.com/track/2dshtwEGNpyrE0x...</td>\n",
       "      <td>I think it's the future, and the future looks ...</td>\n",
       "      <td>237.0</td>\n",
       "      <td>2.0</td>\n",
       "      <td>18.0</td>\n",
       "      <td>0.0</td>\n",
       "    </tr>\n",
       "    <tr>\n",
       "      <th>1091</th>\n",
       "      <td>9/4/2024 7:51</td>\n",
       "      <td>Sophomore</td>\n",
       "      <td>DS (incl. combined)</td>\n",
       "      <td>No</td>\n",
       "      <td>1</td>\n",
       "      <td>Data Scientist, Investment Banker, Private Equ...</td>\n",
       "      <td>Exercising (Walking, Bouldering, Weightlifting)</td>\n",
       "      <td>Currently, Halo - Beyonce, https://open.spotif...</td>\n",
       "      <td>I'm a bit worried it might be used for ill.</td>\n",
       "      <td>230.0</td>\n",
       "      <td>1.0</td>\n",
       "      <td>17.0</td>\n",
       "      <td>14.0</td>\n",
       "    </tr>\n",
       "    <tr>\n",
       "      <th>1764</th>\n",
       "      <td>9/4/2024 11:29</td>\n",
       "      <td>Junior</td>\n",
       "      <td>CS (incl. combined)</td>\n",
       "      <td>Yes</td>\n",
       "      <td>1</td>\n",
       "      <td>NaN</td>\n",
       "      <td>Cooking and listening to music!</td>\n",
       "      <td>https://open.spotify.com/track/42sqQTi2EqDPd6I...</td>\n",
       "      <td>I'm a bit worried it might be used for ill.</td>\n",
       "      <td>244.0</td>\n",
       "      <td>3.0</td>\n",
       "      <td>17.0</td>\n",
       "      <td>0.0</td>\n",
       "    </tr>\n",
       "    <tr>\n",
       "      <th>1464</th>\n",
       "      <td>9/4/2024 13:23</td>\n",
       "      <td>Sophomore</td>\n",
       "      <td>CS (incl. combined)</td>\n",
       "      <td>No</td>\n",
       "      <td>3</td>\n",
       "      <td>Tech Entrepreneurship or Research</td>\n",
       "      <td>Soccer</td>\n",
       "      <td>Stairway to Heaven by Led Zeppelin</td>\n",
       "      <td>It's going to destroy us all!</td>\n",
       "      <td>238.0</td>\n",
       "      <td>0.0</td>\n",
       "      <td>18.0</td>\n",
       "      <td>0.0</td>\n",
       "    </tr>\n",
       "    <tr>\n",
       "      <th>1629</th>\n",
       "      <td>9/4/2024 14:17</td>\n",
       "      <td>Sophomore</td>\n",
       "      <td>DS (incl. combined)</td>\n",
       "      <td>No</td>\n",
       "      <td>3</td>\n",
       "      <td>Not sure yet, still exploring.</td>\n",
       "      <td>Video Editing</td>\n",
       "      <td>ocd - eriddoa (https://open.spotify.com/track/...</td>\n",
       "      <td>I think it's the future, and the future looks ...</td>\n",
       "      <td>232.0</td>\n",
       "      <td>1.0</td>\n",
       "      <td>16.0</td>\n",
       "      <td>0.0</td>\n",
       "    </tr>\n",
       "    <tr>\n",
       "      <th>...</th>\n",
       "      <td>...</td>\n",
       "      <td>...</td>\n",
       "      <td>...</td>\n",
       "      <td>...</td>\n",
       "      <td>...</td>\n",
       "      <td>...</td>\n",
       "      <td>...</td>\n",
       "      <td>...</td>\n",
       "      <td>...</td>\n",
       "      <td>...</td>\n",
       "      <td>...</td>\n",
       "      <td>...</td>\n",
       "      <td>...</td>\n",
       "    </tr>\n",
       "    <tr>\n",
       "      <th>1275</th>\n",
       "      <td>9/6/2024 2:04</td>\n",
       "      <td>Sophomore</td>\n",
       "      <td>CS (incl. combined)</td>\n",
       "      <td>No</td>\n",
       "      <td>3</td>\n",
       "      <td>Tech consulting, software developer, I'm also ...</td>\n",
       "      <td>I like writing articles.</td>\n",
       "      <td>The Black Dog - https://open.spotify.com/track...</td>\n",
       "      <td>It will be useful, but it won't change the wor...</td>\n",
       "      <td>238.0</td>\n",
       "      <td>0.0</td>\n",
       "      <td>18.0</td>\n",
       "      <td>0.0</td>\n",
       "    </tr>\n",
       "    <tr>\n",
       "      <th>1526</th>\n",
       "      <td>9/6/2024 10:38</td>\n",
       "      <td>Sophomore</td>\n",
       "      <td>DS (incl. combined)</td>\n",
       "      <td>No</td>\n",
       "      <td>3</td>\n",
       "      <td>Marketing Analyst</td>\n",
       "      <td>Dancing</td>\n",
       "      <td>https://open.spotify.com/track/51rfRCiUSvxXlCS...</td>\n",
       "      <td>It will be useful, but it won't change the wor...</td>\n",
       "      <td>232.0</td>\n",
       "      <td>1.0</td>\n",
       "      <td>16.0</td>\n",
       "      <td>15.0</td>\n",
       "    </tr>\n",
       "    <tr>\n",
       "      <th>1090</th>\n",
       "      <td>9/6/2024 12:43</td>\n",
       "      <td>Sophomore</td>\n",
       "      <td>DS (incl. combined)</td>\n",
       "      <td>No</td>\n",
       "      <td>1</td>\n",
       "      <td>not sure</td>\n",
       "      <td>any outdoor activity</td>\n",
       "      <td>https://open.spotify.com/track/1HNkqx9Ahdgi1Ix...</td>\n",
       "      <td>I think it's the future, and the future looks ...</td>\n",
       "      <td>232.0</td>\n",
       "      <td>0.0</td>\n",
       "      <td>18.0</td>\n",
       "      <td>NaN</td>\n",
       "    </tr>\n",
       "    <tr>\n",
       "      <th>1591</th>\n",
       "      <td>9/6/2024 13:45</td>\n",
       "      <td>Sophomore</td>\n",
       "      <td>DS (incl. combined)</td>\n",
       "      <td>No</td>\n",
       "      <td>2</td>\n",
       "      <td>Project Manager</td>\n",
       "      <td>running</td>\n",
       "      <td>Ode to a Conversation Stuck in Your Throat htt...</td>\n",
       "      <td>I think it's the future, and the future looks ...</td>\n",
       "      <td>230.0</td>\n",
       "      <td>1.0</td>\n",
       "      <td>17.0</td>\n",
       "      <td>10.0</td>\n",
       "    </tr>\n",
       "    <tr>\n",
       "      <th>1710</th>\n",
       "      <td>9/6/2024 22:51</td>\n",
       "      <td>Junior</td>\n",
       "      <td>CS (incl. combined)</td>\n",
       "      <td>No</td>\n",
       "      <td>4</td>\n",
       "      <td>Make some cool games or apps</td>\n",
       "      <td>Stay home with my cats and do nothing</td>\n",
       "      <td>https://open.spotify.com/track/2N61DUSk4oIZdrS...</td>\n",
       "      <td>I think it's the future, and the future looks ...</td>\n",
       "      <td>NaN</td>\n",
       "      <td>NaN</td>\n",
       "      <td>16.0</td>\n",
       "      <td>NaN</td>\n",
       "    </tr>\n",
       "  </tbody>\n",
       "</table>\n",
       "<p>143 rows × 13 columns</p>\n",
       "</div>"
      ],
      "text/plain": [
       "                     time_stamp      class                cs_ds co_op  \\\n",
       "fake_student_id                                                         \n",
       "1460              9/4/2024 0:17  Sophomore  CS (incl. combined)    No   \n",
       "1091              9/4/2024 7:51  Sophomore  DS (incl. combined)    No   \n",
       "1764             9/4/2024 11:29     Junior  CS (incl. combined)   Yes   \n",
       "1464             9/4/2024 13:23  Sophomore  CS (incl. combined)    No   \n",
       "1629             9/4/2024 14:17  Sophomore  DS (incl. combined)    No   \n",
       "...                         ...        ...                  ...   ...   \n",
       "1275              9/6/2024 2:04  Sophomore  CS (incl. combined)    No   \n",
       "1526             9/6/2024 10:38  Sophomore  DS (incl. combined)    No   \n",
       "1090             9/6/2024 12:43  Sophomore  DS (incl. combined)    No   \n",
       "1591             9/6/2024 13:45  Sophomore  DS (incl. combined)    No   \n",
       "1710             9/6/2024 22:51     Junior  CS (incl. combined)    No   \n",
       "\n",
       "                 python_exp  \\\n",
       "fake_student_id               \n",
       "1460                      3   \n",
       "1091                      1   \n",
       "1764                      1   \n",
       "1464                      3   \n",
       "1629                      3   \n",
       "...                     ...   \n",
       "1275                      3   \n",
       "1526                      3   \n",
       "1090                      1   \n",
       "1591                      2   \n",
       "1710                      4   \n",
       "\n",
       "                                                      dream_career  \\\n",
       "fake_student_id                                                      \n",
       "1460                                           Computer Programmer   \n",
       "1091             Data Scientist, Investment Banker, Private Equ...   \n",
       "1764                                                           NaN   \n",
       "1464                             Tech Entrepreneurship or Research   \n",
       "1629                                Not sure yet, still exploring.   \n",
       "...                                                            ...   \n",
       "1275             Tech consulting, software developer, I'm also ...   \n",
       "1526                                             Marketing Analyst   \n",
       "1090                                                      not sure   \n",
       "1591                                               Project Manager   \n",
       "1710                                  Make some cool games or apps   \n",
       "\n",
       "                                                           hobby  \\\n",
       "fake_student_id                                                    \n",
       "1460                             I enjoy playing golf and djing.   \n",
       "1091             Exercising (Walking, Bouldering, Weightlifting)   \n",
       "1764                             Cooking and listening to music!   \n",
       "1464                                                      Soccer   \n",
       "1629                                               Video Editing   \n",
       "...                                                          ...   \n",
       "1275                                    I like writing articles.   \n",
       "1526                                                     Dancing   \n",
       "1090                                       any outdoor activity    \n",
       "1591                                                     running   \n",
       "1710                       Stay home with my cats and do nothing   \n",
       "\n",
       "                                                              song  \\\n",
       "fake_student_id                                                      \n",
       "1460             https://open.spotify.com/track/2dshtwEGNpyrE0x...   \n",
       "1091             Currently, Halo - Beyonce, https://open.spotif...   \n",
       "1764             https://open.spotify.com/track/42sqQTi2EqDPd6I...   \n",
       "1464                            Stairway to Heaven by Led Zeppelin   \n",
       "1629             ocd - eriddoa (https://open.spotify.com/track/...   \n",
       "...                                                            ...   \n",
       "1275             The Black Dog - https://open.spotify.com/track...   \n",
       "1526             https://open.spotify.com/track/51rfRCiUSvxXlCS...   \n",
       "1090             https://open.spotify.com/track/1HNkqx9Ahdgi1Ix...   \n",
       "1591             Ode to a Conversation Stuck in Your Throat htt...   \n",
       "1710             https://open.spotify.com/track/2N61DUSk4oIZdrS...   \n",
       "\n",
       "                                                          ai_feels  \\\n",
       "fake_student_id                                                      \n",
       "1460             I think it's the future, and the future looks ...   \n",
       "1091                   I'm a bit worried it might be used for ill.   \n",
       "1764                   I'm a bit worried it might be used for ill.   \n",
       "1464                                 It's going to destroy us all!   \n",
       "1629             I think it's the future, and the future looks ...   \n",
       "...                                                            ...   \n",
       "1275             It will be useful, but it won't change the wor...   \n",
       "1526             It will be useful, but it won't change the wor...   \n",
       "1090             I think it's the future, and the future looks ...   \n",
       "1591             I think it's the future, and the future looks ...   \n",
       "1710             I think it's the future, and the future looks ...   \n",
       "\n",
       "                 age_months  pets  credit_hours  work_hours  \n",
       "fake_student_id                                              \n",
       "1460                  237.0   2.0          18.0         0.0  \n",
       "1091                  230.0   1.0          17.0        14.0  \n",
       "1764                  244.0   3.0          17.0         0.0  \n",
       "1464                  238.0   0.0          18.0         0.0  \n",
       "1629                  232.0   1.0          16.0         0.0  \n",
       "...                     ...   ...           ...         ...  \n",
       "1275                  238.0   0.0          18.0         0.0  \n",
       "1526                  232.0   1.0          16.0        15.0  \n",
       "1090                  232.0   0.0          18.0         NaN  \n",
       "1591                  230.0   1.0          17.0        10.0  \n",
       "1710                    NaN   NaN          16.0         NaN  \n",
       "\n",
       "[143 rows x 13 columns]"
      ]
     },
     "execution_count": 133,
     "metadata": {},
     "output_type": "execute_result"
    }
   ],
   "source": [
    "# how to specify index col (make sure this is uniquely identifiable!)\n",
    "pd.read_csv('cleaner_gtky.csv', index_col='fake_student_id')"
   ]
  },
  {
   "cell_type": "code",
   "execution_count": 134,
   "metadata": {
    "scrolled": true
   },
   "outputs": [
    {
     "data": {
      "text/html": [
       "<div>\n",
       "<style scoped>\n",
       "    .dataframe tbody tr th:only-of-type {\n",
       "        vertical-align: middle;\n",
       "    }\n",
       "\n",
       "    .dataframe tbody tr th {\n",
       "        vertical-align: top;\n",
       "    }\n",
       "\n",
       "    .dataframe thead th {\n",
       "        text-align: right;\n",
       "    }\n",
       "</style>\n",
       "<table border=\"1\" class=\"dataframe\">\n",
       "  <thead>\n",
       "    <tr style=\"text-align: right;\">\n",
       "      <th></th>\n",
       "      <th>time_stamp</th>\n",
       "      <th>class</th>\n",
       "      <th>cs_ds</th>\n",
       "      <th>co_op</th>\n",
       "      <th>python_exp</th>\n",
       "      <th>dream_career</th>\n",
       "      <th>hobby</th>\n",
       "      <th>song</th>\n",
       "      <th>ai_feels</th>\n",
       "      <th>age_months</th>\n",
       "      <th>pets</th>\n",
       "      <th>credit_hours</th>\n",
       "      <th>work_hours</th>\n",
       "    </tr>\n",
       "    <tr>\n",
       "      <th>fake_student_id</th>\n",
       "      <th></th>\n",
       "      <th></th>\n",
       "      <th></th>\n",
       "      <th></th>\n",
       "      <th></th>\n",
       "      <th></th>\n",
       "      <th></th>\n",
       "      <th></th>\n",
       "      <th></th>\n",
       "      <th></th>\n",
       "      <th></th>\n",
       "      <th></th>\n",
       "      <th></th>\n",
       "    </tr>\n",
       "  </thead>\n",
       "  <tbody>\n",
       "    <tr>\n",
       "      <th>1460</th>\n",
       "      <td>9/4/2024 0:17</td>\n",
       "      <td>Sophomore</td>\n",
       "      <td>CS (incl. combined)</td>\n",
       "      <td>No</td>\n",
       "      <td>3</td>\n",
       "      <td>Computer Programmer</td>\n",
       "      <td>I enjoy playing golf and djing.</td>\n",
       "      <td>https://open.spotify.com/track/2dshtwEGNpyrE0x...</td>\n",
       "      <td>I think it's the future, and the future looks ...</td>\n",
       "      <td>237.0</td>\n",
       "      <td>2.0</td>\n",
       "      <td>18.0</td>\n",
       "      <td>0.0</td>\n",
       "    </tr>\n",
       "    <tr>\n",
       "      <th>1091</th>\n",
       "      <td>9/4/2024 7:51</td>\n",
       "      <td>Sophomore</td>\n",
       "      <td>DS (incl. combined)</td>\n",
       "      <td>No</td>\n",
       "      <td>1</td>\n",
       "      <td>Data Scientist, Investment Banker, Private Equ...</td>\n",
       "      <td>Exercising (Walking, Bouldering, Weightlifting)</td>\n",
       "      <td>Currently, Halo - Beyonce, https://open.spotif...</td>\n",
       "      <td>I'm a bit worried it might be used for ill.</td>\n",
       "      <td>230.0</td>\n",
       "      <td>1.0</td>\n",
       "      <td>17.0</td>\n",
       "      <td>14.0</td>\n",
       "    </tr>\n",
       "    <tr>\n",
       "      <th>1764</th>\n",
       "      <td>9/4/2024 11:29</td>\n",
       "      <td>Junior</td>\n",
       "      <td>CS (incl. combined)</td>\n",
       "      <td>Yes</td>\n",
       "      <td>1</td>\n",
       "      <td>NaN</td>\n",
       "      <td>Cooking and listening to music!</td>\n",
       "      <td>https://open.spotify.com/track/42sqQTi2EqDPd6I...</td>\n",
       "      <td>I'm a bit worried it might be used for ill.</td>\n",
       "      <td>244.0</td>\n",
       "      <td>3.0</td>\n",
       "      <td>17.0</td>\n",
       "      <td>0.0</td>\n",
       "    </tr>\n",
       "    <tr>\n",
       "      <th>1464</th>\n",
       "      <td>9/4/2024 13:23</td>\n",
       "      <td>Sophomore</td>\n",
       "      <td>CS (incl. combined)</td>\n",
       "      <td>No</td>\n",
       "      <td>3</td>\n",
       "      <td>Tech Entrepreneurship or Research</td>\n",
       "      <td>Soccer</td>\n",
       "      <td>Stairway to Heaven by Led Zeppelin</td>\n",
       "      <td>It's going to destroy us all!</td>\n",
       "      <td>238.0</td>\n",
       "      <td>0.0</td>\n",
       "      <td>18.0</td>\n",
       "      <td>0.0</td>\n",
       "    </tr>\n",
       "    <tr>\n",
       "      <th>1629</th>\n",
       "      <td>9/4/2024 14:17</td>\n",
       "      <td>Sophomore</td>\n",
       "      <td>DS (incl. combined)</td>\n",
       "      <td>No</td>\n",
       "      <td>3</td>\n",
       "      <td>Not sure yet, still exploring.</td>\n",
       "      <td>Video Editing</td>\n",
       "      <td>ocd - eriddoa (https://open.spotify.com/track/...</td>\n",
       "      <td>I think it's the future, and the future looks ...</td>\n",
       "      <td>232.0</td>\n",
       "      <td>1.0</td>\n",
       "      <td>16.0</td>\n",
       "      <td>0.0</td>\n",
       "    </tr>\n",
       "  </tbody>\n",
       "</table>\n",
       "</div>"
      ],
      "text/plain": [
       "                     time_stamp      class                cs_ds co_op  \\\n",
       "fake_student_id                                                         \n",
       "1460              9/4/2024 0:17  Sophomore  CS (incl. combined)    No   \n",
       "1091              9/4/2024 7:51  Sophomore  DS (incl. combined)    No   \n",
       "1764             9/4/2024 11:29     Junior  CS (incl. combined)   Yes   \n",
       "1464             9/4/2024 13:23  Sophomore  CS (incl. combined)    No   \n",
       "1629             9/4/2024 14:17  Sophomore  DS (incl. combined)    No   \n",
       "\n",
       "                 python_exp  \\\n",
       "fake_student_id               \n",
       "1460                      3   \n",
       "1091                      1   \n",
       "1764                      1   \n",
       "1464                      3   \n",
       "1629                      3   \n",
       "\n",
       "                                                      dream_career  \\\n",
       "fake_student_id                                                      \n",
       "1460                                           Computer Programmer   \n",
       "1091             Data Scientist, Investment Banker, Private Equ...   \n",
       "1764                                                           NaN   \n",
       "1464                             Tech Entrepreneurship or Research   \n",
       "1629                                Not sure yet, still exploring.   \n",
       "\n",
       "                                                           hobby  \\\n",
       "fake_student_id                                                    \n",
       "1460                             I enjoy playing golf and djing.   \n",
       "1091             Exercising (Walking, Bouldering, Weightlifting)   \n",
       "1764                             Cooking and listening to music!   \n",
       "1464                                                      Soccer   \n",
       "1629                                               Video Editing   \n",
       "\n",
       "                                                              song  \\\n",
       "fake_student_id                                                      \n",
       "1460             https://open.spotify.com/track/2dshtwEGNpyrE0x...   \n",
       "1091             Currently, Halo - Beyonce, https://open.spotif...   \n",
       "1764             https://open.spotify.com/track/42sqQTi2EqDPd6I...   \n",
       "1464                            Stairway to Heaven by Led Zeppelin   \n",
       "1629             ocd - eriddoa (https://open.spotify.com/track/...   \n",
       "\n",
       "                                                          ai_feels  \\\n",
       "fake_student_id                                                      \n",
       "1460             I think it's the future, and the future looks ...   \n",
       "1091                   I'm a bit worried it might be used for ill.   \n",
       "1764                   I'm a bit worried it might be used for ill.   \n",
       "1464                                 It's going to destroy us all!   \n",
       "1629             I think it's the future, and the future looks ...   \n",
       "\n",
       "                 age_months  pets  credit_hours  work_hours  \n",
       "fake_student_id                                              \n",
       "1460                  237.0   2.0          18.0         0.0  \n",
       "1091                  230.0   1.0          17.0        14.0  \n",
       "1764                  244.0   3.0          17.0         0.0  \n",
       "1464                  238.0   0.0          18.0         0.0  \n",
       "1629                  232.0   1.0          16.0         0.0  "
      ]
     },
     "execution_count": 134,
     "metadata": {},
     "output_type": "execute_result"
    }
   ],
   "source": [
    "# look at the first few rows (header)\n",
    "gtky = pd.read_csv('cleaner_gtky.csv', index_col='fake_student_id')\n",
    "gtky.head()"
   ]
  },
  {
   "cell_type": "code",
   "execution_count": 135,
   "metadata": {},
   "outputs": [
    {
     "data": {
      "text/html": [
       "<div>\n",
       "<style scoped>\n",
       "    .dataframe tbody tr th:only-of-type {\n",
       "        vertical-align: middle;\n",
       "    }\n",
       "\n",
       "    .dataframe tbody tr th {\n",
       "        vertical-align: top;\n",
       "    }\n",
       "\n",
       "    .dataframe thead th {\n",
       "        text-align: right;\n",
       "    }\n",
       "</style>\n",
       "<table border=\"1\" class=\"dataframe\">\n",
       "  <thead>\n",
       "    <tr style=\"text-align: right;\">\n",
       "      <th></th>\n",
       "      <th>time_stamp</th>\n",
       "      <th>class</th>\n",
       "      <th>cs_ds</th>\n",
       "      <th>co_op</th>\n",
       "      <th>python_exp</th>\n",
       "      <th>dream_career</th>\n",
       "      <th>hobby</th>\n",
       "      <th>song</th>\n",
       "      <th>ai_feels</th>\n",
       "      <th>age_months</th>\n",
       "      <th>pets</th>\n",
       "      <th>credit_hours</th>\n",
       "      <th>work_hours</th>\n",
       "    </tr>\n",
       "    <tr>\n",
       "      <th>fake_student_id</th>\n",
       "      <th></th>\n",
       "      <th></th>\n",
       "      <th></th>\n",
       "      <th></th>\n",
       "      <th></th>\n",
       "      <th></th>\n",
       "      <th></th>\n",
       "      <th></th>\n",
       "      <th></th>\n",
       "      <th></th>\n",
       "      <th></th>\n",
       "      <th></th>\n",
       "      <th></th>\n",
       "    </tr>\n",
       "  </thead>\n",
       "  <tbody>\n",
       "    <tr>\n",
       "      <th>1275</th>\n",
       "      <td>9/6/2024 2:04</td>\n",
       "      <td>Sophomore</td>\n",
       "      <td>CS (incl. combined)</td>\n",
       "      <td>No</td>\n",
       "      <td>3</td>\n",
       "      <td>Tech consulting, software developer, I'm also ...</td>\n",
       "      <td>I like writing articles.</td>\n",
       "      <td>The Black Dog - https://open.spotify.com/track...</td>\n",
       "      <td>It will be useful, but it won't change the wor...</td>\n",
       "      <td>238.0</td>\n",
       "      <td>0.0</td>\n",
       "      <td>18.0</td>\n",
       "      <td>0.0</td>\n",
       "    </tr>\n",
       "    <tr>\n",
       "      <th>1526</th>\n",
       "      <td>9/6/2024 10:38</td>\n",
       "      <td>Sophomore</td>\n",
       "      <td>DS (incl. combined)</td>\n",
       "      <td>No</td>\n",
       "      <td>3</td>\n",
       "      <td>Marketing Analyst</td>\n",
       "      <td>Dancing</td>\n",
       "      <td>https://open.spotify.com/track/51rfRCiUSvxXlCS...</td>\n",
       "      <td>It will be useful, but it won't change the wor...</td>\n",
       "      <td>232.0</td>\n",
       "      <td>1.0</td>\n",
       "      <td>16.0</td>\n",
       "      <td>15.0</td>\n",
       "    </tr>\n",
       "    <tr>\n",
       "      <th>1090</th>\n",
       "      <td>9/6/2024 12:43</td>\n",
       "      <td>Sophomore</td>\n",
       "      <td>DS (incl. combined)</td>\n",
       "      <td>No</td>\n",
       "      <td>1</td>\n",
       "      <td>not sure</td>\n",
       "      <td>any outdoor activity</td>\n",
       "      <td>https://open.spotify.com/track/1HNkqx9Ahdgi1Ix...</td>\n",
       "      <td>I think it's the future, and the future looks ...</td>\n",
       "      <td>232.0</td>\n",
       "      <td>0.0</td>\n",
       "      <td>18.0</td>\n",
       "      <td>NaN</td>\n",
       "    </tr>\n",
       "    <tr>\n",
       "      <th>1591</th>\n",
       "      <td>9/6/2024 13:45</td>\n",
       "      <td>Sophomore</td>\n",
       "      <td>DS (incl. combined)</td>\n",
       "      <td>No</td>\n",
       "      <td>2</td>\n",
       "      <td>Project Manager</td>\n",
       "      <td>running</td>\n",
       "      <td>Ode to a Conversation Stuck in Your Throat htt...</td>\n",
       "      <td>I think it's the future, and the future looks ...</td>\n",
       "      <td>230.0</td>\n",
       "      <td>1.0</td>\n",
       "      <td>17.0</td>\n",
       "      <td>10.0</td>\n",
       "    </tr>\n",
       "    <tr>\n",
       "      <th>1710</th>\n",
       "      <td>9/6/2024 22:51</td>\n",
       "      <td>Junior</td>\n",
       "      <td>CS (incl. combined)</td>\n",
       "      <td>No</td>\n",
       "      <td>4</td>\n",
       "      <td>Make some cool games or apps</td>\n",
       "      <td>Stay home with my cats and do nothing</td>\n",
       "      <td>https://open.spotify.com/track/2N61DUSk4oIZdrS...</td>\n",
       "      <td>I think it's the future, and the future looks ...</td>\n",
       "      <td>NaN</td>\n",
       "      <td>NaN</td>\n",
       "      <td>16.0</td>\n",
       "      <td>NaN</td>\n",
       "    </tr>\n",
       "  </tbody>\n",
       "</table>\n",
       "</div>"
      ],
      "text/plain": [
       "                     time_stamp      class                cs_ds co_op  \\\n",
       "fake_student_id                                                         \n",
       "1275              9/6/2024 2:04  Sophomore  CS (incl. combined)    No   \n",
       "1526             9/6/2024 10:38  Sophomore  DS (incl. combined)    No   \n",
       "1090             9/6/2024 12:43  Sophomore  DS (incl. combined)    No   \n",
       "1591             9/6/2024 13:45  Sophomore  DS (incl. combined)    No   \n",
       "1710             9/6/2024 22:51     Junior  CS (incl. combined)    No   \n",
       "\n",
       "                 python_exp  \\\n",
       "fake_student_id               \n",
       "1275                      3   \n",
       "1526                      3   \n",
       "1090                      1   \n",
       "1591                      2   \n",
       "1710                      4   \n",
       "\n",
       "                                                      dream_career  \\\n",
       "fake_student_id                                                      \n",
       "1275             Tech consulting, software developer, I'm also ...   \n",
       "1526                                             Marketing Analyst   \n",
       "1090                                                      not sure   \n",
       "1591                                               Project Manager   \n",
       "1710                                  Make some cool games or apps   \n",
       "\n",
       "                                                 hobby  \\\n",
       "fake_student_id                                          \n",
       "1275                          I like writing articles.   \n",
       "1526                                           Dancing   \n",
       "1090                             any outdoor activity    \n",
       "1591                                           running   \n",
       "1710             Stay home with my cats and do nothing   \n",
       "\n",
       "                                                              song  \\\n",
       "fake_student_id                                                      \n",
       "1275             The Black Dog - https://open.spotify.com/track...   \n",
       "1526             https://open.spotify.com/track/51rfRCiUSvxXlCS...   \n",
       "1090             https://open.spotify.com/track/1HNkqx9Ahdgi1Ix...   \n",
       "1591             Ode to a Conversation Stuck in Your Throat htt...   \n",
       "1710             https://open.spotify.com/track/2N61DUSk4oIZdrS...   \n",
       "\n",
       "                                                          ai_feels  \\\n",
       "fake_student_id                                                      \n",
       "1275             It will be useful, but it won't change the wor...   \n",
       "1526             It will be useful, but it won't change the wor...   \n",
       "1090             I think it's the future, and the future looks ...   \n",
       "1591             I think it's the future, and the future looks ...   \n",
       "1710             I think it's the future, and the future looks ...   \n",
       "\n",
       "                 age_months  pets  credit_hours  work_hours  \n",
       "fake_student_id                                              \n",
       "1275                  238.0   0.0          18.0         0.0  \n",
       "1526                  232.0   1.0          16.0        15.0  \n",
       "1090                  232.0   0.0          18.0         NaN  \n",
       "1591                  230.0   1.0          17.0        10.0  \n",
       "1710                    NaN   NaN          16.0         NaN  "
      ]
     },
     "execution_count": 135,
     "metadata": {},
     "output_type": "execute_result"
    }
   ],
   "source": [
    "# or the last few (tail)\n",
    "gtky.tail()"
   ]
  },
  {
   "cell_type": "code",
   "execution_count": 136,
   "metadata": {},
   "outputs": [
    {
     "data": {
      "text/html": [
       "<div>\n",
       "<style scoped>\n",
       "    .dataframe tbody tr th:only-of-type {\n",
       "        vertical-align: middle;\n",
       "    }\n",
       "\n",
       "    .dataframe tbody tr th {\n",
       "        vertical-align: top;\n",
       "    }\n",
       "\n",
       "    .dataframe thead tr th {\n",
       "        text-align: left;\n",
       "    }\n",
       "\n",
       "    .dataframe thead tr:last-of-type th {\n",
       "        text-align: right;\n",
       "    }\n",
       "</style>\n",
       "<table border=\"1\" class=\"dataframe\">\n",
       "  <thead>\n",
       "    <tr>\n",
       "      <th></th>\n",
       "      <th colspan=\"8\" halign=\"left\">python_exp</th>\n",
       "      <th colspan=\"2\" halign=\"left\">age_months</th>\n",
       "      <th>...</th>\n",
       "      <th colspan=\"2\" halign=\"left\">credit_hours</th>\n",
       "      <th colspan=\"8\" halign=\"left\">work_hours</th>\n",
       "    </tr>\n",
       "    <tr>\n",
       "      <th></th>\n",
       "      <th>count</th>\n",
       "      <th>mean</th>\n",
       "      <th>std</th>\n",
       "      <th>min</th>\n",
       "      <th>25%</th>\n",
       "      <th>50%</th>\n",
       "      <th>75%</th>\n",
       "      <th>max</th>\n",
       "      <th>count</th>\n",
       "      <th>mean</th>\n",
       "      <th>...</th>\n",
       "      <th>75%</th>\n",
       "      <th>max</th>\n",
       "      <th>count</th>\n",
       "      <th>mean</th>\n",
       "      <th>std</th>\n",
       "      <th>min</th>\n",
       "      <th>25%</th>\n",
       "      <th>50%</th>\n",
       "      <th>75%</th>\n",
       "      <th>max</th>\n",
       "    </tr>\n",
       "    <tr>\n",
       "      <th>class</th>\n",
       "      <th></th>\n",
       "      <th></th>\n",
       "      <th></th>\n",
       "      <th></th>\n",
       "      <th></th>\n",
       "      <th></th>\n",
       "      <th></th>\n",
       "      <th></th>\n",
       "      <th></th>\n",
       "      <th></th>\n",
       "      <th></th>\n",
       "      <th></th>\n",
       "      <th></th>\n",
       "      <th></th>\n",
       "      <th></th>\n",
       "      <th></th>\n",
       "      <th></th>\n",
       "      <th></th>\n",
       "      <th></th>\n",
       "      <th></th>\n",
       "      <th></th>\n",
       "    </tr>\n",
       "  </thead>\n",
       "  <tbody>\n",
       "    <tr>\n",
       "      <th>5th year</th>\n",
       "      <td>2.0</td>\n",
       "      <td>2.500000</td>\n",
       "      <td>0.707107</td>\n",
       "      <td>2.0</td>\n",
       "      <td>2.25</td>\n",
       "      <td>2.5</td>\n",
       "      <td>2.75</td>\n",
       "      <td>3.0</td>\n",
       "      <td>2.0</td>\n",
       "      <td>279.500000</td>\n",
       "      <td>...</td>\n",
       "      <td>16.0</td>\n",
       "      <td>16.0</td>\n",
       "      <td>2.0</td>\n",
       "      <td>3.500000</td>\n",
       "      <td>4.949747</td>\n",
       "      <td>0.0</td>\n",
       "      <td>1.75</td>\n",
       "      <td>3.5</td>\n",
       "      <td>5.25</td>\n",
       "      <td>7.0</td>\n",
       "    </tr>\n",
       "    <tr>\n",
       "      <th>Faculty</th>\n",
       "      <td>1.0</td>\n",
       "      <td>5.000000</td>\n",
       "      <td>NaN</td>\n",
       "      <td>5.0</td>\n",
       "      <td>5.00</td>\n",
       "      <td>5.0</td>\n",
       "      <td>5.00</td>\n",
       "      <td>5.0</td>\n",
       "      <td>1.0</td>\n",
       "      <td>374.000000</td>\n",
       "      <td>...</td>\n",
       "      <td>12.0</td>\n",
       "      <td>12.0</td>\n",
       "      <td>1.0</td>\n",
       "      <td>0.000000</td>\n",
       "      <td>NaN</td>\n",
       "      <td>0.0</td>\n",
       "      <td>0.00</td>\n",
       "      <td>0.0</td>\n",
       "      <td>0.00</td>\n",
       "      <td>0.0</td>\n",
       "    </tr>\n",
       "    <tr>\n",
       "      <th>Freshman</th>\n",
       "      <td>1.0</td>\n",
       "      <td>5.000000</td>\n",
       "      <td>NaN</td>\n",
       "      <td>5.0</td>\n",
       "      <td>5.00</td>\n",
       "      <td>5.0</td>\n",
       "      <td>5.00</td>\n",
       "      <td>5.0</td>\n",
       "      <td>1.0</td>\n",
       "      <td>226.000000</td>\n",
       "      <td>...</td>\n",
       "      <td>18.0</td>\n",
       "      <td>18.0</td>\n",
       "      <td>1.0</td>\n",
       "      <td>0.000000</td>\n",
       "      <td>NaN</td>\n",
       "      <td>0.0</td>\n",
       "      <td>0.00</td>\n",
       "      <td>0.0</td>\n",
       "      <td>0.00</td>\n",
       "      <td>0.0</td>\n",
       "    </tr>\n",
       "    <tr>\n",
       "      <th>Junior</th>\n",
       "      <td>33.0</td>\n",
       "      <td>2.909091</td>\n",
       "      <td>0.947485</td>\n",
       "      <td>1.0</td>\n",
       "      <td>2.00</td>\n",
       "      <td>3.0</td>\n",
       "      <td>4.00</td>\n",
       "      <td>4.0</td>\n",
       "      <td>31.0</td>\n",
       "      <td>240.645161</td>\n",
       "      <td>...</td>\n",
       "      <td>17.0</td>\n",
       "      <td>20.0</td>\n",
       "      <td>31.0</td>\n",
       "      <td>2.258065</td>\n",
       "      <td>5.561581</td>\n",
       "      <td>0.0</td>\n",
       "      <td>0.00</td>\n",
       "      <td>0.0</td>\n",
       "      <td>0.00</td>\n",
       "      <td>25.0</td>\n",
       "    </tr>\n",
       "    <tr>\n",
       "      <th>Senior</th>\n",
       "      <td>18.0</td>\n",
       "      <td>3.277778</td>\n",
       "      <td>1.017815</td>\n",
       "      <td>1.0</td>\n",
       "      <td>3.00</td>\n",
       "      <td>3.0</td>\n",
       "      <td>4.00</td>\n",
       "      <td>5.0</td>\n",
       "      <td>18.0</td>\n",
       "      <td>259.000000</td>\n",
       "      <td>...</td>\n",
       "      <td>16.0</td>\n",
       "      <td>19.0</td>\n",
       "      <td>18.0</td>\n",
       "      <td>7.916667</td>\n",
       "      <td>7.452299</td>\n",
       "      <td>0.0</td>\n",
       "      <td>0.00</td>\n",
       "      <td>9.0</td>\n",
       "      <td>12.00</td>\n",
       "      <td>20.0</td>\n",
       "    </tr>\n",
       "    <tr>\n",
       "      <th>Sophomore</th>\n",
       "      <td>88.0</td>\n",
       "      <td>2.750000</td>\n",
       "      <td>1.116748</td>\n",
       "      <td>1.0</td>\n",
       "      <td>2.00</td>\n",
       "      <td>3.0</td>\n",
       "      <td>3.00</td>\n",
       "      <td>5.0</td>\n",
       "      <td>88.0</td>\n",
       "      <td>231.672727</td>\n",
       "      <td>...</td>\n",
       "      <td>18.0</td>\n",
       "      <td>22.0</td>\n",
       "      <td>86.0</td>\n",
       "      <td>4.348837</td>\n",
       "      <td>6.613298</td>\n",
       "      <td>0.0</td>\n",
       "      <td>0.00</td>\n",
       "      <td>0.0</td>\n",
       "      <td>9.75</td>\n",
       "      <td>20.0</td>\n",
       "    </tr>\n",
       "  </tbody>\n",
       "</table>\n",
       "<p>6 rows × 40 columns</p>\n",
       "</div>"
      ],
      "text/plain": [
       "          python_exp                                                 \\\n",
       "               count      mean       std  min   25%  50%   75%  max   \n",
       "class                                                                 \n",
       "5th year         2.0  2.500000  0.707107  2.0  2.25  2.5  2.75  3.0   \n",
       "Faculty          1.0  5.000000       NaN  5.0  5.00  5.0  5.00  5.0   \n",
       "Freshman         1.0  5.000000       NaN  5.0  5.00  5.0  5.00  5.0   \n",
       "Junior          33.0  2.909091  0.947485  1.0  2.00  3.0  4.00  4.0   \n",
       "Senior          18.0  3.277778  1.017815  1.0  3.00  3.0  4.00  5.0   \n",
       "Sophomore       88.0  2.750000  1.116748  1.0  2.00  3.0  3.00  5.0   \n",
       "\n",
       "          age_months              ... credit_hours       work_hours            \\\n",
       "               count        mean  ...          75%   max      count      mean   \n",
       "class                             ...                                           \n",
       "5th year         2.0  279.500000  ...         16.0  16.0        2.0  3.500000   \n",
       "Faculty          1.0  374.000000  ...         12.0  12.0        1.0  0.000000   \n",
       "Freshman         1.0  226.000000  ...         18.0  18.0        1.0  0.000000   \n",
       "Junior          31.0  240.645161  ...         17.0  20.0       31.0  2.258065   \n",
       "Senior          18.0  259.000000  ...         16.0  19.0       18.0  7.916667   \n",
       "Sophomore       88.0  231.672727  ...         18.0  22.0       86.0  4.348837   \n",
       "\n",
       "                                                  \n",
       "                std  min   25%  50%    75%   max  \n",
       "class                                             \n",
       "5th year   4.949747  0.0  1.75  3.5   5.25   7.0  \n",
       "Faculty         NaN  0.0  0.00  0.0   0.00   0.0  \n",
       "Freshman        NaN  0.0  0.00  0.0   0.00   0.0  \n",
       "Junior     5.561581  0.0  0.00  0.0   0.00  25.0  \n",
       "Senior     7.452299  0.0  0.00  9.0  12.00  20.0  \n",
       "Sophomore  6.613298  0.0  0.00  0.0   9.75  20.0  \n",
       "\n",
       "[6 rows x 40 columns]"
      ]
     },
     "execution_count": 136,
     "metadata": {},
     "output_type": "execute_result"
    }
   ],
   "source": [
    "# look at stats for the different classes\n",
    "class_gtky = gtky.groupby(\"class\")\n",
    "class_gtky.describe()"
   ]
  },
  {
   "cell_type": "markdown",
   "metadata": {},
   "source": [
    "## Saving a DataFrame as a csv\n",
    "- .to_csv()\n",
    "- index=False\n",
    "- header=False\n",
    "- appending to csv (mode='a', header=None)"
   ]
  },
  {
   "cell_type": "code",
   "execution_count": 137,
   "metadata": {},
   "outputs": [],
   "source": [
    "# doesn't save index into first column of csv\n",
    "gtky.to_csv('gtky_copy.csv', index=False)"
   ]
  },
  {
   "cell_type": "code",
   "execution_count": 138,
   "metadata": {},
   "outputs": [],
   "source": [
    "# doesn't save header into first row of csv\n",
    "gtky.to_csv('gtky_copy_no_head.csv', header=False)"
   ]
  },
  {
   "cell_type": "code",
   "execution_count": 139,
   "metadata": {},
   "outputs": [],
   "source": [
    "# why would you want to not save the header?\n",
    "# you could append to an existing csv with mode = 'a'\n",
    "\n",
    "gtky.to_csv('gtky_copy2.csv', index=False)\n",
    "for _ in range(10):\n",
    "    gtky.to_csv('gtky_copy2.csv', header=False, mode='a')"
   ]
  },
  {
   "cell_type": "markdown",
   "metadata": {},
   "source": [
    "## What's next?\n",
    "\n",
    "The example above seems a bit contrived, but imagine you have a web-scraping job which goes to some web page every hour and scrapes it to get some new data.  You could just add the new data as a few new rows to your existing dataset with the syntax shown above.\n",
    "\n",
    "Next Topics (for Homework 2):\n",
    "- Getting Data from the internet (APIs and Web Scraping)\n",
    "- Cleaning Data\n",
    "- Summarizing data with numerical summaries and plots"
   ]
  },
  {
   "cell_type": "code",
   "execution_count": null,
   "metadata": {},
   "outputs": [],
   "source": []
  }
 ],
 "metadata": {
  "celltoolbar": "Slideshow",
  "kernelspec": {
   "display_name": "Python 3 (ipykernel)",
   "language": "python",
   "name": "python3"
  },
  "language_info": {
   "codemirror_mode": {
    "name": "ipython",
    "version": 3
   },
   "file_extension": ".py",
   "mimetype": "text/x-python",
   "name": "python",
   "nbconvert_exporter": "python",
   "pygments_lexer": "ipython3",
   "version": "3.11.9"
  }
 },
 "nbformat": 4,
 "nbformat_minor": 4
}
