{
 "cells": [
  {
   "cell_type": "markdown",
   "id": "c2cc78c4-5308-4cd0-890c-3884035cddca",
   "metadata": {},
   "source": [
    "# Getting Forecast from OpenWeather\n"
   ]
  },
  {
   "cell_type": "code",
   "execution_count": 3,
   "id": "57c17a8e-7ce9-4d1e-a91f-c218d49d55f8",
   "metadata": {},
   "outputs": [],
   "source": [
    "import requests\n",
    "import json\n",
    "import pandas as pd\n",
    "from datetime import datetime\n",
    "\n",
    "\n",
    "def get_forecast(lat, lon, units='imperial', api_key='d36fa352ac73226b30772f64675f41bb'):\n",
    "    \"\"\" creates a function that gets the hourly forecast (for the next two days) for a given lat and lon\n",
    "    \n",
    "    Args:\n",
    "        lat (float): latitude\n",
    "        lon (float): longitude\n",
    "        units (str): units\n",
    "        api_key (str): key for accessing API\n",
    "        \n",
    "    Returns:\n",
    "        df_hourly (data frame): data frame with rows corresponding to hours and columns various features\n",
    "    \n",
    "    \"\"\"\n",
    "    # build url\n",
    "    url = f'https://api.openweathermap.org/data/3.0/onecall?lat={lat}&lon={lon}&appid={api_key}&units={units}'\n",
    "\n",
    "    # get url response as a string\n",
    "    url_text = requests.get(url).text\n",
    "\n",
    "    # convert from json to a nested dict\n",
    "    weather_dict = json.loads(url_text)\n",
    "\n",
    "    # build dataframe from nested dict\n",
    "    df_hourly = pd.DataFrame()\n",
    "    for hour_dict in weather_dict['hourly']:\n",
    "        # we add a 'datetime' feature from the unix time (easier to use)\n",
    "        hour_dict['datetime'] = datetime.fromtimestamp(hour_dict['dt'])\n",
    "\n",
    "        # build a single row of dataframe (weather prediction for some hour)\n",
    "        s_hour = pd.Series(hour_dict)\n",
    "\n",
    "        # collect forecasts in a dataframe\n",
    "        df_hourly = df_hourly.append(s_hour, ignore_index=True)\n",
    "\n",
    "    return df_hourly"
   ]
  }
 ],
 "metadata": {
  "kernelspec": {
   "display_name": "Python 3 (ipykernel)",
   "language": "python",
   "name": "python3"
  },
  "language_info": {
   "codemirror_mode": {
    "name": "ipython",
    "version": 3
   },
   "file_extension": ".py",
   "mimetype": "text/x-python",
   "name": "python",
   "nbconvert_exporter": "python",
   "pygments_lexer": "ipython3",
   "version": "3.11.9"
  }
 },
 "nbformat": 4,
 "nbformat_minor": 5
}
