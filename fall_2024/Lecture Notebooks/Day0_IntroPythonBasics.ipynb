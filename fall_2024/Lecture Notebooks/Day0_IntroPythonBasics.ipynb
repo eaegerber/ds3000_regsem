{
 "cells": [
  {
   "cell_type": "markdown",
   "id": "39e41d4a",
   "metadata": {
    "id": "39e41d4a"
   },
   "source": [
    "# DS3000 Day 0\n",
    "## Class Introduction\n",
    "September 4/5, 2024\n",
    "\n",
    "Content:\n",
    "- Motivating Clear Communication in DS\n",
    "- Admin/Syllabus Review\n",
    "- Data Collection/Getting to Know You\n",
    "- Python Basics\n",
    "    - Some of this will be review from the Pre-Course Notebook (see Canvas)\n",
    "        - Iteration\n",
    "        - Function\n",
    "        - Assert\n",
    "        - Import\n",
    "    \n",
    "### Assignment Due Dates:\n",
    "* Getting to Know You (Sept. 9 via Gradescope)\n",
    "* Homework 1 (Sept. 17 via Gradescope)"
   ]
  },
  {
   "cell_type": "markdown",
   "id": "a9719af0",
   "metadata": {
    "id": "a9719af0"
   },
   "source": [
    "# Motivating Clear Communication in DS\n",
    "\n",
    "Write down a few sentences describing how you think you could build an algorithm to recommend songs to a user. Assume you have access to any data you think would be useful. Then, read this explanation to your neighbor.\n",
    "\n",
    "Neighbors: pretend you know nothing about computer science, statistics, or data science and try to count how many words someone like that would not understand. Think if you were the owner of a company like Spotify, but didn't have a CS/DS background, would you be convinced to let your neighbor work on their algorithm for you?"
   ]
  },
  {
   "cell_type": "markdown",
   "id": "de40d44c",
   "metadata": {
    "id": "de40d44c"
   },
   "source": [
    "# Admin/Syllabus\n",
    "\n",
    "Take a look at the course Canvas page ([link](https://northeastern.instructure.com/courses/188148)) together.\n",
    "\n",
    "Be sure to mention:\n",
    "- Labs are due @ the end of each class day (by 11:59 pm) we have them\n",
    "- First homework has been assigned, and is due Sept. 17\n",
    "    - Note remaining homeworks are given lots of time, but will generally be longer with several open-ended/mini-project-like questions\n",
    "- There are two exams: one take-home coding which you will have ~5 days to complete, and one in-class math exam.\n",
    "- Sometime in the next two weeks, be sure to stop by either the TAs virtual or professor's in-person office hours\n",
    "- I will update you on visitors; I have a committment from an alumn who is currently working for a baseball team, and have some connections in local industry as well.\n",
    "    "
   ]
  },
  {
   "cell_type": "markdown",
   "id": "07643c1e",
   "metadata": {
    "id": "07643c1e"
   },
   "source": [
    "# An Example of Data Collection/Getting to Know You\n",
    "\n",
    "Please fill out this [Google Form](https://forms.gle/8YTdRkz2bReB7h6R7) (the link is also on Canvas) as a way of providing me some information about yourself (and to provide us with a data set we can use for some examples going forward!).\n",
    "\n",
    "**Notes**\n",
    "\n",
    "- when we use the data set later, all names/identifiers will be removed, but if you are uncomfortable providing any of the information, you may leave your response blank.\n",
    "- this will count as the in-class assignment for today (similar things will occur randomly throughout the semester as a way of taking \"attendance\")\n"
   ]
  },
  {
   "cell_type": "markdown",
   "id": "2189d9db",
   "metadata": {
    "id": "2189d9db"
   },
   "source": [
    "## Important Python Basics\n",
    "The course description for this class states that it [\"assumes familiarity with Python\"](https://catalog.northeastern.edu/course-descriptions/ds/). Some of the following will be similar in content to the [Pre-Course Notebook](https://northeastern.instructure.com/courses/188148/modules/items/10720603) which contains a summary of the basic python tools you should know in starting this course. If you have not seen python before, you **must** work through this notebook before the next class. The first homework is quite similar in content as well, and serves to get everyone on the same page.\n",
    "\n",
    "**Please** don't hesitate to stop and ask questions as we go through the basics.\n",
    "\n",
    "The most important, first thing to understand about python (as with many other languages) is that everything is an object with a type:"
   ]
  },
  {
   "cell_type": "code",
   "execution_count": 1,
   "id": "cc0e9351-1ac6-4950-93f2-18c29ab91c50",
   "metadata": {
    "id": "cc0e9351-1ac6-4950-93f2-18c29ab91c50"
   },
   "outputs": [],
   "source": [
    "# x is an integer\n",
    "x = 3"
   ]
  },
  {
   "cell_type": "code",
   "execution_count": 2,
   "id": "ef34d2e2-70ac-4b7d-b7b0-2739ce4eb654",
   "metadata": {
    "id": "ef34d2e2-70ac-4b7d-b7b0-2739ce4eb654"
   },
   "outputs": [],
   "source": [
    "#x is a float\n",
    "x = 1.4"
   ]
  },
  {
   "cell_type": "code",
   "execution_count": 3,
   "id": "a7beb05e-0e2d-45b9-956f-47711f985c1a",
   "metadata": {
    "id": "a7beb05e-0e2d-45b9-956f-47711f985c1a"
   },
   "outputs": [],
   "source": [
    "#x is a boolean\n",
    "x = (2 > 3)"
   ]
  },
  {
   "cell_type": "code",
   "execution_count": 4,
   "id": "21c3cb6e-d34b-47c8-b216-253aa5563845",
   "metadata": {
    "id": "21c3cb6e-d34b-47c8-b216-253aa5563845"
   },
   "outputs": [],
   "source": [
    "#x is a string\n",
    "x = 'a string'"
   ]
  },
  {
   "cell_type": "code",
   "execution_count": 5,
   "id": "db579e5d-1180-42ea-b73e-80b601f97cbb",
   "metadata": {
    "id": "db579e5d-1180-42ea-b73e-80b601f97cbb",
    "outputId": "4510d828-5382-4adc-b116-24f45a15a29d"
   },
   "outputs": [
    {
     "data": {
      "text/plain": [
       "'a string'"
      ]
     },
     "execution_count": 5,
     "metadata": {},
     "output_type": "execute_result"
    }
   ],
   "source": [
    "x"
   ]
  },
  {
   "cell_type": "code",
   "execution_count": 6,
   "id": "6a2560f0-b39a-409d-b06a-842fe4ab4673",
   "metadata": {
    "id": "6a2560f0-b39a-409d-b06a-842fe4ab4673",
    "outputId": "0f7001f4-3bd3-458d-cb71-0d3a80c7a0c3"
   },
   "outputs": [
    {
     "data": {
      "text/plain": [
       "str"
      ]
     },
     "execution_count": 6,
     "metadata": {},
     "output_type": "execute_result"
    }
   ],
   "source": [
    "type(x)"
   ]
  },
  {
   "cell_type": "code",
   "execution_count": 7,
   "id": "71437dd0-67d1-4d2a-a24f-b4cee0c734fd",
   "metadata": {
    "id": "71437dd0-67d1-4d2a-a24f-b4cee0c734fd",
    "outputId": "2dc290b1-5c4a-4112-abe7-9fcd596294ec"
   },
   "outputs": [
    {
     "data": {
      "text/plain": [
       "[1, 2, 'three', 'blue']"
      ]
     },
     "execution_count": 7,
     "metadata": {},
     "output_type": "execute_result"
    }
   ],
   "source": [
    "#this is a list\n",
    "list_a = [1, 2, \"three\", \"blue\"]\n",
    "list_a"
   ]
  },
  {
   "cell_type": "code",
   "execution_count": 8,
   "id": "85b5b5dd-8547-4302-8d0b-bf945f744341",
   "metadata": {
    "id": "85b5b5dd-8547-4302-8d0b-bf945f744341",
    "outputId": "144d4e1a-63fb-4bc3-fb49-39aa07e7caaa"
   },
   "outputs": [
    {
     "data": {
      "text/plain": [
       "1"
      ]
     },
     "execution_count": 8,
     "metadata": {},
     "output_type": "execute_result"
    }
   ],
   "source": [
    "#you can extract things from the list with square bracket indexing\n",
    "list_a[0]"
   ]
  },
  {
   "cell_type": "code",
   "execution_count": 9,
   "id": "3803fad2-2309-4c63-ba97-c607ee210308",
   "metadata": {
    "id": "3803fad2-2309-4c63-ba97-c607ee210308",
    "outputId": "fc554ef2-dbaa-410d-8040-ea495ae56de5"
   },
   "outputs": [
    {
     "data": {
      "text/plain": [
       "'blue'"
      ]
     },
     "execution_count": 9,
     "metadata": {},
     "output_type": "execute_result"
    }
   ],
   "source": [
    "list_a[3]"
   ]
  },
  {
   "cell_type": "code",
   "execution_count": 10,
   "id": "e8086ff5-bc48-4da8-80b4-7181f7bc4c4f",
   "metadata": {
    "id": "e8086ff5-bc48-4da8-80b4-7181f7bc4c4f",
    "outputId": "35b9415a-8d8b-4c11-f541-50edf960bc35"
   },
   "outputs": [
    {
     "data": {
      "text/plain": [
       "[1, 2]"
      ]
     },
     "execution_count": 10,
     "metadata": {},
     "output_type": "execute_result"
    }
   ],
   "source": [
    "#using a colon will get you multiple items in a row, but be careful, the stop index stops BEFORE not ON!\n",
    "list_a[0:2]"
   ]
  },
  {
   "cell_type": "code",
   "execution_count": 11,
   "id": "ebbe8910-8870-4f0e-a47d-337d7574706d",
   "metadata": {
    "id": "ebbe8910-8870-4f0e-a47d-337d7574706d",
    "outputId": "4e378a55-3ca0-4adc-8a24-415e1a4b726f"
   },
   "outputs": [
    {
     "data": {
      "text/plain": [
       "(1, 2, 'three', 'red')"
      ]
     },
     "execution_count": 11,
     "metadata": {},
     "output_type": "execute_result"
    }
   ],
   "source": [
    "#this is a tuple\n",
    "tuple_a = (1, 2, \"three\", \"red\")\n",
    "tuple_a"
   ]
  },
  {
   "cell_type": "code",
   "execution_count": 12,
   "id": "a5902cd7-0325-4429-b3dc-81bc2f9e68c5",
   "metadata": {
    "id": "a5902cd7-0325-4429-b3dc-81bc2f9e68c5",
    "outputId": "351e3bef-c9c1-437d-8d4d-33dc1932691c"
   },
   "outputs": [
    {
     "data": {
      "text/plain": [
       "2"
      ]
     },
     "execution_count": 12,
     "metadata": {},
     "output_type": "execute_result"
    }
   ],
   "source": [
    "#they work mostly the same as lists\n",
    "tuple_a[1]"
   ]
  },
  {
   "cell_type": "code",
   "execution_count": 13,
   "id": "7c3a9991-21bf-4f51-9168-6823dc7b0901",
   "metadata": {
    "id": "7c3a9991-21bf-4f51-9168-6823dc7b0901",
    "outputId": "af0c135c-f027-420b-8f4c-372ce43d828a"
   },
   "outputs": [
    {
     "data": {
      "text/plain": [
       "[1, 2, 42, 'blue']"
      ]
     },
     "execution_count": 13,
     "metadata": {},
     "output_type": "execute_result"
    }
   ],
   "source": [
    "#except lists are mutable (you can change them)\n",
    "list_a[2] = 42\n",
    "list_a"
   ]
  },
  {
   "cell_type": "code",
   "execution_count": 15,
   "id": "a6eab1fd-0a29-49b7-894a-fc067ef910bd",
   "metadata": {
    "id": "a6eab1fd-0a29-49b7-894a-fc067ef910bd"
   },
   "outputs": [],
   "source": [
    "#and tuples aren't\n",
    "#tuple_a[2] = \"what?\"\n",
    "#tuple_a"
   ]
  },
  {
   "cell_type": "code",
   "execution_count": 16,
   "id": "34e81add-74de-40ea-94cc-f27b7d17acb1",
   "metadata": {
    "id": "34e81add-74de-40ea-94cc-f27b7d17acb1",
    "outputId": "0dc55647-3bc9-442b-c03b-bdfc36adeaef"
   },
   "outputs": [
    {
     "data": {
      "text/plain": [
       "{'first': 1, 'second': 2, 'third': 'three', 'fourth': True}"
      ]
     },
     "execution_count": 16,
     "metadata": {},
     "output_type": "execute_result"
    }
   ],
   "source": [
    "#this is a dictionary\n",
    "dict_a = {'first': 1, 'second': 2, 'third': \"three\", 'fourth': True}\n",
    "dict_a"
   ]
  },
  {
   "cell_type": "code",
   "execution_count": 17,
   "id": "eb642a23-fdb0-465d-b48c-68dcfadd89ec",
   "metadata": {
    "id": "eb642a23-fdb0-465d-b48c-68dcfadd89ec",
    "outputId": "89997568-9acd-44bd-98db-a6598aadc190"
   },
   "outputs": [
    {
     "data": {
      "text/plain": [
       "2"
      ]
     },
     "execution_count": 17,
     "metadata": {},
     "output_type": "execute_result"
    }
   ],
   "source": [
    "#also similar to a list, except each element has a name (a 'key')\n",
    "dict_a['second']"
   ]
  },
  {
   "cell_type": "code",
   "execution_count": 18,
   "id": "e624c09a-442c-48b2-9e00-c5f6ed8a8007",
   "metadata": {
    "id": "e624c09a-442c-48b2-9e00-c5f6ed8a8007",
    "outputId": "daa275dc-3f2f-4b47-eedd-1bb9dedbc0dc"
   },
   "outputs": [
    {
     "data": {
      "text/plain": [
       "{'first': 1, 'second': 2, 'third': 77, 'fourth': True}"
      ]
     },
     "execution_count": 18,
     "metadata": {},
     "output_type": "execute_result"
    }
   ],
   "source": [
    "#it's mutable too!\n",
    "dict_a['third'] = 77\n",
    "dict_a"
   ]
  },
  {
   "cell_type": "code",
   "execution_count": 19,
   "id": "19e5bf5f-515c-4028-8292-6065ce11bed3",
   "metadata": {
    "id": "19e5bf5f-515c-4028-8292-6065ce11bed3",
    "outputId": "e81abe0f-02c4-4df8-a20a-386a64a3a7f6"
   },
   "outputs": [
    {
     "data": {
      "text/plain": [
       "['another', 'list', 'that', 'includes', [1, 2, 42, 'blue']]"
      ]
     },
     "execution_count": 19,
     "metadata": {},
     "output_type": "execute_result"
    }
   ],
   "source": [
    "#all three of lists, tuples and dictionaries can have any objects as elements (values)\n",
    "list_b = [\"another\", \"list\", \"that\", \"includes\", list_a]\n",
    "list_b"
   ]
  },
  {
   "cell_type": "code",
   "execution_count": 20,
   "id": "309993a5-b1a6-4b88-8a37-c7cf49867c6f",
   "metadata": {
    "id": "309993a5-b1a6-4b88-8a37-c7cf49867c6f",
    "outputId": "32d13f0d-e429-4641-815b-a8aa7e16c8e1"
   },
   "outputs": [
    {
     "data": {
      "text/plain": [
       "('yet', 'again', 'but', 'with', (1, 2, 'three', 'red'))"
      ]
     },
     "execution_count": 20,
     "metadata": {},
     "output_type": "execute_result"
    }
   ],
   "source": [
    "tuple_b = (\"yet\", \"again\", \"but\", \"with\", tuple_a)\n",
    "tuple_b"
   ]
  },
  {
   "cell_type": "code",
   "execution_count": 21,
   "id": "7d879023-8983-4346-bf32-6d07e4df878e",
   "metadata": {
    "id": "7d879023-8983-4346-bf32-6d07e4df878e",
    "outputId": "89ef0340-469c-46f0-b15d-b94f25651e52"
   },
   "outputs": [
    {
     "data": {
      "text/plain": [
       "{'a list': [1, 2, 42, 'blue'],\n",
       " 'a tuple': (1, 2, 'three', 'red'),\n",
       " 'a dict': {'first': 1, 'second': 2, 'third': 77, 'fourth': True}}"
      ]
     },
     "execution_count": 21,
     "metadata": {},
     "output_type": "execute_result"
    }
   ],
   "source": [
    "dict_b = {'a list': list_a, \"a tuple\": tuple_a, \"a dict\": dict_a}\n",
    "dict_b"
   ]
  },
  {
   "cell_type": "markdown",
   "id": "474af87c",
   "metadata": {
    "id": "474af87c"
   },
   "source": [
    "# Some useful tools:\n",
    "## `+= 1`\n",
    "\n",
    "Useful for iteration; let's you update numbers!"
   ]
  },
  {
   "cell_type": "code",
   "execution_count": 22,
   "id": "9daf9083",
   "metadata": {
    "id": "9daf9083",
    "outputId": "785490c3-c784-4fab-dfeb-5ba49d6dadb2"
   },
   "outputs": [
    {
     "data": {
      "text/plain": [
       "11"
      ]
     },
     "execution_count": 22,
     "metadata": {},
     "output_type": "execute_result"
    }
   ],
   "source": [
    "# this code:\n",
    "y = 10\n",
    "y = y + 1\n",
    "y"
   ]
  },
  {
   "cell_type": "code",
   "execution_count": 23,
   "id": "21fd3b90",
   "metadata": {
    "id": "21fd3b90",
    "outputId": "39dbc1f7-1937-4091-b544-ddc3df0b0d3a"
   },
   "outputs": [
    {
     "data": {
      "text/plain": [
       "11"
      ]
     },
     "execution_count": 23,
     "metadata": {},
     "output_type": "execute_result"
    }
   ],
   "source": [
    "# is the same as this code:\n",
    "y = 10\n",
    "y += 1\n",
    "y"
   ]
  },
  {
   "cell_type": "markdown",
   "id": "c0904aa6",
   "metadata": {
    "id": "c0904aa6"
   },
   "source": [
    "## Range"
   ]
  },
  {
   "cell_type": "code",
   "execution_count": 24,
   "id": "4d7e495e",
   "metadata": {
    "id": "4d7e495e",
    "outputId": "4e0ecbb8-fcf0-4fcd-b2c4-61e068980bc5"
   },
   "outputs": [
    {
     "data": {
      "text/plain": [
       "range(0, 10)"
      ]
     },
     "execution_count": 24,
     "metadata": {},
     "output_type": "execute_result"
    }
   ],
   "source": [
    "# range counts sequential values (0, 1, 2, 3, ...)\n",
    "# notice: calling range() provides us a range object\n",
    "range(10)"
   ]
  },
  {
   "cell_type": "code",
   "execution_count": 25,
   "id": "a5cfb63b",
   "metadata": {
    "id": "a5cfb63b",
    "outputId": "21358d4b-f613-4dd7-cf4a-054ea1d230bf"
   },
   "outputs": [
    {
     "data": {
      "text/plain": [
       "[0, 1, 2, 3, 4, 5, 6, 7, 8, 9]"
      ]
     },
     "execution_count": 25,
     "metadata": {},
     "output_type": "execute_result"
    }
   ],
   "source": [
    "# to see whats inside that range, we may type-cast to a list:\n",
    "list(range(10))"
   ]
  },
  {
   "cell_type": "code",
   "execution_count": 26,
   "id": "f27ac2ef",
   "metadata": {
    "id": "f27ac2ef",
    "outputId": "b7992e22-d8d6-49af-85c0-75c062b9becb"
   },
   "outputs": [
    {
     "data": {
      "text/plain": [
       "[1, 3, 5, 7, 9]"
      ]
     },
     "execution_count": 26,
     "metadata": {},
     "output_type": "execute_result"
    }
   ],
   "source": [
    "# range(start_idx, stop_idx, step_size)\n",
    "# notice: we include start_idx but not stop_idx (i.e. if you want the 10th element, you need to go to 11, like before)\n",
    "list(range(1, 11, 2))"
   ]
  },
  {
   "cell_type": "code",
   "execution_count": 27,
   "id": "eaf96f03",
   "metadata": {
    "id": "eaf96f03",
    "outputId": "81586c9e-34f5-4192-f94b-afd60121f103"
   },
   "outputs": [
    {
     "data": {
      "text/plain": [
       "[1, 3, 5, 7, 9]"
      ]
     },
     "execution_count": 27,
     "metadata": {},
     "output_type": "execute_result"
    }
   ],
   "source": [
    "#indexing (using square brackets) to get the same thing works a bit differently\n",
    "list(range(1,11))[0:11:2]"
   ]
  },
  {
   "cell_type": "markdown",
   "id": "0b17a24f",
   "metadata": {
    "id": "0b17a24f"
   },
   "source": [
    "## Iteration: For Loops\n",
    "For loops run the same block of code multiple times, allowing us to avoid copy-pasting code.\n"
   ]
  },
  {
   "cell_type": "code",
   "execution_count": 28,
   "id": "9f408f12",
   "metadata": {
    "id": "9f408f12",
    "outputId": "d53e3780-96c6-450e-d2e1-b0d8d57e5f0e"
   },
   "outputs": [
    {
     "name": "stdout",
     "output_type": "stream",
     "text": [
      "0\n",
      "1\n",
      "4\n",
      "9\n",
      "16\n"
     ]
    }
   ],
   "source": [
    "# verbose code which prints square of first n integers\n",
    "print(0**2)\n",
    "print(1**2)\n",
    "print(2**2)\n",
    "print(3**2)\n",
    "print(4**2)"
   ]
  },
  {
   "cell_type": "code",
   "execution_count": 29,
   "id": "1911df3a",
   "metadata": {
    "id": "1911df3a",
    "outputId": "750d054a-07d2-456e-aab4-5bd0bc2df96c"
   },
   "outputs": [
    {
     "name": "stdout",
     "output_type": "stream",
     "text": [
      "start of loop body where idx= 0\n",
      "0\n",
      "start of loop body where idx= 1\n",
      "1\n",
      "start of loop body where idx= 2\n",
      "4\n",
      "start of loop body where idx= 3\n",
      "9\n",
      "start of loop body where idx= 4\n",
      "16\n",
      "end of loop\n"
     ]
    }
   ],
   "source": [
    "# using a for loop\n",
    "for idx in range(5):\n",
    "    # this whole loop body\n",
    "    print('start of loop body where idx= ' + str(idx))\n",
    "    print(idx ** 2)\n",
    "\n",
    "print('end of loop')\n"
   ]
  },
  {
   "cell_type": "code",
   "execution_count": 30,
   "id": "e5b9cb32",
   "metadata": {
    "id": "e5b9cb32",
    "outputId": "217b07ac-4a6b-405f-d424-f3c8ed7c32f6"
   },
   "outputs": [
    {
     "name": "stdout",
     "output_type": "stream",
     "text": [
      "BEGIN OUTER LOOP BODY: the quick brown fox jumps over the lazy dog\n",
      "BEGIN INNER LOOP BODY: a\n",
      "the quick brown fox jumps over the l!zy dog\n",
      "\n",
      "BEGIN INNER LOOP BODY: e\n",
      "th! quick brown fox jumps ov!r th! lazy dog\n",
      "\n",
      "BEGIN INNER LOOP BODY: i\n",
      "the qu!ck brown fox jumps over the lazy dog\n",
      "\n",
      "BEGIN INNER LOOP BODY: o\n",
      "the quick br!wn f!x jumps !ver the lazy d!g\n",
      "\n",
      "BEGIN INNER LOOP BODY: u\n",
      "the q!ick brown fox j!mps over the lazy dog\n",
      "\n",
      "BEGIN OUTER LOOP BODY: sixty zippers were quickly picked from the woven jute bag\n",
      "BEGIN INNER LOOP BODY: a\n",
      "sixty zippers were quickly picked from the woven jute b!g\n",
      "\n",
      "BEGIN INNER LOOP BODY: e\n",
      "sixty zipp!rs w!r! quickly pick!d from th! wov!n jut! bag\n",
      "\n",
      "BEGIN INNER LOOP BODY: i\n",
      "s!xty z!ppers were qu!ckly p!cked from the woven jute bag\n",
      "\n",
      "BEGIN INNER LOOP BODY: o\n",
      "sixty zippers were quickly picked fr!m the w!ven jute bag\n",
      "\n",
      "BEGIN INNER LOOP BODY: u\n",
      "sixty zippers were q!ickly picked from the woven j!te bag\n",
      "\n"
     ]
    }
   ],
   "source": [
    "# nested loop\n",
    "for str_words in ['the quick brown fox jumps over the lazy dog',\n",
    "                  'sixty zippers were quickly picked from the woven jute bag']:\n",
    "    print('BEGIN OUTER LOOP BODY: ' + str_words)\n",
    "\n",
    "    for vowel in 'aeiou':\n",
    "        print('BEGIN INNER LOOP BODY: ' + vowel)\n",
    "\n",
    "        # replace all occurances of vowel with '!'\n",
    "        print(str_words.replace(vowel, '!'))\n",
    "\n",
    "        # prints a blank line between each run\n",
    "        print('')\n",
    "\n"
   ]
  },
  {
   "cell_type": "markdown",
   "id": "3f68a934",
   "metadata": {
    "id": "3f68a934"
   },
   "source": [
    "### iterating through a list (or a tuple):\n",
    "We often want to operate on all the items in some collection of items (list, tuple, strings, dictionaries, etc.):"
   ]
  },
  {
   "cell_type": "code",
   "execution_count": 31,
   "id": "91ac9847",
   "metadata": {
    "id": "91ac9847",
    "outputId": "b167762c-920a-4b44-d7ae-31d72fd82fcc"
   },
   "outputs": [
    {
     "data": {
      "text/plain": [
       "[16, 64, 4, 36]"
      ]
     },
     "execution_count": 31,
     "metadata": {},
     "output_type": "execute_result"
    }
   ],
   "source": [
    "# iterate through the list and square everything, saving to a new list\n",
    "# the numbers we want to square\n",
    "some_list = [4,8,-2,6]\n",
    "# an empty list to put the squared values in\n",
    "another_list = list()\n",
    "\n",
    "#the for loop that does it\n",
    "for item in some_list:\n",
    "    another_list.append(item ** 2)\n",
    "\n",
    "another_list"
   ]
  },
  {
   "cell_type": "code",
   "execution_count": 32,
   "id": "4761ce74",
   "metadata": {
    "id": "4761ce74",
    "outputId": "e3548721-348d-489b-8f16-cc34a3688201"
   },
   "outputs": [
    {
     "name": "stdout",
     "output_type": "stream",
     "text": [
      "the letter a is a vowel.\n",
      "the letter e is a vowel.\n",
      "the letter i is a vowel.\n",
      "the letter o is a vowel.\n",
      "the letter u is a vowel.\n"
     ]
    }
   ],
   "source": [
    "# you can iterate on strings too\n",
    "for vowel in 'aeiou':\n",
    "    print('the letter ' + vowel + ' is a vowel.')"
   ]
  },
  {
   "cell_type": "code",
   "execution_count": 33,
   "id": "f5128439",
   "metadata": {
    "id": "f5128439",
    "outputId": "28a0d202-84ea-471c-8e32-9de11a1068b7"
   },
   "outputs": [
    {
     "name": "stdout",
     "output_type": "stream",
     "text": [
      "0 4\n",
      "1 8\n",
      "2 -2\n",
      "3 6\n"
     ]
    }
   ],
   "source": [
    "# if you need an index too, use enumerate\n",
    "for idx, item in enumerate(some_list):\n",
    "    print(idx, item)"
   ]
  },
  {
   "cell_type": "code",
   "execution_count": 34,
   "id": "5c822422",
   "metadata": {
    "id": "5c822422",
    "outputId": "1750fbb1-4cb0-45d7-97d7-c0abd15b13ee"
   },
   "outputs": [
    {
     "data": {
      "text/plain": [
       "[(0, 4), (1, 8), (2, -2), (3, 6)]"
      ]
     },
     "execution_count": 34,
     "metadata": {},
     "output_type": "execute_result"
    }
   ],
   "source": [
    "list(enumerate(some_list))"
   ]
  },
  {
   "cell_type": "markdown",
   "id": "c76cc69c",
   "metadata": {
    "id": "c76cc69c"
   },
   "source": [
    "## iterating through a dict\n",
    "- keys\n",
    "- values\n",
    "- items (and tuple unpacking)"
   ]
  },
  {
   "cell_type": "code",
   "execution_count": 35,
   "id": "e012c106",
   "metadata": {
    "id": "e012c106",
    "outputId": "517aa05c-6226-475d-a30d-f6bdb6610ec8"
   },
   "outputs": [
    {
     "name": "stdout",
     "output_type": "stream",
     "text": [
      "eric\n",
      "qi\n",
      "lynne\n"
     ]
    }
   ],
   "source": [
    "some_dict = {'eric': 17, 'qi': 7, 'lynne':1}\n",
    "for key in some_dict.keys():\n",
    "    print(key)"
   ]
  },
  {
   "cell_type": "code",
   "execution_count": 36,
   "id": "dc7768a4",
   "metadata": {
    "id": "dc7768a4",
    "outputId": "9b612dde-450e-4d7d-ef76-e2d9223415cd"
   },
   "outputs": [
    {
     "name": "stdout",
     "output_type": "stream",
     "text": [
      "17\n",
      "7\n",
      "1\n"
     ]
    }
   ],
   "source": [
    "for val in some_dict.values():\n",
    "    print(val)"
   ]
  },
  {
   "cell_type": "code",
   "execution_count": 37,
   "id": "6be153dc",
   "metadata": {
    "id": "6be153dc",
    "outputId": "f9269834-8192-4d25-97b0-ca3cfd8d632e"
   },
   "outputs": [
    {
     "name": "stdout",
     "output_type": "stream",
     "text": [
      "eric 17\n",
      "qi 7\n",
      "lynne 1\n"
     ]
    }
   ],
   "source": [
    "for key, val in some_dict.items():\n",
    "    print(key, val)"
   ]
  },
  {
   "cell_type": "markdown",
   "id": "db2fc422",
   "metadata": {
    "id": "db2fc422"
   },
   "source": [
    "## Functions in a bit more detail + practice time\n",
    "\n",
    "* defining and calling functions\n",
    "* functions with multiple inputs\n",
    "* functions with multiple outputs (tuple unpacking to the rescue!)\n",
    "* assertion"
   ]
  },
  {
   "cell_type": "code",
   "execution_count": 38,
   "id": "afe8ee45",
   "metadata": {
    "id": "afe8ee45",
    "outputId": "bf4a9cc6-d0c0-4c79-8c46-ce5d7d9bdd4f"
   },
   "outputs": [
    {
     "data": {
      "text/plain": [
       "9"
      ]
     },
     "execution_count": 38,
     "metadata": {},
     "output_type": "execute_result"
    }
   ],
   "source": [
    "def square(number):\n",
    "    \"\"\" squares a number\n",
    "\n",
    "    Args:\n",
    "        number (float): input number\n",
    "\n",
    "    Returns:\n",
    "        sq (float): square of input\n",
    "    \"\"\"\n",
    "    sq = number ** 2\n",
    "    return sq\n",
    "\n",
    "square(3)"
   ]
  },
  {
   "cell_type": "markdown",
   "id": "355bf36b",
   "metadata": {
    "id": "355bf36b"
   },
   "source": [
    "* Definition begins with the **`def` keyword**, followed by the function name, a set of parentheses and a colon (`:`).\n",
    ">```python\n",
    "def square(number):\n",
    "\n",
    "* By convention function names should begin with a lowercase letter and in multiword names underscores should separate each word.\n",
    "* Required parentheses contain the function’s **parameter list**, if any.\n",
    "* The indented lines after the colon (`:`) are the function’s **block**\n",
    "    * Consists of a docstring followed by the statements that perform the function’s task.\n",
    "\n",
    "> ```python\n",
    "> \"\"\" squares a number\n",
    ">\n",
    "> Args:\n",
    ">     number (float): input number\n",
    ">\n",
    "> Returns:\n",
    ">     sq (float): square of input\n",
    "> \"\"\"\n",
    "> ```"
   ]
  },
  {
   "cell_type": "markdown",
   "id": "d4acc42b",
   "metadata": {
    "id": "d4acc42b"
   },
   "source": [
    "### Multiple Inputs to Fnc\n",
    "- passing by order\n",
    "- passing by keyword\n",
    "- default inputs\n",
    "- passing by order & keyword"
   ]
  },
  {
   "cell_type": "code",
   "execution_count": 39,
   "id": "b9af7635",
   "metadata": {
    "id": "b9af7635"
   },
   "outputs": [],
   "source": [
    "#notice that when I write a function, the docstring provides all the information about what it does, the arguments it takes, and the value it returns!\n",
    "#you should always provide a docstring (you may see them in slightly different formats; any is fine as long as the information contained is the same)\n",
    "def raise_to_power(a, b=2):\n",
    "    \"\"\" compute a to the b power\n",
    "\n",
    "    Args:\n",
    "        a (float): base\n",
    "        b (float): exponent\n",
    "\n",
    "    Returns:\n",
    "        out (float): a to the b-th power\n",
    "    \"\"\"\n",
    "    return a ** b"
   ]
  },
  {
   "cell_type": "code",
   "execution_count": 40,
   "id": "4abe9fed",
   "metadata": {
    "id": "4abe9fed",
    "outputId": "da83a71f-011b-497d-ff86-6690dc4820c2"
   },
   "outputs": [
    {
     "data": {
      "text/plain": [
       "64"
      ]
     },
     "execution_count": 40,
     "metadata": {},
     "output_type": "execute_result"
    }
   ],
   "source": [
    "# notice: the arguments (inputs) are distinguished by the order they're passed in\n",
    "raise_to_power(4, 3)"
   ]
  },
  {
   "cell_type": "code",
   "execution_count": 41,
   "id": "a0a1445c",
   "metadata": {
    "id": "a0a1445c",
    "outputId": "2c686c69-4093-4850-d01b-1328cbde2027"
   },
   "outputs": [
    {
     "data": {
      "text/plain": [
       "64"
      ]
     },
     "execution_count": 41,
     "metadata": {},
     "output_type": "execute_result"
    }
   ],
   "source": [
    "# passing arguments by keyword\n",
    "raise_to_power(a=4, b=3)"
   ]
  },
  {
   "cell_type": "code",
   "execution_count": 42,
   "id": "b42663f4",
   "metadata": {
    "id": "b42663f4",
    "outputId": "28480484-f1fa-44e9-8025-85b983399e8c"
   },
   "outputs": [
    {
     "data": {
      "text/plain": [
       "64"
      ]
     },
     "execution_count": 42,
     "metadata": {},
     "output_type": "execute_result"
    }
   ],
   "source": [
    "raise_to_power(b=3, a=4)"
   ]
  },
  {
   "cell_type": "code",
   "execution_count": 43,
   "id": "4c394c42",
   "metadata": {
    "id": "4c394c42",
    "outputId": "bc18dac8-179c-41df-dcc5-1bdc55a60c91"
   },
   "outputs": [
    {
     "data": {
      "text/plain": [
       "4"
      ]
     },
     "execution_count": 43,
     "metadata": {},
     "output_type": "execute_result"
    }
   ],
   "source": [
    "# using default param\n",
    "raise_to_power(a=2)"
   ]
  },
  {
   "cell_type": "markdown",
   "id": "24c0a3d6",
   "metadata": {
    "id": "24c0a3d6"
   },
   "source": [
    "### Multiple Outputs From Fnc\n",
    "- tuple unpacking (among other things) allows for multiple outputs"
   ]
  },
  {
   "cell_type": "code",
   "execution_count": 44,
   "id": "869ae559",
   "metadata": {
    "id": "869ae559",
    "outputId": "de7f53a0-ce68-4f5b-db22-d769c008ca9c"
   },
   "outputs": [
    {
     "data": {
      "text/plain": [
       "3.141592653589793"
      ]
     },
     "execution_count": 44,
     "metadata": {},
     "output_type": "execute_result"
    }
   ],
   "source": [
    "# load the math module so that we can use pi\n",
    "import math\n",
    "pi = math.pi\n",
    "pi"
   ]
  },
  {
   "cell_type": "code",
   "execution_count": 45,
   "id": "0dba82a8",
   "metadata": {
    "id": "0dba82a8",
    "outputId": "91b91b7a-b3e6-475a-fd9e-d89e1d2817e9"
   },
   "outputs": [
    {
     "data": {
      "text/plain": [
       "3.141592653589793"
      ]
     },
     "execution_count": 45,
     "metadata": {},
     "output_type": "execute_result"
    }
   ],
   "source": [
    "# tuple unpacking: break a tuple into its component variables\n",
    "some_tuple = ('a', 1, pi)\n",
    "item0, item1, item2 = some_tuple\n",
    "item2"
   ]
  },
  {
   "cell_type": "code",
   "execution_count": 46,
   "id": "cd3f9fe5",
   "metadata": {
    "id": "cd3f9fe5"
   },
   "outputs": [],
   "source": [
    "def get_multiple(x):\n",
    "    \"\"\" computes first few multiples of x\n",
    "\n",
    "    Args:\n",
    "        x (float): input number\n",
    "\n",
    "    Returns:\n",
    "        mult1 (float): x\n",
    "        mult2 (float): 2x\n",
    "        mult3 (float): 3x\n",
    "    \"\"\"\n",
    "    mult1 = x\n",
    "    mult2 = x * 2\n",
    "    mult3 = x * 3\n",
    "\n",
    "    return mult1, mult2, mult3"
   ]
  },
  {
   "cell_type": "code",
   "execution_count": 47,
   "id": "14cffe9d",
   "metadata": {
    "id": "14cffe9d"
   },
   "outputs": [],
   "source": [
    "# supports returning multiple values\n",
    "mult1, mult2, mult3 = get_multiple(3)"
   ]
  },
  {
   "cell_type": "code",
   "execution_count": 48,
   "id": "64b20af6",
   "metadata": {
    "id": "64b20af6",
    "outputId": "6daf3a6e-f870-4d38-aedf-e64f20c76db1"
   },
   "outputs": [
    {
     "data": {
      "text/plain": [
       "(3, 6, 9)"
      ]
     },
     "execution_count": 48,
     "metadata": {},
     "output_type": "execute_result"
    }
   ],
   "source": [
    "# the output of the function is a tuple\n",
    "tuple_out = get_multiple(3)\n",
    "tuple_out"
   ]
  },
  {
   "cell_type": "code",
   "execution_count": 49,
   "id": "e3048423",
   "metadata": {
    "id": "e3048423",
    "outputId": "7d005292-4ec8-4029-815a-32687befcf45"
   },
   "outputs": [
    {
     "data": {
      "text/plain": [
       "9"
      ]
     },
     "execution_count": 49,
     "metadata": {},
     "output_type": "execute_result"
    }
   ],
   "source": [
    "# unpack tuple into component variables\n",
    "mult1, mult2, mult3 = tuple_out\n",
    "mult3"
   ]
  },
  {
   "cell_type": "markdown",
   "id": "c28873cf",
   "metadata": {
    "id": "c28873cf"
   },
   "source": [
    "## Assert (function behavior)\n",
    "\n",
    "We may want to check that the inputs to a function are appropriate."
   ]
  },
  {
   "cell_type": "code",
   "execution_count": 50,
   "id": "ee7f564c",
   "metadata": {
    "id": "ee7f564c"
   },
   "outputs": [],
   "source": [
    "def alpha_sort_list(list_in):\n",
    "    \"\"\" sorts a list, alphabetically (regardless of case)\n",
    "\n",
    "    Args:\n",
    "        list_in (list): list of strings\n",
    "\n",
    "    Return:\n",
    "        list_out (list): list of strings, alpha sorted\n",
    "    \"\"\"\n",
    "\n",
    "    return sorted(list_in)"
   ]
  },
  {
   "cell_type": "markdown",
   "id": "6e4f98d1",
   "metadata": {
    "id": "6e4f98d1"
   },
   "source": [
    "Does the function above work?  Seems to work on first glance ... to be sure lets build a little set of test cases and ensure it works as expected.\n",
    "\n",
    "A test case is a set of inputs and outputs to a function with our intended behavior."
   ]
  },
  {
   "cell_type": "code",
   "execution_count": 54,
   "id": "22320c19",
   "metadata": {
    "id": "22320c19"
   },
   "outputs": [
    {
     "ename": "AssertionError",
     "evalue": "How about this?",
     "output_type": "error",
     "traceback": [
      "\u001b[1;31m---------------------------------------------------------------------------\u001b[0m",
      "\u001b[1;31mAssertionError\u001b[0m                            Traceback (most recent call last)",
      "Cell \u001b[1;32mIn[54], line 2\u001b[0m\n\u001b[0;32m      1\u001b[0m \u001b[38;5;66;03m# assert alpha_sort_list(['Eliana', 'Callum', 'Bruno']) == ['Bruno', 'Callum', 'Eliana'], \"Does this work?\"\u001b[39;00m\n\u001b[1;32m----> 2\u001b[0m \u001b[38;5;28;01massert\u001b[39;00m alpha_sort_list([\u001b[38;5;124m'\u001b[39m\u001b[38;5;124mEliana\u001b[39m\u001b[38;5;124m'\u001b[39m, \u001b[38;5;124m'\u001b[39m\u001b[38;5;124mcallum\u001b[39m\u001b[38;5;124m'\u001b[39m, \u001b[38;5;124m'\u001b[39m\u001b[38;5;124mBruno\u001b[39m\u001b[38;5;124m'\u001b[39m]) \u001b[38;5;241m==\u001b[39m [\u001b[38;5;124m'\u001b[39m\u001b[38;5;124mBruno\u001b[39m\u001b[38;5;124m'\u001b[39m, \u001b[38;5;124m'\u001b[39m\u001b[38;5;124mcallum\u001b[39m\u001b[38;5;124m'\u001b[39m, \u001b[38;5;124m'\u001b[39m\u001b[38;5;124meliana\u001b[39m\u001b[38;5;124m'\u001b[39m], \u001b[38;5;124m\"\u001b[39m\u001b[38;5;124mHow about this?\u001b[39m\u001b[38;5;124m\"\u001b[39m\n",
      "\u001b[1;31mAssertionError\u001b[0m: How about this?"
     ]
    }
   ],
   "source": [
    "# assert alpha_sort_list(['Eliana', 'Callum', 'Bruno']) == ['Bruno', 'Callum', 'Eliana'], \"Does this work?\"\n",
    "# assert alpha_sort_list(['Eliana', 'callum', 'Bruno']) == ['Bruno', 'callum', 'eliana'], \"How about this?\""
   ]
  },
  {
   "cell_type": "code",
   "execution_count": 55,
   "id": "63897cab",
   "metadata": {
    "id": "63897cab"
   },
   "outputs": [],
   "source": [
    "def MYfunction(someInput, AnotherInput = 'high five'):\n",
    "    \"\"\" takes a person's name and different statements as an input and prints a sentence using them\n",
    "\n",
    "    Args:\n",
    "        someInput (string): name\n",
    "        AnotherInput (string): preferred greeting\n",
    "\n",
    "    Returns:\n",
    "        None; instead prints a statement\n",
    "    \"\"\"\n",
    "\n",
    "    if AnotherInput == 'high five':\n",
    "        print(f'I am sorry {someInput}, I am only a computer I cant high five')\n",
    "    else:\n",
    "        print(f'{AnotherInput} {someInput}!')"
   ]
  },
  {
   "cell_type": "code",
   "execution_count": 56,
   "id": "819b1264",
   "metadata": {
    "id": "819b1264",
    "outputId": "ee06df2e-e3e3-4d0c-8d49-f14b462e72e4"
   },
   "outputs": [
    {
     "name": "stdout",
     "output_type": "stream",
     "text": [
      "Wassup Eric!\n",
      "I am sorry Qi, I am only a computer I cant high five\n"
     ]
    }
   ],
   "source": [
    "MYfunction('Eric', 'Wassup')\n",
    "MYfunction('Qi', 'high five')\n",
    "\n",
    "# Can use input to let someone else do it!\n",
    "# name = input()\n",
    "# greeting = input()\n",
    "\n",
    "# MYfunction(name, greeting)"
   ]
  },
  {
   "cell_type": "markdown",
   "id": "fae596e7",
   "metadata": {
    "id": "fae596e7"
   },
   "source": [
    "# LECTURE BREAK/PRACTICE\n",
    "\n",
    "The Standard Creepiness Rule states that you shouldn't date anyone younger than $\\frac{Your Age}{2} + 7$:\n",
    "\n",
    "![dating](https://imgs.xkcd.com/comics/dating_pools.png)\n",
    "\n",
    "Spend 5-10 minutes writing a function that takes as input a person's age, and outputs the sentence: `\"You can date people at least {result} years old.\"` Where `{result}` is the result of calculating the lower bound of the SRC.\n",
    "\n",
    "Then, define a variable `neighbor_age = int(input())` and pass it to your function after your neighbor enters their age.\n",
    "\n",
    "**note**: we are using `int(input())` because by default `input()` takes only strings and we are going to be passing our function an integer. You could also do this within the function itself (as in my solution)."
   ]
  },
  {
   "cell_type": "code",
   "execution_count": 57,
   "id": "93ee06d4-3c0c-4861-a2a5-580e13d85bea",
   "metadata": {},
   "outputs": [],
   "source": [
    "#Solution is available on Canvas in Day0_BreakSolution\n"
   ]
  },
  {
   "cell_type": "markdown",
   "id": "709080d9",
   "metadata": {
    "id": "709080d9"
   },
   "source": [
    "## `import`-ing\n",
    "\n",
    "We can use software from [Python's standard library](https://docs.python.org/3/library/index.html) or anything on [pypi](https://pypi.org/) (e.g. pandas, numpy, scipy, matplotlib ....this is where folks share their python software) by `import`-ing it into our code. We already imported the math module earlier to be able to use $\\pi$.\n",
    "\n",
    "(If its on pypi you must install it via pip before use, everything in the standard library comes with Python itself).\n",
    "\n",
    "Lets build a random number generator:"
   ]
  },
  {
   "cell_type": "code",
   "execution_count": 58,
   "id": "d7e1ba8d",
   "metadata": {
    "id": "d7e1ba8d",
    "outputId": "2ea8b970-bd6f-471f-cb1f-0256ab12c8a0"
   },
   "outputs": [
    {
     "data": {
      "text/plain": [
       "['pick me']"
      ]
     },
     "execution_count": 58,
     "metadata": {},
     "output_type": "execute_result"
    }
   ],
   "source": [
    "# imports the whole library\n",
    "import random\n",
    "\n",
    "# you can access these functions as attributes of 'random'\n",
    "random.choices(['pick me', 'or me', 'maybe me?'])"
   ]
  },
  {
   "cell_type": "code",
   "execution_count": 59,
   "id": "b61f679f",
   "metadata": {
    "id": "b61f679f",
    "outputId": "565589fd-94e1-4a61-80b6-170c9a8eae61"
   },
   "outputs": [
    {
     "data": {
      "text/plain": [
       "['maybe me?']"
      ]
     },
     "execution_count": 59,
     "metadata": {},
     "output_type": "execute_result"
    }
   ],
   "source": [
    "# import just the function you'd like from the library\n",
    "from random import choices\n",
    "\n",
    "# importing as immediately above, you may only use the functions you've explicitly imported\n",
    "choices(['pick me', 'or me', 'maybe me?'])"
   ]
  },
  {
   "cell_type": "markdown",
   "id": "ffbb051f",
   "metadata": {
    "id": "ffbb051f"
   },
   "source": [
    "Veteran programming instinct: wondering (and checking) \"Does this function also do this other behavior?\"\n",
    "\n",
    "Go to the [official documentation](https://docs.python.org/3/library/random.html) and skim it to see what else you can do with a function."
   ]
  },
  {
   "cell_type": "code",
   "execution_count": 60,
   "id": "f950afd8",
   "metadata": {
    "id": "f950afd8",
    "outputId": "ee1f9a91-2da6-4ab4-fd08-50a5f8ec8911"
   },
   "outputs": [
    {
     "data": {
      "text/plain": [
       "['or me']"
      ]
     },
     "execution_count": 60,
     "metadata": {},
     "output_type": "execute_result"
    }
   ],
   "source": [
    "# we can add a weight parameter which changes how often one item is selected vs another\n",
    "# if weight of one item is twice the other, it will be picked twice as often\n",
    "choices(['pick me', 'or me', 'maybe me?'], weights=[1, 2, 3])"
   ]
  },
  {
   "cell_type": "code",
   "execution_count": 61,
   "id": "e058b43f",
   "metadata": {
    "id": "e058b43f",
    "outputId": "42df86f9-b4fe-404e-a34f-39469ecd512b"
   },
   "outputs": [
    {
     "data": {
      "text/plain": [
       "['or me',\n",
       " 'or me',\n",
       " 'maybe me?',\n",
       " 'or me',\n",
       " 'maybe me?',\n",
       " 'maybe me?',\n",
       " 'or me',\n",
       " 'maybe me?',\n",
       " 'maybe me?',\n",
       " 'maybe me?']"
      ]
     },
     "execution_count": 61,
     "metadata": {},
     "output_type": "execute_result"
    }
   ],
   "source": [
    "# or select multiple items by passing k argument\n",
    "choices(['pick me', 'or me', 'maybe me?'], k=10, weights=[1, 2, 3])"
   ]
  },
  {
   "cell_type": "code",
   "execution_count": null,
   "id": "330a571b-d0c9-4028-8b21-e64440b88f59",
   "metadata": {},
   "outputs": [],
   "source": []
  }
 ],
 "metadata": {
  "celltoolbar": "Edit Metadata",
  "colab": {
   "provenance": []
  },
  "kernelspec": {
   "display_name": "Python 3 (ipykernel)",
   "language": "python",
   "name": "python3"
  },
  "language_info": {
   "codemirror_mode": {
    "name": "ipython",
    "version": 3
   },
   "file_extension": ".py",
   "mimetype": "text/x-python",
   "name": "python",
   "nbconvert_exporter": "python",
   "pygments_lexer": "ipython3",
   "version": "3.11.9"
  }
 },
 "nbformat": 4,
 "nbformat_minor": 5
}
