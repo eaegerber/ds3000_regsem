{
 "cells": [
  {
   "cell_type": "code",
   "execution_count": null,
   "id": "436bec44-9c8a-4bd0-8e60-f170021fe9b7",
   "metadata": {},
   "outputs": [],
   "source": [
    "def my_pca(X):\n",
    "    '''\n",
    "        a function that performs PCA\n",
    "\n",
    "        args:\n",
    "            X: a n by d numpy array\n",
    "        returns:\n",
    "            Xhat: a n by p numpy array where p <= d\n",
    "    '''\n",
    "\n",
    "    # center X\n",
    "    X_center = X - np.mean(X, axis=0)\n",
    "\n",
    "    # covariance matrix of X\n",
    "    Sigma = np.cov(X_center.T)\n",
    "\n",
    "    # get the eigenvalues and eigenvectors\n",
    "    evals, evecs = np.linalg.eig(Sigma)\n",
    "\n",
    "    # print the eigenvalues and ask how many PCs to keep\n",
    "    print(evals.round())\n",
    "    print(\"\\nHow many principal components to keep?:\\n\")\n",
    "    k = int(input())\n",
    "\n",
    "    indices = np.argsort(evals)[-k:]\n",
    "    largest_indices = indices[::-1]\n",
    "    v = evecs[:,largest_indices]\n",
    "\n",
    "    Xhat = X_center.dot(v)\n",
    "\n",
    "    return Xhat"
   ]
  }
 ],
 "metadata": {
  "kernelspec": {
   "display_name": "Python 3 (ipykernel)",
   "language": "python",
   "name": "python3"
  },
  "language_info": {
   "codemirror_mode": {
    "name": "ipython",
    "version": 3
   },
   "file_extension": ".py",
   "mimetype": "text/x-python",
   "name": "python",
   "nbconvert_exporter": "python",
   "pygments_lexer": "ipython3",
   "version": "3.11.9"
  }
 },
 "nbformat": 4,
 "nbformat_minor": 5
}
