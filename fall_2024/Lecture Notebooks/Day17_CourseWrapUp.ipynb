{
 "cells": [
  {
   "cell_type": "markdown",
   "metadata": {
    "slideshow": {
     "slide_type": "slide"
    }
   },
   "source": [
    "# DS3000 Day 17\n",
    "\n",
    "Dec 2/3, 2024\n",
    "\n",
    "Admin\n",
    "- Project Deadlines:\n",
    "  - Mandatory Meeting with TA **by Dec. 5**\n",
    "  - Project Report and Presentation due **Dec. 9 by 11:59 pm**\n",
    "  - Statement of Contributions Google Form (submit through Gradescope) due **Dec. 9 by 11:59 pm**\n",
    "- Please fill out TRACE and, if possible, [this short form](https://forms.gle/EZFgKFQ7GyDTXQQJ9)!\n",
    "- I'm going ahead and cancelling class on Wednesday.\n",
    "- Push-Up Time!\n",
    "\n",
    "Final Push-Up Tally\n",
    "- Section 03: 9\n",
    "- Section 05: 10\n",
    "\n",
    "Content:\n",
    "- Course Wrap-Up"
   ]
  },
  {
   "cell_type": "markdown",
   "metadata": {},
   "source": [
    "## Plan for Today\n",
    "\n",
    "We have several options for today's lesson:\n",
    "\n",
    "1. Review PCA (Day 16; many of you were somewhere else and this may be quite useful for some of your projects)\n",
    "2. Bonus Topic(s) (Cosine Similarity? Markov Chains? These are two methods that you should be easily able to understand given the math we've covered in the course)\n",
    "3. Project Work Day (I'm happy to walk around and answer specific questions about the final stages of your project)\n",
    "4. AMA (Ask-Me-Anything?)\n",
    "\n",
    "To give you time to think about it and choose, I will leave the room for 5 minutes, during which time you might also **fill out TRACE**."
   ]
  },
  {
   "cell_type": "markdown",
   "metadata": {},
   "source": [
    "### Bonus Topic: Cosine Similarity\n",
    "\n",
    "Another **unsupervised** machine learning algorithm, the Cosine Similarity algorithm's goal is to:\n",
    "\n",
    "- Rank observations by how similar they are\n",
    "\n",
    "It is a very basic algorithm that is often used in simple recommender systems (such as recommending new songs or movies) or in Natural Language Processing (NLP). The algorithm relies upon one key piece of information that we *didn't* cover: another way of calculating the dot product:\n",
    "\n",
    "$$a^Tb = ||a||\\times ||b|| \\times \\cos(\\theta)$$\n",
    "\n",
    "Where $||a||$ is the length of vector $a$, $||b||$ is the length of vector $b$, and $\\theta$ is the **angle between them**. The cosine similarity score of two vectors is simply solved for $\\cos(\\theta)$:\n",
    "\n",
    "$$S_C(a, b) = \\cos(\\theta) = \\frac{a^Tb}{||a||\\times ||b||}$$\n",
    "\n",
    "This value is always $-1 \\leq S_C \\leq 1$, where $-1$ indicates the two vectors are completely opposite of each other, $1$ indicates the two vectors are exactly the same. Thus, for a given vector of data (a single observation), one can ``rank\" all other observations from most similar to least similar by the $S_C$ score:"
   ]
  },
  {
   "cell_type": "code",
   "execution_count": 1,
   "metadata": {},
   "outputs": [
    {
     "data": {
      "text/html": [
       "<div>\n",
       "<style scoped>\n",
       "    .dataframe tbody tr th:only-of-type {\n",
       "        vertical-align: middle;\n",
       "    }\n",
       "\n",
       "    .dataframe tbody tr th {\n",
       "        vertical-align: top;\n",
       "    }\n",
       "\n",
       "    .dataframe thead th {\n",
       "        text-align: right;\n",
       "    }\n",
       "</style>\n",
       "<table border=\"1\" class=\"dataframe\">\n",
       "  <thead>\n",
       "    <tr style=\"text-align: right;\">\n",
       "      <th></th>\n",
       "      <th>danceability</th>\n",
       "      <th>energy</th>\n",
       "      <th>key</th>\n",
       "      <th>loudness</th>\n",
       "      <th>mode</th>\n",
       "      <th>speechiness</th>\n",
       "      <th>acousticness</th>\n",
       "      <th>instrumentalness</th>\n",
       "      <th>liveness</th>\n",
       "      <th>valence</th>\n",
       "      <th>tempo</th>\n",
       "      <th>track_href</th>\n",
       "      <th>duration_ms</th>\n",
       "      <th>song_title</th>\n",
       "      <th>artist_name</th>\n",
       "    </tr>\n",
       "  </thead>\n",
       "  <tbody>\n",
       "    <tr>\n",
       "      <th>0</th>\n",
       "      <td>0.671</td>\n",
       "      <td>0.543</td>\n",
       "      <td>7</td>\n",
       "      <td>-5.450</td>\n",
       "      <td>0</td>\n",
       "      <td>0.0357</td>\n",
       "      <td>0.37600</td>\n",
       "      <td>0.000209</td>\n",
       "      <td>0.1100</td>\n",
       "      <td>0.112</td>\n",
       "      <td>124.051</td>\n",
       "      <td>https://api.spotify.com/v1/tracks/2dshtwEGNpyr...</td>\n",
       "      <td>170453</td>\n",
       "      <td>DEEP IN THE WATER</td>\n",
       "      <td>Don Toliver</td>\n",
       "    </tr>\n",
       "    <tr>\n",
       "      <th>1</th>\n",
       "      <td>0.508</td>\n",
       "      <td>0.720</td>\n",
       "      <td>11</td>\n",
       "      <td>-5.908</td>\n",
       "      <td>0</td>\n",
       "      <td>0.0628</td>\n",
       "      <td>0.27200</td>\n",
       "      <td>0.000000</td>\n",
       "      <td>0.0563</td>\n",
       "      <td>0.472</td>\n",
       "      <td>79.983</td>\n",
       "      <td>https://api.spotify.com/v1/tracks/4JehYebiI9JE...</td>\n",
       "      <td>261640</td>\n",
       "      <td>Halo</td>\n",
       "      <td>Beyoncé</td>\n",
       "    </tr>\n",
       "    <tr>\n",
       "      <th>2</th>\n",
       "      <td>0.765</td>\n",
       "      <td>0.796</td>\n",
       "      <td>9</td>\n",
       "      <td>-3.476</td>\n",
       "      <td>1</td>\n",
       "      <td>0.0356</td>\n",
       "      <td>0.03530</td>\n",
       "      <td>0.000000</td>\n",
       "      <td>0.6980</td>\n",
       "      <td>0.492</td>\n",
       "      <td>107.966</td>\n",
       "      <td>https://api.spotify.com/v1/tracks/42sqQTi2EqDP...</td>\n",
       "      <td>190903</td>\n",
       "      <td>OBVIOUS</td>\n",
       "      <td>Fordo</td>\n",
       "    </tr>\n",
       "    <tr>\n",
       "      <th>3</th>\n",
       "      <td>0.338</td>\n",
       "      <td>0.340</td>\n",
       "      <td>9</td>\n",
       "      <td>-12.049</td>\n",
       "      <td>0</td>\n",
       "      <td>0.0339</td>\n",
       "      <td>0.58000</td>\n",
       "      <td>0.003200</td>\n",
       "      <td>0.1160</td>\n",
       "      <td>0.197</td>\n",
       "      <td>82.433</td>\n",
       "      <td>https://api.spotify.com/v1/tracks/5CQ30WqJwcep...</td>\n",
       "      <td>482830</td>\n",
       "      <td>Stairway to Heaven - Remaster</td>\n",
       "      <td>Led Zeppelin</td>\n",
       "    </tr>\n",
       "    <tr>\n",
       "      <th>4</th>\n",
       "      <td>0.665</td>\n",
       "      <td>0.655</td>\n",
       "      <td>2</td>\n",
       "      <td>-6.335</td>\n",
       "      <td>1</td>\n",
       "      <td>0.0535</td>\n",
       "      <td>0.00266</td>\n",
       "      <td>0.000000</td>\n",
       "      <td>0.2980</td>\n",
       "      <td>0.626</td>\n",
       "      <td>124.028</td>\n",
       "      <td>https://api.spotify.com/v1/tracks/2GDnUFJ1ZwP3...</td>\n",
       "      <td>128512</td>\n",
       "      <td>ocd</td>\n",
       "      <td>ericdoa</td>\n",
       "    </tr>\n",
       "  </tbody>\n",
       "</table>\n",
       "</div>"
      ],
      "text/plain": [
       "   danceability  energy  key  loudness  mode  speechiness  acousticness  \\\n",
       "0         0.671   0.543    7    -5.450     0       0.0357       0.37600   \n",
       "1         0.508   0.720   11    -5.908     0       0.0628       0.27200   \n",
       "2         0.765   0.796    9    -3.476     1       0.0356       0.03530   \n",
       "3         0.338   0.340    9   -12.049     0       0.0339       0.58000   \n",
       "4         0.665   0.655    2    -6.335     1       0.0535       0.00266   \n",
       "\n",
       "   instrumentalness  liveness  valence    tempo  \\\n",
       "0          0.000209    0.1100    0.112  124.051   \n",
       "1          0.000000    0.0563    0.472   79.983   \n",
       "2          0.000000    0.6980    0.492  107.966   \n",
       "3          0.003200    0.1160    0.197   82.433   \n",
       "4          0.000000    0.2980    0.626  124.028   \n",
       "\n",
       "                                          track_href  duration_ms  \\\n",
       "0  https://api.spotify.com/v1/tracks/2dshtwEGNpyr...       170453   \n",
       "1  https://api.spotify.com/v1/tracks/4JehYebiI9JE...       261640   \n",
       "2  https://api.spotify.com/v1/tracks/42sqQTi2EqDP...       190903   \n",
       "3  https://api.spotify.com/v1/tracks/5CQ30WqJwcep...       482830   \n",
       "4  https://api.spotify.com/v1/tracks/2GDnUFJ1ZwP3...       128512   \n",
       "\n",
       "                      song_title   artist_name  \n",
       "0              DEEP IN THE WATER   Don Toliver  \n",
       "1                           Halo       Beyoncé  \n",
       "2                        OBVIOUS         Fordo  \n",
       "3  Stairway to Heaven - Remaster  Led Zeppelin  \n",
       "4                            ocd       ericdoa  "
      ]
     },
     "execution_count": 1,
     "metadata": {},
     "output_type": "execute_result"
    }
   ],
   "source": [
    "import pandas as pd\n",
    "# read in the class spotify data from Dr. Gerber's github\n",
    "url = 'https://raw.githubusercontent.com/eaegerber/data/main/ds3000_spotify_scaled.csv'\n",
    "df_spot_raw = pd.read_csv(url)\n",
    "df_spot_raw.head()"
   ]
  },
  {
   "cell_type": "code",
   "execution_count": 2,
   "metadata": {},
   "outputs": [
    {
     "data": {
      "text/html": [
       "<div>\n",
       "<style scoped>\n",
       "    .dataframe tbody tr th:only-of-type {\n",
       "        vertical-align: middle;\n",
       "    }\n",
       "\n",
       "    .dataframe tbody tr th {\n",
       "        vertical-align: top;\n",
       "    }\n",
       "\n",
       "    .dataframe thead th {\n",
       "        text-align: right;\n",
       "    }\n",
       "</style>\n",
       "<table border=\"1\" class=\"dataframe\">\n",
       "  <thead>\n",
       "    <tr style=\"text-align: right;\">\n",
       "      <th></th>\n",
       "      <th>danceability</th>\n",
       "      <th>energy</th>\n",
       "      <th>key</th>\n",
       "      <th>loudness</th>\n",
       "      <th>speechiness</th>\n",
       "      <th>acousticness</th>\n",
       "      <th>instrumentalness</th>\n",
       "      <th>liveness</th>\n",
       "      <th>valence</th>\n",
       "      <th>tempo</th>\n",
       "      <th>duration_ms</th>\n",
       "    </tr>\n",
       "  </thead>\n",
       "  <tbody>\n",
       "    <tr>\n",
       "      <th>0</th>\n",
       "      <td>0.516614</td>\n",
       "      <td>-0.326724</td>\n",
       "      <td>0.452859</td>\n",
       "      <td>0.669783</td>\n",
       "      <td>-0.504788</td>\n",
       "      <td>0.297830</td>\n",
       "      <td>-0.381541</td>\n",
       "      <td>-0.401177</td>\n",
       "      <td>-1.542448</td>\n",
       "      <td>0.093087</td>\n",
       "      <td>-0.747452</td>\n",
       "    </tr>\n",
       "    <tr>\n",
       "      <th>1</th>\n",
       "      <td>-0.575616</td>\n",
       "      <td>0.521290</td>\n",
       "      <td>1.573185</td>\n",
       "      <td>0.527116</td>\n",
       "      <td>-0.070179</td>\n",
       "      <td>-0.049727</td>\n",
       "      <td>-0.382466</td>\n",
       "      <td>-0.802563</td>\n",
       "      <td>-0.019138</td>\n",
       "      <td>-1.408237</td>\n",
       "      <td>0.242350</td>\n",
       "    </tr>\n",
       "    <tr>\n",
       "      <th>2</th>\n",
       "      <td>1.146490</td>\n",
       "      <td>0.885408</td>\n",
       "      <td>1.013022</td>\n",
       "      <td>1.284685</td>\n",
       "      <td>-0.506392</td>\n",
       "      <td>-0.840755</td>\n",
       "      <td>-0.382466</td>\n",
       "      <td>3.993886</td>\n",
       "      <td>0.065491</td>\n",
       "      <td>-0.454902</td>\n",
       "      <td>-0.525475</td>\n",
       "    </tr>\n",
       "    <tr>\n",
       "      <th>3</th>\n",
       "      <td>-1.714753</td>\n",
       "      <td>-1.299304</td>\n",
       "      <td>1.013022</td>\n",
       "      <td>-1.385809</td>\n",
       "      <td>-0.533655</td>\n",
       "      <td>0.979578</td>\n",
       "      <td>-0.368300</td>\n",
       "      <td>-0.356330</td>\n",
       "      <td>-1.182778</td>\n",
       "      <td>-1.324770</td>\n",
       "      <td>2.643286</td>\n",
       "    </tr>\n",
       "    <tr>\n",
       "      <th>4</th>\n",
       "      <td>0.476410</td>\n",
       "      <td>0.209872</td>\n",
       "      <td>-0.947548</td>\n",
       "      <td>0.394105</td>\n",
       "      <td>-0.219325</td>\n",
       "      <td>-0.949835</td>\n",
       "      <td>-0.382466</td>\n",
       "      <td>1.004047</td>\n",
       "      <td>0.632501</td>\n",
       "      <td>0.092304</td>\n",
       "      <td>-1.202706</td>\n",
       "    </tr>\n",
       "  </tbody>\n",
       "</table>\n",
       "</div>"
      ],
      "text/plain": [
       "   danceability    energy       key  loudness  speechiness  acousticness  \\\n",
       "0      0.516614 -0.326724  0.452859  0.669783    -0.504788      0.297830   \n",
       "1     -0.575616  0.521290  1.573185  0.527116    -0.070179     -0.049727   \n",
       "2      1.146490  0.885408  1.013022  1.284685    -0.506392     -0.840755   \n",
       "3     -1.714753 -1.299304  1.013022 -1.385809    -0.533655      0.979578   \n",
       "4      0.476410  0.209872 -0.947548  0.394105    -0.219325     -0.949835   \n",
       "\n",
       "   instrumentalness  liveness   valence     tempo  duration_ms  \n",
       "0         -0.381541 -0.401177 -1.542448  0.093087    -0.747452  \n",
       "1         -0.382466 -0.802563 -0.019138 -1.408237     0.242350  \n",
       "2         -0.382466  3.993886  0.065491 -0.454902    -0.525475  \n",
       "3         -0.368300 -0.356330 -1.182778 -1.324770     2.643286  \n",
       "4         -0.382466  1.004047  0.632501  0.092304    -1.202706  "
      ]
     },
     "execution_count": 2,
     "metadata": {},
     "output_type": "execute_result"
    }
   ],
   "source": [
    "import warnings\n",
    "from pandas.errors import SettingWithCopyWarning\n",
    "warnings.simplefilter(action='ignore', category=(SettingWithCopyWarning))\n",
    "\n",
    "# get all the numeric features only and standardize them\n",
    "df_spot = df_spot_raw[[\"danceability\", \"energy\", \"key\", \"loudness\", \"speechiness\", \"acousticness\", \"instrumentalness\", \"liveness\", \"valence\", \"tempo\", \"duration_ms\"]]\n",
    "for feat in df_spot.columns:\n",
    "    df_spot[feat] = (df_spot[feat] - df_spot[feat].mean()) / df_spot[feat].std()\n",
    "\n",
    "df_spot.head()"
   ]
  },
  {
   "cell_type": "code",
   "execution_count": 3,
   "metadata": {},
   "outputs": [
    {
     "name": "stdout",
     "output_type": "stream",
     "text": [
      "Mr. Brightside is index: [30]\n",
      "This is the full data point for Mr. Brightside:\n",
      " [[-1.62094144  1.4363774  -1.22762962  0.738313    0.12066465 -0.95468035\n",
      "  -0.38246637 -0.47966048 -1.01775228  0.91011477 -0.17736647]]\n"
     ]
    }
   ],
   "source": [
    "import numpy as np\n",
    "\n",
    "# which of the student's songs is most similar to Dr. Gerber's favourite song, Mr. Brightside?\n",
    "mrb_index = df_spot_raw.index[df_spot_raw['song_title'] == 'Mr. Brightside'].tolist()\n",
    "print(f'Mr. Brightside is index: {mrb_index}')\n",
    "mrb_vec = df_spot.iloc[mrb_index].to_numpy()\n",
    "print(\"This is the full data point for Mr. Brightside:\\n\", mrb_vec)"
   ]
  },
  {
   "cell_type": "code",
   "execution_count": 4,
   "metadata": {},
   "outputs": [
    {
     "data": {
      "text/html": [
       "<div>\n",
       "<style scoped>\n",
       "    .dataframe tbody tr th:only-of-type {\n",
       "        vertical-align: middle;\n",
       "    }\n",
       "\n",
       "    .dataframe tbody tr th {\n",
       "        vertical-align: top;\n",
       "    }\n",
       "\n",
       "    .dataframe thead th {\n",
       "        text-align: right;\n",
       "    }\n",
       "</style>\n",
       "<table border=\"1\" class=\"dataframe\">\n",
       "  <thead>\n",
       "    <tr style=\"text-align: right;\">\n",
       "      <th></th>\n",
       "      <th>song_title</th>\n",
       "      <th>artist_name</th>\n",
       "      <th>mrb_dot_product</th>\n",
       "      <th>mrb_cosine</th>\n",
       "    </tr>\n",
       "  </thead>\n",
       "  <tbody>\n",
       "    <tr>\n",
       "      <th>30</th>\n",
       "      <td>Mr. Brightside</td>\n",
       "      <td>The Killers</td>\n",
       "      <td>9.940728</td>\n",
       "      <td>1.000000</td>\n",
       "    </tr>\n",
       "    <tr>\n",
       "      <th>6</th>\n",
       "      <td>Godlight</td>\n",
       "      <td>Noah Kahan</td>\n",
       "      <td>6.710453</td>\n",
       "      <td>0.832099</td>\n",
       "    </tr>\n",
       "    <tr>\n",
       "      <th>33</th>\n",
       "      <td>Plastic Promises</td>\n",
       "      <td>Set It Off</td>\n",
       "      <td>11.967670</td>\n",
       "      <td>0.759871</td>\n",
       "    </tr>\n",
       "    <tr>\n",
       "      <th>12</th>\n",
       "      <td>jeans</td>\n",
       "      <td>2hollis</td>\n",
       "      <td>6.550114</td>\n",
       "      <td>0.755340</td>\n",
       "    </tr>\n",
       "    <tr>\n",
       "      <th>14</th>\n",
       "      <td>Famous</td>\n",
       "      <td>Kanye West</td>\n",
       "      <td>6.107416</td>\n",
       "      <td>0.700019</td>\n",
       "    </tr>\n",
       "    <tr>\n",
       "      <th>36</th>\n",
       "      <td>Legends Never Die</td>\n",
       "      <td>League of Legends</td>\n",
       "      <td>5.211345</td>\n",
       "      <td>0.697941</td>\n",
       "    </tr>\n",
       "  </tbody>\n",
       "</table>\n",
       "</div>"
      ],
      "text/plain": [
       "           song_title        artist_name  mrb_dot_product  mrb_cosine\n",
       "30     Mr. Brightside        The Killers         9.940728    1.000000\n",
       "6            Godlight         Noah Kahan         6.710453    0.832099\n",
       "33   Plastic Promises         Set It Off        11.967670    0.759871\n",
       "12              jeans            2hollis         6.550114    0.755340\n",
       "14             Famous         Kanye West         6.107416    0.700019\n",
       "36  Legends Never Die  League of Legends         5.211345    0.697941"
      ]
     },
     "execution_count": 4,
     "metadata": {},
     "output_type": "execute_result"
    }
   ],
   "source": [
    "# this creates empty lists to fill in with the dot products and cos(theta) of each song relative to Mr. Brightside\n",
    "mrb_dot_products = []\n",
    "mrb_cosines = []\n",
    "\n",
    "# this goes iteratively (loops) through each song in the data set and:\n",
    "# (a) calculates the dot product between Mr. Brightside and the song\n",
    "# (b) calculates the cosine(theta) between Mr. Brightside and the song\n",
    "for song in range(df_spot.shape[0]):\n",
    "\n",
    "  temp_song_vec = df_spot.iloc[song].to_numpy()\n",
    "\n",
    "  temp_dot = np.dot(mrb_vec, temp_song_vec)\n",
    "  temp_cos = temp_dot/(np.linalg.norm(mrb_vec) * np.linalg.norm(temp_song_vec))\n",
    "\n",
    "  mrb_dot_products.append(temp_dot[0])\n",
    "  mrb_cosines.append(temp_cos[0])\n",
    "\n",
    "# this puts the song titles, artists, calculated dot product, and cosine score into a data frame\n",
    "dict_mrb = {'song_title': df_spot_raw.song_title,\n",
    "            'artist_name': df_spot_raw.artist_name,\n",
    "            'mrb_dot_product': mrb_dot_products,\n",
    "            'mrb_cosine': mrb_cosines}\n",
    "df_mrb = pd.DataFrame(dict_mrb)\n",
    "\n",
    "# this sorts the data by the cosine score\n",
    "sorted_df_mrb = df_mrb.sort_values(by='mrb_cosine', ascending=False)\n",
    "\n",
    "# this prints the top six songs\n",
    "sorted_df_mrb.head(6)"
   ]
  },
  {
   "cell_type": "code",
   "execution_count": 5,
   "metadata": {},
   "outputs": [
    {
     "data": {
      "text/html": [
       "<div>\n",
       "<style scoped>\n",
       "    .dataframe tbody tr th:only-of-type {\n",
       "        vertical-align: middle;\n",
       "    }\n",
       "\n",
       "    .dataframe tbody tr th {\n",
       "        vertical-align: top;\n",
       "    }\n",
       "\n",
       "    .dataframe thead th {\n",
       "        text-align: right;\n",
       "    }\n",
       "</style>\n",
       "<table border=\"1\" class=\"dataframe\">\n",
       "  <thead>\n",
       "    <tr style=\"text-align: right;\">\n",
       "      <th></th>\n",
       "      <th>song_title</th>\n",
       "      <th>artist_name</th>\n",
       "      <th>mrb_dot_product</th>\n",
       "      <th>mrb_cosine</th>\n",
       "    </tr>\n",
       "  </thead>\n",
       "  <tbody>\n",
       "    <tr>\n",
       "      <th>107</th>\n",
       "      <td>At Your Best (You Are Love)</td>\n",
       "      <td>Aaliyah</td>\n",
       "      <td>-6.393743</td>\n",
       "      <td>-0.686950</td>\n",
       "    </tr>\n",
       "    <tr>\n",
       "      <th>106</th>\n",
       "      <td>Little by Little</td>\n",
       "      <td>The Marías</td>\n",
       "      <td>-7.177716</td>\n",
       "      <td>-0.699085</td>\n",
       "    </tr>\n",
       "    <tr>\n",
       "      <th>102</th>\n",
       "      <td>Tell Me Why</td>\n",
       "      <td>Gotts Street Park</td>\n",
       "      <td>-7.089317</td>\n",
       "      <td>-0.729751</td>\n",
       "    </tr>\n",
       "    <tr>\n",
       "      <th>146</th>\n",
       "      <td>Blue Bayou</td>\n",
       "      <td>Linda Ronstadt</td>\n",
       "      <td>-9.797209</td>\n",
       "      <td>-0.819161</td>\n",
       "    </tr>\n",
       "    <tr>\n",
       "      <th>142</th>\n",
       "      <td>My Favorite Part</td>\n",
       "      <td>Mac Miller</td>\n",
       "      <td>-7.647689</td>\n",
       "      <td>-0.832008</td>\n",
       "    </tr>\n",
       "  </tbody>\n",
       "</table>\n",
       "</div>"
      ],
      "text/plain": [
       "                      song_title        artist_name  mrb_dot_product  \\\n",
       "107  At Your Best (You Are Love)            Aaliyah        -6.393743   \n",
       "106             Little by Little         The Marías        -7.177716   \n",
       "102                  Tell Me Why  Gotts Street Park        -7.089317   \n",
       "146                   Blue Bayou     Linda Ronstadt        -9.797209   \n",
       "142             My Favorite Part         Mac Miller        -7.647689   \n",
       "\n",
       "     mrb_cosine  \n",
       "107   -0.686950  \n",
       "106   -0.699085  \n",
       "102   -0.729751  \n",
       "146   -0.819161  \n",
       "142   -0.832008  "
      ]
     },
     "execution_count": 5,
     "metadata": {},
     "output_type": "execute_result"
    }
   ],
   "source": [
    "# this prints the bottom five songs\n",
    "sorted_df_mrb.tail()"
   ]
  },
  {
   "cell_type": "markdown",
   "metadata": {},
   "source": [
    "### Cosine Similarity Notes\n",
    "\n",
    "- In this simplest case, we note that each of the features is weighted equally; two songs being the same length is just as impactful as two songs having the same danceability (or tempo); to get more accurate results, we may want to focus on only those characteristics we think are meaningful (or that the user potentially cares most about)\n",
    "- This works well if we do not care about magnitude of the vectors (notice that the cosine only considers the angle between them); more complex models are usually necessary to understand more complex relationships"
   ]
  },
  {
   "cell_type": "code",
   "execution_count": 6,
   "metadata": {},
   "outputs": [
    {
     "data": {
      "text/html": [
       "<div>\n",
       "<style scoped>\n",
       "    .dataframe tbody tr th:only-of-type {\n",
       "        vertical-align: middle;\n",
       "    }\n",
       "\n",
       "    .dataframe tbody tr th {\n",
       "        vertical-align: top;\n",
       "    }\n",
       "\n",
       "    .dataframe thead th {\n",
       "        text-align: right;\n",
       "    }\n",
       "</style>\n",
       "<table border=\"1\" class=\"dataframe\">\n",
       "  <thead>\n",
       "    <tr style=\"text-align: right;\">\n",
       "      <th></th>\n",
       "      <th>danceability</th>\n",
       "      <th>energy</th>\n",
       "      <th>loudness</th>\n",
       "      <th>speechiness</th>\n",
       "      <th>acousticness</th>\n",
       "      <th>instrumentalness</th>\n",
       "      <th>tempo</th>\n",
       "    </tr>\n",
       "  </thead>\n",
       "  <tbody>\n",
       "    <tr>\n",
       "      <th>0</th>\n",
       "      <td>0.516614</td>\n",
       "      <td>-0.326724</td>\n",
       "      <td>0.669783</td>\n",
       "      <td>-0.504788</td>\n",
       "      <td>0.297830</td>\n",
       "      <td>-0.381541</td>\n",
       "      <td>0.093087</td>\n",
       "    </tr>\n",
       "    <tr>\n",
       "      <th>1</th>\n",
       "      <td>-0.575616</td>\n",
       "      <td>0.521290</td>\n",
       "      <td>0.527116</td>\n",
       "      <td>-0.070179</td>\n",
       "      <td>-0.049727</td>\n",
       "      <td>-0.382466</td>\n",
       "      <td>-1.408237</td>\n",
       "    </tr>\n",
       "    <tr>\n",
       "      <th>2</th>\n",
       "      <td>1.146490</td>\n",
       "      <td>0.885408</td>\n",
       "      <td>1.284685</td>\n",
       "      <td>-0.506392</td>\n",
       "      <td>-0.840755</td>\n",
       "      <td>-0.382466</td>\n",
       "      <td>-0.454902</td>\n",
       "    </tr>\n",
       "    <tr>\n",
       "      <th>3</th>\n",
       "      <td>-1.714753</td>\n",
       "      <td>-1.299304</td>\n",
       "      <td>-1.385809</td>\n",
       "      <td>-0.533655</td>\n",
       "      <td>0.979578</td>\n",
       "      <td>-0.368300</td>\n",
       "      <td>-1.324770</td>\n",
       "    </tr>\n",
       "    <tr>\n",
       "      <th>4</th>\n",
       "      <td>0.476410</td>\n",
       "      <td>0.209872</td>\n",
       "      <td>0.394105</td>\n",
       "      <td>-0.219325</td>\n",
       "      <td>-0.949835</td>\n",
       "      <td>-0.382466</td>\n",
       "      <td>0.092304</td>\n",
       "    </tr>\n",
       "  </tbody>\n",
       "</table>\n",
       "</div>"
      ],
      "text/plain": [
       "   danceability    energy  loudness  speechiness  acousticness  \\\n",
       "0      0.516614 -0.326724  0.669783    -0.504788      0.297830   \n",
       "1     -0.575616  0.521290  0.527116    -0.070179     -0.049727   \n",
       "2      1.146490  0.885408  1.284685    -0.506392     -0.840755   \n",
       "3     -1.714753 -1.299304 -1.385809    -0.533655      0.979578   \n",
       "4      0.476410  0.209872  0.394105    -0.219325     -0.949835   \n",
       "\n",
       "   instrumentalness     tempo  \n",
       "0         -0.381541  0.093087  \n",
       "1         -0.382466 -1.408237  \n",
       "2         -0.382466 -0.454902  \n",
       "3         -0.368300 -1.324770  \n",
       "4         -0.382466  0.092304  "
      ]
     },
     "execution_count": 6,
     "metadata": {},
     "output_type": "execute_result"
    }
   ],
   "source": [
    "# what if I reduce it to the features I care most about?\n",
    "df_spot = df_spot_raw[[\"danceability\", \"energy\", \"loudness\", \"speechiness\", \"acousticness\", \"instrumentalness\", \"tempo\"]]\n",
    "for feat in df_spot.columns:\n",
    "    df_spot[feat] = (df_spot[feat] - df_spot[feat].mean()) / df_spot[feat].std()\n",
    "\n",
    "df_spot.head()"
   ]
  },
  {
   "cell_type": "code",
   "execution_count": 7,
   "metadata": {},
   "outputs": [
    {
     "name": "stdout",
     "output_type": "stream",
     "text": [
      "Mr. Brightside is index: [30]\n",
      "This is the full data point for Mr. Brightside:\n",
      " [[-1.62094144  1.4363774   0.738313    0.12066465 -0.95468035 -0.38246637\n",
      "   0.91011477]]\n"
     ]
    }
   ],
   "source": [
    "mrb_index = df_spot_raw.index[df_spot_raw['song_title'] == 'Mr. Brightside'].tolist()\n",
    "print(f'Mr. Brightside is index: {mrb_index}')\n",
    "mrb_vec = df_spot.iloc[mrb_index].to_numpy()\n",
    "print(\"This is the full data point for Mr. Brightside:\\n\", mrb_vec)"
   ]
  },
  {
   "cell_type": "code",
   "execution_count": 8,
   "metadata": {},
   "outputs": [
    {
     "data": {
      "text/html": [
       "<div>\n",
       "<style scoped>\n",
       "    .dataframe tbody tr th:only-of-type {\n",
       "        vertical-align: middle;\n",
       "    }\n",
       "\n",
       "    .dataframe tbody tr th {\n",
       "        vertical-align: top;\n",
       "    }\n",
       "\n",
       "    .dataframe thead th {\n",
       "        text-align: right;\n",
       "    }\n",
       "</style>\n",
       "<table border=\"1\" class=\"dataframe\">\n",
       "  <thead>\n",
       "    <tr style=\"text-align: right;\">\n",
       "      <th></th>\n",
       "      <th>song_title</th>\n",
       "      <th>artist_name</th>\n",
       "      <th>mrb_dot_product</th>\n",
       "      <th>mrb_cosine</th>\n",
       "    </tr>\n",
       "  </thead>\n",
       "  <tbody>\n",
       "    <tr>\n",
       "      <th>30</th>\n",
       "      <td>Mr. Brightside</td>\n",
       "      <td>The Killers</td>\n",
       "      <td>7.136301</td>\n",
       "      <td>1.000000</td>\n",
       "    </tr>\n",
       "    <tr>\n",
       "      <th>78</th>\n",
       "      <td>BABY I'M BACK</td>\n",
       "      <td>The Kid LAROI</td>\n",
       "      <td>5.637945</td>\n",
       "      <td>0.909424</td>\n",
       "    </tr>\n",
       "    <tr>\n",
       "      <th>6</th>\n",
       "      <td>Godlight</td>\n",
       "      <td>Noah Kahan</td>\n",
       "      <td>5.848922</td>\n",
       "      <td>0.877055</td>\n",
       "    </tr>\n",
       "    <tr>\n",
       "      <th>33</th>\n",
       "      <td>Plastic Promises</td>\n",
       "      <td>Set It Off</td>\n",
       "      <td>10.973229</td>\n",
       "      <td>0.858383</td>\n",
       "    </tr>\n",
       "    <tr>\n",
       "      <th>81</th>\n",
       "      <td>The Nights</td>\n",
       "      <td>Avicii</td>\n",
       "      <td>3.903320</td>\n",
       "      <td>0.843742</td>\n",
       "    </tr>\n",
       "    <tr>\n",
       "      <th>89</th>\n",
       "      <td>King For A Day</td>\n",
       "      <td>Pierce The Veil</td>\n",
       "      <td>6.581363</td>\n",
       "      <td>0.836378</td>\n",
       "    </tr>\n",
       "  </tbody>\n",
       "</table>\n",
       "</div>"
      ],
      "text/plain": [
       "          song_title      artist_name  mrb_dot_product  mrb_cosine\n",
       "30    Mr. Brightside      The Killers         7.136301    1.000000\n",
       "78     BABY I'M BACK    The Kid LAROI         5.637945    0.909424\n",
       "6           Godlight       Noah Kahan         5.848922    0.877055\n",
       "33  Plastic Promises       Set It Off        10.973229    0.858383\n",
       "81        The Nights           Avicii         3.903320    0.843742\n",
       "89    King For A Day  Pierce The Veil         6.581363    0.836378"
      ]
     },
     "execution_count": 8,
     "metadata": {},
     "output_type": "execute_result"
    }
   ],
   "source": [
    "# this creates empty lists to fill in with the dot products and cos(theta) of each song relative to Mr. Brightside\n",
    "mrb_dot_products = []\n",
    "mrb_cosines = []\n",
    "\n",
    "# this goes iteratively (loops) through each song in the data set and:\n",
    "# (a) calculates the dot product between Mr. Brightside and the song\n",
    "# (b) calculates the cosine(theta) between Mr. Brightside and the song\n",
    "for song in range(df_spot.shape[0]):\n",
    "\n",
    "  temp_song_vec = df_spot.iloc[song].to_numpy()\n",
    "\n",
    "  temp_dot = np.dot(mrb_vec, temp_song_vec)\n",
    "  temp_cos = temp_dot/(np.linalg.norm(mrb_vec) * np.linalg.norm(temp_song_vec))\n",
    "\n",
    "  mrb_dot_products.append(temp_dot[0])\n",
    "  mrb_cosines.append(temp_cos[0])\n",
    "\n",
    "# this puts the song titles, artists, calculated dot product, and cosine score into a data frame\n",
    "dict_mrb = {'song_title': df_spot_raw.song_title,\n",
    "            'artist_name': df_spot_raw.artist_name,\n",
    "            'mrb_dot_product': mrb_dot_products,\n",
    "            'mrb_cosine': mrb_cosines}\n",
    "df_mrb = pd.DataFrame(dict_mrb)\n",
    "\n",
    "# this sorts the data by the cosine score\n",
    "sorted_df_mrb = df_mrb.sort_values(by='mrb_cosine', ascending=False)\n",
    "\n",
    "# this prints the top six songs\n",
    "sorted_df_mrb.head(6)"
   ]
  },
  {
   "cell_type": "markdown",
   "metadata": {},
   "source": [
    "### Bonus Topic: Markov Chains\n",
    "\n",
    "Markov chains are, by themselves **unsupervised**, but are most often used in conjunction with supervised learning algorithms. However, for a basic introduction, we will focus only on using Markov chains in the situation where:\n",
    "\n",
    "- there is a set of states representing possibly values of a system\n",
    "- observations in the system might be in any of the states at a discrete time point $t$, and move to another state (or stay in the current state) at time point $t+1$\n",
    "- we define a set of **transition probablities** as a matrix where\n",
    "  - each probability represents the likelihood of moving from one state to another, or remaining in the current state, when going from time point $t$ to time point $t+1$\n",
    " \n",
    "#### Example\n",
    "\n",
    "Imagine the system consists of two states: someone who has COVID (C) or does not have COVID (N). Imagine we also know that on any given day ($t$):\n",
    "\n",
    "- 2\\% of the people who don't have COVID will catch COVID\n",
    "- 14\\% of the people who have COVID will recover from COVID\n",
    "\n",
    "Visualize it with a **directed graph**:\n",
    "\n",
    "<a href=\"https://ibb.co/jb5vz2f\"><img src=\"https://i.ibb.co/BcPVGx3/markov2.png\" alt=\"markov2\" border=\"0\"></a><br />\n",
    "\n",
    "The Markov chain can be represented as a matrix:\n",
    "\n",
    "$$\\begin{bmatrix} 0.86 & 0.02 \\\\ 0.14 & 0.98 \\end{bmatrix}$$\n",
    "\n",
    "Note:\n",
    "\n",
    "- The first row represents how the state C changes from $t$ to $t+1$\n",
    "  - 86\\% of C members remain in C, while 2\\% of N move to C\n",
    "- The second row represents how the state N changes from $t$ to $t+1$\n",
    "  - 14\\% of C members move to N, while 98\\% of N stay in N\n",
    "\n",
    "Assume at time $t=0$ you have 50 people with COVID (state C) and 50 without COVID (state N). Call this vector:\n",
    "\n",
    "$$x_t = x_0 = \\begin{bmatrix} c_0 \\\\ n_0 \\end{bmatrix} = \\begin{bmatrix} 50 \\\\ 50 \\end{bmatrix}$$\n",
    "\n",
    "We can find the number in each state at time $t=1$ by simply multiplying:\n",
    "\n",
    "$$x_1 = \\begin{bmatrix} 0.86 & 0.02 \\\\ 0.14 & 0.98 \\end{bmatrix}x_0 = \\begin{bmatrix} 0.86 & 0.02 \\\\ 0.14 & 0.98 \\end{bmatrix}\\begin{bmatrix} 50 \\\\ 50 \\end{bmatrix} = \\begin{bmatrix} .86(50) + .02(50) \\\\ .14(50) + .98(50) \\end{bmatrix} = \\begin{bmatrix} 44 \\\\ 56 \\end{bmatrix}$$\n",
    "\n",
    "We iterate to find the system's status at time $t=2$ (if we call the Markov matrix $A$):\n",
    "\n",
    "$$x_2 = Ax_1 = \\begin{bmatrix} .86(44) + .02(56) \\\\ .14(44) + .98(56) \\end{bmatrix} = \\begin{bmatrix} 38.96 \\\\ 61.04 \\end{bmatrix}$$\n",
    "\n",
    "And, we could extend this to find the distribution at any state, since above $x_2 = Ax_1 = A(Ax_0) = AAx_0 = A^2x_0$:\n",
    "\n",
    "$$x_t = A^tx_0$$"
   ]
  },
  {
   "cell_type": "code",
   "execution_count": 9,
   "metadata": {},
   "outputs": [
    {
     "data": {
      "text/plain": [
       "array([[38.96],\n",
       "       [61.04]])"
      ]
     },
     "execution_count": 9,
     "metadata": {},
     "output_type": "execute_result"
    }
   ],
   "source": [
    "A = np.array([[.86, .02],\n",
    "              [.14, .98]])\n",
    "# say we start with a fully healthy population\n",
    "x0 = np.array([[0],\n",
    "               [100]])\n",
    "\n",
    "# how many people have covid after 50 days?\n",
    "# can use np.linalg.matrix_power()\n",
    "x2 = np.linalg.matrix_power(A, 2).dot(np.array([[50], [50]])) # to verify it works like we did by hand\n",
    "x50 = np.linalg.matrix_power(A, 50).dot(x0)\n",
    "x2 # this uses the original 50/50 split at t=0"
   ]
  },
  {
   "cell_type": "code",
   "execution_count": 10,
   "metadata": {},
   "outputs": [
    {
     "data": {
      "text/plain": [
       "array([[12.49795415],\n",
       "       [87.50204585]])"
      ]
     },
     "execution_count": 10,
     "metadata": {},
     "output_type": "execute_result"
    }
   ],
   "source": [
    "x50"
   ]
  },
  {
   "cell_type": "markdown",
   "metadata": {},
   "source": [
    "#### Markov Chain Steady State\n",
    "\n",
    "Notice that when we started with $x_0 = \\begin{bmatrix} 50 \\\\ 50 \\end{bmatrix}$, the number of COVID cases immediately went down, but when we started with $x_0 = \\begin{bmatrix} 0 \\\\ 100 \\end{bmatrix}$, they eventually went up.\n",
    "\n",
    "This implies that for this Markov chain there exists a **steady state** solution; a distribution of the states that the system will eventually converge to (at which point, every day the numbers of people with/without COVID will not change).\n",
    "\n",
    "To find the steady state distribution, we only need to find **the eigenvector of $A$ associated with the eigenvalue of $1$ (normalized to 1)**.\n",
    "\n",
    "- Note: if a Markov chain matrix does not *have* an eigenvalue of $1$, then that Markov chain does not have a steady state."
   ]
  },
  {
   "cell_type": "code",
   "execution_count": 11,
   "metadata": {},
   "outputs": [
    {
     "data": {
      "text/plain": [
       "array([0.84, 1.  ])"
      ]
     },
     "execution_count": 11,
     "metadata": {},
     "output_type": "execute_result"
    }
   ],
   "source": [
    "# verify that the Markov chain has a steady state\n",
    "evals, evecs = np.linalg.eig(A)\n",
    "evals"
   ]
  },
  {
   "cell_type": "code",
   "execution_count": 12,
   "metadata": {},
   "outputs": [
    {
     "data": {
      "text/plain": [
       "array([0.125, 0.875])"
      ]
     },
     "execution_count": 12,
     "metadata": {},
     "output_type": "execute_result"
    }
   ],
   "source": [
    "# the normalized eigenvector for the eigenvalue 1:\n",
    "steady_state = evecs[:,1]/sum(evecs[:,1])\n",
    "steady_state"
   ]
  },
  {
   "cell_type": "code",
   "execution_count": 13,
   "metadata": {},
   "outputs": [
    {
     "data": {
      "text/plain": [
       "array([12.5, 87.5])"
      ]
     },
     "execution_count": 13,
     "metadata": {},
     "output_type": "execute_result"
    }
   ],
   "source": [
    "# multiply it by the population to find the final system's steady state\n",
    "100*steady_state"
   ]
  },
  {
   "cell_type": "code",
   "execution_count": 14,
   "metadata": {},
   "outputs": [
    {
     "data": {
      "text/plain": [
       "array([[12.49999967],\n",
       "       [87.50000033]])"
      ]
     },
     "execution_count": 14,
     "metadata": {},
     "output_type": "execute_result"
    }
   ],
   "source": [
    "# note that if we plug in a really big value of t, we should get close to this:\n",
    "A = np.array([[.86, .02],\n",
    "              [.14, .98]])\n",
    "# say we start with a fully healthy population\n",
    "x0 = np.array([[0],\n",
    "               [100]])\n",
    "\n",
    "# how many people have covid after 100 days?\n",
    "# can use np.linalg.matrix_power()\n",
    "x100 = np.linalg.matrix_power(A, 100).dot(x0)\n",
    "x100"
   ]
  },
  {
   "cell_type": "markdown",
   "metadata": {},
   "source": [
    "### Markov Chains Notes\n",
    "\n",
    "- These are the *most basic* version of Markov chains:\n",
    "  - Discrete state space (observations may only be in one state at a time)\n",
    "  - Discrete time (we only measure the system at discrete time points)\n",
    "  - Static probabilities (as opposed to Dynamic: the probabilities remain the same at each time point)\n",
    "- This does limit the utility of this version, but hopefully you can see some of the extensions\n",
    "- Markov chains are used in many applications but mainly:\n",
    "  - Data simulation\n",
    "  - Parameter estimation (for complex models)\n",
    " \n",
    "How might you use real data to estimate a Markov chain?"
   ]
  },
  {
   "cell_type": "code",
   "execution_count": 20,
   "metadata": {},
   "outputs": [
    {
     "data": {
      "text/html": [
       "<div>\n",
       "<style scoped>\n",
       "    .dataframe tbody tr th:only-of-type {\n",
       "        vertical-align: middle;\n",
       "    }\n",
       "\n",
       "    .dataframe tbody tr th {\n",
       "        vertical-align: top;\n",
       "    }\n",
       "\n",
       "    .dataframe thead th {\n",
       "        text-align: right;\n",
       "    }\n",
       "</style>\n",
       "<table border=\"1\" class=\"dataframe\">\n",
       "  <thead>\n",
       "    <tr style=\"text-align: right;\">\n",
       "      <th></th>\n",
       "      <th>Values</th>\n",
       "      <th>Change</th>\n",
       "    </tr>\n",
       "  </thead>\n",
       "  <tbody>\n",
       "    <tr>\n",
       "      <th>95</th>\n",
       "      <td>427.277555</td>\n",
       "      <td>I</td>\n",
       "    </tr>\n",
       "    <tr>\n",
       "      <th>96</th>\n",
       "      <td>427.264812</td>\n",
       "      <td>D</td>\n",
       "    </tr>\n",
       "    <tr>\n",
       "      <th>97</th>\n",
       "      <td>426.310416</td>\n",
       "      <td>D</td>\n",
       "    </tr>\n",
       "    <tr>\n",
       "      <th>98</th>\n",
       "      <td>428.634759</td>\n",
       "      <td>I</td>\n",
       "    </tr>\n",
       "    <tr>\n",
       "      <th>99</th>\n",
       "      <td>427.946656</td>\n",
       "      <td>D</td>\n",
       "    </tr>\n",
       "  </tbody>\n",
       "</table>\n",
       "</div>"
      ],
      "text/plain": [
       "        Values Change\n",
       "95  427.277555      I\n",
       "96  427.264812      D\n",
       "97  426.310416      D\n",
       "98  428.634759      I\n",
       "99  427.946656      D"
      ]
     },
     "execution_count": 20,
     "metadata": {},
     "output_type": "execute_result"
    }
   ],
   "source": [
    "# imagine you have 100 days of stock values, and whether or not the stock increased or decreased from the day before\n",
    "stock_vals = [400]\n",
    "stock_chng = ['I'] # assume day 0 was an increase from the previous day\n",
    "for i in range(99):\n",
    "    inc = np.random.uniform(-2, 3)\n",
    "    stock_vals.append(stock_vals[i] + inc)\n",
    "    if inc > 0:\n",
    "        stock_chng.append('I')\n",
    "    else:\n",
    "        stock_chng.append('D')\n",
    "\n",
    "stock_df = pd.DataFrame({'Values': stock_vals,\n",
    "                         'Change': stock_chng})\n",
    "stock_df.tail()"
   ]
  },
  {
   "cell_type": "code",
   "execution_count": 22,
   "metadata": {},
   "outputs": [
    {
     "data": {
      "image/png": "[encoded data removed]",
      "text/plain": [
       "<Figure size 640x480 with 1 Axes>"
      ]
     },
     "metadata": {},
     "output_type": "display_data"
    }
   ],
   "source": [
    "import matplotlib.pyplot as plt\n",
    "plt.plot(list(range(100)), stock_df.Values)\n",
    "plt.xlabel('Day')\n",
    "plt.ylabel('Value');"
   ]
  },
  {
   "cell_type": "code",
   "execution_count": 25,
   "metadata": {},
   "outputs": [
    {
     "data": {
      "text/plain": [
       "array([[23., 29.],\n",
       "       [28., 19.]])"
      ]
     },
     "execution_count": 25,
     "metadata": {},
     "output_type": "execute_result"
    }
   ],
   "source": [
    "# To estimate the transition probability matrix for the stock\n",
    "# loop through and record how many days were I->I, D->I, I->D, D->D\n",
    "Tmat = np.zeros((2, 2))\n",
    "for i in range(len(stock_chng)-1):\n",
    "    if stock_chng[i+1] == 'I' and stock_chng[i] == 'I':\n",
    "        Tmat[0,0] += 1\n",
    "    if stock_chng[i+1] == 'I' and stock_chng[i] == 'D':\n",
    "        Tmat[1,0] += 1\n",
    "    if stock_chng[i+1] == 'D' and stock_chng[i] == 'I':\n",
    "        Tmat[0,1] += 1\n",
    "    if stock_chng[i+1] == 'D' and stock_chng[i] == 'D':\n",
    "        Tmat[1,1] += 1\n",
    "\n",
    "Tmat"
   ]
  },
  {
   "cell_type": "code",
   "execution_count": 30,
   "metadata": {},
   "outputs": [
    {
     "data": {
      "text/plain": [
       "array([[0.45098039, 0.60416667],\n",
       "       [0.54901961, 0.39583333]])"
      ]
     },
     "execution_count": 30,
     "metadata": {},
     "output_type": "execute_result"
    }
   ],
   "source": [
    "# divide by the column totals to get the matrix (COLUMNS should add to 1)\n",
    "# if you had a portfolio of stocks, you would take the weighted average of all their transition matrices\n",
    "# weighted by the proportion of stocks owned (but also note that this is an incredible oversimplification of a complex problem)\n",
    "Pmat = Tmat/sum(Tmat)\n",
    "Pmat"
   ]
  },
  {
   "cell_type": "code",
   "execution_count": 31,
   "metadata": {},
   "outputs": [
    {
     "data": {
      "text/plain": [
       "array([ 1.        , -0.15318627])"
      ]
     },
     "execution_count": 31,
     "metadata": {},
     "output_type": "execute_result"
    }
   ],
   "source": [
    "# and the steady state, if it exists, tells you in the long run what happens with the stock\n",
    "evals, evecs = np.linalg.eig(Pmat)\n",
    "evals"
   ]
  },
  {
   "cell_type": "code",
   "execution_count": 32,
   "metadata": {},
   "outputs": [
    {
     "data": {
      "text/plain": [
       "array([0.52391073, 0.47608927])"
      ]
     },
     "execution_count": 32,
     "metadata": {},
     "output_type": "execute_result"
    }
   ],
   "source": [
    "# the normalized eigenvector for the eigenvalue 1:\n",
    "steady_state = evecs[:,0]/sum(evecs[:,0])\n",
    "steady_state\n",
    "# implies that in the long run (assuming this Markov chain fits the data), the stock will give a 2.39% return (based on the random data I simulated)"
   ]
  },
  {
   "cell_type": "code",
   "execution_count": null,
   "metadata": {},
   "outputs": [],
   "source": []
  }
 ],
 "metadata": {
  "celltoolbar": "Slideshow",
  "kernelspec": {
   "display_name": "Python 3 (ipykernel)",
   "language": "python",
   "name": "python3"
  },
  "language_info": {
   "codemirror_mode": {
    "name": "ipython",
    "version": 3
   },
   "file_extension": ".py",
   "mimetype": "text/x-python",
   "name": "python",
   "nbconvert_exporter": "python",
   "pygments_lexer": "ipython3",
   "version": "3.11.9"
  }
 },
 "nbformat": 4,
 "nbformat_minor": 4
}
