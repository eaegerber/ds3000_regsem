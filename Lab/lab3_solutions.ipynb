{
 "cells": [
  {
   "cell_type": "markdown",
   "id": "f3fbf055",
   "metadata": {},
   "source": [
    "# Lab 3 Solutions (just code, because I ran out of time)"
   ]
  },
  {
   "cell_type": "code",
   "execution_count": 1,
   "id": "161d4a7b",
   "metadata": {},
   "outputs": [],
   "source": [
    "import warnings\n",
    "warnings.simplefilter(action='ignore', category=FutureWarning)\n",
    "\n",
    "import requests\n",
    "from datetime import datetime\n",
    "import pandas as pd\n",
    "import matplotlib.pyplot as plt\n",
    "from bs4 import BeautifulSoup\n",
    "import re"
   ]
  },
  {
   "cell_type": "markdown",
   "id": "df3aba1e",
   "metadata": {},
   "source": [
    "## Part 1"
   ]
  },
  {
   "cell_type": "code",
   "execution_count": 2,
   "id": "e106bfa7",
   "metadata": {},
   "outputs": [],
   "source": [
    "def get_airport_html(code):\n",
    "    url = f'https://flightaware.com/live/airport/K{code}'\n",
    "    return requests.get(url).text\n",
    "\n",
    "url_text = get_airport_html('BOS')"
   ]
  },
  {
   "cell_type": "markdown",
   "id": "dd906955",
   "metadata": {},
   "source": [
    "## Part 2"
   ]
  },
  {
   "cell_type": "code",
   "execution_count": 3,
   "id": "e8af1e7c",
   "metadata": {},
   "outputs": [],
   "source": [
    "def get_airport_table_soup(html, board):\n",
    "    big_soup = BeautifulSoup(html)\n",
    "    soup = big_soup.find_all(id=board)[0]\n",
    "    return soup\n",
    "\n",
    "arrivals = get_airport_table_soup(url_text, 'arrivals-board')"
   ]
  },
  {
   "cell_type": "markdown",
   "id": "182f4188",
   "metadata": {},
   "source": [
    "## Part 3"
   ]
  },
  {
   "cell_type": "code",
   "execution_count": 4,
   "id": "2da28770",
   "metadata": {},
   "outputs": [],
   "source": [
    "def clean_board_df(soup):\n",
    "    names = soup.find_all('span', attrs = {'title':True})\n",
    "    flight_number = []\n",
    "    aircraft_type = []\n",
    "    airport_name = []\n",
    "    for idx in range(0, len(names), 3):\n",
    "        flight_number.append(names[idx].text)\n",
    "        aircraft_type.append(names[idx+1].text)\n",
    "        airport_name.append(names[idx+2].text)\n",
    "        \n",
    "    codes = soup.find_all(attrs = {'dir': 'ltr'})\n",
    "    airport_code = []\n",
    "    for idx in range(0, len(codes), 2):\n",
    "        airport_code.append(codes[idx+1].text.replace(\"(\", \"\").replace(\")\", \"\"))\n",
    "    \n",
    "    times = soup.find_all(class_='tz')\n",
    "    departure_time = []\n",
    "    arrival_time = []\n",
    "    for idx in range(0, len(times), 2):\n",
    "        dep_split_string = times[idx].previous_sibling.split('\\xa0')\n",
    "        arr_split_string = times[idx+1].previous_sibling.split('\\xa0')\n",
    "        \n",
    "        if dep_split_string[0].endswith('a') == True:\n",
    "            dep_datetime_str = dep_split_string[0][:-1] + ' AM'\n",
    "            dep_datetime_time = datetime.strptime(dep_datetime_str, '%I:%M %p').time()\n",
    "            departure_time.append(dep_datetime_time)\n",
    "        else:\n",
    "            dep_datetime_str = dep_split_string[0][:-1] + ' PM'\n",
    "            dep_datetime_time = datetime.strptime(dep_datetime_str, '%I:%M %p').time()\n",
    "            departure_time.append(dep_datetime_time)\n",
    "        \n",
    "        if arr_split_string[0].endswith('a') == True:\n",
    "            arr_datetime_str = arr_split_string[0][:-1] + ' AM'\n",
    "            arr_datetime_time = datetime.strptime(arr_datetime_str, '%I:%M %p').time()\n",
    "            arrival_time.append(arr_datetime_time)\n",
    "        else:\n",
    "            arr_datetime_str = arr_split_string[0][:-1] + ' PM'\n",
    "            arr_datetime_time = datetime.strptime(arr_datetime_str, '%I:%M %p').time()\n",
    "            arrival_time.append(arr_datetime_time)\n",
    "    \n",
    "    clean_board_dict = {'flight number': flight_number,\n",
    "                        'aircraft type': aircraft_type,\n",
    "                        'airport name': airport_name,\n",
    "                        'airport code': airport_code,\n",
    "                        'departure time': departure_time,\n",
    "                        'arrival time': arrival_time}\n",
    "    clean_board_df = pd.DataFrame.from_dict(clean_board_dict)\n",
    "    \n",
    "    return clean_board_df\n",
    "    \n",
    "clean_df = clean_board_df(arrivals)"
   ]
  },
  {
   "cell_type": "markdown",
   "id": "0f2364e9",
   "metadata": {},
   "source": [
    "## Part 4"
   ]
  },
  {
   "cell_type": "code",
   "execution_count": 5,
   "id": "6c5c57ec",
   "metadata": {},
   "outputs": [],
   "source": [
    "def get_aircraft_info(clean_df):\n",
    "    aircraft_type = list(clean_df['aircraft type'])\n",
    "    num_type = []\n",
    "    for idx in range(len(aircraft_type)):\n",
    "        craft_url = f'https://flightaware.com/live/aircrafttype/{aircraft_type[idx]}'\n",
    "        craft_tables = pd.read_html(craft_url)\n",
    "        num_type.append(craft_tables[2].shape[0])\n",
    "        \n",
    "    clean_df['num type'] = pd.Series(num_type)\n",
    "    \n",
    "    return clean_df\n",
    "\n",
    "final_df = get_aircraft_info(clean_df)"
   ]
  },
  {
   "cell_type": "markdown",
   "id": "86f602b0",
   "metadata": {},
   "source": [
    "## Part 5"
   ]
  },
  {
   "cell_type": "code",
   "execution_count": 7,
   "id": "677b1484",
   "metadata": {},
   "outputs": [
    {
     "data": {
      "image/png": "[encoded data removed]",
      "text/plain": [
       "<Figure size 1000x500 with 1 Axes>"
      ]
     },
     "metadata": {},
     "output_type": "display_data"
    }
   ],
   "source": [
    "types = list(final_df['aircraft type'])\n",
    "num = list(final_df['num type'])\n",
    "  \n",
    "fig = plt.figure(figsize = (10, 5))\n",
    " \n",
    "# creating the bar plot\n",
    "plt.bar(types, num)\n",
    " \n",
    "plt.xlabel(\"Aircraft Type\")\n",
    "plt.ylabel(\"No. of Active Craft\")\n",
    "plt.title(\"Number of Active Crafts per Type\")\n",
    "plt.show()"
   ]
  },
  {
   "cell_type": "code",
   "execution_count": null,
   "id": "865c67d3",
   "metadata": {},
   "outputs": [],
   "source": []
  }
 ],
 "metadata": {
  "kernelspec": {
   "display_name": "Python 3 (ipykernel)",
   "language": "python",
   "name": "python3"
  },
  "language_info": {
   "codemirror_mode": {
    "name": "ipython",
    "version": 3
   },
   "file_extension": ".py",
   "mimetype": "text/x-python",
   "name": "python",
   "nbconvert_exporter": "python",
   "pygments_lexer": "ipython3",
   "version": "3.10.2"
  }
 },
 "nbformat": 4,
 "nbformat_minor": 5
}
