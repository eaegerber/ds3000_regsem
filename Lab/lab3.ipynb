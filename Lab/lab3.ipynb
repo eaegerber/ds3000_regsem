{
 "cells": [
  {
   "cell_type": "markdown",
   "id": "b3b00bdc",
   "metadata": {},
   "source": [
    "# Lab 3 (Due @ by 11:59 pm via Canvas/Gradescope)\n",
    "\n",
    "## Group Work\n",
    "\n",
    "You are encouraged to work in groups for this Lab, however each student should submit their own notebook file to Gradescope. While each Part of the Lab depends on previous Parts, talking through the problem with your group should help speed up both understanding and arriving at a solution. "
   ]
  },
  {
   "cell_type": "markdown",
   "id": "ebe24ef1",
   "metadata": {},
   "source": [
    "## Boston Air Travel\n",
    "\n",
    "You will spend this lab creating a small data set scraped from [flightaware.com](https://flightaware.com/) which includes some details from the current flight schedule at Boston Logan Airport. Your data pipeline is as follows (these instructions will be repeated, along with some helpful tips, in each part):\n",
    "\n",
    "- Create a function `get_airport_html()` which visits the url of a given US airport code and grabs the html. Visit [flightaware.com](https://flightaware.com/) and type in a few codes (e.g. BOS, JFK, LAX, RDU) and notice the pattern in the url so that you can pass any airport code to the function as a string.\n",
    "\n",
    "- Create a function `get_airport_table_soup()` which takes the html from the previous function and outputs one of four beautiful soup objects, depending on the board you are interested in as defined by the `'id'` attribute:\n",
    "    - `id='arrivals-board'`\n",
    "    - `id='departures-board'`\n",
    "    - `id='enroute-board'`\n",
    "    - `id='scheduled-board'`\n",
    "    \n",
    "    The function should take two arguments: the html object from `get_airport_html()` and a string that specifies the `id` you are interested in.\n",
    "    \n",
    "- Create a function `clean_board_df()` which takes the soup object from the previous function and creates a data frame with the following columns:\n",
    "    - `flight number`: the flight number\n",
    "    - `aircraft type`: the type of aircraft\n",
    "    - `airport name`: the name of the originating/destination airport (depending on type of board)\n",
    "    - `airport code`: the letter code of the originating/destination airport\n",
    "    - `departure time`: the time of the flight's departure\n",
    "    - `arrival time`: the time of the flight's arrival\n",
    "    \n",
    "- Create a function `get_aircraft_info()` which cycles through the different aircraft types in the data frame from the previous part and appends a column with a count of the number of aircrafts currently operating of that type.\n",
    "\n",
    "- Create a bar plot which displays the number of active aircraft for each type."
   ]
  },
  {
   "cell_type": "code",
   "execution_count": null,
   "id": "dd74dfc5",
   "metadata": {},
   "outputs": [],
   "source": [
    "# you will use the below modules on this lab\n",
    "\n",
    "import warnings\n",
    "warnings.simplefilter(action='ignore', category=FutureWarning)\n",
    "\n",
    "import requests\n",
    "from datetime import datetime\n",
    "import pandas as pd\n",
    "import matplotlib.pyplot as plt\n",
    "from bs4 import BeautifulSoup"
   ]
  },
  {
   "cell_type": "markdown",
   "id": "2f5d7256",
   "metadata": {},
   "source": [
    "## Part 1\n",
    "\n",
    "Complete the function `get_airport_html()` below (including docstring) which visits the url of a given US airport code and grabs the html. Visit [flightaware.com](https://flightaware.com/) and type in a few codes (e.g. BOS, JFK, LAX, RDU) and notice the pattern in the url so that you can pass any airport code to the function as a string. **Make sure to remove the `pass` statement when you are finished**. I have written the code you should run once the function is completed."
   ]
  },
  {
   "cell_type": "code",
   "execution_count": null,
   "id": "3b4a38ea",
   "metadata": {},
   "outputs": [],
   "source": [
    "def get_airport_html(code):\n",
    "    \n",
    "    pass\n"
   ]
  },
  {
   "cell_type": "code",
   "execution_count": null,
   "id": "c538473b",
   "metadata": {},
   "outputs": [],
   "source": [
    "# when you are done the following code should be run\n",
    "url_text = get_airport_html('BOS')"
   ]
  },
  {
   "cell_type": "markdown",
   "id": "33832ccc",
   "metadata": {},
   "source": [
    "## Part 2\n",
    "\n",
    "Complete the function `get_airport_table_soup()` below (including docstring) which takes the html from the previous function and outputs one of four beautiful soup objects, depending on the board you are interested in as defined by the `'id'` attribute:\n",
    "    - `id='arrivals-board'`\n",
    "    - `id='departures-board'`\n",
    "    - `id='enroute-board'`\n",
    "    - `id='scheduled-board'`\n",
    "    \n",
    "The function should take two arguments: the html object from `get_airport_html()` and a string that specifies the `id` you are interested in.\n",
    "    \n",
    "**Make sure to remove the `pass` statement when you are finished.** "
   ]
  },
  {
   "cell_type": "code",
   "execution_count": null,
   "id": "ad58040a",
   "metadata": {},
   "outputs": [],
   "source": [
    "def get_airport_table_soup(html, board):\n",
    "    \n",
    "    pass\n"
   ]
  },
  {
   "cell_type": "code",
   "execution_count": null,
   "id": "ea519a76",
   "metadata": {},
   "outputs": [],
   "source": [
    "# when you are done, replace 'put-your-choice-here' with the board of your choice \n",
    "# (e.g. 'arrivals-board') and run the code below\n",
    "board_choice = 'put-your-choice-here'\n",
    "my_board_soup = get_airport_table_soup(url_text, board_choice)"
   ]
  },
  {
   "cell_type": "markdown",
   "id": "bf477c6b",
   "metadata": {},
   "source": [
    "## Part 3\n",
    "\n",
    "Together, we will create a function `clean_board_df()` which takes the soup object from the previous function and creates a data frame with the following columns:\n",
    "    - `flight number`: the flight number\n",
    "    - `aircraft type`: the type of aircraft\n",
    "    - `airport name`: the name of the originating/destination airport (depending on type of board)\n",
    "    - `airport code`: the letter code of the originating/destination airport\n",
    "    - `departure time`: the time of the flight's departure\n",
    "    - `arrival time`: the time of the flight's arrival\n",
    "    \n",
    "The cells below are meant to help guide you through creating the function. **Note that the cells will not run if you have not completed Part 2 correctly.**"
   ]
  },
  {
   "cell_type": "markdown",
   "id": "f831c81f",
   "metadata": {},
   "source": [
    "### Part 3.1\n",
    "\n",
    "You can look for certain attributes within tags with the `attrs = {}` argument in the `.find_all()` function. You may select tags with attributes equal to certain values (e.g. `soup.find_all('tag', attrs = {'my_att':'att_value'})`) or you can simply select tags that have the attribute at all (e.g. `soup.find_all('tag', attrs = {'my_att':True})`).\n",
    "\n",
    "In this part, we will create lists for the first three columns. Examine the results of the `.find_all()` call below and then complete the code in the following cell.\n",
    "\n",
    "- **Hint**: you will want to think carefully about how to loop through the resulting `.find_all()` list to fill out the three lists of interest. Looking at how Part 3.2 is done may be helpful."
   ]
  },
  {
   "cell_type": "code",
   "execution_count": null,
   "id": "8be2217e",
   "metadata": {},
   "outputs": [],
   "source": [
    "flight_dets = my_board_soup.find_all('span', attrs = {'title':True})\n",
    "flight_dets"
   ]
  },
  {
   "cell_type": "code",
   "execution_count": null,
   "id": "a784273c",
   "metadata": {},
   "outputs": [],
   "source": [
    "# create three lists (flight_number, aircraft_type, and airport_name), \n",
    "# then loop through flight_dets to fill them out appropriately.\n"
   ]
  },
  {
   "cell_type": "markdown",
   "id": "8c47b32a",
   "metadata": {},
   "source": [
    "### Part 3.2\n",
    "\n",
    "You do not necessarily have to specify a tag in `find.all()`: we've seen this when we used `class_=` or `id=`, and the same is true of using `attrs =`. The code below will recover the fourth column of our data frame. **Add a comment above or below *each row* explaining what it is doing.**"
   ]
  },
  {
   "cell_type": "code",
   "execution_count": null,
   "id": "e674a6cd",
   "metadata": {},
   "outputs": [],
   "source": [
    "codes = my_board_soup.find_all(attrs = {'dir': 'ltr'})\n",
    "airport_code = []\n",
    "for idx in range(0, len(codes), 2):\n",
    "    get_code_text = codes[idx+1].text\n",
    "    alter_code = get_code_text.replace(\"(\", \"\").replace(\")\", \"\")\n",
    "    airport_code.append(alter_code)"
   ]
  },
  {
   "cell_type": "markdown",
   "id": "867dd0b7",
   "metadata": {},
   "source": [
    "### Part 3.3.1\n",
    "\n",
    "Getting the times to work is going to be tricky. Run the code below, which will print out the departure and arrival time of the first flight in your data as it is scraped from the url. **In a markdown cell after, explain why this raw string will not be easy to convert to a time object.**"
   ]
  },
  {
   "cell_type": "code",
   "execution_count": null,
   "id": "9a085b24",
   "metadata": {},
   "outputs": [],
   "source": [
    "times = my_board_soup.find_all(class_='tz')\n",
    "times[0].previous_sibling #prints the departure time of the first flight\n",
    "times[1].previous_sibling #prints the arrival time of the first flight"
   ]
  },
  {
   "cell_type": "markdown",
   "id": "89147e53",
   "metadata": {},
   "source": []
  },
  {
   "cell_type": "markdown",
   "id": "432e57d0",
   "metadata": {},
   "source": [
    "### Part 3.3.2\n",
    "\n",
    "The code below gets the departure and arrival time for the first flight in the proper format. Read through the code so you understand what each step is doing, then in the following cell, create a list for each time (departure and arrival) and then build a loop that fills out the two lists for all flights. **Make sure you comment your code well.**\n",
    "\n",
    "- **Hint**: as in the previous two parts, you will want to think carefully about how to specify your loop."
   ]
  },
  {
   "cell_type": "code",
   "execution_count": null,
   "id": "c482725c",
   "metadata": {},
   "outputs": [],
   "source": [
    "dep_split_string = times[0].previous_sibling.split('\\xa0')[0]\n",
    "arr_split_string = times[1].previous_sibling.split('\\xa0')[0]\n",
    "        \n",
    "if dep_split_string.endswith('a') == True:\n",
    "    dep_datetime_str = dep_split_string[0][:-1] + ' AM'\n",
    "    dep_datetime_time = datetime.strptime(dep_datetime_str, '%I:%M %p').time()\n",
    "else:\n",
    "    dep_datetime_str = dep_split_string[0][:-1] + ' PM'\n",
    "    dep_datetime_time = datetime.strptime(dep_datetime_str, '%I:%M %p').time()\n",
    "        \n",
    "if arr_split_string.endswith('a') == True:\n",
    "    arr_datetime_str = arr_split_string[0][:-1] + ' AM'\n",
    "    arr_datetime_time = datetime.strptime(arr_datetime_str, '%I:%M %p').time()\n",
    "else:\n",
    "    arr_datetime_str = arr_split_string[0][:-1] + ' PM'\n",
    "    arr_datetime_time = datetime.strptime(arr_datetime_str, '%I:%M %p').time()\n",
    "\n",
    "print(dep_datetime_time)\n",
    "print(arr_datetime_time)"
   ]
  },
  {
   "cell_type": "code",
   "execution_count": null,
   "id": "9437d6c8",
   "metadata": {},
   "outputs": [],
   "source": []
  },
  {
   "cell_type": "markdown",
   "id": "add7f180",
   "metadata": {},
   "source": [
    "### Part 3.4\n",
    "\n",
    "Bring the previous three parts together in the function below. The function has been partially written for your convenience. **The code for Part 4 will not work unless this code works.** Then run the code in the following cell to build your data frame."
   ]
  },
  {
   "cell_type": "code",
   "execution_count": null,
   "id": "99094693",
   "metadata": {},
   "outputs": [],
   "source": [
    "def clean_board_df(soup):\n",
    "    '''takes a soup object of a board and turns it into a data frame with flight info\n",
    "    \n",
    "    Args:\n",
    "        soup (soup): a soup object scraped from flightaware.com using get_airport_table_soup()\n",
    "        \n",
    "    Returns:\n",
    "        clean_board_df (data frame): a data frame with six columns of flight info \n",
    "                                     (flight number, aircraft type, airport name, airport code, departure time, arrival time)\n",
    "    '''\n",
    "    \n",
    "    # create the lists for the first three columns (Part 3.1)\n",
    "        \n",
    "    # create the list for the airport code (Part 3.2)\n",
    "    \n",
    "    # create the lists for the departure and arrival time (Part 3.3)\n",
    "    \n",
    "    # the below dictionary assumes you have named your lists as they are in the values\n",
    "    clean_board_dict = {'flight number': flight_number,\n",
    "                        'aircraft type': aircraft_type,\n",
    "                        'airport name': airport_name,\n",
    "                        'airport code': airport_code,\n",
    "                        'departure time': departure_time,\n",
    "                        'arrival time': arrival_time}\n",
    "    \n",
    "    clean_board_df = pd.DataFrame.from_dict(clean_board_dict)\n",
    "      \n",
    "    return clean_board_df"
   ]
  },
  {
   "cell_type": "code",
   "execution_count": null,
   "id": "654609fc",
   "metadata": {},
   "outputs": [],
   "source": [
    "# when you are done the following code should be run\n",
    "clean_df = clean_board_df(my_board_soup)\n",
    "clean_df"
   ]
  },
  {
   "cell_type": "markdown",
   "id": "b8b093e3",
   "metadata": {},
   "source": [
    "## Part 4\n",
    "\n",
    "Below (already written for you) is the function `get_aircraft_info()` which cycles through the different aircraft types in the data frame from the previous part and appends a column with a count of the number of aircrafts currently operating of that type. **Write a docstring, comment *each line* of the code clearly, and then in a markdown cell, explain in why we were able to use `pd.read_html()` instead of `requests.get()`**.\n",
    "\n",
    "- **Hint**: you may want to take a look at an example url in your browser."
   ]
  },
  {
   "cell_type": "code",
   "execution_count": null,
   "id": "9de657ac",
   "metadata": {},
   "outputs": [],
   "source": [
    "def get_aircraft_info(clean_df):\n",
    "    \n",
    "    \n",
    "    aircraft_type = list(clean_df['aircraft type'])\n",
    "    num_type = []\n",
    "    for idx in range(len(aircraft_type)):\n",
    "        craft_url = f'https://flightaware.com/live/aircrafttype/{aircraft_type[idx]}'\n",
    "        craft_tables = pd.read_html(craft_url)\n",
    "        num_type.append(craft_tables[2].shape[0])\n",
    "        \n",
    "    clean_df['num type'] = pd.Series(num_type)\n",
    "    \n",
    "    return clean_df\n",
    "\n",
    "final_df = get_aircraft_info(clean_df)\n",
    "final_df"
   ]
  },
  {
   "cell_type": "markdown",
   "id": "3c207ac7",
   "metadata": {},
   "source": []
  },
  {
   "cell_type": "markdown",
   "id": "6e0ec032",
   "metadata": {},
   "source": [
    "## Part 5\n",
    "\n",
    "Create a bar plot which displays the number of active aircraft for each type using the `.bar()` function from matplotlib. It should only take two arguments:\n",
    "\n",
    "```python\n",
    "plt.bar(x, y)\n",
    "```\n",
    "\n",
    "**Make sure you include axis labels and a title, then *In a Markdown cell* explain why you think none of the aircraft have a bar higher than 20.**"
   ]
  },
  {
   "cell_type": "code",
   "execution_count": null,
   "id": "d997f55c",
   "metadata": {},
   "outputs": [],
   "source": []
  },
  {
   "cell_type": "markdown",
   "id": "6e9b7b22",
   "metadata": {},
   "source": []
  }
 ],
 "metadata": {
  "kernelspec": {
   "display_name": "Python 3 (ipykernel)",
   "language": "python",
   "name": "python3"
  },
  "language_info": {
   "codemirror_mode": {
    "name": "ipython",
    "version": 3
   },
   "file_extension": ".py",
   "mimetype": "text/x-python",
   "name": "python",
   "nbconvert_exporter": "python",
   "pygments_lexer": "ipython3",
   "version": "3.10.2"
  }
 },
 "nbformat": 4,
 "nbformat_minor": 5
}
