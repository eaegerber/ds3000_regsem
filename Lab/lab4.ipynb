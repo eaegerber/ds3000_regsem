{
 "cells": [
  {
   "cell_type": "markdown",
   "id": "5169a877",
   "metadata": {},
   "source": [
    "# Lab 4 (Due @ by 11:59 pm via Canvas/Gradescope)\n",
    "\n",
    "## Group Work\n",
    "\n",
    "You are encouraged to work in groups for this Lab, however each student should submit their own notebook file to Gradescope. While you will be able to do this on your own, talking through the problem with your group could help speed up both understanding and arriving at a solution. "
   ]
  },
  {
   "cell_type": "markdown",
   "id": "9e467ee4",
   "metadata": {},
   "source": [
    "# Simple Linear Regression\n",
    "## Baseball\n",
    "\n",
    "There are many different features which may help predict the winning percentage of a sports team. One which may make the most sense is the point differential: how many more points one team scores than another. In this lab, you will conduct a Linear Regression to determine how well point differential in baseball predicts winning percentage."
   ]
  },
  {
   "cell_type": "code",
   "execution_count": null,
   "id": "6db0d68c",
   "metadata": {},
   "outputs": [],
   "source": [
    "# modules you'll need\n",
    "import warnings\n",
    "warnings.simplefilter(action='ignore', category=FutureWarning)\n",
    "import pandas as pd\n",
    "import seaborn as sns\n",
    "import numpy as np\n",
    "import matplotlib.pyplot as plt\n",
    "from sklearn.linear_model import LinearRegression\n",
    "from sklearn.metrics import r2_score\n",
    "import pylab as py\n",
    "import scipy.stats as stats"
   ]
  },
  {
   "cell_type": "code",
   "execution_count": null,
   "id": "79c98519",
   "metadata": {},
   "outputs": [],
   "source": [
    "# the data are read in and the two features of interest (x and y) are defined here for you\n",
    "df_mlb = pd.read_csv('modern_mlb_teams.csv')\n",
    "df_mlb['RunDiff'] = df_mlb['R'] - df_mlb['RA'] # a positive RunDiff (x) means that the team scored more than their opponents\n",
    "df_mlb['WinPCT'] = df_mlb['W'] / (df_mlb['W'] + df_mlb['L']) # this is the teams winning percentage (y)"
   ]
  },
  {
   "cell_type": "markdown",
   "id": "6b63de1e",
   "metadata": {},
   "source": [
    "## Part 1: Reading Plots and Intuition (3 points)\n",
    "\n",
    "Run the code below (you do not have to alter it in any way). In a markdown cell after you've run it, discuss in a couple sentences whether your intuition tells you that these two features are appropriate to analyze with the Linear Regression algorithm."
   ]
  },
  {
   "cell_type": "code",
   "execution_count": null,
   "id": "21caf59a",
   "metadata": {
    "scrolled": true
   },
   "outputs": [],
   "source": [
    "sns.set()\n",
    "\n",
    "x = np.array(df_mlb['RunDiff']).reshape((-1,1))\n",
    "y = np.array(df_mlb['WinPCT'])\n",
    "\n",
    "plt.figure()\n",
    "plt.scatter(x, y, alpha = .5)\n",
    "plt.xlabel('RunDiff')\n",
    "plt.ylabel('WinPCT')\n",
    "plt.suptitle('Relationship between MLB RunDiff and WinPCT');"
   ]
  },
  {
   "cell_type": "markdown",
   "id": "89ddd039",
   "metadata": {},
   "source": []
  },
  {
   "cell_type": "markdown",
   "id": "65102090",
   "metadata": {},
   "source": [
    "## Part 2: Fitting the Model and Interpreting Slope and Intercept (12 points)\n",
    "\n",
    "Use the `LinearRegression()` function to fit the model and then to `.predict()`. Also calculate the slope and intercept, and provide the interpretation of each in the context of the problem. **Make sure you comment each line of your code**."
   ]
  },
  {
   "cell_type": "code",
   "execution_count": null,
   "id": "1d1c84a4",
   "metadata": {},
   "outputs": [],
   "source": []
  },
  {
   "cell_type": "markdown",
   "id": "004138de",
   "metadata": {},
   "source": []
  },
  {
   "cell_type": "markdown",
   "id": "a15bfb0d",
   "metadata": {},
   "source": [
    "## Part 3: $R^2$ and Concept Checking (4 points)\n",
    "\n",
    "Calculate $R^2$ and interpret it in the context of the problem. Explain in 1-2 sentences, in a markdown cell, why this $R^2$ might be a little misleading; what is one step you could take to make it a more trustworthy measure?"
   ]
  },
  {
   "cell_type": "code",
   "execution_count": null,
   "id": "f0c6009d",
   "metadata": {},
   "outputs": [],
   "source": []
  },
  {
   "cell_type": "markdown",
   "id": "aba7f71c",
   "metadata": {},
   "source": []
  },
  {
   "cell_type": "markdown",
   "id": "d58a347d",
   "metadata": {},
   "source": [
    "## Part 4: Checking Assumptions (6 points)\n",
    "\n",
    "Run the code below (you do not have to alter it in any way, assuming that your true y values are called `y` and predictions are called `y_pred` from Part 2). Use the three error/residual plots to inform a short 2-3 sentence discussion, in a markdown cell, where you make a decision on whether the model is worth using or not. You **must** make direct reference to the plots below to support your discussion."
   ]
  },
  {
   "cell_type": "code",
   "execution_count": null,
   "id": "fcd87382",
   "metadata": {},
   "outputs": [],
   "source": [
    "errors = y - y_pred\n",
    "plt.scatter(x = range(len(y)), y = errors)\n",
    "plt.xlabel('index')\n",
    "plt.ylabel('errors')\n",
    "plt.suptitle('errors across index');"
   ]
  },
  {
   "cell_type": "code",
   "execution_count": null,
   "id": "0ef8de22",
   "metadata": {},
   "outputs": [],
   "source": [
    "plt.scatter(x = x, y = errors)\n",
    "plt.xlabel('RunDiff')\n",
    "plt.ylabel('errors')\n",
    "plt.suptitle('errors across RunDiff (x)');"
   ]
  },
  {
   "cell_type": "code",
   "execution_count": null,
   "id": "970db601",
   "metadata": {
    "scrolled": true
   },
   "outputs": [],
   "source": [
    "stats.probplot(errors, dist=\"norm\", plot=py)\n",
    "py.show()"
   ]
  },
  {
   "cell_type": "markdown",
   "id": "f22ca5ca",
   "metadata": {},
   "source": []
  }
 ],
 "metadata": {
  "kernelspec": {
   "display_name": "Python 3 (ipykernel)",
   "language": "python",
   "name": "python3"
  },
  "language_info": {
   "codemirror_mode": {
    "name": "ipython",
    "version": 3
   },
   "file_extension": ".py",
   "mimetype": "text/x-python",
   "name": "python",
   "nbconvert_exporter": "python",
   "pygments_lexer": "ipython3",
   "version": "3.8.10"
  }
 },
 "nbformat": 4,
 "nbformat_minor": 5
}
