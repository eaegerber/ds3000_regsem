{
 "cells": [
  {
   "cell_type": "markdown",
   "id": "b3b00bdc",
   "metadata": {},
   "source": [
    "# Lab 2 (Due by 11:59 pm via Canvas/Gradescope)\n",
    "\n",
    "## Part 1: Collecting Data and Creating Data Frames (8 points: 2 pts each)\n",
    "\n",
    "You will collect some data on your own typing speed and create a corresponding data frame. To collect the data, you will need to access [typingtest.com](https://www.typingtest.com/) and be prepared to record your results. The final data frame should look like:\n",
    "\n",
    "| time         | easy  | medium  |\n",
    "|--------------|-------|---------|\n",
    "|  minute1     |       |         |\n",
    "|  minute2     |       |         |\n",
    "|  minute3     |       |         |\n",
    "\n",
    "You will take from [typingtest.com](https://www.typingtest.com/):\n",
    "- two **1 minute** tests, one on **Easy** and one on **Medium** difficulty, recording the **Net WPM** for each\n",
    "- two **2 minutes** tests, one on **Easy** and one on **Medium** difficulty, recording the **Net WPM** for each\n",
    "- two **3 minutes** tests, one on **Easy** and one on **Medium** difficulty, recording the **Net WPM** for each\n",
    "\n",
    "You may record your results by hand and paper, or in an excel sheet.\n",
    "\n",
    "Some **Notes:**\n",
    "- `time` should be the index, not a feature column\n",
    "- the first thing you should do is import both `numpy` and `pandas`"
   ]
  },
  {
   "cell_type": "markdown",
   "id": "88d19d71",
   "metadata": {},
   "source": [
    "### (a) Create the data frame using an array, print it to show it worked."
   ]
  },
  {
   "cell_type": "code",
   "execution_count": null,
   "id": "c2f35a08",
   "metadata": {},
   "outputs": [],
   "source": []
  },
  {
   "cell_type": "markdown",
   "id": "14a5ad30",
   "metadata": {},
   "source": [
    "### (b) Create the data frame using a dictionary, print it to show it worked."
   ]
  },
  {
   "cell_type": "code",
   "execution_count": null,
   "id": "7df4a031",
   "metadata": {},
   "outputs": [],
   "source": []
  },
  {
   "cell_type": "markdown",
   "id": "f2afe793",
   "metadata": {},
   "source": [
    "### (c) Calculate:\n",
    "\n",
    "- (i) The average net speed for each time\n",
    "- (ii) The average net speed for each difficulty level"
   ]
  },
  {
   "cell_type": "code",
   "execution_count": null,
   "id": "cc795a29",
   "metadata": {},
   "outputs": [],
   "source": []
  },
  {
   "cell_type": "code",
   "execution_count": null,
   "id": "aa5a495b",
   "metadata": {},
   "outputs": [],
   "source": []
  },
  {
   "cell_type": "markdown",
   "id": "0e6e036c",
   "metadata": {},
   "source": [
    "### (d) Now take three more tests, the *1 minute*, *2 minutes*, and *3 minutes* tests on *Hard* difficulty, then add this new column of data (call it `hard`) onto your existing data frame. Print it to show it worked."
   ]
  },
  {
   "cell_type": "code",
   "execution_count": null,
   "id": "5bdd2944",
   "metadata": {},
   "outputs": [],
   "source": []
  },
  {
   "cell_type": "markdown",
   "id": "1b9aa434",
   "metadata": {},
   "source": [
    "## Part 2: Working with Data (17 points)\n",
    "\n",
    "Download the `pseudo_facebook.csv` file from the Labs Module on Canvas. This data set contains some demographic information from a subset of Facebook users ([Source](https://www.kaggle.com/datasets/sheenabatra/facebook-data)). You will use this data set to complete this part of the lab. You may continue working/discussing these problems in your group if you wish."
   ]
  },
  {
   "cell_type": "markdown",
   "id": "e74f2a83",
   "metadata": {},
   "source": [
    "### (a: 3 points) Read the data into your notebook using Pandas, making the `userid` column the index. Print it to show it worked."
   ]
  },
  {
   "cell_type": "code",
   "execution_count": null,
   "id": "bfe0d3a5",
   "metadata": {},
   "outputs": [],
   "source": []
  },
  {
   "cell_type": "markdown",
   "id": "a55abd34",
   "metadata": {},
   "source": [
    "### (b: 4 points) Use the `.describe()` function to get a sense of the data. In a markdown cell, discuss at least (2) of the features and what the data tell you (For example: think critically about what the average `age` might mean, or what the difference in `mobile_likes` and `www_likes` means; there are numerous takeaways you might have)."
   ]
  },
  {
   "cell_type": "code",
   "execution_count": null,
   "id": "40b771ae",
   "metadata": {},
   "outputs": [],
   "source": []
  },
  {
   "cell_type": "markdown",
   "id": "14b0d9da",
   "metadata": {},
   "source": []
  },
  {
   "cell_type": "markdown",
   "id": "c9534854",
   "metadata": {},
   "source": [
    "### (c: 4 points) Create three new columns for the data frame:\n",
    "- (i) `prop_init`: The proportion of friends that were initiated by the user: $\\frac{\\text{friendships_initiated}}{\\text{friend_count}}$\n",
    "- (ii) `prop_mob_likes`: The proportion of likes that were mobile: $\\frac{\\text{mobile_likes}}{\\text{likes}}$\n",
    "- (iii) `prop_www_likes`: The proportion of likes that were `www`: $\\frac{\\text{www_likes}}{\\text{likes}}$\n",
    "\n",
    "Print the **last** few rows of the new data set that includes these columns."
   ]
  },
  {
   "cell_type": "code",
   "execution_count": null,
   "id": "6a51e4cd",
   "metadata": {},
   "outputs": [],
   "source": []
  },
  {
   "cell_type": "markdown",
   "id": "b8f3727a",
   "metadata": {},
   "source": [
    "### (d: 3 points) The code below will generate a histogram of the birth month for all users in the data set. Run it and then in a markdown cell, comment on what you think the reason is that January has more births than any other month?"
   ]
  },
  {
   "cell_type": "code",
   "execution_count": null,
   "id": "df065910",
   "metadata": {},
   "outputs": [],
   "source": [
    "import matplotlib.pyplot as plt\n",
    "import numpy as np\n",
    "import seaborn as sns\n",
    "\n",
    "# \n",
    "sns.set(font_scale=1.2)\n",
    "\n",
    "bins = np.linspace(0.5, 12.5, 13)\n",
    "plt.hist(fb_df['dob_month'], bins=bins)\n",
    "plt.xlabel('birth month')\n",
    "plt.ylabel('count')"
   ]
  },
  {
   "cell_type": "markdown",
   "id": "50f74d36",
   "metadata": {},
   "source": []
  },
  {
   "cell_type": "markdown",
   "id": "43a8061f",
   "metadata": {},
   "source": [
    "### (e: 3 points) Adapt the code from (d) to create two histograms, one each for `prop_mob_likes` and `prop_www_likes` (which you created in (c)). Then, in a markdown cell, comment on the shapes of the two histograms and what they mean practically.\n",
    "\n",
    "**Notes**:\n",
    "- for your bins, use `np.linspace(0, 1, 11)`.\n",
    "- if you plot the histograms in the same python cell, they will be placed on top of each other (you can try and see what this looks like if you wish), but for readability, please create them in separate cells."
   ]
  },
  {
   "cell_type": "code",
   "execution_count": null,
   "id": "01dbbbe8",
   "metadata": {},
   "outputs": [],
   "source": []
  },
  {
   "cell_type": "code",
   "execution_count": null,
   "id": "65934f30",
   "metadata": {},
   "outputs": [],
   "source": []
  },
  {
   "cell_type": "markdown",
   "id": "a352da91",
   "metadata": {},
   "source": []
  }
 ],
 "metadata": {
  "kernelspec": {
   "display_name": "Python 3 (ipykernel)",
   "language": "python",
   "name": "python3"
  },
  "language_info": {
   "codemirror_mode": {
    "name": "ipython",
    "version": 3
   },
   "file_extension": ".py",
   "mimetype": "text/x-python",
   "name": "python",
   "nbconvert_exporter": "python",
   "pygments_lexer": "ipython3",
   "version": "3.10.2"
  }
 },
 "nbformat": 4,
 "nbformat_minor": 5
}
