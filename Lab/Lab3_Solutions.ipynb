{
 "cells": [
  {
   "cell_type": "markdown",
   "id": "e52a63c5-8632-42cf-a598-1f9b9fcf118e",
   "metadata": {},
   "source": [
    "# Lab 3 (Due @ by 11:59 pm via Canvas/Gradescope)"
   ]
  },
  {
   "cell_type": "markdown",
   "id": "202053b6-3983-4486-b33b-e33c9319e574",
   "metadata": {},
   "source": [
    "#! snip: Lab3\n",
    "# $\\color{red}{\\text{SOLUTIONS}}$ \n",
    "#! snip-end"
   ]
  },
  {
   "cell_type": "markdown",
   "id": "036f3831-9eab-4c04-a0e5-dbe043d32320",
   "metadata": {},
   "source": [
    "Due: Tuesday Nov 7 @ 11:59 PM EST\n",
    "\n",
    "### Submission Instructions\n",
    "Submit this `ipynb` file to Gradescope (this can also be done via the assignment on Canvas).  To ensure that your submitted `ipynb` file represents your latest code, make sure to give a fresh `Kernel > Restart & Run All` just before uploading the `ipynb` file to gradescope.\n",
    "\n",
    "### Group Work\n",
    "\n",
    "You are encouraged to work in groups for this Lab, however each student should submit their own notebook file to Gradescope. While each Part of the Lab depends on previous parts, talking through the problem with your group should help speed up both understanding and arriving at a solution. "
   ]
  },
  {
   "cell_type": "code",
   "execution_count": 1,
   "id": "aa2cf95c-20bd-40b3-ac5b-aba78fa7eef0",
   "metadata": {},
   "outputs": [
    {
     "name": "stdout",
     "output_type": "stream",
     "text": [
      "snip-copied: Lab3.ipynb\n"
     ]
    }
   ],
   "source": [
    "#! snip: Lab3\n",
    "\n",
    "!python3 -m snip_copy Lab3_Solutions.ipynb\n",
    "\n",
    "#! snip-end"
   ]
  },
  {
   "cell_type": "code",
   "execution_count": 2,
   "id": "128c2500-de83-4732-a3ac-78ccdd6094f2",
   "metadata": {},
   "outputs": [],
   "source": [
    "# you might use the below modules on this lab\n",
    "import warnings\n",
    "warnings.simplefilter(action='ignore', category=FutureWarning)\n",
    "\n",
    "import requests\n",
    "import pandas as pd\n",
    "import numpy as np\n",
    "import matplotlib.pyplot as plt\n",
    "import seaborn as sns\n",
    "import plotly.express as px\n",
    "import scipy.stats as stats\n",
    "import pylab as py"
   ]
  },
  {
   "cell_type": "markdown",
   "id": "d197c58c-8285-446e-bb07-347de63ce276",
   "metadata": {},
   "source": [
    "## Part 1: Exploring Data and Defining a Question (20 points)\n",
    "\n",
    "For this lab, you will use the data from our [DS 3000 Spotify Playlist](https://open.spotify.com/playlist/6Bl2siSxFI0mmdzOwy562o). A data set containing the first 100 songs is on Canvas, in the labs module, called `spotify100.csv`. This is the data set we'll be using for the entirety of the lab. In this first part, you must:\n",
    "\n",
    "1. Read in the data and print the first few rows.\n",
    "2. Choose, either on your own or via discussion with your classmates, **one numeric feature** that you are interested in predicting with **one other numeric feature**.\n",
    "3. Generate a scatterplot that examines the relationship between two numeric features you chose, making sure it is labelled correctly and that the features are on the appropriate axis.\n",
    "4. Discuss **in a markdown cell**, *why* you chose these features, which one you are predicting (the outcome) and which one you are predicting with (the input), **and** based on the scatterplot, your intuition as to whether a simple linear regression model will be (a) appropriate and (b) a good fit to the data.\n",
    "5. Formally define, **in a markdown cell, using $\\LaTeX$ typesetting** the mathematical notation for the simple linear regression model."
   ]
  },
  {
   "cell_type": "code",
   "execution_count": 3,
   "id": "b8cefb69-55b1-42e0-8be0-8c4533798463",
   "metadata": {},
   "outputs": [
    {
     "data": {
      "text/html": [
       "<div>\n",
       "<style scoped>\n",
       "    .dataframe tbody tr th:only-of-type {\n",
       "        vertical-align: middle;\n",
       "    }\n",
       "\n",
       "    .dataframe tbody tr th {\n",
       "        vertical-align: top;\n",
       "    }\n",
       "\n",
       "    .dataframe thead th {\n",
       "        text-align: right;\n",
       "    }\n",
       "</style>\n",
       "<table border=\"1\" class=\"dataframe\">\n",
       "  <thead>\n",
       "    <tr style=\"text-align: right;\">\n",
       "      <th></th>\n",
       "      <th>danceability</th>\n",
       "      <th>energy</th>\n",
       "      <th>key</th>\n",
       "      <th>loudness</th>\n",
       "      <th>mode</th>\n",
       "      <th>speechiness</th>\n",
       "      <th>acousticness</th>\n",
       "      <th>instrumentalness</th>\n",
       "      <th>liveness</th>\n",
       "      <th>valence</th>\n",
       "      <th>tempo</th>\n",
       "      <th>track_href</th>\n",
       "      <th>duration_ms</th>\n",
       "      <th>song_title</th>\n",
       "      <th>artist_name</th>\n",
       "    </tr>\n",
       "  </thead>\n",
       "  <tbody>\n",
       "    <tr>\n",
       "      <th>0</th>\n",
       "      <td>0.631</td>\n",
       "      <td>0.605</td>\n",
       "      <td>0</td>\n",
       "      <td>-8.730</td>\n",
       "      <td>1</td>\n",
       "      <td>0.0386</td>\n",
       "      <td>0.45300</td>\n",
       "      <td>0.000184</td>\n",
       "      <td>0.2910</td>\n",
       "      <td>0.250</td>\n",
       "      <td>115.281</td>\n",
       "      <td>https://api.spotify.com/v1/tracks/4LVDnRxfljiE...</td>\n",
       "      <td>295293</td>\n",
       "      <td>Pursuit Of Happiness (nightmare)</td>\n",
       "      <td>Kid Cudi</td>\n",
       "    </tr>\n",
       "    <tr>\n",
       "      <th>1</th>\n",
       "      <td>0.531</td>\n",
       "      <td>0.766</td>\n",
       "      <td>8</td>\n",
       "      <td>-7.692</td>\n",
       "      <td>1</td>\n",
       "      <td>0.0582</td>\n",
       "      <td>0.00560</td>\n",
       "      <td>0.000000</td>\n",
       "      <td>0.2010</td>\n",
       "      <td>0.532</td>\n",
       "      <td>130.048</td>\n",
       "      <td>https://api.spotify.com/v1/tracks/1rS3J4u1G8f6...</td>\n",
       "      <td>179493</td>\n",
       "      <td>I Found A Way</td>\n",
       "      <td>Drake Bell</td>\n",
       "    </tr>\n",
       "    <tr>\n",
       "      <th>2</th>\n",
       "      <td>0.561</td>\n",
       "      <td>0.965</td>\n",
       "      <td>7</td>\n",
       "      <td>-3.673</td>\n",
       "      <td>0</td>\n",
       "      <td>0.0343</td>\n",
       "      <td>0.00383</td>\n",
       "      <td>0.000007</td>\n",
       "      <td>0.3710</td>\n",
       "      <td>0.304</td>\n",
       "      <td>128.040</td>\n",
       "      <td>https://api.spotify.com/v1/tracks/4uUG5RXrOk84...</td>\n",
       "      <td>175238</td>\n",
       "      <td>I'm Good (Blue)</td>\n",
       "      <td>David Guetta</td>\n",
       "    </tr>\n",
       "    <tr>\n",
       "      <th>3</th>\n",
       "      <td>0.620</td>\n",
       "      <td>0.712</td>\n",
       "      <td>9</td>\n",
       "      <td>-6.434</td>\n",
       "      <td>1</td>\n",
       "      <td>0.1000</td>\n",
       "      <td>0.22800</td>\n",
       "      <td>0.000003</td>\n",
       "      <td>0.0561</td>\n",
       "      <td>0.830</td>\n",
       "      <td>170.234</td>\n",
       "      <td>https://api.spotify.com/v1/tracks/4dRqYKhLVujx...</td>\n",
       "      <td>268600</td>\n",
       "      <td>This Life</td>\n",
       "      <td>Vampire Weekend</td>\n",
       "    </tr>\n",
       "    <tr>\n",
       "      <th>4</th>\n",
       "      <td>0.787</td>\n",
       "      <td>0.655</td>\n",
       "      <td>6</td>\n",
       "      <td>-8.339</td>\n",
       "      <td>0</td>\n",
       "      <td>0.0431</td>\n",
       "      <td>0.23800</td>\n",
       "      <td>0.000171</td>\n",
       "      <td>0.1380</td>\n",
       "      <td>0.650</td>\n",
       "      <td>102.485</td>\n",
       "      <td>https://api.spotify.com/v1/tracks/6shRGWCtBUOP...</td>\n",
       "      <td>208653</td>\n",
       "      <td>Upside Down</td>\n",
       "      <td>Jack Johnson</td>\n",
       "    </tr>\n",
       "  </tbody>\n",
       "</table>\n",
       "</div>"
      ],
      "text/plain": [
       "   danceability  energy  key  loudness  mode  speechiness  acousticness  \\\n",
       "0         0.631   0.605    0    -8.730     1       0.0386       0.45300   \n",
       "1         0.531   0.766    8    -7.692     1       0.0582       0.00560   \n",
       "2         0.561   0.965    7    -3.673     0       0.0343       0.00383   \n",
       "3         0.620   0.712    9    -6.434     1       0.1000       0.22800   \n",
       "4         0.787   0.655    6    -8.339     0       0.0431       0.23800   \n",
       "\n",
       "   instrumentalness  liveness  valence    tempo  \\\n",
       "0          0.000184    0.2910    0.250  115.281   \n",
       "1          0.000000    0.2010    0.532  130.048   \n",
       "2          0.000007    0.3710    0.304  128.040   \n",
       "3          0.000003    0.0561    0.830  170.234   \n",
       "4          0.000171    0.1380    0.650  102.485   \n",
       "\n",
       "                                          track_href  duration_ms  \\\n",
       "0  https://api.spotify.com/v1/tracks/4LVDnRxfljiE...       295293   \n",
       "1  https://api.spotify.com/v1/tracks/1rS3J4u1G8f6...       179493   \n",
       "2  https://api.spotify.com/v1/tracks/4uUG5RXrOk84...       175238   \n",
       "3  https://api.spotify.com/v1/tracks/4dRqYKhLVujx...       268600   \n",
       "4  https://api.spotify.com/v1/tracks/6shRGWCtBUOP...       208653   \n",
       "\n",
       "                         song_title      artist_name  \n",
       "0  Pursuit Of Happiness (nightmare)         Kid Cudi  \n",
       "1                     I Found A Way       Drake Bell  \n",
       "2                   I'm Good (Blue)     David Guetta  \n",
       "3                         This Life  Vampire Weekend  \n",
       "4                       Upside Down     Jack Johnson  "
      ]
     },
     "execution_count": 3,
     "metadata": {},
     "output_type": "execute_result"
    }
   ],
   "source": [
    "#! snip: Lab3\n",
    "\n",
    "df_spot = pd.read_csv(\"spotify100.csv\")\n",
    "df_spot.head()\n",
    "\n",
    "#! snip-end"
   ]
  },
  {
   "cell_type": "code",
   "execution_count": 4,
   "id": "f7913d37-e3b1-4483-b116-4d7f1ae56277",
   "metadata": {},
   "outputs": [
    {
     "data": {
      "image/png": "[encoded data removed]",
      "text/plain": [
       "<Figure size 640x480 with 1 Axes>"
      ]
     },
     "metadata": {},
     "output_type": "display_data"
    }
   ],
   "source": [
    "#! snip: Lab3\n",
    "\n",
    "x = np.array(df_spot.loudness)\n",
    "y = np.array(df_spot.energy)\n",
    "\n",
    "plt.scatter(x, y)\n",
    "\n",
    "plt.title(\"Loudness vs. Energy\")\n",
    "plt.xlabel(\"Loudness\")\n",
    "plt.ylabel(\"Energy\");\n",
    "\n",
    "#! snip-end"
   ]
  },
  {
   "cell_type": "code",
   "execution_count": null,
   "id": "9edb4e1d-4e41-4072-a09f-dc12f6719a7d",
   "metadata": {},
   "outputs": [],
   "source": []
  },
  {
   "cell_type": "markdown",
   "id": "6437201a-aa04-48d0-9873-ac4a9a5d8deb",
   "metadata": {},
   "source": [
    "#! snip: Lab3\n",
    "\n",
    "Answers will vary here. Here's one example: I chose loudness as my $x$ feature and energy as my $y$ feature because when I examined the pairplot, this looked like the most linear relationship, and I think it makes sense that musicians have more control over loudness, and thus that loudness could be used to predict the energy of a song. Since I chose what I thought would be the best option for a linear regression, I think it may be appropriate, though there might be a slight curve, so we'll see. I guess I think that it should be a decent fit. The model is:\n",
    "\n",
    "$$y = X\\beta + \\varepsilon$$\n",
    "\n",
    "Where:\n",
    "\n",
    "- $y$ is energy of a song\n",
    "- $X$ is a matrix including a vector of 1's and the loudness of a song\n",
    "- $\\beta$ are the coefficients $\\beta_0, \\beta_1$ that represent the true intercept and slope of the relationship between loudness and energy\n",
    "- $\\varepsilon$ are the errors, assumed to be normally distributed\n",
    "\n",
    "#! snip-end"
   ]
  },
  {
   "cell_type": "code",
   "execution_count": null,
   "id": "ba06d8aa-ee3f-42ef-8f2e-647a8cf98a94",
   "metadata": {},
   "outputs": [],
   "source": []
  },
  {
   "cell_type": "markdown",
   "id": "d1aac814-940d-4a04-9614-48af99c4b92a",
   "metadata": {},
   "source": [
    "# Part 2: Simple Linear Regression\n",
    "\n",
    "Now, using the two features you chose in Part 1, you will implement a simple linear regression model and determine if it is adequate for predicting your chosen outcome feature with your chosen input feature."
   ]
  },
  {
   "cell_type": "markdown",
   "id": "76cd53bc-accb-4033-9536-53a1719d7847",
   "metadata": {},
   "source": [
    "## Part 2.1: Cross Validate, Assess Model Performance and Interpret the Full Line (40 points)\n",
    "\n",
    "Use Leave One Out Cross Validation (LOO-CV) to fit the simple linear regression model and return the cross validated $MSE$ and $R^2$ for the model. **In a markdown cell**, interpret what the $R^2$ value represents, and discuss whether you think it is a good value. **Then**, fit the model to the full data set (i.e., do not cross validate) and return the estimated regression coefficients (intercept and slope). **In a markdown cell**, interpret what the slope and intercept mean, and discuss if their values make sense to you.\n",
    "\n",
    "**Do all of this using `numpy` and linear algebra/math.** Do *not* use any pre-built functions."
   ]
  },
  {
   "cell_type": "code",
   "execution_count": 5,
   "id": "be615314-c9a7-414d-bd02-dfa07bb622bc",
   "metadata": {},
   "outputs": [
    {
     "name": "stdout",
     "output_type": "stream",
     "text": [
      "0.02023723483253339\n",
      "0.5090675142807031\n"
     ]
    }
   ],
   "source": [
    "#! snip: Lab3\n",
    "\n",
    "X = np.column_stack([[1] * len(y),\n",
    "                     x])\n",
    "\n",
    "y_preds = np.empty(len(y))\n",
    "\n",
    "# LOO-CV\n",
    "for obs in range(len(y)):\n",
    "    # the below excludes the single row/true y belonging to obs as well as the bias column\n",
    "    loocv_trainX = np.concatenate((X[:obs,:], X[obs+1:,:]))\n",
    "    loocv_trainy = np.concatenate((y[:obs], y[obs+1:]))\n",
    "    # then train the model\n",
    "    loocv_b = np.matmul(np.linalg.inv(np.matmul(loocv_trainX.T, loocv_trainX)), np.matmul(loocv_trainX.T, loocv_trainy))\n",
    "    # and predict the held out observation (and store it)\n",
    "    y_preds[obs] = np.matmul(X[obs,:], loocv_b)\n",
    "\n",
    "e = y - y_preds\n",
    "mse = np.mean(e ** 2)\n",
    "print(mse)\n",
    "r2 = 1 - (mse/np.var(y))\n",
    "print(r2)\n",
    "\n",
    "#! snip-end"
   ]
  },
  {
   "cell_type": "code",
   "execution_count": null,
   "id": "faca4b79-ec2a-4556-9511-ab7019bb0360",
   "metadata": {},
   "outputs": [],
   "source": []
  },
  {
   "cell_type": "markdown",
   "id": "a092fd2f-01a5-456e-aa0d-a278edce4408",
   "metadata": {},
   "source": [
    "#! snip: Lab3\n",
    "\n",
    "The $R^2$ is about 50.9\\%, indicating that about half the variation in energy ($y$) is explained by the model using loudness ($x$), and since this is cross validated, it represents roughly the accuracy we can expect from predicting new songs. I think this seems like a reasonably good value. Obviously there are other things that will impact the energy of a song, but if half of the variation is explained by loudness, that means loudness must be a pretty important part of it.\n",
    "\n",
    "#! snip-end"
   ]
  },
  {
   "cell_type": "markdown",
   "id": "491e47d9-1967-4192-9e4a-a4c6188e33af",
   "metadata": {},
   "source": []
  },
  {
   "cell_type": "code",
   "execution_count": 6,
   "id": "07aa9508-a159-44ca-a2d9-62d4f21705a4",
   "metadata": {},
   "outputs": [
    {
     "data": {
      "text/plain": [
       "array([0.97007385, 0.04149292])"
      ]
     },
     "execution_count": 6,
     "metadata": {},
     "output_type": "execute_result"
    }
   ],
   "source": [
    "#! snip: Lab3\n",
    "\n",
    "# Full data set\n",
    "full_b = np.matmul(np.linalg.inv(np.matmul(X.T, X)), np.matmul(X.T, y))\n",
    "full_b\n",
    "\n",
    "#! snip-end"
   ]
  },
  {
   "cell_type": "code",
   "execution_count": null,
   "id": "59cac409-b9a1-470b-b766-75305e14ecd2",
   "metadata": {},
   "outputs": [],
   "source": []
  },
  {
   "cell_type": "markdown",
   "id": "0c316ffb-d644-454d-b15c-90ec167acf56",
   "metadata": {},
   "source": [
    "#! snip: Lab3\n",
    "\n",
    "The intercept of .97 suggests that when the loudness of a song is 0, the energy will be .97, and the slope of .04 indicates that for every unit loudness increases (I believe the units are decibels) the energy of a song increases by .04 (I'm not sure what the units for energy are...). It's hard to say if this makes complete sense, based on my lack of knowledge of the units or music in general, but my intuition says that louder songs should generally be more energetic, so sure.\n",
    "\n",
    "#! snip-end"
   ]
  },
  {
   "cell_type": "markdown",
   "id": "ee3f6e42-8281-4811-b23f-8a035d40503c",
   "metadata": {},
   "source": []
  },
  {
   "cell_type": "markdown",
   "id": "835ab1c8-50b5-4de0-aa8f-77e5b3707edd",
   "metadata": {},
   "source": [
    "## Part 2.2: Checking Model Diagnostics (30 points)\n",
    "\n",
    "Use the residuals that you created in the previous part after doing LOO-CV to check the assumptions of the model. Do this using three plots:\n",
    "\n",
    "1. A plot of the residuals in the order of the data, to check independence.\n",
    "2. A plot of the residuals against your chosen $x$ feature, to check constant variance (and help re-assess linearity).\n",
    "3. A normal probability (QQ) plot of the residuals, to check normality.\n",
    "\n",
    "Then, **in a markdown cell**, provide a *detailed* discussion of if you believe the assumptions of the model are met and, either way, how you know and what that means for the utility of your model."
   ]
  },
  {
   "cell_type": "code",
   "execution_count": 7,
   "id": "60312660-e8d6-401f-ac92-a8ea9c0330a6",
   "metadata": {},
   "outputs": [
    {
     "data": {
      "image/png": "[encoded data removed]",
      "text/plain": [
       "<Figure size 640x480 with 1 Axes>"
      ]
     },
     "metadata": {},
     "output_type": "display_data"
    }
   ],
   "source": [
    "#! snip: Lab3\n",
    "\n",
    "# check independence\n",
    "plt.scatter(x = range(len(e)), y = e)\n",
    "plt.xlabel('index')\n",
    "plt.ylabel('residuals');\n",
    "\n",
    "#! snip-end"
   ]
  },
  {
   "cell_type": "code",
   "execution_count": 8,
   "id": "e51a84ea-5a0d-4265-9f13-600686f3e3f4",
   "metadata": {},
   "outputs": [
    {
     "data": {
      "image/png": "[encoded data removed]",
      "text/plain": [
       "<Figure size 640x480 with 1 Axes>"
      ]
     },
     "metadata": {},
     "output_type": "display_data"
    }
   ],
   "source": [
    "#! snip: Lab3\n",
    "\n",
    "# check constant variance/linearity\n",
    "plt.scatter(x = x, y = e)\n",
    "plt.xlabel('loudness')\n",
    "plt.ylabel('residuals');\n",
    "\n",
    "#! snip-end"
   ]
  },
  {
   "cell_type": "code",
   "execution_count": 9,
   "id": "5211a0bf-9611-40f8-b47e-1630511c5887",
   "metadata": {},
   "outputs": [
    {
     "data": {
      "image/png": "[encoded data removed]",
      "text/plain": [
       "<Figure size 640x480 with 1 Axes>"
      ]
     },
     "metadata": {},
     "output_type": "display_data"
    }
   ],
   "source": [
    "#! snip: Lab3\n",
    "\n",
    "# check normality\n",
    "stats.probplot(e, dist=\"norm\", plot=py)\n",
    "py.show()\n",
    "\n",
    "#! snip-end"
   ]
  },
  {
   "cell_type": "code",
   "execution_count": null,
   "id": "00052e1d-bc83-49dc-9746-1aa95456a52d",
   "metadata": {},
   "outputs": [],
   "source": []
  },
  {
   "cell_type": "code",
   "execution_count": null,
   "id": "03b3e2f0-8a88-49a9-8f68-b94be9a52940",
   "metadata": {},
   "outputs": [],
   "source": []
  },
  {
   "cell_type": "code",
   "execution_count": null,
   "id": "1ec6cbd8-e29c-461f-9f9f-80e0856576be",
   "metadata": {},
   "outputs": [],
   "source": []
  },
  {
   "cell_type": "markdown",
   "id": "d8df540a-b09c-4bff-a528-a98cea2721c7",
   "metadata": {},
   "source": [
    "#! snip: Lab3\n",
    "\n",
    "- Independence: I believe the first plot looks decently random enough, and I can't identify any patterns in the residuals. This indicates to me that the residuals are sufficiently independent and I don't have to worry about anything being systematically ignored.\n",
    "- Constant Variance: The second plot I could go either way on... generally I believe it also looks like a decently random scatter, and there's no systematic pattern that would suggest non-constant variance or curving that would suggest linearity is violated. Perhaps there are two clouds of points, which may indicate some feature should be accounted for (perhaps mode?) but I don't think so.\n",
    "- Normality: The plot looks very good to me; the points seem to follow the straight 45 degree line that indicates normality fairly closely.\n",
    "\n",
    "Overall, I don't see anything in these residuals that stands out to me as having violated the assumptions, so I think this model is fairly appropriate.\n",
    "\n",
    "#! snip-end"
   ]
  },
  {
   "cell_type": "markdown",
   "id": "31e5b04c-e81e-48fb-bfa9-5b173017a67c",
   "metadata": {},
   "source": []
  },
  {
   "cell_type": "markdown",
   "id": "f0732994-333f-4192-9690-ddae0b79681f",
   "metadata": {},
   "source": [
    "## Part 2.3: Summarize and Outline Future Steps (10 points)\n",
    "\n",
    "Bring your thoughts together from all the previous parts of this lab and write a **detailed** paragraph or two of **at least five sentences** which discusses:\n",
    "\n",
    "- Did you find that the simple linear regression model does a good job of predicting your chosen $y$ feature?\n",
    "  - If so, how could this model be used practically? What were the key takeaways that you would use to summarize the results to someone interested in music?\n",
    "  - If not, why isn't it an adequate model? Do you think there is still promise/things you can do to adjust the model so that it does a better job or is more adequate for predicting $y$?\n",
    "- Regardless of your answer to the previous question, also reflect upon:\n",
    "  - (a) If you were to do it over again, would you choose different features? Was there another question you feel you could have answered using these data?\n",
    "  - (b) If you were to move forward, how would you improve upon the model you built? Whether you think it is already useful or not, remember that it could *always* be made better in some way."
   ]
  },
  {
   "cell_type": "markdown",
   "id": "fc4c1856-b3a8-40b6-9f2f-ea05366035e4",
   "metadata": {},
   "source": [
    "#! snip: Lab3\n",
    "\n",
    "Based on the fact that all the residual plots seem pretty reasonable to me, and that I think a cross validated $R^2$ of about 50\\% seems pretty good, and the coefficients don't seem too crazy to me, I think this is a pretty good model for predicting my chosen $y$ feature of energy. This could be used practically by letting bands know that if they are hoping to create more energetic songs, that they should tend to play louder (and vice versa, if they want chill songs, maybe play less loud). That may seem obvious, but since loudness seems to explain a good bit of energy, it may be something that a band takes for granted. I don't think I would choose different features for the purposes of this lab, since these two looked the most linearly related to me, but I might have tried to predict `danceability` instead, because that seems more fun to me... Moving forward, definitely including a few more features could help improve the predictive ability of the model; I could investigate including things that make sense in terms of explaining energy, like perhaps acousticness (which I assume to be negatively correlated) and tempo (which I assume to be positively correlated).\n",
    "\n",
    "#! snip-end"
   ]
  },
  {
   "cell_type": "markdown",
   "id": "32075a9a-3f32-4267-94b6-aae9b12d3ab7",
   "metadata": {},
   "source": []
  }
 ],
 "metadata": {
  "kernelspec": {
   "display_name": "Python 3 (ipykernel)",
   "language": "python",
   "name": "python3"
  },
  "language_info": {
   "codemirror_mode": {
    "name": "ipython",
    "version": 3
   },
   "file_extension": ".py",
   "mimetype": "text/x-python",
   "name": "python",
   "nbconvert_exporter": "python",
   "pygments_lexer": "ipython3",
   "version": "3.11.6"
  }
 },
 "nbformat": 4,
 "nbformat_minor": 5
}
