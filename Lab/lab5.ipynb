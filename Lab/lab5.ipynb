{
 "cells": [
  {
   "cell_type": "markdown",
   "id": "5169a877",
   "metadata": {},
   "source": [
    "# Lab 5 (Due @ by 11:59 pm via Canvas/Gradescope)\n",
    "\n",
    "## Group Work\n",
    "\n",
    "You are encouraged to work in groups for this Lab, however each student should submit their own notebook file to Gradescope. While you will be able to do this on your own, talking through the problem with your group could help speed up both understanding and arriving at a solution. "
   ]
  },
  {
   "cell_type": "code",
   "execution_count": 1,
   "id": "6db0d68c",
   "metadata": {},
   "outputs": [],
   "source": [
    "import warnings\n",
    "warnings.simplefilter(action='ignore', category=FutureWarning)\n",
    "import pandas as pd\n",
    "import seaborn as sns\n",
    "from copy import copy\n",
    "from collections import Counter\n",
    "import matplotlib.pyplot as plt\n",
    "import numpy as np\n",
    "import plotly.express as px\n",
    "\n",
    "from sklearn.cluster import KMeans\n",
    "from sklearn.decomposition import PCA\n",
    "from pca import pca"
   ]
  },
  {
   "cell_type": "markdown",
   "id": "9e467ee4",
   "metadata": {},
   "source": [
    "# K-Means\n",
    "\n",
    "In this problem you will use the `wine.csv` data set available in the Canvas Labs Module. These data consist of 13 chemical compositions from three batches of wine bottles at an Italian vineyard. We are going to use K-Means to (a) see how many clusters naturally occur in the data and (b) determine if these clusters are formed based on the batches.\n",
    "\n",
    "The cells below read in the data and then define the x-feature list."
   ]
  },
  {
   "cell_type": "code",
   "execution_count": 2,
   "id": "79c98519",
   "metadata": {},
   "outputs": [
    {
     "data": {
      "text/html": [
       "<div>\n",
       "<style scoped>\n",
       "    .dataframe tbody tr th:only-of-type {\n",
       "        vertical-align: middle;\n",
       "    }\n",
       "\n",
       "    .dataframe tbody tr th {\n",
       "        vertical-align: top;\n",
       "    }\n",
       "\n",
       "    .dataframe thead th {\n",
       "        text-align: right;\n",
       "    }\n",
       "</style>\n",
       "<table border=\"1\" class=\"dataframe\">\n",
       "  <thead>\n",
       "    <tr style=\"text-align: right;\">\n",
       "      <th></th>\n",
       "      <th>batch</th>\n",
       "      <th>chem1</th>\n",
       "      <th>chem2</th>\n",
       "      <th>chem3</th>\n",
       "      <th>chem4</th>\n",
       "      <th>chem5</th>\n",
       "      <th>chem6</th>\n",
       "      <th>chem7</th>\n",
       "      <th>chem8</th>\n",
       "      <th>chem9</th>\n",
       "      <th>chem10</th>\n",
       "      <th>chem11</th>\n",
       "      <th>chem12</th>\n",
       "      <th>chem13</th>\n",
       "    </tr>\n",
       "  </thead>\n",
       "  <tbody>\n",
       "    <tr>\n",
       "      <th>0</th>\n",
       "      <td>1</td>\n",
       "      <td>14.23</td>\n",
       "      <td>1.71</td>\n",
       "      <td>2.43</td>\n",
       "      <td>15.6</td>\n",
       "      <td>127</td>\n",
       "      <td>2.80</td>\n",
       "      <td>3.06</td>\n",
       "      <td>0.28</td>\n",
       "      <td>2.29</td>\n",
       "      <td>5.64</td>\n",
       "      <td>1.04</td>\n",
       "      <td>3.92</td>\n",
       "      <td>1065</td>\n",
       "    </tr>\n",
       "    <tr>\n",
       "      <th>1</th>\n",
       "      <td>1</td>\n",
       "      <td>13.20</td>\n",
       "      <td>1.78</td>\n",
       "      <td>2.14</td>\n",
       "      <td>11.2</td>\n",
       "      <td>100</td>\n",
       "      <td>2.65</td>\n",
       "      <td>2.76</td>\n",
       "      <td>0.26</td>\n",
       "      <td>1.28</td>\n",
       "      <td>4.38</td>\n",
       "      <td>1.05</td>\n",
       "      <td>3.40</td>\n",
       "      <td>1050</td>\n",
       "    </tr>\n",
       "    <tr>\n",
       "      <th>2</th>\n",
       "      <td>1</td>\n",
       "      <td>13.16</td>\n",
       "      <td>2.36</td>\n",
       "      <td>2.67</td>\n",
       "      <td>18.6</td>\n",
       "      <td>101</td>\n",
       "      <td>2.80</td>\n",
       "      <td>3.24</td>\n",
       "      <td>0.30</td>\n",
       "      <td>2.81</td>\n",
       "      <td>5.68</td>\n",
       "      <td>1.03</td>\n",
       "      <td>3.17</td>\n",
       "      <td>1185</td>\n",
       "    </tr>\n",
       "    <tr>\n",
       "      <th>3</th>\n",
       "      <td>1</td>\n",
       "      <td>14.37</td>\n",
       "      <td>1.95</td>\n",
       "      <td>2.50</td>\n",
       "      <td>16.8</td>\n",
       "      <td>113</td>\n",
       "      <td>3.85</td>\n",
       "      <td>3.49</td>\n",
       "      <td>0.24</td>\n",
       "      <td>2.18</td>\n",
       "      <td>7.80</td>\n",
       "      <td>0.86</td>\n",
       "      <td>3.45</td>\n",
       "      <td>1480</td>\n",
       "    </tr>\n",
       "    <tr>\n",
       "      <th>4</th>\n",
       "      <td>1</td>\n",
       "      <td>13.24</td>\n",
       "      <td>2.59</td>\n",
       "      <td>2.87</td>\n",
       "      <td>21.0</td>\n",
       "      <td>118</td>\n",
       "      <td>2.80</td>\n",
       "      <td>2.69</td>\n",
       "      <td>0.39</td>\n",
       "      <td>1.82</td>\n",
       "      <td>4.32</td>\n",
       "      <td>1.04</td>\n",
       "      <td>2.93</td>\n",
       "      <td>735</td>\n",
       "    </tr>\n",
       "  </tbody>\n",
       "</table>\n",
       "</div>"
      ],
      "text/plain": [
       "   batch  chem1  chem2  chem3  chem4  chem5  chem6  chem7  chem8  chem9  \\\n",
       "0      1  14.23   1.71   2.43   15.6    127   2.80   3.06   0.28   2.29   \n",
       "1      1  13.20   1.78   2.14   11.2    100   2.65   2.76   0.26   1.28   \n",
       "2      1  13.16   2.36   2.67   18.6    101   2.80   3.24   0.30   2.81   \n",
       "3      1  14.37   1.95   2.50   16.8    113   3.85   3.49   0.24   2.18   \n",
       "4      1  13.24   2.59   2.87   21.0    118   2.80   2.69   0.39   1.82   \n",
       "\n",
       "   chem10  chem11  chem12  chem13  \n",
       "0    5.64    1.04    3.92    1065  \n",
       "1    4.38    1.05    3.40    1050  \n",
       "2    5.68    1.03    3.17    1185  \n",
       "3    7.80    0.86    3.45    1480  \n",
       "4    4.32    1.04    2.93     735  "
      ]
     },
     "execution_count": 2,
     "metadata": {},
     "output_type": "execute_result"
    }
   ],
   "source": [
    "df_wine = pd.read_csv('wine.csv')\n",
    "df_wine.head()"
   ]
  },
  {
   "cell_type": "code",
   "execution_count": 3,
   "id": "e2b688b0",
   "metadata": {},
   "outputs": [],
   "source": [
    "x_feat_list = list(df_wine.columns[1:])"
   ]
  },
  {
   "cell_type": "markdown",
   "id": "6b63de1e",
   "metadata": {},
   "source": [
    "## Part 1: Choosing K (5 points)\n",
    "\n",
    "Decide what the optimal clustering of the data are using K-Means. To do this, create a copy of `df_wine` and scale the x-features using scale normalization. Then, fit the K-Means algorithm for choices of $k$ from 2 to 15, keeping track of the mean distance squared for each choice of $k$. Plot the number of clusters (x-axis) against the mean distance (y-axis) and then **in a markdown cell** discuss what your choice of $k$ is."
   ]
  },
  {
   "cell_type": "markdown",
   "id": "8cccae2a",
   "metadata": {},
   "source": [
    "$\\color{red}{\\text{Your solution here:}}$"
   ]
  },
  {
   "cell_type": "code",
   "execution_count": null,
   "id": "21caf59a",
   "metadata": {
    "scrolled": true
   },
   "outputs": [],
   "source": []
  },
  {
   "cell_type": "code",
   "execution_count": null,
   "id": "a32cc4c1",
   "metadata": {},
   "outputs": [],
   "source": []
  },
  {
   "cell_type": "markdown",
   "id": "89ddd039",
   "metadata": {},
   "source": []
  },
  {
   "cell_type": "markdown",
   "id": "65102090",
   "metadata": {},
   "source": [
    "## Part 2: Fitting K-means (3 points)\n",
    "\n",
    "Regardless of your choice of $k$ from Part 1, fit K-Means with $k=3$, and then save the cluster assignments to the original `df_wine`. Show the `.head()` of this data frame to show your cluster assignments worked."
   ]
  },
  {
   "cell_type": "markdown",
   "id": "e27dc472",
   "metadata": {},
   "source": [
    "$\\color{red}{\\text{Your solution here:}}$"
   ]
  },
  {
   "cell_type": "code",
   "execution_count": null,
   "id": "1d1c84a4",
   "metadata": {},
   "outputs": [],
   "source": []
  },
  {
   "cell_type": "markdown",
   "id": "a15bfb0d",
   "metadata": {},
   "source": [
    "## Part 3: Batch Clusters? (3 points)\n",
    "\n",
    "Uncomment and run the code below, then **in a markdown cell** discuss whether it looks like K-Means is choosing the clusters based on the batches of wine (i.e. that the chemical compositions of the wine bottles contain information about which batch they come from)."
   ]
  },
  {
   "cell_type": "code",
   "execution_count": 4,
   "id": "f0c6009d",
   "metadata": {},
   "outputs": [],
   "source": [
    "# bool_cluster0 = df_wine['cluster'] == 0\n",
    "# bool_cluster1 = df_wine['cluster'] == 1\n",
    "# bool_cluster2 = df_wine['cluster'] == 2\n",
    "# clust0 = df_wine.loc[bool_cluster0,:]\n",
    "# Counter(clust0['batch'])"
   ]
  },
  {
   "cell_type": "code",
   "execution_count": 5,
   "id": "119fef0c",
   "metadata": {},
   "outputs": [],
   "source": [
    "# clust1 = df_wine.loc[bool_cluster1,:]\n",
    "# Counter(clust1['batch'])"
   ]
  },
  {
   "cell_type": "code",
   "execution_count": 6,
   "id": "031e0a2d",
   "metadata": {},
   "outputs": [],
   "source": [
    "# clust2 = df_wine.loc[bool_cluster2,:]\n",
    "# Counter(clust2['batch'])"
   ]
  },
  {
   "cell_type": "markdown",
   "id": "9d93eec4",
   "metadata": {},
   "source": [
    "$\\color{red}{\\text{Your solution here:}}$"
   ]
  },
  {
   "cell_type": "markdown",
   "id": "aba7f71c",
   "metadata": {},
   "source": []
  },
  {
   "cell_type": "markdown",
   "id": "c9d2ec64",
   "metadata": {},
   "source": [
    "## Part 4: Further Discussion (4 points)\n",
    "\n",
    "Consider a second choice of $k$, your choice of any $k>3$ (refer to the plot from Part 1 to make your choice). Suppose you are working with a wine expert who is very familiar with the specific chemical compositions that are being measured in these bottles. **In a markdown cell**, explain why it might make more sense to examine $k>3$ clusters than $k=3$. In other words, what sort of insights might the expert be able to glean from investigating more clusters than just those that seem to cluster based on batch?"
   ]
  },
  {
   "cell_type": "markdown",
   "id": "f66300c8",
   "metadata": {},
   "source": [
    "$\\color{red}{\\text{Your solution here:}}$"
   ]
  },
  {
   "cell_type": "markdown",
   "id": "fcd5e81c",
   "metadata": {},
   "source": []
  },
  {
   "cell_type": "markdown",
   "id": "d58a347d",
   "metadata": {},
   "source": [
    "# PCA\n",
    "\n",
    "For the next two parts, you will use the `pet_imgs.npy` array that is available in the Labs Module on Canvas. It is an array of 513 grayscale 128 by 128 pixel pet images (cats and dogs). Our goal will be to conduct PCA using these images to compress them, storing the images based on principal components. The cells below read in the data, create a plot function (and provide an example using Dr. Gerber's dog, Lafayette), and then writes the function used for recovering an image based on the compressed data."
   ]
  },
  {
   "cell_type": "code",
   "execution_count": 7,
   "id": "fcd87382",
   "metadata": {},
   "outputs": [
    {
     "data": {
      "text/plain": [
       "array([[  8.   ,   8.   ,   8.   , ...,  11.664,  11.33 ,  11.33 ],\n",
       "       [ 79.645,  82.645,  75.645, ..., 169.983, 166.981, 166.647],\n",
       "       [127.328, 128.995, 129.993, ...,   7.666,  26.998,  42.997],\n",
       "       ...,\n",
       "       [103.339, 119.004, 131.005, ...,  88.029, 187.367, 157.041],\n",
       "       [ 22.668,  22.335,  27.002, ...,  57.661,  54.325,  41.993],\n",
       "       [214.003, 210.001, 215.334, ..., 165.668, 180.668, 160.668]])"
      ]
     },
     "execution_count": 7,
     "metadata": {},
     "output_type": "execute_result"
    }
   ],
   "source": [
    "pet_data = np.load(\"pet_imgs.npy\", allow_pickle=True)\n",
    "pet_data"
   ]
  },
  {
   "cell_type": "code",
   "execution_count": 8,
   "id": "0ef8de22",
   "metadata": {},
   "outputs": [],
   "source": [
    "def plot_pet(x, im_shape = (128,128)):\n",
    "    \"\"\" plots a pet image\n",
    "    \n",
    "    Args:\n",
    "        x (np.array): one feature per pixel array\n",
    "            (higher values are darker)\n",
    "        im_shape (tuple): shape of image\n",
    "    \"\"\"\n",
    "    x = x.reshape(im_shape)\n",
    "    plt.imshow(x)\n",
    "    plt.xticks([])\n",
    "    plt.yticks([])\n",
    "    plt.gcf().set_size_inches(10, 10)"
   ]
  },
  {
   "cell_type": "code",
   "execution_count": 9,
   "id": "970db601",
   "metadata": {
    "scrolled": false
   },
   "outputs": [
    {
     "data": {
      "image/png": "[encoded data removed]",
      "text/plain": [
       "<Figure size 1000x1000 with 1 Axes>"
      ]
     },
     "metadata": {},
     "output_type": "display_data"
    }
   ],
   "source": [
    "plot_pet(pet_data[512,:])"
   ]
  },
  {
   "cell_type": "code",
   "execution_count": 10,
   "id": "9222f6f0",
   "metadata": {},
   "outputs": [],
   "source": [
    "def inverse_transform(x_compress, pca, limit_coef=None):\n",
    "    \"\"\" estimates original sample given compressed pca coef\n",
    "    \n",
    "    PCA from sklearn has their own implementation, but they\n",
    "    always use all the features.  to play guess that pokemon below\n",
    "    we want to limit ourselves to using on the first few\n",
    "    \n",
    "    Args:\n",
    "        x_compress (np.array): the pca coefficients\n",
    "            (see c_0, c_1, ... above).  these describe how\n",
    "            much \"red line\" and how much \"blue line\" etc\n",
    "        pca (PCA): sklearn's pca object\n",
    "        limit_coef (int): we predict using only the first\n",
    "            limit_coef coefficients\n",
    "            \n",
    "    Returns:\n",
    "        x_pred (np.array): the estimated image, same shape\n",
    "            as the original input image\n",
    "    \"\"\"\n",
    "    if limit_coef is None:\n",
    "        # default to all components\n",
    "        limit_coef = pca.n_components_\n",
    "    \n",
    "    # initialize prediction to mean\n",
    "    x_pred = pca.mean_\n",
    "        \n",
    "    # add pca directions one by one\n",
    "    for coef_idx in range(limit_coef):\n",
    "        coef = x_compress[coef_idx]\n",
    "        comp = pca.components_[coef_idx, :]\n",
    "        x_pred += coef * comp\n",
    "        \n",
    "    return x_pred"
   ]
  },
  {
   "cell_type": "markdown",
   "id": "6d0b2456",
   "metadata": {},
   "source": [
    "## Part 5: Image Compression (2 points)\n",
    "\n",
    "Conduct PCA using the `pet_data`, saving the fit as `petimg_data_compress`."
   ]
  },
  {
   "cell_type": "markdown",
   "id": "6e33f3ce",
   "metadata": {},
   "source": [
    "$\\color{red}{\\text{Your solution here:}}$"
   ]
  },
  {
   "cell_type": "code",
   "execution_count": null,
   "id": "9d888d45",
   "metadata": {},
   "outputs": [],
   "source": []
  },
  {
   "cell_type": "markdown",
   "id": "1e35cab8",
   "metadata": {},
   "source": [
    "## Part 6: How many PCs to keep + Discussion (8 points)\n",
    "\n",
    "Someone who had worked in image compression before suggests three common benchmarks for choosing how many principal components to keep; 50%, 75% and 95% total variation explained. To determine which PC achieves each benchmark, you can use (for example, to find 50%):\n",
    "\n",
    "    bench0 = np.argmax(pca.explained_variance_ratio_.cumsum() >= .5)\n",
    "    print(bench0)\n",
    "\n",
    "Based on the three common benchmarks, use the `inverse_transform()` and `plot_pet()` functions to plot the compressed image of Lafayette (image index `512`). To do this for the first benchmark (calculated via the line of code above) you would do:\n",
    "\n",
    "    lafayette_50p = inverse_transform(petimg_data_compress[512,], pca, limit_coef=bench0)\n",
    "    \n",
    "When you are finished, **in a markdown cell** discuss which of the benchmarks you think is best to use for compressing the pet images based on how well it seems the picture of Lafayette is recovered at each benchmark, **making sure** to mention how many principal components you are keeping based on that benchmark."
   ]
  },
  {
   "cell_type": "markdown",
   "id": "de6e3479",
   "metadata": {},
   "source": [
    "$\\color{red}{\\text{Your solution here:}}$"
   ]
  },
  {
   "cell_type": "code",
   "execution_count": null,
   "id": "30aeeeac",
   "metadata": {},
   "outputs": [],
   "source": []
  },
  {
   "cell_type": "code",
   "execution_count": null,
   "id": "165c3964",
   "metadata": {},
   "outputs": [],
   "source": []
  },
  {
   "cell_type": "code",
   "execution_count": null,
   "id": "fc92dc95",
   "metadata": {},
   "outputs": [],
   "source": []
  },
  {
   "cell_type": "code",
   "execution_count": null,
   "id": "e9f6c054",
   "metadata": {},
   "outputs": [],
   "source": []
  },
  {
   "cell_type": "markdown",
   "id": "f7bbbdcc",
   "metadata": {},
   "source": []
  }
 ],
 "metadata": {
  "kernelspec": {
   "display_name": "Python 3 (ipykernel)",
   "language": "python",
   "name": "python3"
  },
  "language_info": {
   "codemirror_mode": {
    "name": "ipython",
    "version": 3
   },
   "file_extension": ".py",
   "mimetype": "text/x-python",
   "name": "python",
   "nbconvert_exporter": "python",
   "pygments_lexer": "ipython3",
   "version": "3.8.10"
  }
 },
 "nbformat": 4,
 "nbformat_minor": 5
}
