{
 "cells": [
  {
   "cell_type": "markdown",
   "id": "e52a63c5-8632-42cf-a598-1f9b9fcf118e",
   "metadata": {},
   "source": [
    "# Lab 3 (Due @ by 11:59 pm via Canvas/Gradescope)"
   ]
  },
  {
   "cell_type": "markdown",
   "id": "036f3831-9eab-4c04-a0e5-dbe043d32320",
   "metadata": {},
   "source": [
    "Due: Tuesday Nov 7 @ 11:59 PM EST\n",
    "\n",
    "### Submission Instructions\n",
    "Submit this `ipynb` file to Gradescope (this can also be done via the assignment on Canvas).  To ensure that your submitted `ipynb` file represents your latest code, make sure to give a fresh `Kernel > Restart & Run All` just before uploading the `ipynb` file to gradescope.\n",
    "\n",
    "### Group Work\n",
    "\n",
    "You are encouraged to work in groups for this Lab, however each student should submit their own notebook file to Gradescope. While each Part of the Lab depends on previous parts, talking through the problem with your group should help speed up both understanding and arriving at a solution. "
   ]
  },
  {
   "cell_type": "code",
   "execution_count": 14,
   "id": "128c2500-de83-4732-a3ac-78ccdd6094f2",
   "metadata": {},
   "outputs": [],
   "source": [
    "# you might use the below modules on this lab\n",
    "import warnings\n",
    "warnings.simplefilter(action='ignore', category=FutureWarning)\n",
    "\n",
    "import requests\n",
    "import pandas as pd\n",
    "import numpy as np\n",
    "import matplotlib.pyplot as plt\n",
    "import seaborn as sns\n",
    "import plotly.express as px\n",
    "import scipy.stats as stats\n",
    "import pylab as py"
   ]
  },
  {
   "cell_type": "markdown",
   "id": "d197c58c-8285-446e-bb07-347de63ce276",
   "metadata": {},
   "source": [
    "## Part 1: Exploring Data and Defining a Question (20 points)\n",
    "\n",
    "For this lab, you will use the data from our [DS 3000 Spotify Playlist](https://open.spotify.com/playlist/6Bl2siSxFI0mmdzOwy562o). A data set containing the first 100 songs is on Canvas, in the labs module, called `spotify100.csv`. This is the data set we'll be using for the entirety of the lab. In this first part, you must:\n",
    "\n",
    "1. Read in the data and print the first few rows.\n",
    "2. Choose, either on your own or via discussion with your classmates, **one numeric feature** that you are interested in predicting with **one other numeric feature**.\n",
    "3. Generate a scatterplot that examines the relationship between two numeric features you chose, making sure it is labelled correctly and that the features are on the appropriate axis.\n",
    "4. Discuss **in a markdown cell**, *why* you chose these features, which one you are predicting (the outcome) and which one you are predicting with (the input), **and** based on the scatterplot, your intuition as to whether a simple linear regression model will be (a) appropriate and (b) a good fit to the data.\n",
    "5. Formally define, **in a markdown cell, using $\\LaTeX$ typesetting** the mathematical notation for the simple linear regression model."
   ]
  },
  {
   "cell_type": "code",
   "execution_count": null,
   "id": "9edb4e1d-4e41-4072-a09f-dc12f6719a7d",
   "metadata": {},
   "outputs": [],
   "source": []
  },
  {
   "cell_type": "code",
   "execution_count": null,
   "id": "ba06d8aa-ee3f-42ef-8f2e-647a8cf98a94",
   "metadata": {},
   "outputs": [],
   "source": []
  },
  {
   "cell_type": "markdown",
   "id": "d1aac814-940d-4a04-9614-48af99c4b92a",
   "metadata": {},
   "source": [
    "# Part 2: Simple Linear Regression\n",
    "\n",
    "Now, using the two features you chose in Part 1, you will implement a simple linear regression model and determine if it is adequate for predicting your chosen outcome feature with your chosen input feature."
   ]
  },
  {
   "cell_type": "markdown",
   "id": "76cd53bc-accb-4033-9536-53a1719d7847",
   "metadata": {},
   "source": [
    "## Part 2.1: Cross Validate, Assess Model Performance and Interpret the Full Line (40 points)\n",
    "\n",
    "Use Leave One Out Cross Validation (LOO-CV) to fit the simple linear regression model and return the cross validated $MSE$ and $R^2$ for the model. **In a markdown cell**, interpret what the $R^2$ value represents, and discuss whether you think it is a good value. **Then**, fit the model to the full data set (i.e., do not cross validate) and return the estimated regression coefficients (intercept and slope). **In a markdown cell**, interpret what the slope and intercept mean, and discuss if their values make sense to you.\n",
    "\n",
    "**Do all of this using `numpy` and linear algebra/math.** Do *not* use any pre-built functions."
   ]
  },
  {
   "cell_type": "code",
   "execution_count": null,
   "id": "faca4b79-ec2a-4556-9511-ab7019bb0360",
   "metadata": {},
   "outputs": [],
   "source": []
  },
  {
   "cell_type": "markdown",
   "id": "491e47d9-1967-4192-9e4a-a4c6188e33af",
   "metadata": {},
   "source": []
  },
  {
   "cell_type": "code",
   "execution_count": null,
   "id": "59cac409-b9a1-470b-b766-75305e14ecd2",
   "metadata": {},
   "outputs": [],
   "source": []
  },
  {
   "cell_type": "markdown",
   "id": "ee3f6e42-8281-4811-b23f-8a035d40503c",
   "metadata": {},
   "source": []
  },
  {
   "cell_type": "markdown",
   "id": "835ab1c8-50b5-4de0-aa8f-77e5b3707edd",
   "metadata": {},
   "source": [
    "## Part 2.2: Checking Model Diagnostics (30 points)\n",
    "\n",
    "Use the residuals that you created in the previous part after doing LOO-CV to check the assumptions of the model. Do this using three plots:\n",
    "\n",
    "1. A plot of the residuals in the order of the data, to check independence.\n",
    "2. A plot of the residuals against your chosen $x$ feature, to check constant variance (and help re-assess linearity).\n",
    "3. A normal probability (QQ) plot of the residuals, to check normality.\n",
    "\n",
    "Then, **in a markdown cell**, provide a *detailed* discussion of if you believe the assumptions of the model are met and, either way, how you know and what that means for the utility of your model."
   ]
  },
  {
   "cell_type": "code",
   "execution_count": null,
   "id": "00052e1d-bc83-49dc-9746-1aa95456a52d",
   "metadata": {},
   "outputs": [],
   "source": []
  },
  {
   "cell_type": "code",
   "execution_count": null,
   "id": "03b3e2f0-8a88-49a9-8f68-b94be9a52940",
   "metadata": {},
   "outputs": [],
   "source": []
  },
  {
   "cell_type": "code",
   "execution_count": null,
   "id": "1ec6cbd8-e29c-461f-9f9f-80e0856576be",
   "metadata": {},
   "outputs": [],
   "source": []
  },
  {
   "cell_type": "markdown",
   "id": "31e5b04c-e81e-48fb-bfa9-5b173017a67c",
   "metadata": {},
   "source": []
  },
  {
   "cell_type": "markdown",
   "id": "f0732994-333f-4192-9690-ddae0b79681f",
   "metadata": {},
   "source": [
    "## Part 2.3: Summarize and Outline Future Steps (10 points)\n",
    "\n",
    "Bring your thoughts together from all the previous parts of this lab and write a **detailed** paragraph or two of **at least five sentences** which discusses:\n",
    "\n",
    "- Did you find that the simple linear regression model does a good job of predicting your chosen $y$ feature?\n",
    "  - If so, how could this model be used practically? What were the key takeaways that you would use to summarize the results to someone interested in music?\n",
    "  - If not, why isn't it an adequate model? Do you think there is still promise/things you can do to adjust the model so that it does a better job or is more adequate for predicting $y$?\n",
    "- Regardless of your answer to the previous question, also reflect upon:\n",
    "  - (a) If you were to do it over again, would you choose different features? Was there another question you feel you could have answered using these data?\n",
    "  - (b) If you were to move forward, how would you improve upon the model you built? Whether you think it is already useful or not, remember that it could *always* be made better in some way."
   ]
  },
  {
   "cell_type": "markdown",
   "id": "32075a9a-3f32-4267-94b6-aae9b12d3ab7",
   "metadata": {},
   "source": []
  }
 ],
 "metadata": {
  "kernelspec": {
   "display_name": "Python 3 (ipykernel)",
   "language": "python",
   "name": "python3"
  },
  "language_info": {
   "codemirror_mode": {
    "name": "ipython",
    "version": 3
   },
   "file_extension": ".py",
   "mimetype": "text/x-python",
   "name": "python",
   "nbconvert_exporter": "python",
   "pygments_lexer": "ipython3",
   "version": "3.11.6"
  }
 },
 "nbformat": 4,
 "nbformat_minor": 5
}
