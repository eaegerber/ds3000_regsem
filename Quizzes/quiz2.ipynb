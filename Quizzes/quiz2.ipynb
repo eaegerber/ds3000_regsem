{
 "cells": [
  {
   "cell_type": "markdown",
   "metadata": {},
   "source": [
    "# DS 3000 Quiz 2\n",
    "\n",
    "Due by: Sunday Oct 23 @ 11:59 PM EST\n",
    "\n",
    "Time Limit: You have 2 hours to complete the assignment once started\n",
    "\n",
    "## Instructions\n",
    "\n",
    "This quiz has 100 points total.\n",
    "\n",
    "- You are welcome to post a private note on piazza, but to keep a consistent testing environment for all students we are unlikely to provide assistance.\n",
    "- You may not contact other students with information about this this quiz\n",
    "    - even saying \"it was easy/hard\" in a general sense can introduce a bias in favor of students who take the quiz earlier or later\n",
    "- Under no circumstances should you share a copy of this quiz with anyone who isn't a member of the course staff.\n",
    "- Take this quiz with open notes and feel free to access any online resource / documentation you'd like.  \n",
    "\n",
    "### Submission Instructions\n",
    "After completing the quiz below, please follow the instructions below to submit:\n",
    "1. \"Kernel\" -> \"Restart & Run All\"\n",
    "1. save your quiz file to this latest version\n",
    "1. upload the `.ipynb` to gradescope **before** clicking submit\n",
    "1. ensure that you can see your jupyter notebook in the gradescope interface after clicking \"submit\"\n",
    "\n",
    "We specify the last note above as gradescope has allowed students to \"submit\" without uploading a file.  It is your responsibility to ensure that you've actually submitted a file."
   ]
  },
  {
   "cell_type": "markdown",
   "metadata": {},
   "source": [
    "### Academic Integrity Pledge\n",
    "\n",
    "Input your name below to sign the Academic Integrity Pledge before continuing with the quiz. Failure to do so will result in a score of **0**."
   ]
  },
  {
   "cell_type": "code",
   "execution_count": null,
   "metadata": {},
   "outputs": [],
   "source": [
    "name = 'Student Name Here'\n",
    "print(f'I, {name}, declare that the following work is entirely my own, and that I did not copy or seek help from any students who have currently or previously taken this course, nor from any online source other than private messages between myself and the professor on Piazza/via email.')"
   ]
  },
  {
   "cell_type": "code",
   "execution_count": null,
   "metadata": {},
   "outputs": [],
   "source": [
    "# the following modules will be necessary to complete the quiz\n",
    "import warnings\n",
    "warnings.simplefilter(action='ignore', category=FutureWarning)\n",
    "from datetime import datetime\n",
    "import pandas as pd\n",
    "import requests\n",
    "from bs4 import BeautifulSoup\n",
    "import json"
   ]
  },
  {
   "cell_type": "markdown",
   "metadata": {},
   "source": [
    "## Part 1: Timezones & String Manipulations\n",
    "Using `datetime` objects, respond to each question below:\n",
    "\n",
    "### Part 1.1 (10 points): \n",
    "Compute the number of seconds which have passed since the moon landing (Sunday July 20, 1969 @ 10:56 PM EST) and when you're currently taking this quiz (as in, right `datetime.now()`)"
   ]
  },
  {
   "cell_type": "code",
   "execution_count": null,
   "metadata": {},
   "outputs": [],
   "source": []
  },
  {
   "cell_type": "markdown",
   "metadata": {},
   "source": [
    "### Part 1.2 (10 points):\n",
    "Convert the datetime string from `format_a` to `format_b`. [Hint](https://docs.python.org/3/library/datetime.html#strftime-and-strptime-behavior)"
   ]
  },
  {
   "cell_type": "code",
   "execution_count": null,
   "metadata": {},
   "outputs": [],
   "source": [
    "format_a = 'Date of birth: October, 02 1992 @ 02:52 PM'\n",
    "format_b_expected = 'DOB_10/02/1992_14:52'"
   ]
  },
  {
   "cell_type": "code",
   "execution_count": null,
   "metadata": {},
   "outputs": [],
   "source": []
  },
  {
   "cell_type": "markdown",
   "metadata": {},
   "source": [
    "### Part 1.3 (14 points):\n",
    "Build the dataframe of [clue](https://en.wikipedia.org/wiki/Cluedo) guesses shown from the given string:\n",
    "\n",
    "|   |  player |       character |          room |      weapon |\n",
    "|--:|--------:|----------------:|--------------:|------------:|\n",
    "| 0 | Player0 | Colonel Mustard | Billiard room | candlestick |\n",
    "| 1 | Player1 |       Mr. Green |       Kitchen |      Dagger |\n",
    "| 2 | Player0 |    Mrs. Peacock |          Hall |   Lead Pipe |\n",
    "| 3 | Player2 |  Professor Plum | Billiard Room |      Wrench |"
   ]
  },
  {
   "cell_type": "code",
   "execution_count": null,
   "metadata": {},
   "outputs": [],
   "source": [
    "s_clue = \\\n",
    "\"\"\"Player0's guess, Colonel Mustard, in the Billiard room, with the candlestick\n",
    "Player1's guess, Mr. Green, in the Kitchen, with the Dagger\n",
    "Player0's guess, Mrs. Peacock, in the Hall, with the Lead Pipe\n",
    "Player2's guess, Professor Plum, in the Billiard Room, with the Wrench\"\"\""
   ]
  },
  {
   "cell_type": "code",
   "execution_count": null,
   "metadata": {},
   "outputs": [],
   "source": []
  },
  {
   "cell_type": "markdown",
   "metadata": {},
   "source": [
    "## Part 2: Web Scraping (32 points)\n",
    "\n",
    "Build a `df_premier` which contains the names and stadiums of all the current English Premier League Teams based [on this website](https://www.premierleague.com/clubs):\n",
    "\n",
    "    df_premier.head()\n",
    "    \n",
    "yields an output:\n",
    "\n",
    "| name                   | stadium                 |\n",
    "|------------------------|-------------------------|\n",
    "| AFC Bournemouth        | Vitality Stadium        |\n",
    "| Arsenal                | Emirates Stadium        |\n",
    "| Aston Villa            | Villa Park              |\n",
    "| Brentford              | Gtech Community Stadium |\n",
    "| Brighton & Hove Albion | Amex Stadium            |"
   ]
  },
  {
   "cell_type": "code",
   "execution_count": null,
   "metadata": {},
   "outputs": [],
   "source": []
  },
  {
   "cell_type": "code",
   "execution_count": null,
   "metadata": {},
   "outputs": [],
   "source": []
  },
  {
   "cell_type": "markdown",
   "metadata": {},
   "source": [
    "# Part 3: Dictionary API (34 points)\n",
    "\n",
    "Using [this dictionary API](https://dictionaryapi.dev/) create the following dataframe by searching for the words `hello`, `data` and `science`.\n",
    "\n",
    "Note that your searches may return multiple words, multiple definitions or multiple pronounciations.  Where necessary, always select the first.  \n",
    "\n",
    "Your response need not build any functions, but be sure to name variables appropriately and document your process.\n",
    "\n",
    "\n",
    "|   |    word |                                                          url_pronounce |                                                                                                                                                                                              definition |\n",
    "|--:|--------:|-----------------------------------------------------------------------:|--------------------------------------------------------------------------------------------------------------------------------------------------------------------------------------------------------:|\n",
    "| 0 |   hello |     https://api.dictionaryapi.dev/media/pronunciations/en/hello-au.mp3 |                                                                                                                                                                     \"Hello!\" or an equivalent greeting. |\n",
    "| 1 |    data |   https://api.dictionaryapi.dev/media/pronunciations/en/data-au-nz.mp3 | (plural: data) A measurement of something on a scale understood by both the recorder (a person or device) and the reader (another person or device). The scale is arbitrarily defined, such as from ... |\n",
    "| 2 | science | https://api.dictionaryapi.dev/media/pronunciations/en/science-1-ca.mp3 |                                                A particular discipline or branch of learning, especially one dealing with measurable or systematic principles rather than intuition or natural ability. |\n",
    "\n",
    "Because each row of the pandas dataframe contains so many characters, you may find that:\n",
    "\n",
    "    pd.options.display.max_colwidth = 200\n",
    "    \n",
    "allows you to see the whole thing."
   ]
  },
  {
   "cell_type": "code",
   "execution_count": null,
   "metadata": {},
   "outputs": [],
   "source": []
  },
  {
   "cell_type": "code",
   "execution_count": null,
   "metadata": {},
   "outputs": [],
   "source": []
  }
 ],
 "metadata": {
  "kernelspec": {
   "display_name": "Python 3 (ipykernel)",
   "language": "python",
   "name": "python3"
  },
  "language_info": {
   "codemirror_mode": {
    "name": "ipython",
    "version": 3
   },
   "file_extension": ".py",
   "mimetype": "text/x-python",
   "name": "python",
   "nbconvert_exporter": "python",
   "pygments_lexer": "ipython3",
   "version": "3.8.10"
  }
 },
 "nbformat": 4,
 "nbformat_minor": 4
}
