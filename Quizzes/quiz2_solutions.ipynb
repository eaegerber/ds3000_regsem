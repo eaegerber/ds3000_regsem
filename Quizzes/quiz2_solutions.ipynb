{
 "cells": [
  {
   "cell_type": "markdown",
   "id": "1395d6f8",
   "metadata": {},
   "source": [
    "# DS 3000 Quiz 1\n",
    "\n",
    "Due by: Sunday Oct 2 @ 11:59 PM EST\n",
    "\n",
    "Time Limit: You have 2 hours to complete the assignment once started\n",
    "\n",
    "## Instructions\n",
    "\n",
    "This quiz has 100 points total.\n",
    "\n",
    "- You are welcome to post a private note on piazza, but to keep a consistent testing environment for all students we are unlikely to provide assistance.\n",
    "- You may not contact other students with information about this this quiz\n",
    "    - even saying \"it was easy/hard\" in a general sense can introduce a bias in favor of students who take the quiz earlier or later\n",
    "- Under no circumstances should you share a copy of this quiz with anyone who isn't a member of the course staff.\n",
    "- Take this quiz with open notes and feel free to access any online resource / documentation you'd like.  \n",
    "\n",
    "### Submission Instructions\n",
    "After completing the quiz below, please follow the instructions below to submit:\n",
    "1. \"Kernel\" -> \"Restart & Run All\"\n",
    "1. save your quiz file to this latest version\n",
    "1. upload the `.ipynb` to gradescope **before** clicking submit\n",
    "1. ensure that you can see your jupyter notebook in the gradescope interface after clicking \"submit\"\n",
    "\n",
    "We specify the last note above as gradescope has allowed students to \"submit\" without uploading a file.  It is your responsibility to ensure that you've actually submitted a file."
   ]
  },
  {
   "cell_type": "markdown",
   "id": "999ebd5b",
   "metadata": {},
   "source": [
    "### Academic Integrity Pledge\n",
    "\n",
    "Input your name below to sign the Academic Integrity Pledge before continuing with the quiz."
   ]
  },
  {
   "cell_type": "code",
   "execution_count": 1,
   "id": "570e43d6",
   "metadata": {},
   "outputs": [
    {
     "name": "stdout",
     "output_type": "stream",
     "text": [
      "I, Student Name Here, declare that the following work is entirely my own, and that I did not copy or seek help from any students who have currently or previously taken this course, nor from any online source other than private messages between myself and the professor on Piazza/via email.\n"
     ]
    }
   ],
   "source": [
    "name = 'Student Name Here'\n",
    "print(f'I, {name}, declare that the following work is entirely my own, and that I did not copy or seek help from any students who have currently or previously taken this course, nor from any online source other than private messages between myself and the professor on Piazza/via email.')"
   ]
  },
  {
   "cell_type": "markdown",
   "id": "28ad3709",
   "metadata": {},
   "source": [
    "## Part 1: Function Writing (10 pts)\n",
    "\n",
    "Write a function that simulates the shaking of a Magic 8 Ball. Our Magic 8 Ball will, on the inside, contain an 8-sided die which will randomly display one of eight possible answers to a yes/no question each time the ball is shaken. Complete the `magic_8_ball` function below. Make sure:\n",
    "\n",
    "- The function should have two arguments: `question`, a string that represents the question being asked of the ball, and `shakes`, an integer-the number of times you wish to shake the ball\n",
    "- You write an informative docstring to accompany the function\n",
    "- To make use of the `random.choices` function for each shake of the ball\n",
    "- Output both the question and the final result of all the shakes.\n",
    "\n",
    "The eight possible answers are:\n",
    "- It is certain\n",
    "- Without a doubt\n",
    "- Outlook good\n",
    "- Signs point to yes\n",
    "- Reply hazy, try again\n",
    "- Ask again later\n",
    "- Do not count on it\n",
    "- Outlook not so good\n",
    "\n",
    "To help make this go faster, I have already imported the random module, and made the list of possible answers in the next cell. You may copy and paste this list into your function.\n",
    "\n",
    "When you are finished, pass a question and a number of shakes (though not too many, to avoid memory issues) to the function to see the future!"
   ]
  },
  {
   "cell_type": "code",
   "execution_count": 4,
   "id": "7ea3fda4",
   "metadata": {},
   "outputs": [],
   "source": [
    "import random\n",
    "\n",
    "answers = ['It is certain',\n",
    "           'Without a doubt',\n",
    "           'Outlook good',\n",
    "           'Signs point to yes',\n",
    "           'Reply hazy, try again',\n",
    "           'Ask again later',\n",
    "           'Do not count on it',\n",
    "           'Outlook not so good']"
   ]
  },
  {
   "cell_type": "code",
   "execution_count": 5,
   "id": "885bd8cf",
   "metadata": {},
   "outputs": [],
   "source": [
    "def magic_8_ball(question, shakes):\n",
    "    \"\"\" a function to simulate the shaking of a magic 8 ball\n",
    "    \n",
    "    Args:\n",
    "        question (str): the question being asked the ball\n",
    "        shakes (int): the number of times to shake the ball\n",
    "        \n",
    "    Returns:\n",
    "        question (str): the question asked\n",
    "        result (str): the answer to the question\n",
    "    \"\"\"\n",
    "    \n",
    "    answers = ['It is certain',\n",
    "           'Without a doubt',\n",
    "           'Outlook good',\n",
    "           'Signs point to yes',\n",
    "           'Reply hazy, try again',\n",
    "           'Ask again later',\n",
    "           'Do not count on it',\n",
    "           'Outlook not so good']\n",
    "    \n",
    "    for shake in range(shakes):\n",
    "        result = random.choices(answers)\n",
    "    \n",
    "    return question, result"
   ]
  },
  {
   "cell_type": "code",
   "execution_count": 7,
   "id": "42ed463b",
   "metadata": {},
   "outputs": [
    {
     "data": {
      "text/plain": [
       "('Did I do this correctly?', ['It is certain'])"
      ]
     },
     "execution_count": 7,
     "metadata": {},
     "output_type": "execute_result"
    }
   ],
   "source": [
    "magic_8_ball('Did I do this correctly?', 17)"
   ]
  },
  {
   "cell_type": "markdown",
   "id": "c1eb8b92",
   "metadata": {},
   "source": [
    "## Part 2: Navigating Data (50 points)\n",
    "\n",
    "This problem will make use of the `car_crashes` dataset in the seaborn module. This dataset looks at accidents in the states of the USA. This is the data set of the cause of the accidents and the cost to the accident insurance companies. The features of the dataset are:\n",
    "\n",
    "- `total`: Number of drivers involved in fatal collisions per billion miles\n",
    "- `speeding`: Percentage Of Drivers Involved In Fatal Collisions Who Were Speeding\n",
    "- `alcohol`: Percentage Of Drivers Involved In Fatal Collisions Who Were Alcohol-Impaired\n",
    "- `not_distracted`: Percentage Of Drivers Involved In Fatal Collisions Who Were Not Distracted\n",
    "- `no_previous`: Percentage Of Drivers Involved In Fatal Collisions Who Had Not Been Involved In Any Previous Accidents\n",
    "- `ins_premium`: Car Insurance Premiums\n",
    "- `ins_losses`: Losses incurred by insurance companies for collisions per insured driver\n",
    "- `abbrev`: USA states\n",
    "\n",
    "Each part of this problem has you explore the dataset in different ways, including indexing and summarizing statistically. The data are loaded below."
   ]
  },
  {
   "cell_type": "code",
   "execution_count": 8,
   "id": "c5b2d08d",
   "metadata": {},
   "outputs": [
    {
     "data": {
      "text/html": [
       "<div>\n",
       "<style scoped>\n",
       "    .dataframe tbody tr th:only-of-type {\n",
       "        vertical-align: middle;\n",
       "    }\n",
       "\n",
       "    .dataframe tbody tr th {\n",
       "        vertical-align: top;\n",
       "    }\n",
       "\n",
       "    .dataframe thead th {\n",
       "        text-align: right;\n",
       "    }\n",
       "</style>\n",
       "<table border=\"1\" class=\"dataframe\">\n",
       "  <thead>\n",
       "    <tr style=\"text-align: right;\">\n",
       "      <th></th>\n",
       "      <th>total</th>\n",
       "      <th>speeding</th>\n",
       "      <th>alcohol</th>\n",
       "      <th>not_distracted</th>\n",
       "      <th>no_previous</th>\n",
       "      <th>ins_premium</th>\n",
       "      <th>ins_losses</th>\n",
       "      <th>abbrev</th>\n",
       "    </tr>\n",
       "  </thead>\n",
       "  <tbody>\n",
       "    <tr>\n",
       "      <th>0</th>\n",
       "      <td>18.8</td>\n",
       "      <td>7.332</td>\n",
       "      <td>5.640</td>\n",
       "      <td>18.048</td>\n",
       "      <td>15.040</td>\n",
       "      <td>784.55</td>\n",
       "      <td>145.08</td>\n",
       "      <td>AL</td>\n",
       "    </tr>\n",
       "    <tr>\n",
       "      <th>1</th>\n",
       "      <td>18.1</td>\n",
       "      <td>7.421</td>\n",
       "      <td>4.525</td>\n",
       "      <td>16.290</td>\n",
       "      <td>17.014</td>\n",
       "      <td>1053.48</td>\n",
       "      <td>133.93</td>\n",
       "      <td>AK</td>\n",
       "    </tr>\n",
       "    <tr>\n",
       "      <th>2</th>\n",
       "      <td>18.6</td>\n",
       "      <td>6.510</td>\n",
       "      <td>5.208</td>\n",
       "      <td>15.624</td>\n",
       "      <td>17.856</td>\n",
       "      <td>899.47</td>\n",
       "      <td>110.35</td>\n",
       "      <td>AZ</td>\n",
       "    </tr>\n",
       "    <tr>\n",
       "      <th>3</th>\n",
       "      <td>22.4</td>\n",
       "      <td>4.032</td>\n",
       "      <td>5.824</td>\n",
       "      <td>21.056</td>\n",
       "      <td>21.280</td>\n",
       "      <td>827.34</td>\n",
       "      <td>142.39</td>\n",
       "      <td>AR</td>\n",
       "    </tr>\n",
       "    <tr>\n",
       "      <th>4</th>\n",
       "      <td>12.0</td>\n",
       "      <td>4.200</td>\n",
       "      <td>3.360</td>\n",
       "      <td>10.920</td>\n",
       "      <td>10.680</td>\n",
       "      <td>878.41</td>\n",
       "      <td>165.63</td>\n",
       "      <td>CA</td>\n",
       "    </tr>\n",
       "  </tbody>\n",
       "</table>\n",
       "</div>"
      ],
      "text/plain": [
       "   total  speeding  alcohol  not_distracted  no_previous  ins_premium  \\\n",
       "0   18.8     7.332    5.640          18.048       15.040       784.55   \n",
       "1   18.1     7.421    4.525          16.290       17.014      1053.48   \n",
       "2   18.6     6.510    5.208          15.624       17.856       899.47   \n",
       "3   22.4     4.032    5.824          21.056       21.280       827.34   \n",
       "4   12.0     4.200    3.360          10.920       10.680       878.41   \n",
       "\n",
       "   ins_losses abbrev  \n",
       "0      145.08     AL  \n",
       "1      133.93     AK  \n",
       "2      110.35     AZ  \n",
       "3      142.39     AR  \n",
       "4      165.63     CA  "
      ]
     },
     "execution_count": 8,
     "metadata": {},
     "output_type": "execute_result"
    }
   ],
   "source": [
    "import seaborn as sns\n",
    "\n",
    "df_crash = sns.load_dataset('car_crashes')\n",
    "df_crash.head()"
   ]
  },
  {
   "cell_type": "markdown",
   "id": "2ecdbe2a",
   "metadata": {},
   "source": [
    "#### Part 2.1 (5 pts)\n",
    "Return the first 3 rows of df_crash"
   ]
  },
  {
   "cell_type": "code",
   "execution_count": 9,
   "id": "68ea30a0",
   "metadata": {},
   "outputs": [
    {
     "data": {
      "text/html": [
       "<div>\n",
       "<style scoped>\n",
       "    .dataframe tbody tr th:only-of-type {\n",
       "        vertical-align: middle;\n",
       "    }\n",
       "\n",
       "    .dataframe tbody tr th {\n",
       "        vertical-align: top;\n",
       "    }\n",
       "\n",
       "    .dataframe thead th {\n",
       "        text-align: right;\n",
       "    }\n",
       "</style>\n",
       "<table border=\"1\" class=\"dataframe\">\n",
       "  <thead>\n",
       "    <tr style=\"text-align: right;\">\n",
       "      <th></th>\n",
       "      <th>total</th>\n",
       "      <th>speeding</th>\n",
       "      <th>alcohol</th>\n",
       "      <th>not_distracted</th>\n",
       "      <th>no_previous</th>\n",
       "      <th>ins_premium</th>\n",
       "      <th>ins_losses</th>\n",
       "      <th>abbrev</th>\n",
       "    </tr>\n",
       "  </thead>\n",
       "  <tbody>\n",
       "    <tr>\n",
       "      <th>0</th>\n",
       "      <td>18.8</td>\n",
       "      <td>7.332</td>\n",
       "      <td>5.640</td>\n",
       "      <td>18.048</td>\n",
       "      <td>15.040</td>\n",
       "      <td>784.55</td>\n",
       "      <td>145.08</td>\n",
       "      <td>AL</td>\n",
       "    </tr>\n",
       "    <tr>\n",
       "      <th>1</th>\n",
       "      <td>18.1</td>\n",
       "      <td>7.421</td>\n",
       "      <td>4.525</td>\n",
       "      <td>16.290</td>\n",
       "      <td>17.014</td>\n",
       "      <td>1053.48</td>\n",
       "      <td>133.93</td>\n",
       "      <td>AK</td>\n",
       "    </tr>\n",
       "    <tr>\n",
       "      <th>2</th>\n",
       "      <td>18.6</td>\n",
       "      <td>6.510</td>\n",
       "      <td>5.208</td>\n",
       "      <td>15.624</td>\n",
       "      <td>17.856</td>\n",
       "      <td>899.47</td>\n",
       "      <td>110.35</td>\n",
       "      <td>AZ</td>\n",
       "    </tr>\n",
       "  </tbody>\n",
       "</table>\n",
       "</div>"
      ],
      "text/plain": [
       "   total  speeding  alcohol  not_distracted  no_previous  ins_premium  \\\n",
       "0   18.8     7.332    5.640          18.048       15.040       784.55   \n",
       "1   18.1     7.421    4.525          16.290       17.014      1053.48   \n",
       "2   18.6     6.510    5.208          15.624       17.856       899.47   \n",
       "\n",
       "   ins_losses abbrev  \n",
       "0      145.08     AL  \n",
       "1      133.93     AK  \n",
       "2      110.35     AZ  "
      ]
     },
     "execution_count": 9,
     "metadata": {},
     "output_type": "execute_result"
    }
   ],
   "source": [
    "df_crash.head(3)"
   ]
  },
  {
   "cell_type": "markdown",
   "id": "5b11c985",
   "metadata": {},
   "source": [
    "#### Part 2.2 (5 pts)\n",
    "Return a dataframe with only the `total`, `ins_premium`, `ins_losses` and `abbrev`"
   ]
  },
  {
   "cell_type": "code",
   "execution_count": 10,
   "id": "6902e769",
   "metadata": {},
   "outputs": [
    {
     "data": {
      "text/html": [
       "<div>\n",
       "<style scoped>\n",
       "    .dataframe tbody tr th:only-of-type {\n",
       "        vertical-align: middle;\n",
       "    }\n",
       "\n",
       "    .dataframe tbody tr th {\n",
       "        vertical-align: top;\n",
       "    }\n",
       "\n",
       "    .dataframe thead th {\n",
       "        text-align: right;\n",
       "    }\n",
       "</style>\n",
       "<table border=\"1\" class=\"dataframe\">\n",
       "  <thead>\n",
       "    <tr style=\"text-align: right;\">\n",
       "      <th></th>\n",
       "      <th>total</th>\n",
       "      <th>ins_premium</th>\n",
       "      <th>ins_losses</th>\n",
       "      <th>abbrev</th>\n",
       "    </tr>\n",
       "  </thead>\n",
       "  <tbody>\n",
       "    <tr>\n",
       "      <th>0</th>\n",
       "      <td>18.8</td>\n",
       "      <td>784.55</td>\n",
       "      <td>145.08</td>\n",
       "      <td>AL</td>\n",
       "    </tr>\n",
       "    <tr>\n",
       "      <th>1</th>\n",
       "      <td>18.1</td>\n",
       "      <td>1053.48</td>\n",
       "      <td>133.93</td>\n",
       "      <td>AK</td>\n",
       "    </tr>\n",
       "    <tr>\n",
       "      <th>2</th>\n",
       "      <td>18.6</td>\n",
       "      <td>899.47</td>\n",
       "      <td>110.35</td>\n",
       "      <td>AZ</td>\n",
       "    </tr>\n",
       "    <tr>\n",
       "      <th>3</th>\n",
       "      <td>22.4</td>\n",
       "      <td>827.34</td>\n",
       "      <td>142.39</td>\n",
       "      <td>AR</td>\n",
       "    </tr>\n",
       "    <tr>\n",
       "      <th>4</th>\n",
       "      <td>12.0</td>\n",
       "      <td>878.41</td>\n",
       "      <td>165.63</td>\n",
       "      <td>CA</td>\n",
       "    </tr>\n",
       "  </tbody>\n",
       "</table>\n",
       "</div>"
      ],
      "text/plain": [
       "   total  ins_premium  ins_losses abbrev\n",
       "0   18.8       784.55      145.08     AL\n",
       "1   18.1      1053.48      133.93     AK\n",
       "2   18.6       899.47      110.35     AZ\n",
       "3   22.4       827.34      142.39     AR\n",
       "4   12.0       878.41      165.63     CA"
      ]
     },
     "execution_count": 10,
     "metadata": {},
     "output_type": "execute_result"
    }
   ],
   "source": [
    "df_crash2 = df_crash.loc[:,['total', 'ins_premium', 'ins_losses', 'abbrev']]\n",
    "df_crash2.head()"
   ]
  },
  {
   "cell_type": "markdown",
   "id": "cd32d398",
   "metadata": {},
   "source": [
    "#### Part 2.3 (5 pts)\n",
    "Return a dataframe containing all features for only those states with `ins_premium >= 1000`"
   ]
  },
  {
   "cell_type": "code",
   "execution_count": 11,
   "id": "8c5da944",
   "metadata": {},
   "outputs": [
    {
     "data": {
      "text/html": [
       "<div>\n",
       "<style scoped>\n",
       "    .dataframe tbody tr th:only-of-type {\n",
       "        vertical-align: middle;\n",
       "    }\n",
       "\n",
       "    .dataframe tbody tr th {\n",
       "        vertical-align: top;\n",
       "    }\n",
       "\n",
       "    .dataframe thead th {\n",
       "        text-align: right;\n",
       "    }\n",
       "</style>\n",
       "<table border=\"1\" class=\"dataframe\">\n",
       "  <thead>\n",
       "    <tr style=\"text-align: right;\">\n",
       "      <th></th>\n",
       "      <th>total</th>\n",
       "      <th>speeding</th>\n",
       "      <th>alcohol</th>\n",
       "      <th>not_distracted</th>\n",
       "      <th>no_previous</th>\n",
       "      <th>ins_premium</th>\n",
       "      <th>ins_losses</th>\n",
       "      <th>abbrev</th>\n",
       "    </tr>\n",
       "  </thead>\n",
       "  <tbody>\n",
       "    <tr>\n",
       "      <th>1</th>\n",
       "      <td>18.1</td>\n",
       "      <td>7.421</td>\n",
       "      <td>4.525</td>\n",
       "      <td>16.290</td>\n",
       "      <td>17.014</td>\n",
       "      <td>1053.48</td>\n",
       "      <td>133.93</td>\n",
       "      <td>AK</td>\n",
       "    </tr>\n",
       "    <tr>\n",
       "      <th>6</th>\n",
       "      <td>10.8</td>\n",
       "      <td>4.968</td>\n",
       "      <td>3.888</td>\n",
       "      <td>9.396</td>\n",
       "      <td>8.856</td>\n",
       "      <td>1068.73</td>\n",
       "      <td>167.02</td>\n",
       "      <td>CT</td>\n",
       "    </tr>\n",
       "    <tr>\n",
       "      <th>7</th>\n",
       "      <td>16.2</td>\n",
       "      <td>6.156</td>\n",
       "      <td>4.860</td>\n",
       "      <td>14.094</td>\n",
       "      <td>16.038</td>\n",
       "      <td>1137.87</td>\n",
       "      <td>151.48</td>\n",
       "      <td>DE</td>\n",
       "    </tr>\n",
       "    <tr>\n",
       "      <th>8</th>\n",
       "      <td>5.9</td>\n",
       "      <td>2.006</td>\n",
       "      <td>1.593</td>\n",
       "      <td>5.900</td>\n",
       "      <td>5.900</td>\n",
       "      <td>1273.89</td>\n",
       "      <td>136.05</td>\n",
       "      <td>DC</td>\n",
       "    </tr>\n",
       "    <tr>\n",
       "      <th>9</th>\n",
       "      <td>17.9</td>\n",
       "      <td>3.759</td>\n",
       "      <td>5.191</td>\n",
       "      <td>16.468</td>\n",
       "      <td>16.826</td>\n",
       "      <td>1160.13</td>\n",
       "      <td>144.18</td>\n",
       "      <td>FL</td>\n",
       "    </tr>\n",
       "  </tbody>\n",
       "</table>\n",
       "</div>"
      ],
      "text/plain": [
       "   total  speeding  alcohol  not_distracted  no_previous  ins_premium  \\\n",
       "1   18.1     7.421    4.525          16.290       17.014      1053.48   \n",
       "6   10.8     4.968    3.888           9.396        8.856      1068.73   \n",
       "7   16.2     6.156    4.860          14.094       16.038      1137.87   \n",
       "8    5.9     2.006    1.593           5.900        5.900      1273.89   \n",
       "9   17.9     3.759    5.191          16.468       16.826      1160.13   \n",
       "\n",
       "   ins_losses abbrev  \n",
       "1      133.93     AK  \n",
       "6      167.02     CT  \n",
       "7      151.48     DE  \n",
       "8      136.05     DC  \n",
       "9      144.18     FL  "
      ]
     },
     "execution_count": 11,
     "metadata": {},
     "output_type": "execute_result"
    }
   ],
   "source": [
    "df_crash3 = df_crash.loc[(df_crash.ins_premium >= 1000),:]\n",
    "df_crash3.head()"
   ]
  },
  {
   "cell_type": "markdown",
   "id": "ac020e4d",
   "metadata": {},
   "source": [
    "#### Part 2.4 (5 pts)\n",
    "Return a dataframe of those states whose `alcohol` value is smaller than average (within the dataset)"
   ]
  },
  {
   "cell_type": "code",
   "execution_count": 14,
   "id": "c7398692",
   "metadata": {},
   "outputs": [
    {
     "data": {
      "text/html": [
       "<div>\n",
       "<style scoped>\n",
       "    .dataframe tbody tr th:only-of-type {\n",
       "        vertical-align: middle;\n",
       "    }\n",
       "\n",
       "    .dataframe tbody tr th {\n",
       "        vertical-align: top;\n",
       "    }\n",
       "\n",
       "    .dataframe thead th {\n",
       "        text-align: right;\n",
       "    }\n",
       "</style>\n",
       "<table border=\"1\" class=\"dataframe\">\n",
       "  <thead>\n",
       "    <tr style=\"text-align: right;\">\n",
       "      <th></th>\n",
       "      <th>total</th>\n",
       "      <th>speeding</th>\n",
       "      <th>alcohol</th>\n",
       "      <th>not_distracted</th>\n",
       "      <th>no_previous</th>\n",
       "      <th>ins_premium</th>\n",
       "      <th>ins_losses</th>\n",
       "      <th>abbrev</th>\n",
       "    </tr>\n",
       "  </thead>\n",
       "  <tbody>\n",
       "    <tr>\n",
       "      <th>1</th>\n",
       "      <td>18.1</td>\n",
       "      <td>7.421</td>\n",
       "      <td>4.525</td>\n",
       "      <td>16.290</td>\n",
       "      <td>17.014</td>\n",
       "      <td>1053.48</td>\n",
       "      <td>133.93</td>\n",
       "      <td>AK</td>\n",
       "    </tr>\n",
       "    <tr>\n",
       "      <th>4</th>\n",
       "      <td>12.0</td>\n",
       "      <td>4.200</td>\n",
       "      <td>3.360</td>\n",
       "      <td>10.920</td>\n",
       "      <td>10.680</td>\n",
       "      <td>878.41</td>\n",
       "      <td>165.63</td>\n",
       "      <td>CA</td>\n",
       "    </tr>\n",
       "    <tr>\n",
       "      <th>5</th>\n",
       "      <td>13.6</td>\n",
       "      <td>5.032</td>\n",
       "      <td>3.808</td>\n",
       "      <td>10.744</td>\n",
       "      <td>12.920</td>\n",
       "      <td>835.50</td>\n",
       "      <td>139.91</td>\n",
       "      <td>CO</td>\n",
       "    </tr>\n",
       "    <tr>\n",
       "      <th>6</th>\n",
       "      <td>10.8</td>\n",
       "      <td>4.968</td>\n",
       "      <td>3.888</td>\n",
       "      <td>9.396</td>\n",
       "      <td>8.856</td>\n",
       "      <td>1068.73</td>\n",
       "      <td>167.02</td>\n",
       "      <td>CT</td>\n",
       "    </tr>\n",
       "    <tr>\n",
       "      <th>7</th>\n",
       "      <td>16.2</td>\n",
       "      <td>6.156</td>\n",
       "      <td>4.860</td>\n",
       "      <td>14.094</td>\n",
       "      <td>16.038</td>\n",
       "      <td>1137.87</td>\n",
       "      <td>151.48</td>\n",
       "      <td>DE</td>\n",
       "    </tr>\n",
       "  </tbody>\n",
       "</table>\n",
       "</div>"
      ],
      "text/plain": [
       "   total  speeding  alcohol  not_distracted  no_previous  ins_premium  \\\n",
       "1   18.1     7.421    4.525          16.290       17.014      1053.48   \n",
       "4   12.0     4.200    3.360          10.920       10.680       878.41   \n",
       "5   13.6     5.032    3.808          10.744       12.920       835.50   \n",
       "6   10.8     4.968    3.888           9.396        8.856      1068.73   \n",
       "7   16.2     6.156    4.860          14.094       16.038      1137.87   \n",
       "\n",
       "   ins_losses abbrev  \n",
       "1      133.93     AK  \n",
       "4      165.63     CA  \n",
       "5      139.91     CO  \n",
       "6      167.02     CT  \n",
       "7      151.48     DE  "
      ]
     },
     "execution_count": 14,
     "metadata": {},
     "output_type": "execute_result"
    }
   ],
   "source": [
    "mean_alcohol = df_crash.alcohol.mean()\n",
    "df_crash4 = df_crash.loc[(df_crash.alcohol < mean_alcohol),:]\n",
    "df_crash4.head()"
   ]
  },
  {
   "cell_type": "markdown",
   "id": "bfab3e92",
   "metadata": {},
   "source": [
    "#### Part 2.5 (5 pts)\n",
    "Add a column called `region` to df_crash, where the regions are defined as in the next cell."
   ]
  },
  {
   "cell_type": "code",
   "execution_count": 15,
   "id": "2d1df9e0",
   "metadata": {},
   "outputs": [],
   "source": [
    "west = ['AK', 'HI', 'CA', 'OR', 'WA', 'ID', 'NV', 'UT', 'CO', 'WY', 'MT']\n",
    "southwest = ['AZ', 'NM', 'TX', 'OK']\n",
    "midwest = ['ND', 'SD', 'NE', 'KS', 'MN', 'IA', 'MO', 'WI', 'IL', 'IN', 'MI', 'OH']\n",
    "southeast = ['AR', 'LA', 'MS', 'TN', 'KY', 'AL', 'GA', 'FL', 'SC', 'NC', 'VA', 'WV', 'DE', 'MD', 'DC']\n",
    "northeast = ['PA', 'NJ', 'CT', 'RI', 'NY', 'MA', 'NH', 'VT', 'ME']"
   ]
  },
  {
   "cell_type": "code",
   "execution_count": 17,
   "id": "a96c6a4f",
   "metadata": {},
   "outputs": [
    {
     "data": {
      "text/html": [
       "<div>\n",
       "<style scoped>\n",
       "    .dataframe tbody tr th:only-of-type {\n",
       "        vertical-align: middle;\n",
       "    }\n",
       "\n",
       "    .dataframe tbody tr th {\n",
       "        vertical-align: top;\n",
       "    }\n",
       "\n",
       "    .dataframe thead th {\n",
       "        text-align: right;\n",
       "    }\n",
       "</style>\n",
       "<table border=\"1\" class=\"dataframe\">\n",
       "  <thead>\n",
       "    <tr style=\"text-align: right;\">\n",
       "      <th></th>\n",
       "      <th>total</th>\n",
       "      <th>speeding</th>\n",
       "      <th>alcohol</th>\n",
       "      <th>not_distracted</th>\n",
       "      <th>no_previous</th>\n",
       "      <th>ins_premium</th>\n",
       "      <th>ins_losses</th>\n",
       "      <th>abbrev</th>\n",
       "      <th>region</th>\n",
       "    </tr>\n",
       "  </thead>\n",
       "  <tbody>\n",
       "    <tr>\n",
       "      <th>0</th>\n",
       "      <td>18.8</td>\n",
       "      <td>7.332</td>\n",
       "      <td>5.640</td>\n",
       "      <td>18.048</td>\n",
       "      <td>15.040</td>\n",
       "      <td>784.55</td>\n",
       "      <td>145.08</td>\n",
       "      <td>AL</td>\n",
       "      <td>southeast</td>\n",
       "    </tr>\n",
       "    <tr>\n",
       "      <th>1</th>\n",
       "      <td>18.1</td>\n",
       "      <td>7.421</td>\n",
       "      <td>4.525</td>\n",
       "      <td>16.290</td>\n",
       "      <td>17.014</td>\n",
       "      <td>1053.48</td>\n",
       "      <td>133.93</td>\n",
       "      <td>AK</td>\n",
       "      <td>west</td>\n",
       "    </tr>\n",
       "    <tr>\n",
       "      <th>2</th>\n",
       "      <td>18.6</td>\n",
       "      <td>6.510</td>\n",
       "      <td>5.208</td>\n",
       "      <td>15.624</td>\n",
       "      <td>17.856</td>\n",
       "      <td>899.47</td>\n",
       "      <td>110.35</td>\n",
       "      <td>AZ</td>\n",
       "      <td>southwest</td>\n",
       "    </tr>\n",
       "    <tr>\n",
       "      <th>3</th>\n",
       "      <td>22.4</td>\n",
       "      <td>4.032</td>\n",
       "      <td>5.824</td>\n",
       "      <td>21.056</td>\n",
       "      <td>21.280</td>\n",
       "      <td>827.34</td>\n",
       "      <td>142.39</td>\n",
       "      <td>AR</td>\n",
       "      <td>southeast</td>\n",
       "    </tr>\n",
       "    <tr>\n",
       "      <th>4</th>\n",
       "      <td>12.0</td>\n",
       "      <td>4.200</td>\n",
       "      <td>3.360</td>\n",
       "      <td>10.920</td>\n",
       "      <td>10.680</td>\n",
       "      <td>878.41</td>\n",
       "      <td>165.63</td>\n",
       "      <td>CA</td>\n",
       "      <td>west</td>\n",
       "    </tr>\n",
       "  </tbody>\n",
       "</table>\n",
       "</div>"
      ],
      "text/plain": [
       "   total  speeding  alcohol  not_distracted  no_previous  ins_premium  \\\n",
       "0   18.8     7.332    5.640          18.048       15.040       784.55   \n",
       "1   18.1     7.421    4.525          16.290       17.014      1053.48   \n",
       "2   18.6     6.510    5.208          15.624       17.856       899.47   \n",
       "3   22.4     4.032    5.824          21.056       21.280       827.34   \n",
       "4   12.0     4.200    3.360          10.920       10.680       878.41   \n",
       "\n",
       "   ins_losses abbrev     region  \n",
       "0      145.08     AL  southeast  \n",
       "1      133.93     AK       west  \n",
       "2      110.35     AZ  southwest  \n",
       "3      142.39     AR  southeast  \n",
       "4      165.63     CA       west  "
      ]
     },
     "execution_count": 17,
     "metadata": {},
     "output_type": "execute_result"
    }
   ],
   "source": [
    "# there may be multiple ways to do this; this is only one\n",
    "region = list()\n",
    "for st in range(51):\n",
    "    if df_crash.abbrev[st] in west:\n",
    "        region.append('west')\n",
    "    elif df_crash.abbrev[st] in southwest:\n",
    "        region.append('southwest')\n",
    "    elif df_crash.abbrev[st] in midwest:\n",
    "        region.append('midwest')\n",
    "    elif df_crash.abbrev[st] in southeast:\n",
    "        region.append('southeast')\n",
    "    else:\n",
    "        region.append('northeast')\n",
    "\n",
    "df_crash['region'] = region\n",
    "df_crash.head()"
   ]
  },
  {
   "cell_type": "markdown",
   "id": "965a4cb0",
   "metadata": {},
   "source": [
    "#### Part 2.6 (5 pts)\n",
    "Get a series which corresponds to the \"median\" of each numerical feature."
   ]
  },
  {
   "cell_type": "code",
   "execution_count": 22,
   "id": "c23206d0",
   "metadata": {},
   "outputs": [
    {
     "data": {
      "text/plain": [
       "total              15.600\n",
       "speeding            4.608\n",
       "alcohol             4.554\n",
       "not_distracted     13.857\n",
       "no_previous        13.775\n",
       "ins_premium       858.970\n",
       "ins_losses        136.050\n",
       "dtype: float64"
      ]
     },
     "execution_count": 22,
     "metadata": {},
     "output_type": "execute_result"
    }
   ],
   "source": [
    "sr_crash = df_crash.iloc[:,0:7].median(axis = 0)\n",
    "sr_crash"
   ]
  },
  {
   "cell_type": "markdown",
   "id": "e3e635bf",
   "metadata": {},
   "source": [
    "#### Part 2.7 (5 pts)\n",
    "Calculate and display the average `speeding` for each `region` (as created in 2.5)."
   ]
  },
  {
   "cell_type": "code",
   "execution_count": 24,
   "id": "40b29fe0",
   "metadata": {},
   "outputs": [
    {
     "data": {
      "text/plain": [
       "region\n",
       "midwest      4.215583\n",
       "northeast    4.370444\n",
       "southeast    4.974267\n",
       "southwest    6.033500\n",
       "west         6.021727\n",
       "Name: speeding, dtype: float64"
      ]
     },
     "execution_count": 24,
     "metadata": {},
     "output_type": "execute_result"
    }
   ],
   "source": [
    "df_crash_gbreg = df_crash.groupby('region')\n",
    "df_crash_gbreg.speeding.mean()"
   ]
  },
  {
   "cell_type": "markdown",
   "id": "8ade429e",
   "metadata": {},
   "source": [
    "#### Part 2.8 (5 pts)\n",
    "Build a dataframe of the average numerical features in every region (dataframe should thus have 5 rows, one for each region. Do not include non-numeric features which can't be averaged, like `abbrev`)."
   ]
  },
  {
   "cell_type": "code",
   "execution_count": 26,
   "id": "69e6cf68",
   "metadata": {},
   "outputs": [
    {
     "data": {
      "text/html": [
       "<div>\n",
       "<style scoped>\n",
       "    .dataframe tbody tr th:only-of-type {\n",
       "        vertical-align: middle;\n",
       "    }\n",
       "\n",
       "    .dataframe tbody tr th {\n",
       "        vertical-align: top;\n",
       "    }\n",
       "\n",
       "    .dataframe thead th {\n",
       "        text-align: right;\n",
       "    }\n",
       "</style>\n",
       "<table border=\"1\" class=\"dataframe\">\n",
       "  <thead>\n",
       "    <tr style=\"text-align: right;\">\n",
       "      <th></th>\n",
       "      <th>total</th>\n",
       "      <th>speeding</th>\n",
       "      <th>alcohol</th>\n",
       "      <th>not_distracted</th>\n",
       "      <th>no_previous</th>\n",
       "      <th>ins_premium</th>\n",
       "      <th>ins_losses</th>\n",
       "    </tr>\n",
       "    <tr>\n",
       "      <th>region</th>\n",
       "      <th></th>\n",
       "      <th></th>\n",
       "      <th></th>\n",
       "      <th></th>\n",
       "      <th></th>\n",
       "      <th></th>\n",
       "      <th></th>\n",
       "    </tr>\n",
       "  </thead>\n",
       "  <tbody>\n",
       "    <tr>\n",
       "      <th>midwest</th>\n",
       "      <td>15.558333</td>\n",
       "      <td>4.215583</td>\n",
       "      <td>4.996917</td>\n",
       "      <td>13.939000</td>\n",
       "      <td>13.456917</td>\n",
       "      <td>756.630833</td>\n",
       "      <td>123.995833</td>\n",
       "    </tr>\n",
       "    <tr>\n",
       "      <th>northeast</th>\n",
       "      <td>12.455556</td>\n",
       "      <td>4.370444</td>\n",
       "      <td>3.934556</td>\n",
       "      <td>11.217222</td>\n",
       "      <td>10.445444</td>\n",
       "      <td>977.255556</td>\n",
       "      <td>137.926667</td>\n",
       "    </tr>\n",
       "    <tr>\n",
       "      <th>southeast</th>\n",
       "      <td>17.700000</td>\n",
       "      <td>4.974267</td>\n",
       "      <td>5.260400</td>\n",
       "      <td>14.769267</td>\n",
       "      <td>15.771000</td>\n",
       "      <td>952.834667</td>\n",
       "      <td>149.888000</td>\n",
       "    </tr>\n",
       "    <tr>\n",
       "      <th>southwest</th>\n",
       "      <td>19.075000</td>\n",
       "      <td>6.033500</td>\n",
       "      <td>5.829750</td>\n",
       "      <td>15.978500</td>\n",
       "      <td>17.868000</td>\n",
       "      <td>913.895000</td>\n",
       "      <td>141.697500</td>\n",
       "    </tr>\n",
       "    <tr>\n",
       "      <th>west</th>\n",
       "      <td>14.972727</td>\n",
       "      <td>6.021727</td>\n",
       "      <td>4.693364</td>\n",
       "      <td>12.596000</td>\n",
       "      <td>13.701818</td>\n",
       "      <td>855.624545</td>\n",
       "      <td>119.522727</td>\n",
       "    </tr>\n",
       "  </tbody>\n",
       "</table>\n",
       "</div>"
      ],
      "text/plain": [
       "               total  speeding   alcohol  not_distracted  no_previous  \\\n",
       "region                                                                  \n",
       "midwest    15.558333  4.215583  4.996917       13.939000    13.456917   \n",
       "northeast  12.455556  4.370444  3.934556       11.217222    10.445444   \n",
       "southeast  17.700000  4.974267  5.260400       14.769267    15.771000   \n",
       "southwest  19.075000  6.033500  5.829750       15.978500    17.868000   \n",
       "west       14.972727  6.021727  4.693364       12.596000    13.701818   \n",
       "\n",
       "           ins_premium  ins_losses  \n",
       "region                              \n",
       "midwest     756.630833  123.995833  \n",
       "northeast   977.255556  137.926667  \n",
       "southeast   952.834667  149.888000  \n",
       "southwest   913.895000  141.697500  \n",
       "west        855.624545  119.522727  "
      ]
     },
     "execution_count": 26,
     "metadata": {},
     "output_type": "execute_result"
    }
   ],
   "source": [
    "df_crash_avgreg = df_crash_gbreg.mean()\n",
    "df_crash_avgreg"
   ]
  },
  {
   "cell_type": "markdown",
   "id": "7162edf1",
   "metadata": {},
   "source": [
    "#### Part 2.9 (5 pts)\n",
    "Are states with a higher `alcohol` value associated with states that have higher `ins_premium` values? Justify your response with one or two sentences by citing some observations from the data frame"
   ]
  },
  {
   "cell_type": "code",
   "execution_count": 32,
   "id": "5f7edb9a",
   "metadata": {},
   "outputs": [
    {
     "data": {
      "application/vnd.plotly.v1+json": {
       "config": {
        "plotlyServerURL": "https://plot.ly"
       },
       "data": [
        {
         "customdata": [
          [
           "AL"
          ],
          [
           "AR"
          ],
          [
           "DE"
          ],
          [
           "DC"
          ],
          [
           "FL"
          ],
          [
           "GA"
          ],
          [
           "KY"
          ],
          [
           "LA"
          ],
          [
           "MD"
          ],
          [
           "MS"
          ],
          [
           "NC"
          ],
          [
           "SC"
          ],
          [
           "TN"
          ],
          [
           "VA"
          ],
          [
           "WV"
          ]
         ],
         "hovertemplate": "region=southeast<br>alcohol=%{x}<br>ins_premium=%{y}<br>abbrev=%{customdata[0]}<extra></extra>",
         "legendgroup": "southeast",
         "marker": {
          "color": "#636efa",
          "symbol": "circle"
         },
         "mode": "markers",
         "name": "southeast",
         "orientation": "v",
         "showlegend": true,
         "type": "scatter",
         "x": [
          5.64,
          5.824,
          4.86,
          1.5930000000000002,
          5.190999999999999,
          3.9,
          4.922,
          6.765,
          4,
          5.456,
          5.208000000000001,
          9.799,
          5.655,
          3.429,
          6.664
         ],
         "xaxis": "x",
         "y": [
          784.55,
          827.34,
          1137.87,
          1273.89,
          1160.13,
          913.15,
          872.51,
          1281.55,
          1048.78,
          896.07,
          708.24,
          858.97,
          767.91,
          768.95,
          992.61
         ],
         "yaxis": "y"
        },
        {
         "customdata": [
          [
           "AK"
          ],
          [
           "CA"
          ],
          [
           "CO"
          ],
          [
           "HI"
          ],
          [
           "ID"
          ],
          [
           "MT"
          ],
          [
           "NV"
          ],
          [
           "OR"
          ],
          [
           "UT"
          ],
          [
           "WA"
          ],
          [
           "WY"
          ]
         ],
         "hovertemplate": "region=west<br>alcohol=%{x}<br>ins_premium=%{y}<br>abbrev=%{customdata[0]}<extra></extra>",
         "legendgroup": "west",
         "marker": {
          "color": "#EF553B",
          "symbol": "circle"
         },
         "mode": "markers",
         "name": "west",
         "orientation": "v",
         "showlegend": true,
         "type": "scatter",
         "x": [
          4.525,
          3.36,
          3.808,
          7.175,
          4.437,
          9.416,
          4.704,
          3.3280000000000003,
          1.808,
          3.498,
          5.568
         ],
         "xaxis": "x",
         "y": [
          1053.48,
          878.41,
          835.5,
          861.18,
          641.96,
          816.21,
          1029.87,
          804.71,
          809.38,
          890.03,
          791.14
         ],
         "yaxis": "y"
        },
        {
         "customdata": [
          [
           "AZ"
          ],
          [
           "NM"
          ],
          [
           "OK"
          ],
          [
           "TX"
          ]
         ],
         "hovertemplate": "region=southwest<br>alcohol=%{x}<br>ins_premium=%{y}<br>abbrev=%{customdata[0]}<extra></extra>",
         "legendgroup": "southwest",
         "marker": {
          "color": "#00cc96",
          "symbol": "circle"
         },
         "mode": "markers",
         "name": "southwest",
         "orientation": "v",
         "showlegend": true,
         "type": "scatter",
         "x": [
          5.208000000000001,
          4.968,
          5.770999999999999,
          7.371999999999999
         ],
         "xaxis": "x",
         "y": [
          899.47,
          869.85,
          881.51,
          1004.75
         ],
         "yaxis": "y"
        },
        {
         "customdata": [
          [
           "CT"
          ],
          [
           "ME"
          ],
          [
           "MA"
          ],
          [
           "NH"
          ],
          [
           "NJ"
          ],
          [
           "NY"
          ],
          [
           "PA"
          ],
          [
           "RI"
          ],
          [
           "VT"
          ]
         ],
         "hovertemplate": "region=northeast<br>alcohol=%{x}<br>ins_premium=%{y}<br>abbrev=%{customdata[0]}<extra></extra>",
         "legendgroup": "northeast",
         "marker": {
          "color": "#ab63fa",
          "symbol": "circle"
         },
         "mode": "markers",
         "name": "northeast",
         "orientation": "v",
         "showlegend": true,
         "type": "scatter",
         "x": [
          3.888,
          4.53,
          2.87,
          3.48,
          3.136,
          3.5670000000000006,
          5.642,
          4.218,
          4.08
         ],
         "xaxis": "x",
         "y": [
          1068.73,
          661.88,
          1011.14,
          746.54,
          1301.52,
          1234.31,
          905.99,
          1148.99,
          716.2
         ],
         "yaxis": "y"
        },
        {
         "customdata": [
          [
           "IL"
          ],
          [
           "IN"
          ],
          [
           "IA"
          ],
          [
           "KS"
          ],
          [
           "MI"
          ],
          [
           "MN"
          ],
          [
           "MO"
          ],
          [
           "NE"
          ],
          [
           "ND"
          ],
          [
           "OH"
          ],
          [
           "SD"
          ],
          [
           "WI"
          ]
         ],
         "hovertemplate": "region=midwest<br>alcohol=%{x}<br>ins_premium=%{y}<br>abbrev=%{customdata[0]}<extra></extra>",
         "legendgroup": "midwest",
         "marker": {
          "color": "#FFA15A",
          "symbol": "circle"
         },
         "mode": "markers",
         "name": "midwest",
         "orientation": "v",
         "showlegend": true,
         "type": "scatter",
         "x": [
          4.352,
          4.205,
          3.925,
          4.272,
          3.948,
          2.784,
          5.474000000000001,
          5.215,
          10.038,
          4.794,
          6.401999999999999,
          4.554
         ],
         "xaxis": "x",
         "y": [
          803.11,
          710.46,
          649.06,
          780.45,
          1110.61,
          777.18,
          790.32,
          732.28,
          688.75,
          697.73,
          669.31,
          670.31
         ],
         "yaxis": "y"
        }
       ],
       "layout": {
        "legend": {
         "title": {
          "text": "region"
         },
         "tracegroupgap": 0
        },
        "margin": {
         "t": 60
        },
        "template": {
         "data": {
          "bar": [
           {
            "error_x": {
             "color": "#2a3f5f"
            },
            "error_y": {
             "color": "#2a3f5f"
            },
            "marker": {
             "line": {
              "color": "#E5ECF6",
              "width": 0.5
             },
             "pattern": {
              "fillmode": "overlay",
              "size": 10,
              "solidity": 0.2
             }
            },
            "type": "bar"
           }
          ],
          "barpolar": [
           {
            "marker": {
             "line": {
              "color": "#E5ECF6",
              "width": 0.5
             },
             "pattern": {
              "fillmode": "overlay",
              "size": 10,
              "solidity": 0.2
             }
            },
            "type": "barpolar"
           }
          ],
          "carpet": [
           {
            "aaxis": {
             "endlinecolor": "#2a3f5f",
             "gridcolor": "white",
             "linecolor": "white",
             "minorgridcolor": "white",
             "startlinecolor": "#2a3f5f"
            },
            "baxis": {
             "endlinecolor": "#2a3f5f",
             "gridcolor": "white",
             "linecolor": "white",
             "minorgridcolor": "white",
             "startlinecolor": "#2a3f5f"
            },
            "type": "carpet"
           }
          ],
          "choropleth": [
           {
            "colorbar": {
             "outlinewidth": 0,
             "ticks": ""
            },
            "type": "choropleth"
           }
          ],
          "contour": [
           {
            "colorbar": {
             "outlinewidth": 0,
             "ticks": ""
            },
            "colorscale": [
             [
              0,
              "#0d0887"
             ],
             [
              0.1111111111111111,
              "#46039f"
             ],
             [
              0.2222222222222222,
              "#7201a8"
             ],
             [
              0.3333333333333333,
              "#9c179e"
             ],
             [
              0.4444444444444444,
              "#bd3786"
             ],
             [
              0.5555555555555556,
              "#d8576b"
             ],
             [
              0.6666666666666666,
              "#ed7953"
             ],
             [
              0.7777777777777778,
              "#fb9f3a"
             ],
             [
              0.8888888888888888,
              "#fdca26"
             ],
             [
              1,
              "#f0f921"
             ]
            ],
            "type": "contour"
           }
          ],
          "contourcarpet": [
           {
            "colorbar": {
             "outlinewidth": 0,
             "ticks": ""
            },
            "type": "contourcarpet"
           }
          ],
          "heatmap": [
           {
            "colorbar": {
             "outlinewidth": 0,
             "ticks": ""
            },
            "colorscale": [
             [
              0,
              "#0d0887"
             ],
             [
              0.1111111111111111,
              "#46039f"
             ],
             [
              0.2222222222222222,
              "#7201a8"
             ],
             [
              0.3333333333333333,
              "#9c179e"
             ],
             [
              0.4444444444444444,
              "#bd3786"
             ],
             [
              0.5555555555555556,
              "#d8576b"
             ],
             [
              0.6666666666666666,
              "#ed7953"
             ],
             [
              0.7777777777777778,
              "#fb9f3a"
             ],
             [
              0.8888888888888888,
              "#fdca26"
             ],
             [
              1,
              "#f0f921"
             ]
            ],
            "type": "heatmap"
           }
          ],
          "heatmapgl": [
           {
            "colorbar": {
             "outlinewidth": 0,
             "ticks": ""
            },
            "colorscale": [
             [
              0,
              "#0d0887"
             ],
             [
              0.1111111111111111,
              "#46039f"
             ],
             [
              0.2222222222222222,
              "#7201a8"
             ],
             [
              0.3333333333333333,
              "#9c179e"
             ],
             [
              0.4444444444444444,
              "#bd3786"
             ],
             [
              0.5555555555555556,
              "#d8576b"
             ],
             [
              0.6666666666666666,
              "#ed7953"
             ],
             [
              0.7777777777777778,
              "#fb9f3a"
             ],
             [
              0.8888888888888888,
              "#fdca26"
             ],
             [
              1,
              "#f0f921"
             ]
            ],
            "type": "heatmapgl"
           }
          ],
          "histogram": [
           {
            "marker": {
             "pattern": {
              "fillmode": "overlay",
              "size": 10,
              "solidity": 0.2
             }
            },
            "type": "histogram"
           }
          ],
          "histogram2d": [
           {
            "colorbar": {
             "outlinewidth": 0,
             "ticks": ""
            },
            "colorscale": [
             [
              0,
              "#0d0887"
             ],
             [
              0.1111111111111111,
              "#46039f"
             ],
             [
              0.2222222222222222,
              "#7201a8"
             ],
             [
              0.3333333333333333,
              "#9c179e"
             ],
             [
              0.4444444444444444,
              "#bd3786"
             ],
             [
              0.5555555555555556,
              "#d8576b"
             ],
             [
              0.6666666666666666,
              "#ed7953"
             ],
             [
              0.7777777777777778,
              "#fb9f3a"
             ],
             [
              0.8888888888888888,
              "#fdca26"
             ],
             [
              1,
              "#f0f921"
             ]
            ],
            "type": "histogram2d"
           }
          ],
          "histogram2dcontour": [
           {
            "colorbar": {
             "outlinewidth": 0,
             "ticks": ""
            },
            "colorscale": [
             [
              0,
              "#0d0887"
             ],
             [
              0.1111111111111111,
              "#46039f"
             ],
             [
              0.2222222222222222,
              "#7201a8"
             ],
             [
              0.3333333333333333,
              "#9c179e"
             ],
             [
              0.4444444444444444,
              "#bd3786"
             ],
             [
              0.5555555555555556,
              "#d8576b"
             ],
             [
              0.6666666666666666,
              "#ed7953"
             ],
             [
              0.7777777777777778,
              "#fb9f3a"
             ],
             [
              0.8888888888888888,
              "#fdca26"
             ],
             [
              1,
              "#f0f921"
             ]
            ],
            "type": "histogram2dcontour"
           }
          ],
          "mesh3d": [
           {
            "colorbar": {
             "outlinewidth": 0,
             "ticks": ""
            },
            "type": "mesh3d"
           }
          ],
          "parcoords": [
           {
            "line": {
             "colorbar": {
              "outlinewidth": 0,
              "ticks": ""
             }
            },
            "type": "parcoords"
           }
          ],
          "pie": [
           {
            "automargin": true,
            "type": "pie"
           }
          ],
          "scatter": [
           {
            "fillpattern": {
             "fillmode": "overlay",
             "size": 10,
             "solidity": 0.2
            },
            "type": "scatter"
           }
          ],
          "scatter3d": [
           {
            "line": {
             "colorbar": {
              "outlinewidth": 0,
              "ticks": ""
             }
            },
            "marker": {
             "colorbar": {
              "outlinewidth": 0,
              "ticks": ""
             }
            },
            "type": "scatter3d"
           }
          ],
          "scattercarpet": [
           {
            "marker": {
             "colorbar": {
              "outlinewidth": 0,
              "ticks": ""
             }
            },
            "type": "scattercarpet"
           }
          ],
          "scattergeo": [
           {
            "marker": {
             "colorbar": {
              "outlinewidth": 0,
              "ticks": ""
             }
            },
            "type": "scattergeo"
           }
          ],
          "scattergl": [
           {
            "marker": {
             "colorbar": {
              "outlinewidth": 0,
              "ticks": ""
             }
            },
            "type": "scattergl"
           }
          ],
          "scattermapbox": [
           {
            "marker": {
             "colorbar": {
              "outlinewidth": 0,
              "ticks": ""
             }
            },
            "type": "scattermapbox"
           }
          ],
          "scatterpolar": [
           {
            "marker": {
             "colorbar": {
              "outlinewidth": 0,
              "ticks": ""
             }
            },
            "type": "scatterpolar"
           }
          ],
          "scatterpolargl": [
           {
            "marker": {
             "colorbar": {
              "outlinewidth": 0,
              "ticks": ""
             }
            },
            "type": "scatterpolargl"
           }
          ],
          "scatterternary": [
           {
            "marker": {
             "colorbar": {
              "outlinewidth": 0,
              "ticks": ""
             }
            },
            "type": "scatterternary"
           }
          ],
          "surface": [
           {
            "colorbar": {
             "outlinewidth": 0,
             "ticks": ""
            },
            "colorscale": [
             [
              0,
              "#0d0887"
             ],
             [
              0.1111111111111111,
              "#46039f"
             ],
             [
              0.2222222222222222,
              "#7201a8"
             ],
             [
              0.3333333333333333,
              "#9c179e"
             ],
             [
              0.4444444444444444,
              "#bd3786"
             ],
             [
              0.5555555555555556,
              "#d8576b"
             ],
             [
              0.6666666666666666,
              "#ed7953"
             ],
             [
              0.7777777777777778,
              "#fb9f3a"
             ],
             [
              0.8888888888888888,
              "#fdca26"
             ],
             [
              1,
              "#f0f921"
             ]
            ],
            "type": "surface"
           }
          ],
          "table": [
           {
            "cells": {
             "fill": {
              "color": "#EBF0F8"
             },
             "line": {
              "color": "white"
             }
            },
            "header": {
             "fill": {
              "color": "#C8D4E3"
             },
             "line": {
              "color": "white"
             }
            },
            "type": "table"
           }
          ]
         },
         "layout": {
          "annotationdefaults": {
           "arrowcolor": "#2a3f5f",
           "arrowhead": 0,
           "arrowwidth": 1
          },
          "autotypenumbers": "strict",
          "coloraxis": {
           "colorbar": {
            "outlinewidth": 0,
            "ticks": ""
           }
          },
          "colorscale": {
           "diverging": [
            [
             0,
             "#8e0152"
            ],
            [
             0.1,
             "#c51b7d"
            ],
            [
             0.2,
             "#de77ae"
            ],
            [
             0.3,
             "#f1b6da"
            ],
            [
             0.4,
             "#fde0ef"
            ],
            [
             0.5,
             "#f7f7f7"
            ],
            [
             0.6,
             "#e6f5d0"
            ],
            [
             0.7,
             "#b8e186"
            ],
            [
             0.8,
             "#7fbc41"
            ],
            [
             0.9,
             "#4d9221"
            ],
            [
             1,
             "#276419"
            ]
           ],
           "sequential": [
            [
             0,
             "#0d0887"
            ],
            [
             0.1111111111111111,
             "#46039f"
            ],
            [
             0.2222222222222222,
             "#7201a8"
            ],
            [
             0.3333333333333333,
             "#9c179e"
            ],
            [
             0.4444444444444444,
             "#bd3786"
            ],
            [
             0.5555555555555556,
             "#d8576b"
            ],
            [
             0.6666666666666666,
             "#ed7953"
            ],
            [
             0.7777777777777778,
             "#fb9f3a"
            ],
            [
             0.8888888888888888,
             "#fdca26"
            ],
            [
             1,
             "#f0f921"
            ]
           ],
           "sequentialminus": [
            [
             0,
             "#0d0887"
            ],
            [
             0.1111111111111111,
             "#46039f"
            ],
            [
             0.2222222222222222,
             "#7201a8"
            ],
            [
             0.3333333333333333,
             "#9c179e"
            ],
            [
             0.4444444444444444,
             "#bd3786"
            ],
            [
             0.5555555555555556,
             "#d8576b"
            ],
            [
             0.6666666666666666,
             "#ed7953"
            ],
            [
             0.7777777777777778,
             "#fb9f3a"
            ],
            [
             0.8888888888888888,
             "#fdca26"
            ],
            [
             1,
             "#f0f921"
            ]
           ]
          },
          "colorway": [
           "#636efa",
           "#EF553B",
           "#00cc96",
           "#ab63fa",
           "#FFA15A",
           "#19d3f3",
           "#FF6692",
           "#B6E880",
           "#FF97FF",
           "#FECB52"
          ],
          "font": {
           "color": "#2a3f5f"
          },
          "geo": {
           "bgcolor": "white",
           "lakecolor": "white",
           "landcolor": "#E5ECF6",
           "showlakes": true,
           "showland": true,
           "subunitcolor": "white"
          },
          "hoverlabel": {
           "align": "left"
          },
          "hovermode": "closest",
          "mapbox": {
           "style": "light"
          },
          "paper_bgcolor": "white",
          "plot_bgcolor": "#E5ECF6",
          "polar": {
           "angularaxis": {
            "gridcolor": "white",
            "linecolor": "white",
            "ticks": ""
           },
           "bgcolor": "#E5ECF6",
           "radialaxis": {
            "gridcolor": "white",
            "linecolor": "white",
            "ticks": ""
           }
          },
          "scene": {
           "xaxis": {
            "backgroundcolor": "#E5ECF6",
            "gridcolor": "white",
            "gridwidth": 2,
            "linecolor": "white",
            "showbackground": true,
            "ticks": "",
            "zerolinecolor": "white"
           },
           "yaxis": {
            "backgroundcolor": "#E5ECF6",
            "gridcolor": "white",
            "gridwidth": 2,
            "linecolor": "white",
            "showbackground": true,
            "ticks": "",
            "zerolinecolor": "white"
           },
           "zaxis": {
            "backgroundcolor": "#E5ECF6",
            "gridcolor": "white",
            "gridwidth": 2,
            "linecolor": "white",
            "showbackground": true,
            "ticks": "",
            "zerolinecolor": "white"
           }
          },
          "shapedefaults": {
           "line": {
            "color": "#2a3f5f"
           }
          },
          "ternary": {
           "aaxis": {
            "gridcolor": "white",
            "linecolor": "white",
            "ticks": ""
           },
           "baxis": {
            "gridcolor": "white",
            "linecolor": "white",
            "ticks": ""
           },
           "bgcolor": "#E5ECF6",
           "caxis": {
            "gridcolor": "white",
            "linecolor": "white",
            "ticks": ""
           }
          },
          "title": {
           "x": 0.05
          },
          "xaxis": {
           "automargin": true,
           "gridcolor": "white",
           "linecolor": "white",
           "ticks": "",
           "title": {
            "standoff": 15
           },
           "zerolinecolor": "white",
           "zerolinewidth": 2
          },
          "yaxis": {
           "automargin": true,
           "gridcolor": "white",
           "linecolor": "white",
           "ticks": "",
           "title": {
            "standoff": 15
           },
           "zerolinecolor": "white",
           "zerolinewidth": 2
          }
         }
        },
        "xaxis": {
         "anchor": "y",
         "domain": [
          0,
          1
         ],
         "title": {
          "text": "alcohol"
         }
        },
        "yaxis": {
         "anchor": "x",
         "domain": [
          0,
          1
         ],
         "title": {
          "text": "ins_premium"
         }
        }
       }
      },
      "text/html": [
       "<div>                            <div id=\"ee9e5810-0ae2-48ad-9691-de82993d3149\" class=\"plotly-graph-div\" style=\"height:525px; width:100%;\"></div>            <script type=\"text/javascript\">                require([\"plotly\"], function(Plotly) {                    window.PLOTLYENV=window.PLOTLYENV || {};                                    if (document.getElementById(\"ee9e5810-0ae2-48ad-9691-de82993d3149\")) {                    Plotly.newPlot(                        \"ee9e5810-0ae2-48ad-9691-de82993d3149\",                        [{\"customdata\":[[\"AL\"],[\"AR\"],[\"DE\"],[\"DC\"],[\"FL\"],[\"GA\"],[\"KY\"],[\"LA\"],[\"MD\"],[\"MS\"],[\"NC\"],[\"SC\"],[\"TN\"],[\"VA\"],[\"WV\"]],\"hovertemplate\":\"region=southeast<br>alcohol=%{x}<br>ins_premium=%{y}<br>abbrev=%{customdata[0]}<extra></extra>\",\"legendgroup\":\"southeast\",\"marker\":{\"color\":\"#636efa\",\"symbol\":\"circle\"},\"mode\":\"markers\",\"name\":\"southeast\",\"orientation\":\"v\",\"showlegend\":true,\"x\":[5.64,5.824,4.86,1.5930000000000002,5.190999999999999,3.9,4.922,6.765,4.0,5.456,5.208000000000001,9.799,5.655,3.429,6.664],\"xaxis\":\"x\",\"y\":[784.55,827.34,1137.87,1273.89,1160.13,913.15,872.51,1281.55,1048.78,896.07,708.24,858.97,767.91,768.95,992.61],\"yaxis\":\"y\",\"type\":\"scatter\"},{\"customdata\":[[\"AK\"],[\"CA\"],[\"CO\"],[\"HI\"],[\"ID\"],[\"MT\"],[\"NV\"],[\"OR\"],[\"UT\"],[\"WA\"],[\"WY\"]],\"hovertemplate\":\"region=west<br>alcohol=%{x}<br>ins_premium=%{y}<br>abbrev=%{customdata[0]}<extra></extra>\",\"legendgroup\":\"west\",\"marker\":{\"color\":\"#EF553B\",\"symbol\":\"circle\"},\"mode\":\"markers\",\"name\":\"west\",\"orientation\":\"v\",\"showlegend\":true,\"x\":[4.525,3.36,3.808,7.175,4.437,9.416,4.704,3.3280000000000003,1.808,3.498,5.568],\"xaxis\":\"x\",\"y\":[1053.48,878.41,835.5,861.18,641.96,816.21,1029.87,804.71,809.38,890.03,791.14],\"yaxis\":\"y\",\"type\":\"scatter\"},{\"customdata\":[[\"AZ\"],[\"NM\"],[\"OK\"],[\"TX\"]],\"hovertemplate\":\"region=southwest<br>alcohol=%{x}<br>ins_premium=%{y}<br>abbrev=%{customdata[0]}<extra></extra>\",\"legendgroup\":\"southwest\",\"marker\":{\"color\":\"#00cc96\",\"symbol\":\"circle\"},\"mode\":\"markers\",\"name\":\"southwest\",\"orientation\":\"v\",\"showlegend\":true,\"x\":[5.208000000000001,4.968,5.770999999999999,7.371999999999999],\"xaxis\":\"x\",\"y\":[899.47,869.85,881.51,1004.75],\"yaxis\":\"y\",\"type\":\"scatter\"},{\"customdata\":[[\"CT\"],[\"ME\"],[\"MA\"],[\"NH\"],[\"NJ\"],[\"NY\"],[\"PA\"],[\"RI\"],[\"VT\"]],\"hovertemplate\":\"region=northeast<br>alcohol=%{x}<br>ins_premium=%{y}<br>abbrev=%{customdata[0]}<extra></extra>\",\"legendgroup\":\"northeast\",\"marker\":{\"color\":\"#ab63fa\",\"symbol\":\"circle\"},\"mode\":\"markers\",\"name\":\"northeast\",\"orientation\":\"v\",\"showlegend\":true,\"x\":[3.888,4.53,2.87,3.48,3.136,3.5670000000000006,5.642,4.218,4.08],\"xaxis\":\"x\",\"y\":[1068.73,661.88,1011.14,746.54,1301.52,1234.31,905.99,1148.99,716.2],\"yaxis\":\"y\",\"type\":\"scatter\"},{\"customdata\":[[\"IL\"],[\"IN\"],[\"IA\"],[\"KS\"],[\"MI\"],[\"MN\"],[\"MO\"],[\"NE\"],[\"ND\"],[\"OH\"],[\"SD\"],[\"WI\"]],\"hovertemplate\":\"region=midwest<br>alcohol=%{x}<br>ins_premium=%{y}<br>abbrev=%{customdata[0]}<extra></extra>\",\"legendgroup\":\"midwest\",\"marker\":{\"color\":\"#FFA15A\",\"symbol\":\"circle\"},\"mode\":\"markers\",\"name\":\"midwest\",\"orientation\":\"v\",\"showlegend\":true,\"x\":[4.352,4.205,3.925,4.272,3.948,2.784,5.474000000000001,5.215,10.038,4.794,6.401999999999999,4.554],\"xaxis\":\"x\",\"y\":[803.11,710.46,649.06,780.45,1110.61,777.18,790.32,732.28,688.75,697.73,669.31,670.31],\"yaxis\":\"y\",\"type\":\"scatter\"}],                        {\"template\":{\"data\":{\"histogram2dcontour\":[{\"type\":\"histogram2dcontour\",\"colorbar\":{\"outlinewidth\":0,\"ticks\":\"\"},\"colorscale\":[[0.0,\"#0d0887\"],[0.1111111111111111,\"#46039f\"],[0.2222222222222222,\"#7201a8\"],[0.3333333333333333,\"#9c179e\"],[0.4444444444444444,\"#bd3786\"],[0.5555555555555556,\"#d8576b\"],[0.6666666666666666,\"#ed7953\"],[0.7777777777777778,\"#fb9f3a\"],[0.8888888888888888,\"#fdca26\"],[1.0,\"#f0f921\"]]}],\"choropleth\":[{\"type\":\"choropleth\",\"colorbar\":{\"outlinewidth\":0,\"ticks\":\"\"}}],\"histogram2d\":[{\"type\":\"histogram2d\",\"colorbar\":{\"outlinewidth\":0,\"ticks\":\"\"},\"colorscale\":[[0.0,\"#0d0887\"],[0.1111111111111111,\"#46039f\"],[0.2222222222222222,\"#7201a8\"],[0.3333333333333333,\"#9c179e\"],[0.4444444444444444,\"#bd3786\"],[0.5555555555555556,\"#d8576b\"],[0.6666666666666666,\"#ed7953\"],[0.7777777777777778,\"#fb9f3a\"],[0.8888888888888888,\"#fdca26\"],[1.0,\"#f0f921\"]]}],\"heatmap\":[{\"type\":\"heatmap\",\"colorbar\":{\"outlinewidth\":0,\"ticks\":\"\"},\"colorscale\":[[0.0,\"#0d0887\"],[0.1111111111111111,\"#46039f\"],[0.2222222222222222,\"#7201a8\"],[0.3333333333333333,\"#9c179e\"],[0.4444444444444444,\"#bd3786\"],[0.5555555555555556,\"#d8576b\"],[0.6666666666666666,\"#ed7953\"],[0.7777777777777778,\"#fb9f3a\"],[0.8888888888888888,\"#fdca26\"],[1.0,\"#f0f921\"]]}],\"heatmapgl\":[{\"type\":\"heatmapgl\",\"colorbar\":{\"outlinewidth\":0,\"ticks\":\"\"},\"colorscale\":[[0.0,\"#0d0887\"],[0.1111111111111111,\"#46039f\"],[0.2222222222222222,\"#7201a8\"],[0.3333333333333333,\"#9c179e\"],[0.4444444444444444,\"#bd3786\"],[0.5555555555555556,\"#d8576b\"],[0.6666666666666666,\"#ed7953\"],[0.7777777777777778,\"#fb9f3a\"],[0.8888888888888888,\"#fdca26\"],[1.0,\"#f0f921\"]]}],\"contourcarpet\":[{\"type\":\"contourcarpet\",\"colorbar\":{\"outlinewidth\":0,\"ticks\":\"\"}}],\"contour\":[{\"type\":\"contour\",\"colorbar\":{\"outlinewidth\":0,\"ticks\":\"\"},\"colorscale\":[[0.0,\"#0d0887\"],[0.1111111111111111,\"#46039f\"],[0.2222222222222222,\"#7201a8\"],[0.3333333333333333,\"#9c179e\"],[0.4444444444444444,\"#bd3786\"],[0.5555555555555556,\"#d8576b\"],[0.6666666666666666,\"#ed7953\"],[0.7777777777777778,\"#fb9f3a\"],[0.8888888888888888,\"#fdca26\"],[1.0,\"#f0f921\"]]}],\"surface\":[{\"type\":\"surface\",\"colorbar\":{\"outlinewidth\":0,\"ticks\":\"\"},\"colorscale\":[[0.0,\"#0d0887\"],[0.1111111111111111,\"#46039f\"],[0.2222222222222222,\"#7201a8\"],[0.3333333333333333,\"#9c179e\"],[0.4444444444444444,\"#bd3786\"],[0.5555555555555556,\"#d8576b\"],[0.6666666666666666,\"#ed7953\"],[0.7777777777777778,\"#fb9f3a\"],[0.8888888888888888,\"#fdca26\"],[1.0,\"#f0f921\"]]}],\"mesh3d\":[{\"type\":\"mesh3d\",\"colorbar\":{\"outlinewidth\":0,\"ticks\":\"\"}}],\"scatter\":[{\"fillpattern\":{\"fillmode\":\"overlay\",\"size\":10,\"solidity\":0.2},\"type\":\"scatter\"}],\"parcoords\":[{\"type\":\"parcoords\",\"line\":{\"colorbar\":{\"outlinewidth\":0,\"ticks\":\"\"}}}],\"scatterpolargl\":[{\"type\":\"scatterpolargl\",\"marker\":{\"colorbar\":{\"outlinewidth\":0,\"ticks\":\"\"}}}],\"bar\":[{\"error_x\":{\"color\":\"#2a3f5f\"},\"error_y\":{\"color\":\"#2a3f5f\"},\"marker\":{\"line\":{\"color\":\"#E5ECF6\",\"width\":0.5},\"pattern\":{\"fillmode\":\"overlay\",\"size\":10,\"solidity\":0.2}},\"type\":\"bar\"}],\"scattergeo\":[{\"type\":\"scattergeo\",\"marker\":{\"colorbar\":{\"outlinewidth\":0,\"ticks\":\"\"}}}],\"scatterpolar\":[{\"type\":\"scatterpolar\",\"marker\":{\"colorbar\":{\"outlinewidth\":0,\"ticks\":\"\"}}}],\"histogram\":[{\"marker\":{\"pattern\":{\"fillmode\":\"overlay\",\"size\":10,\"solidity\":0.2}},\"type\":\"histogram\"}],\"scattergl\":[{\"type\":\"scattergl\",\"marker\":{\"colorbar\":{\"outlinewidth\":0,\"ticks\":\"\"}}}],\"scatter3d\":[{\"type\":\"scatter3d\",\"line\":{\"colorbar\":{\"outlinewidth\":0,\"ticks\":\"\"}},\"marker\":{\"colorbar\":{\"outlinewidth\":0,\"ticks\":\"\"}}}],\"scattermapbox\":[{\"type\":\"scattermapbox\",\"marker\":{\"colorbar\":{\"outlinewidth\":0,\"ticks\":\"\"}}}],\"scatterternary\":[{\"type\":\"scatterternary\",\"marker\":{\"colorbar\":{\"outlinewidth\":0,\"ticks\":\"\"}}}],\"scattercarpet\":[{\"type\":\"scattercarpet\",\"marker\":{\"colorbar\":{\"outlinewidth\":0,\"ticks\":\"\"}}}],\"carpet\":[{\"aaxis\":{\"endlinecolor\":\"#2a3f5f\",\"gridcolor\":\"white\",\"linecolor\":\"white\",\"minorgridcolor\":\"white\",\"startlinecolor\":\"#2a3f5f\"},\"baxis\":{\"endlinecolor\":\"#2a3f5f\",\"gridcolor\":\"white\",\"linecolor\":\"white\",\"minorgridcolor\":\"white\",\"startlinecolor\":\"#2a3f5f\"},\"type\":\"carpet\"}],\"table\":[{\"cells\":{\"fill\":{\"color\":\"#EBF0F8\"},\"line\":{\"color\":\"white\"}},\"header\":{\"fill\":{\"color\":\"#C8D4E3\"},\"line\":{\"color\":\"white\"}},\"type\":\"table\"}],\"barpolar\":[{\"marker\":{\"line\":{\"color\":\"#E5ECF6\",\"width\":0.5},\"pattern\":{\"fillmode\":\"overlay\",\"size\":10,\"solidity\":0.2}},\"type\":\"barpolar\"}],\"pie\":[{\"automargin\":true,\"type\":\"pie\"}]},\"layout\":{\"autotypenumbers\":\"strict\",\"colorway\":[\"#636efa\",\"#EF553B\",\"#00cc96\",\"#ab63fa\",\"#FFA15A\",\"#19d3f3\",\"#FF6692\",\"#B6E880\",\"#FF97FF\",\"#FECB52\"],\"font\":{\"color\":\"#2a3f5f\"},\"hovermode\":\"closest\",\"hoverlabel\":{\"align\":\"left\"},\"paper_bgcolor\":\"white\",\"plot_bgcolor\":\"#E5ECF6\",\"polar\":{\"bgcolor\":\"#E5ECF6\",\"angularaxis\":{\"gridcolor\":\"white\",\"linecolor\":\"white\",\"ticks\":\"\"},\"radialaxis\":{\"gridcolor\":\"white\",\"linecolor\":\"white\",\"ticks\":\"\"}},\"ternary\":{\"bgcolor\":\"#E5ECF6\",\"aaxis\":{\"gridcolor\":\"white\",\"linecolor\":\"white\",\"ticks\":\"\"},\"baxis\":{\"gridcolor\":\"white\",\"linecolor\":\"white\",\"ticks\":\"\"},\"caxis\":{\"gridcolor\":\"white\",\"linecolor\":\"white\",\"ticks\":\"\"}},\"coloraxis\":{\"colorbar\":{\"outlinewidth\":0,\"ticks\":\"\"}},\"colorscale\":{\"sequential\":[[0.0,\"#0d0887\"],[0.1111111111111111,\"#46039f\"],[0.2222222222222222,\"#7201a8\"],[0.3333333333333333,\"#9c179e\"],[0.4444444444444444,\"#bd3786\"],[0.5555555555555556,\"#d8576b\"],[0.6666666666666666,\"#ed7953\"],[0.7777777777777778,\"#fb9f3a\"],[0.8888888888888888,\"#fdca26\"],[1.0,\"#f0f921\"]],\"sequentialminus\":[[0.0,\"#0d0887\"],[0.1111111111111111,\"#46039f\"],[0.2222222222222222,\"#7201a8\"],[0.3333333333333333,\"#9c179e\"],[0.4444444444444444,\"#bd3786\"],[0.5555555555555556,\"#d8576b\"],[0.6666666666666666,\"#ed7953\"],[0.7777777777777778,\"#fb9f3a\"],[0.8888888888888888,\"#fdca26\"],[1.0,\"#f0f921\"]],\"diverging\":[[0,\"#8e0152\"],[0.1,\"#c51b7d\"],[0.2,\"#de77ae\"],[0.3,\"#f1b6da\"],[0.4,\"#fde0ef\"],[0.5,\"#f7f7f7\"],[0.6,\"#e6f5d0\"],[0.7,\"#b8e186\"],[0.8,\"#7fbc41\"],[0.9,\"#4d9221\"],[1,\"#276419\"]]},\"xaxis\":{\"gridcolor\":\"white\",\"linecolor\":\"white\",\"ticks\":\"\",\"title\":{\"standoff\":15},\"zerolinecolor\":\"white\",\"automargin\":true,\"zerolinewidth\":2},\"yaxis\":{\"gridcolor\":\"white\",\"linecolor\":\"white\",\"ticks\":\"\",\"title\":{\"standoff\":15},\"zerolinecolor\":\"white\",\"automargin\":true,\"zerolinewidth\":2},\"scene\":{\"xaxis\":{\"backgroundcolor\":\"#E5ECF6\",\"gridcolor\":\"white\",\"linecolor\":\"white\",\"showbackground\":true,\"ticks\":\"\",\"zerolinecolor\":\"white\",\"gridwidth\":2},\"yaxis\":{\"backgroundcolor\":\"#E5ECF6\",\"gridcolor\":\"white\",\"linecolor\":\"white\",\"showbackground\":true,\"ticks\":\"\",\"zerolinecolor\":\"white\",\"gridwidth\":2},\"zaxis\":{\"backgroundcolor\":\"#E5ECF6\",\"gridcolor\":\"white\",\"linecolor\":\"white\",\"showbackground\":true,\"ticks\":\"\",\"zerolinecolor\":\"white\",\"gridwidth\":2}},\"shapedefaults\":{\"line\":{\"color\":\"#2a3f5f\"}},\"annotationdefaults\":{\"arrowcolor\":\"#2a3f5f\",\"arrowhead\":0,\"arrowwidth\":1},\"geo\":{\"bgcolor\":\"white\",\"landcolor\":\"#E5ECF6\",\"subunitcolor\":\"white\",\"showland\":true,\"showlakes\":true,\"lakecolor\":\"white\"},\"title\":{\"x\":0.05},\"mapbox\":{\"style\":\"light\"}}},\"xaxis\":{\"anchor\":\"y\",\"domain\":[0.0,1.0],\"title\":{\"text\":\"alcohol\"}},\"yaxis\":{\"anchor\":\"x\",\"domain\":[0.0,1.0],\"title\":{\"text\":\"ins_premium\"}},\"legend\":{\"title\":{\"text\":\"region\"},\"tracegroupgap\":0},\"margin\":{\"t\":60}},                        {\"responsive\": true}                    ).then(function(){\n",
       "                            \n",
       "var gd = document.getElementById('ee9e5810-0ae2-48ad-9691-de82993d3149');\n",
       "var x = new MutationObserver(function (mutations, observer) {{\n",
       "        var display = window.getComputedStyle(gd).display;\n",
       "        if (!display || display === 'none') {{\n",
       "            console.log([gd, 'removed!']);\n",
       "            Plotly.purge(gd);\n",
       "            observer.disconnect();\n",
       "        }}\n",
       "}});\n",
       "\n",
       "// Listen for the removal of the full notebook cells\n",
       "var notebookContainer = gd.closest('#notebook-container');\n",
       "if (notebookContainer) {{\n",
       "    x.observe(notebookContainer, {childList: true});\n",
       "}}\n",
       "\n",
       "// Listen for the clearing of the current output cell\n",
       "var outputEl = gd.closest('.output');\n",
       "if (outputEl) {{\n",
       "    x.observe(outputEl, {childList: true});\n",
       "}}\n",
       "\n",
       "                        })                };                });            </script>        </div>"
      ]
     },
     "metadata": {},
     "output_type": "display_data"
    }
   ],
   "source": [
    "# this is not necessary, but may help provide context (it is, actually, the plot from Part 3 but in plotly)\n",
    "import plotly.express as px\n",
    "\n",
    "px.scatter(df_crash, x='alcohol', y='ins_premium', hover_data= ['abbrev'], color = 'region')"
   ]
  },
  {
   "cell_type": "markdown",
   "id": "3908528e",
   "metadata": {},
   "source": [
    "There does not seem to be much of a relationship between the two. Some states, such as Louisiana, have high values of both, but others like North Dakota, Montana and South Carolina have high alcohol and low ins_premium, while some like Washington DC have low alcohol and high ins_premium."
   ]
  },
  {
   "cell_type": "markdown",
   "id": "83d33cbb",
   "metadata": {},
   "source": [
    "#### Part 2.10 (5 pts)\n",
    "Look at the [df.sort_values](https://pandas.pydata.org/docs/reference/api/pandas.DataFrame.sort_values.html) function, and then use it to sort the original `df_crash` by `alcohol` from highest to lowest."
   ]
  },
  {
   "cell_type": "code",
   "execution_count": 31,
   "id": "44c8c36b",
   "metadata": {},
   "outputs": [
    {
     "data": {
      "text/html": [
       "<div>\n",
       "<style scoped>\n",
       "    .dataframe tbody tr th:only-of-type {\n",
       "        vertical-align: middle;\n",
       "    }\n",
       "\n",
       "    .dataframe tbody tr th {\n",
       "        vertical-align: top;\n",
       "    }\n",
       "\n",
       "    .dataframe thead th {\n",
       "        text-align: right;\n",
       "    }\n",
       "</style>\n",
       "<table border=\"1\" class=\"dataframe\">\n",
       "  <thead>\n",
       "    <tr style=\"text-align: right;\">\n",
       "      <th></th>\n",
       "      <th>total</th>\n",
       "      <th>speeding</th>\n",
       "      <th>alcohol</th>\n",
       "      <th>not_distracted</th>\n",
       "      <th>no_previous</th>\n",
       "      <th>ins_premium</th>\n",
       "      <th>ins_losses</th>\n",
       "      <th>abbrev</th>\n",
       "      <th>region</th>\n",
       "    </tr>\n",
       "  </thead>\n",
       "  <tbody>\n",
       "    <tr>\n",
       "      <th>34</th>\n",
       "      <td>23.9</td>\n",
       "      <td>5.497</td>\n",
       "      <td>10.038</td>\n",
       "      <td>23.661</td>\n",
       "      <td>20.554</td>\n",
       "      <td>688.75</td>\n",
       "      <td>109.72</td>\n",
       "      <td>ND</td>\n",
       "      <td>midwest</td>\n",
       "    </tr>\n",
       "    <tr>\n",
       "      <th>40</th>\n",
       "      <td>23.9</td>\n",
       "      <td>9.082</td>\n",
       "      <td>9.799</td>\n",
       "      <td>22.944</td>\n",
       "      <td>19.359</td>\n",
       "      <td>858.97</td>\n",
       "      <td>116.29</td>\n",
       "      <td>SC</td>\n",
       "      <td>southeast</td>\n",
       "    </tr>\n",
       "    <tr>\n",
       "      <th>26</th>\n",
       "      <td>21.4</td>\n",
       "      <td>8.346</td>\n",
       "      <td>9.416</td>\n",
       "      <td>17.976</td>\n",
       "      <td>18.190</td>\n",
       "      <td>816.21</td>\n",
       "      <td>85.15</td>\n",
       "      <td>MT</td>\n",
       "      <td>west</td>\n",
       "    </tr>\n",
       "    <tr>\n",
       "      <th>43</th>\n",
       "      <td>19.4</td>\n",
       "      <td>7.760</td>\n",
       "      <td>7.372</td>\n",
       "      <td>17.654</td>\n",
       "      <td>16.878</td>\n",
       "      <td>1004.75</td>\n",
       "      <td>156.83</td>\n",
       "      <td>TX</td>\n",
       "      <td>southwest</td>\n",
       "    </tr>\n",
       "    <tr>\n",
       "      <th>11</th>\n",
       "      <td>17.5</td>\n",
       "      <td>9.450</td>\n",
       "      <td>7.175</td>\n",
       "      <td>14.350</td>\n",
       "      <td>15.225</td>\n",
       "      <td>861.18</td>\n",
       "      <td>120.92</td>\n",
       "      <td>HI</td>\n",
       "      <td>west</td>\n",
       "    </tr>\n",
       "  </tbody>\n",
       "</table>\n",
       "</div>"
      ],
      "text/plain": [
       "    total  speeding  alcohol  not_distracted  no_previous  ins_premium  \\\n",
       "34   23.9     5.497   10.038          23.661       20.554       688.75   \n",
       "40   23.9     9.082    9.799          22.944       19.359       858.97   \n",
       "26   21.4     8.346    9.416          17.976       18.190       816.21   \n",
       "43   19.4     7.760    7.372          17.654       16.878      1004.75   \n",
       "11   17.5     9.450    7.175          14.350       15.225       861.18   \n",
       "\n",
       "    ins_losses abbrev     region  \n",
       "34      109.72     ND    midwest  \n",
       "40      116.29     SC  southeast  \n",
       "26       85.15     MT       west  \n",
       "43      156.83     TX  southwest  \n",
       "11      120.92     HI       west  "
      ]
     },
     "execution_count": 31,
     "metadata": {},
     "output_type": "execute_result"
    }
   ],
   "source": [
    "df_sort = df_crash.sort_values('alcohol', ascending = False)\n",
    "df_sort.head()"
   ]
  },
  {
   "cell_type": "markdown",
   "id": "d185890a",
   "metadata": {},
   "source": [
    "## Part 3: Matplotlib / seaborn (40 pts)\n",
    "\n",
    "Using the `df_crash` DataFrame you created in the previous part **that includes** `region`, create a single plot (no subplots) which:\n",
    "- scatters `alcohol` on the x axis and `ins_premium` on the y axis\n",
    "- color code the observations for each state based on the region:\n",
    "    - all west states are represented with some color\n",
    "    - all southwest states are represented with some color\n",
    "    - etc.\n",
    "- give your graph all the appropriate labels (including a title) and manage any aesthetic / readability issues which come up\n",
    "- print your final output graph to a pdf file \n",
    "    - You need only submit the `.ipynb` file\n",
    "        - we'll just look at the code which generates the `.pdf`\n",
    "\n",
    "**Use matplotlib / seaborn (not plotly)** to accomplish this task.\n",
    "\n",
    "**Note that you will be graded on the graph as well as the style (See Python Style Guide on Canvas) of the python code which produces it.  Be sure to document your code clearly by**\n",
    " - chunking your code a few lines at a time and adding comments to describe what they do\n",
    " - giving your variables clear names"
   ]
  },
  {
   "cell_type": "code",
   "execution_count": 45,
   "id": "cca0f804",
   "metadata": {},
   "outputs": [
    {
     "data": {
      "image/png": "[encoded data removed]",
      "text/plain": [
       "<Figure size 1000x800 with 1 Axes>"
      ]
     },
     "metadata": {},
     "output_type": "display_data"
    }
   ],
   "source": [
    "import matplotlib.pyplot as plt\n",
    "import seaborn as sns\n",
    "import pandas as pd\n",
    "from matplotlib.backends.backend_pdf import PdfPages\n",
    "\n",
    "sns.set(font_scale=1.2)\n",
    "\n",
    "regions = pd.Series(region).unique()\n",
    "\n",
    "for reg in regions:\n",
    "    # boolean index\n",
    "    bool_region = df_crash['region'] == reg\n",
    "    df_region = df_crash.loc[bool_region, :]\n",
    "\n",
    "    # scatter\n",
    "    plt.scatter(df_region['alcohol'],\n",
    "                df_region['ins_premium'], alpha=.75, label=reg)\n",
    "    \n",
    "plt.legend()\n",
    "plt.xlabel('% of Fatal Alcohol Crashes')\n",
    "plt.ylabel('Car Insurance Premiums')\n",
    "plt.gcf().set_size_inches(10, 8)\n",
    "plt.suptitle('Relationship between Alcohol Crashes and Insurance');\n",
    "\n",
    "f = 'alcohol_insurance.pdf'\n",
    "with PdfPages(f) as pdf:\n",
    "    pdf.savefig(bbox_inches='tight')"
   ]
  },
  {
   "cell_type": "code",
   "execution_count": null,
   "id": "81c5094f",
   "metadata": {},
   "outputs": [],
   "source": []
  }
 ],
 "metadata": {
  "kernelspec": {
   "display_name": "Python 3 (ipykernel)",
   "language": "python",
   "name": "python3"
  },
  "language_info": {
   "codemirror_mode": {
    "name": "ipython",
    "version": 3
   },
   "file_extension": ".py",
   "mimetype": "text/x-python",
   "name": "python",
   "nbconvert_exporter": "python",
   "pygments_lexer": "ipython3",
   "version": "3.9.2"
  }
 },
 "nbformat": 4,
 "nbformat_minor": 5
}
