{
 "cells": [
  {
   "cell_type": "markdown",
   "id": "84132203-da18-4520-bb83-17d4fa7a4646",
   "metadata": {},
   "source": [
    "# DS 3000 Quiz 3"
   ]
  },
  {
   "cell_type": "markdown",
   "id": "be9f744d-04d6-4b16-a600-631b87f0276c",
   "metadata": {},
   "source": [
    "Due by: Tuesday Nov 14 @ 11:59 PM EST\n",
    "\n",
    "Time Limit: You have 2 hours to complete the assignment once started\n",
    "\n",
    "## Instructions\n",
    "\n",
    "This quiz has 100 points total.\n",
    "\n",
    "- You are welcome to post a private note on piazza, but to keep a consistent testing environment for all students we are unlikely to provide assistance.\n",
    "- You may not contact other students with information about this this quiz\n",
    "    - even saying \"it was easy/hard\" in a general sense can introduce a bias in favor of students who take the quiz earlier or later\n",
    "- Under no circumstances should you share a copy of this quiz with anyone who isn't a member of the course staff.\n",
    "- Take this quiz with open notes and feel free to access any online resource / documentation you'd like.  \n",
    "\n",
    "### Submission Instructions\n",
    "After completing the quiz below, please follow the instructions below to submit:\n",
    "1. \"Kernel\" -> \"Restart & Run All\"\n",
    "1. save your quiz file to this latest version\n",
    "1. upload the `.ipynb` to gradescope **before** clicking submit\n",
    "1. ensure that you can see your jupyter notebook in the gradescope interface after clicking \"submit\"\n",
    "\n",
    "We specify the last note above as gradescope has allowed students to \"submit\" without uploading a file.  It is your responsibility to ensure that you've actually submitted a file."
   ]
  },
  {
   "cell_type": "markdown",
   "id": "ded09516-4144-4759-9d54-ba0803d3c45b",
   "metadata": {},
   "source": [
    "### Academic Integrity Pledge\n",
    "\n",
    "Input your name below to sign the Academic Integrity Pledge before continuing with the quiz. Failure to do so will result in a score of **0**."
   ]
  },
  {
   "cell_type": "code",
   "execution_count": null,
   "id": "d9e1442a-1197-474a-9688-a400e376aa0d",
   "metadata": {},
   "outputs": [],
   "source": [
    "name = 'Student Name Here'\n",
    "print(f'I, {name}, declare that the following work is entirely my own, and that I did not copy or seek help from any students who have currently or previously taken this course, nor from any online source other than private messages between myself and the professor on Piazza/via email.')"
   ]
  },
  {
   "cell_type": "code",
   "execution_count": null,
   "id": "e9feb34f-bfd4-42da-81e5-1c67bd0f1b8f",
   "metadata": {},
   "outputs": [],
   "source": [
    "# the following modules may be necessary to complete the quiz\n",
    "import warnings\n",
    "warnings.simplefilter(action='ignore', category=FutureWarning)\n",
    "import seaborn as sns\n",
    "import pandas as pd\n",
    "import numpy as np\n",
    "from sklearn.linear_model import Perceptron\n",
    "import matplotlib.pyplot as plt\n",
    "import scipy.stats as stats\n",
    "import pylab as py"
   ]
  },
  {
   "cell_type": "markdown",
   "id": "d1dd2540-c076-48d8-a480-b14d03f98976",
   "metadata": {},
   "source": [
    "# Part 1: Linear Perceptron (40 points)\n",
    "\n",
    "This problem will make use of the `titanic` dataset in the seaborn module. This dataset looks at the passengers on the Titanic, which famously sunk in 1912. There are many features in the data set, but the ones relevant to this problem are:\n",
    "\n",
    "- `survived`: a binary classifier identifying if the passenger survived (1) or did not survive (0)\n",
    "- `sex`: the sex of the passenger (male, female)\n",
    "- `age`: the age of the passenger (years)\n",
    "- `fare`: the fare (dollars) the passenger paid for their ticket\n",
    "\n",
    "The rest of this problem involves curating the data and then applying and interpreting the linear perceptron algorithm to it. **Advice:** Keep track of time; this is worth 40% of the assignment. If it takes you longer than about 45 minutes, you should move on and try the other Part before coming back to this one.\n",
    "\n",
    "**Note Also:** Your response need not build any functions, but be sure to name variables appropriately and document your process."
   ]
  },
  {
   "cell_type": "code",
   "execution_count": null,
   "id": "bfbcc586-d22b-4c22-85c9-90044eec9135",
   "metadata": {},
   "outputs": [],
   "source": [
    "df_titanic = sns.load_dataset('titanic')\n",
    "df_titanic.head()"
   ]
  },
  {
   "cell_type": "markdown",
   "id": "07966443-36ff-4b46-ad49-5661ca12807e",
   "metadata": {},
   "source": [
    "#### Part 1.1 (20 pts)\n",
    "Curate the data set so that it is in the final form you will use for the analysis, such that:\n",
    "\n",
    "- You drop all rows with missing values of the **four** features we are interested in.\n",
    "  - Do **not** drop rows with missing values in any other feature.\n",
    "- The `sex` column is turned into an indicator (dummy variable) column of 0's and 1's.\n",
    "- You scale normalize the `age` and `fare` features.\n",
    "- You put the three $x$ features (`sex`, `age`, `fare`) in a 2-d numpy array (called `X`) that also includes a bias column of 1's.\n",
    "  - There are several ways to do this, but you may find the [`np.column_stack`](https://numpy.org/doc/stable/reference/generated/numpy.column_stack.html) function helpful.\n",
    "- You put the output feature, `survived`, in a 1-d numpy array (called `y`).\n",
    "\n",
    "Display the first few rows/observations of the `X` and `y` arrays."
   ]
  },
  {
   "cell_type": "code",
   "execution_count": null,
   "id": "4f6ef3e4-2808-4d31-85c4-01da7f57c23b",
   "metadata": {},
   "outputs": [],
   "source": []
  },
  {
   "cell_type": "markdown",
   "id": "97ddf2ca-6f99-4baa-926f-4a7a251347ea",
   "metadata": {},
   "source": [
    "#### Part 1.2 (20 pts)\n",
    "Use Leave One Out Cross Validation (LOO-CV) and the `Perceptron` function from `scikit-learn` to determine how well the three features of `sex`, `age`, and `fare` predict weather a passenger would survive the Titanic sinking. You may use any settings you wish in your call of `Perceptron`, except **do not make `max_iter` more than 1000**, otherwise it will take too long to run.\n",
    "\n",
    "Print out the cross validated accuracy score and provide a discussion **in a markdown cell** of what it means."
   ]
  },
  {
   "cell_type": "code",
   "execution_count": null,
   "id": "33ae4915-4f3e-48a6-a8fa-705a06da7633",
   "metadata": {},
   "outputs": [],
   "source": []
  },
  {
   "cell_type": "markdown",
   "id": "2b9cb07a-254e-449e-8ccf-1538394c746a",
   "metadata": {},
   "source": []
  },
  {
   "cell_type": "markdown",
   "id": "4dac4fd1-6394-409c-96cf-8841d1e1bdba",
   "metadata": {},
   "source": [
    "# Part 2: Simple Linear Regression (60 points)\n",
    "\n",
    "One waiter recorded information about each tip he received over a period of a few months working in one restaurant, in total 244 tips. The data are stored in the `tips` dataset in the seaborn module. We will determine if, based on this waiter's data, we can predict the tip amount based on the total bill. While there are a few other features that might be helpful for predicting the tip amount, we will focus only on the total bill, so that the two features of interest are:\n",
    "\n",
    "- `total_bill`: the total bill amount paid by the customer (in dollars)\n",
    "- `tip`: the tip amount paid on top of the total bill (in dollars)\n",
    "\n",
    "The data was reported in a collection of case studies for business statistics, published in 1995 ([source](https://www.worldcat.org/title/Practical-data-analysis-:-case-studies-in-business-statistics/oclc/726362789))"
   ]
  },
  {
   "cell_type": "code",
   "execution_count": null,
   "id": "0110e269-7622-49b5-981d-9a9564664abd",
   "metadata": {},
   "outputs": [],
   "source": [
    "df_tips = sns.load_dataset('tips')\n",
    "df_tips.head()"
   ]
  },
  {
   "cell_type": "markdown",
   "id": "8b37bcf7-501e-4add-9803-5cbf5fb3ea96",
   "metadata": {},
   "source": [
    "#### Part 2.1 (10 points)\n",
    "\n",
    "Visualize the relationship between `total_bill` and `tip` with a **well-labeled** scatter plot (I have loaded `matplotlib.pyplot` for you above, but you may use `seaborn` or `plotly` if you wish). Then, **in a markdown cell**, comment on your initial thoughts concerning:\n",
    "\n",
    "- If there seems to be a relationship between `total_bill` and `tip`.\n",
    "- If so, do you believe that relationship to be linear?"
   ]
  },
  {
   "cell_type": "code",
   "execution_count": null,
   "id": "a24a8fcc-e2b9-4834-ac7a-43357c8a339e",
   "metadata": {},
   "outputs": [],
   "source": []
  },
  {
   "cell_type": "markdown",
   "id": "00589e20-d47b-435c-8066-ade214051ecc",
   "metadata": {},
   "source": []
  },
  {
   "cell_type": "markdown",
   "id": "afcd72a4-a441-4392-bc9d-af6d067e11ea",
   "metadata": {},
   "source": [
    "#### Part 2.2 (10 pts)\n",
    "\n",
    "Calculate the line of best fit through the full set of points. You may use either `numpy` linear algebra, or `scikit-learn`'s `LinearRegression` function, loaded below. Round the slope and intercept to two decimals, and then interpret the slope and intercept in the context of the question."
   ]
  },
  {
   "cell_type": "code",
   "execution_count": null,
   "id": "33406433-fa89-455e-8758-a4b838080e15",
   "metadata": {},
   "outputs": [],
   "source": [
    "from sklearn.linear_model import LinearRegression"
   ]
  },
  {
   "cell_type": "code",
   "execution_count": null,
   "id": "272fe70b-87e7-4a8d-ae1e-50824a452027",
   "metadata": {},
   "outputs": [],
   "source": []
  },
  {
   "cell_type": "markdown",
   "id": "3c96f2f4-28b6-43ad-82a0-4f100bbca252",
   "metadata": {},
   "source": []
  },
  {
   "cell_type": "markdown",
   "id": "fbe8b046-f423-46b3-828e-b7c57afba04d",
   "metadata": {},
   "source": [
    "#### Part 2.3 (10 pts)\n",
    "\n",
    "Use LOO-CV to compute the cross-validated $R^2$ for the simple linear regression model. In other words:\n",
    "\n",
    "1. Get predictions for each observation by holding them out, fitting the line, and then predicting them with the line\n",
    "2. Calculate $R^2$ using the `r2_score` function (imported below), your predictions from the cross validation, and the true $y$ values\n",
    "\n",
    "**You may use either** `numpy` linear algebra, or `scikit-learn`'s `LinearRegression()` function, whichever you prefer."
   ]
  },
  {
   "cell_type": "code",
   "execution_count": null,
   "id": "52012568-d1a4-4d6d-a07e-7acbb67ae615",
   "metadata": {},
   "outputs": [],
   "source": [
    "from sklearn.metrics import r2_score"
   ]
  },
  {
   "cell_type": "code",
   "execution_count": null,
   "id": "8c881d00-879b-4837-a73b-ff03841386a1",
   "metadata": {},
   "outputs": [],
   "source": []
  },
  {
   "cell_type": "markdown",
   "id": "1a095df3-ca4f-4e95-9a58-1d3bce8a8a2f",
   "metadata": {},
   "source": [
    "#### Part 2.4 (10 pts)\n",
    "Calculate the residuals using the true $y$ values and your cross validated predictions. Call these `residuals`. Then, run the following three code cells to produce the residual plots for the cross validated model fit."
   ]
  },
  {
   "cell_type": "code",
   "execution_count": null,
   "id": "55a426ab-3340-43bd-9df6-27847135b3b3",
   "metadata": {},
   "outputs": [],
   "source": []
  },
  {
   "cell_type": "code",
   "execution_count": null,
   "id": "71bd180b-96e5-4831-a15c-eb7bf461dc9d",
   "metadata": {},
   "outputs": [],
   "source": [
    "plt.scatter(x = range(len(residuals)), y = residuals)\n",
    "plt.xlabel('index')\n",
    "plt.ylabel('residuals');"
   ]
  },
  {
   "cell_type": "code",
   "execution_count": null,
   "id": "e92749a7-0dd3-4616-a398-7eccd50ab028",
   "metadata": {},
   "outputs": [],
   "source": [
    "plt.scatter(x = X[:,1], y = residuals)\n",
    "plt.xlabel('total_bill')\n",
    "plt.ylabel('residuals');"
   ]
  },
  {
   "cell_type": "code",
   "execution_count": null,
   "id": "7d91dd1f-5650-47c9-991f-ffa8854c61fa",
   "metadata": {},
   "outputs": [],
   "source": [
    "stats.probplot(residuals, dist=\"norm\", plot=py)\n",
    "py.show()"
   ]
  },
  {
   "cell_type": "markdown",
   "id": "b1becb5b-17ab-42e5-8847-bb52c9b3235d",
   "metadata": {},
   "source": [
    "#### Part 2.5 (20 pts)\n",
    "Provide a summary paragraph about whether you believe this simple linear model is adequate for predicting the waiter's tips and what you learned from the model. Be sure to mention specific takeways, including:\n",
    "\n",
    "- If a general rule of thumb is to tip around 15\\%, does the model suggest the waiter is being tipped enough?\n",
    "- How do you interpret the cross validated $R^2$, and do you consider it to be a \"good\" value?\n",
    "- Were all the assumptions for the model met? If not, which ones were not met, and what would you suggest addressing?\n",
    "- Can you think of any other improvements that could be (easily) made to the model?"
   ]
  },
  {
   "cell_type": "markdown",
   "id": "0e69b574-383d-4a0f-9b5a-a9f59550c4af",
   "metadata": {},
   "source": []
  }
 ],
 "metadata": {
  "kernelspec": {
   "display_name": "Python 3 (ipykernel)",
   "language": "python",
   "name": "python3"
  },
  "language_info": {
   "codemirror_mode": {
    "name": "ipython",
    "version": 3
   },
   "file_extension": ".py",
   "mimetype": "text/x-python",
   "name": "python",
   "nbconvert_exporter": "python",
   "pygments_lexer": "ipython3",
   "version": "3.11.6"
  }
 },
 "nbformat": 4,
 "nbformat_minor": 5
}
