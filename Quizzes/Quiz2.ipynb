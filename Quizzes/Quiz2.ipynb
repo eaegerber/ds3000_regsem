{
 "cells": [
  {
   "cell_type": "markdown",
   "id": "84132203-da18-4520-bb83-17d4fa7a4646",
   "metadata": {},
   "source": [
    "# DS 3000 Quiz 2"
   ]
  },
  {
   "cell_type": "markdown",
   "id": "be9f744d-04d6-4b16-a600-631b87f0276c",
   "metadata": {},
   "source": [
    "Due by: Tuesday Oct 24 @ 11:59 PM EST\n",
    "\n",
    "Time Limit: You have 2 hours to complete the assignment once started\n",
    "\n",
    "## Instructions\n",
    "\n",
    "This quiz has 100 points total.\n",
    "\n",
    "- You are welcome to post a private note on piazza, but to keep a consistent testing environment for all students we are unlikely to provide assistance.\n",
    "- You may not contact other students with information about this this quiz\n",
    "    - even saying \"it was easy/hard\" in a general sense can introduce a bias in favor of students who take the quiz earlier or later\n",
    "- Under no circumstances should you share a copy of this quiz with anyone who isn't a member of the course staff.\n",
    "- Take this quiz with open notes and feel free to access any online resource / documentation you'd like.  \n",
    "\n",
    "### Submission Instructions\n",
    "After completing the quiz below, please follow the instructions below to submit:\n",
    "1. \"Kernel\" -> \"Restart & Run All\"\n",
    "1. save your quiz file to this latest version\n",
    "1. upload the `.ipynb` to gradescope **before** clicking submit\n",
    "1. ensure that you can see your jupyter notebook in the gradescope interface after clicking \"submit\"\n",
    "\n",
    "We specify the last note above as gradescope has allowed students to \"submit\" without uploading a file.  It is your responsibility to ensure that you've actually submitted a file."
   ]
  },
  {
   "cell_type": "markdown",
   "id": "ded09516-4144-4759-9d54-ba0803d3c45b",
   "metadata": {},
   "source": [
    "### Academic Integrity Pledge\n",
    "\n",
    "Input your name below to sign the Academic Integrity Pledge before continuing with the quiz. Failure to do so will result in a score of **0**."
   ]
  },
  {
   "cell_type": "code",
   "execution_count": 1,
   "id": "d9e1442a-1197-474a-9688-a400e376aa0d",
   "metadata": {},
   "outputs": [
    {
     "name": "stdout",
     "output_type": "stream",
     "text": [
      "I, Student Name Here, declare that the following work is entirely my own, and that I did not copy or seek help from any students who have currently or previously taken this course, nor from any online source other than private messages between myself and the professor on Piazza/via email.\n"
     ]
    }
   ],
   "source": [
    "name = 'Student Name Here'\n",
    "print(f'I, {name}, declare that the following work is entirely my own, and that I did not copy or seek help from any students who have currently or previously taken this course, nor from any online source other than private messages between myself and the professor on Piazza/via email.')"
   ]
  },
  {
   "cell_type": "code",
   "execution_count": 2,
   "id": "e9feb34f-bfd4-42da-81e5-1c67bd0f1b8f",
   "metadata": {},
   "outputs": [],
   "source": [
    "# the following modules will be necessary to complete the quiz\n",
    "import warnings\n",
    "warnings.simplefilter(action='ignore', category=FutureWarning)\n",
    "import seaborn as sns\n",
    "import matplotlib.pyplot as plt\n",
    "import plotly.express as px"
   ]
  },
  {
   "cell_type": "markdown",
   "id": "d1dd2540-c076-48d8-a480-b14d03f98976",
   "metadata": {},
   "source": [
    "# Exploring, Summarizing and Graphing Data (100 points)\n",
    "\n",
    "This problem will make use of the `car_crashes` dataset in the seaborn module. This dataset looks at accidents in the states of the USA. This is the data set of the cause of the accidents and the cost to the accident insurance companies. The features of the dataset are:\n",
    "\n",
    "- `total`: Number of drivers involved in fatal collisions per billion miles\n",
    "- `speeding`: Percentage Of Drivers Involved In Fatal Collisions Who Were Speeding\n",
    "- `alcohol`: Percentage Of Drivers Involved In Fatal Collisions Who Were Alcohol-Impaired\n",
    "- `not_distracted`: Percentage Of Drivers Involved In Fatal Collisions Who Were Not Distracted\n",
    "- `no_previous`: Percentage Of Drivers Involved In Fatal Collisions Who Had Not Been Involved In Any Previous Accidents\n",
    "- `ins_premium`: Car Insurance Premiums\n",
    "- `ins_losses`: Losses incurred by insurance companies for collisions per insured driver\n",
    "- `abbrev`: USA states\n",
    "\n",
    "Each part of this problem has you explore the dataset in different ways, including indexing and summarizing statistically. The data are loaded below.\n",
    "\n",
    "**Note Also:** Your response need not build any functions, but be sure to name variables appropriately and document your process."
   ]
  },
  {
   "cell_type": "code",
   "execution_count": 3,
   "id": "bfbcc586-d22b-4c22-85c9-90044eec9135",
   "metadata": {},
   "outputs": [
    {
     "data": {
      "text/html": [
       "<div>\n",
       "<style scoped>\n",
       "    .dataframe tbody tr th:only-of-type {\n",
       "        vertical-align: middle;\n",
       "    }\n",
       "\n",
       "    .dataframe tbody tr th {\n",
       "        vertical-align: top;\n",
       "    }\n",
       "\n",
       "    .dataframe thead th {\n",
       "        text-align: right;\n",
       "    }\n",
       "</style>\n",
       "<table border=\"1\" class=\"dataframe\">\n",
       "  <thead>\n",
       "    <tr style=\"text-align: right;\">\n",
       "      <th></th>\n",
       "      <th>total</th>\n",
       "      <th>speeding</th>\n",
       "      <th>alcohol</th>\n",
       "      <th>not_distracted</th>\n",
       "      <th>no_previous</th>\n",
       "      <th>ins_premium</th>\n",
       "      <th>ins_losses</th>\n",
       "      <th>abbrev</th>\n",
       "    </tr>\n",
       "  </thead>\n",
       "  <tbody>\n",
       "    <tr>\n",
       "      <th>0</th>\n",
       "      <td>18.8</td>\n",
       "      <td>7.332</td>\n",
       "      <td>5.640</td>\n",
       "      <td>18.048</td>\n",
       "      <td>15.040</td>\n",
       "      <td>784.55</td>\n",
       "      <td>145.08</td>\n",
       "      <td>AL</td>\n",
       "    </tr>\n",
       "    <tr>\n",
       "      <th>1</th>\n",
       "      <td>18.1</td>\n",
       "      <td>7.421</td>\n",
       "      <td>4.525</td>\n",
       "      <td>16.290</td>\n",
       "      <td>17.014</td>\n",
       "      <td>1053.48</td>\n",
       "      <td>133.93</td>\n",
       "      <td>AK</td>\n",
       "    </tr>\n",
       "    <tr>\n",
       "      <th>2</th>\n",
       "      <td>18.6</td>\n",
       "      <td>6.510</td>\n",
       "      <td>5.208</td>\n",
       "      <td>15.624</td>\n",
       "      <td>17.856</td>\n",
       "      <td>899.47</td>\n",
       "      <td>110.35</td>\n",
       "      <td>AZ</td>\n",
       "    </tr>\n",
       "    <tr>\n",
       "      <th>3</th>\n",
       "      <td>22.4</td>\n",
       "      <td>4.032</td>\n",
       "      <td>5.824</td>\n",
       "      <td>21.056</td>\n",
       "      <td>21.280</td>\n",
       "      <td>827.34</td>\n",
       "      <td>142.39</td>\n",
       "      <td>AR</td>\n",
       "    </tr>\n",
       "    <tr>\n",
       "      <th>4</th>\n",
       "      <td>12.0</td>\n",
       "      <td>4.200</td>\n",
       "      <td>3.360</td>\n",
       "      <td>10.920</td>\n",
       "      <td>10.680</td>\n",
       "      <td>878.41</td>\n",
       "      <td>165.63</td>\n",
       "      <td>CA</td>\n",
       "    </tr>\n",
       "  </tbody>\n",
       "</table>\n",
       "</div>"
      ],
      "text/plain": [
       "   total  speeding  alcohol  not_distracted  no_previous  ins_premium  \\\n",
       "0   18.8     7.332    5.640          18.048       15.040       784.55   \n",
       "1   18.1     7.421    4.525          16.290       17.014      1053.48   \n",
       "2   18.6     6.510    5.208          15.624       17.856       899.47   \n",
       "3   22.4     4.032    5.824          21.056       21.280       827.34   \n",
       "4   12.0     4.200    3.360          10.920       10.680       878.41   \n",
       "\n",
       "   ins_losses abbrev  \n",
       "0      145.08     AL  \n",
       "1      133.93     AK  \n",
       "2      110.35     AZ  \n",
       "3      142.39     AR  \n",
       "4      165.63     CA  "
      ]
     },
     "execution_count": 3,
     "metadata": {},
     "output_type": "execute_result"
    }
   ],
   "source": [
    "df_crash = sns.load_dataset('car_crashes')\n",
    "df_crash.head()"
   ]
  },
  {
   "cell_type": "markdown",
   "id": "07966443-36ff-4b46-ad49-5661ca12807e",
   "metadata": {},
   "source": [
    "#### Part 1.1 (5 pts)\n",
    "Return the first 3 rows of df_crash."
   ]
  },
  {
   "cell_type": "code",
   "execution_count": null,
   "id": "4f6ef3e4-2808-4d31-85c4-01da7f57c23b",
   "metadata": {},
   "outputs": [],
   "source": []
  },
  {
   "cell_type": "markdown",
   "id": "97ddf2ca-6f99-4baa-926f-4a7a251347ea",
   "metadata": {},
   "source": [
    "#### Part 1.2 (10 pts)\n",
    "Return the `.head()` of the dataframe of those states whose `alcohol` value is smaller than the average `alcohol` value in the dataset."
   ]
  },
  {
   "cell_type": "code",
   "execution_count": null,
   "id": "33ae4915-4f3e-48a6-a8fa-705a06da7633",
   "metadata": {},
   "outputs": [],
   "source": []
  },
  {
   "cell_type": "markdown",
   "id": "63512505-5aef-427f-8d79-6d0e4bc2e145",
   "metadata": {},
   "source": [
    "#### Part 1.3 (15 pts)\n",
    "Add a column called `region` to df_crash, where the regions are defined as in the next cell. Print the `.head()` of the resulting df_crash to ensure it worked."
   ]
  },
  {
   "cell_type": "code",
   "execution_count": 4,
   "id": "202daeaf-5d36-4af8-8891-12e9c1f13cfe",
   "metadata": {},
   "outputs": [],
   "source": [
    "west = ['AK', 'HI', 'CA', 'OR', 'WA', 'ID', 'NV', 'UT', 'CO', 'WY', 'MT']\n",
    "southwest = ['AZ', 'NM', 'TX', 'OK']\n",
    "midwest = ['ND', 'SD', 'NE', 'KS', 'MN', 'IA', 'MO', 'WI', 'IL', 'IN', 'MI', 'OH']\n",
    "southeast = ['AR', 'LA', 'MS', 'TN', 'KY', 'AL', 'GA', 'FL', 'SC', 'NC', 'VA', 'WV', 'DE', 'MD', 'DC']\n",
    "northeast = ['PA', 'NJ', 'CT', 'RI', 'NY', 'MA', 'NH', 'VT', 'ME']"
   ]
  },
  {
   "cell_type": "code",
   "execution_count": null,
   "id": "aa34ad22-10a3-42b5-a756-5de560ef5594",
   "metadata": {},
   "outputs": [],
   "source": []
  },
  {
   "cell_type": "markdown",
   "id": "4dac4fd1-6394-409c-96cf-8841d1e1bdba",
   "metadata": {},
   "source": [
    "#### Part 1.4 (10 pts)\n",
    "Calculate and display the median of each numerical feature in the dataframe."
   ]
  },
  {
   "cell_type": "code",
   "execution_count": null,
   "id": "a24a8fcc-e2b9-4834-ac7a-43357c8a339e",
   "metadata": {},
   "outputs": [],
   "source": []
  },
  {
   "cell_type": "markdown",
   "id": "afcd72a4-a441-4392-bc9d-af6d067e11ea",
   "metadata": {},
   "source": [
    "#### Part 1.5 (10 pts)\n",
    "Calculate and display the average `speeding` for each `region` (as created in 2.3)."
   ]
  },
  {
   "cell_type": "code",
   "execution_count": null,
   "id": "272fe70b-87e7-4a8d-ae1e-50824a452027",
   "metadata": {},
   "outputs": [],
   "source": []
  },
  {
   "cell_type": "markdown",
   "id": "fbe8b046-f423-46b3-828e-b7c57afba04d",
   "metadata": {},
   "source": [
    "#### Part 1.6 (10 pts)\n",
    "Build a dataframe of the average numerical features in every region (dataframe should thus have 5 rows, one for each region). Do not include non-numeric features which can't be averaged, like `abbrev`; **Hint**: you may want to read the [`.mean` documentation](https://pandas.pydata.org/docs/reference/api/pandas.DataFrame.mean.html) to help you figure this one out."
   ]
  },
  {
   "cell_type": "code",
   "execution_count": null,
   "id": "8c881d00-879b-4837-a73b-ff03841386a1",
   "metadata": {},
   "outputs": [],
   "source": []
  },
  {
   "cell_type": "markdown",
   "id": "1a095df3-ca4f-4e95-9a58-1d3bce8a8a2f",
   "metadata": {},
   "source": [
    "#### Part 1.7 (10 pts)\n",
    "Use the original dataframe to calculate and display the correlation matrix (all pairwise correlations) between the numeric features."
   ]
  },
  {
   "cell_type": "code",
   "execution_count": null,
   "id": "55a426ab-3340-43bd-9df6-27847135b3b3",
   "metadata": {},
   "outputs": [],
   "source": []
  },
  {
   "cell_type": "markdown",
   "id": "b1becb5b-17ab-42e5-8847-bb52c9b3235d",
   "metadata": {},
   "source": [
    "#### Part 1.8 (10 pts)\n",
    "Based on the correlation matrix from the previous part, which two features are most strongly related? Which seem least likely to be related? What is the danger with only using the correlation to assess relationships?"
   ]
  },
  {
   "cell_type": "markdown",
   "id": "0e69b574-383d-4a0f-9b5a-a9f59550c4af",
   "metadata": {},
   "source": []
  },
  {
   "cell_type": "markdown",
   "id": "f4ce6209-816f-422d-91ef-4d20e31518e7",
   "metadata": {},
   "source": [
    "#### Part 1.9 (10 pts)\n",
    "Use the `.pairplot` function from seaborn to create a scatterplot matrix of the numeric features in the original data frame. Make sure that your plot has:\n",
    "\n",
    "- An informative title\n",
    "- Well labeled, *readable* axes\n",
    "\n",
    "**Then** in a markdown cell, discuss if any of the pairs of features have relationships that correlation would not be adequate in describing.\n",
    "\n",
    "**Note:** when I run this, I get a warning that the figure layout has changed to tight; as long as you can see the plot, don't worry about that."
   ]
  },
  {
   "cell_type": "code",
   "execution_count": null,
   "id": "4817779c-df30-4851-b15c-472e9fcff4d5",
   "metadata": {},
   "outputs": [],
   "source": []
  },
  {
   "cell_type": "markdown",
   "id": "020525a1-4975-4423-bbeb-2980588a4e91",
   "metadata": {},
   "source": []
  },
  {
   "cell_type": "markdown",
   "id": "5b173819-cd59-4caa-8285-4ce49e5bbe94",
   "metadata": {},
   "source": [
    "#### Part 1.10 (10 pts)\n",
    "Use any of matplotlib, seaborn, or plotly (your choice) to create a single scatter plot of the relationship you think is most interesting from the above pairs of numeric features. Use the data frame from 2.3 and color the points by region. Make sure that your plot has:\n",
    "\n",
    "- An informative title\n",
    "- Well labeled, *readable* axes\n",
    "- A legend\n",
    "\n",
    "**Then** in a markdown cell, **explain** why you thought this pair of features had the most interesting relationship and if adding the regions provided you with any more insight/information about that relationship."
   ]
  },
  {
   "cell_type": "code",
   "execution_count": null,
   "id": "3c21fdcb-f214-4159-82fc-cacf5cfa12a0",
   "metadata": {},
   "outputs": [],
   "source": []
  },
  {
   "cell_type": "markdown",
   "id": "3a36a8d2-a005-4d2a-8aeb-b2b26fa339a5",
   "metadata": {},
   "source": []
  }
 ],
 "metadata": {
  "kernelspec": {
   "display_name": "Python 3 (ipykernel)",
   "language": "python",
   "name": "python3"
  },
  "language_info": {
   "codemirror_mode": {
    "name": "ipython",
    "version": 3
   },
   "file_extension": ".py",
   "mimetype": "text/x-python",
   "name": "python",
   "nbconvert_exporter": "python",
   "pygments_lexer": "ipython3",
   "version": "3.11.6"
  }
 },
 "nbformat": 4,
 "nbformat_minor": 5
}
