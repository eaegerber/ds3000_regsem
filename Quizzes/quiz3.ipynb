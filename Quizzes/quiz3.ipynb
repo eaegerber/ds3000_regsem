{
 "cells": [
  {
   "cell_type": "markdown",
   "metadata": {},
   "source": [
    "# DS 3000 Quiz 3\n",
    "\n",
    "Due by: Monday Nov 14 @ 11:59 PM EST\n",
    "\n",
    "Time Limit: You have 2 hours to complete the assignment once started\n",
    "\n",
    "## Instructions\n",
    "\n",
    "This quiz has 100 points total.\n",
    "\n",
    "- You are welcome to post a private note on piazza, but to keep a consistent testing environment for all students we are unlikely to provide assistance.\n",
    "- You may not contact other students with information about this this quiz\n",
    "    - even saying \"it was easy/hard\" in a general sense can introduce a bias in favor of students who take the quiz earlier or later\n",
    "- Under no circumstances should you share a copy of this quiz with anyone who isn't a member of the course staff.\n",
    "- Take this quiz with open notes and feel free to access any online resource / documentation you'd like.  \n",
    "\n",
    "### Submission Instructions\n",
    "After completing the quiz below, please follow the instructions below to submit:\n",
    "1. \"Kernel\" -> \"Restart & Run All\"\n",
    "1. save your quiz file to this latest version\n",
    "1. upload the `.ipynb` to gradescope **before** clicking submit\n",
    "1. ensure that you can see your jupyter notebook in the gradescope interface after clicking \"submit\"\n",
    "\n",
    "We specify the last note above as gradescope has allowed students to \"submit\" without uploading a file.  It is your responsibility to ensure that you've actually submitted a file."
   ]
  },
  {
   "cell_type": "markdown",
   "metadata": {},
   "source": [
    "### Academic Integrity Pledge\n",
    "\n",
    "Input your name below to sign the Academic Integrity Pledge before continuing with the quiz. Failure to do so will result in a score of **0**."
   ]
  },
  {
   "cell_type": "code",
   "execution_count": null,
   "metadata": {},
   "outputs": [],
   "source": [
    "name = 'Student Name Here'\n",
    "print(f'I, {name}, declare that the following work is entirely my own, and that I did not copy or seek help from any students who have currently or previously taken this course, nor from any online source other than private messages between myself and the professor on Piazza/via email.')"
   ]
  },
  {
   "cell_type": "code",
   "execution_count": null,
   "metadata": {},
   "outputs": [],
   "source": [
    "# the following modules will be necessary to complete the quiz\n",
    "import warnings\n",
    "warnings.simplefilter(action='ignore', category=FutureWarning)\n",
    "import pandas as pd\n",
    "import seaborn as sns\n",
    "from sklearn.neighbors import KNeighborsClassifier\n",
    "from sklearn.model_selection import StratifiedKFold\n",
    "from copy import copy\n",
    "from collections import Counter\n",
    "from sklearn import tree\n",
    "import matplotlib.pyplot as plt\n",
    "import numpy as np\n",
    "from sklearn.model_selection import StratifiedKFold, KFold\n",
    "from sklearn.metrics import confusion_matrix, ConfusionMatrixDisplay\n",
    "from sklearn.metrics import accuracy_score\n",
    "from sklearn.ensemble import RandomForestClassifier"
   ]
  },
  {
   "cell_type": "markdown",
   "metadata": {},
   "source": [
    "## Part 1: k-Nearest Neighbors (30 points; 10 points each)\n",
    "\n",
    "For this problem you will use the `new_fifa23.csv` file (available in the Quiz module on Canvas). It is a slightly altered of the FIFA players data set you have used previously. We will use these data to see if we can predict a football player's Position (Backfield, Forward, Goalkeeper, Midfield, Wing) based on all the numeric features in the data."
   ]
  },
  {
   "cell_type": "code",
   "execution_count": null,
   "metadata": {},
   "outputs": [],
   "source": [
    "df_fifa = pd.read_csv('new_fifa23.csv')\n",
    "df_fifa.head()"
   ]
  },
  {
   "cell_type": "markdown",
   "metadata": {},
   "source": [
    "**NOTE**: You are not expected to write all the code for this problem. To save time, you may take code from the lecture notes/homework and adapt it appropriately. If you do, please be careful to make sure you are adequately adapting the code to this problem, and **MAKE SURE TO COMMENT**."
   ]
  },
  {
   "cell_type": "markdown",
   "metadata": {},
   "source": [
    "## Part 1.1: Fit a Cross Validated k-NN\n",
    "\n",
    "Use 5-fold cross validation to fit and predict the `PositionRole` of the players in the data set. Use the $k=6$ nearest neighbors (for this data set, more $k$ is better, but after $k=6$ the improvement is negligible). Do not forget to scale normalize your all x-features (there are many features which are on different scales). To help you get started, you can get the feature names with:\n",
    "\n",
    "```python\n",
    "x_feat_list = list(df_fifa.columns[2:])\n",
    "y_feat = 'PositionRole'\n",
    "```"
   ]
  },
  {
   "cell_type": "code",
   "execution_count": null,
   "metadata": {},
   "outputs": [],
   "source": []
  },
  {
   "cell_type": "markdown",
   "metadata": {},
   "source": [
    "## Part 1.2: Confusion Matrix and Overall Accuracy\n",
    "\n",
    "Make a confusion matrix using the `y_true` values and the `y_pred` values from the 5-fold cross validation in the previous part. Then, use the `accuracy_score()` function to calculate the overall accuracy of the k-NN classifier."
   ]
  },
  {
   "cell_type": "code",
   "execution_count": null,
   "metadata": {},
   "outputs": [],
   "source": []
  },
  {
   "cell_type": "code",
   "execution_count": null,
   "metadata": {},
   "outputs": [],
   "source": []
  },
  {
   "cell_type": "markdown",
   "metadata": {},
   "source": [
    "## Part 1.3: Discuss\n",
    "\n",
    "In a markdown cell, provide a discussion (at least one paragraph) of the results of the k-NN classifier. Be sure to discuss:\n",
    "- What the overall accuracy tells us\n",
    "- Which positions were predicted well\n",
    "- Which positions were not predicted well\n",
    "- Why some were predicted well and others weren't (you do not necessarily have to have an understanding of soccer to do this, but it may help to [read a bit about it](https://en.wikipedia.org/wiki/Association_football_positions): note that some intuition can be gained simply by looking at the table of contents of that wikipedia page)"
   ]
  },
  {
   "cell_type": "markdown",
   "metadata": {},
   "source": []
  },
  {
   "cell_type": "markdown",
   "metadata": {},
   "source": [
    "## Part 2: Decision Trees (30 points; 6 points each part)\n",
    "\n",
    "Load the `ratemyprof_sample.csv` (available in the Quiz module on Canvas). These data consist of randomly selected ratings from RateMyProfessor.com, and are adapted from the dataset available at [this site](https://data.mendeley.com/datasets/fvtfjyvw7d/2). You will use these data in Parts 2 and 3 to build Decision Trees and a Random Forest.\n",
    "\n",
    "Our goal is to predict if a student would take a professor again (the `would_take_agains` feature is our output) with the rest of the features which include:\n",
    "- `student_difficult`: 1 to 5 rating of how difficult the student found the professor (5 being the most difficult)\n",
    "- `attence`: whether attendance was mandatory for the professor's class\n",
    "- `gives_good_feedback` to `IsCourseOnline`: True/False features coded as 0 (False) or 1 (True) representing how students felt about the professor/class. Most are easily interpretable; if more information is required about a specific feature, please see the source website above."
   ]
  },
  {
   "cell_type": "code",
   "execution_count": null,
   "metadata": {},
   "outputs": [],
   "source": [
    "df_rmp = pd.read_csv(\"ratemyprof_sample.csv\")\n",
    "df_rmp.head()"
   ]
  },
  {
   "cell_type": "code",
   "execution_count": null,
   "metadata": {},
   "outputs": [],
   "source": [
    "Counter(df_rmp['would_take_agains'])"
   ]
  },
  {
   "cell_type": "markdown",
   "metadata": {},
   "source": [
    "**NOTE**: You are not expected to write all the code for this problem. To save time, you may take code from the lecture notes/homework and adapt it appropriately. If you do, please be careful to make sure you are adequately adapting the code to this problem, and **MAKE SURE TO COMMENT**."
   ]
  },
  {
   "cell_type": "markdown",
   "metadata": {},
   "source": [
    "## Part 2.1: Make a Single Tree\n",
    "\n",
    "Using a `max_depth = 3`, fit and plot a single Decision Tree. Make sure the plot is readable (i.e. that you can easily read the features being used to split the data, the gini, and the counts in each node)."
   ]
  },
  {
   "cell_type": "code",
   "execution_count": null,
   "metadata": {},
   "outputs": [],
   "source": []
  },
  {
   "cell_type": "markdown",
   "metadata": {},
   "source": [
    "## Part 2.2: Predict a Professor\n",
    "\n",
    "Predict (manually or with the `.predict()` function, your choice) if a student would take a professor again or not if:\n",
    "- The student rated the professor as very difficult: `student_difficult = 5`\n",
    "- The student rated the professor as not a tough grader: `tough_grader = 0`\n",
    "- The student rated the professor as having amazing lectures: `amazing_lectures = 1`\n",
    "\n",
    "**Then** discuss in a sentence or two what the gini value in the terminal node that your prediction came from means."
   ]
  },
  {
   "cell_type": "markdown",
   "metadata": {},
   "source": []
  },
  {
   "cell_type": "markdown",
   "metadata": {},
   "source": [
    "## Part 2.3: Cross Validate\n",
    "\n",
    "Predict whether students would take a professor again using Decision Trees with a 10-fold cross validation and `max_depth = None`."
   ]
  },
  {
   "cell_type": "code",
   "execution_count": null,
   "metadata": {},
   "outputs": [],
   "source": []
  },
  {
   "cell_type": "markdown",
   "metadata": {},
   "source": [
    "## Part 2.4: Confusion Matrix and Accuracy/Sensitivity/Specificity\n",
    "\n",
    "Make a confusion matrix using the true `y` values and the `y_pred` values from the 10-fold cross validation in the previous part. Then, use the provided `get_acc_sens_spec()` function to calculate the accuracy, sensitivity, and specificity of the cross validated predictions from the previous part (the Decision Tree with `max_depth = None`)."
   ]
  },
  {
   "cell_type": "code",
   "execution_count": null,
   "metadata": {},
   "outputs": [],
   "source": [
    "def get_acc_sens_spec(y_true, y_pred, verbose=True):\n",
    "    \"\"\" computes sensitivity & specificity (assumed binary inputs)\n",
    "\n",
    "    Args:\n",
    "        y_true (np.array): binary ground truth per trial\n",
    "        y_pred (np.array): binary prediction per trial\n",
    "\n",
    "    Returns:\n",
    "        acc (float): accuracy\n",
    "        sens (float): sensitivity\n",
    "        spec (float): specificity\n",
    "    \"\"\"\n",
    "    # line below stolen from sklearn confusion_matrix documentation\n",
    "    tn, fp, fn, tp = confusion_matrix(y_true,\n",
    "                                      y_pred).ravel()\n",
    "\n",
    "    # compute sensitivity\n",
    "    if tp + fn:\n",
    "        sens = tp / (tp + fn)\n",
    "    else:\n",
    "        sens = np.nan\n",
    "\n",
    "    # compute specificity\n",
    "    if tn + fp:\n",
    "        spec = tn / (tn + fp)\n",
    "    else:\n",
    "        spec = np.nan\n",
    "        \n",
    "    # compute acc\n",
    "    acc = (tp + tn) / (tn + fp + fn + tp)\n",
    "\n",
    "    return acc, sens, spec"
   ]
  },
  {
   "cell_type": "code",
   "execution_count": null,
   "metadata": {},
   "outputs": [],
   "source": []
  },
  {
   "cell_type": "code",
   "execution_count": null,
   "metadata": {},
   "outputs": [],
   "source": []
  },
  {
   "cell_type": "markdown",
   "metadata": {},
   "source": [
    "## Part 2.5: Discuss\n",
    "\n",
    "In a markdown cell, discuss the results from Part 2.4. In 3-4 sentences, describe (a) the performance of the decision tree and (b) what is one drawback of the single decision tree approach and how might we address it?"
   ]
  },
  {
   "cell_type": "markdown",
   "metadata": {},
   "source": []
  },
  {
   "cell_type": "markdown",
   "metadata": {},
   "source": [
    "## Part 3: Random Forest (40 points; 10 points each part)\n",
    "\n",
    "### Part 3.1: Cross Validated Random Forest\n",
    "\n",
    "Using the same data from Part 2, fit a 10-fold cross validated Random Forest classifier of the RateMyProfessor data. Keep the defaults of `max_depth=None` and `n_estimators=100`. "
   ]
  },
  {
   "cell_type": "markdown",
   "metadata": {},
   "source": [
    "**NOTE**: You are not expected to write all the code for this problem. To save time, you may take code from the lecture notes/homework and adapt it appropriately. If you do, please be careful to make sure you are adequately adapting the code to this problem, and **MAKE SURE TO COMMENT**."
   ]
  },
  {
   "cell_type": "code",
   "execution_count": null,
   "metadata": {},
   "outputs": [],
   "source": []
  },
  {
   "cell_type": "markdown",
   "metadata": {},
   "source": [
    "## Part 3.2: Confusion Matrix and Accuracy/Sensitivity/Specificity\n",
    "\n",
    "Make a confusion matrix using the true `y` values and the `y_pred` values from the 10-fold cross validation in the previous part. Then, use the `get_acc_sens_spec()` function to calculate the accuracy, sensitivity, and specificity of the cross validated predictions from previous part (the Random Forest of 100 decision trees with `max_depth = None`)."
   ]
  },
  {
   "cell_type": "code",
   "execution_count": null,
   "metadata": {},
   "outputs": [],
   "source": []
  },
  {
   "cell_type": "code",
   "execution_count": null,
   "metadata": {},
   "outputs": [],
   "source": []
  },
  {
   "cell_type": "markdown",
   "metadata": {},
   "source": [
    "## Part 3.3: Feature Importance\n",
    "\n",
    "Use the `plot_feat_import` function provided below to display a plot of the top **5** most important features based on the Random Forest you fit."
   ]
  },
  {
   "cell_type": "code",
   "execution_count": null,
   "metadata": {},
   "outputs": [],
   "source": [
    "def plot_feat_import(feat_list, feat_import, sort=True, limit=None):\n",
    "    \"\"\" plots feature importances in a horizontal bar chart\n",
    "    \n",
    "    Args:\n",
    "        feat_list (list): str names of features\n",
    "        feat_import (np.array): feature importances (mean gini reduce)\n",
    "        sort (bool): if True, sorts features in decreasing importance\n",
    "            from top to bottom of plot\n",
    "        limit (int): if passed, limits the number of features shown\n",
    "            to this value    \n",
    "    \"\"\"\n",
    "    \n",
    "    if sort:\n",
    "        # sort features in decreasing importance\n",
    "        ## not sure why, but .argsort had been doing decreasing by default, but this is now increasing\n",
    "        ## This will now only work if you set the limit, since I flip it around in the next if block\n",
    "        idx = np.argsort(feat_import).astype(int)\n",
    "        feat_list = [feat_list[_idx] for _idx in idx]\n",
    "        feat_import = feat_import[idx] \n",
    "        \n",
    "    if limit is not None:\n",
    "        # limit to the first limit feature\n",
    "        feat_list = feat_list[-limit:]\n",
    "        feat_import = feat_import[-limit:]\n",
    "    \n",
    "    # plot and label feature importance\n",
    "    plt.barh(feat_list, feat_import)\n",
    "    plt.gcf().set_size_inches(5, len(feat_list) / 2)\n",
    "    plt.xlabel('Feature importance\\n(Mean decrease in Gini across all Decision Trees)')"
   ]
  },
  {
   "cell_type": "code",
   "execution_count": null,
   "metadata": {},
   "outputs": [],
   "source": []
  },
  {
   "cell_type": "markdown",
   "metadata": {},
   "source": [
    "## Part 3.4: Discuss\n",
    "\n",
    "In a markdown cell, provide a discussion (at least one paragraph) of the results of the Random Forest and their comparison to the results from the single decision tree:\n",
    "- Compare the confusion matrix, accuracy, sensitivity, and specificity from the past two parts and explain what the differences mean\n",
    "- Discuss the feature importance graph, what the top five important features represent, and whether it makes sense to you that they would be important in determining if a student would take a class again"
   ]
  },
  {
   "cell_type": "markdown",
   "metadata": {},
   "source": []
  }
 ],
 "metadata": {
  "kernelspec": {
   "display_name": "Python 3 (ipykernel)",
   "language": "python",
   "name": "python3"
  },
  "language_info": {
   "codemirror_mode": {
    "name": "ipython",
    "version": 3
   },
   "file_extension": ".py",
   "mimetype": "text/x-python",
   "name": "python",
   "nbconvert_exporter": "python",
   "pygments_lexer": "ipython3",
   "version": "3.8.10"
  }
 },
 "nbformat": 4,
 "nbformat_minor": 4
}
