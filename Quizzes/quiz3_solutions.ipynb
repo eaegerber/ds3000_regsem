{
 "cells": [
  {
   "cell_type": "markdown",
   "metadata": {},
   "source": [
    "# DS 3000 Quiz 2\n",
    "\n",
    "Due by: Sunday Oct 23 @ 11:59 PM EST\n",
    "\n",
    "Time Limit: You have 2 hours to complete the assignment once started\n",
    "\n",
    "## Instructions\n",
    "\n",
    "This quiz has 100 points total.\n",
    "\n",
    "- You are welcome to post a private note on piazza, but to keep a consistent testing environment for all students we are unlikely to provide assistance.\n",
    "- You may not contact other students with information about this this quiz\n",
    "    - even saying \"it was easy/hard\" in a general sense can introduce a bias in favor of students who take the quiz earlier or later\n",
    "- Under no circumstances should you share a copy of this quiz with anyone who isn't a member of the course staff.\n",
    "- Take this quiz with open notes and feel free to access any online resource / documentation you'd like.  \n",
    "\n",
    "### Submission Instructions\n",
    "After completing the quiz below, please follow the instructions below to submit:\n",
    "1. \"Kernel\" -> \"Restart & Run All\"\n",
    "1. save your quiz file to this latest version\n",
    "1. upload the `.ipynb` to gradescope **before** clicking submit\n",
    "1. ensure that you can see your jupyter notebook in the gradescope interface after clicking \"submit\"\n",
    "\n",
    "We specify the last note above as gradescope has allowed students to \"submit\" without uploading a file.  It is your responsibility to ensure that you've actually submitted a file."
   ]
  },
  {
   "cell_type": "markdown",
   "metadata": {},
   "source": [
    "### Academic Integrity Pledge\n",
    "\n",
    "Input your name below to sign the Academic Integrity Pledge before continuing with the quiz. Failure to do so will result in a score of **0**."
   ]
  },
  {
   "cell_type": "code",
   "execution_count": 1,
   "metadata": {},
   "outputs": [
    {
     "name": "stdout",
     "output_type": "stream",
     "text": [
      "I, Student Name Here, declare that the following work is entirely my own, and that I did not copy or seek help from any students who have currently or previously taken this course, nor from any online source other than private messages between myself and the professor on Piazza/via email.\n"
     ]
    }
   ],
   "source": [
    "name = 'Student Name Here'\n",
    "print(f'I, {name}, declare that the following work is entirely my own, and that I did not copy or seek help from any students who have currently or previously taken this course, nor from any online source other than private messages between myself and the professor on Piazza/via email.')"
   ]
  },
  {
   "cell_type": "code",
   "execution_count": 2,
   "metadata": {},
   "outputs": [],
   "source": [
    "# the following modules will be necessary to complete the quiz\n",
    "import warnings\n",
    "warnings.simplefilter(action='ignore', category=FutureWarning)\n",
    "from datetime import datetime\n",
    "import pandas as pd\n",
    "import requests\n",
    "from bs4 import BeautifulSoup\n",
    "import json"
   ]
  },
  {
   "cell_type": "markdown",
   "metadata": {},
   "source": [
    "## Part 1: Timezones & String Manipulations\n",
    "Using `datetime` objects, respond to each question below:\n",
    "\n",
    "### Part 1.1 (10 points): \n",
    "Compute the number of seconds which have passed since the moon landing (Sunday July 20, 1969 @ 10:56 PM EST) and when you're currently taking this quiz (as in, right `datetime.now()`)"
   ]
  },
  {
   "cell_type": "code",
   "execution_count": 22,
   "metadata": {},
   "outputs": [
    {
     "data": {
      "text/plain": [
       "1680974160.296054"
      ]
     },
     "execution_count": 22,
     "metadata": {},
     "output_type": "execute_result"
    }
   ],
   "source": [
    "# Create datetime objects for the moon landing and now (as I am writing it)\n",
    "dt1 = datetime(year=1969, month=7, day=20, hour=22, minute=56)\n",
    "dt_now = datetime.now()\n",
    "\n",
    "# Find the datetime time difference by subtracting the two datetimes\n",
    "dt_difference = (dt_now - dt1)\n",
    "\n",
    "# Get the difference in seconds\n",
    "total_seconds = dt_difference.total_seconds()\n",
    "total_seconds"
   ]
  },
  {
   "cell_type": "markdown",
   "metadata": {},
   "source": [
    "### Part 1.2 (10 points):\n",
    "Convert the datetime string from `format_a` to `format_b`. [Hint](https://docs.python.org/3/library/datetime.html#strftime-and-strptime-behavior)"
   ]
  },
  {
   "cell_type": "code",
   "execution_count": 23,
   "metadata": {},
   "outputs": [],
   "source": [
    "format_a = 'Date of birth: October, 02 1992 @ 02:52 PM'\n",
    "format_b_expected = 'DOB_10/02/1992_14:52'"
   ]
  },
  {
   "cell_type": "code",
   "execution_count": 24,
   "metadata": {},
   "outputs": [
    {
     "data": {
      "text/plain": [
       "'DOB_10/02/1992_14:52'"
      ]
     },
     "execution_count": 24,
     "metadata": {},
     "output_type": "execute_result"
    }
   ],
   "source": [
    "# Strip time starting at index 15 to remove \"Date of birth: \"\n",
    "format_b = datetime.strptime(format_a[15:], '%B, %d %Y @ %I:%M %p')\n",
    "\n",
    "#Reformat string into desired format\n",
    "format_b = format_b.strftime('%m/%d/%Y_%H:%M')\n",
    "\n",
    "# Add on \"DOB_\" to the beginning of the string\n",
    "format_b = 'DOB_' + format_b\n",
    "format_b"
   ]
  },
  {
   "cell_type": "code",
   "execution_count": 25,
   "metadata": {},
   "outputs": [],
   "source": [
    "assert format_b == format_b_expected"
   ]
  },
  {
   "cell_type": "markdown",
   "metadata": {},
   "source": [
    "### Part 1.3 (14 points):\n",
    "Build the dataframe of [clue](https://en.wikipedia.org/wiki/Cluedo) guesses shown from the given string:\n",
    "\n",
    "|   |  player |       character |          room |      weapon |\n",
    "|--:|--------:|----------------:|--------------:|------------:|\n",
    "| 0 | Player0 | Colonel Mustard | Billiard room | candlestick |\n",
    "| 1 | Player1 |       Mr. Green |       Kitchen |      Dagger |\n",
    "| 2 | Player0 |    Mrs. Peacock |          Hall |   Lead Pipe |\n",
    "| 3 | Player2 |  Professor Plum | Billiard Room |      Wrench |"
   ]
  },
  {
   "cell_type": "code",
   "execution_count": 26,
   "metadata": {},
   "outputs": [],
   "source": [
    "s_clue = \\\n",
    "\"\"\"Player0's guess, Colonel Mustard, in the Billiard room, with the candlestick\n",
    "Player1's guess, Mr. Green, in the Kitchen, with the Dagger\n",
    "Player0's guess, Mrs. Peacock, in the Hall, with the Lead Pipe\n",
    "Player2's guess, Professor Plum, in the Billiard Room, with the Wrench\"\"\""
   ]
  },
  {
   "cell_type": "code",
   "execution_count": 27,
   "metadata": {},
   "outputs": [
    {
     "data": {
      "text/html": [
       "<div>\n",
       "<style scoped>\n",
       "    .dataframe tbody tr th:only-of-type {\n",
       "        vertical-align: middle;\n",
       "    }\n",
       "\n",
       "    .dataframe tbody tr th {\n",
       "        vertical-align: top;\n",
       "    }\n",
       "\n",
       "    .dataframe thead th {\n",
       "        text-align: right;\n",
       "    }\n",
       "</style>\n",
       "<table border=\"1\" class=\"dataframe\">\n",
       "  <thead>\n",
       "    <tr style=\"text-align: right;\">\n",
       "      <th></th>\n",
       "      <th>player</th>\n",
       "      <th>character</th>\n",
       "      <th>room</th>\n",
       "      <th>weapon</th>\n",
       "    </tr>\n",
       "  </thead>\n",
       "  <tbody>\n",
       "    <tr>\n",
       "      <th>0</th>\n",
       "      <td>Player0</td>\n",
       "      <td>Colonel Mustard</td>\n",
       "      <td>Billiard room</td>\n",
       "      <td>candlestick</td>\n",
       "    </tr>\n",
       "    <tr>\n",
       "      <th>1</th>\n",
       "      <td>Player1</td>\n",
       "      <td>Mr. Green</td>\n",
       "      <td>Kitchen</td>\n",
       "      <td>Dagger</td>\n",
       "    </tr>\n",
       "    <tr>\n",
       "      <th>2</th>\n",
       "      <td>Player0</td>\n",
       "      <td>Mrs. Peacock</td>\n",
       "      <td>Hall</td>\n",
       "      <td>Lead Pipe</td>\n",
       "    </tr>\n",
       "    <tr>\n",
       "      <th>3</th>\n",
       "      <td>Player2</td>\n",
       "      <td>Professor Plum</td>\n",
       "      <td>Billiard Room</td>\n",
       "      <td>Wrench</td>\n",
       "    </tr>\n",
       "  </tbody>\n",
       "</table>\n",
       "</div>"
      ],
      "text/plain": [
       "    player        character           room       weapon\n",
       "0  Player0  Colonel Mustard  Billiard room  candlestick\n",
       "1  Player1        Mr. Green        Kitchen       Dagger\n",
       "2  Player0     Mrs. Peacock           Hall    Lead Pipe\n",
       "3  Player2   Professor Plum  Billiard Room       Wrench"
      ]
     },
     "execution_count": 27,
     "metadata": {},
     "output_type": "execute_result"
    }
   ],
   "source": [
    "# Split the block string into lines\n",
    "lines = s_clue.split('\\n')\n",
    "\n",
    "# Initialize a list to store values after being cleaned and split\n",
    "data_vals = list()\n",
    "\n",
    "# Iterate through each line\n",
    "for line in lines:\n",
    "    # Split values into a list on the comma\n",
    "    values = line.split(', ')\n",
    "    \n",
    "    # Edit values in list to better fit dataframe\n",
    "    values[0] = values[0][:7]\n",
    "    values[2] = values[2][7:]\n",
    "    values[3] = values[3][9:]\n",
    "    \n",
    "    # Add split/cleaned values to list\n",
    "    data_vals.append(values)\n",
    "    \n",
    "# Append the list to the dataframe\n",
    "clue_df = pd.DataFrame(data_vals, columns=['player', 'character', 'room', 'weapon'])\n",
    "clue_df"
   ]
  },
  {
   "cell_type": "markdown",
   "metadata": {},
   "source": [
    "## Part 2: Web Scraping (32 points)\n",
    "\n",
    "Build a `df_premier` which contains the names and stadiums of all the current English Premier League Teams based [on this website](https://www.premierleague.com/clubs):\n",
    "\n",
    "    df_premier.head()\n",
    "    \n",
    "yields an output:\n",
    "\n",
    "| name                   | stadium                 |\n",
    "|------------------------|-------------------------|\n",
    "| AFC Bournemouth        | Vitality Stadium        |\n",
    "| Arsenal                | Emirates Stadium        |\n",
    "| Aston Villa            | Villa Park              |\n",
    "| Brentford              | Gtech Community Stadium |\n",
    "| Brighton & Hove Albion | Amex Stadium            |"
   ]
  },
  {
   "cell_type": "code",
   "execution_count": 28,
   "metadata": {},
   "outputs": [],
   "source": [
    "# Get the html string from the class website url\n",
    "url = 'https://www.premierleague.com/clubs'\n",
    "html_str = requests.get(url).text"
   ]
  },
  {
   "cell_type": "code",
   "execution_count": 29,
   "metadata": {},
   "outputs": [
    {
     "data": {
      "text/html": [
       "<div>\n",
       "<style scoped>\n",
       "    .dataframe tbody tr th:only-of-type {\n",
       "        vertical-align: middle;\n",
       "    }\n",
       "\n",
       "    .dataframe tbody tr th {\n",
       "        vertical-align: top;\n",
       "    }\n",
       "\n",
       "    .dataframe thead th {\n",
       "        text-align: right;\n",
       "    }\n",
       "</style>\n",
       "<table border=\"1\" class=\"dataframe\">\n",
       "  <thead>\n",
       "    <tr style=\"text-align: right;\">\n",
       "      <th></th>\n",
       "      <th>name</th>\n",
       "      <th>stadium</th>\n",
       "    </tr>\n",
       "  </thead>\n",
       "  <tbody>\n",
       "    <tr>\n",
       "      <th>0</th>\n",
       "      <td>AFC Bournemouth</td>\n",
       "      <td>Vitality Stadium</td>\n",
       "    </tr>\n",
       "    <tr>\n",
       "      <th>1</th>\n",
       "      <td>Arsenal</td>\n",
       "      <td>Emirates Stadium</td>\n",
       "    </tr>\n",
       "    <tr>\n",
       "      <th>2</th>\n",
       "      <td>Aston Villa</td>\n",
       "      <td>Villa Park</td>\n",
       "    </tr>\n",
       "    <tr>\n",
       "      <th>3</th>\n",
       "      <td>Brentford</td>\n",
       "      <td>Gtech Community Stadium</td>\n",
       "    </tr>\n",
       "    <tr>\n",
       "      <th>4</th>\n",
       "      <td>Brighton &amp; Hove Albion</td>\n",
       "      <td>Amex Stadium</td>\n",
       "    </tr>\n",
       "  </tbody>\n",
       "</table>\n",
       "</div>"
      ],
      "text/plain": [
       "                     name                  stadium\n",
       "0         AFC Bournemouth         Vitality Stadium\n",
       "1                 Arsenal         Emirates Stadium\n",
       "2             Aston Villa               Villa Park\n",
       "3               Brentford  Gtech Community Stadium\n",
       "4  Brighton & Hove Albion             Amex Stadium"
      ]
     },
     "execution_count": 29,
     "metadata": {},
     "output_type": "execute_result"
    }
   ],
   "source": [
    "# Build soup object from html string\n",
    "soup = BeautifulSoup(html_str)\n",
    "\n",
    "# Initialize dictionary\n",
    "premier_dict = {'name': [],\n",
    "                'stadium': []}\n",
    "\n",
    "for name in soup.find_all(class_='name'):\n",
    "    premier_dict['name'].append(name.text)\n",
    "    \n",
    "for stad in soup.find_all(class_='stadiumName'):\n",
    "    premier_dict['stadium'].append(stad.text)\n",
    "\n",
    "df_premier = pd.DataFrame.from_dict(premier_dict)\n",
    "df_premier.head()"
   ]
  },
  {
   "cell_type": "markdown",
   "metadata": {},
   "source": [
    "# Part 3: Dictionary API (34 points)\n",
    "\n",
    "Using [this dictionary API](https://dictionaryapi.dev/) create the following dataframe by searching for the words `hello`, `data` and `science`.\n",
    "\n",
    "Note that your searches may return multiple words, multiple definitions or multiple pronounciations.  Where necessary, always select the first.  \n",
    "\n",
    "Your response need not build any functions, but be sure to name variables appropriately and document your process.\n",
    "\n",
    "\n",
    "|   |    word |                                                          url_pronounce |                                                                                                                                                                                              definition |\n",
    "|--:|--------:|-----------------------------------------------------------------------:|--------------------------------------------------------------------------------------------------------------------------------------------------------------------------------------------------------:|\n",
    "| 0 |   hello |     https://api.dictionaryapi.dev/media/pronunciations/en/hello-au.mp3 |                                                                                                                                                                     \"Hello!\" or an equivalent greeting. |\n",
    "| 1 |    data |   https://api.dictionaryapi.dev/media/pronunciations/en/data-au-nz.mp3 | (plural: data) A measurement of something on a scale understood by both the recorder (a person or device) and the reader (another person or device). The scale is arbitrarily defined, such as from ... |\n",
    "| 2 | science | https://api.dictionaryapi.dev/media/pronunciations/en/science-1-ca.mp3 |                                                A particular discipline or branch of learning, especially one dealing with measurable or systematic principles rather than intuition or natural ability. |\n",
    "\n",
    "Because each row of the pandas dataframe contains so many characters, you may find that:\n",
    "\n",
    "    pd.options.display.max_colwidth = 200\n",
    "    \n",
    "allows you to see the whole thing."
   ]
  },
  {
   "cell_type": "code",
   "execution_count": 30,
   "metadata": {},
   "outputs": [
    {
     "data": {
      "text/html": [
       "<div>\n",
       "<style scoped>\n",
       "    .dataframe tbody tr th:only-of-type {\n",
       "        vertical-align: middle;\n",
       "    }\n",
       "\n",
       "    .dataframe tbody tr th {\n",
       "        vertical-align: top;\n",
       "    }\n",
       "\n",
       "    .dataframe thead th {\n",
       "        text-align: right;\n",
       "    }\n",
       "</style>\n",
       "<table border=\"1\" class=\"dataframe\">\n",
       "  <thead>\n",
       "    <tr style=\"text-align: right;\">\n",
       "      <th></th>\n",
       "      <th>word</th>\n",
       "      <th>url_pronounce</th>\n",
       "      <th>definition</th>\n",
       "    </tr>\n",
       "  </thead>\n",
       "  <tbody>\n",
       "    <tr>\n",
       "      <th>0</th>\n",
       "      <td>hello</td>\n",
       "      <td>https://api.dictionaryapi.dev/media/pronunciations/en/hello-au.mp3</td>\n",
       "      <td>\"Hello!\" or an equivalent greeting.</td>\n",
       "    </tr>\n",
       "    <tr>\n",
       "      <th>1</th>\n",
       "      <td>data</td>\n",
       "      <td>https://api.dictionaryapi.dev/media/pronunciations/en/data-au-nz.mp3</td>\n",
       "      <td>(plural: data) A measurement of something on a scale understood by both the recorder (a person or device) and the reader (another person or device). The scale is arbitrarily defined, such as from ...</td>\n",
       "    </tr>\n",
       "    <tr>\n",
       "      <th>2</th>\n",
       "      <td>science</td>\n",
       "      <td>https://api.dictionaryapi.dev/media/pronunciations/en/science-1-ca.mp3</td>\n",
       "      <td>A particular discipline or branch of learning, especially one dealing with measurable or systematic principles rather than intuition or natural ability.</td>\n",
       "    </tr>\n",
       "  </tbody>\n",
       "</table>\n",
       "</div>"
      ],
      "text/plain": [
       "      word  \\\n",
       "0    hello   \n",
       "1     data   \n",
       "2  science   \n",
       "\n",
       "                                                            url_pronounce  \\\n",
       "0      https://api.dictionaryapi.dev/media/pronunciations/en/hello-au.mp3   \n",
       "1    https://api.dictionaryapi.dev/media/pronunciations/en/data-au-nz.mp3   \n",
       "2  https://api.dictionaryapi.dev/media/pronunciations/en/science-1-ca.mp3   \n",
       "\n",
       "                                                                                                                                                                                                definition  \n",
       "0                                                                                                                                                                      \"Hello!\" or an equivalent greeting.  \n",
       "1  (plural: data) A measurement of something on a scale understood by both the recorder (a person or device) and the reader (another person or device). The scale is arbitrarily defined, such as from ...  \n",
       "2                                                 A particular discipline or branch of learning, especially one dealing with measurable or systematic principles rather than intuition or natural ability.  "
      ]
     },
     "execution_count": 30,
     "metadata": {},
     "output_type": "execute_result"
    }
   ],
   "source": [
    "# Create a word list of the words we want to search for\n",
    "word_list = ['hello', 'data', 'science']\n",
    "\n",
    "# Initialize our dataframe\n",
    "word_df = pd.DataFrame(columns=['word', 'url_pronounce', 'definition'])\n",
    "\n",
    "# Iterate over the word list\n",
    "for word in word_list:\n",
    "    # Source: https://dictionaryapi.dev/\n",
    "    url = f'https://api.dictionaryapi.dev/api/v2/entries/en/{word}'\n",
    "    word_data = requests.get(url).text\n",
    "    word_dict = json.loads(word_data)\n",
    "    \n",
    "    # Initialize a dictionary to store data on each word at intermediate points\n",
    "    helper_dict = dict()\n",
    "    \n",
    "    # Use dictionary indexing to find desired values\n",
    "    # There are 0's in between key names since some key values are lists\n",
    "    helper_dict['word'] = word\n",
    "    helper_dict['url_pronounce'] = word_dict[0]['phonetics'][0]['audio']\n",
    "    helper_dict['definition'] = word_dict[0]['meanings'][0]['definitions'][0]['definition']\n",
    "    \n",
    "    word_df = word_df.append(helper_dict, ignore_index = True)\n",
    "\n",
    "pd.options.display.max_colwidth = 200\n",
    "word_df"
   ]
  },
  {
   "cell_type": "code",
   "execution_count": null,
   "metadata": {},
   "outputs": [],
   "source": []
  }
 ],
 "metadata": {
  "kernelspec": {
   "display_name": "Python 3 (ipykernel)",
   "language": "python",
   "name": "python3"
  },
  "language_info": {
   "codemirror_mode": {
    "name": "ipython",
    "version": 3
   },
   "file_extension": ".py",
   "mimetype": "text/x-python",
   "name": "python",
   "nbconvert_exporter": "python",
   "pygments_lexer": "ipython3",
   "version": "3.8.10"
  }
 },
 "nbformat": 4,
 "nbformat_minor": 4
}
