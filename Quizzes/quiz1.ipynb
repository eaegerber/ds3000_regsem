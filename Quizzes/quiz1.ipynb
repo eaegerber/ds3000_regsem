{
 "cells": [
  {
   "cell_type": "markdown",
   "id": "1395d6f8",
   "metadata": {},
   "source": [
    "# DS 3000 Quiz 1\n",
    "\n",
    "Due by: Sunday Oct 2 @ 11:59 PM EST\n",
    "\n",
    "Time Limit: You have 2 hours to complete the assignment once started\n",
    "\n",
    "## Instructions\n",
    "\n",
    "This quiz has 100 points total.\n",
    "\n",
    "- You are welcome to post a private note on piazza, but to keep a consistent testing environment for all students we are unlikely to provide assistance.\n",
    "- You may not contact other students with information about this this quiz\n",
    "    - even saying \"it was easy/hard\" in a general sense can introduce a bias in favor of students who take the quiz earlier or later\n",
    "- Under no circumstances should you share a copy of this quiz with anyone who isn't a member of the course staff.\n",
    "- Take this quiz with open notes and feel free to access any online resource / documentation you'd like.  \n",
    "\n",
    "### Submission Instructions\n",
    "After completing the quiz below, please follow the instructions below to submit:\n",
    "1. \"Kernel\" -> \"Restart & Run All\"\n",
    "1. save your quiz file to this latest version\n",
    "1. upload the `.ipynb` to gradescope **before** clicking submit\n",
    "1. ensure that you can see your jupyter notebook in the gradescope interface after clicking \"submit\"\n",
    "\n",
    "We specify the last note above as gradescope has allowed students to \"submit\" without uploading a file.  It is your responsibility to ensure that you've actually submitted a file."
   ]
  },
  {
   "cell_type": "markdown",
   "id": "999ebd5b",
   "metadata": {},
   "source": [
    "### Academic Integrity Pledge\n",
    "\n",
    "Input your name below to sign the Academic Integrity Pledge before continuing with the quiz."
   ]
  },
  {
   "cell_type": "code",
   "execution_count": null,
   "id": "570e43d6",
   "metadata": {},
   "outputs": [],
   "source": [
    "name = 'Student Name Here'\n",
    "print(f'I, {name}, declare that the following work is entirely my own, and that I did not copy or seek help from any students who have currently or previously taken this course, nor from any online source other than private messages between myself and the professor on Piazza/via email.')"
   ]
  },
  {
   "cell_type": "markdown",
   "id": "28ad3709",
   "metadata": {},
   "source": [
    "## Part 1: Function Writing (10 pts)\n",
    "\n",
    "Write a function that simulates the shaking of a Magic 8 Ball. Our Magic 8 Ball will, on the inside, contain an 8-sided die which will randomly display one of eight possible answers to a yes/no question each time the ball is shaken. Complete the `magic_8_ball` function below. Make sure:\n",
    "\n",
    "- The function should have two arguments: `question`, a string that represents the question being asked of the ball, and `shakes`, an integer-the number of times you wish to shake the ball\n",
    "- You write an informative docstring to accompany the function\n",
    "- To make use of the `random.choices` function for each shake of the ball\n",
    "- Output both the question and the final result of all the shakes.\n",
    "\n",
    "The eight possible answers are:\n",
    "- It is certain\n",
    "- Without a doubt\n",
    "- Outlook good\n",
    "- Signs point to yes\n",
    "- Reply hazy, try again\n",
    "- Ask again later\n",
    "- Do not count on it\n",
    "- Outlook not so good\n",
    "\n",
    "To help make this go faster, I have already imported the random module, and made the list of possible answers in the next cell. You may copy and paste this list into your function.\n",
    "\n",
    "When you are finished, pass a question and a number of shakes (though not too many, to avoid memory issues) to the function to see the future!"
   ]
  },
  {
   "cell_type": "code",
   "execution_count": null,
   "id": "7ea3fda4",
   "metadata": {},
   "outputs": [],
   "source": [
    "import random\n",
    "\n",
    "answers = ['It is certain',\n",
    "           'Without a doubt',\n",
    "           'Outlook good',\n",
    "           'Signs point to yes',\n",
    "           'Reply hazy, try again',\n",
    "           'Ask again later',\n",
    "           'Do not count on it',\n",
    "           'Outlook not so good']"
   ]
  },
  {
   "cell_type": "code",
   "execution_count": null,
   "id": "885bd8cf",
   "metadata": {},
   "outputs": [],
   "source": []
  },
  {
   "cell_type": "code",
   "execution_count": null,
   "id": "42ed463b",
   "metadata": {},
   "outputs": [],
   "source": []
  },
  {
   "cell_type": "markdown",
   "id": "c1eb8b92",
   "metadata": {},
   "source": [
    "## Part 2: Navigating Data (50 points)\n",
    "\n",
    "This problem will make use of the `car_crashes` dataset in the seaborn module. This dataset looks at accidents in the states of the USA. This is the data set of the cause of the accidents and the cost to the accident insurance companies. The features of the dataset are:\n",
    "\n",
    "- `total`: Number of drivers involved in fatal collisions per billion miles\n",
    "- `speeding`: Percentage Of Drivers Involved In Fatal Collisions Who Were Speeding\n",
    "- `alcohol`: Percentage Of Drivers Involved In Fatal Collisions Who Were Alcohol-Impaired\n",
    "- `not_distracted`: Percentage Of Drivers Involved In Fatal Collisions Who Were Not Distracted\n",
    "- `no_previous`: Percentage Of Drivers Involved In Fatal Collisions Who Had Not Been Involved In Any Previous Accidents\n",
    "- `ins_premium`: Car Insurance Premiums\n",
    "- `ins_losses`: Losses incurred by insurance companies for collisions per insured driver\n",
    "- `abbrev`: USA states\n",
    "\n",
    "Each part of this problem has you explore the dataset in different ways, including indexing and summarizing statistically. The data are loaded below."
   ]
  },
  {
   "cell_type": "code",
   "execution_count": null,
   "id": "c5b2d08d",
   "metadata": {},
   "outputs": [],
   "source": [
    "import seaborn as sns\n",
    "\n",
    "df_crash = sns.load_dataset('car_crashes')\n",
    "df_crash.head()"
   ]
  },
  {
   "cell_type": "markdown",
   "id": "2ecdbe2a",
   "metadata": {},
   "source": [
    "#### Part 2.1 (5 pts)\n",
    "Return the first 3 rows of df_crash"
   ]
  },
  {
   "cell_type": "code",
   "execution_count": null,
   "id": "68ea30a0",
   "metadata": {},
   "outputs": [],
   "source": []
  },
  {
   "cell_type": "markdown",
   "id": "5b11c985",
   "metadata": {},
   "source": [
    "#### Part 2.2 (5 pts)\n",
    "Return a dataframe with only the `total`, `ins_premium`, `ins_losses` and `abbrev`"
   ]
  },
  {
   "cell_type": "code",
   "execution_count": null,
   "id": "6902e769",
   "metadata": {},
   "outputs": [],
   "source": []
  },
  {
   "cell_type": "markdown",
   "id": "cd32d398",
   "metadata": {},
   "source": [
    "#### Part 2.3 (5 pts)\n",
    "Return a dataframe containing all features for only those states with `ins_premium >= 1000`"
   ]
  },
  {
   "cell_type": "code",
   "execution_count": null,
   "id": "8c5da944",
   "metadata": {},
   "outputs": [],
   "source": []
  },
  {
   "cell_type": "markdown",
   "id": "ac020e4d",
   "metadata": {},
   "source": [
    "#### Part 2.4 (5 pts)\n",
    "Return a dataframe of those states whose `alcohol` value is smaller than average (within the dataset)"
   ]
  },
  {
   "cell_type": "code",
   "execution_count": null,
   "id": "c7398692",
   "metadata": {},
   "outputs": [],
   "source": []
  },
  {
   "cell_type": "markdown",
   "id": "bfab3e92",
   "metadata": {},
   "source": [
    "#### Part 2.5 (5 pts)\n",
    "Add a column called `region` to df_crash, where the regions are defined as in the next cell."
   ]
  },
  {
   "cell_type": "code",
   "execution_count": null,
   "id": "2d1df9e0",
   "metadata": {},
   "outputs": [],
   "source": [
    "west = ['AK', 'HI', 'CA', 'OR', 'WA', 'ID', 'NV', 'UT', 'CO', 'WY', 'MT']\n",
    "southwest = ['AZ', 'NM', 'TX', 'OK']\n",
    "midwest = ['ND', 'SD', 'NE', 'KS', 'MN', 'IA', 'MO', 'WI', 'IL', 'IN', 'MI', 'OH']\n",
    "southeast = ['AR', 'LA', 'MS', 'TN', 'KY', 'AL', 'GA', 'FL', 'SC', 'NC', 'VA', 'WV', 'DE', 'MD', 'DC']\n",
    "northeast = ['PA', 'NJ', 'CT', 'RI', 'NY', 'MA', 'NH', 'VT', 'ME']"
   ]
  },
  {
   "cell_type": "code",
   "execution_count": null,
   "id": "a96c6a4f",
   "metadata": {},
   "outputs": [],
   "source": []
  },
  {
   "cell_type": "markdown",
   "id": "965a4cb0",
   "metadata": {},
   "source": [
    "#### Part 2.6 (5 pts)\n",
    "Get a series which corresponds to the \"median\" of each numerical feature."
   ]
  },
  {
   "cell_type": "code",
   "execution_count": null,
   "id": "c23206d0",
   "metadata": {},
   "outputs": [],
   "source": []
  },
  {
   "cell_type": "markdown",
   "id": "e3e635bf",
   "metadata": {},
   "source": [
    "#### Part 2.7 (5 pts)\n",
    "Calculate and display the average `speeding` for each `region` (as created in 2.5)."
   ]
  },
  {
   "cell_type": "code",
   "execution_count": null,
   "id": "40b29fe0",
   "metadata": {},
   "outputs": [],
   "source": []
  },
  {
   "cell_type": "markdown",
   "id": "8ade429e",
   "metadata": {},
   "source": [
    "#### Part 2.8 (5 pts)\n",
    "Build a dataframe of the average numerical features in every region (dataframe should thus have 5 rows, one for each region. Do not include non-numeric features which can't be averaged, like `abbrev`)."
   ]
  },
  {
   "cell_type": "code",
   "execution_count": null,
   "id": "69e6cf68",
   "metadata": {},
   "outputs": [],
   "source": []
  },
  {
   "cell_type": "markdown",
   "id": "7162edf1",
   "metadata": {},
   "source": [
    "#### Part 2.9 (5 pts)\n",
    "Are states with a higher `alcohol` value associated with states that have higher `ins_premium` values? Justify your response with one or two sentences by citing some observations from the data frame"
   ]
  },
  {
   "cell_type": "code",
   "execution_count": null,
   "id": "5f7edb9a",
   "metadata": {},
   "outputs": [],
   "source": []
  },
  {
   "cell_type": "markdown",
   "id": "83d33cbb",
   "metadata": {},
   "source": [
    "#### Part 2.10 (5 pts)\n",
    "Look at the [df.sort_values](https://pandas.pydata.org/docs/reference/api/pandas.DataFrame.sort_values.html) function, and then use it to sort the original `df_crash` by `alcohol` from highest to lowest."
   ]
  },
  {
   "cell_type": "code",
   "execution_count": null,
   "id": "44c8c36b",
   "metadata": {},
   "outputs": [],
   "source": []
  },
  {
   "cell_type": "markdown",
   "id": "d185890a",
   "metadata": {},
   "source": [
    "## Part 3: Matplotlib / seaborn (40 pts)\n",
    "\n",
    "Using the `df_crash` DataFrame you created in the previous part **that includes** `region`, create a single plot (no subplots) which:\n",
    "- scatters `alcohol` on the x axis and `ins_premium` on the y axis\n",
    "- color code the observations for each state based on the region:\n",
    "    - all west states are represented with some color\n",
    "    - all southwest states are represented with some color\n",
    "    - etc.\n",
    "- give your graph all the appropriate labels (including a title) and manage any aesthetic / readability issues which come up\n",
    "- print your final output graph to a pdf file \n",
    "    - You need only submit the `.ipynb` file\n",
    "        - we'll just look at the code which generates the `.pdf`\n",
    "\n",
    "**Use matplotlib / seaborn (not plotly)** to accomplish this task.\n",
    "\n",
    "**Note that you will be graded on the graph as well as the style (See Python Style Guide on Canvas) of the python code which produces it.  Be sure to document your code clearly by**\n",
    " - chunking your code a few lines at a time and adding comments to describe what they do\n",
    " - giving your variables clear names"
   ]
  },
  {
   "cell_type": "code",
   "execution_count": null,
   "id": "cca0f804",
   "metadata": {},
   "outputs": [],
   "source": []
  }
 ],
 "metadata": {
  "kernelspec": {
   "display_name": "Python 3 (ipykernel)",
   "language": "python",
   "name": "python3"
  },
  "language_info": {
   "codemirror_mode": {
    "name": "ipython",
    "version": 3
   },
   "file_extension": ".py",
   "mimetype": "text/x-python",
   "name": "python",
   "nbconvert_exporter": "python",
   "pygments_lexer": "ipython3",
   "version": "3.10.2"
  }
 },
 "nbformat": 4,
 "nbformat_minor": 5
}
